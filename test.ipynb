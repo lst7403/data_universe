{
 "cells": [
  {
   "cell_type": "code",
   "execution_count": 59,
   "metadata": {},
   "outputs": [
    {
     "name": "stdout",
     "output_type": "stream",
     "text": [
      "cos sim: -0.8660254037844387\n",
      "Coordinates: x = -4.8296, y = 1.2941\n"
     ]
    }
   ],
   "source": [
    "import numpy as np\n",
    "\n",
    "def calculate_special_coordinates_with_cos_sim(cos_sim, r):\n",
    "    tem_rad = -np.arccos(cos_sim)\n",
    "    if cos_sim >= 0:\n",
    "        theta_rad = tem_rad+np.pi/4\n",
    "    else:\n",
    "        theta_rad = tem_rad-np.pi/4\n",
    "        # Calculate x and y coordinates using NumPy's cos and sin functions\n",
    "    x = r * np.cos(theta_rad)\n",
    "    y = r * np.sin(theta_rad)\n",
    "    \n",
    "    return x, y\n",
    "\n",
    "\n",
    "angle_deg = 150\n",
    "cos_sim = np.cos(np.deg2rad(angle_deg))\n",
    "print(f\"cos sim: {cos_sim}\")\n",
    "\n",
    "r = np.sqrt(2)  #\n",
    "r = 5\n",
    "\n",
    "x, y = calculate_special_coordinates_with_cos_sim(cos_sim, r)\n",
    "print(f\"Coordinates: x = {round(x,4)}, y = {round(y,4)}\")\n"
   ]
  },
  {
   "cell_type": "code",
   "execution_count": 25,
   "metadata": {},
   "outputs": [],
   "source": []
  }
 ],
 "metadata": {
  "kernelspec": {
   "display_name": "Python 3",
   "language": "python",
   "name": "python3"
  },
  "language_info": {
   "codemirror_mode": {
    "name": "ipython",
    "version": 3
   },
   "file_extension": ".py",
   "mimetype": "text/x-python",
   "name": "python",
   "nbconvert_exporter": "python",
   "pygments_lexer": "ipython3",
   "version": "3.11.9"
  }
 },
 "nbformat": 4,
 "nbformat_minor": 2
}
