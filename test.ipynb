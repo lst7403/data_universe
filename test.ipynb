{
 "cells": [
  {
   "cell_type": "code",
   "execution_count": 31,
   "metadata": {},
   "outputs": [
    {
     "name": "stdout",
     "output_type": "stream",
     "text": [
      "Cosine Similarity: (np.float64(0.9999999999999998), np.float64(2.9802322387695312e-08))\n"
     ]
    }
   ],
   "source": [
    "import numpy as np\n",
    "\n",
    "def cosine_similarity_and_l2(vec1, vec2):\n",
    "        # Calculate dot product between vec1 and vec2\n",
    "        dot_product = np.dot(vec1, vec2)\n",
    "        \n",
    "        # Calculate magnitudes (norms) of vec1 and vec2\n",
    "        norm_vec1 = np.linalg.norm(vec1)\n",
    "        norm_vec2 = np.linalg.norm(vec2)\n",
    "\n",
    "        cos = dot_product / (norm_vec1 * norm_vec2)\n",
    "        ecul = np.sqrt(norm_vec1**2 + norm_vec2**2 - (2 * norm_vec1 * norm_vec2 * cos))\n",
    "    \n",
    "        return cos, ecul\n",
    "\n",
    "# Example usage\n",
    "vector1 = [1,1]\n",
    "vector2 = [1,1]\n",
    "\n",
    "similarity = cosine_similarity_and_l2(vector1, vector2)\n",
    "print(f\"Cosine Similarity: {similarity}\")\n",
    "\n"
   ]
  }
 ],
 "metadata": {
  "kernelspec": {
   "display_name": "Python 3",
   "language": "python",
   "name": "python3"
  },
  "language_info": {
   "codemirror_mode": {
    "name": "ipython",
    "version": 3
   },
   "file_extension": ".py",
   "mimetype": "text/x-python",
   "name": "python",
   "nbconvert_exporter": "python",
   "pygments_lexer": "ipython3",
   "version": "3.12.5"
  }
 },
 "nbformat": 4,
 "nbformat_minor": 2
}
