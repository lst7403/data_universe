{
 "cells": [
  {
   "cell_type": "code",
   "execution_count": 2,
   "metadata": {},
   "outputs": [],
   "source": [
    "import sys\n",
    "import numpy as np"
   ]
  },
  {
   "cell_type": "code",
   "execution_count": 7,
   "metadata": {},
   "outputs": [
    {
     "name": "stdout",
     "output_type": "stream",
     "text": [
      "0 : -1\n",
      "0 : -2\n",
      "0 : -3\n",
      "0 : -4\n",
      "0 : -5\n",
      "1 : -1\n",
      "1 : -2\n",
      "1 : -3\n",
      "1 : -4\n",
      "2 : -1\n",
      "2 : -2\n",
      "2 : -3\n",
      "3 : -1\n",
      "3 : -2\n",
      "4 : -1\n"
     ]
    }
   ],
   "source": [
    "a = [0,1,2,3,4,5]\n",
    "g = []\n",
    "\n",
    "while a:\n",
    "    cur = a.pop(0)\n",
    "    for i in a:\n",
    "        print(cur,\":\", cur-i)"
   ]
  }
 ],
 "metadata": {
  "kernelspec": {
   "display_name": "Python 3",
   "language": "python",
   "name": "python3"
  },
  "language_info": {
   "codemirror_mode": {
    "name": "ipython",
    "version": 3
   },
   "file_extension": ".py",
   "mimetype": "text/x-python",
   "name": "python",
   "nbconvert_exporter": "python",
   "pygments_lexer": "ipython3",
   "version": "3.12.5"
  }
 },
 "nbformat": 4,
 "nbformat_minor": 2
}
