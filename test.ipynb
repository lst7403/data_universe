{
 "cells": [
  {
   "cell_type": "code",
<<<<<<< HEAD
   "execution_count": 31,
=======
   "execution_count": 59,
>>>>>>> fd9e51e3199e00148029a5cc872de65d753865a7
   "metadata": {},
   "outputs": [
    {
     "name": "stdout",
     "output_type": "stream",
     "text": [
<<<<<<< HEAD
      "Cosine Similarity: (np.float64(0.9999999999999998), np.float64(2.9802322387695312e-08))\n"
=======
      "cos sim: -0.8660254037844387\n",
      "Coordinates: x = -4.8296, y = 1.2941\n"
>>>>>>> fd9e51e3199e00148029a5cc872de65d753865a7
     ]
    }
   ],
   "source": [
    "import numpy as np\n",
    "\n",
<<<<<<< HEAD
    "def cosine_similarity_and_l2(vec1, vec2):\n",
    "        # Calculate dot product between vec1 and vec2\n",
    "        dot_product = np.dot(vec1, vec2)\n",
    "        \n",
    "        # Calculate magnitudes (norms) of vec1 and vec2\n",
    "        norm_vec1 = np.linalg.norm(vec1)\n",
    "        norm_vec2 = np.linalg.norm(vec2)\n",
    "\n",
    "        cos = dot_product / (norm_vec1 * norm_vec2)\n",
    "        ecul = np.sqrt(norm_vec1**2 + norm_vec2**2 - (2 * norm_vec1 * norm_vec2 * cos))\n",
    "    \n",
    "        return cos, ecul\n",
    "\n",
    "# Example usage\n",
    "vector1 = [1,1]\n",
    "vector2 = [1,1]\n",
    "\n",
    "similarity = cosine_similarity_and_l2(vector1, vector2)\n",
    "print(f\"Cosine Similarity: {similarity}\")\n",
    "\n"
=======
    "def calculate_special_coordinates_with_cos_sim(cos_sim, r):\n",
    "    tem_rad = -np.arccos(cos_sim)\n",
    "    if cos_sim >= 0:\n",
    "        theta_rad = tem_rad+np.pi/4\n",
    "    else:\n",
    "        theta_rad = tem_rad-np.pi/4\n",
    "        # Calculate x and y coordinates using NumPy's cos and sin functions\n",
    "    x = r * np.cos(theta_rad)\n",
    "    y = r * np.sin(theta_rad)\n",
    "    \n",
    "    return x, y\n",
    "\n",
    "\n",
    "angle_deg = 150\n",
    "cos_sim = np.cos(np.deg2rad(angle_deg))\n",
    "print(f\"cos sim: {cos_sim}\")\n",
    "\n",
    "r = np.sqrt(2)  #\n",
    "r = 5\n",
    "\n",
    "x, y = calculate_special_coordinates_with_cos_sim(cos_sim, r)\n",
    "print(f\"Coordinates: x = {round(x,4)}, y = {round(y,4)}\")\n"
>>>>>>> fd9e51e3199e00148029a5cc872de65d753865a7
   ]
  },
  {
   "cell_type": "code",
   "execution_count": 25,
   "metadata": {},
   "outputs": [],
   "source": []
  }
 ],
 "metadata": {
  "kernelspec": {
   "display_name": "Python 3",
   "language": "python",
   "name": "python3"
  },
  "language_info": {
   "codemirror_mode": {
    "name": "ipython",
    "version": 3
   },
   "file_extension": ".py",
   "mimetype": "text/x-python",
   "name": "python",
   "nbconvert_exporter": "python",
   "pygments_lexer": "ipython3",
   "version": "3.11.9"
  }
 },
 "nbformat": 4,
 "nbformat_minor": 2
}
