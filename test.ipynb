{
 "cells": [
  {
   "cell_type": "code",
   "execution_count": 19,
   "metadata": {},
   "outputs": [],
   "source": [
    "import pickle\n",
    "\n",
    "# data structure\n",
    "class node:\n",
    "    def __init__(self, entity, centre, index = None, up_lv = None, down_lv = None):\n",
    "        self.entity = entity # \n",
    "        self.centre = centre # cluster centre (vector)\n",
    "        self.index = index # cashe of search result, first 100? result close to centre (list of index)\n",
    "        self.up_lv = up_lv # super-cluster (node)\n",
    "        self.down_lv = down_lv # sub-cluster (lsit of node)\n",
    "\n",
    "    def info(self):\n",
    "        print(f\"entity:{self.entity}\\ndown_lv: {len(self.down_lv) if self.down_lv else 0}\\nno. of node: {len(self.index)}\\ncentre:{self.centre}\",end=\"\\n\")\n",
    "\n",
    "with open(\"tree\", 'rb') as f:\n",
    "    a = pickle.load(f)"
   ]
  },
  {
   "cell_type": "code",
   "execution_count": 20,
   "metadata": {},
   "outputs": [
    {
     "name": "stdout",
     "output_type": "stream",
     "text": [
      "<__main__.node object at 0x000001D79A45BFB0>\n",
      "entity:[('Popularity', np.float64(0.4390646464646465)), ('acousticness', np.float64(0.25001819121686747)), ('danceability', np.float64(0.525892245960308)), ('duration_in min/ms', np.float64(0.1420264751528168)), ('energy', np.float64(0.6614449632659625)), ('instrumentalness', np.float64(0.13598253540763053)), ('key', np.float64(0.4774181818181818)), ('liveness', np.float64(0.1839971995094031)), ('loudness', np.float64(0.7539839016210174)), ('mode', np.float64(0.639)), ('speechiness', np.float64(0.06208811372334608)), ('tempo', np.float64(0.48415781137508984)), ('time_signature', np.float64(0.7291)), ('valence', np.float64(0.4785341465957668))]\n",
      "down_lv: 2\n",
      "no. of node: 5000\n",
      "centre:[0.43906465 0.52589225 0.66144496 0.47741818 0.7539839  0.639\n",
      " 0.06208811 0.25001819 0.13598254 0.1839972  0.47853415 0.48415781\n",
      " 0.14202648 0.7291    ]\n"
     ]
    }
   ],
   "source": [
    "print(a)\n",
    "a.info()"
   ]
  },
  {
   "cell_type": "code",
   "execution_count": 21,
   "metadata": {},
   "outputs": [
    {
     "name": "stdout",
     "output_type": "stream",
     "text": [
      "entity:[('mode', np.float64(0.9999999999999976)), ('loudness', np.float64(0.7510043304357541)), ('time_signature', np.float64(0.7276995305164318)), ('energy', np.float64(0.6539165570053699)), ('danceability', np.float64(0.5178013580282742)), ('tempo', np.float64(0.4849326071761802)), ('valence', np.float64(0.4760223337965676)), ('key', np.float64(0.4402617726561389)), ('Popularity', np.float64(0.4401795735129069)), ('acousticness', np.float64(0.2591143402624582)), ('liveness', np.float64(0.18605759203170325)), ('duration_in min/ms', np.float64(0.13730070766602334)), ('instrumentalness', np.float64(0.13463643548529014)), ('speechiness', np.float64(0.057539741822540846))]\n",
      "down_lv: 2\n",
      "no. of node: 3195\n",
      "centre:[0.44017957 0.51780136 0.65391656 0.44026177 0.75100433 1.\n",
      " 0.05753974 0.25911434 0.13463644 0.18605759 0.47602233 0.48493261\n",
      " 0.13730071 0.72769953]\n"
     ]
    }
   ],
   "source": [
    "cur = a.down_lv[0]\n",
    "cur.info()"
   ]
  }
 ],
 "metadata": {
  "kernelspec": {
   "display_name": "Python 3",
   "language": "python",
   "name": "python3"
  },
  "language_info": {
   "codemirror_mode": {
    "name": "ipython",
    "version": 3
   },
   "file_extension": ".py",
   "mimetype": "text/x-python",
   "name": "python",
   "nbconvert_exporter": "python",
   "pygments_lexer": "ipython3",
   "version": "3.12.5"
  }
 },
 "nbformat": 4,
 "nbformat_minor": 2
}
