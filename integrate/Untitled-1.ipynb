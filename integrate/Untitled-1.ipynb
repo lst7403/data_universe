{
 "cells": [
  {
   "cell_type": "code",
   "execution_count": 5,
   "metadata": {},
   "outputs": [
    {
     "name": "stdout",
     "output_type": "stream",
     "text": [
      "50.0\n"
     ]
    }
   ],
   "source": [
    "import numpy as np\n",
    "\n",
    "class LinearScaler:\n",
    "    def __init__(self, domain, range):\n",
    "        self.old_min = domain[0]\n",
    "        self.old_max = domain[1]\n",
    "        self.new_min = range[0]\n",
    "        self.new_max = range[1]\n",
    "\n",
    "    def scale(self, value):\n",
    "        return ((value - self.old_min) / (self.old_max - self.old_min)) * (self.new_max - self.new_min) + self.new_min\n",
    "\n",
    "# Example usage\n",
    "scaler = LinearScaler([0, 100], [0, 200])\n",
    "values = 25\n",
    "mapped_values = scaler.scale(values)\n",
    "\n",
    "print(mapped_values)\n"
   ]
  }
 ],
 "metadata": {
  "kernelspec": {
   "display_name": "Python 3",
   "language": "python",
   "name": "python3"
  },
  "language_info": {
   "codemirror_mode": {
    "name": "ipython",
    "version": 3
   },
   "file_extension": ".py",
   "mimetype": "text/x-python",
   "name": "python",
   "nbconvert_exporter": "python",
   "pygments_lexer": "ipython3",
   "version": "3.12.5"
  }
 },
 "nbformat": 4,
 "nbformat_minor": 2
}
