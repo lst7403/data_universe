{
 "cells": [
  {
   "cell_type": "code",
   "execution_count": 1,
   "metadata": {},
   "outputs": [],
   "source": [
    "import time\n",
    "import copy\n",
    "import random\n",
    "\n",
    "import pandas as pd\n",
    "import numpy as np\n",
    "from sklearn.preprocessing import MinMaxScaler\n",
    "from sklearn.cluster import KMeans\n",
    "\n",
    "from graph_tree_list_module import *\n"
   ]
  },
  {
   "cell_type": "code",
   "execution_count": 2,
   "metadata": {},
   "outputs": [],
   "source": [
    "raw = pd.read_csv(r'../Data/train.csv')\n",
    "# print(raw)\n",
    "\n",
    "random_seed = 42\n",
    "\n",
    "# print(list(raw.columns)[:])"
   ]
  },
  {
   "cell_type": "code",
   "execution_count": 3,
   "metadata": {},
   "outputs": [
    {
     "name": "stdout",
     "output_type": "stream",
     "text": [
      "(2000, 14)\n",
      "['Popularity', 'danceability', 'energy', 'key', 'loudness', 'mode', 'speechiness', 'acousticness', 'instrumentalness', 'liveness', 'valence', 'tempo', 'duration_in min/ms', 'time_signature']\n"
     ]
    }
   ],
   "source": [
    "data = raw.iloc[:,2:-1]\n",
    "data = data.fillna(0)\n",
    "data = data[:2000]\n",
    "print(data.shape)\n",
    "scaler = MinMaxScaler()\n",
    "normalized_data = scaler.fit_transform(data)\n",
    "\n",
    "# label\n",
    "y = raw.iloc[:,-1]\n",
    "# print(y)\n",
    "\n",
    "col_name = list(raw.columns)[2:-1]\n",
    "print(col_name)\n",
    "# print(normalized_data)"
   ]
  },
  {
   "cell_type": "code",
   "execution_count": 4,
   "metadata": {},
   "outputs": [],
   "source": [
    "data_min = scaler.data_min_\n",
    "data_max = scaler.data_max_\n",
    "\n",
    "# print(data_min, data_max)"
   ]
  },
  {
   "cell_type": "code",
   "execution_count": 5,
   "metadata": {},
   "outputs": [],
   "source": [
    "def test_query_generator():\n",
    "    return [random.uniform(data_min[i], data_max[i]) for i in range(len(data_max))]"
   ]
  },
  {
   "cell_type": "code",
   "execution_count": 6,
   "metadata": {},
   "outputs": [
    {
     "name": "stdout",
     "output_type": "stream",
     "text": [
      "[np.float64(36.35762598834591), np.float64(0.8545009828238505), np.float64(0.6860588906624249), np.float64(1.2639145173370645), np.float64(-30.90716389567639), np.float64(0.7199732022995978), np.float64(0.8765584908373518), np.float64(0.5413637674682404), np.float64(0.23993929546074183), np.float64(0.3676540157998898), np.float64(0.17093237568443084), np.float64(171.712164134283), np.float64(824290.2792509845), np.float64(2.9810343844826592)]\n"
     ]
    }
   ],
   "source": [
    "print(test_query_generator())"
   ]
  },
  {
   "cell_type": "code",
   "execution_count": 7,
   "metadata": {},
   "outputs": [],
   "source": [
    "import time\n",
    "\n",
    "class Timer:\n",
    "    def __enter__(self):\n",
    "        self.start_time = time.perf_counter()\n",
    "        return self\n",
    "\n",
    "    def __exit__(self, *args):\n",
    "        self.end_time = time.perf_counter()\n",
    "        self.elapsed_time = self.end_time - self.start_time\n",
    "        print(f\"Elapsed time: {self.elapsed_time} seconds\")"
   ]
  },
  {
   "cell_type": "code",
   "execution_count": 8,
   "metadata": {},
   "outputs": [
    {
     "name": "stdout",
     "output_type": "stream",
     "text": [
      "cur node 0\n",
      "optimal K 2\n",
      "cur node 1\n",
      "optimal K 6\n",
      "cur node 2\n",
      "optimal K 6\n",
      "cur node 3\n",
      "optimal K 2\n",
      "cur node 4\n",
      "optimal K 2\n",
      "cur node 5\n",
      "cur node 6\n",
      "cur node 7\n",
      "optimal K 2\n",
      "cur node 8\n",
      "optimal K 9\n",
      "cur node 9\n",
      "optimal K 2\n",
      "cur node 10\n",
      "optimal K 2\n",
      "cur node 11\n",
      "optimal K 2\n",
      "cur node 12\n",
      "optimal K 2\n",
      "cur node 13\n",
      "optimal K 4\n",
      "cur node 14\n",
      "optimal K 2\n",
      "cur node 15\n",
      "optimal K 4\n",
      "cur node 16\n",
      "cur node 17\n",
      "optimal K 2\n",
      "cur node 18\n",
      "optimal K 2\n",
      "cur node 19\n",
      "cur node 20\n",
      "optimal K 2\n",
      "cur node 21\n",
      "cur node 22\n",
      "cur node 23\n",
      "cur node 24\n",
      "cur node 25\n",
      "cur node 26\n",
      "cur node 27\n",
      "cur node 28\n",
      "cur node 29\n",
      "cur node 30\n",
      "optimal K 2\n",
      "cur node 31\n",
      "optimal K 2\n",
      "cur node 32\n",
      "optimal K 2\n",
      "cur node 33\n",
      "optimal K 2\n",
      "cur node 34\n",
      "optimal K 2\n",
      "cur node 35\n",
      "cur node 36\n",
      "optimal K 2\n",
      "cur node 37\n",
      "optimal K 2\n",
      "cur node 38\n",
      "cur node 39\n",
      "cur node 40\n",
      "cur node 41\n",
      "cur node 42\n",
      "cur node 43\n",
      "cur node 44\n",
      "cur node 45\n",
      "cur node 46\n",
      "cur node 47\n",
      "cur node 48\n",
      "cur node 49\n",
      "cur node 50\n",
      "cur node 51\n",
      "cur node 52\n",
      "cur node 53\n",
      "cur node 54\n",
      "optimal K 2\n",
      "cur node 55\n",
      "optimal K 3\n",
      "cur node 56\n",
      "optimal K 3\n",
      "cur node 57\n",
      "optimal K 3\n",
      "cur node 58\n",
      "cur node 59\n",
      "cur node 60\n",
      "cur node 61\n",
      "cur node 62\n",
      "cur node 63\n",
      "cur node 64\n",
      "optimal K 2\n",
      "cur node 65\n",
      "optimal K 2\n",
      "cur node 66\n",
      "cur node 67\n",
      "optimal K 2\n",
      "cur node 68\n",
      "optimal K 2\n",
      "cur node 69\n",
      "cur node 70\n",
      "cur node 71\n",
      "cur node 72\n",
      "cur node 73\n",
      "cur node 74\n",
      "cur node 75\n",
      "cur node 76\n",
      "cur node 77\n",
      "cur node 78\n",
      "cur node 79\n",
      "optimal K 4\n",
      "cur node 80\n",
      "cur node 81\n",
      "cur node 82\n",
      "cur node 83\n",
      "optimal K 2\n",
      "cur node 84\n",
      "cur node 85\n",
      "cur node 86\n",
      "cur node 87\n",
      "cur node 88\n",
      "cur node 89\n",
      "cur node 90\n",
      "cur node 91\n",
      "cur node 92\n",
      "Elapsed time: 2.548783399999593 seconds\n"
     ]
    }
   ],
   "source": [
    "test_tree = graph_tree(attr_name = col_name, X = normalized_data, X_maxmin=[scaler.data_max_,scaler.data_min_])\n",
    "# test_tree.show_root()\n",
    "with Timer():\n",
    "    test_tree.build_tree(min_threshold_for_clustering=70)"
   ]
  },
  {
   "cell_type": "code",
   "execution_count": 9,
   "metadata": {},
   "outputs": [],
   "source": [
    "# import pickle\n",
    "\n",
    "# with open(\"graph_tree.pkl\", 'wb') as f:\n",
    "#     pickle.dump(test_tree, f)"
   ]
  },
  {
   "cell_type": "code",
   "execution_count": 10,
   "metadata": {},
   "outputs": [
    {
     "name": "stdout",
     "output_type": "stream",
     "text": [
      "Elapsed time: 0.001875099999779195 seconds\n",
      "39\n"
     ]
    }
   ],
   "source": [
    "seaching = test_query_generator()\n",
    "with Timer():\n",
    "    cur = test_tree.search(seaching)\n",
    "print(cur.id)"
   ]
  },
  {
   "cell_type": "code",
   "execution_count": 11,
   "metadata": {},
   "outputs": [
    {
     "name": "stdout",
     "output_type": "stream",
     "text": [
      "generate cos sim, ecul dist, and nodes sorted by cos sim\n",
      "Elapsed time: 0.0011542000002009445 seconds\n",
      "dict_keys(['sorted_cos_sim', 'euclide_dist', 'sorted_nodes'])\n",
      "[np.float64(-0.692381164354358), np.float64(-0.5957682990071481), np.float64(-0.5203709180975703), np.float64(-0.50415621287486), np.float64(-0.45528594593212984), np.float64(-0.4441102447385581), np.float64(-0.3931444919706754), np.float64(-0.3408978184417081), np.float64(-0.24420649358545185), np.float64(-0.23297574631837611), np.float64(-0.1901671681112758), np.float64(-0.09800860437144247), np.float64(0.07195162841033621), np.float64(0.12676534828510805), np.float64(0.170747981083863), np.float64(0.22363187080319194), np.float64(0.2738678998572105), np.float64(0.29677722327096256), np.float64(0.4703802879707088), np.float64(0.537921980009141), np.float64(0.5950050487226229), np.float64(0.6111899980469888), np.float64(1.0)]\n",
      "[np.float64(1.0653642244759367), np.float64(1.0491737952990914), np.float64(0.927660377440605), np.float64(0.9634591222894663), np.float64(0.8456479924301866), np.float64(0.8687870333204134), np.float64(1.0711422805238746), np.float64(0.8631645853983082), np.float64(0.9335154056325146), np.float64(1.1491334601575138), np.float64(0.7740335241266064), np.float64(0.9175069589579519), np.float64(0.846066205605512), np.float64(0.7813189715024373), np.float64(0.7996191666928922), np.float64(0.6600156586005946), np.float64(0.6708678932571053), np.float64(0.6316853917231163), np.float64(0.6436659884771365), np.float64(0.8914594055288031), np.float64(0.5388077475101941), np.float64(0.5197713888951546), np.float64(0.0)]\n",
      "[48, 50, 51, 46, 49, 29, 5, 21, 47, 26, 45, 44, 23, 25, 27, 16, 24, 22, 53, 6, 28, 52, 19]\n"
     ]
    }
   ],
   "source": [
    "with Timer():\n",
    "    res = test_tree.get_sorted_node_within_lv(test_tree.nodes[19].center, test_tree.nodes[1], lv=3)\n",
    "print(res.keys())\n",
    "print(res[\"sorted_cos_sim\"])\n",
    "print(res[\"euclide_dist\"])\n",
    "print([n.id for n in res[\"sorted_nodes\"]])\n"
   ]
  },
  {
   "cell_type": "code",
   "execution_count": 12,
   "metadata": {},
   "outputs": [
    {
     "name": "stdout",
     "output_type": "stream",
     "text": [
      "reflection_node: 0 at lv up: 2\n",
      "generate cos sim, ecul dist, and nodes sorted by cos sim\n",
      "{'sorted_cos_sim': [np.float64(-0.9092899077346077), np.float64(-0.5770682441093181), np.float64(-0.5452817212112238), np.float64(-0.06417972150519574), np.float64(0.09161981914967166), np.float64(0.1362661537536247), np.float64(0.2832378608651501), np.float64(0.3506029407419899), np.float64(0.5657069202390209), np.float64(0.6217135544759613), np.float64(0.6805262815513853), np.float64(0.9166602500820263)], 'euclide_dist': [np.float64(1.311773804353229), np.float64(1.4273204431734674), np.float64(1.2404095593602367), np.float64(1.128014131963656), np.float64(1.0169128689651175), np.float64(1.3215302824840762), np.float64(1.0711422805238744), np.float64(0.9368323526779849), np.float64(0.7441162428152408), np.float64(0.698610140003174), np.float64(0.8914594055288028), np.float64(0.3409382094778211)], 'sorted_nodes': [<graph_tree_list_module.Node object at 0x00000236212E49D0>, <graph_tree_list_module.Node object at 0x00000236219A3350>, <graph_tree_list_module.Node object at 0x00000236219A0990>, <graph_tree_list_module.Node object at 0x00000236212F5310>, <graph_tree_list_module.Node object at 0x000002362106A450>, <graph_tree_list_module.Node object at 0x00000236219A35D0>, <graph_tree_list_module.Node object at 0x00000236211560D0>, <graph_tree_list_module.Node object at 0x000002362120D150>, <graph_tree_list_module.Node object at 0x0000023621385810>, <graph_tree_list_module.Node object at 0x00000236219A1A10>, <graph_tree_list_module.Node object at 0x00000236219A2210>, <graph_tree_list_module.Node object at 0x00000236219A2090>]}\n",
      "{'sorted_cos_sim': [np.float64(-0.9092899077346077), np.float64(-0.5770682441093181), np.float64(-0.5452817212112238), np.float64(-0.06417972150519574), np.float64(0.09161981914967166), np.float64(0.1362661537536247), np.float64(0.2832378608651501), np.float64(0.3506029407419899), np.float64(0.5657069202390209), np.float64(0.6217135544759613), np.float64(0.6805262815513853), np.float64(0.9166602500820263)], 'euclide_dist': [np.float64(1.311773804353229), np.float64(1.4273204431734674), np.float64(1.2404095593602367), np.float64(1.128014131963656), np.float64(1.0169128689651175), np.float64(1.3215302824840762), np.float64(1.0711422805238744), np.float64(0.9368323526779849), np.float64(0.7441162428152408), np.float64(0.698610140003174), np.float64(0.8914594055288028), np.float64(0.3409382094778211)], 'sorted_nodes': [<graph_tree_list_module.Node object at 0x00000236212E49D0>, <graph_tree_list_module.Node object at 0x00000236219A3350>, <graph_tree_list_module.Node object at 0x00000236219A0990>, <graph_tree_list_module.Node object at 0x00000236212F5310>, <graph_tree_list_module.Node object at 0x000002362106A450>, <graph_tree_list_module.Node object at 0x00000236219A35D0>, <graph_tree_list_module.Node object at 0x00000236211560D0>, <graph_tree_list_module.Node object at 0x000002362120D150>, <graph_tree_list_module.Node object at 0x0000023621385810>, <graph_tree_list_module.Node object at 0x00000236219A1A10>, <graph_tree_list_module.Node object at 0x00000236219A2210>, <graph_tree_list_module.Node object at 0x00000236219A2090>]}\n",
      "[9, 14, 12, 11, 10, 13, 5, 4, 3, 8, 6, 7]\n"
     ]
    }
   ],
   "source": [
    "a = test_tree.get_midle_graph_data(19, lv_degree=3)\n",
    "print(a)\n",
    "print([n.id for n in a[\"sorted_nodes\"]])"
   ]
  },
  {
   "cell_type": "code",
   "execution_count": 13,
   "metadata": {},
   "outputs": [
    {
     "name": "stdout",
     "output_type": "stream",
     "text": [
      "[0, 1, 3, 15, 44, 68, 85, 93]\n",
      "[1, 2, 12, 29, 24, 17, 8]\n"
     ]
    }
   ],
   "source": [
    "a = test_tree.lv_start\n",
    "print(a)\n",
    "print([a[i+1]-a[i] for i in range(len(a)-1)])"
   ]
  },
  {
   "cell_type": "code",
   "execution_count": 14,
   "metadata": {},
   "outputs": [
    {
     "name": "stdout",
     "output_type": "stream",
     "text": [
      "└── 0\n",
      "    ├── 1\n",
      "    │   ├── 3\n",
      "    │   │   ├── 15\n",
      "    │   │   │   ├── 44\n",
      "    │   │   │   ├── 45\n",
      "    │   │   │   ├── 46\n",
      "    │   │   │   └── 47\n",
      "    │   │   └── 16\n",
      "    │   ├── 4\n",
      "    │   │   ├── 17\n",
      "    │   │   │   ├── 48\n",
      "    │   │   │   └── 49\n",
      "    │   │   └── 18\n",
      "    │   │       ├── 50\n",
      "    │   │       └── 51\n",
      "    │   ├── 5\n",
      "    │   ├── 6\n",
      "    │   ├── 7\n",
      "    │   │   ├── 19\n",
      "    │   │   └── 20\n",
      "    │   │       ├── 52\n",
      "    │   │       └── 53\n",
      "    │   └── 8\n",
      "    │       ├── 21\n",
      "    │       ├── 22\n",
      "    │       ├── 23\n",
      "    │       ├── 24\n",
      "    │       ├── 25\n",
      "    │       ├── 26\n",
      "    │       ├── 27\n",
      "    │       ├── 28\n",
      "    │       └── 29\n",
      "    └── 2\n",
      "        ├── 9\n",
      "        │   ├── 30\n",
      "        │   │   ├── 54\n",
      "        │   │   │   ├── 68\n",
      "        │   │   │   │   ├── 85\n",
      "        │   │   │   │   └── 86\n",
      "        │   │   │   └── 69\n",
      "        │   │   └── 55\n",
      "        │   │       ├── 70\n",
      "        │   │       ├── 71\n",
      "        │   │       └── 72\n",
      "        │   └── 31\n",
      "        │       ├── 56\n",
      "        │       │   ├── 73\n",
      "        │       │   ├── 74\n",
      "        │       │   └── 75\n",
      "        │       └── 57\n",
      "        │           ├── 76\n",
      "        │           ├── 77\n",
      "        │           └── 78\n",
      "        ├── 10\n",
      "        │   ├── 32\n",
      "        │   │   ├── 58\n",
      "        │   │   └── 59\n",
      "        │   └── 33\n",
      "        │       ├── 60\n",
      "        │       └── 61\n",
      "        ├── 11\n",
      "        │   ├── 34\n",
      "        │   │   ├── 62\n",
      "        │   │   └── 63\n",
      "        │   └── 35\n",
      "        ├── 12\n",
      "        │   ├── 36\n",
      "        │   │   ├── 64\n",
      "        │   │   │   ├── 79\n",
      "        │   │   │   │   ├── 87\n",
      "        │   │   │   │   ├── 88\n",
      "        │   │   │   │   ├── 89\n",
      "        │   │   │   │   └── 90\n",
      "        │   │   │   └── 80\n",
      "        │   │   └── 65\n",
      "        │   │       ├── 81\n",
      "        │   │       └── 82\n",
      "        │   └── 37\n",
      "        │       ├── 66\n",
      "        │       └── 67\n",
      "        │           ├── 83\n",
      "        │           │   ├── 91\n",
      "        │           │   └── 92\n",
      "        │           └── 84\n",
      "        ├── 13\n",
      "        │   ├── 38\n",
      "        │   ├── 39\n",
      "        │   ├── 40\n",
      "        │   └── 41\n",
      "        └── 14\n",
      "            ├── 42\n",
      "            └── 43\n"
     ]
    }
   ],
   "source": [
    "test_tree.print_tree(test_tree.nodes[0])"
   ]
  },
  {
   "cell_type": "code",
   "execution_count": 15,
   "metadata": {},
   "outputs": [
    {
     "name": "stdout",
     "output_type": "stream",
     "text": [
      "[0.44036364 0.5291267  0.65660264 0.47645455 0.76121848 0.6405\n",
      " 0.06197007 0.25581723 0.13625976 0.18137536 0.48564998 0.48213134\n",
      " 0.18333419 0.728875  ]\n"
     ]
    }
   ],
   "source": [
    "print(test_tree.nodes[0].center)"
   ]
  },
  {
   "cell_type": "code",
   "execution_count": 16,
   "metadata": {},
   "outputs": [
    {
     "ename": "AttributeError",
     "evalue": "'graph_tree' object has no attribute 'reflection_search'",
     "output_type": "error",
     "traceback": [
      "\u001b[1;31m---------------------------------------------------------------------------\u001b[0m",
      "\u001b[1;31mAttributeError\u001b[0m                            Traceback (most recent call last)",
      "Cell \u001b[1;32mIn[16], line 1\u001b[0m\n\u001b[1;32m----> 1\u001b[0m res \u001b[38;5;241m=\u001b[39m \u001b[43mtest_tree\u001b[49m\u001b[38;5;241;43m.\u001b[39;49m\u001b[43mreflection_search\u001b[49m(np\u001b[38;5;241m.\u001b[39mmean(normalized_data[:\u001b[38;5;241m100\u001b[39m], axis\u001b[38;5;241m=\u001b[39m\u001b[38;5;241m0\u001b[39m), node\u001b[38;5;241m=\u001b[39mtest_tree\u001b[38;5;241m.\u001b[39mnodes[\u001b[38;5;241m11\u001b[39m], degree\u001b[38;5;241m=\u001b[39m\u001b[38;5;241m2\u001b[39m)\n",
      "\u001b[1;31mAttributeError\u001b[0m: 'graph_tree' object has no attribute 'reflection_search'"
     ]
    }
   ],
   "source": [
    "res = test_tree.reflection_search(np.mean(normalized_data[:100], axis=0), node=test_tree.nodes[11], degree=2)"
   ]
  },
  {
   "cell_type": "code",
   "execution_count": 15,
   "metadata": {},
   "outputs": [
    {
     "data": {
      "text/plain": [
       "[[<graph_tree_list_module.Node at 0x24a0919b800>],\n",
       " array([0.45153535, 0.52339993, 0.68550112, 0.49472727, 0.76952637,\n",
       "        0.561     , 0.06974494, 0.27134241, 0.13702421, 0.19445554,\n",
       "        0.47458816, 0.49446303, 0.19104194, 0.73775   ]),\n",
       " [np.int64(934),\n",
       "  np.int64(461),\n",
       "  np.int64(767),\n",
       "  np.int64(1807),\n",
       "  np.int64(1065),\n",
       "  np.int64(915),\n",
       "  np.int64(107),\n",
       "  np.int64(1006),\n",
       "  np.int64(1318),\n",
       "  np.int64(803)]]"
      ]
     },
     "execution_count": 15,
     "metadata": {},
     "output_type": "execute_result"
    }
   ],
   "source": [
    "res"
   ]
  },
  {
   "cell_type": "code",
   "execution_count": 16,
   "metadata": {},
   "outputs": [
    {
     "name": "stdout",
     "output_type": "stream",
     "text": [
      "-- mine result0\n",
      "search number:  181\n",
      "hitted right result: 12\n",
      "-- kmeans result\n",
      "Counter({np.int32(4): 410, np.int32(2): 271, np.int32(6): 261, np.int32(1): 249, np.int32(8): 224, np.int32(0): 158, np.int32(5): 145, np.int32(7): 115, np.int32(3): 90, np.int32(9): 77})\n",
      "Counter({np.int32(2): 20, np.int32(4): 20, np.int32(6): 14, np.int32(1): 12, np.int32(8): 9, np.int32(5): 7, np.int32(0): 6, np.int32(3): 6, np.int32(7): 5, np.int32(9): 1})\n",
      "belongs to group:  2 \n",
      "\n",
      "-- mine result100\n",
      "search number:  2000\n",
      "hitted right result: 100\n",
      "-- kmeans result\n",
      "Counter({np.int32(4): 410, np.int32(2): 271, np.int32(6): 261, np.int32(1): 249, np.int32(8): 224, np.int32(0): 158, np.int32(5): 145, np.int32(7): 115, np.int32(3): 90, np.int32(9): 77})\n",
      "Counter({np.int32(4): 22, np.int32(6): 11, np.int32(1): 11, np.int32(2): 11, np.int32(5): 10, np.int32(0): 10, np.int32(7): 8, np.int32(9): 7, np.int32(8): 7, np.int32(3): 3})\n",
      "belongs to group:  4 \n",
      "\n",
      "-- mine result200\n",
      "search number:  2000\n",
      "hitted right result: 100\n",
      "-- kmeans result\n",
      "Counter({np.int32(4): 410, np.int32(2): 271, np.int32(6): 261, np.int32(1): 249, np.int32(8): 224, np.int32(0): 158, np.int32(5): 145, np.int32(7): 115, np.int32(3): 90, np.int32(9): 77})\n",
      "Counter({np.int32(4): 15, np.int32(6): 15, np.int32(2): 15, np.int32(8): 11, np.int32(1): 10, np.int32(0): 9, np.int32(3): 9, np.int32(7): 6, np.int32(5): 5, np.int32(9): 5})\n",
      "belongs to group:  4 \n",
      "\n",
      "-- mine result300\n",
      "search number:  2000\n",
      "hitted right result: 100\n",
      "-- kmeans result\n",
      "Counter({np.int32(4): 410, np.int32(2): 271, np.int32(6): 261, np.int32(1): 249, np.int32(8): 224, np.int32(0): 158, np.int32(5): 145, np.int32(7): 115, np.int32(3): 90, np.int32(9): 77})\n",
      "Counter({np.int32(4): 24, np.int32(6): 16, np.int32(2): 14, np.int32(8): 14, np.int32(1): 8, np.int32(5): 6, np.int32(0): 6, np.int32(7): 6, np.int32(9): 3, np.int32(3): 3})\n",
      "belongs to group:  4 \n",
      "\n",
      "-- mine result400\n",
      "search number:  2000\n",
      "hitted right result: 100\n",
      "-- kmeans result\n",
      "Counter({np.int32(4): 410, np.int32(2): 271, np.int32(6): 261, np.int32(1): 249, np.int32(8): 224, np.int32(0): 158, np.int32(5): 145, np.int32(7): 115, np.int32(3): 90, np.int32(9): 77})\n",
      "Counter({np.int32(4): 21, np.int32(8): 16, np.int32(1): 14, np.int32(6): 14, np.int32(2): 11, np.int32(5): 10, np.int32(0): 7, np.int32(7): 5, np.int32(3): 2})\n",
      "belongs to group:  4 \n",
      "\n",
      "-- mine result500\n",
      "search number:  361\n",
      "hitted right result: 18\n",
      "-- kmeans result\n",
      "Counter({np.int32(4): 410, np.int32(2): 271, np.int32(6): 261, np.int32(1): 249, np.int32(8): 224, np.int32(0): 158, np.int32(5): 145, np.int32(7): 115, np.int32(3): 90, np.int32(9): 77})\n",
      "Counter({np.int32(4): 27, np.int32(2): 15, np.int32(1): 14, np.int32(6): 13, np.int32(5): 8, np.int32(8): 8, np.int32(0): 6, np.int32(7): 5, np.int32(9): 3, np.int32(3): 1})\n",
      "belongs to group:  4 \n",
      "\n",
      "-- mine result600\n",
      "search number:  2000\n",
      "hitted right result: 100\n",
      "-- kmeans result\n",
      "Counter({np.int32(4): 410, np.int32(2): 271, np.int32(6): 261, np.int32(1): 249, np.int32(8): 224, np.int32(0): 158, np.int32(5): 145, np.int32(7): 115, np.int32(3): 90, np.int32(9): 77})\n",
      "Counter({np.int32(4): 18, np.int32(1): 16, np.int32(8): 13, np.int32(2): 12, np.int32(6): 10, np.int32(9): 9, np.int32(3): 8, np.int32(5): 7, np.int32(0): 5, np.int32(7): 2})\n",
      "belongs to group:  4 \n",
      "\n",
      "-- mine result700\n",
      "search number:  2000\n",
      "hitted right result: 100\n",
      "-- kmeans result\n",
      "Counter({np.int32(4): 410, np.int32(2): 271, np.int32(6): 261, np.int32(1): 249, np.int32(8): 224, np.int32(0): 158, np.int32(5): 145, np.int32(7): 115, np.int32(3): 90, np.int32(9): 77})\n",
      "Counter({np.int32(4): 24, np.int32(1): 14, np.int32(2): 12, np.int32(8): 11, np.int32(6): 10, np.int32(9): 7, np.int32(5): 6, np.int32(0): 6, np.int32(3): 5, np.int32(7): 5})\n",
      "belongs to group:  4 \n",
      "\n",
      "-- mine result800\n",
      "search number:  2000\n",
      "hitted right result: 100\n",
      "-- kmeans result\n",
      "Counter({np.int32(4): 410, np.int32(2): 271, np.int32(6): 261, np.int32(1): 249, np.int32(8): 224, np.int32(0): 158, np.int32(5): 145, np.int32(7): 115, np.int32(3): 90, np.int32(9): 77})\n",
      "Counter({np.int32(4): 26, np.int32(6): 13, np.int32(0): 12, np.int32(2): 12, np.int32(1): 11, np.int32(7): 9, np.int32(8): 8, np.int32(5): 5, np.int32(3): 3, np.int32(9): 1})\n",
      "belongs to group:  4 \n",
      "\n",
      "-- mine result900\n",
      "search number:  2000\n",
      "hitted right result: 100\n",
      "-- kmeans result\n",
      "Counter({np.int32(4): 410, np.int32(2): 271, np.int32(6): 261, np.int32(1): 249, np.int32(8): 224, np.int32(0): 158, np.int32(5): 145, np.int32(7): 115, np.int32(3): 90, np.int32(9): 77})\n",
      "Counter({np.int32(6): 19, np.int32(4): 17, np.int32(2): 15, np.int32(8): 14, np.int32(5): 9, np.int32(0): 8, np.int32(1): 7, np.int32(3): 5, np.int32(7): 5, np.int32(9): 1})\n",
      "belongs to group:  6 \n",
      "\n"
     ]
    }
   ],
   "source": [
    "from collections import Counter\n",
    "\n",
    "\"\"\"\n",
    "create a new index (something like tf-idf)\n",
    "data reduction rate\n",
    "vs\n",
    "accurate\n",
    "\"\"\"\n",
    "def score(search_data, acc, smoothing = 0.001, lam = 0.5):\n",
    "    return lam*(acc/100)+(1-lam)*(1-(search_data/(1000+smoothing)))\n",
    "\n",
    "my_score = []\n",
    "normal_kmeans_score = []\n",
    "\n",
    "tmp = [i*100 for i in range(10)]\n",
    "for i in tmp:\n",
    "    b = i\n",
    "    u = i+100\n",
    "    # print(normalized_data[b:u])\n",
    "    print(f\"-- mine result{i}\")\n",
    "    seaching = np.mean(normalized_data[b:u], axis=0)\n",
    "    result = test_tree.search(seaching)\n",
    "    \n",
    "    print(\"search number: \", len(result.index))\n",
    "    right = np.where((result.index>=b) & (result.index<u))[0] # return index\n",
    "    print(\"hitted right result:\", len(right))\n",
    "    my_score.append(score(len(result.index), len(right)))\n",
    "\n",
    "    ############\n",
    "    print(\"-- kmeans result\")\n",
    "    checking = KMeans(n_clusters=10, random_state=0).fit(normalized_data)\n",
    "\n",
    "    counts1 = Counter(checking.labels_)\n",
    "    print(counts1)\n",
    "\n",
    "    counts2 = Counter(checking.labels_[b:u])\n",
    "    print(counts2)\n",
    "    belongs_group = counts2.most_common()[0][0]\n",
    "    print(\"belongs to group: \", belongs_group, \"\\n\")\n",
    "    # print(counts1.get(belongs_group), counts2.get(belongs_group))\n",
    "    normal_kmeans_score.append(score(counts1.get(belongs_group), counts2.get(belongs_group)))\n",
    "\n",
    "    "
   ]
  },
  {
   "cell_type": "code",
   "execution_count": 17,
   "metadata": {},
   "outputs": [
    {
     "name": "stdout",
     "output_type": "stream",
     "text": [
      "[0.4695000904999095, 9.99998999939855e-07, 9.99998999939855e-07, 9.99998999939855e-07, 9.99998999939855e-07, 0.4095001804998195, 9.99998999939855e-07, 9.99998999939855e-07, 9.99998999939855e-07, 9.99998999939855e-07]\n",
      "[0.46450013549986446, 0.40500020499979494, 0.37000020499979497, 0.41500020499979495, 0.40000020499979494, 0.43000020499979497, 0.3850002049997949, 0.41500020499979495, 0.42500020499979496, 0.4645001304998695]\n",
      "0.8790082709917285\n",
      "4.174001905998094\n"
     ]
    }
   ],
   "source": [
    "print(my_score)\n",
    "print(normal_kmeans_score)\n",
    "\n",
    "print(sum(my_score))\n",
    "print(sum(normal_kmeans_score))"
   ]
  }
 ],
 "metadata": {
  "kernelspec": {
   "display_name": "Python 3",
   "language": "python",
   "name": "python3"
  },
  "language_info": {
   "codemirror_mode": {
    "name": "ipython",
    "version": 3
   },
   "file_extension": ".py",
   "mimetype": "text/x-python",
   "name": "python",
   "nbconvert_exporter": "python",
   "pygments_lexer": "ipython3",
   "version": "3.11.9"
  }
 },
 "nbformat": 4,
 "nbformat_minor": 2
}
