{
 "cells": [
  {
   "cell_type": "code",
   "execution_count": 1,
   "metadata": {},
   "outputs": [],
   "source": [
    "import time\n",
    "import copy\n",
    "import random\n",
    "\n",
    "import pandas as pd\n",
    "import numpy as np\n",
    "from sklearn.preprocessing import MinMaxScaler\n",
    "from sklearn.cluster import KMeans\n",
    "\n",
    "from graph_tree_list_module import *\n"
   ]
  },
  {
   "cell_type": "code",
   "execution_count": 2,
   "metadata": {},
   "outputs": [],
   "source": [
    "raw = pd.read_csv(r'../Data/train.csv')\n",
    "# print(raw)\n",
    "\n",
    "random_seed = 42\n",
    "\n",
    "# print(list(raw.columns)[:])"
   ]
  },
  {
   "cell_type": "code",
   "execution_count": 3,
   "metadata": {},
   "outputs": [
    {
     "name": "stdout",
     "output_type": "stream",
     "text": [
      "(2000, 14)\n",
      "['Popularity', 'danceability', 'energy', 'key', 'loudness', 'mode', 'speechiness', 'acousticness', 'instrumentalness', 'liveness', 'valence', 'tempo', 'duration_in min/ms', 'time_signature']\n"
     ]
    }
   ],
   "source": [
    "data = raw.iloc[:,2:-1]\n",
    "data = data.fillna(0)\n",
    "data = data[:2000]\n",
    "print(data.shape)\n",
    "scaler = MinMaxScaler()\n",
    "normalized_data = scaler.fit_transform(data)\n",
    "\n",
    "# label\n",
    "y = raw.iloc[:,-1]\n",
    "# print(y)\n",
    "\n",
    "col_name = list(raw.columns)[2:-1]\n",
    "print(col_name)\n",
    "# print(normalized_data)"
   ]
  },
  {
   "cell_type": "code",
   "execution_count": 4,
   "metadata": {},
   "outputs": [],
   "source": [
    "data_min = scaler.data_min_\n",
    "data_max = scaler.data_max_\n",
    "\n",
    "# print(data_min, data_max)"
   ]
  },
  {
   "cell_type": "code",
   "execution_count": 5,
   "metadata": {},
   "outputs": [],
   "source": [
    "def test_query_generator():\n",
    "    return [random.uniform(data_min[i], data_max[i]) for i in range(len(data_max))]"
   ]
  },
  {
   "cell_type": "code",
   "execution_count": 6,
   "metadata": {},
   "outputs": [
    {
     "name": "stdout",
     "output_type": "stream",
     "text": [
      "[np.float64(44.38755896035121), np.float64(0.799893608709389), np.float64(0.7221725691598847), np.float64(8.69830784780972), np.float64(-4.858465657171401), np.float64(0.260430224372706), np.float64(0.3735172661437689), np.float64(0.36604421968874457), np.float64(0.6193336760051678), np.float64(0.8641989207793296), np.float64(0.9441392439960414), np.float64(92.1526404856361), np.float64(890887.8181739752), np.float64(1.6506923106617104)]\n"
     ]
    }
   ],
   "source": [
    "print(test_query_generator())"
   ]
  },
  {
   "cell_type": "code",
   "execution_count": 7,
   "metadata": {},
   "outputs": [],
   "source": [
    "import time\n",
    "\n",
    "class Timer:\n",
    "    def __enter__(self):\n",
    "        self.start_time = time.perf_counter()\n",
    "        return self\n",
    "\n",
    "    def __exit__(self, *args):\n",
    "        self.end_time = time.perf_counter()\n",
    "        self.elapsed_time = self.end_time - self.start_time\n",
    "        print(f\"Elapsed time: {self.elapsed_time} seconds\")"
   ]
  },
  {
   "cell_type": "code",
   "execution_count": 8,
   "metadata": {},
   "outputs": [
    {
     "name": "stdout",
     "output_type": "stream",
     "text": [
      "\n",
      "---------------------------------- level 0 no of node 1 ----------------------------------------\n",
      "queue:  [0]\n",
      "cur node 0\n",
      "no. of cur node data 2000\n",
      "optimal K 2\n",
      "\n",
      "\n",
      "---------------------------------- level 1 no of node 2 ----------------------------------------\n",
      "queue:  [2, 1]\n",
      "cur node 2\n",
      "no. of cur node data 1281\n",
      "optimal K 2\n",
      "\n",
      "cur node 1\n",
      "no. of cur node data 719\n",
      "optimal K 4\n",
      "\n",
      "\n",
      "---------------------------------- level 2 no of node 6 ----------------------------------------\n",
      "queue:  [4, 3, 6, 5, 7, 8]\n",
      "cur node 4\n",
      "no. of cur node data 936\n",
      "optimal K 3\n",
      "\n",
      "cur node 3\n",
      "no. of cur node data 345\n",
      "optimal K 2\n",
      "\n",
      "cur node 6\n",
      "no. of cur node data 277\n",
      "optimal K 3\n",
      "\n",
      "cur node 5\n",
      "no. of cur node data 238\n",
      "optimal K 2\n",
      "\n",
      "cur node 7\n",
      "no. of cur node data 78\n",
      "added to Popularity min\n",
      "added to danceability min\n",
      "added to energy max\n",
      "added to key max\n",
      "added to loudness max\n",
      "added to mode min\n",
      "added to speechiness min\n",
      "added to acousticness min\n",
      "added to instrumentalness max\n",
      "added to liveness min\n",
      "added to valence min\n",
      "added to tempo max\n",
      "added to duration_in min/ms max\n",
      "added to time_signature min\n",
      "cur node 8\n",
      "no. of cur node data 126\n",
      "added to energy min\n",
      "added to key max\n",
      "added to loudness min\n",
      "added to mode min\n",
      "added to speechiness min\n",
      "added to acousticness max\n",
      "added to liveness min\n",
      "added to tempo min\n",
      "added to duration_in min/ms min\n",
      "added to time_signature min\n",
      "\n",
      "---------------------------------- level 3 no of node 10 ----------------------------------------\n",
      "queue:  [10, 9, 11, 13, 12, 16, 14, 15, 17, 18]\n",
      "cur node 10\n",
      "no. of cur node data 438\n",
      "optimal K 2\n",
      "\n",
      "cur node 9\n",
      "no. of cur node data 396\n",
      "optimal K 2\n",
      "\n",
      "cur node 11\n",
      "no. of cur node data 102\n",
      "added to danceability min\n",
      "added to energy max\n",
      "added to loudness max\n",
      "added to mode max\n",
      "added to acousticness min\n",
      "added to liveness max\n",
      "added to tempo max\n",
      "added to time_signature max\n",
      "cur node 13\n",
      "no. of cur node data 257\n",
      "optimal K 2\n",
      "\n",
      "cur node 12\n",
      "no. of cur node data 88\n",
      "added to Popularity min\n",
      "added to danceability min\n",
      "added to energy min\n",
      "added to key min\n",
      "added to loudness min\n",
      "added to mode max\n",
      "added to speechiness min\n",
      "added to acousticness max\n",
      "added to instrumentalness max\n",
      "added to liveness min\n",
      "added to valence min\n",
      "added to tempo min\n",
      "added to duration_in min/ms min\n",
      "added to time_signature min\n",
      "cur node 16\n",
      "no. of cur node data 98\n",
      "added to danceability max\n",
      "added to key min\n",
      "added to loudness max\n",
      "added to mode min\n",
      "added to speechiness max\n",
      "added to instrumentalness min\n",
      "added to valence max\n",
      "added to time_signature max\n",
      "cur node 14\n",
      "no. of cur node data 124\n",
      "added to Popularity max\n",
      "added to energy max\n",
      "added to loudness max\n",
      "added to mode min\n",
      "added to acousticness min\n",
      "added to liveness max\n",
      "added to tempo max\n",
      "added to time_signature max\n",
      "cur node 15\n",
      "no. of cur node data 55\n",
      "added to key min\n",
      "added to mode min\n",
      "cur node 17\n",
      "no. of cur node data 133\n",
      "added to danceability max\n",
      "added to key max\n",
      "added to mode min\n",
      "added to speechiness max\n",
      "added to instrumentalness min\n",
      "added to time_signature max\n",
      "cur node 18\n",
      "no. of cur node data 105\n",
      "added to Popularity max\n",
      "added to key max\n",
      "added to mode min\n",
      "\n",
      "---------------------------------- level 4 no of node 6 ----------------------------------------\n",
      "queue:  [19, 20, 22, 21, 24, 23]\n",
      "cur node 19\n",
      "no. of cur node data 229\n",
      "optimal K 3\n",
      "\n",
      "cur node 20\n",
      "no. of cur node data 209\n",
      "optimal K 2\n",
      "\n",
      "cur node 22\n",
      "no. of cur node data 199\n",
      "added to Popularity max\n",
      "added to key min\n",
      "added to mode max\n",
      "cur node 21\n",
      "no. of cur node data 197\n",
      "added to key min\n",
      "added to mode max\n",
      "cur node 24\n",
      "no. of cur node data 140\n",
      "added to Popularity min\n",
      "added to mode max\n",
      "cur node 23\n",
      "no. of cur node data 117\n",
      "added to mode max\n",
      "\n",
      "---------------------------------- level 5 no of node 5 ----------------------------------------\n",
      "queue:  [25, 27, 26, 28, 29]\n",
      "cur node 25\n",
      "no. of cur node data 72\n",
      "added to Popularity min\n",
      "added to mode max\n",
      "cur node 27\n",
      "no. of cur node data 87\n",
      "added to Popularity max\n",
      "added to mode max\n",
      "added to liveness max\n",
      "added to valence max\n",
      "cur node 26\n",
      "no. of cur node data 70\n",
      "added to Popularity max\n",
      "added to mode max\n",
      "added to instrumentalness min\n",
      "added to liveness min\n",
      "added to tempo min\n",
      "cur node 28\n",
      "no. of cur node data 127\n",
      "added to mode max\n",
      "added to valence min\n",
      "cur node 29\n",
      "no. of cur node data 82\n",
      "added to danceability min\n",
      "added to energy max\n",
      "added to loudness max\n",
      "added to mode max\n",
      "added to liveness max\n",
      "added to tempo max\n",
      "Elapsed time: 2.0296680999999808 seconds\n"
     ]
    }
   ],
   "source": [
    "test_tree = graph_tree(attr_name = col_name, X = normalized_data, X_maxmin=[scaler.data_max_,scaler.data_min_])\n",
    "# test_tree.show_root()\n",
    "with Timer():\n",
    "    test_tree.build_tree(min_threshold_for_clustering=200)"
   ]
  },
  {
   "cell_type": "code",
   "execution_count": 9,
   "metadata": {},
   "outputs": [],
   "source": [
    "# import pickle\n",
    "\n",
    "# with open(\"graph_tree.pkl\", 'wb') as f:\n",
    "#     pickle.dump(test_tree, f)"
   ]
  },
  {
   "cell_type": "code",
   "execution_count": 10,
   "metadata": {},
   "outputs": [
    {
     "name": "stdout",
     "output_type": "stream",
     "text": [
      "Elapsed time: 0.0004972000006091548 seconds\n",
      "7\n"
     ]
    }
   ],
   "source": [
    "t = 200000\n",
    "while t>100:\n",
    "    seaching = test_query_generator()\n",
    "    with Timer():\n",
    "        cur = test_tree.search(seaching)\n",
    "    t=cur.id\n",
    "    print(cur.id)"
   ]
  },
  {
   "cell_type": "code",
   "execution_count": 11,
   "metadata": {},
   "outputs": [
    {
     "name": "stdout",
     "output_type": "stream",
     "text": [
      "will return a sorted list of leaf node\n",
      "[7]\n",
      "poped 7\n",
      "cal True False\n",
      "[]\n",
      "[7]\n",
      "[]\n"
     ]
    }
   ],
   "source": [
    "a = test_tree._get_closest_node_within_lv(seaching, cur)\n",
    "print([n.id for n in a])\n",
    "print(cur.down_lv)"
   ]
  },
  {
   "cell_type": "code",
   "execution_count": 12,
   "metadata": {},
   "outputs": [
    {
     "name": "stdout",
     "output_type": "stream",
     "text": [
      "336524.18383202894\n",
      "336524.18383202894\n"
     ]
    }
   ],
   "source": [
    "print(calculation.l1(seaching, a[-1].center))\n",
    "print(calculation.l1(seaching, a[0].center))"
   ]
  },
  {
   "cell_type": "code",
   "execution_count": 13,
   "metadata": {},
   "outputs": [
    {
     "name": "stdout",
     "output_type": "stream",
     "text": [
      "└── 0\n",
      "    ├── 2\n",
      "    │   ├── 4\n",
      "    │   │   ├── 10\n",
      "    │   │   │   ├── 19\n",
      "    │   │   │   │   ├── 25\n",
      "    │   │   │   │   ├── 27\n",
      "    │   │   │   │   └── 26\n",
      "    │   │   │   └── 20\n",
      "    │   │   │       ├── 28\n",
      "    │   │   │       └── 29\n",
      "    │   │   ├── 9\n",
      "    │   │   │   ├── 22\n",
      "    │   │   │   └── 21\n",
      "    │   │   └── 11\n",
      "    │   └── 3\n",
      "    │       ├── 13\n",
      "    │       │   ├── 24\n",
      "    │       │   └── 23\n",
      "    │       └── 12\n",
      "    └── 1\n",
      "        ├── 6\n",
      "        │   ├── 16\n",
      "        │   ├── 14\n",
      "        │   └── 15\n",
      "        ├── 5\n",
      "        │   ├── 17\n",
      "        │   └── 18\n",
      "        ├── 7\n",
      "        └── 8\n"
     ]
    }
   ],
   "source": [
    "test_tree.print_tree(test_tree.root)"
   ]
  },
  {
   "cell_type": "code",
   "execution_count": 14,
   "metadata": {},
   "outputs": [
    {
     "name": "stdout",
     "output_type": "stream",
     "text": [
      "0\n"
     ]
    },
    {
     "ename": "TypeError",
     "evalue": "calculation.reflection() missing 1 required positional argument: 'reflection_vector'",
     "output_type": "error",
     "traceback": [
      "\u001b[1;31m---------------------------------------------------------------------------\u001b[0m",
      "\u001b[1;31mTypeError\u001b[0m                                 Traceback (most recent call last)",
      "Cell \u001b[1;32mIn[14], line 1\u001b[0m\n\u001b[1;32m----> 1\u001b[0m res \u001b[38;5;241m=\u001b[39m \u001b[43mtest_tree\u001b[49m\u001b[38;5;241;43m.\u001b[39;49m\u001b[43mreflection_search\u001b[49m\u001b[43m(\u001b[49m\u001b[43mnp\u001b[49m\u001b[38;5;241;43m.\u001b[39;49m\u001b[43mmean\u001b[49m\u001b[43m(\u001b[49m\u001b[43mnormalized_data\u001b[49m\u001b[43m[\u001b[49m\u001b[43m:\u001b[49m\u001b[38;5;241;43m100\u001b[39;49m\u001b[43m]\u001b[49m\u001b[43m,\u001b[49m\u001b[43m \u001b[49m\u001b[43maxis\u001b[49m\u001b[38;5;241;43m=\u001b[39;49m\u001b[38;5;241;43m0\u001b[39;49m\u001b[43m)\u001b[49m\u001b[43m,\u001b[49m\u001b[43m \u001b[49m\u001b[43mtest_tree\u001b[49m\u001b[38;5;241;43m.\u001b[39;49m\u001b[43mroot\u001b[49m\u001b[43m)\u001b[49m\n",
      "File \u001b[1;32mc:\\Users\\lst74\\OneDrive\\桌面\\thesis\\data_universe\\data_universe\\integrate\\graph_tree_module.py:188\u001b[0m, in \u001b[0;36mgraph_tree.reflection_search\u001b[1;34m(self, search_vector, node, degree, k)\u001b[0m\n\u001b[0;32m    184\u001b[0m         \u001b[38;5;28;01mbreak\u001b[39;00m\n\u001b[0;32m    186\u001b[0m \u001b[38;5;28mprint\u001b[39m(i)\n\u001b[1;32m--> 188\u001b[0m reflected_vector \u001b[38;5;241m=\u001b[39m \u001b[43mcalculation\u001b[49m\u001b[38;5;241;43m.\u001b[39;49m\u001b[43mreflection\u001b[49m\u001b[43m(\u001b[49m\u001b[43msearch_vector\u001b[49m\u001b[43m,\u001b[49m\u001b[43m \u001b[49m\u001b[43mreflection_node\u001b[49m\u001b[38;5;241;43m.\u001b[39;49m\u001b[43mcenter\u001b[49m\u001b[43m)\u001b[49m\n\u001b[0;32m    189\u001b[0m \u001b[38;5;28mprint\u001b[39m(reflected_vector)\n\u001b[0;32m    190\u001b[0m knn_res \u001b[38;5;241m=\u001b[39m \u001b[38;5;28mself\u001b[39m\u001b[38;5;241m.\u001b[39mfast_knn(reflected_vector, reflection_node, k\u001b[38;5;241m=\u001b[39mk)\n",
      "\u001b[1;31mTypeError\u001b[0m: calculation.reflection() missing 1 required positional argument: 'reflection_vector'"
     ]
    }
   ],
   "source": [
    "res = test_tree.reflection_search(np.mean(normalized_data[:100], axis=0), test_tree.root)"
   ]
  },
  {
   "cell_type": "code",
   "execution_count": null,
   "metadata": {},
   "outputs": [],
   "source": [
    "res"
   ]
  },
  {
   "cell_type": "code",
   "execution_count": null,
   "metadata": {},
   "outputs": [],
   "source": []
  },
  {
   "cell_type": "code",
   "execution_count": null,
   "metadata": {},
   "outputs": [],
   "source": [
    "print(normalized_data.shape)\n",
    "print(np.mean(normalized_data[:100], axis=0))\n",
    "\n",
    "print(test_tree.root.center)"
   ]
  },
  {
   "cell_type": "code",
   "execution_count": null,
   "metadata": {},
   "outputs": [],
   "source": [
    "from collections import Counter\n",
    "\n",
    "\"\"\"\n",
    "create a new index (something like tf-idf)\n",
    "data reduction rate\n",
    "vs\n",
    "accurate\n",
    "\"\"\"\n",
    "def score(search_data, acc, smoothing = 0.001, lam = 0.5):\n",
    "    return lam*(acc/100)+(1-lam)*(1-(search_data/(1000+smoothing)))\n",
    "\n",
    "my_score = []\n",
    "normal_kmeans_score = []\n",
    "\n",
    "tmp = [i*100 for i in range(10)]\n",
    "for i in tmp:\n",
    "    b = i\n",
    "    u = i+100\n",
    "    # print(normalized_data[b:u])\n",
    "    print(f\"-- mine result{i}\")\n",
    "    seaching = np.mean(normalized_data[b:u], axis=0)\n",
    "    result = test_tree.search(seaching)\n",
    "    \n",
    "    print(\"search number: \", len(result.index))\n",
    "    right = np.where((result.index>=b) & (result.index<u))[0] # return index\n",
    "    print(\"hitted right result:\", len(right))\n",
    "    my_score.append(score(len(result.index), len(right)))\n",
    "\n",
    "    ############\n",
    "    print(\"-- kmeans result\")\n",
    "    checking = KMeans(n_clusters=10, random_state=0).fit(normalized_data)\n",
    "\n",
    "    counts1 = Counter(checking.labels_)\n",
    "    print(counts1)\n",
    "\n",
    "    counts2 = Counter(checking.labels_[b:u])\n",
    "    print(counts2)\n",
    "    belongs_group = counts2.most_common()[0][0]\n",
    "    print(\"belongs to group: \", belongs_group, \"\\n\")\n",
    "    # print(counts1.get(belongs_group), counts2.get(belongs_group))\n",
    "    normal_kmeans_score.append(score(counts1.get(belongs_group), counts2.get(belongs_group)))\n",
    "\n",
    "    "
   ]
  },
  {
   "cell_type": "code",
   "execution_count": null,
   "metadata": {},
   "outputs": [],
   "source": [
    "print(my_score)\n",
    "print(normal_kmeans_score)\n",
    "\n",
    "print(sum(my_score))\n",
    "print(sum(normal_kmeans_score))"
   ]
  }
 ],
 "metadata": {
  "kernelspec": {
   "display_name": "Python 3",
   "language": "python",
   "name": "python3"
  },
  "language_info": {
   "codemirror_mode": {
    "name": "ipython",
    "version": 3
   },
   "file_extension": ".py",
   "mimetype": "text/x-python",
   "name": "python",
   "nbconvert_exporter": "python",
   "pygments_lexer": "ipython3",
   "version": "3.12.5"
  }
 },
 "nbformat": 4,
 "nbformat_minor": 2
}
