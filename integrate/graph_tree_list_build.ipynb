{
 "cells": [
  {
   "cell_type": "code",
   "execution_count": 1,
   "metadata": {},
   "outputs": [],
   "source": [
    "import time\n",
    "import copy\n",
    "import random\n",
    "\n",
    "import pandas as pd\n",
    "import numpy as np\n",
    "from sklearn.preprocessing import MinMaxScaler\n",
    "from sklearn.cluster import KMeans\n",
    "\n",
    "from graph_tree_list_module import *\n"
   ]
  },
  {
   "cell_type": "code",
   "execution_count": 2,
   "metadata": {},
   "outputs": [],
   "source": [
    "raw = pd.read_csv(r'../Data/train.csv')\n",
    "# print(raw)\n",
    "\n",
    "random_seed = 42\n",
    "\n",
    "# print(list(raw.columns)[:])"
   ]
  },
  {
   "cell_type": "code",
   "execution_count": 3,
   "metadata": {},
   "outputs": [
    {
     "name": "stdout",
     "output_type": "stream",
     "text": [
      "(2000, 14)\n",
      "['Popularity', 'danceability', 'energy', 'key', 'loudness', 'mode', 'speechiness', 'acousticness', 'instrumentalness', 'liveness', 'valence', 'tempo', 'duration_in min/ms', 'time_signature']\n"
     ]
    }
   ],
   "source": [
    "data = raw.iloc[:,2:-1]\n",
    "data = data.fillna(0)\n",
    "data = data[:2000]\n",
    "print(data.shape)\n",
    "scaler = MinMaxScaler()\n",
    "normalized_data = scaler.fit_transform(data)\n",
    "\n",
    "# label\n",
    "y = raw.iloc[:,-1]\n",
    "# print(y)\n",
    "\n",
    "col_name = list(raw.columns)[2:-1]\n",
    "print(col_name)\n",
    "# print(normalized_data)"
   ]
  },
  {
   "cell_type": "code",
   "execution_count": 4,
   "metadata": {},
   "outputs": [],
   "source": [
    "data_min = scaler.data_min_\n",
    "data_max = scaler.data_max_\n",
    "\n",
    "# print(data_min, data_max)"
   ]
  },
  {
   "cell_type": "code",
   "execution_count": 5,
   "metadata": {},
   "outputs": [],
   "source": [
    "def test_query_generator():\n",
    "    return [random.uniform(data_min[i], data_max[i]) for i in range(len(data_max))]"
   ]
  },
  {
   "cell_type": "code",
   "execution_count": 6,
   "metadata": {},
   "outputs": [
    {
     "name": "stdout",
     "output_type": "stream",
     "text": [
      "[np.float64(71.91244888776002), np.float64(0.9053334481516068), np.float64(0.7056014058078738), np.float64(2.3368910272417205), np.float64(-0.39943443520361654), np.float64(0.9876524616515067), np.float64(0.8463829985279863), np.float64(0.5398113405516464), np.float64(0.9058775762236672), np.float64(0.9233095315259685), np.float64(0.7218405895479987), np.float64(111.44771396710507), np.float64(198512.4428409201), np.float64(1.5788063234606136)]\n"
     ]
    }
   ],
   "source": [
    "print(test_query_generator())"
   ]
  },
  {
   "cell_type": "code",
   "execution_count": 7,
   "metadata": {},
   "outputs": [],
   "source": [
    "import time\n",
    "\n",
    "class Timer:\n",
    "    def __enter__(self):\n",
    "        self.start_time = time.perf_counter()\n",
    "        return self\n",
    "\n",
    "    def __exit__(self, *args):\n",
    "        self.end_time = time.perf_counter()\n",
    "        self.elapsed_time = self.end_time - self.start_time\n",
    "        print(f\"Elapsed time: {self.elapsed_time} seconds\")"
   ]
  },
  {
   "cell_type": "code",
   "execution_count": 8,
   "metadata": {},
   "outputs": [
    {
     "name": "stdout",
     "output_type": "stream",
     "text": [
      "cur node 0\n",
      "optimal K 2\n",
      "[]\n",
      "all [[]]\n",
      "[0, 1, 3] \n",
      "\n",
      "cur node 1\n",
      "optimal K 6\n",
      "[[np.float64(1.0137778960074872)]]\n",
      "cur node 2\n",
      "optimal K 6\n",
      "[[np.float64(1.0137778960074872)]]\n",
      "all [[], [[np.float64(1.0137778960074872)]]]\n",
      "[0, 1, 3, 15] \n",
      "\n",
      "cur node 3\n",
      "[[np.float64(0.3861209361318126), np.float64(0.5918871064718276), np.float64(1.6627004442624695), np.float64(0.5968458152195195), np.float64(0.2402381551777252), np.float64(1.1841564912028961), np.float64(1.5361554596153573), np.float64(1.7699974491749837), np.float64(1.07732911677578), np.float64(2.7152727443373736), np.float64(1.537725119228167)]]\n",
      "cur node 4\n",
      "[[np.float64(0.3861209361318126), np.float64(0.5918871064718276), np.float64(1.6627004442624695), np.float64(0.5968458152195195), np.float64(0.2402381551777252), np.float64(1.1841564912028961), np.float64(1.5361554596153573), np.float64(1.7699974491749837), np.float64(1.07732911677578), np.float64(2.7152727443373736), np.float64(1.537725119228167)], [np.float64(0.6787666560784847), np.float64(1.6959586634906623), np.float64(0.5383074372522284), np.float64(0.39347986852417294), np.float64(1.045086512833423), np.float64(1.8367689367124045), np.float64(1.5067566756354953), np.float64(1.5425083422951582), np.float64(2.9680250076245858), np.float64(1.7928402291294807)]]\n",
      "cur node 5\n",
      "[[np.float64(0.3861209361318126), np.float64(0.5918871064718276), np.float64(1.6627004442624695), np.float64(0.5968458152195195), np.float64(0.2402381551777252), np.float64(1.1841564912028961), np.float64(1.5361554596153573), np.float64(1.7699974491749837), np.float64(1.07732911677578), np.float64(2.7152727443373736), np.float64(1.537725119228167)], [np.float64(0.6787666560784847), np.float64(1.6959586634906623), np.float64(0.5383074372522284), np.float64(0.39347986852417294), np.float64(1.045086512833423), np.float64(1.8367689367124045), np.float64(1.5067566756354953), np.float64(1.5425083422951582), np.float64(2.9680250076245858), np.float64(1.7928402291294807)], [np.float64(0.9657616537497875), np.float64(1.022029980490525), np.float64(0.8175242101126418), np.float64(1.5445179513877239), np.float64(2.182135055108056), np.float64(2.0715596776695193), np.float64(1.768238121470086), np.float64(2.1429134762933617), np.float64(1.028508479824208)]]\n",
      "cur node 6\n",
      "[[np.float64(0.3861209361318126), np.float64(0.5918871064718276), np.float64(1.6627004442624695), np.float64(0.5968458152195195), np.float64(0.2402381551777252), np.float64(1.1841564912028961), np.float64(1.5361554596153573), np.float64(1.7699974491749837), np.float64(1.07732911677578), np.float64(2.7152727443373736), np.float64(1.537725119228167)], [np.float64(0.6787666560784847), np.float64(1.6959586634906623), np.float64(0.5383074372522284), np.float64(0.39347986852417294), np.float64(1.045086512833423), np.float64(1.8367689367124045), np.float64(1.5067566756354953), np.float64(1.5425083422951582), np.float64(2.9680250076245858), np.float64(1.7928402291294807)], [np.float64(0.9657616537497875), np.float64(1.022029980490525), np.float64(0.8175242101126418), np.float64(1.5445179513877239), np.float64(2.182135055108056), np.float64(2.0715596776695193), np.float64(1.768238121470086), np.float64(2.1429134762933617), np.float64(1.028508479824208)], [np.float64(0.7535726665627412), np.float64(1.6115053455071389), np.float64(2.6095503718609994), np.float64(1.939191648395521), np.float64(1.7488174292244454), np.float64(2.7822466061608235), np.float64(1.0554379928366289), np.float64(1.9290589721143587)]]\n",
      "cur node 7\n",
      "[[np.float64(0.3861209361318126), np.float64(0.5918871064718276), np.float64(1.6627004442624695), np.float64(0.5968458152195195), np.float64(0.2402381551777252), np.float64(1.1841564912028961), np.float64(1.5361554596153573), np.float64(1.7699974491749837), np.float64(1.07732911677578), np.float64(2.7152727443373736), np.float64(1.537725119228167)], [np.float64(0.6787666560784847), np.float64(1.6959586634906623), np.float64(0.5383074372522284), np.float64(0.39347986852417294), np.float64(1.045086512833423), np.float64(1.8367689367124045), np.float64(1.5067566756354953), np.float64(1.5425083422951582), np.float64(2.9680250076245858), np.float64(1.7928402291294807)], [np.float64(0.9657616537497875), np.float64(1.022029980490525), np.float64(0.8175242101126418), np.float64(1.5445179513877239), np.float64(2.182135055108056), np.float64(2.0715596776695193), np.float64(1.768238121470086), np.float64(2.1429134762933617), np.float64(1.028508479824208)], [np.float64(0.7535726665627412), np.float64(1.6115053455071389), np.float64(2.6095503718609994), np.float64(1.939191648395521), np.float64(1.7488174292244454), np.float64(2.7822466061608235), np.float64(1.0554379928366289), np.float64(1.9290589721143587)], [np.float64(0.5108397164695141), np.float64(1.4882138951954598), np.float64(1.1587467920001047), np.float64(1.0384838165018362), np.float64(1.6829410534544562), np.float64(1.8289600100332757), np.float64(2.0141168544830848)]]\n",
      "cur node 8\n",
      "[[np.float64(0.3861209361318126), np.float64(0.5918871064718276), np.float64(1.6627004442624695), np.float64(0.5968458152195195), np.float64(0.2402381551777252), np.float64(1.1841564912028961), np.float64(1.5361554596153573), np.float64(1.7699974491749837), np.float64(1.07732911677578), np.float64(2.7152727443373736), np.float64(1.537725119228167)], [np.float64(0.6787666560784847), np.float64(1.6959586634906623), np.float64(0.5383074372522284), np.float64(0.39347986852417294), np.float64(1.045086512833423), np.float64(1.8367689367124045), np.float64(1.5067566756354953), np.float64(1.5425083422951582), np.float64(2.9680250076245858), np.float64(1.7928402291294807)], [np.float64(0.9657616537497875), np.float64(1.022029980490525), np.float64(0.8175242101126418), np.float64(1.5445179513877239), np.float64(2.182135055108056), np.float64(2.0715596776695193), np.float64(1.768238121470086), np.float64(2.1429134762933617), np.float64(1.028508479824208)], [np.float64(0.7535726665627412), np.float64(1.6115053455071389), np.float64(2.6095503718609994), np.float64(1.939191648395521), np.float64(1.7488174292244454), np.float64(2.7822466061608235), np.float64(1.0554379928366289), np.float64(1.9290589721143587)], [np.float64(0.5108397164695141), np.float64(1.4882138951954598), np.float64(1.1587467920001047), np.float64(1.0384838165018362), np.float64(1.6829410534544562), np.float64(1.8289600100332757), np.float64(2.0141168544830848)], [np.float64(1.279595201529432), np.float64(1.3348773227434878), np.float64(1.699074951141414), np.float64(1.1081390030150091), np.float64(2.6430128086872458), np.float64(1.7342362565928586)]]\n",
      "cur node 9\n",
      "optimal K 2\n",
      "[[np.float64(0.3861209361318126), np.float64(0.5918871064718276), np.float64(1.6627004442624695), np.float64(0.5968458152195195), np.float64(0.2402381551777252), np.float64(1.1841564912028961), np.float64(1.5361554596153573), np.float64(1.7699974491749837), np.float64(1.07732911677578), np.float64(2.7152727443373736), np.float64(1.537725119228167)], [np.float64(0.6787666560784847), np.float64(1.6959586634906623), np.float64(0.5383074372522284), np.float64(0.39347986852417294), np.float64(1.045086512833423), np.float64(1.8367689367124045), np.float64(1.5067566756354953), np.float64(1.5425083422951582), np.float64(2.9680250076245858), np.float64(1.7928402291294807)], [np.float64(0.9657616537497875), np.float64(1.022029980490525), np.float64(0.8175242101126418), np.float64(1.5445179513877239), np.float64(2.182135055108056), np.float64(2.0715596776695193), np.float64(1.768238121470086), np.float64(2.1429134762933617), np.float64(1.028508479824208)], [np.float64(0.7535726665627412), np.float64(1.6115053455071389), np.float64(2.6095503718609994), np.float64(1.939191648395521), np.float64(1.7488174292244454), np.float64(2.7822466061608235), np.float64(1.0554379928366289), np.float64(1.9290589721143587)], [np.float64(0.5108397164695141), np.float64(1.4882138951954598), np.float64(1.1587467920001047), np.float64(1.0384838165018362), np.float64(1.6829410534544562), np.float64(1.8289600100332757), np.float64(2.0141168544830848)], [np.float64(1.279595201529432), np.float64(1.3348773227434878), np.float64(1.699074951141414), np.float64(1.1081390030150091), np.float64(2.6430128086872458), np.float64(1.7342362565928586)], [np.float64(0.6866721367708598), np.float64(0.5185758307843074), np.float64(0.32715014653211194), np.float64(1.807315568311239), np.float64(0.6067546078273128)]]\n",
      "cur node 10\n",
      "[[np.float64(0.3861209361318126), np.float64(0.5918871064718276), np.float64(1.6627004442624695), np.float64(0.5968458152195195), np.float64(0.2402381551777252), np.float64(1.1841564912028961), np.float64(1.5361554596153573), np.float64(1.7699974491749837), np.float64(1.07732911677578), np.float64(2.7152727443373736), np.float64(1.537725119228167)], [np.float64(0.6787666560784847), np.float64(1.6959586634906623), np.float64(0.5383074372522284), np.float64(0.39347986852417294), np.float64(1.045086512833423), np.float64(1.8367689367124045), np.float64(1.5067566756354953), np.float64(1.5425083422951582), np.float64(2.9680250076245858), np.float64(1.7928402291294807)], [np.float64(0.9657616537497875), np.float64(1.022029980490525), np.float64(0.8175242101126418), np.float64(1.5445179513877239), np.float64(2.182135055108056), np.float64(2.0715596776695193), np.float64(1.768238121470086), np.float64(2.1429134762933617), np.float64(1.028508479824208)], [np.float64(0.7535726665627412), np.float64(1.6115053455071389), np.float64(2.6095503718609994), np.float64(1.939191648395521), np.float64(1.7488174292244454), np.float64(2.7822466061608235), np.float64(1.0554379928366289), np.float64(1.9290589721143587)], [np.float64(0.5108397164695141), np.float64(1.4882138951954598), np.float64(1.1587467920001047), np.float64(1.0384838165018362), np.float64(1.6829410534544562), np.float64(1.8289600100332757), np.float64(2.0141168544830848)], [np.float64(1.279595201529432), np.float64(1.3348773227434878), np.float64(1.699074951141414), np.float64(1.1081390030150091), np.float64(2.6430128086872458), np.float64(1.7342362565928586)], [np.float64(0.6866721367708598), np.float64(0.5185758307843074), np.float64(0.32715014653211194), np.float64(1.807315568311239), np.float64(0.6067546078273128)], [np.float64(0.3398719601680674), np.float64(0.4398838272607305), np.float64(0.8706769388127727), np.float64(1.0527302368335592)]]\n",
      "cur node 11\n",
      "[[np.float64(0.3861209361318126), np.float64(0.5918871064718276), np.float64(1.6627004442624695), np.float64(0.5968458152195195), np.float64(0.2402381551777252), np.float64(1.1841564912028961), np.float64(1.5361554596153573), np.float64(1.7699974491749837), np.float64(1.07732911677578), np.float64(2.7152727443373736), np.float64(1.537725119228167)], [np.float64(0.6787666560784847), np.float64(1.6959586634906623), np.float64(0.5383074372522284), np.float64(0.39347986852417294), np.float64(1.045086512833423), np.float64(1.8367689367124045), np.float64(1.5067566756354953), np.float64(1.5425083422951582), np.float64(2.9680250076245858), np.float64(1.7928402291294807)], [np.float64(0.9657616537497875), np.float64(1.022029980490525), np.float64(0.8175242101126418), np.float64(1.5445179513877239), np.float64(2.182135055108056), np.float64(2.0715596776695193), np.float64(1.768238121470086), np.float64(2.1429134762933617), np.float64(1.028508479824208)], [np.float64(0.7535726665627412), np.float64(1.6115053455071389), np.float64(2.6095503718609994), np.float64(1.939191648395521), np.float64(1.7488174292244454), np.float64(2.7822466061608235), np.float64(1.0554379928366289), np.float64(1.9290589721143587)], [np.float64(0.5108397164695141), np.float64(1.4882138951954598), np.float64(1.1587467920001047), np.float64(1.0384838165018362), np.float64(1.6829410534544562), np.float64(1.8289600100332757), np.float64(2.0141168544830848)], [np.float64(1.279595201529432), np.float64(1.3348773227434878), np.float64(1.699074951141414), np.float64(1.1081390030150091), np.float64(2.6430128086872458), np.float64(1.7342362565928586)], [np.float64(0.6866721367708598), np.float64(0.5185758307843074), np.float64(0.32715014653211194), np.float64(1.807315568311239), np.float64(0.6067546078273128)], [np.float64(0.3398719601680674), np.float64(0.4398838272607305), np.float64(0.8706769388127727), np.float64(1.0527302368335592)], [np.float64(0.9238969221871609), np.float64(0.892635628115177), np.float64(1.1202775872386956)]]\n",
      "cur node 12\n",
      "optimal K 2\n",
      "[[np.float64(0.3861209361318126), np.float64(0.5918871064718276), np.float64(1.6627004442624695), np.float64(0.5968458152195195), np.float64(0.2402381551777252), np.float64(1.1841564912028961), np.float64(1.5361554596153573), np.float64(1.7699974491749837), np.float64(1.07732911677578), np.float64(2.7152727443373736), np.float64(1.537725119228167)], [np.float64(0.6787666560784847), np.float64(1.6959586634906623), np.float64(0.5383074372522284), np.float64(0.39347986852417294), np.float64(1.045086512833423), np.float64(1.8367689367124045), np.float64(1.5067566756354953), np.float64(1.5425083422951582), np.float64(2.9680250076245858), np.float64(1.7928402291294807)], [np.float64(0.9657616537497875), np.float64(1.022029980490525), np.float64(0.8175242101126418), np.float64(1.5445179513877239), np.float64(2.182135055108056), np.float64(2.0715596776695193), np.float64(1.768238121470086), np.float64(2.1429134762933617), np.float64(1.028508479824208)], [np.float64(0.7535726665627412), np.float64(1.6115053455071389), np.float64(2.6095503718609994), np.float64(1.939191648395521), np.float64(1.7488174292244454), np.float64(2.7822466061608235), np.float64(1.0554379928366289), np.float64(1.9290589721143587)], [np.float64(0.5108397164695141), np.float64(1.4882138951954598), np.float64(1.1587467920001047), np.float64(1.0384838165018362), np.float64(1.6829410534544562), np.float64(1.8289600100332757), np.float64(2.0141168544830848)], [np.float64(1.279595201529432), np.float64(1.3348773227434878), np.float64(1.699074951141414), np.float64(1.1081390030150091), np.float64(2.6430128086872458), np.float64(1.7342362565928586)], [np.float64(0.6866721367708598), np.float64(0.5185758307843074), np.float64(0.32715014653211194), np.float64(1.807315568311239), np.float64(0.6067546078273128)], [np.float64(0.3398719601680674), np.float64(0.4398838272607305), np.float64(0.8706769388127727), np.float64(1.0527302368335592)], [np.float64(0.9238969221871609), np.float64(0.892635628115177), np.float64(1.1202775872386956)], [np.float64(1.7668046827310984), np.float64(0.6511890171914239)]]\n",
      "cur node 13\n",
      "[[np.float64(0.3861209361318126), np.float64(0.5918871064718276), np.float64(1.6627004442624695), np.float64(0.5968458152195195), np.float64(0.2402381551777252), np.float64(1.1841564912028961), np.float64(1.5361554596153573), np.float64(1.7699974491749837), np.float64(1.07732911677578), np.float64(2.7152727443373736), np.float64(1.537725119228167)], [np.float64(0.6787666560784847), np.float64(1.6959586634906623), np.float64(0.5383074372522284), np.float64(0.39347986852417294), np.float64(1.045086512833423), np.float64(1.8367689367124045), np.float64(1.5067566756354953), np.float64(1.5425083422951582), np.float64(2.9680250076245858), np.float64(1.7928402291294807)], [np.float64(0.9657616537497875), np.float64(1.022029980490525), np.float64(0.8175242101126418), np.float64(1.5445179513877239), np.float64(2.182135055108056), np.float64(2.0715596776695193), np.float64(1.768238121470086), np.float64(2.1429134762933617), np.float64(1.028508479824208)], [np.float64(0.7535726665627412), np.float64(1.6115053455071389), np.float64(2.6095503718609994), np.float64(1.939191648395521), np.float64(1.7488174292244454), np.float64(2.7822466061608235), np.float64(1.0554379928366289), np.float64(1.9290589721143587)], [np.float64(0.5108397164695141), np.float64(1.4882138951954598), np.float64(1.1587467920001047), np.float64(1.0384838165018362), np.float64(1.6829410534544562), np.float64(1.8289600100332757), np.float64(2.0141168544830848)], [np.float64(1.279595201529432), np.float64(1.3348773227434878), np.float64(1.699074951141414), np.float64(1.1081390030150091), np.float64(2.6430128086872458), np.float64(1.7342362565928586)], [np.float64(0.6866721367708598), np.float64(0.5185758307843074), np.float64(0.32715014653211194), np.float64(1.807315568311239), np.float64(0.6067546078273128)], [np.float64(0.3398719601680674), np.float64(0.4398838272607305), np.float64(0.8706769388127727), np.float64(1.0527302368335592)], [np.float64(0.9238969221871609), np.float64(0.892635628115177), np.float64(1.1202775872386956)], [np.float64(1.7668046827310984), np.float64(0.6511890171914239)], [np.float64(1.0370893541217583)]]\n",
      "cur node 14\n",
      "[[np.float64(0.3861209361318126), np.float64(0.5918871064718276), np.float64(1.6627004442624695), np.float64(0.5968458152195195), np.float64(0.2402381551777252), np.float64(1.1841564912028961), np.float64(1.5361554596153573), np.float64(1.7699974491749837), np.float64(1.07732911677578), np.float64(2.7152727443373736), np.float64(1.537725119228167)], [np.float64(0.6787666560784847), np.float64(1.6959586634906623), np.float64(0.5383074372522284), np.float64(0.39347986852417294), np.float64(1.045086512833423), np.float64(1.8367689367124045), np.float64(1.5067566756354953), np.float64(1.5425083422951582), np.float64(2.9680250076245858), np.float64(1.7928402291294807)], [np.float64(0.9657616537497875), np.float64(1.022029980490525), np.float64(0.8175242101126418), np.float64(1.5445179513877239), np.float64(2.182135055108056), np.float64(2.0715596776695193), np.float64(1.768238121470086), np.float64(2.1429134762933617), np.float64(1.028508479824208)], [np.float64(0.7535726665627412), np.float64(1.6115053455071389), np.float64(2.6095503718609994), np.float64(1.939191648395521), np.float64(1.7488174292244454), np.float64(2.7822466061608235), np.float64(1.0554379928366289), np.float64(1.9290589721143587)], [np.float64(0.5108397164695141), np.float64(1.4882138951954598), np.float64(1.1587467920001047), np.float64(1.0384838165018362), np.float64(1.6829410534544562), np.float64(1.8289600100332757), np.float64(2.0141168544830848)], [np.float64(1.279595201529432), np.float64(1.3348773227434878), np.float64(1.699074951141414), np.float64(1.1081390030150091), np.float64(2.6430128086872458), np.float64(1.7342362565928586)], [np.float64(0.6866721367708598), np.float64(0.5185758307843074), np.float64(0.32715014653211194), np.float64(1.807315568311239), np.float64(0.6067546078273128)], [np.float64(0.3398719601680674), np.float64(0.4398838272607305), np.float64(0.8706769388127727), np.float64(1.0527302368335592)], [np.float64(0.9238969221871609), np.float64(0.892635628115177), np.float64(1.1202775872386956)], [np.float64(1.7668046827310984), np.float64(0.6511890171914239)], [np.float64(1.0370893541217583)]]\n",
      "all [[], [[np.float64(1.0137778960074872)]], [[np.float64(0.3861209361318126), np.float64(0.5918871064718276), np.float64(1.6627004442624695), np.float64(0.5968458152195195), np.float64(0.2402381551777252), np.float64(1.1841564912028961), np.float64(1.5361554596153573), np.float64(1.7699974491749837), np.float64(1.07732911677578), np.float64(2.7152727443373736), np.float64(1.537725119228167)], [np.float64(0.6787666560784847), np.float64(1.6959586634906623), np.float64(0.5383074372522284), np.float64(0.39347986852417294), np.float64(1.045086512833423), np.float64(1.8367689367124045), np.float64(1.5067566756354953), np.float64(1.5425083422951582), np.float64(2.9680250076245858), np.float64(1.7928402291294807)], [np.float64(0.9657616537497875), np.float64(1.022029980490525), np.float64(0.8175242101126418), np.float64(1.5445179513877239), np.float64(2.182135055108056), np.float64(2.0715596776695193), np.float64(1.768238121470086), np.float64(2.1429134762933617), np.float64(1.028508479824208)], [np.float64(0.7535726665627412), np.float64(1.6115053455071389), np.float64(2.6095503718609994), np.float64(1.939191648395521), np.float64(1.7488174292244454), np.float64(2.7822466061608235), np.float64(1.0554379928366289), np.float64(1.9290589721143587)], [np.float64(0.5108397164695141), np.float64(1.4882138951954598), np.float64(1.1587467920001047), np.float64(1.0384838165018362), np.float64(1.6829410534544562), np.float64(1.8289600100332757), np.float64(2.0141168544830848)], [np.float64(1.279595201529432), np.float64(1.3348773227434878), np.float64(1.699074951141414), np.float64(1.1081390030150091), np.float64(2.6430128086872458), np.float64(1.7342362565928586)], [np.float64(0.6866721367708598), np.float64(0.5185758307843074), np.float64(0.32715014653211194), np.float64(1.807315568311239), np.float64(0.6067546078273128)], [np.float64(0.3398719601680674), np.float64(0.4398838272607305), np.float64(0.8706769388127727), np.float64(1.0527302368335592)], [np.float64(0.9238969221871609), np.float64(0.892635628115177), np.float64(1.1202775872386956)], [np.float64(1.7668046827310984), np.float64(0.6511890171914239)], [np.float64(1.0370893541217583)]]]\n",
      "[0, 1, 3, 15, 19] \n",
      "\n",
      "cur node 15\n",
      "optimal K 2\n",
      "[[np.float64(0.21734820522109893), np.float64(0.5147874163755803), np.float64(0.33004236138818305)]]\n",
      "cur node 16\n",
      "[[np.float64(0.21734820522109893), np.float64(0.5147874163755803), np.float64(0.33004236138818305)], [np.float64(0.3299151223770781), np.float64(0.5688371754497504)]]\n",
      "cur node 17\n",
      "[[np.float64(0.21734820522109893), np.float64(0.5147874163755803), np.float64(0.33004236138818305)], [np.float64(0.3299151223770781), np.float64(0.5688371754497504)], [np.float64(0.2142230134473443)]]\n",
      "cur node 18\n",
      "[[np.float64(0.21734820522109893), np.float64(0.5147874163755803), np.float64(0.33004236138818305)], [np.float64(0.3299151223770781), np.float64(0.5688371754497504)], [np.float64(0.2142230134473443)]]\n",
      "all [[], [[np.float64(1.0137778960074872)]], [[np.float64(0.3861209361318126), np.float64(0.5918871064718276), np.float64(1.6627004442624695), np.float64(0.5968458152195195), np.float64(0.2402381551777252), np.float64(1.1841564912028961), np.float64(1.5361554596153573), np.float64(1.7699974491749837), np.float64(1.07732911677578), np.float64(2.7152727443373736), np.float64(1.537725119228167)], [np.float64(0.6787666560784847), np.float64(1.6959586634906623), np.float64(0.5383074372522284), np.float64(0.39347986852417294), np.float64(1.045086512833423), np.float64(1.8367689367124045), np.float64(1.5067566756354953), np.float64(1.5425083422951582), np.float64(2.9680250076245858), np.float64(1.7928402291294807)], [np.float64(0.9657616537497875), np.float64(1.022029980490525), np.float64(0.8175242101126418), np.float64(1.5445179513877239), np.float64(2.182135055108056), np.float64(2.0715596776695193), np.float64(1.768238121470086), np.float64(2.1429134762933617), np.float64(1.028508479824208)], [np.float64(0.7535726665627412), np.float64(1.6115053455071389), np.float64(2.6095503718609994), np.float64(1.939191648395521), np.float64(1.7488174292244454), np.float64(2.7822466061608235), np.float64(1.0554379928366289), np.float64(1.9290589721143587)], [np.float64(0.5108397164695141), np.float64(1.4882138951954598), np.float64(1.1587467920001047), np.float64(1.0384838165018362), np.float64(1.6829410534544562), np.float64(1.8289600100332757), np.float64(2.0141168544830848)], [np.float64(1.279595201529432), np.float64(1.3348773227434878), np.float64(1.699074951141414), np.float64(1.1081390030150091), np.float64(2.6430128086872458), np.float64(1.7342362565928586)], [np.float64(0.6866721367708598), np.float64(0.5185758307843074), np.float64(0.32715014653211194), np.float64(1.807315568311239), np.float64(0.6067546078273128)], [np.float64(0.3398719601680674), np.float64(0.4398838272607305), np.float64(0.8706769388127727), np.float64(1.0527302368335592)], [np.float64(0.9238969221871609), np.float64(0.892635628115177), np.float64(1.1202775872386956)], [np.float64(1.7668046827310984), np.float64(0.6511890171914239)], [np.float64(1.0370893541217583)]], [[np.float64(0.21734820522109893), np.float64(0.5147874163755803), np.float64(0.33004236138818305)], [np.float64(0.3299151223770781), np.float64(0.5688371754497504)], [np.float64(0.2142230134473443)]]]\n",
      "[0, 1, 3, 15, 19, 21] \n",
      "\n",
      "cur node 19\n",
      "[[np.float64(0.14276156335410012)]]\n",
      "cur node 20\n",
      "[[np.float64(0.14276156335410012)]]\n",
      "all [[], [[np.float64(1.0137778960074872)]], [[np.float64(0.3861209361318126), np.float64(0.5918871064718276), np.float64(1.6627004442624695), np.float64(0.5968458152195195), np.float64(0.2402381551777252), np.float64(1.1841564912028961), np.float64(1.5361554596153573), np.float64(1.7699974491749837), np.float64(1.07732911677578), np.float64(2.7152727443373736), np.float64(1.537725119228167)], [np.float64(0.6787666560784847), np.float64(1.6959586634906623), np.float64(0.5383074372522284), np.float64(0.39347986852417294), np.float64(1.045086512833423), np.float64(1.8367689367124045), np.float64(1.5067566756354953), np.float64(1.5425083422951582), np.float64(2.9680250076245858), np.float64(1.7928402291294807)], [np.float64(0.9657616537497875), np.float64(1.022029980490525), np.float64(0.8175242101126418), np.float64(1.5445179513877239), np.float64(2.182135055108056), np.float64(2.0715596776695193), np.float64(1.768238121470086), np.float64(2.1429134762933617), np.float64(1.028508479824208)], [np.float64(0.7535726665627412), np.float64(1.6115053455071389), np.float64(2.6095503718609994), np.float64(1.939191648395521), np.float64(1.7488174292244454), np.float64(2.7822466061608235), np.float64(1.0554379928366289), np.float64(1.9290589721143587)], [np.float64(0.5108397164695141), np.float64(1.4882138951954598), np.float64(1.1587467920001047), np.float64(1.0384838165018362), np.float64(1.6829410534544562), np.float64(1.8289600100332757), np.float64(2.0141168544830848)], [np.float64(1.279595201529432), np.float64(1.3348773227434878), np.float64(1.699074951141414), np.float64(1.1081390030150091), np.float64(2.6430128086872458), np.float64(1.7342362565928586)], [np.float64(0.6866721367708598), np.float64(0.5185758307843074), np.float64(0.32715014653211194), np.float64(1.807315568311239), np.float64(0.6067546078273128)], [np.float64(0.3398719601680674), np.float64(0.4398838272607305), np.float64(0.8706769388127727), np.float64(1.0527302368335592)], [np.float64(0.9238969221871609), np.float64(0.892635628115177), np.float64(1.1202775872386956)], [np.float64(1.7668046827310984), np.float64(0.6511890171914239)], [np.float64(1.0370893541217583)]], [[np.float64(0.21734820522109893), np.float64(0.5147874163755803), np.float64(0.33004236138818305)], [np.float64(0.3299151223770781), np.float64(0.5688371754497504)], [np.float64(0.2142230134473443)]], [[np.float64(0.14276156335410012)]]]\n",
      "Elapsed time: 1.6816783999965992 seconds\n"
     ]
    }
   ],
   "source": [
    "test_tree = graph_tree(attr_name = col_name, X = normalized_data, X_maxmin=[scaler.data_max_,scaler.data_min_])\n",
    "# test_tree.show_root()\n",
    "with Timer():\n",
    "    test_tree.build_tree(min_threshold_for_clustering=200)"
   ]
  },
  {
   "cell_type": "code",
   "execution_count": 9,
   "metadata": {},
   "outputs": [],
   "source": [
    "# import pickle\n",
    "\n",
    "# with open(\"graph_tree.pkl\", 'wb') as f:\n",
    "#     pickle.dump(test_tree, f)"
   ]
  },
  {
   "cell_type": "code",
   "execution_count": 10,
   "metadata": {},
   "outputs": [
    {
     "name": "stdout",
     "output_type": "stream",
     "text": [
      "Elapsed time: 0.0005681999900843948 seconds\n",
      "0\n"
     ]
    }
   ],
   "source": [
    "t = 200000\n",
    "while t>100:\n",
    "    seaching = test_query_generator()\n",
    "    with Timer():\n",
    "        cur = test_tree.search(seaching)\n",
    "    t=cur.id\n",
    "    print(cur.id)"
   ]
  },
  {
   "cell_type": "code",
   "execution_count": 11,
   "metadata": {},
   "outputs": [
    {
     "name": "stdout",
     "output_type": "stream",
     "text": [
      "will return a sorted list of leaf node\n",
      "[0]\n",
      "poped 0\n",
      "[1, 2]\n",
      "poped 1\n",
      "poped 2\n",
      "[3, 4, 5, 6, 7, 8, 9, 10, 11, 12, 13, 14]\n",
      "poped 3\n",
      "cal True False\n",
      "poped 4\n",
      "cal True False\n",
      "poped 5\n",
      "cal True False\n",
      "poped 6\n",
      "cal True False\n",
      "poped 7\n",
      "cal True False\n",
      "poped 8\n",
      "cal True False\n",
      "poped 9\n",
      "poped 10\n",
      "cal True False\n",
      "poped 11\n",
      "cal True False\n",
      "poped 12\n",
      "poped 13\n",
      "cal True False\n",
      "poped 14\n",
      "cal True False\n",
      "[15, 16, 17, 18]\n",
      "poped 15\n",
      "poped 16\n",
      "cal True False\n",
      "poped 17\n",
      "cal True False\n",
      "poped 18\n",
      "cal True False\n",
      "[19, 20]\n",
      "poped 19\n",
      "cal True False\n",
      "poped 20\n",
      "cal True False\n",
      "[]\n",
      "res [5, 14, 20, 19, 3, 18, 4, 8, 16, 17, 7, 11, 6, 10, 13]\n",
      "[5, 14, 20, 19, 3, 18, 4, 8, 16, 17, 7, 11, 6, 10, 13]\n",
      "[<graph_tree_list_module.Node object at 0x0000011D1D1E12B0>, <graph_tree_list_module.Node object at 0x0000011D1B5F6780>]\n"
     ]
    }
   ],
   "source": [
    "a = test_tree._get_closest_node_within_lv(seaching, cur)\n",
    "print([n.id for n in a])\n",
    "print(cur.down_lv)"
   ]
  },
  {
   "cell_type": "code",
   "execution_count": 12,
   "metadata": {},
   "outputs": [
    {
     "name": "stdout",
     "output_type": "stream",
     "text": [
      "└── 0\n",
      "    ├── 1\n",
      "    │   ├── 3\n",
      "    │   ├── 4\n",
      "    │   ├── 5\n",
      "    │   ├── 6\n",
      "    │   ├── 7\n",
      "    │   └── 8\n",
      "    └── 2\n",
      "        ├── 9\n",
      "        │   ├── 15\n",
      "        │   │   ├── 19\n",
      "        │   │   └── 20\n",
      "        │   └── 16\n",
      "        ├── 10\n",
      "        ├── 11\n",
      "        ├── 12\n",
      "        │   ├── 17\n",
      "        │   └── 18\n",
      "        ├── 13\n",
      "        └── 14\n"
     ]
    }
   ],
   "source": [
    "test_tree.print_tree(test_tree.nodes[0])"
   ]
  },
  {
   "cell_type": "code",
   "execution_count": 13,
   "metadata": {},
   "outputs": [
    {
     "name": "stdout",
     "output_type": "stream",
     "text": [
      "[0.44036364 0.5291267  0.65660264 0.47645455 0.76121848 0.6405\n",
      " 0.06197007 0.25581723 0.13625976 0.18137536 0.48564998 0.48213134\n",
      " 0.18333419 0.728875  ]\n"
     ]
    }
   ],
   "source": [
    "print(test_tree.nodes[0].center)"
   ]
  },
  {
   "cell_type": "code",
   "execution_count": 14,
   "metadata": {},
   "outputs": [
    {
     "name": "stdout",
     "output_type": "stream",
     "text": [
      "0\n",
      "will return a sorted list of leaf node\n",
      "[0]\n",
      "poped 0\n",
      "[1, 2]\n",
      "poped 1\n",
      "poped 2\n",
      "[3, 4, 5, 6, 7, 8, 9, 10, 11, 12, 13, 14]\n",
      "poped 3\n",
      "cal True False\n",
      "poped 4\n",
      "cal True False\n",
      "poped 5\n",
      "cal True False\n",
      "poped 6\n",
      "cal True False\n",
      "poped 7\n",
      "cal True False\n",
      "poped 8\n",
      "cal True False\n",
      "poped 9\n",
      "poped 10\n",
      "cal True False\n",
      "poped 11\n",
      "cal True False\n",
      "poped 12\n",
      "poped 13\n",
      "cal True False\n",
      "poped 14\n",
      "cal True False\n",
      "[15, 16, 17, 18]\n",
      "poped 15\n",
      "poped 16\n",
      "cal True False\n",
      "poped 17\n",
      "cal True False\n",
      "poped 18\n",
      "cal True False\n",
      "[19, 20]\n",
      "poped 19\n",
      "cal True False\n",
      "poped 20\n",
      "cal True False\n",
      "[]\n",
      "res [19, 16, 18, 3, 17, 20, 8, 10, 4, 11, 7, 14, 5, 13, 6]\n",
      "will return a one closest node within lv\n",
      "[0]\n",
      "poped 0\n",
      "[1, 2]\n",
      "poped 1\n",
      "cal False True\n",
      "poped 2\n",
      "cal False True\n",
      "res [2]\n"
     ]
    }
   ],
   "source": [
    "res = test_tree.reflection_search(np.mean(normalized_data[:100], axis=0), node=test_tree.nodes[11], degree=2)"
   ]
  },
  {
   "cell_type": "code",
   "execution_count": 15,
   "metadata": {},
   "outputs": [
    {
     "data": {
      "text/plain": [
       "[[<graph_tree_list_module.Node at 0x11d1b5f6780>],\n",
       " array([0.45153535, 0.52339993, 0.68550112, 0.49472727, 0.76952637,\n",
       "        0.561     , 0.06974494, 0.27134241, 0.13702421, 0.19445554,\n",
       "        0.47458816, 0.49446303, 0.19104194, 0.73775   ]),\n",
       " [np.int64(934),\n",
       "  np.int64(461),\n",
       "  np.int64(767),\n",
       "  np.int64(1807),\n",
       "  np.int64(1065),\n",
       "  np.int64(915),\n",
       "  np.int64(107),\n",
       "  np.int64(1006),\n",
       "  np.int64(1318),\n",
       "  np.int64(803)]]"
      ]
     },
     "execution_count": 15,
     "metadata": {},
     "output_type": "execute_result"
    }
   ],
   "source": [
    "res"
   ]
  },
  {
   "cell_type": "code",
   "execution_count": 16,
   "metadata": {},
   "outputs": [
    {
     "name": "stdout",
     "output_type": "stream",
     "text": [
      "-- mine result0\n",
      "search number:  181\n",
      "hitted right result: 12\n",
      "-- kmeans result\n",
      "Counter({np.int32(4): 410, np.int32(2): 271, np.int32(6): 261, np.int32(1): 249, np.int32(8): 224, np.int32(0): 158, np.int32(5): 145, np.int32(7): 115, np.int32(3): 90, np.int32(9): 77})\n",
      "Counter({np.int32(2): 20, np.int32(4): 20, np.int32(6): 14, np.int32(1): 12, np.int32(8): 9, np.int32(5): 7, np.int32(0): 6, np.int32(3): 6, np.int32(7): 5, np.int32(9): 1})\n",
      "belongs to group:  2 \n",
      "\n",
      "-- mine result100\n",
      "search number:  2000\n",
      "hitted right result: 100\n",
      "-- kmeans result\n",
      "Counter({np.int32(4): 410, np.int32(2): 271, np.int32(6): 261, np.int32(1): 249, np.int32(8): 224, np.int32(0): 158, np.int32(5): 145, np.int32(7): 115, np.int32(3): 90, np.int32(9): 77})\n",
      "Counter({np.int32(4): 22, np.int32(6): 11, np.int32(1): 11, np.int32(2): 11, np.int32(5): 10, np.int32(0): 10, np.int32(7): 8, np.int32(9): 7, np.int32(8): 7, np.int32(3): 3})\n",
      "belongs to group:  4 \n",
      "\n",
      "-- mine result200\n",
      "search number:  2000\n",
      "hitted right result: 100\n",
      "-- kmeans result\n",
      "Counter({np.int32(4): 410, np.int32(2): 271, np.int32(6): 261, np.int32(1): 249, np.int32(8): 224, np.int32(0): 158, np.int32(5): 145, np.int32(7): 115, np.int32(3): 90, np.int32(9): 77})\n",
      "Counter({np.int32(4): 15, np.int32(6): 15, np.int32(2): 15, np.int32(8): 11, np.int32(1): 10, np.int32(0): 9, np.int32(3): 9, np.int32(7): 6, np.int32(5): 5, np.int32(9): 5})\n",
      "belongs to group:  4 \n",
      "\n",
      "-- mine result300\n",
      "search number:  2000\n",
      "hitted right result: 100\n",
      "-- kmeans result\n",
      "Counter({np.int32(4): 410, np.int32(2): 271, np.int32(6): 261, np.int32(1): 249, np.int32(8): 224, np.int32(0): 158, np.int32(5): 145, np.int32(7): 115, np.int32(3): 90, np.int32(9): 77})\n",
      "Counter({np.int32(4): 24, np.int32(6): 16, np.int32(2): 14, np.int32(8): 14, np.int32(1): 8, np.int32(5): 6, np.int32(0): 6, np.int32(7): 6, np.int32(9): 3, np.int32(3): 3})\n",
      "belongs to group:  4 \n",
      "\n",
      "-- mine result400\n",
      "search number:  2000\n",
      "hitted right result: 100\n",
      "-- kmeans result\n",
      "Counter({np.int32(4): 410, np.int32(2): 271, np.int32(6): 261, np.int32(1): 249, np.int32(8): 224, np.int32(0): 158, np.int32(5): 145, np.int32(7): 115, np.int32(3): 90, np.int32(9): 77})\n",
      "Counter({np.int32(4): 21, np.int32(8): 16, np.int32(1): 14, np.int32(6): 14, np.int32(2): 11, np.int32(5): 10, np.int32(0): 7, np.int32(7): 5, np.int32(3): 2})\n",
      "belongs to group:  4 \n",
      "\n",
      "-- mine result500\n",
      "search number:  361\n",
      "hitted right result: 18\n",
      "-- kmeans result\n",
      "Counter({np.int32(4): 410, np.int32(2): 271, np.int32(6): 261, np.int32(1): 249, np.int32(8): 224, np.int32(0): 158, np.int32(5): 145, np.int32(7): 115, np.int32(3): 90, np.int32(9): 77})\n",
      "Counter({np.int32(4): 27, np.int32(2): 15, np.int32(1): 14, np.int32(6): 13, np.int32(5): 8, np.int32(8): 8, np.int32(0): 6, np.int32(7): 5, np.int32(9): 3, np.int32(3): 1})\n",
      "belongs to group:  4 \n",
      "\n",
      "-- mine result600\n",
      "search number:  2000\n",
      "hitted right result: 100\n",
      "-- kmeans result\n",
      "Counter({np.int32(4): 410, np.int32(2): 271, np.int32(6): 261, np.int32(1): 249, np.int32(8): 224, np.int32(0): 158, np.int32(5): 145, np.int32(7): 115, np.int32(3): 90, np.int32(9): 77})\n",
      "Counter({np.int32(4): 18, np.int32(1): 16, np.int32(8): 13, np.int32(2): 12, np.int32(6): 10, np.int32(9): 9, np.int32(3): 8, np.int32(5): 7, np.int32(0): 5, np.int32(7): 2})\n",
      "belongs to group:  4 \n",
      "\n",
      "-- mine result700\n",
      "search number:  2000\n",
      "hitted right result: 100\n",
      "-- kmeans result\n",
      "Counter({np.int32(4): 410, np.int32(2): 271, np.int32(6): 261, np.int32(1): 249, np.int32(8): 224, np.int32(0): 158, np.int32(5): 145, np.int32(7): 115, np.int32(3): 90, np.int32(9): 77})\n",
      "Counter({np.int32(4): 24, np.int32(1): 14, np.int32(2): 12, np.int32(8): 11, np.int32(6): 10, np.int32(9): 7, np.int32(5): 6, np.int32(0): 6, np.int32(3): 5, np.int32(7): 5})\n",
      "belongs to group:  4 \n",
      "\n",
      "-- mine result800\n",
      "search number:  2000\n",
      "hitted right result: 100\n",
      "-- kmeans result\n",
      "Counter({np.int32(4): 410, np.int32(2): 271, np.int32(6): 261, np.int32(1): 249, np.int32(8): 224, np.int32(0): 158, np.int32(5): 145, np.int32(7): 115, np.int32(3): 90, np.int32(9): 77})\n",
      "Counter({np.int32(4): 26, np.int32(6): 13, np.int32(0): 12, np.int32(2): 12, np.int32(1): 11, np.int32(7): 9, np.int32(8): 8, np.int32(5): 5, np.int32(3): 3, np.int32(9): 1})\n",
      "belongs to group:  4 \n",
      "\n",
      "-- mine result900\n",
      "search number:  2000\n",
      "hitted right result: 100\n",
      "-- kmeans result\n",
      "Counter({np.int32(4): 410, np.int32(2): 271, np.int32(6): 261, np.int32(1): 249, np.int32(8): 224, np.int32(0): 158, np.int32(5): 145, np.int32(7): 115, np.int32(3): 90, np.int32(9): 77})\n",
      "Counter({np.int32(6): 19, np.int32(4): 17, np.int32(2): 15, np.int32(8): 14, np.int32(5): 9, np.int32(0): 8, np.int32(1): 7, np.int32(3): 5, np.int32(7): 5, np.int32(9): 1})\n",
      "belongs to group:  6 \n",
      "\n"
     ]
    }
   ],
   "source": [
    "from collections import Counter\n",
    "\n",
    "\"\"\"\n",
    "create a new index (something like tf-idf)\n",
    "data reduction rate\n",
    "vs\n",
    "accurate\n",
    "\"\"\"\n",
    "def score(search_data, acc, smoothing = 0.001, lam = 0.5):\n",
    "    return lam*(acc/100)+(1-lam)*(1-(search_data/(1000+smoothing)))\n",
    "\n",
    "my_score = []\n",
    "normal_kmeans_score = []\n",
    "\n",
    "tmp = [i*100 for i in range(10)]\n",
    "for i in tmp:\n",
    "    b = i\n",
    "    u = i+100\n",
    "    # print(normalized_data[b:u])\n",
    "    print(f\"-- mine result{i}\")\n",
    "    seaching = np.mean(normalized_data[b:u], axis=0)\n",
    "    result = test_tree.search(seaching)\n",
    "    \n",
    "    print(\"search number: \", len(result.index))\n",
    "    right = np.where((result.index>=b) & (result.index<u))[0] # return index\n",
    "    print(\"hitted right result:\", len(right))\n",
    "    my_score.append(score(len(result.index), len(right)))\n",
    "\n",
    "    ############\n",
    "    print(\"-- kmeans result\")\n",
    "    checking = KMeans(n_clusters=10, random_state=0).fit(normalized_data)\n",
    "\n",
    "    counts1 = Counter(checking.labels_)\n",
    "    print(counts1)\n",
    "\n",
    "    counts2 = Counter(checking.labels_[b:u])\n",
    "    print(counts2)\n",
    "    belongs_group = counts2.most_common()[0][0]\n",
    "    print(\"belongs to group: \", belongs_group, \"\\n\")\n",
    "    # print(counts1.get(belongs_group), counts2.get(belongs_group))\n",
    "    normal_kmeans_score.append(score(counts1.get(belongs_group), counts2.get(belongs_group)))\n",
    "\n",
    "    "
   ]
  },
  {
   "cell_type": "code",
   "execution_count": 17,
   "metadata": {},
   "outputs": [
    {
     "name": "stdout",
     "output_type": "stream",
     "text": [
      "[0.4695000904999095, 9.99998999939855e-07, 9.99998999939855e-07, 9.99998999939855e-07, 9.99998999939855e-07, 0.4095001804998195, 9.99998999939855e-07, 9.99998999939855e-07, 9.99998999939855e-07, 9.99998999939855e-07]\n",
      "[0.46450013549986446, 0.40500020499979494, 0.37000020499979497, 0.41500020499979495, 0.40000020499979494, 0.43000020499979497, 0.3850002049997949, 0.41500020499979495, 0.42500020499979496, 0.4645001304998695]\n",
      "0.8790082709917285\n",
      "4.174001905998094\n"
     ]
    }
   ],
   "source": [
    "print(my_score)\n",
    "print(normal_kmeans_score)\n",
    "\n",
    "print(sum(my_score))\n",
    "print(sum(normal_kmeans_score))"
   ]
  }
 ],
 "metadata": {
  "kernelspec": {
   "display_name": "Python 3",
   "language": "python",
   "name": "python3"
  },
  "language_info": {
   "codemirror_mode": {
    "name": "ipython",
    "version": 3
   },
   "file_extension": ".py",
   "mimetype": "text/x-python",
   "name": "python",
   "nbconvert_exporter": "python",
   "pygments_lexer": "ipython3",
   "version": "3.12.5"
  }
 },
 "nbformat": 4,
 "nbformat_minor": 2
}
