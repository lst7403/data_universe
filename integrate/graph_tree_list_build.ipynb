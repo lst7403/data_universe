{
 "cells": [
  {
   "cell_type": "code",
   "execution_count": 1,
   "metadata": {},
   "outputs": [],
   "source": [
    "import time\n",
    "import copy\n",
    "import random\n",
    "\n",
    "import pandas as pd\n",
    "import numpy as np\n",
    "from sklearn.preprocessing import MinMaxScaler\n",
    "from sklearn.cluster import KMeans\n",
    "\n",
    "from graph_tree_list_module import *\n"
   ]
  },
  {
   "cell_type": "code",
   "execution_count": 2,
   "metadata": {},
   "outputs": [],
   "source": [
    "raw = pd.read_csv(r'../Data/train.csv')\n",
    "# print(raw)\n",
    "\n",
    "random_seed = 42\n",
    "\n",
    "# print(list(raw.columns)[:])"
   ]
  },
  {
   "cell_type": "code",
   "execution_count": 3,
   "metadata": {},
   "outputs": [
    {
     "name": "stdout",
     "output_type": "stream",
     "text": [
      "(2000, 14)\n",
      "['Popularity', 'danceability', 'energy', 'key', 'loudness', 'mode', 'speechiness', 'acousticness', 'instrumentalness', 'liveness', 'valence', 'tempo', 'duration_in min/ms', 'time_signature']\n"
     ]
    }
   ],
   "source": [
    "data = raw.iloc[:,2:-1]\n",
    "data = data.fillna(0)\n",
    "data = data[:2000]\n",
    "print(data.shape)\n",
    "scaler = MinMaxScaler()\n",
    "normalized_data = scaler.fit_transform(data)\n",
    "\n",
    "# label\n",
    "y = raw.iloc[:,-1]\n",
    "# print(y)\n",
    "\n",
    "col_name = list(raw.columns)[2:-1]\n",
    "print(col_name)\n",
    "# print(normalized_data)"
   ]
  },
  {
   "cell_type": "code",
   "execution_count": 4,
   "metadata": {},
   "outputs": [],
   "source": [
    "data_min = scaler.data_min_\n",
    "data_max = scaler.data_max_\n",
    "\n",
    "# print(data_min, data_max)"
   ]
  },
  {
   "cell_type": "code",
   "execution_count": 5,
   "metadata": {},
   "outputs": [],
   "source": [
    "def test_query_generator():\n",
    "    return [random.uniform(data_min[i], data_max[i]) for i in range(len(data_max))]"
   ]
  },
  {
   "cell_type": "code",
   "execution_count": 6,
   "metadata": {},
   "outputs": [
    {
     "name": "stdout",
     "output_type": "stream",
     "text": [
      "[np.float64(25.312893744149584), np.float64(0.46834297686557097), np.float64(0.5709926695728514), np.float64(1.5752251201979668), np.float64(-20.69703581879765), np.float64(0.15850189715330165), np.float64(0.8886825041717856), np.float64(0.02344171273350431), np.float64(0.018903297543244716), np.float64(0.4796584782672293), np.float64(0.8133858509799345), np.float64(103.20940539018895), np.float64(730432.9549014961), np.float64(3.6673764134564535)]\n"
     ]
    }
   ],
   "source": [
    "print(test_query_generator())"
   ]
  },
  {
   "cell_type": "code",
   "execution_count": 7,
   "metadata": {},
   "outputs": [],
   "source": [
    "import time\n",
    "\n",
    "class Timer:\n",
    "    def __enter__(self):\n",
    "        self.start_time = time.perf_counter()\n",
    "        return self\n",
    "\n",
    "    def __exit__(self, *args):\n",
    "        self.end_time = time.perf_counter()\n",
    "        self.elapsed_time = self.end_time - self.start_time\n",
    "        print(f\"Elapsed time: {self.elapsed_time} seconds\")"
   ]
  },
  {
   "cell_type": "code",
   "execution_count": 8,
   "metadata": {},
   "outputs": [
    {
     "name": "stdout",
     "output_type": "stream",
     "text": [
      "cur node 0\n",
      "no. of cur node data 2000\n",
      "optimal K 2\n",
      "0's child: [1, 2] \n",
      "\n",
      "cur node 1\n",
      "no. of cur node data 719\n",
      "optimal K 4\n",
      "1's child: [3, 4, 5, 6] \n",
      "\n",
      "cur node 2\n",
      "no. of cur node data 1281\n",
      "optimal K 2\n",
      "2's child: [7, 8] \n",
      "\n",
      "cur node 3\n",
      "no. of cur node data 238\n",
      "optimal K 2\n",
      "3's child: [9, 10] \n",
      "\n",
      "cur node 4\n",
      "no. of cur node data 277\n",
      "optimal K 3\n",
      "4's child: [11, 12, 13] \n",
      "\n",
      "cur node 5\n",
      "no. of cur node data 78\n",
      "added to Popularity min\n",
      "added to danceability min\n",
      "added to energy max\n",
      "added to key max\n",
      "added to loudness max\n",
      "added to mode min\n",
      "added to speechiness min\n",
      "added to acousticness min\n",
      "added to instrumentalness max\n",
      "added to liveness min\n",
      "added to valence min\n",
      "added to tempo max\n",
      "added to duration_in min/ms max\n",
      "added to time_signature min\n",
      "\n",
      "\n",
      "cur node 6\n",
      "no. of cur node data 126\n",
      "added to energy min\n",
      "added to key max\n",
      "added to loudness min\n",
      "added to mode min\n",
      "added to speechiness min\n",
      "added to acousticness max\n",
      "added to liveness min\n",
      "added to tempo min\n",
      "added to duration_in min/ms min\n",
      "added to time_signature min\n",
      "\n",
      "\n",
      "cur node 7\n",
      "no. of cur node data 345\n",
      "optimal K 2\n",
      "7's child: [14, 15] \n",
      "\n",
      "cur node 8\n",
      "no. of cur node data 936\n",
      "optimal K 3\n",
      "8's child: [16, 17, 18] \n",
      "\n",
      "cur node 9\n",
      "no. of cur node data 133\n",
      "added to Popularity max\n",
      "added to danceability max\n",
      "added to key max\n",
      "added to loudness max\n",
      "added to mode min\n",
      "added to speechiness max\n",
      "added to instrumentalness min\n",
      "added to valence max\n",
      "added to time_signature max\n",
      "\n",
      "\n",
      "cur node 10\n",
      "no. of cur node data 105\n",
      "added to Popularity max\n",
      "added to danceability min\n",
      "added to energy max\n",
      "added to key max\n",
      "added to loudness max\n",
      "added to mode min\n",
      "added to acousticness min\n",
      "added to liveness max\n",
      "added to valence min\n",
      "\n",
      "\n",
      "cur node 11\n",
      "no. of cur node data 124\n",
      "added to danceability min\n",
      "added to energy max\n",
      "added to key min\n",
      "added to loudness max\n",
      "added to mode min\n",
      "added to acousticness min\n",
      "added to liveness max\n",
      "added to tempo max\n",
      "\n",
      "\n",
      "cur node 12\n",
      "no. of cur node data 55\n",
      "added to Popularity min\n",
      "added to key min\n",
      "added to mode min\n",
      "\n",
      "\n",
      "cur node 13\n",
      "no. of cur node data 98\n",
      "added to mode min\n",
      "added to valence max\n",
      "\n",
      "\n",
      "cur node 14\n",
      "no. of cur node data 88\n",
      "added to Popularity min\n",
      "added to danceability min\n",
      "added to energy min\n",
      "added to loudness min\n",
      "added to mode max\n",
      "added to speechiness min\n",
      "added to acousticness max\n",
      "added to instrumentalness max\n",
      "added to liveness min\n",
      "added to valence min\n",
      "added to tempo min\n",
      "added to duration_in min/ms min\n",
      "added to time_signature min\n",
      "\n",
      "\n",
      "cur node 15\n",
      "no. of cur node data 257\n",
      "optimal K 2\n",
      "15's child: [19, 20] \n",
      "\n",
      "cur node 16\n",
      "no. of cur node data 396\n",
      "optimal K 2\n",
      "16's child: [21, 22] \n",
      "\n",
      "cur node 17\n",
      "no. of cur node data 438\n",
      "optimal K 2\n",
      "17's child: [23, 24] \n",
      "\n",
      "cur node 18\n",
      "no. of cur node data 102\n",
      "added to mode max\n",
      "\n",
      "\n",
      "cur node 19\n",
      "no. of cur node data 117\n",
      "added to mode max\n",
      "\n",
      "\n",
      "cur node 20\n",
      "no. of cur node data 140\n",
      "added to Popularity min\n",
      "added to mode max\n",
      "\n",
      "\n",
      "cur node 21\n",
      "no. of cur node data 197\n",
      "added to key min\n",
      "added to mode max\n",
      "\n",
      "\n",
      "cur node 22\n",
      "no. of cur node data 199\n",
      "added to Popularity max\n",
      "added to mode max\n",
      "\n",
      "\n",
      "cur node 23\n",
      "no. of cur node data 229\n",
      "optimal K 3\n",
      "23's child: [25, 26, 27] \n",
      "\n",
      "cur node 24\n",
      "no. of cur node data 209\n",
      "optimal K 2\n",
      "24's child: [28, 29] \n",
      "\n",
      "cur node 25\n",
      "no. of cur node data 72\n",
      "added to Popularity min\n",
      "added to mode max\n",
      "\n",
      "\n",
      "cur node 26\n",
      "no. of cur node data 70\n",
      "added to Popularity max\n",
      "added to mode max\n",
      "added to instrumentalness min\n",
      "added to liveness min\n",
      "added to tempo min\n",
      "\n",
      "\n",
      "cur node 27\n",
      "no. of cur node data 87\n",
      "added to mode max\n",
      "added to liveness max\n",
      "added to valence max\n",
      "\n",
      "\n",
      "cur node 28\n",
      "no. of cur node data 127\n",
      "added to mode max\n",
      "added to valence min\n",
      "\n",
      "\n",
      "cur node 29\n",
      "no. of cur node data 82\n",
      "added to danceability min\n",
      "added to energy max\n",
      "added to loudness max\n",
      "added to mode max\n",
      "added to liveness max\n",
      "added to tempo max\n",
      "\n",
      "\n",
      "Elapsed time: 1.9137506000115536 seconds\n"
     ]
    }
   ],
   "source": [
    "test_tree = graph_tree(attr_name = col_name, X = normalized_data, X_maxmin=[scaler.data_max_,scaler.data_min_])\n",
    "# test_tree.show_root()\n",
    "with Timer():\n",
    "    test_tree.build_tree(min_threshold_for_clustering=200)"
   ]
  },
  {
   "cell_type": "code",
   "execution_count": 9,
   "metadata": {},
   "outputs": [
    {
     "name": "stdout",
     "output_type": "stream",
     "text": [
      "[0, 1, 2, 3, 4, 5, 6, 7, 8, 9, 10, 11, 12, 13, 14, 15, 16, 17, 18, 19, 20, 21, 22, 23, 24, 25, 26, 27, 28, 29]\n"
     ]
    }
   ],
   "source": [
    "print([i.id for i in test_tree.nodes])"
   ]
  },
  {
   "cell_type": "code",
   "execution_count": 10,
   "metadata": {},
   "outputs": [],
   "source": [
    "# import pickle\n",
    "\n",
    "# with open(\"graph_tree.pkl\", 'wb') as f:\n",
    "#     pickle.dump(test_tree, f)"
   ]
  },
  {
   "cell_type": "code",
   "execution_count": 11,
   "metadata": {},
   "outputs": [
    {
     "name": "stdout",
     "output_type": "stream",
     "text": [
      "Elapsed time: 0.0008407999994233251 seconds\n",
      "14\n"
     ]
    }
   ],
   "source": [
    "t = 200000\n",
    "while t>100:\n",
    "    seaching = test_query_generator()\n",
    "    with Timer():\n",
    "        cur = test_tree.search(seaching)\n",
    "    t=cur.id\n",
    "    print(cur.id)"
   ]
  },
  {
   "cell_type": "code",
   "execution_count": 12,
   "metadata": {},
   "outputs": [
    {
     "name": "stdout",
     "output_type": "stream",
     "text": [
      "will return a sorted list of leaf node\n",
      "[14]\n",
      "poped 14\n",
      "cal True False\n",
      "[]\n",
      "res [14]\n",
      "[14]\n",
      "[]\n"
     ]
    }
   ],
   "source": [
    "a = test_tree._get_closest_node_within_lv(seaching, cur)\n",
    "print([n.id for n in a])\n",
    "print(cur.down_lv)"
   ]
  },
  {
   "cell_type": "code",
   "execution_count": 13,
   "metadata": {},
   "outputs": [
    {
     "name": "stdout",
     "output_type": "stream",
     "text": [
      "930029.6658931556\n",
      "930029.6658931556\n"
     ]
    }
   ],
   "source": [
    "print(calculation.l1(seaching, a[-1].center))\n",
    "print(calculation.l1(seaching, a[0].center))"
   ]
  },
  {
   "cell_type": "code",
   "execution_count": 14,
   "metadata": {},
   "outputs": [
    {
     "name": "stdout",
     "output_type": "stream",
     "text": [
      "└── 0\n",
      "    ├── 1\n",
      "    │   ├── 3\n",
      "    │   │   ├── 9\n",
      "    │   │   └── 10\n",
      "    │   ├── 4\n",
      "    │   │   ├── 11\n",
      "    │   │   ├── 12\n",
      "    │   │   └── 13\n",
      "    │   ├── 5\n",
      "    │   └── 6\n",
      "    └── 2\n",
      "        ├── 7\n",
      "        │   ├── 14\n",
      "        │   └── 15\n",
      "        │       ├── 19\n",
      "        │       └── 20\n",
      "        └── 8\n",
      "            ├── 16\n",
      "            │   ├── 21\n",
      "            │   └── 22\n",
      "            ├── 17\n",
      "            │   ├── 23\n",
      "            │   │   ├── 25\n",
      "            │   │   ├── 26\n",
      "            │   │   └── 27\n",
      "            │   └── 24\n",
      "            │       ├── 28\n",
      "            │       └── 29\n",
      "            └── 18\n"
     ]
    }
   ],
   "source": [
    "test_tree.print_tree(test_tree.nodes[0])"
   ]
  },
  {
   "cell_type": "code",
   "execution_count": 15,
   "metadata": {},
   "outputs": [
    {
     "name": "stdout",
     "output_type": "stream",
     "text": [
      "[0.44036364 0.5291267  0.65660264 0.47645455 0.76121848 0.6405\n",
      " 0.06197007 0.25581723 0.13625976 0.18137536 0.48564998 0.48213134\n",
      " 0.18333419 0.728875  ]\n"
     ]
    }
   ],
   "source": [
    "print(test_tree.nodes[0].center)"
   ]
  },
  {
   "cell_type": "code",
   "execution_count": 16,
   "metadata": {},
   "outputs": [
    {
     "name": "stdout",
     "output_type": "stream",
     "text": [
      "1\n",
      "will return a sorted list of leaf node\n",
      "[1]\n",
      "poped 1\n",
      "[3, 4, 5, 6]\n",
      "poped 3\n",
      "poped 4\n",
      "poped 5\n",
      "cal True False\n",
      "poped 6\n",
      "cal True False\n",
      "[9, 10, 11, 12, 13]\n",
      "poped 9\n",
      "cal True False\n",
      "poped 10\n",
      "cal True False\n",
      "poped 11\n",
      "cal True False\n",
      "poped 12\n",
      "cal True False\n",
      "poped 13\n",
      "cal True False\n",
      "[]\n",
      "res [10, 9, 13, 11, 12, 5, 6]\n",
      "will return a one closest node within lv\n",
      "[1]\n",
      "poped 1\n",
      "[3, 4, 5, 6]\n",
      "poped 3\n",
      "cal False True\n",
      "poped 4\n",
      "cal False True\n",
      "poped 5\n",
      "cal True True\n",
      "poped 6\n",
      "cal True True\n",
      "res [3]\n"
     ]
    }
   ],
   "source": [
    "res = test_tree.reflection_search(np.mean(normalized_data[:100], axis=0), node=test_tree.nodes[11], degree=2)"
   ]
  },
  {
   "cell_type": "code",
   "execution_count": 17,
   "metadata": {},
   "outputs": [
    {
     "data": {
      "text/plain": [
       "[[<graph_tree_list_module.Node at 0x2d92af5b450>],\n",
       " array([ 0.45109917,  0.57140621,  0.71280317,  0.62084208,  0.78454474,\n",
       "        -0.72      ,  0.08703692,  0.22744324,  0.12757587,  0.19001313,\n",
       "         0.49184138,  0.49607945,  0.21332408,  0.75496523]),\n",
       " [np.int64(1199),\n",
       "  np.int64(1582),\n",
       "  np.int64(1412),\n",
       "  np.int64(956),\n",
       "  np.int64(122),\n",
       "  np.int64(1193),\n",
       "  np.int64(1532),\n",
       "  np.int64(1007),\n",
       "  np.int64(1544),\n",
       "  np.int64(937)]]"
      ]
     },
     "execution_count": 17,
     "metadata": {},
     "output_type": "execute_result"
    }
   ],
   "source": [
    "res"
   ]
  },
  {
   "cell_type": "code",
   "execution_count": 18,
   "metadata": {},
   "outputs": [
    {
     "name": "stdout",
     "output_type": "stream",
     "text": [
      "-- mine result0\n",
      "search number:  2000\n",
      "hitted right result: 100\n",
      "-- kmeans result\n",
      "Counter({np.int32(4): 410, np.int32(2): 271, np.int32(6): 261, np.int32(1): 249, np.int32(8): 224, np.int32(0): 158, np.int32(5): 145, np.int32(7): 115, np.int32(3): 90, np.int32(9): 77})\n",
      "Counter({np.int32(2): 20, np.int32(4): 20, np.int32(6): 14, np.int32(1): 12, np.int32(8): 9, np.int32(5): 7, np.int32(0): 6, np.int32(3): 6, np.int32(7): 5, np.int32(9): 1})\n",
      "belongs to group:  2 \n",
      "\n",
      "-- mine result100\n",
      "search number:  2000\n",
      "hitted right result: 100\n",
      "-- kmeans result\n",
      "Counter({np.int32(4): 410, np.int32(2): 271, np.int32(6): 261, np.int32(1): 249, np.int32(8): 224, np.int32(0): 158, np.int32(5): 145, np.int32(7): 115, np.int32(3): 90, np.int32(9): 77})\n",
      "Counter({np.int32(4): 22, np.int32(6): 11, np.int32(1): 11, np.int32(2): 11, np.int32(5): 10, np.int32(0): 10, np.int32(7): 8, np.int32(9): 7, np.int32(8): 7, np.int32(3): 3})\n",
      "belongs to group:  4 \n",
      "\n",
      "-- mine result200\n",
      "search number:  2000\n",
      "hitted right result: 100\n",
      "-- kmeans result\n",
      "Counter({np.int32(4): 410, np.int32(2): 271, np.int32(6): 261, np.int32(1): 249, np.int32(8): 224, np.int32(0): 158, np.int32(5): 145, np.int32(7): 115, np.int32(3): 90, np.int32(9): 77})\n",
      "Counter({np.int32(4): 15, np.int32(6): 15, np.int32(2): 15, np.int32(8): 11, np.int32(1): 10, np.int32(0): 9, np.int32(3): 9, np.int32(7): 6, np.int32(5): 5, np.int32(9): 5})\n",
      "belongs to group:  4 \n",
      "\n",
      "-- mine result300\n",
      "search number:  2000\n",
      "hitted right result: 100\n",
      "-- kmeans result\n"
     ]
    },
    {
     "name": "stdout",
     "output_type": "stream",
     "text": [
      "Counter({np.int32(4): 410, np.int32(2): 271, np.int32(6): 261, np.int32(1): 249, np.int32(8): 224, np.int32(0): 158, np.int32(5): 145, np.int32(7): 115, np.int32(3): 90, np.int32(9): 77})\n",
      "Counter({np.int32(4): 24, np.int32(6): 16, np.int32(2): 14, np.int32(8): 14, np.int32(1): 8, np.int32(5): 6, np.int32(0): 6, np.int32(7): 6, np.int32(9): 3, np.int32(3): 3})\n",
      "belongs to group:  4 \n",
      "\n",
      "-- mine result400\n",
      "search number:  2000\n",
      "hitted right result: 100\n",
      "-- kmeans result\n",
      "Counter({np.int32(4): 410, np.int32(2): 271, np.int32(6): 261, np.int32(1): 249, np.int32(8): 224, np.int32(0): 158, np.int32(5): 145, np.int32(7): 115, np.int32(3): 90, np.int32(9): 77})\n",
      "Counter({np.int32(4): 21, np.int32(8): 16, np.int32(1): 14, np.int32(6): 14, np.int32(2): 11, np.int32(5): 10, np.int32(0): 7, np.int32(7): 5, np.int32(3): 2})\n",
      "belongs to group:  4 \n",
      "\n",
      "-- mine result500\n",
      "search number:  2000\n",
      "hitted right result: 100\n",
      "-- kmeans result\n",
      "Counter({np.int32(4): 410, np.int32(2): 271, np.int32(6): 261, np.int32(1): 249, np.int32(8): 224, np.int32(0): 158, np.int32(5): 145, np.int32(7): 115, np.int32(3): 90, np.int32(9): 77})\n",
      "Counter({np.int32(4): 27, np.int32(2): 15, np.int32(1): 14, np.int32(6): 13, np.int32(5): 8, np.int32(8): 8, np.int32(0): 6, np.int32(7): 5, np.int32(9): 3, np.int32(3): 1})\n",
      "belongs to group:  4 \n",
      "\n",
      "-- mine result600\n",
      "search number:  2000\n",
      "hitted right result: 100\n",
      "-- kmeans result\n",
      "Counter({np.int32(4): 410, np.int32(2): 271, np.int32(6): 261, np.int32(1): 249, np.int32(8): 224, np.int32(0): 158, np.int32(5): 145, np.int32(7): 115, np.int32(3): 90, np.int32(9): 77})\n",
      "Counter({np.int32(4): 18, np.int32(1): 16, np.int32(8): 13, np.int32(2): 12, np.int32(6): 10, np.int32(9): 9, np.int32(3): 8, np.int32(5): 7, np.int32(0): 5, np.int32(7): 2})\n",
      "belongs to group:  4 \n",
      "\n",
      "-- mine result700\n",
      "search number:  2000\n",
      "hitted right result: 100\n",
      "-- kmeans result\n",
      "Counter({np.int32(4): 410, np.int32(2): 271, np.int32(6): 261, np.int32(1): 249, np.int32(8): 224, np.int32(0): 158, np.int32(5): 145, np.int32(7): 115, np.int32(3): 90, np.int32(9): 77})\n",
      "Counter({np.int32(4): 24, np.int32(1): 14, np.int32(2): 12, np.int32(8): 11, np.int32(6): 10, np.int32(9): 7, np.int32(5): 6, np.int32(0): 6, np.int32(3): 5, np.int32(7): 5})\n",
      "belongs to group:  4 \n",
      "\n",
      "-- mine result800\n",
      "search number:  2000\n",
      "hitted right result: 100\n",
      "-- kmeans result\n",
      "Counter({np.int32(4): 410, np.int32(2): 271, np.int32(6): 261, np.int32(1): 249, np.int32(8): 224, np.int32(0): 158, np.int32(5): 145, np.int32(7): 115, np.int32(3): 90, np.int32(9): 77})\n",
      "Counter({np.int32(4): 26, np.int32(6): 13, np.int32(0): 12, np.int32(2): 12, np.int32(1): 11, np.int32(7): 9, np.int32(8): 8, np.int32(5): 5, np.int32(3): 3, np.int32(9): 1})\n",
      "belongs to group:  4 \n",
      "\n",
      "-- mine result900\n",
      "search number:  2000\n",
      "hitted right result: 100\n",
      "-- kmeans result\n",
      "Counter({np.int32(4): 410, np.int32(2): 271, np.int32(6): 261, np.int32(1): 249, np.int32(8): 224, np.int32(0): 158, np.int32(5): 145, np.int32(7): 115, np.int32(3): 90, np.int32(9): 77})\n",
      "Counter({np.int32(6): 19, np.int32(4): 17, np.int32(2): 15, np.int32(8): 14, np.int32(5): 9, np.int32(0): 8, np.int32(1): 7, np.int32(3): 5, np.int32(7): 5, np.int32(9): 1})\n",
      "belongs to group:  6 \n",
      "\n"
     ]
    }
   ],
   "source": [
    "from collections import Counter\n",
    "\n",
    "\"\"\"\n",
    "create a new index (something like tf-idf)\n",
    "data reduction rate\n",
    "vs\n",
    "accurate\n",
    "\"\"\"\n",
    "def score(search_data, acc, smoothing = 0.001, lam = 0.5):\n",
    "    return lam*(acc/100)+(1-lam)*(1-(search_data/(1000+smoothing)))\n",
    "\n",
    "my_score = []\n",
    "normal_kmeans_score = []\n",
    "\n",
    "tmp = [i*100 for i in range(10)]\n",
    "for i in tmp:\n",
    "    b = i\n",
    "    u = i+100\n",
    "    # print(normalized_data[b:u])\n",
    "    print(f\"-- mine result{i}\")\n",
    "    seaching = np.mean(normalized_data[b:u], axis=0)\n",
    "    result = test_tree.search(seaching)\n",
    "    \n",
    "    print(\"search number: \", len(result.index))\n",
    "    right = np.where((result.index>=b) & (result.index<u))[0] # return index\n",
    "    print(\"hitted right result:\", len(right))\n",
    "    my_score.append(score(len(result.index), len(right)))\n",
    "\n",
    "    ############\n",
    "    print(\"-- kmeans result\")\n",
    "    checking = KMeans(n_clusters=10, random_state=0).fit(normalized_data)\n",
    "\n",
    "    counts1 = Counter(checking.labels_)\n",
    "    print(counts1)\n",
    "\n",
    "    counts2 = Counter(checking.labels_[b:u])\n",
    "    print(counts2)\n",
    "    belongs_group = counts2.most_common()[0][0]\n",
    "    print(\"belongs to group: \", belongs_group, \"\\n\")\n",
    "    # print(counts1.get(belongs_group), counts2.get(belongs_group))\n",
    "    normal_kmeans_score.append(score(counts1.get(belongs_group), counts2.get(belongs_group)))\n",
    "\n",
    "    "
   ]
  },
  {
   "cell_type": "code",
   "execution_count": 19,
   "metadata": {},
   "outputs": [
    {
     "name": "stdout",
     "output_type": "stream",
     "text": [
      "[9.99998999939855e-07, 9.99998999939855e-07, 9.99998999939855e-07, 9.99998999939855e-07, 9.99998999939855e-07, 9.99998999939855e-07, 9.99998999939855e-07, 9.99998999939855e-07, 9.99998999939855e-07, 9.99998999939855e-07]\n",
      "[0.46450013549986446, 0.40500020499979494, 0.37000020499979497, 0.41500020499979495, 0.40000020499979494, 0.43000020499979497, 0.3850002049997949, 0.41500020499979495, 0.42500020499979496, 0.4645001304998695]\n",
      "9.99998999939855e-06\n",
      "4.174001905998094\n"
     ]
    }
   ],
   "source": [
    "print(my_score)\n",
    "print(normal_kmeans_score)\n",
    "\n",
    "print(sum(my_score))\n",
    "print(sum(normal_kmeans_score))"
   ]
  }
 ],
 "metadata": {
  "kernelspec": {
   "display_name": "Python 3",
   "language": "python",
   "name": "python3"
  },
  "language_info": {
   "codemirror_mode": {
    "name": "ipython",
    "version": 3
   },
   "file_extension": ".py",
   "mimetype": "text/x-python",
   "name": "python",
   "nbconvert_exporter": "python",
   "pygments_lexer": "ipython3",
   "version": "3.11.9"
  }
 },
 "nbformat": 4,
 "nbformat_minor": 2
}
