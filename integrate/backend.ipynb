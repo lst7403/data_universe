{
 "cells": [
  {
   "cell_type": "code",
   "execution_count": 1,
   "metadata": {},
   "outputs": [],
   "source": [
    "# load module and pre generate data\n",
    "from graph_tree_list_module import *\n",
    "\n",
    "import numpy as np\n",
    "\n",
    "import pickle\n",
    "\n",
    "# Open the file in binary read mode and load the object\n",
    "with open(\"graph_tree.pkl\", \"rb\") as file:\n",
    "    gt = pickle.load(file)\n"
   ]
  },
  {
   "cell_type": "code",
   "execution_count": 2,
   "metadata": {},
   "outputs": [
    {
     "name": "stdout",
     "output_type": "stream",
     "text": [
      "reflection_node: 1 at lv up: 2\n",
      "generate cos sim, ecul dist, and nodes sorted by cos sim\n",
      "[{'id': 18, 'cos_sim': np.float64(-0.5755523168344742), 'euclide_dist': np.float64(0.8035952397386502), 'r_ratio': 1.4714285714285715, 'cluster_type': 'neighbour'}, {'id': 21, 'cos_sim': np.float64(-0.4791538267295451), 'euclide_dist': np.float64(1.0154997843986724), 'r_ratio': 0.3, 'cluster_type': 'neighbour'}, {'id': 23, 'cos_sim': np.float64(-0.4717449219564082), 'euclide_dist': np.float64(0.831771797565834), 'r_ratio': 1.1714285714285715, 'cluster_type': 'neighbour'}, {'id': 6, 'cos_sim': np.float64(-0.26896811660847425), 'euclide_dist': np.float64(1.238594290957152), 'r_ratio': 0.5, 'cluster_type': 'neighbour'}, {'id': 27, 'cos_sim': np.float64(-0.21140624647915937), 'euclide_dist': np.float64(0.7128433332564057), 'r_ratio': 0.17142857142857143, 'cluster_type': 'neighbour'}, {'id': 24, 'cos_sim': np.float64(-0.19238211026425447), 'euclide_dist': np.float64(0.6633759032487465), 'r_ratio': 0.37142857142857144, 'cluster_type': 'neighbour'}, {'id': 17, 'cos_sim': np.float64(-0.1226494780778276), 'euclide_dist': np.float64(0.6396058723789214), 'r_ratio': 1.2428571428571429, 'cluster_type': 'neighbour'}, {'id': 20, 'cos_sim': np.float64(-0.0404014525747863), 'euclide_dist': np.float64(0.8797495052704711), 'r_ratio': 0.3142857142857143, 'cluster_type': 'neighbour'}, {'id': 29, 'cos_sim': np.float64(-0.012377440806048412), 'euclide_dist': np.float64(0.9464172983008188), 'r_ratio': 0.07142857142857142, 'cluster_type': 'neighbour'}, {'id': 32, 'cos_sim': np.float64(0.07110247909532637), 'euclide_dist': np.float64(0.5632962511382218), 'r_ratio': 0.24285714285714285, 'cluster_type': 'neighbour'}, {'id': 31, 'cos_sim': np.float64(0.09999303486883003), 'euclide_dist': np.float64(0.6872151914450806), 'r_ratio': 0.2, 'cluster_type': 'neighbour'}, {'id': 19, 'cos_sim': np.float64(0.1526523989287116), 'euclide_dist': np.float64(0.7805917471560612), 'r_ratio': 0.32857142857142857, 'cluster_type': 'neighbour'}, {'id': 22, 'cos_sim': np.float64(0.22363187080319194), 'euclide_dist': np.float64(0.6600156586005946), 'r_ratio': 0.5857142857142857, 'cluster_type': 'neighbour'}, {'id': 28, 'cos_sim': np.float64(0.32121911144176396), 'euclide_dist': np.float64(0.5913297549055095), 'r_ratio': 0.37142857142857144, 'cluster_type': 'neighbour'}, {'id': 30, 'cos_sim': np.float64(0.39869877880909554), 'euclide_dist': np.float64(0.6034862650974535), 'r_ratio': 0.08571428571428572, 'cluster_type': 'neighbour'}, {'id': 25, 'cos_sim': np.float64(0.46221081782649914), 'euclide_dist': np.float64(0.4391885620683006), 'r_ratio': 0.3, 'cluster_type': 'neighbour'}, {'id': 26, 'cos_sim': np.float64(0.4861045997807609), 'euclide_dist': np.float64(0.5637585403654504), 'r_ratio': 0.22857142857142856, 'cluster_type': 'neighbour'}, {'id': 15, 'cos_sim': np.float64(0.5410417150541238), 'euclide_dist': np.float64(0.4095607249763128), 'r_ratio': 1.3142857142857143, 'cluster_type': 'neighbour'}, {'id': 16, 'cos_sim': np.float64(1.0), 'euclide_dist': np.float64(0.0), 'r_ratio': 1.0, 'cluster_type': 'center'}]\n",
      "[{'id': 3, 'r_ratio': 2.3142857142857145, 'dy': 0, 'dx': 0, 'cluster_type': 'parent'}, {'id': 51, 'r_ratio': 0.07142857142857142, 'dy': 0, 'dx': -0.0, 'cluster_type': 'child'}, {'id': 52, 'r_ratio': 0.11428571428571428, 'dy': 1, 'dx': 0.5, 'cluster_type': 'child'}, {'id': 53, 'r_ratio': 0.2, 'dy': 1, 'dx': -0.5, 'cluster_type': 'child'}, {'id': 54, 'r_ratio': 0.07142857142857142, 'dy': 2, 'dx': -0.0, 'cluster_type': 'child'}, {'id': 55, 'r_ratio': 0.11428571428571428, 'dy': 2, 'dx': 1.0, 'cluster_type': 'child'}, {'id': 56, 'r_ratio': 0.04285714285714286, 'dy': 2, 'dx': -1.0, 'cluster_type': 'child'}, {'id': 57, 'r_ratio': 0.1, 'dy': 3, 'dx': 0.5, 'cluster_type': 'child'}, {'id': 58, 'r_ratio': 0.11428571428571428, 'dy': 3, 'dx': -0.5, 'cluster_type': 'child'}, {'id': 59, 'r_ratio': 0.11428571428571428, 'dy': 3, 'dx': 1.5, 'cluster_type': 'child'}, {'id': 60, 'r_ratio': 0.05714285714285714, 'dy': 3, 'dx': -1.5, 'cluster_type': 'child'}]\n"
     ]
    }
   ],
   "source": [
    "sliders_data = [{\"id\": gt.attr_name[i], \"min\": gt.X_maxmin[1][i], \"max\": gt.X_maxmin[0][i], \"value\": gt.nodes[0].center[i], \"type\": \"f\"} for i in range(len(gt.attr_name))]\n",
    "# print(sliders_data)\n",
    "\n",
    "recom_data = [{\"i\": i, \"id\": gt.attr_name[i], \"max_val\": gt.recom[i][0].center[i], \"min_val\": gt.recom[i][1].center[i]} for i in range(len(gt.attr_name))]\n",
    "# print(recom_data)\n",
    "\n",
    "graph_tree_horizontal_data, graph_tree_vertical_data = gt.get_graph_tree_svg_data(node_id = 16)\n",
    "\n",
    "tree_data = {\n",
    "        \"name\": \"Root\",\n",
    "        \"children\": [\n",
    "            {\n",
    "                \"name\": \"Child 1\",\n",
    "                \"children\": [\n",
    "                    {\"name\": \"Grandchild 1\"},\n",
    "                    {\"name\": \"Grandchild 2\"}\n",
    "                ]\n",
    "            },\n",
    "            {\n",
    "                \"name\": \"Child 2\",\n",
    "                \"children\": [\n",
    "                    {\"name\": \"Grandchild 3\"},\n",
    "                    {\"name\": \"Grandchild 4\"}\n",
    "                ]\n",
    "            }\n",
    "        ]\n",
    "    }"
   ]
  },
  {
   "cell_type": "code",
   "execution_count": 3,
   "metadata": {},
   "outputs": [
    {
     "name": "stdout",
     "output_type": "stream",
     "text": [
      " * Serving Flask app '__main__'\n",
      " * Debug mode: off\n"
     ]
    },
    {
     "name": "stderr",
     "output_type": "stream",
     "text": [
      "WARNING: This is a development server. Do not use it in a production deployment. Use a production WSGI server instead.\n",
      " * Running on http://127.0.0.1:8123\n",
      "Press CTRL+C to quit\n",
      "127.0.0.1 - - [18/Dec/2024 17:57:32] \"GET / HTTP/1.1\" 200 -\n",
      "127.0.0.1 - - [18/Dec/2024 17:57:32] \"GET /static/styles.css HTTP/1.1\" 200 -\n",
      "127.0.0.1 - - [18/Dec/2024 17:57:32] \"GET /static/curve_axis.js HTTP/1.1\" 200 -\n",
      "127.0.0.1 - - [18/Dec/2024 17:57:32] \"GET /static/graph_tree.js HTTP/1.1\" 200 -\n",
      "127.0.0.1 - - [18/Dec/2024 17:57:32] \"GET /static/graph_tree_shared_variable.js HTTP/1.1\" 200 -\n",
      "127.0.0.1 - - [18/Dec/2024 17:57:32] \"GET /static/scripts.js HTTP/1.1\" 200 -\n",
      "127.0.0.1 - - [18/Dec/2024 17:57:33] \"GET /sliders HTTP/1.1\" 200 -\n",
      "127.0.0.1 - - [18/Dec/2024 17:57:33] \"GET /recom HTTP/1.1\" 200 -\n",
      "127.0.0.1 - - [18/Dec/2024 17:57:33] \"GET /tree_data HTTP/1.1\" 200 -\n",
      "127.0.0.1 - - [18/Dec/2024 17:57:33] \"GET /graph_tree_data HTTP/1.1\" 200 -\n"
     ]
    }
   ],
   "source": [
    "from flask import Flask, render_template, request, jsonify\n",
    "\n",
    "app = Flask(__name__)\n",
    "\n",
    "@app.route('/')\n",
    "def index():\n",
    "    return render_template('index.html')\n",
    "\n",
    "# slider ####################################################################\n",
    "@app.route('/sliders')\n",
    "def sliders():\n",
    "    return jsonify(sliders_data)\n",
    "\n",
    "@app.route('/handle_slider', methods=['POST'])\n",
    "def submit_slider_values():\n",
    "    sucess_msg = \"slider respon success\"\n",
    "    data = request.json\n",
    "    print('Received slider values:', data)\n",
    "    query = np.array([float(val) for val in data.values()])\n",
    "    cur = gt.search(query)\n",
    "    graph_tree_horizontal_data, graph_tree_vertical_data = gt.get_graph_tree_svg_data(cur.id)\n",
    "    # Process the data as needed\n",
    "    return jsonify({'status': sucess_msg,\n",
    "                    \"graph_tree_data\": {\"graph_tree_horizontal_data\": graph_tree_horizontal_data, \"graph_tree_vertical_data\": graph_tree_vertical_data}})\n",
    "# slider end ################################################################\n",
    "\n",
    "# recom ####################################################################\n",
    "@app.route('/recom')\n",
    "def recom():\n",
    "    return jsonify(recom_data)\n",
    "\n",
    "@app.route('/handle_recom', methods=['POST'])\n",
    "def handle_recom():\n",
    "    sucess_msg = \"recom respon success\"\n",
    "    data = request.json\n",
    "    button_id = int(data.get('buttonId'))\n",
    "    val = int(data.get('val'))\n",
    "    # print(button_id, val)\n",
    "    moved_node = gt.recom[button_id][val]\n",
    "    graph_tree_horizontal_data, graph_tree_vertical_data = gt.get_graph_tree_svg_data(moved_node.id)\n",
    "    # print(graph_tree_data)\n",
    "    return jsonify({'status': sucess_msg,\n",
    "                    'buttonId': button_id,\n",
    "                    'val': val,\n",
    "                    \"graph_tree_data\": {\"graph_tree_horizontal_data\": graph_tree_horizontal_data, \"graph_tree_vertical_data\": graph_tree_vertical_data}})\n",
    "# recom end ####################################################################\n",
    "\n",
    "@app.route('/graph_tree_data')\n",
    "def graph():\n",
    "    return jsonify({\"graph_tree_data\": {\"graph_tree_horizontal_data\": graph_tree_horizontal_data, \"graph_tree_vertical_data\": graph_tree_vertical_data}})\n",
    "\n",
    "@app.route('/graph_tree_circle_click', methods=['POST'])\n",
    "def graph_tree_circle_click():\n",
    "    sucess_msg = \"graph_tree_circle_click respon success\"\n",
    "    data = request.json\n",
    "    id = int(data.get('id'))\n",
    "    print(id)\n",
    "    graph_tree_horizontal_data, graph_tree_vertical_data = gt.get_graph_tree_svg_data(id)\n",
    "    return jsonify({'status': sucess_msg,\n",
    "                    'id': id,\n",
    "                    \"graph_tree_data\": {\"graph_tree_horizontal_data\": graph_tree_horizontal_data, \"graph_tree_vertical_data\": graph_tree_vertical_data}})\n",
    "\n",
    "\n",
    "@app.route('/tree_data')\n",
    "def tree():\n",
    "    return jsonify(tree_data)\n",
    "\n",
    "if __name__ == '__main__':\n",
    "    app.run(port=8123)\n"
   ]
  }
 ],
 "metadata": {
  "kernelspec": {
   "display_name": "Python 3",
   "language": "python",
   "name": "python3"
  },
  "language_info": {
   "codemirror_mode": {
    "name": "ipython",
    "version": 3
   },
   "file_extension": ".py",
   "mimetype": "text/x-python",
   "name": "python",
   "nbconvert_exporter": "python",
   "pygments_lexer": "ipython3",
   "version": "3.11.9"
  }
 },
 "nbformat": 4,
 "nbformat_minor": 2
}
