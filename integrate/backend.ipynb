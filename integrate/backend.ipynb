{
 "cells": [
  {
   "cell_type": "code",
   "execution_count": 31,
   "metadata": {},
   "outputs": [],
   "source": [
    "# load module and pre generate data\n",
    "from graph_tree_list_module import *\n",
    "\n",
    "import numpy as np\n",
    "\n",
    "import pickle\n",
    "\n",
    "# Open the file in binary read mode and load the object\n",
    "with open(\"graph_tree.pkl\", \"rb\") as file:\n",
    "    gt = pickle.load(file)\n"
   ]
  },
  {
   "cell_type": "code",
   "execution_count": 32,
   "metadata": {},
   "outputs": [
    {
     "name": "stdout",
     "output_type": "stream",
     "text": [
      "reflection_node: 11 at lv up: 2\n",
      "generate cos sim, ecul dist, and nodes sorted by cos sim\n"
     ]
    }
   ],
   "source": [
    "sliders_data = [{\"id\": gt.attr_name[i], \"min\": gt.X_maxmin[1][i], \"max\": gt.X_maxmin[0][i], \"value\": gt.nodes[0].center[i], \"type\": \"f\"} for i in range(len(gt.attr_name))]\n",
    "# print(sliders_data)\n",
    "\n",
    "recom_data = [{\"i\": i, \"id\": gt.attr_name[i], \"max_val\": gt.recom[i][0].center[i], \"min_val\": gt.recom[i][1].center[i]} for i in range(len(gt.attr_name))]\n",
    "# print(recom_data)\n",
    "\n",
    "graph_tree_data = gt.get_neighbour_cluster_data(node_id = 85)\n",
    "\n",
    "tree_data = {\n",
    "        \"name\": \"Root\",\n",
    "        \"children\": [\n",
    "            {\n",
    "                \"name\": \"Child 1\",\n",
    "                \"children\": [\n",
    "                    {\"name\": \"Grandchild 1\"},\n",
    "                    {\"name\": \"Grandchild 2\"}\n",
    "                ]\n",
    "            },\n",
    "            {\n",
    "                \"name\": \"Child 2\",\n",
    "                \"children\": [\n",
    "                    {\"name\": \"Grandchild 3\"},\n",
    "                    {\"name\": \"Grandchild 4\"}\n",
    "                ]\n",
    "            }\n",
    "        ]\n",
    "    }"
   ]
  },
  {
   "cell_type": "code",
   "execution_count": 30,
   "metadata": {},
   "outputs": [
    {
     "name": "stdout",
     "output_type": "stream",
     "text": [
      " * Serving Flask app '__main__'\n",
      " * Debug mode: off\n"
     ]
    },
    {
     "name": "stderr",
     "output_type": "stream",
     "text": [
      "WARNING: This is a development server. Do not use it in a production deployment. Use a production WSGI server instead.\n",
      " * Running on http://127.0.0.1:8123\n",
      "Press CTRL+C to quit\n",
      "127.0.0.1 - - [03/Oct/2024 21:17:31] \"GET / HTTP/1.1\" 200 -\n",
      "127.0.0.1 - - [03/Oct/2024 21:17:31] \"GET /static/styles.css HTTP/1.1\" 304 -\n",
      "127.0.0.1 - - [03/Oct/2024 21:17:31] \"GET /static/scripts.js HTTP/1.1\" 304 -\n",
      "127.0.0.1 - - [03/Oct/2024 21:17:31] \"GET /static/curve_axis.js HTTP/1.1\" 304 -\n",
      "127.0.0.1 - - [03/Oct/2024 21:17:31] \"GET /static/graph_tree.js HTTP/1.1\" 304 -\n",
      "127.0.0.1 - - [03/Oct/2024 21:17:31] \"GET /sliders HTTP/1.1\" 200 -\n",
      "127.0.0.1 - - [03/Oct/2024 21:17:31] \"GET /recom HTTP/1.1\" 200 -\n",
      "127.0.0.1 - - [03/Oct/2024 21:17:31] \"GET /graph_tree_data HTTP/1.1\" 200 -\n",
      "127.0.0.1 - - [03/Oct/2024 21:17:31] \"GET /tree_data HTTP/1.1\" 200 -\n",
      "127.0.0.1 - - [03/Oct/2024 21:17:35] \"POST /handle_recom HTTP/1.1\" 200 -\n"
     ]
    },
    {
     "name": "stdout",
     "output_type": "stream",
     "text": [
      "11 0\n",
      "reflection_node: 1 at lv up: 2\n",
      "generate cos sim, ecul dist, and nodes sorted by cos sim\n",
      "[{'id': 20, 'cos_sim': np.float64(-0.5141220218543034), 'euclide_dist': np.float64(1.0925226838798079), 'r_ratio': 1.8333333333333333}, {'id': 17, 'cos_sim': np.float64(-0.5099567531398856), 'euclide_dist': np.float64(0.8027512371395716), 'r_ratio': 7.25}, {'id': 21, 'cos_sim': np.float64(-0.2858940884192117), 'euclide_dist': np.float64(1.0015505951762458), 'r_ratio': 1.75}, {'id': 19, 'cos_sim': np.float64(-0.27765299941336974), 'euclide_dist': np.float64(0.9818749707130934), 'r_ratio': 1.9166666666666667}, {'id': 16, 'cos_sim': np.float64(-0.2114062464791594), 'euclide_dist': np.float64(0.7128433332564057), 'r_ratio': 5.833333333333333}, {'id': 6, 'cos_sim': np.float64(-0.08046292069716708), 'euclide_dist': np.float64(1.2005655131096171), 'r_ratio': 2.9166666666666665}, {'id': 18, 'cos_sim': np.float64(-0.06110821408248549), 'euclide_dist': np.float64(0.7097882330366457), 'r_ratio': 8.583333333333334}, {'id': 15, 'cos_sim': np.float64(0.06442512818422812), 'euclide_dist': np.float64(0.6336812444271965), 'r_ratio': 7.666666666666667}, {'id': 25, 'cos_sim': np.float64(0.1393350542242449), 'euclide_dist': np.float64(0.6033710880379141), 'r_ratio': 1.75}, {'id': 23, 'cos_sim': np.float64(0.18242084775998588), 'euclide_dist': np.float64(0.6638896889373354), 'r_ratio': 6.833333333333333}, {'id': 30, 'cos_sim': np.float64(0.23173653067147865), 'euclide_dist': np.float64(0.7045972232032431), 'r_ratio': 0.5}, {'id': 29, 'cos_sim': np.float64(0.23770285295483934), 'euclide_dist': np.float64(0.8681383525923981), 'r_ratio': 0.4166666666666667}, {'id': 24, 'cos_sim': np.float64(0.2592306870088602), 'euclide_dist': np.float64(0.5668505424900071), 'r_ratio': 2.1666666666666665}, {'id': 26, 'cos_sim': np.float64(0.2686606222593542), 'euclide_dist': np.float64(0.688327429306253), 'r_ratio': 1.3333333333333333}, {'id': 22, 'cos_sim': np.float64(0.27386789985721044), 'euclide_dist': np.float64(0.6708678932571053), 'r_ratio': 3.4166666666666665}, {'id': 28, 'cos_sim': np.float64(0.5368962949748728), 'euclide_dist': np.float64(0.5162747340405835), 'r_ratio': 2.1666666666666665}, {'id': 32, 'cos_sim': np.float64(0.5496942432916098), 'euclide_dist': np.float64(0.4320828050702664), 'r_ratio': 1.4166666666666667}, {'id': 31, 'cos_sim': np.float64(0.613072214275516), 'euclide_dist': np.float64(0.4815826553009878), 'r_ratio': 1.1666666666666667}, {'id': 27, 'cos_sim': np.float64(1.0), 'euclide_dist': np.float64(0.0), 'r_ratio': 1.0}]\n"
     ]
    },
    {
     "name": "stderr",
     "output_type": "stream",
     "text": [
      "127.0.0.1 - - [03/Oct/2024 21:17:36] \"GET /static/styles.css HTTP/1.1\" 304 -\n",
      "127.0.0.1 - - [03/Oct/2024 21:20:00] \"GET / HTTP/1.1\" 200 -\n",
      "127.0.0.1 - - [03/Oct/2024 21:20:00] \"GET /static/styles.css HTTP/1.1\" 304 -\n",
      "127.0.0.1 - - [03/Oct/2024 21:20:00] \"GET /static/scripts.js HTTP/1.1\" 304 -\n",
      "127.0.0.1 - - [03/Oct/2024 21:20:00] \"GET /static/curve_axis.js HTTP/1.1\" 304 -\n",
      "127.0.0.1 - - [03/Oct/2024 21:20:00] \"GET /static/graph_tree.js HTTP/1.1\" 200 -\n",
      "127.0.0.1 - - [03/Oct/2024 21:20:00] \"GET /sliders HTTP/1.1\" 200 -\n",
      "127.0.0.1 - - [03/Oct/2024 21:20:00] \"GET /recom HTTP/1.1\" 200 -\n",
      "127.0.0.1 - - [03/Oct/2024 21:20:00] \"GET /graph_tree_data HTTP/1.1\" 200 -\n",
      "127.0.0.1 - - [03/Oct/2024 21:20:00] \"GET /tree_data HTTP/1.1\" 200 -\n",
      "127.0.0.1 - - [03/Oct/2024 21:20:15] \"GET / HTTP/1.1\" 200 -\n",
      "127.0.0.1 - - [03/Oct/2024 21:20:15] \"GET /static/styles.css HTTP/1.1\" 304 -\n",
      "127.0.0.1 - - [03/Oct/2024 21:20:15] \"GET /static/scripts.js HTTP/1.1\" 304 -\n",
      "127.0.0.1 - - [03/Oct/2024 21:20:15] \"GET /static/curve_axis.js HTTP/1.1\" 304 -\n",
      "127.0.0.1 - - [03/Oct/2024 21:20:15] \"GET /static/graph_tree.js HTTP/1.1\" 200 -\n",
      "127.0.0.1 - - [03/Oct/2024 21:20:15] \"GET /sliders HTTP/1.1\" 200 -\n",
      "127.0.0.1 - - [03/Oct/2024 21:20:15] \"GET /recom HTTP/1.1\" 200 -\n",
      "127.0.0.1 - - [03/Oct/2024 21:20:15] \"GET /graph_tree_data HTTP/1.1\" 200 -\n",
      "127.0.0.1 - - [03/Oct/2024 21:20:15] \"GET /tree_data HTTP/1.1\" 200 -\n",
      "127.0.0.1 - - [03/Oct/2024 21:21:13] \"GET / HTTP/1.1\" 200 -\n",
      "127.0.0.1 - - [03/Oct/2024 21:21:13] \"GET /static/styles.css HTTP/1.1\" 304 -\n",
      "127.0.0.1 - - [03/Oct/2024 21:21:13] \"GET /static/scripts.js HTTP/1.1\" 304 -\n",
      "127.0.0.1 - - [03/Oct/2024 21:21:13] \"GET /static/curve_axis.js HTTP/1.1\" 304 -\n",
      "127.0.0.1 - - [03/Oct/2024 21:21:13] \"GET /static/graph_tree.js HTTP/1.1\" 200 -\n",
      "127.0.0.1 - - [03/Oct/2024 21:21:13] \"GET /sliders HTTP/1.1\" 200 -\n",
      "127.0.0.1 - - [03/Oct/2024 21:21:13] \"GET /recom HTTP/1.1\" 200 -\n",
      "127.0.0.1 - - [03/Oct/2024 21:21:13] \"GET /graph_tree_data HTTP/1.1\" 200 -\n",
      "127.0.0.1 - - [03/Oct/2024 21:21:13] \"GET /tree_data HTTP/1.1\" 200 -\n",
      "127.0.0.1 - - [03/Oct/2024 21:21:18] \"GET / HTTP/1.1\" 200 -\n",
      "127.0.0.1 - - [03/Oct/2024 21:21:18] \"GET /static/styles.css HTTP/1.1\" 304 -\n",
      "127.0.0.1 - - [03/Oct/2024 21:21:18] \"GET /static/scripts.js HTTP/1.1\" 304 -\n",
      "127.0.0.1 - - [03/Oct/2024 21:21:18] \"GET /static/graph_tree.js HTTP/1.1\" 304 -\n",
      "127.0.0.1 - - [03/Oct/2024 21:21:18] \"GET /static/curve_axis.js HTTP/1.1\" 304 -\n",
      "127.0.0.1 - - [03/Oct/2024 21:21:18] \"GET /sliders HTTP/1.1\" 200 -\n",
      "127.0.0.1 - - [03/Oct/2024 21:21:18] \"GET /recom HTTP/1.1\" 200 -\n",
      "127.0.0.1 - - [03/Oct/2024 21:21:18] \"GET /graph_tree_data HTTP/1.1\" 200 -\n",
      "127.0.0.1 - - [03/Oct/2024 21:21:18] \"GET /tree_data HTTP/1.1\" 200 -\n",
      "127.0.0.1 - - [03/Oct/2024 21:25:43] \"GET /static/styles.css HTTP/1.1\" 304 -\n",
      "127.0.0.1 - - [03/Oct/2024 21:27:16] \"GET / HTTP/1.1\" 200 -\n",
      "127.0.0.1 - - [03/Oct/2024 21:27:16] \"GET /static/styles.css HTTP/1.1\" 304 -\n",
      "127.0.0.1 - - [03/Oct/2024 21:27:16] \"GET /static/scripts.js HTTP/1.1\" 304 -\n",
      "127.0.0.1 - - [03/Oct/2024 21:27:16] \"GET /static/curve_axis.js HTTP/1.1\" 304 -\n",
      "127.0.0.1 - - [03/Oct/2024 21:27:16] \"GET /static/graph_tree.js HTTP/1.1\" 200 -\n",
      "127.0.0.1 - - [03/Oct/2024 21:27:16] \"GET /sliders HTTP/1.1\" 200 -\n",
      "127.0.0.1 - - [03/Oct/2024 21:27:16] \"GET /recom HTTP/1.1\" 200 -\n",
      "127.0.0.1 - - [03/Oct/2024 21:27:16] \"GET /graph_tree_data HTTP/1.1\" 200 -\n",
      "127.0.0.1 - - [03/Oct/2024 21:27:16] \"GET /tree_data HTTP/1.1\" 200 -\n",
      "127.0.0.1 - - [03/Oct/2024 21:27:53] \"GET / HTTP/1.1\" 200 -\n",
      "127.0.0.1 - - [03/Oct/2024 21:27:53] \"GET /static/styles.css HTTP/1.1\" 304 -\n",
      "127.0.0.1 - - [03/Oct/2024 21:27:53] \"GET /static/scripts.js HTTP/1.1\" 304 -\n",
      "127.0.0.1 - - [03/Oct/2024 21:27:53] \"GET /static/curve_axis.js HTTP/1.1\" 304 -\n",
      "127.0.0.1 - - [03/Oct/2024 21:27:53] \"GET /static/graph_tree.js HTTP/1.1\" 200 -\n",
      "127.0.0.1 - - [03/Oct/2024 21:27:54] \"GET /sliders HTTP/1.1\" 200 -\n",
      "127.0.0.1 - - [03/Oct/2024 21:27:54] \"GET /recom HTTP/1.1\" 200 -\n",
      "127.0.0.1 - - [03/Oct/2024 21:27:54] \"GET /graph_tree_data HTTP/1.1\" 200 -\n",
      "127.0.0.1 - - [03/Oct/2024 21:27:54] \"GET /tree_data HTTP/1.1\" 200 -\n",
      "127.0.0.1 - - [03/Oct/2024 21:28:07] \"GET / HTTP/1.1\" 200 -\n",
      "127.0.0.1 - - [03/Oct/2024 21:28:07] \"GET /static/styles.css HTTP/1.1\" 304 -\n",
      "127.0.0.1 - - [03/Oct/2024 21:28:07] \"GET /static/scripts.js HTTP/1.1\" 304 -\n",
      "127.0.0.1 - - [03/Oct/2024 21:28:07] \"GET /static/curve_axis.js HTTP/1.1\" 304 -\n",
      "127.0.0.1 - - [03/Oct/2024 21:28:07] \"GET /static/graph_tree.js HTTP/1.1\" 304 -\n",
      "127.0.0.1 - - [03/Oct/2024 21:28:07] \"GET /sliders HTTP/1.1\" 200 -\n",
      "127.0.0.1 - - [03/Oct/2024 21:28:07] \"GET /recom HTTP/1.1\" 200 -\n",
      "127.0.0.1 - - [03/Oct/2024 21:28:07] \"GET /graph_tree_data HTTP/1.1\" 200 -\n",
      "127.0.0.1 - - [03/Oct/2024 21:28:07] \"GET /tree_data HTTP/1.1\" 200 -\n",
      "127.0.0.1 - - [03/Oct/2024 21:28:29] \"GET / HTTP/1.1\" 200 -\n",
      "127.0.0.1 - - [03/Oct/2024 21:28:29] \"GET /static/styles.css HTTP/1.1\" 304 -\n",
      "127.0.0.1 - - [03/Oct/2024 21:28:29] \"GET /static/scripts.js HTTP/1.1\" 304 -\n",
      "127.0.0.1 - - [03/Oct/2024 21:28:29] \"GET /static/curve_axis.js HTTP/1.1\" 304 -\n",
      "127.0.0.1 - - [03/Oct/2024 21:28:29] \"GET /static/graph_tree.js HTTP/1.1\" 304 -\n",
      "127.0.0.1 - - [03/Oct/2024 21:28:29] \"GET /sliders HTTP/1.1\" 200 -\n",
      "127.0.0.1 - - [03/Oct/2024 21:28:29] \"GET /recom HTTP/1.1\" 200 -\n",
      "127.0.0.1 - - [03/Oct/2024 21:28:29] \"GET /graph_tree_data HTTP/1.1\" 200 -\n",
      "127.0.0.1 - - [03/Oct/2024 21:28:29] \"GET /tree_data HTTP/1.1\" 200 -\n",
      "127.0.0.1 - - [03/Oct/2024 21:28:36] \"POST /handle_recom HTTP/1.1\" 200 -\n"
     ]
    },
    {
     "name": "stdout",
     "output_type": "stream",
     "text": [
      "11 0\n",
      "reflection_node: 1 at lv up: 2\n",
      "generate cos sim, ecul dist, and nodes sorted by cos sim\n",
      "[{'id': 20, 'cos_sim': np.float64(-0.5141220218543034), 'euclide_dist': np.float64(1.0925226838798079), 'r_ratio': 1.8333333333333333}, {'id': 17, 'cos_sim': np.float64(-0.5099567531398856), 'euclide_dist': np.float64(0.8027512371395716), 'r_ratio': 7.25}, {'id': 21, 'cos_sim': np.float64(-0.2858940884192117), 'euclide_dist': np.float64(1.0015505951762458), 'r_ratio': 1.75}, {'id': 19, 'cos_sim': np.float64(-0.27765299941336974), 'euclide_dist': np.float64(0.9818749707130934), 'r_ratio': 1.9166666666666667}, {'id': 16, 'cos_sim': np.float64(-0.2114062464791594), 'euclide_dist': np.float64(0.7128433332564057), 'r_ratio': 5.833333333333333}, {'id': 6, 'cos_sim': np.float64(-0.08046292069716708), 'euclide_dist': np.float64(1.2005655131096171), 'r_ratio': 2.9166666666666665}, {'id': 18, 'cos_sim': np.float64(-0.06110821408248549), 'euclide_dist': np.float64(0.7097882330366457), 'r_ratio': 8.583333333333334}, {'id': 15, 'cos_sim': np.float64(0.06442512818422812), 'euclide_dist': np.float64(0.6336812444271965), 'r_ratio': 7.666666666666667}, {'id': 25, 'cos_sim': np.float64(0.1393350542242449), 'euclide_dist': np.float64(0.6033710880379141), 'r_ratio': 1.75}, {'id': 23, 'cos_sim': np.float64(0.18242084775998588), 'euclide_dist': np.float64(0.6638896889373354), 'r_ratio': 6.833333333333333}, {'id': 30, 'cos_sim': np.float64(0.23173653067147865), 'euclide_dist': np.float64(0.7045972232032431), 'r_ratio': 0.5}, {'id': 29, 'cos_sim': np.float64(0.23770285295483934), 'euclide_dist': np.float64(0.8681383525923981), 'r_ratio': 0.4166666666666667}, {'id': 24, 'cos_sim': np.float64(0.2592306870088602), 'euclide_dist': np.float64(0.5668505424900071), 'r_ratio': 2.1666666666666665}, {'id': 26, 'cos_sim': np.float64(0.2686606222593542), 'euclide_dist': np.float64(0.688327429306253), 'r_ratio': 1.3333333333333333}, {'id': 22, 'cos_sim': np.float64(0.27386789985721044), 'euclide_dist': np.float64(0.6708678932571053), 'r_ratio': 3.4166666666666665}, {'id': 28, 'cos_sim': np.float64(0.5368962949748728), 'euclide_dist': np.float64(0.5162747340405835), 'r_ratio': 2.1666666666666665}, {'id': 32, 'cos_sim': np.float64(0.5496942432916098), 'euclide_dist': np.float64(0.4320828050702664), 'r_ratio': 1.4166666666666667}, {'id': 31, 'cos_sim': np.float64(0.613072214275516), 'euclide_dist': np.float64(0.4815826553009878), 'r_ratio': 1.1666666666666667}, {'id': 27, 'cos_sim': np.float64(1.0), 'euclide_dist': np.float64(0.0), 'r_ratio': 1.0}]\n"
     ]
    },
    {
     "name": "stderr",
     "output_type": "stream",
     "text": [
      "127.0.0.1 - - [03/Oct/2024 21:28:41] \"POST /handle_recom HTTP/1.1\" 200 -\n"
     ]
    },
    {
     "name": "stdout",
     "output_type": "stream",
     "text": [
      "10 0\n",
      "reflection_node: 1 at lv up: 2\n",
      "generate cos sim, ecul dist, and nodes sorted by cos sim\n",
      "[{'id': 23, 'cos_sim': np.float64(-0.578422656814925), 'euclide_dist': np.float64(1.239080660501755), 'r_ratio': 16.4}, {'id': 17, 'cos_sim': np.float64(-0.5703066279358983), 'euclide_dist': np.float64(1.1440028796439536), 'r_ratio': 17.4}, {'id': 22, 'cos_sim': np.float64(-0.2329757463183761), 'euclide_dist': np.float64(1.1491334601575138), 'r_ratio': 8.2}, {'id': 18, 'cos_sim': np.float64(-0.08984566487962181), 'euclide_dist': np.float64(1.007159300948507), 'r_ratio': 20.6}, {'id': 16, 'cos_sim': np.float64(-0.012377440806048454), 'euclide_dist': np.float64(0.9464172983008188), 'r_ratio': 14.0}, {'id': 15, 'cos_sim': np.float64(0.02289284235923583), 'euclide_dist': np.float64(0.9374897757581903), 'r_ratio': 18.4}, {'id': 6, 'cos_sim': np.float64(0.09381700024705229), 'euclide_dist': np.float64(1.287439628466146), 'r_ratio': 7.0}, {'id': 20, 'cos_sim': np.float64(0.11374493617323322), 'euclide_dist': np.float64(1.0648197011752716), 'r_ratio': 4.4}, {'id': 27, 'cos_sim': np.float64(0.23770285295483934), 'euclide_dist': np.float64(0.8681383525923981), 'r_ratio': 2.4}, {'id': 25, 'cos_sim': np.float64(0.3082268985262763), 'euclide_dist': np.float64(0.8176289034255619), 'r_ratio': 4.2}, {'id': 31, 'cos_sim': np.float64(0.3159452117757622), 'euclide_dist': np.float64(0.8603824899271508), 'r_ratio': 2.8}, {'id': 30, 'cos_sim': np.float64(0.3916834296311931), 'euclide_dist': np.float64(0.8311083693560087), 'r_ratio': 1.2}, {'id': 24, 'cos_sim': np.float64(0.39235245879551656), 'euclide_dist': np.float64(0.7815452508924319), 'r_ratio': 5.2}, {'id': 32, 'cos_sim': np.float64(0.39733572609539963), 'euclide_dist': np.float64(0.7755784312556898), 'r_ratio': 3.4}, {'id': 26, 'cos_sim': np.float64(0.4534156556280048), 'euclide_dist': np.float64(0.7907443596233198), 'r_ratio': 3.2}, {'id': 21, 'cos_sim': np.float64(0.4936646450371492), 'euclide_dist': np.float64(0.8019639067612545), 'r_ratio': 4.2}, {'id': 28, 'cos_sim': np.float64(0.5406690674031374), 'euclide_dist': np.float64(0.7175701464685917), 'r_ratio': 5.2}, {'id': 19, 'cos_sim': np.float64(0.7018206610883266), 'euclide_dist': np.float64(0.6142748359493575), 'r_ratio': 4.6}, {'id': 29, 'cos_sim': np.float64(1.0), 'euclide_dist': np.float64(0.0), 'r_ratio': 1.0}]\n"
     ]
    },
    {
     "name": "stderr",
     "output_type": "stream",
     "text": [
      "127.0.0.1 - - [03/Oct/2024 21:28:45] \"POST /handle_recom HTTP/1.1\" 200 -\n"
     ]
    },
    {
     "name": "stdout",
     "output_type": "stream",
     "text": [
      "6 1\n",
      "reflection_node: 11 at lv up: 2\n",
      "generate cos sim, ecul dist, and nodes sorted by cos sim\n",
      "[{'id': 76, 'cos_sim': np.float64(-0.4981186624736657), 'euclide_dist': np.float64(0.6019666688432964), 'r_ratio': 3.8}, {'id': 75, 'cos_sim': np.float64(-0.17763757438338984), 'euclide_dist': np.float64(0.49546538143982977), 'r_ratio': 3.9}, {'id': 82, 'cos_sim': np.float64(-0.005471375024191866), 'euclide_dist': np.float64(0.7988454719646785), 'r_ratio': 0.3}, {'id': 79, 'cos_sim': np.float64(0.07646224708805716), 'euclide_dist': np.float64(0.4825329958644776), 'r_ratio': 0.6}, {'id': 80, 'cos_sim': np.float64(0.10928010779693026), 'euclide_dist': np.float64(0.5103285413929713), 'r_ratio': 1.2}, {'id': 84, 'cos_sim': np.float64(0.1257466865862496), 'euclide_dist': np.float64(1.1051022459359168), 'r_ratio': 0.1}, {'id': 78, 'cos_sim': np.float64(0.16911588906669772), 'euclide_dist': np.float64(0.5145540923168959), 'r_ratio': 0.6}, {'id': 86, 'cos_sim': np.float64(0.22594276078967132), 'euclide_dist': np.float64(0.48817438372367206), 'r_ratio': 0.9}, {'id': 85, 'cos_sim': np.float64(0.24039317456369907), 'euclide_dist': np.float64(0.685266480817796), 'r_ratio': 0.2}, {'id': 83, 'cos_sim': np.float64(0.32030530937217955), 'euclide_dist': np.float64(0.8323900352175247), 'r_ratio': 0.3}, {'id': 81, 'cos_sim': np.float64(0.4259061213736768), 'euclide_dist': np.float64(0.3501240314626796), 'r_ratio': 1.3}, {'id': 77, 'cos_sim': np.float64(1.0), 'euclide_dist': np.float64(0.0), 'r_ratio': 1.0}]\n"
     ]
    },
    {
     "name": "stderr",
     "output_type": "stream",
     "text": [
      "127.0.0.1 - - [03/Oct/2024 21:29:04] \"GET / HTTP/1.1\" 200 -\n",
      "127.0.0.1 - - [03/Oct/2024 21:29:04] \"GET /static/styles.css HTTP/1.1\" 304 -\n",
      "127.0.0.1 - - [03/Oct/2024 21:29:04] \"GET /static/scripts.js HTTP/1.1\" 304 -\n",
      "127.0.0.1 - - [03/Oct/2024 21:29:04] \"GET /static/curve_axis.js HTTP/1.1\" 304 -\n",
      "127.0.0.1 - - [03/Oct/2024 21:29:04] \"GET /static/graph_tree.js HTTP/1.1\" 200 -\n",
      "127.0.0.1 - - [03/Oct/2024 21:29:04] \"GET /sliders HTTP/1.1\" 200 -\n",
      "127.0.0.1 - - [03/Oct/2024 21:29:04] \"GET /recom HTTP/1.1\" 200 -\n",
      "127.0.0.1 - - [03/Oct/2024 21:29:04] \"GET /graph_tree_data HTTP/1.1\" 200 -\n",
      "127.0.0.1 - - [03/Oct/2024 21:29:04] \"GET /tree_data HTTP/1.1\" 200 -\n",
      "127.0.0.1 - - [03/Oct/2024 21:29:09] \"POST /handle_recom HTTP/1.1\" 200 -\n"
     ]
    },
    {
     "name": "stdout",
     "output_type": "stream",
     "text": [
      "12 0\n",
      "reflection_node: 11 at lv up: 2\n",
      "generate cos sim, ecul dist, and nodes sorted by cos sim\n",
      "[{'id': 76, 'cos_sim': np.float64(-0.2709092413729092), 'euclide_dist': np.float64(0.8373056109993854), 'r_ratio': 19.0}, {'id': 78, 'cos_sim': np.float64(-0.07749730835660533), 'euclide_dist': np.float64(0.8349313206094979), 'r_ratio': 3.0}, {'id': 75, 'cos_sim': np.float64(-0.07100631617471197), 'euclide_dist': np.float64(0.7555092910562405), 'r_ratio': 19.5}, {'id': 81, 'cos_sim': np.float64(-0.008676042408019977), 'euclide_dist': np.float64(0.7402040017324499), 'r_ratio': 6.5}, {'id': 86, 'cos_sim': np.float64(0.010501972000260765), 'euclide_dist': np.float64(0.7963891825134197), 'r_ratio': 4.5}, {'id': 83, 'cos_sim': np.float64(0.062405002113211844), 'euclide_dist': np.float64(1.0730381767018635), 'r_ratio': 1.5}, {'id': 84, 'cos_sim': np.float64(0.10696218686052496), 'euclide_dist': np.float64(1.2223322428629215), 'r_ratio': 0.5}, {'id': 79, 'cos_sim': np.float64(0.13270394588476211), 'euclide_dist': np.float64(0.7224972624211913), 'r_ratio': 3.0}, {'id': 82, 'cos_sim': np.float64(0.19656958524686474), 'euclide_dist': np.float64(0.8826043524418754), 'r_ratio': 1.5}, {'id': 77, 'cos_sim': np.float64(0.24039317456369907), 'euclide_dist': np.float64(0.685266480817796), 'r_ratio': 5.0}, {'id': 80, 'cos_sim': np.float64(0.2686119178095564), 'euclide_dist': np.float64(0.690906342578109), 'r_ratio': 6.0}, {'id': 85, 'cos_sim': np.float64(1.0), 'euclide_dist': np.float64(0.0), 'r_ratio': 1.0}]\n"
     ]
    },
    {
     "name": "stderr",
     "output_type": "stream",
     "text": [
      "127.0.0.1 - - [03/Oct/2024 21:29:12] \"POST /handle_recom HTTP/1.1\" 200 -\n"
     ]
    },
    {
     "name": "stdout",
     "output_type": "stream",
     "text": [
      "9 1\n",
      "reflection_node: 18 at lv up: 2\n",
      "generate cos sim, ecul dist, and nodes sorted by cos sim\n",
      "[{'id': 64, 'cos_sim': np.float64(-0.7491767364374148), 'euclide_dist': np.float64(0.42885340882396106), 'r_ratio': 1.6206896551724137}, {'id': 95, 'cos_sim': np.float64(-0.10809326544748014), 'euclide_dist': np.float64(0.3649020006930974), 'r_ratio': 0.9310344827586207}, {'id': 96, 'cos_sim': np.float64(1.0000000000000002), 'euclide_dist': np.float64(0.0), 'r_ratio': 1.0}]\n"
     ]
    },
    {
     "name": "stderr",
     "output_type": "stream",
     "text": [
      "127.0.0.1 - - [03/Oct/2024 21:29:19] \"POST /handle_recom HTTP/1.1\" 200 -\n"
     ]
    },
    {
     "name": "stdout",
     "output_type": "stream",
     "text": [
      "4 0\n",
      "reflection_node: 33 at lv up: 2\n",
      "generate cos sim, ecul dist, and nodes sorted by cos sim\n",
      "[{'id': 100, 'cos_sim': np.float64(-0.6919149883285474), 'euclide_dist': np.float64(0.43876535496407915), 'r_ratio': 1.0222222222222221}, {'id': 99, 'cos_sim': np.float64(-0.4796494631127928), 'euclide_dist': np.float64(0.3753587143526724), 'r_ratio': 1.8888888888888888}, {'id': 103, 'cos_sim': np.float64(0.0886108123662816), 'euclide_dist': np.float64(0.5489406469067046), 'r_ratio': 0.28888888888888886}, {'id': 101, 'cos_sim': np.float64(0.4056903929821704), 'euclide_dist': np.float64(0.352040462795407), 'r_ratio': 0.5777777777777777}, {'id': 102, 'cos_sim': np.float64(1.0), 'euclide_dist': np.float64(0.0), 'r_ratio': 1.0}]\n"
     ]
    },
    {
     "name": "stderr",
     "output_type": "stream",
     "text": [
      "127.0.0.1 - - [03/Oct/2024 21:29:23] \"POST /handle_recom HTTP/1.1\" 200 -\n"
     ]
    },
    {
     "name": "stdout",
     "output_type": "stream",
     "text": [
      "12 1\n",
      "reflection_node: 11 at lv up: 2\n",
      "generate cos sim, ecul dist, and nodes sorted by cos sim\n",
      "[{'id': 76, 'cos_sim': np.float64(-0.21583331398253405), 'euclide_dist': np.float64(0.8551164642123135), 'r_ratio': 12.666666666666666}, {'id': 75, 'cos_sim': np.float64(-0.08835918798297904), 'euclide_dist': np.float64(0.7935536868003044), 'r_ratio': 13.0}, {'id': 84, 'cos_sim': np.float64(-0.08142391463730748), 'euclide_dist': np.float64(1.3526893311215873), 'r_ratio': 0.3333333333333333}, {'id': 86, 'cos_sim': np.float64(-0.061243516042743876), 'euclide_dist': np.float64(0.8530923350585324), 'r_ratio': 3.0}, {'id': 77, 'cos_sim': np.float64(-0.005471375024191866), 'euclide_dist': np.float64(0.7988454719646785), 'r_ratio': 3.3333333333333335}, {'id': 78, 'cos_sim': np.float64(0.03976259072812505), 'euclide_dist': np.float64(0.8225280332361599), 'r_ratio': 2.0}, {'id': 83, 'cos_sim': np.float64(0.06641102495191811), 'euclide_dist': np.float64(1.092129999009221), 'r_ratio': 1.0}, {'id': 79, 'cos_sim': np.float64(0.09380913105758437), 'euclide_dist': np.float64(0.7672264138817697), 'r_ratio': 2.0}, {'id': 80, 'cos_sim': np.float64(0.13224740545707742), 'euclide_dist': np.float64(0.774055426338213), 'r_ratio': 4.0}, {'id': 81, 'cos_sim': np.float64(0.15856018937696315), 'euclide_dist': np.float64(0.7271562018888912), 'r_ratio': 4.333333333333333}, {'id': 85, 'cos_sim': np.float64(0.19656958524686474), 'euclide_dist': np.float64(0.8826043524418754), 'r_ratio': 0.6666666666666666}, {'id': 82, 'cos_sim': np.float64(0.9999999999999998), 'euclide_dist': np.float64(0.0), 'r_ratio': 1.0}]\n"
     ]
    },
    {
     "name": "stderr",
     "output_type": "stream",
     "text": [
      "127.0.0.1 - - [03/Oct/2024 21:29:37] \"POST /handle_recom HTTP/1.1\" 200 -\n"
     ]
    },
    {
     "name": "stdout",
     "output_type": "stream",
     "text": [
      "13 0\n",
      "reflection_node: 3 at lv up: 2\n",
      "generate cos sim, ecul dist, and nodes sorted by cos sim\n",
      "[{'id': 49, 'cos_sim': np.float64(-0.5159931062205891), 'euclide_dist': np.float64(0.811417303426646), 'r_ratio': 5.0}, {'id': 52, 'cos_sim': np.float64(-0.43880974678194795), 'euclide_dist': np.float64(0.7627067071768198), 'r_ratio': 1.6}, {'id': 50, 'cos_sim': np.float64(-0.35568852474528356), 'euclide_dist': np.float64(0.8105352579768698), 'r_ratio': 2.8}, {'id': 58, 'cos_sim': np.float64(-0.2286117642974995), 'euclide_dist': np.float64(0.8014764138101276), 'r_ratio': 1.6}, {'id': 47, 'cos_sim': np.float64(-0.1315458787060878), 'euclide_dist': np.float64(0.6917515672437081), 'r_ratio': 4.6}, {'id': 48, 'cos_sim': np.float64(0.024155584346407667), 'euclide_dist': np.float64(0.6106281746973509), 'r_ratio': 6.0}, {'id': 53, 'cos_sim': np.float64(0.1259118111097981), 'euclide_dist': np.float64(0.6306872596442936), 'r_ratio': 2.8}, {'id': 55, 'cos_sim': np.float64(0.21117179945530268), 'euclide_dist': np.float64(0.5888896519796138), 'r_ratio': 1.6}, {'id': 51, 'cos_sim': np.float64(0.31029943494230827), 'euclide_dist': np.float64(0.6637400211753084), 'r_ratio': 1.0}, {'id': 59, 'cos_sim': np.float64(0.3853159834577209), 'euclide_dist': np.float64(0.5547417570708236), 'r_ratio': 1.6}, {'id': 57, 'cos_sim': np.float64(0.42753667262657247), 'euclide_dist': np.float64(0.5173599121036845), 'r_ratio': 1.4}, {'id': 56, 'cos_sim': np.float64(0.4433482217950078), 'euclide_dist': np.float64(0.6465466796985456), 'r_ratio': 0.6}, {'id': 60, 'cos_sim': np.float64(0.6450618155088809), 'euclide_dist': np.float64(0.4851616446325591), 'r_ratio': 0.8}, {'id': 54, 'cos_sim': np.float64(1.0), 'euclide_dist': np.float64(0.0), 'r_ratio': 1.0}]\n"
     ]
    },
    {
     "name": "stderr",
     "output_type": "stream",
     "text": [
      "127.0.0.1 - - [03/Oct/2024 21:32:13] \"GET / HTTP/1.1\" 200 -\n",
      "127.0.0.1 - - [03/Oct/2024 21:32:13] \"GET /static/styles.css HTTP/1.1\" 304 -\n",
      "127.0.0.1 - - [03/Oct/2024 21:32:13] \"GET /static/scripts.js HTTP/1.1\" 304 -\n",
      "127.0.0.1 - - [03/Oct/2024 21:32:13] \"GET /static/curve_axis.js HTTP/1.1\" 304 -\n",
      "127.0.0.1 - - [03/Oct/2024 21:32:14] \"GET /static/graph_tree.js HTTP/1.1\" 200 -\n",
      "127.0.0.1 - - [03/Oct/2024 21:32:14] \"GET /sliders HTTP/1.1\" 200 -\n",
      "127.0.0.1 - - [03/Oct/2024 21:32:14] \"GET /recom HTTP/1.1\" 200 -\n",
      "127.0.0.1 - - [03/Oct/2024 21:32:14] \"GET /graph_tree_data HTTP/1.1\" 200 -\n",
      "127.0.0.1 - - [03/Oct/2024 21:32:14] \"GET /tree_data HTTP/1.1\" 200 -\n",
      "127.0.0.1 - - [03/Oct/2024 21:32:35] \"GET / HTTP/1.1\" 200 -\n",
      "127.0.0.1 - - [03/Oct/2024 21:32:35] \"GET /static/styles.css HTTP/1.1\" 304 -\n",
      "127.0.0.1 - - [03/Oct/2024 21:32:35] \"GET /static/scripts.js HTTP/1.1\" 304 -\n",
      "127.0.0.1 - - [03/Oct/2024 21:32:35] \"GET /static/curve_axis.js HTTP/1.1\" 304 -\n",
      "127.0.0.1 - - [03/Oct/2024 21:32:35] \"GET /static/graph_tree.js HTTP/1.1\" 200 -\n",
      "127.0.0.1 - - [03/Oct/2024 21:32:35] \"GET /sliders HTTP/1.1\" 200 -\n",
      "127.0.0.1 - - [03/Oct/2024 21:32:35] \"GET /recom HTTP/1.1\" 200 -\n",
      "127.0.0.1 - - [03/Oct/2024 21:32:35] \"GET /graph_tree_data HTTP/1.1\" 200 -\n",
      "127.0.0.1 - - [03/Oct/2024 21:32:35] \"GET /tree_data HTTP/1.1\" 200 -\n",
      "127.0.0.1 - - [03/Oct/2024 21:33:05] \"GET / HTTP/1.1\" 200 -\n",
      "127.0.0.1 - - [03/Oct/2024 21:33:05] \"GET /static/styles.css HTTP/1.1\" 304 -\n",
      "127.0.0.1 - - [03/Oct/2024 21:33:05] \"GET /static/scripts.js HTTP/1.1\" 304 -\n",
      "127.0.0.1 - - [03/Oct/2024 21:33:05] \"GET /static/curve_axis.js HTTP/1.1\" 304 -\n",
      "127.0.0.1 - - [03/Oct/2024 21:33:05] \"GET /sliders HTTP/1.1\" 200 -\n",
      "127.0.0.1 - - [03/Oct/2024 21:33:05] \"GET /static/graph_tree.js HTTP/1.1\" 200 -\n",
      "127.0.0.1 - - [03/Oct/2024 21:33:05] \"GET /recom HTTP/1.1\" 200 -\n",
      "127.0.0.1 - - [03/Oct/2024 21:33:05] \"GET /graph_tree_data HTTP/1.1\" 200 -\n",
      "127.0.0.1 - - [03/Oct/2024 21:33:05] \"GET /tree_data HTTP/1.1\" 200 -\n",
      "127.0.0.1 - - [03/Oct/2024 21:33:38] \"POST /handle_recom HTTP/1.1\" 200 -\n"
     ]
    },
    {
     "name": "stdout",
     "output_type": "stream",
     "text": [
      "2 0\n",
      "reflection_node: 3 at lv up: 2\n",
      "generate cos sim, ecul dist, and nodes sorted by cos sim\n",
      "[{'id': 59, 'cos_sim': np.float64(-0.8004652351215877), 'euclide_dist': np.float64(0.6928035014525102), 'r_ratio': 0.34782608695652173}, {'id': 56, 'cos_sim': np.float64(-0.695980175543132), 'euclide_dist': np.float64(0.9099792375524439), 'r_ratio': 0.13043478260869565}, {'id': 57, 'cos_sim': np.float64(-0.43555928017180906), 'euclide_dist': np.float64(0.5404481173252301), 'r_ratio': 0.30434782608695654}, {'id': 58, 'cos_sim': np.float64(-0.36654850367956954), 'euclide_dist': np.float64(0.6475723311823894), 'r_ratio': 0.34782608695652173}, {'id': 60, 'cos_sim': np.float64(-0.25678760741035067), 'euclide_dist': np.float64(0.7392965323701641), 'r_ratio': 0.17391304347826086}, {'id': 48, 'cos_sim': np.float64(-0.1799992595681332), 'euclide_dist': np.float64(0.43965515266343685), 'r_ratio': 1.3043478260869565}, {'id': 52, 'cos_sim': np.float64(-0.14701308608121744), 'euclide_dist': np.float64(0.4893885536161612), 'r_ratio': 0.34782608695652173}, {'id': 54, 'cos_sim': np.float64(-0.1315458787060878), 'euclide_dist': np.float64(0.6917515672437081), 'r_ratio': 0.21739130434782608}, {'id': 51, 'cos_sim': np.float64(-0.07807131362109994), 'euclide_dist': np.float64(0.6731499997258792), 'r_ratio': 0.21739130434782608}, {'id': 50, 'cos_sim': np.float64(-0.006272875873783636), 'euclide_dist': np.float64(0.5275107365016548), 'r_ratio': 0.6086956521739131}, {'id': 49, 'cos_sim': np.float64(0.04491931824550631), 'euclide_dist': np.float64(0.473745282531607), 'r_ratio': 1.0869565217391304}, {'id': 53, 'cos_sim': np.float64(0.06494266326467461), 'euclide_dist': np.float64(0.4679948624046424), 'r_ratio': 0.6086956521739131}, {'id': 55, 'cos_sim': np.float64(0.3258877364514584), 'euclide_dist': np.float64(0.3749430311672646), 'r_ratio': 0.34782608695652173}, {'id': 47, 'cos_sim': np.float64(1.0), 'euclide_dist': np.float64(0.0), 'r_ratio': 1.0}]\n"
     ]
    },
    {
     "name": "stderr",
     "output_type": "stream",
     "text": [
      "127.0.0.1 - - [03/Oct/2024 21:33:51] \"POST /handle_recom HTTP/1.1\" 200 -\n"
     ]
    },
    {
     "name": "stdout",
     "output_type": "stream",
     "text": [
      "3 0\n",
      "reflection_node: 11 at lv up: 2\n",
      "generate cos sim, ecul dist, and nodes sorted by cos sim\n",
      "[{'id': 75, 'cos_sim': np.float64(-0.40146584506070443), 'euclide_dist': np.float64(1.236891236877308), 'r_ratio': 39.0}, {'id': 78, 'cos_sim': np.float64(-0.3001024550950954), 'euclide_dist': np.float64(1.2929076612759856), 'r_ratio': 6.0}, {'id': 82, 'cos_sim': np.float64(-0.08142391463730748), 'euclide_dist': np.float64(1.3526893311215873), 'r_ratio': 3.0}, {'id': 81, 'cos_sim': np.float64(-0.055923329846542566), 'euclide_dist': np.float64(1.1461230376675957), 'r_ratio': 13.0}, {'id': 76, 'cos_sim': np.float64(-0.030370417473648294), 'euclide_dist': np.float64(1.15410287837338), 'r_ratio': 38.0}, {'id': 79, 'cos_sim': np.float64(-0.023275017564249125), 'euclide_dist': np.float64(1.1565406793676372), 'r_ratio': 6.0}, {'id': 85, 'cos_sim': np.float64(0.10696218686052496), 'euclide_dist': np.float64(1.2223322428629215), 'r_ratio': 2.0}, {'id': 77, 'cos_sim': np.float64(0.1257466865862496), 'euclide_dist': np.float64(1.1051022459359168), 'r_ratio': 10.0}, {'id': 83, 'cos_sim': np.float64(0.22878022018011845), 'euclide_dist': np.float64(1.2335198179562117), 'r_ratio': 3.0}, {'id': 80, 'cos_sim': np.float64(0.43648118952993936), 'euclide_dist': np.float64(0.985111033736841), 'r_ratio': 12.0}, {'id': 86, 'cos_sim': np.float64(0.4498878308267702), 'euclide_dist': np.float64(0.9777087071271497), 'r_ratio': 9.0}, {'id': 84, 'cos_sim': np.float64(1.0), 'euclide_dist': np.float64(0.0), 'r_ratio': 1.0}]\n"
     ]
    },
    {
     "name": "stderr",
     "output_type": "stream",
     "text": [
      "127.0.0.1 - - [03/Oct/2024 21:33:54] \"GET / HTTP/1.1\" 200 -\n",
      "127.0.0.1 - - [03/Oct/2024 21:33:54] \"GET /static/styles.css HTTP/1.1\" 304 -\n",
      "127.0.0.1 - - [03/Oct/2024 21:33:54] \"GET /static/scripts.js HTTP/1.1\" 304 -\n",
      "127.0.0.1 - - [03/Oct/2024 21:33:54] \"GET /static/curve_axis.js HTTP/1.1\" 304 -\n",
      "127.0.0.1 - - [03/Oct/2024 21:33:54] \"GET /static/graph_tree.js HTTP/1.1\" 200 -\n",
      "127.0.0.1 - - [03/Oct/2024 21:33:54] \"GET /sliders HTTP/1.1\" 200 -\n",
      "127.0.0.1 - - [03/Oct/2024 21:33:54] \"GET /recom HTTP/1.1\" 200 -\n",
      "127.0.0.1 - - [03/Oct/2024 21:33:54] \"GET /graph_tree_data HTTP/1.1\" 200 -\n",
      "127.0.0.1 - - [03/Oct/2024 21:33:54] \"GET /tree_data HTTP/1.1\" 200 -\n",
      "127.0.0.1 - - [03/Oct/2024 21:33:57] \"POST /handle_recom HTTP/1.1\" 200 -\n"
     ]
    },
    {
     "name": "stdout",
     "output_type": "stream",
     "text": [
      "0 1\n",
      "reflection_node: 11 at lv up: 2\n",
      "generate cos sim, ecul dist, and nodes sorted by cos sim\n",
      "[{'id': 75, 'cos_sim': np.float64(-0.40146584506070443), 'euclide_dist': np.float64(1.236891236877308), 'r_ratio': 39.0}, {'id': 78, 'cos_sim': np.float64(-0.3001024550950954), 'euclide_dist': np.float64(1.2929076612759856), 'r_ratio': 6.0}, {'id': 82, 'cos_sim': np.float64(-0.08142391463730748), 'euclide_dist': np.float64(1.3526893311215873), 'r_ratio': 3.0}, {'id': 81, 'cos_sim': np.float64(-0.055923329846542566), 'euclide_dist': np.float64(1.1461230376675957), 'r_ratio': 13.0}, {'id': 76, 'cos_sim': np.float64(-0.030370417473648294), 'euclide_dist': np.float64(1.15410287837338), 'r_ratio': 38.0}, {'id': 79, 'cos_sim': np.float64(-0.023275017564249125), 'euclide_dist': np.float64(1.1565406793676372), 'r_ratio': 6.0}, {'id': 85, 'cos_sim': np.float64(0.10696218686052496), 'euclide_dist': np.float64(1.2223322428629215), 'r_ratio': 2.0}, {'id': 77, 'cos_sim': np.float64(0.1257466865862496), 'euclide_dist': np.float64(1.1051022459359168), 'r_ratio': 10.0}, {'id': 83, 'cos_sim': np.float64(0.22878022018011845), 'euclide_dist': np.float64(1.2335198179562117), 'r_ratio': 3.0}, {'id': 80, 'cos_sim': np.float64(0.43648118952993936), 'euclide_dist': np.float64(0.985111033736841), 'r_ratio': 12.0}, {'id': 86, 'cos_sim': np.float64(0.4498878308267702), 'euclide_dist': np.float64(0.9777087071271497), 'r_ratio': 9.0}, {'id': 84, 'cos_sim': np.float64(1.0), 'euclide_dist': np.float64(0.0), 'r_ratio': 1.0}]\n"
     ]
    },
    {
     "name": "stderr",
     "output_type": "stream",
     "text": [
      "127.0.0.1 - - [03/Oct/2024 21:34:06] \"GET / HTTP/1.1\" 200 -\n",
      "127.0.0.1 - - [03/Oct/2024 21:34:06] \"GET /static/styles.css HTTP/1.1\" 304 -\n",
      "127.0.0.1 - - [03/Oct/2024 21:34:06] \"GET /static/scripts.js HTTP/1.1\" 304 -\n",
      "127.0.0.1 - - [03/Oct/2024 21:34:06] \"GET /static/graph_tree.js HTTP/1.1\" 304 -\n",
      "127.0.0.1 - - [03/Oct/2024 21:34:06] \"GET /static/curve_axis.js HTTP/1.1\" 304 -\n",
      "127.0.0.1 - - [03/Oct/2024 21:34:06] \"GET /sliders HTTP/1.1\" 200 -\n",
      "127.0.0.1 - - [03/Oct/2024 21:34:06] \"GET /recom HTTP/1.1\" 200 -\n",
      "127.0.0.1 - - [03/Oct/2024 21:34:06] \"GET /graph_tree_data HTTP/1.1\" 200 -\n",
      "127.0.0.1 - - [03/Oct/2024 21:34:06] \"GET /tree_data HTTP/1.1\" 200 -\n",
      "127.0.0.1 - - [03/Oct/2024 21:34:10] \"POST /handle_recom HTTP/1.1\" 200 -\n"
     ]
    },
    {
     "name": "stdout",
     "output_type": "stream",
     "text": [
      "7 0\n",
      "reflection_node: 11 at lv up: 2\n",
      "generate cos sim, ecul dist, and nodes sorted by cos sim\n",
      "[{'id': 75, 'cos_sim': np.float64(-0.8751316663544466), 'euclide_dist': np.float64(0.6923474253484584), 'r_ratio': 4.333333333333333}, {'id': 82, 'cos_sim': np.float64(-0.061243516042743876), 'euclide_dist': np.float64(0.8530923350585324), 'r_ratio': 0.3333333333333333}, {'id': 76, 'cos_sim': np.float64(-0.0037258907644313094), 'euclide_dist': np.float64(0.5460899745245579), 'r_ratio': 4.222222222222222}, {'id': 85, 'cos_sim': np.float64(0.010501972000260765), 'euclide_dist': np.float64(0.7963891825134197), 'r_ratio': 0.2222222222222222}, {'id': 78, 'cos_sim': np.float64(0.1974960711006427), 'euclide_dist': np.float64(0.5467295089444844), 'r_ratio': 0.6666666666666666}, {'id': 77, 'cos_sim': np.float64(0.22594276078967132), 'euclide_dist': np.float64(0.48817438372367206), 'r_ratio': 1.1111111111111112}, {'id': 83, 'cos_sim': np.float64(0.30166621572147645), 'euclide_dist': np.float64(0.8498517647123269), 'r_ratio': 0.3333333333333333}, {'id': 79, 'cos_sim': np.float64(0.3043150640465633), 'euclide_dist': np.float64(0.4639639414234804), 'r_ratio': 0.6666666666666666}, {'id': 81, 'cos_sim': np.float64(0.3319393000803473), 'euclide_dist': np.float64(0.4283660806095493), 'r_ratio': 1.4444444444444444}, {'id': 80, 'cos_sim': np.float64(0.34520658608028687), 'euclide_dist': np.float64(0.4769352112934516), 'r_ratio': 1.3333333333333333}, {'id': 84, 'cos_sim': np.float64(0.4498878308267702), 'euclide_dist': np.float64(0.9777087071271497), 'r_ratio': 0.1111111111111111}, {'id': 86, 'cos_sim': np.float64(1.0), 'euclide_dist': np.float64(0.0), 'r_ratio': 1.0}]\n"
     ]
    },
    {
     "name": "stderr",
     "output_type": "stream",
     "text": [
      "127.0.0.1 - - [03/Oct/2024 21:34:48] \"GET / HTTP/1.1\" 200 -\n",
      "127.0.0.1 - - [03/Oct/2024 21:34:48] \"GET /static/styles.css HTTP/1.1\" 304 -\n",
      "127.0.0.1 - - [03/Oct/2024 21:34:48] \"GET /static/scripts.js HTTP/1.1\" 304 -\n",
      "127.0.0.1 - - [03/Oct/2024 21:34:48] \"GET /static/curve_axis.js HTTP/1.1\" 304 -\n",
      "127.0.0.1 - - [03/Oct/2024 21:34:48] \"GET /static/graph_tree.js HTTP/1.1\" 304 -\n",
      "127.0.0.1 - - [03/Oct/2024 21:34:48] \"GET /sliders HTTP/1.1\" 200 -\n",
      "127.0.0.1 - - [03/Oct/2024 21:34:48] \"GET /recom HTTP/1.1\" 200 -\n",
      "127.0.0.1 - - [03/Oct/2024 21:34:48] \"GET /graph_tree_data HTTP/1.1\" 200 -\n",
      "127.0.0.1 - - [03/Oct/2024 21:34:48] \"GET /tree_data HTTP/1.1\" 200 -\n",
      "127.0.0.1 - - [03/Oct/2024 21:34:53] \"GET /static/styles.css HTTP/1.1\" 304 -\n",
      "127.0.0.1 - - [03/Oct/2024 21:36:50] \"GET / HTTP/1.1\" 200 -\n",
      "127.0.0.1 - - [03/Oct/2024 21:36:50] \"GET /static/styles.css HTTP/1.1\" 304 -\n",
      "127.0.0.1 - - [03/Oct/2024 21:36:50] \"GET /static/scripts.js HTTP/1.1\" 304 -\n",
      "127.0.0.1 - - [03/Oct/2024 21:36:50] \"GET /static/curve_axis.js HTTP/1.1\" 304 -\n",
      "127.0.0.1 - - [03/Oct/2024 21:36:50] \"GET /static/graph_tree.js HTTP/1.1\" 200 -\n",
      "127.0.0.1 - - [03/Oct/2024 21:36:50] \"GET /sliders HTTP/1.1\" 200 -\n",
      "127.0.0.1 - - [03/Oct/2024 21:36:50] \"GET /recom HTTP/1.1\" 200 -\n",
      "127.0.0.1 - - [03/Oct/2024 21:36:50] \"GET /graph_tree_data HTTP/1.1\" 200 -\n",
      "127.0.0.1 - - [03/Oct/2024 21:36:50] \"GET /tree_data HTTP/1.1\" 200 -\n",
      "127.0.0.1 - - [03/Oct/2024 21:36:53] \"POST /handle_recom HTTP/1.1\" 200 -\n"
     ]
    },
    {
     "name": "stdout",
     "output_type": "stream",
     "text": [
      "13 0\n",
      "reflection_node: 3 at lv up: 2\n",
      "generate cos sim, ecul dist, and nodes sorted by cos sim\n",
      "[{'id': 49, 'cos_sim': np.float64(-0.5159931062205891), 'euclide_dist': np.float64(0.811417303426646), 'r_ratio': 5.0}, {'id': 52, 'cos_sim': np.float64(-0.43880974678194795), 'euclide_dist': np.float64(0.7627067071768198), 'r_ratio': 1.6}, {'id': 50, 'cos_sim': np.float64(-0.35568852474528356), 'euclide_dist': np.float64(0.8105352579768698), 'r_ratio': 2.8}, {'id': 58, 'cos_sim': np.float64(-0.2286117642974995), 'euclide_dist': np.float64(0.8014764138101276), 'r_ratio': 1.6}, {'id': 47, 'cos_sim': np.float64(-0.1315458787060878), 'euclide_dist': np.float64(0.6917515672437081), 'r_ratio': 4.6}, {'id': 48, 'cos_sim': np.float64(0.024155584346407667), 'euclide_dist': np.float64(0.6106281746973509), 'r_ratio': 6.0}, {'id': 53, 'cos_sim': np.float64(0.1259118111097981), 'euclide_dist': np.float64(0.6306872596442936), 'r_ratio': 2.8}, {'id': 55, 'cos_sim': np.float64(0.21117179945530268), 'euclide_dist': np.float64(0.5888896519796138), 'r_ratio': 1.6}, {'id': 51, 'cos_sim': np.float64(0.31029943494230827), 'euclide_dist': np.float64(0.6637400211753084), 'r_ratio': 1.0}, {'id': 59, 'cos_sim': np.float64(0.3853159834577209), 'euclide_dist': np.float64(0.5547417570708236), 'r_ratio': 1.6}, {'id': 57, 'cos_sim': np.float64(0.42753667262657247), 'euclide_dist': np.float64(0.5173599121036845), 'r_ratio': 1.4}, {'id': 56, 'cos_sim': np.float64(0.4433482217950078), 'euclide_dist': np.float64(0.6465466796985456), 'r_ratio': 0.6}, {'id': 60, 'cos_sim': np.float64(0.6450618155088809), 'euclide_dist': np.float64(0.4851616446325591), 'r_ratio': 0.8}, {'id': 54, 'cos_sim': np.float64(1.0), 'euclide_dist': np.float64(0.0), 'r_ratio': 1.0}]\n"
     ]
    },
    {
     "name": "stderr",
     "output_type": "stream",
     "text": [
      "127.0.0.1 - - [03/Oct/2024 21:36:56] \"POST /handle_recom HTTP/1.1\" 200 -\n"
     ]
    },
    {
     "name": "stdout",
     "output_type": "stream",
     "text": [
      "12 1\n",
      "reflection_node: 11 at lv up: 2\n",
      "generate cos sim, ecul dist, and nodes sorted by cos sim\n",
      "[{'id': 76, 'cos_sim': np.float64(-0.21583331398253405), 'euclide_dist': np.float64(0.8551164642123135), 'r_ratio': 12.666666666666666}, {'id': 75, 'cos_sim': np.float64(-0.08835918798297904), 'euclide_dist': np.float64(0.7935536868003044), 'r_ratio': 13.0}, {'id': 84, 'cos_sim': np.float64(-0.08142391463730748), 'euclide_dist': np.float64(1.3526893311215873), 'r_ratio': 0.3333333333333333}, {'id': 86, 'cos_sim': np.float64(-0.061243516042743876), 'euclide_dist': np.float64(0.8530923350585324), 'r_ratio': 3.0}, {'id': 77, 'cos_sim': np.float64(-0.005471375024191866), 'euclide_dist': np.float64(0.7988454719646785), 'r_ratio': 3.3333333333333335}, {'id': 78, 'cos_sim': np.float64(0.03976259072812505), 'euclide_dist': np.float64(0.8225280332361599), 'r_ratio': 2.0}, {'id': 83, 'cos_sim': np.float64(0.06641102495191811), 'euclide_dist': np.float64(1.092129999009221), 'r_ratio': 1.0}, {'id': 79, 'cos_sim': np.float64(0.09380913105758437), 'euclide_dist': np.float64(0.7672264138817697), 'r_ratio': 2.0}, {'id': 80, 'cos_sim': np.float64(0.13224740545707742), 'euclide_dist': np.float64(0.774055426338213), 'r_ratio': 4.0}, {'id': 81, 'cos_sim': np.float64(0.15856018937696315), 'euclide_dist': np.float64(0.7271562018888912), 'r_ratio': 4.333333333333333}, {'id': 85, 'cos_sim': np.float64(0.19656958524686474), 'euclide_dist': np.float64(0.8826043524418754), 'r_ratio': 0.6666666666666666}, {'id': 82, 'cos_sim': np.float64(0.9999999999999998), 'euclide_dist': np.float64(0.0), 'r_ratio': 1.0}]\n"
     ]
    },
    {
     "name": "stderr",
     "output_type": "stream",
     "text": [
      "127.0.0.1 - - [03/Oct/2024 21:36:59] \"POST /handle_recom HTTP/1.1\" 200 -\n"
     ]
    },
    {
     "name": "stdout",
     "output_type": "stream",
     "text": [
      "13 1\n",
      "reflection_node: 11 at lv up: 2\n",
      "generate cos sim, ecul dist, and nodes sorted by cos sim\n",
      "[{'id': 76, 'cos_sim': np.float64(-0.4763703874118989), 'euclide_dist': np.float64(1.0801369707758741), 'r_ratio': 12.666666666666666}, {'id': 75, 'cos_sim': np.float64(-0.24790429112440673), 'euclide_dist': np.float64(0.987344024050763), 'r_ratio': 13.0}, {'id': 79, 'cos_sim': np.float64(-0.008388022105811199), 'euclide_dist': np.float64(0.94746921878159), 'r_ratio': 2.0}, {'id': 85, 'cos_sim': np.float64(0.062405002113211844), 'euclide_dist': np.float64(1.0730381767018635), 'r_ratio': 0.6666666666666666}, {'id': 82, 'cos_sim': np.float64(0.06641102495191811), 'euclide_dist': np.float64(1.092129999009221), 'r_ratio': 1.0}, {'id': 80, 'cos_sim': np.float64(0.1557004556942238), 'euclide_dist': np.float64(0.9062083448933773), 'r_ratio': 4.0}, {'id': 84, 'cos_sim': np.float64(0.22878022018011845), 'euclide_dist': np.float64(1.2335198179562117), 'r_ratio': 0.3333333333333333}, {'id': 86, 'cos_sim': np.float64(0.30166621572147645), 'euclide_dist': np.float64(0.8498517647123269), 'r_ratio': 3.0}, {'id': 77, 'cos_sim': np.float64(0.32030530937217955), 'euclide_dist': np.float64(0.8323900352175247), 'r_ratio': 3.3333333333333335}, {'id': 78, 'cos_sim': np.float64(0.4024139820665456), 'euclide_dist': np.float64(0.8057621560065611), 'r_ratio': 2.0}, {'id': 81, 'cos_sim': np.float64(0.4682220670932662), 'euclide_dist': np.float64(0.7823236192629127), 'r_ratio': 4.333333333333333}, {'id': 83, 'cos_sim': np.float64(0.9999999999999999), 'euclide_dist': np.float64(0.0), 'r_ratio': 1.0}]\n"
     ]
    },
    {
     "name": "stderr",
     "output_type": "stream",
     "text": [
      "127.0.0.1 - - [03/Oct/2024 21:38:09] \"GET / HTTP/1.1\" 200 -\n",
      "127.0.0.1 - - [03/Oct/2024 21:38:09] \"GET /static/styles.css HTTP/1.1\" 304 -\n",
      "127.0.0.1 - - [03/Oct/2024 21:38:09] \"GET /static/scripts.js HTTP/1.1\" 304 -\n",
      "127.0.0.1 - - [03/Oct/2024 21:38:09] \"GET /static/curve_axis.js HTTP/1.1\" 304 -\n",
      "127.0.0.1 - - [03/Oct/2024 21:38:09] \"GET /static/graph_tree.js HTTP/1.1\" 200 -\n",
      "127.0.0.1 - - [03/Oct/2024 21:38:09] \"GET /sliders HTTP/1.1\" 200 -\n",
      "127.0.0.1 - - [03/Oct/2024 21:38:09] \"GET /recom HTTP/1.1\" 200 -\n",
      "127.0.0.1 - - [03/Oct/2024 21:38:09] \"GET /graph_tree_data HTTP/1.1\" 200 -\n",
      "127.0.0.1 - - [03/Oct/2024 21:38:09] \"GET /tree_data HTTP/1.1\" 200 -\n",
      "127.0.0.1 - - [03/Oct/2024 21:38:13] \"POST /handle_recom HTTP/1.1\" 200 -\n"
     ]
    },
    {
     "name": "stdout",
     "output_type": "stream",
     "text": [
      "13 0\n",
      "reflection_node: 3 at lv up: 2\n",
      "generate cos sim, ecul dist, and nodes sorted by cos sim\n",
      "[{'id': 49, 'cos_sim': np.float64(-0.5159931062205891), 'euclide_dist': np.float64(0.811417303426646), 'r_ratio': 5.0}, {'id': 52, 'cos_sim': np.float64(-0.43880974678194795), 'euclide_dist': np.float64(0.7627067071768198), 'r_ratio': 1.6}, {'id': 50, 'cos_sim': np.float64(-0.35568852474528356), 'euclide_dist': np.float64(0.8105352579768698), 'r_ratio': 2.8}, {'id': 58, 'cos_sim': np.float64(-0.2286117642974995), 'euclide_dist': np.float64(0.8014764138101276), 'r_ratio': 1.6}, {'id': 47, 'cos_sim': np.float64(-0.1315458787060878), 'euclide_dist': np.float64(0.6917515672437081), 'r_ratio': 4.6}, {'id': 48, 'cos_sim': np.float64(0.024155584346407667), 'euclide_dist': np.float64(0.6106281746973509), 'r_ratio': 6.0}, {'id': 53, 'cos_sim': np.float64(0.1259118111097981), 'euclide_dist': np.float64(0.6306872596442936), 'r_ratio': 2.8}, {'id': 55, 'cos_sim': np.float64(0.21117179945530268), 'euclide_dist': np.float64(0.5888896519796138), 'r_ratio': 1.6}, {'id': 51, 'cos_sim': np.float64(0.31029943494230827), 'euclide_dist': np.float64(0.6637400211753084), 'r_ratio': 1.0}, {'id': 59, 'cos_sim': np.float64(0.3853159834577209), 'euclide_dist': np.float64(0.5547417570708236), 'r_ratio': 1.6}, {'id': 57, 'cos_sim': np.float64(0.42753667262657247), 'euclide_dist': np.float64(0.5173599121036845), 'r_ratio': 1.4}, {'id': 56, 'cos_sim': np.float64(0.4433482217950078), 'euclide_dist': np.float64(0.6465466796985456), 'r_ratio': 0.6}, {'id': 60, 'cos_sim': np.float64(0.6450618155088809), 'euclide_dist': np.float64(0.4851616446325591), 'r_ratio': 0.8}, {'id': 54, 'cos_sim': np.float64(1.0), 'euclide_dist': np.float64(0.0), 'r_ratio': 1.0}]\n"
     ]
    },
    {
     "name": "stderr",
     "output_type": "stream",
     "text": [
      "127.0.0.1 - - [03/Oct/2024 21:38:15] \"POST /handle_recom HTTP/1.1\" 200 -\n"
     ]
    },
    {
     "name": "stdout",
     "output_type": "stream",
     "text": [
      "13 1\n",
      "reflection_node: 11 at lv up: 2\n",
      "generate cos sim, ecul dist, and nodes sorted by cos sim\n",
      "[{'id': 76, 'cos_sim': np.float64(-0.4763703874118989), 'euclide_dist': np.float64(1.0801369707758741), 'r_ratio': 12.666666666666666}, {'id': 75, 'cos_sim': np.float64(-0.24790429112440673), 'euclide_dist': np.float64(0.987344024050763), 'r_ratio': 13.0}, {'id': 79, 'cos_sim': np.float64(-0.008388022105811199), 'euclide_dist': np.float64(0.94746921878159), 'r_ratio': 2.0}, {'id': 85, 'cos_sim': np.float64(0.062405002113211844), 'euclide_dist': np.float64(1.0730381767018635), 'r_ratio': 0.6666666666666666}, {'id': 82, 'cos_sim': np.float64(0.06641102495191811), 'euclide_dist': np.float64(1.092129999009221), 'r_ratio': 1.0}, {'id': 80, 'cos_sim': np.float64(0.1557004556942238), 'euclide_dist': np.float64(0.9062083448933773), 'r_ratio': 4.0}, {'id': 84, 'cos_sim': np.float64(0.22878022018011845), 'euclide_dist': np.float64(1.2335198179562117), 'r_ratio': 0.3333333333333333}, {'id': 86, 'cos_sim': np.float64(0.30166621572147645), 'euclide_dist': np.float64(0.8498517647123269), 'r_ratio': 3.0}, {'id': 77, 'cos_sim': np.float64(0.32030530937217955), 'euclide_dist': np.float64(0.8323900352175247), 'r_ratio': 3.3333333333333335}, {'id': 78, 'cos_sim': np.float64(0.4024139820665456), 'euclide_dist': np.float64(0.8057621560065611), 'r_ratio': 2.0}, {'id': 81, 'cos_sim': np.float64(0.4682220670932662), 'euclide_dist': np.float64(0.7823236192629127), 'r_ratio': 4.333333333333333}, {'id': 83, 'cos_sim': np.float64(0.9999999999999999), 'euclide_dist': np.float64(0.0), 'r_ratio': 1.0}]\n"
     ]
    },
    {
     "name": "stderr",
     "output_type": "stream",
     "text": [
      "127.0.0.1 - - [03/Oct/2024 21:38:18] \"POST /handle_recom HTTP/1.1\" 200 -\n"
     ]
    },
    {
     "name": "stdout",
     "output_type": "stream",
     "text": [
      "11 1\n",
      "reflection_node: 11 at lv up: 2\n",
      "generate cos sim, ecul dist, and nodes sorted by cos sim\n",
      "[{'id': 76, 'cos_sim': np.float64(-0.4763703874118989), 'euclide_dist': np.float64(1.0801369707758741), 'r_ratio': 12.666666666666666}, {'id': 75, 'cos_sim': np.float64(-0.24790429112440673), 'euclide_dist': np.float64(0.987344024050763), 'r_ratio': 13.0}, {'id': 79, 'cos_sim': np.float64(-0.008388022105811199), 'euclide_dist': np.float64(0.94746921878159), 'r_ratio': 2.0}, {'id': 85, 'cos_sim': np.float64(0.062405002113211844), 'euclide_dist': np.float64(1.0730381767018635), 'r_ratio': 0.6666666666666666}, {'id': 82, 'cos_sim': np.float64(0.06641102495191811), 'euclide_dist': np.float64(1.092129999009221), 'r_ratio': 1.0}, {'id': 80, 'cos_sim': np.float64(0.1557004556942238), 'euclide_dist': np.float64(0.9062083448933773), 'r_ratio': 4.0}, {'id': 84, 'cos_sim': np.float64(0.22878022018011845), 'euclide_dist': np.float64(1.2335198179562117), 'r_ratio': 0.3333333333333333}, {'id': 86, 'cos_sim': np.float64(0.30166621572147645), 'euclide_dist': np.float64(0.8498517647123269), 'r_ratio': 3.0}, {'id': 77, 'cos_sim': np.float64(0.32030530937217955), 'euclide_dist': np.float64(0.8323900352175247), 'r_ratio': 3.3333333333333335}, {'id': 78, 'cos_sim': np.float64(0.4024139820665456), 'euclide_dist': np.float64(0.8057621560065611), 'r_ratio': 2.0}, {'id': 81, 'cos_sim': np.float64(0.4682220670932662), 'euclide_dist': np.float64(0.7823236192629127), 'r_ratio': 4.333333333333333}, {'id': 83, 'cos_sim': np.float64(0.9999999999999999), 'euclide_dist': np.float64(0.0), 'r_ratio': 1.0}]\n"
     ]
    },
    {
     "name": "stderr",
     "output_type": "stream",
     "text": [
      "127.0.0.1 - - [03/Oct/2024 21:38:20] \"POST /handle_recom HTTP/1.1\" 200 -\n"
     ]
    },
    {
     "name": "stdout",
     "output_type": "stream",
     "text": [
      "12 1\n",
      "reflection_node: 11 at lv up: 2\n",
      "generate cos sim, ecul dist, and nodes sorted by cos sim\n",
      "[{'id': 76, 'cos_sim': np.float64(-0.21583331398253405), 'euclide_dist': np.float64(0.8551164642123135), 'r_ratio': 12.666666666666666}, {'id': 75, 'cos_sim': np.float64(-0.08835918798297904), 'euclide_dist': np.float64(0.7935536868003044), 'r_ratio': 13.0}, {'id': 84, 'cos_sim': np.float64(-0.08142391463730748), 'euclide_dist': np.float64(1.3526893311215873), 'r_ratio': 0.3333333333333333}, {'id': 86, 'cos_sim': np.float64(-0.061243516042743876), 'euclide_dist': np.float64(0.8530923350585324), 'r_ratio': 3.0}, {'id': 77, 'cos_sim': np.float64(-0.005471375024191866), 'euclide_dist': np.float64(0.7988454719646785), 'r_ratio': 3.3333333333333335}, {'id': 78, 'cos_sim': np.float64(0.03976259072812505), 'euclide_dist': np.float64(0.8225280332361599), 'r_ratio': 2.0}, {'id': 83, 'cos_sim': np.float64(0.06641102495191811), 'euclide_dist': np.float64(1.092129999009221), 'r_ratio': 1.0}, {'id': 79, 'cos_sim': np.float64(0.09380913105758437), 'euclide_dist': np.float64(0.7672264138817697), 'r_ratio': 2.0}, {'id': 80, 'cos_sim': np.float64(0.13224740545707742), 'euclide_dist': np.float64(0.774055426338213), 'r_ratio': 4.0}, {'id': 81, 'cos_sim': np.float64(0.15856018937696315), 'euclide_dist': np.float64(0.7271562018888912), 'r_ratio': 4.333333333333333}, {'id': 85, 'cos_sim': np.float64(0.19656958524686474), 'euclide_dist': np.float64(0.8826043524418754), 'r_ratio': 0.6666666666666666}, {'id': 82, 'cos_sim': np.float64(0.9999999999999998), 'euclide_dist': np.float64(0.0), 'r_ratio': 1.0}]\n"
     ]
    },
    {
     "name": "stderr",
     "output_type": "stream",
     "text": [
      "127.0.0.1 - - [03/Oct/2024 21:38:44] \"POST /handle_recom HTTP/1.1\" 200 -\n"
     ]
    },
    {
     "name": "stdout",
     "output_type": "stream",
     "text": [
      "4 0\n",
      "reflection_node: 33 at lv up: 2\n",
      "generate cos sim, ecul dist, and nodes sorted by cos sim\n",
      "[{'id': 100, 'cos_sim': np.float64(-0.6919149883285474), 'euclide_dist': np.float64(0.43876535496407915), 'r_ratio': 1.0222222222222221}, {'id': 99, 'cos_sim': np.float64(-0.4796494631127928), 'euclide_dist': np.float64(0.3753587143526724), 'r_ratio': 1.8888888888888888}, {'id': 103, 'cos_sim': np.float64(0.0886108123662816), 'euclide_dist': np.float64(0.5489406469067046), 'r_ratio': 0.28888888888888886}, {'id': 101, 'cos_sim': np.float64(0.4056903929821704), 'euclide_dist': np.float64(0.352040462795407), 'r_ratio': 0.5777777777777777}, {'id': 102, 'cos_sim': np.float64(1.0), 'euclide_dist': np.float64(0.0), 'r_ratio': 1.0}]\n"
     ]
    },
    {
     "name": "stderr",
     "output_type": "stream",
     "text": [
      "127.0.0.1 - - [03/Oct/2024 21:38:49] \"POST /handle_recom HTTP/1.1\" 200 -\n"
     ]
    },
    {
     "name": "stdout",
     "output_type": "stream",
     "text": [
      "3 1\n",
      "reflection_node: 3 at lv up: 2\n",
      "generate cos sim, ecul dist, and nodes sorted by cos sim\n",
      "[{'id': 49, 'cos_sim': np.float64(-0.8194913081197077), 'euclide_dist': np.float64(0.8997336054403713), 'r_ratio': 6.25}, {'id': 48, 'cos_sim': np.float64(-0.29456092518762056), 'euclide_dist': np.float64(0.6932080259177769), 'r_ratio': 7.5}, {'id': 47, 'cos_sim': np.float64(-0.25678760741035067), 'euclide_dist': np.float64(0.7392965323701641), 'r_ratio': 5.75}, {'id': 50, 'cos_sim': np.float64(-0.09851017837582744), 'euclide_dist': np.float64(0.746310199155921), 'r_ratio': 3.5}, {'id': 52, 'cos_sim': np.float64(0.07117940255151237), 'euclide_dist': np.float64(0.6445940602623088), 'r_ratio': 2.0}, {'id': 58, 'cos_sim': np.float64(0.11112379212275723), 'euclide_dist': np.float64(0.6968155102671493), 'r_ratio': 2.0}, {'id': 55, 'cos_sim': np.float64(0.12780317557990226), 'euclide_dist': np.float64(0.6278698384530065), 'r_ratio': 2.0}, {'id': 57, 'cos_sim': np.float64(0.13428464325728473), 'euclide_dist': np.float64(0.6229913399689829), 'r_ratio': 1.75}, {'id': 53, 'cos_sim': np.float64(0.41509672193828645), 'euclide_dist': np.float64(0.5430258958735104), 'r_ratio': 3.5}, {'id': 56, 'cos_sim': np.float64(0.4763249008914858), 'euclide_dist': np.float64(0.6342663417509464), 'r_ratio': 0.75}, {'id': 51, 'cos_sim': np.float64(0.5371341741887233), 'euclide_dist': np.float64(0.5518502681650301), 'r_ratio': 1.25}, {'id': 59, 'cos_sim': np.float64(0.641414444626595), 'euclide_dist': np.float64(0.4486376880878608), 'r_ratio': 2.0}, {'id': 54, 'cos_sim': np.float64(0.6450618155088809), 'euclide_dist': np.float64(0.4851616446325591), 'r_ratio': 1.25}, {'id': 60, 'cos_sim': np.float64(0.9999999999999999), 'euclide_dist': np.float64(0.0), 'r_ratio': 1.0}]\n"
     ]
    },
    {
     "name": "stderr",
     "output_type": "stream",
     "text": [
      "127.0.0.1 - - [03/Oct/2024 21:39:36] \"POST /handle_recom HTTP/1.1\" 200 -\n"
     ]
    },
    {
     "name": "stdout",
     "output_type": "stream",
     "text": [
      "9 0\n",
      "reflection_node: 11 at lv up: 2\n",
      "generate cos sim, ecul dist, and nodes sorted by cos sim\n",
      "[{'id': 76, 'cos_sim': np.float64(-0.21583331398253405), 'euclide_dist': np.float64(0.8551164642123135), 'r_ratio': 12.666666666666666}, {'id': 75, 'cos_sim': np.float64(-0.08835918798297904), 'euclide_dist': np.float64(0.7935536868003044), 'r_ratio': 13.0}, {'id': 84, 'cos_sim': np.float64(-0.08142391463730748), 'euclide_dist': np.float64(1.3526893311215873), 'r_ratio': 0.3333333333333333}, {'id': 86, 'cos_sim': np.float64(-0.061243516042743876), 'euclide_dist': np.float64(0.8530923350585324), 'r_ratio': 3.0}, {'id': 77, 'cos_sim': np.float64(-0.005471375024191866), 'euclide_dist': np.float64(0.7988454719646785), 'r_ratio': 3.3333333333333335}, {'id': 78, 'cos_sim': np.float64(0.03976259072812505), 'euclide_dist': np.float64(0.8225280332361599), 'r_ratio': 2.0}, {'id': 83, 'cos_sim': np.float64(0.06641102495191811), 'euclide_dist': np.float64(1.092129999009221), 'r_ratio': 1.0}, {'id': 79, 'cos_sim': np.float64(0.09380913105758437), 'euclide_dist': np.float64(0.7672264138817697), 'r_ratio': 2.0}, {'id': 80, 'cos_sim': np.float64(0.13224740545707742), 'euclide_dist': np.float64(0.774055426338213), 'r_ratio': 4.0}, {'id': 81, 'cos_sim': np.float64(0.15856018937696315), 'euclide_dist': np.float64(0.7271562018888912), 'r_ratio': 4.333333333333333}, {'id': 85, 'cos_sim': np.float64(0.19656958524686474), 'euclide_dist': np.float64(0.8826043524418754), 'r_ratio': 0.6666666666666666}, {'id': 82, 'cos_sim': np.float64(0.9999999999999998), 'euclide_dist': np.float64(0.0), 'r_ratio': 1.0}]\n"
     ]
    },
    {
     "name": "stderr",
     "output_type": "stream",
     "text": [
      "127.0.0.1 - - [03/Oct/2024 21:39:38] \"POST /handle_recom HTTP/1.1\" 200 -\n"
     ]
    },
    {
     "name": "stdout",
     "output_type": "stream",
     "text": [
      "10 1\n",
      "reflection_node: 11 at lv up: 2\n",
      "generate cos sim, ecul dist, and nodes sorted by cos sim\n",
      "[{'id': 76, 'cos_sim': np.float64(-0.4763703874118989), 'euclide_dist': np.float64(1.0801369707758741), 'r_ratio': 12.666666666666666}, {'id': 75, 'cos_sim': np.float64(-0.24790429112440673), 'euclide_dist': np.float64(0.987344024050763), 'r_ratio': 13.0}, {'id': 79, 'cos_sim': np.float64(-0.008388022105811199), 'euclide_dist': np.float64(0.94746921878159), 'r_ratio': 2.0}, {'id': 85, 'cos_sim': np.float64(0.062405002113211844), 'euclide_dist': np.float64(1.0730381767018635), 'r_ratio': 0.6666666666666666}, {'id': 82, 'cos_sim': np.float64(0.06641102495191811), 'euclide_dist': np.float64(1.092129999009221), 'r_ratio': 1.0}, {'id': 80, 'cos_sim': np.float64(0.1557004556942238), 'euclide_dist': np.float64(0.9062083448933773), 'r_ratio': 4.0}, {'id': 84, 'cos_sim': np.float64(0.22878022018011845), 'euclide_dist': np.float64(1.2335198179562117), 'r_ratio': 0.3333333333333333}, {'id': 86, 'cos_sim': np.float64(0.30166621572147645), 'euclide_dist': np.float64(0.8498517647123269), 'r_ratio': 3.0}, {'id': 77, 'cos_sim': np.float64(0.32030530937217955), 'euclide_dist': np.float64(0.8323900352175247), 'r_ratio': 3.3333333333333335}, {'id': 78, 'cos_sim': np.float64(0.4024139820665456), 'euclide_dist': np.float64(0.8057621560065611), 'r_ratio': 2.0}, {'id': 81, 'cos_sim': np.float64(0.4682220670932662), 'euclide_dist': np.float64(0.7823236192629127), 'r_ratio': 4.333333333333333}, {'id': 83, 'cos_sim': np.float64(0.9999999999999999), 'euclide_dist': np.float64(0.0), 'r_ratio': 1.0}]\n"
     ]
    },
    {
     "name": "stderr",
     "output_type": "stream",
     "text": [
      "127.0.0.1 - - [03/Oct/2024 21:39:43] \"POST /handle_recom HTTP/1.1\" 200 -\n"
     ]
    },
    {
     "name": "stdout",
     "output_type": "stream",
     "text": [
      "12 0\n",
      "reflection_node: 11 at lv up: 2\n",
      "generate cos sim, ecul dist, and nodes sorted by cos sim\n",
      "[{'id': 76, 'cos_sim': np.float64(-0.2709092413729092), 'euclide_dist': np.float64(0.8373056109993854), 'r_ratio': 19.0}, {'id': 78, 'cos_sim': np.float64(-0.07749730835660533), 'euclide_dist': np.float64(0.8349313206094979), 'r_ratio': 3.0}, {'id': 75, 'cos_sim': np.float64(-0.07100631617471197), 'euclide_dist': np.float64(0.7555092910562405), 'r_ratio': 19.5}, {'id': 81, 'cos_sim': np.float64(-0.008676042408019977), 'euclide_dist': np.float64(0.7402040017324499), 'r_ratio': 6.5}, {'id': 86, 'cos_sim': np.float64(0.010501972000260765), 'euclide_dist': np.float64(0.7963891825134197), 'r_ratio': 4.5}, {'id': 83, 'cos_sim': np.float64(0.062405002113211844), 'euclide_dist': np.float64(1.0730381767018635), 'r_ratio': 1.5}, {'id': 84, 'cos_sim': np.float64(0.10696218686052496), 'euclide_dist': np.float64(1.2223322428629215), 'r_ratio': 0.5}, {'id': 79, 'cos_sim': np.float64(0.13270394588476211), 'euclide_dist': np.float64(0.7224972624211913), 'r_ratio': 3.0}, {'id': 82, 'cos_sim': np.float64(0.19656958524686474), 'euclide_dist': np.float64(0.8826043524418754), 'r_ratio': 1.5}, {'id': 77, 'cos_sim': np.float64(0.24039317456369907), 'euclide_dist': np.float64(0.685266480817796), 'r_ratio': 5.0}, {'id': 80, 'cos_sim': np.float64(0.2686119178095564), 'euclide_dist': np.float64(0.690906342578109), 'r_ratio': 6.0}, {'id': 85, 'cos_sim': np.float64(1.0), 'euclide_dist': np.float64(0.0), 'r_ratio': 1.0}]\n"
     ]
    },
    {
     "name": "stderr",
     "output_type": "stream",
     "text": [
      "127.0.0.1 - - [03/Oct/2024 21:39:46] \"POST /handle_recom HTTP/1.1\" 200 -\n"
     ]
    },
    {
     "name": "stdout",
     "output_type": "stream",
     "text": [
      "12 1\n",
      "reflection_node: 11 at lv up: 2\n",
      "generate cos sim, ecul dist, and nodes sorted by cos sim\n",
      "[{'id': 76, 'cos_sim': np.float64(-0.21583331398253405), 'euclide_dist': np.float64(0.8551164642123135), 'r_ratio': 12.666666666666666}, {'id': 75, 'cos_sim': np.float64(-0.08835918798297904), 'euclide_dist': np.float64(0.7935536868003044), 'r_ratio': 13.0}, {'id': 84, 'cos_sim': np.float64(-0.08142391463730748), 'euclide_dist': np.float64(1.3526893311215873), 'r_ratio': 0.3333333333333333}, {'id': 86, 'cos_sim': np.float64(-0.061243516042743876), 'euclide_dist': np.float64(0.8530923350585324), 'r_ratio': 3.0}, {'id': 77, 'cos_sim': np.float64(-0.005471375024191866), 'euclide_dist': np.float64(0.7988454719646785), 'r_ratio': 3.3333333333333335}, {'id': 78, 'cos_sim': np.float64(0.03976259072812505), 'euclide_dist': np.float64(0.8225280332361599), 'r_ratio': 2.0}, {'id': 83, 'cos_sim': np.float64(0.06641102495191811), 'euclide_dist': np.float64(1.092129999009221), 'r_ratio': 1.0}, {'id': 79, 'cos_sim': np.float64(0.09380913105758437), 'euclide_dist': np.float64(0.7672264138817697), 'r_ratio': 2.0}, {'id': 80, 'cos_sim': np.float64(0.13224740545707742), 'euclide_dist': np.float64(0.774055426338213), 'r_ratio': 4.0}, {'id': 81, 'cos_sim': np.float64(0.15856018937696315), 'euclide_dist': np.float64(0.7271562018888912), 'r_ratio': 4.333333333333333}, {'id': 85, 'cos_sim': np.float64(0.19656958524686474), 'euclide_dist': np.float64(0.8826043524418754), 'r_ratio': 0.6666666666666666}, {'id': 82, 'cos_sim': np.float64(0.9999999999999998), 'euclide_dist': np.float64(0.0), 'r_ratio': 1.0}]\n"
     ]
    },
    {
     "name": "stderr",
     "output_type": "stream",
     "text": [
      "127.0.0.1 - - [03/Oct/2024 21:39:50] \"POST /handle_recom HTTP/1.1\" 200 -\n"
     ]
    },
    {
     "name": "stdout",
     "output_type": "stream",
     "text": [
      "12 0\n",
      "reflection_node: 11 at lv up: 2\n",
      "generate cos sim, ecul dist, and nodes sorted by cos sim\n",
      "[{'id': 76, 'cos_sim': np.float64(-0.2709092413729092), 'euclide_dist': np.float64(0.8373056109993854), 'r_ratio': 19.0}, {'id': 78, 'cos_sim': np.float64(-0.07749730835660533), 'euclide_dist': np.float64(0.8349313206094979), 'r_ratio': 3.0}, {'id': 75, 'cos_sim': np.float64(-0.07100631617471197), 'euclide_dist': np.float64(0.7555092910562405), 'r_ratio': 19.5}, {'id': 81, 'cos_sim': np.float64(-0.008676042408019977), 'euclide_dist': np.float64(0.7402040017324499), 'r_ratio': 6.5}, {'id': 86, 'cos_sim': np.float64(0.010501972000260765), 'euclide_dist': np.float64(0.7963891825134197), 'r_ratio': 4.5}, {'id': 83, 'cos_sim': np.float64(0.062405002113211844), 'euclide_dist': np.float64(1.0730381767018635), 'r_ratio': 1.5}, {'id': 84, 'cos_sim': np.float64(0.10696218686052496), 'euclide_dist': np.float64(1.2223322428629215), 'r_ratio': 0.5}, {'id': 79, 'cos_sim': np.float64(0.13270394588476211), 'euclide_dist': np.float64(0.7224972624211913), 'r_ratio': 3.0}, {'id': 82, 'cos_sim': np.float64(0.19656958524686474), 'euclide_dist': np.float64(0.8826043524418754), 'r_ratio': 1.5}, {'id': 77, 'cos_sim': np.float64(0.24039317456369907), 'euclide_dist': np.float64(0.685266480817796), 'r_ratio': 5.0}, {'id': 80, 'cos_sim': np.float64(0.2686119178095564), 'euclide_dist': np.float64(0.690906342578109), 'r_ratio': 6.0}, {'id': 85, 'cos_sim': np.float64(1.0), 'euclide_dist': np.float64(0.0), 'r_ratio': 1.0}]\n"
     ]
    },
    {
     "name": "stderr",
     "output_type": "stream",
     "text": [
      "127.0.0.1 - - [03/Oct/2024 21:39:53] \"POST /handle_recom HTTP/1.1\" 200 -\n"
     ]
    },
    {
     "name": "stdout",
     "output_type": "stream",
     "text": [
      "12 1\n",
      "reflection_node: 11 at lv up: 2\n",
      "generate cos sim, ecul dist, and nodes sorted by cos sim\n",
      "[{'id': 76, 'cos_sim': np.float64(-0.21583331398253405), 'euclide_dist': np.float64(0.8551164642123135), 'r_ratio': 12.666666666666666}, {'id': 75, 'cos_sim': np.float64(-0.08835918798297904), 'euclide_dist': np.float64(0.7935536868003044), 'r_ratio': 13.0}, {'id': 84, 'cos_sim': np.float64(-0.08142391463730748), 'euclide_dist': np.float64(1.3526893311215873), 'r_ratio': 0.3333333333333333}, {'id': 86, 'cos_sim': np.float64(-0.061243516042743876), 'euclide_dist': np.float64(0.8530923350585324), 'r_ratio': 3.0}, {'id': 77, 'cos_sim': np.float64(-0.005471375024191866), 'euclide_dist': np.float64(0.7988454719646785), 'r_ratio': 3.3333333333333335}, {'id': 78, 'cos_sim': np.float64(0.03976259072812505), 'euclide_dist': np.float64(0.8225280332361599), 'r_ratio': 2.0}, {'id': 83, 'cos_sim': np.float64(0.06641102495191811), 'euclide_dist': np.float64(1.092129999009221), 'r_ratio': 1.0}, {'id': 79, 'cos_sim': np.float64(0.09380913105758437), 'euclide_dist': np.float64(0.7672264138817697), 'r_ratio': 2.0}, {'id': 80, 'cos_sim': np.float64(0.13224740545707742), 'euclide_dist': np.float64(0.774055426338213), 'r_ratio': 4.0}, {'id': 81, 'cos_sim': np.float64(0.15856018937696315), 'euclide_dist': np.float64(0.7271562018888912), 'r_ratio': 4.333333333333333}, {'id': 85, 'cos_sim': np.float64(0.19656958524686474), 'euclide_dist': np.float64(0.8826043524418754), 'r_ratio': 0.6666666666666666}, {'id': 82, 'cos_sim': np.float64(0.9999999999999998), 'euclide_dist': np.float64(0.0), 'r_ratio': 1.0}]\n"
     ]
    },
    {
     "name": "stderr",
     "output_type": "stream",
     "text": [
      "127.0.0.1 - - [03/Oct/2024 21:40:11] \"GET / HTTP/1.1\" 200 -\n",
      "127.0.0.1 - - [03/Oct/2024 21:40:11] \"GET /static/styles.css HTTP/1.1\" 304 -\n",
      "127.0.0.1 - - [03/Oct/2024 21:40:11] \"GET /static/scripts.js HTTP/1.1\" 304 -\n",
      "127.0.0.1 - - [03/Oct/2024 21:40:11] \"GET /static/curve_axis.js HTTP/1.1\" 304 -\n",
      "127.0.0.1 - - [03/Oct/2024 21:40:11] \"GET /static/graph_tree.js HTTP/1.1\" 200 -\n",
      "127.0.0.1 - - [03/Oct/2024 21:40:11] \"GET /sliders HTTP/1.1\" 200 -\n",
      "127.0.0.1 - - [03/Oct/2024 21:40:11] \"GET /recom HTTP/1.1\" 200 -\n",
      "127.0.0.1 - - [03/Oct/2024 21:40:11] \"GET /graph_tree_data HTTP/1.1\" 200 -\n",
      "127.0.0.1 - - [03/Oct/2024 21:40:11] \"GET /tree_data HTTP/1.1\" 200 -\n",
      "127.0.0.1 - - [03/Oct/2024 21:40:14] \"POST /handle_recom HTTP/1.1\" 200 -\n"
     ]
    },
    {
     "name": "stdout",
     "output_type": "stream",
     "text": [
      "11 0\n",
      "reflection_node: 1 at lv up: 2\n",
      "generate cos sim, ecul dist, and nodes sorted by cos sim\n",
      "[{'id': 20, 'cos_sim': np.float64(-0.5141220218543034), 'euclide_dist': np.float64(1.0925226838798079), 'r_ratio': 1.8333333333333333}, {'id': 17, 'cos_sim': np.float64(-0.5099567531398856), 'euclide_dist': np.float64(0.8027512371395716), 'r_ratio': 7.25}, {'id': 21, 'cos_sim': np.float64(-0.2858940884192117), 'euclide_dist': np.float64(1.0015505951762458), 'r_ratio': 1.75}, {'id': 19, 'cos_sim': np.float64(-0.27765299941336974), 'euclide_dist': np.float64(0.9818749707130934), 'r_ratio': 1.9166666666666667}, {'id': 16, 'cos_sim': np.float64(-0.2114062464791594), 'euclide_dist': np.float64(0.7128433332564057), 'r_ratio': 5.833333333333333}, {'id': 6, 'cos_sim': np.float64(-0.08046292069716708), 'euclide_dist': np.float64(1.2005655131096171), 'r_ratio': 2.9166666666666665}, {'id': 18, 'cos_sim': np.float64(-0.06110821408248549), 'euclide_dist': np.float64(0.7097882330366457), 'r_ratio': 8.583333333333334}, {'id': 15, 'cos_sim': np.float64(0.06442512818422812), 'euclide_dist': np.float64(0.6336812444271965), 'r_ratio': 7.666666666666667}, {'id': 25, 'cos_sim': np.float64(0.1393350542242449), 'euclide_dist': np.float64(0.6033710880379141), 'r_ratio': 1.75}, {'id': 23, 'cos_sim': np.float64(0.18242084775998588), 'euclide_dist': np.float64(0.6638896889373354), 'r_ratio': 6.833333333333333}, {'id': 30, 'cos_sim': np.float64(0.23173653067147865), 'euclide_dist': np.float64(0.7045972232032431), 'r_ratio': 0.5}, {'id': 29, 'cos_sim': np.float64(0.23770285295483934), 'euclide_dist': np.float64(0.8681383525923981), 'r_ratio': 0.4166666666666667}, {'id': 24, 'cos_sim': np.float64(0.2592306870088602), 'euclide_dist': np.float64(0.5668505424900071), 'r_ratio': 2.1666666666666665}, {'id': 26, 'cos_sim': np.float64(0.2686606222593542), 'euclide_dist': np.float64(0.688327429306253), 'r_ratio': 1.3333333333333333}, {'id': 22, 'cos_sim': np.float64(0.27386789985721044), 'euclide_dist': np.float64(0.6708678932571053), 'r_ratio': 3.4166666666666665}, {'id': 28, 'cos_sim': np.float64(0.5368962949748728), 'euclide_dist': np.float64(0.5162747340405835), 'r_ratio': 2.1666666666666665}, {'id': 32, 'cos_sim': np.float64(0.5496942432916098), 'euclide_dist': np.float64(0.4320828050702664), 'r_ratio': 1.4166666666666667}, {'id': 31, 'cos_sim': np.float64(0.613072214275516), 'euclide_dist': np.float64(0.4815826553009878), 'r_ratio': 1.1666666666666667}, {'id': 27, 'cos_sim': np.float64(1.0), 'euclide_dist': np.float64(0.0), 'r_ratio': 1.0}]\n"
     ]
    },
    {
     "name": "stderr",
     "output_type": "stream",
     "text": [
      "127.0.0.1 - - [03/Oct/2024 21:40:18] \"POST /handle_recom HTTP/1.1\" 200 -\n"
     ]
    },
    {
     "name": "stdout",
     "output_type": "stream",
     "text": [
      "12 0\n",
      "reflection_node: 11 at lv up: 2\n",
      "generate cos sim, ecul dist, and nodes sorted by cos sim\n",
      "[{'id': 76, 'cos_sim': np.float64(-0.2709092413729092), 'euclide_dist': np.float64(0.8373056109993854), 'r_ratio': 19.0}, {'id': 78, 'cos_sim': np.float64(-0.07749730835660533), 'euclide_dist': np.float64(0.8349313206094979), 'r_ratio': 3.0}, {'id': 75, 'cos_sim': np.float64(-0.07100631617471197), 'euclide_dist': np.float64(0.7555092910562405), 'r_ratio': 19.5}, {'id': 81, 'cos_sim': np.float64(-0.008676042408019977), 'euclide_dist': np.float64(0.7402040017324499), 'r_ratio': 6.5}, {'id': 86, 'cos_sim': np.float64(0.010501972000260765), 'euclide_dist': np.float64(0.7963891825134197), 'r_ratio': 4.5}, {'id': 83, 'cos_sim': np.float64(0.062405002113211844), 'euclide_dist': np.float64(1.0730381767018635), 'r_ratio': 1.5}, {'id': 84, 'cos_sim': np.float64(0.10696218686052496), 'euclide_dist': np.float64(1.2223322428629215), 'r_ratio': 0.5}, {'id': 79, 'cos_sim': np.float64(0.13270394588476211), 'euclide_dist': np.float64(0.7224972624211913), 'r_ratio': 3.0}, {'id': 82, 'cos_sim': np.float64(0.19656958524686474), 'euclide_dist': np.float64(0.8826043524418754), 'r_ratio': 1.5}, {'id': 77, 'cos_sim': np.float64(0.24039317456369907), 'euclide_dist': np.float64(0.685266480817796), 'r_ratio': 5.0}, {'id': 80, 'cos_sim': np.float64(0.2686119178095564), 'euclide_dist': np.float64(0.690906342578109), 'r_ratio': 6.0}, {'id': 85, 'cos_sim': np.float64(1.0), 'euclide_dist': np.float64(0.0), 'r_ratio': 1.0}]\n"
     ]
    },
    {
     "name": "stderr",
     "output_type": "stream",
     "text": [
      "127.0.0.1 - - [03/Oct/2024 21:40:22] \"POST /handle_recom HTTP/1.1\" 200 -\n"
     ]
    },
    {
     "name": "stdout",
     "output_type": "stream",
     "text": [
      "12 1\n",
      "reflection_node: 11 at lv up: 2\n",
      "generate cos sim, ecul dist, and nodes sorted by cos sim\n",
      "[{'id': 76, 'cos_sim': np.float64(-0.21583331398253405), 'euclide_dist': np.float64(0.8551164642123135), 'r_ratio': 12.666666666666666}, {'id': 75, 'cos_sim': np.float64(-0.08835918798297904), 'euclide_dist': np.float64(0.7935536868003044), 'r_ratio': 13.0}, {'id': 84, 'cos_sim': np.float64(-0.08142391463730748), 'euclide_dist': np.float64(1.3526893311215873), 'r_ratio': 0.3333333333333333}, {'id': 86, 'cos_sim': np.float64(-0.061243516042743876), 'euclide_dist': np.float64(0.8530923350585324), 'r_ratio': 3.0}, {'id': 77, 'cos_sim': np.float64(-0.005471375024191866), 'euclide_dist': np.float64(0.7988454719646785), 'r_ratio': 3.3333333333333335}, {'id': 78, 'cos_sim': np.float64(0.03976259072812505), 'euclide_dist': np.float64(0.8225280332361599), 'r_ratio': 2.0}, {'id': 83, 'cos_sim': np.float64(0.06641102495191811), 'euclide_dist': np.float64(1.092129999009221), 'r_ratio': 1.0}, {'id': 79, 'cos_sim': np.float64(0.09380913105758437), 'euclide_dist': np.float64(0.7672264138817697), 'r_ratio': 2.0}, {'id': 80, 'cos_sim': np.float64(0.13224740545707742), 'euclide_dist': np.float64(0.774055426338213), 'r_ratio': 4.0}, {'id': 81, 'cos_sim': np.float64(0.15856018937696315), 'euclide_dist': np.float64(0.7271562018888912), 'r_ratio': 4.333333333333333}, {'id': 85, 'cos_sim': np.float64(0.19656958524686474), 'euclide_dist': np.float64(0.8826043524418754), 'r_ratio': 0.6666666666666666}, {'id': 82, 'cos_sim': np.float64(0.9999999999999998), 'euclide_dist': np.float64(0.0), 'r_ratio': 1.0}]\n"
     ]
    },
    {
     "name": "stderr",
     "output_type": "stream",
     "text": [
      "127.0.0.1 - - [03/Oct/2024 21:40:28] \"POST /handle_recom HTTP/1.1\" 200 -\n"
     ]
    },
    {
     "name": "stdout",
     "output_type": "stream",
     "text": [
      "12 0\n",
      "reflection_node: 11 at lv up: 2\n",
      "generate cos sim, ecul dist, and nodes sorted by cos sim\n",
      "[{'id': 76, 'cos_sim': np.float64(-0.2709092413729092), 'euclide_dist': np.float64(0.8373056109993854), 'r_ratio': 19.0}, {'id': 78, 'cos_sim': np.float64(-0.07749730835660533), 'euclide_dist': np.float64(0.8349313206094979), 'r_ratio': 3.0}, {'id': 75, 'cos_sim': np.float64(-0.07100631617471197), 'euclide_dist': np.float64(0.7555092910562405), 'r_ratio': 19.5}, {'id': 81, 'cos_sim': np.float64(-0.008676042408019977), 'euclide_dist': np.float64(0.7402040017324499), 'r_ratio': 6.5}, {'id': 86, 'cos_sim': np.float64(0.010501972000260765), 'euclide_dist': np.float64(0.7963891825134197), 'r_ratio': 4.5}, {'id': 83, 'cos_sim': np.float64(0.062405002113211844), 'euclide_dist': np.float64(1.0730381767018635), 'r_ratio': 1.5}, {'id': 84, 'cos_sim': np.float64(0.10696218686052496), 'euclide_dist': np.float64(1.2223322428629215), 'r_ratio': 0.5}, {'id': 79, 'cos_sim': np.float64(0.13270394588476211), 'euclide_dist': np.float64(0.7224972624211913), 'r_ratio': 3.0}, {'id': 82, 'cos_sim': np.float64(0.19656958524686474), 'euclide_dist': np.float64(0.8826043524418754), 'r_ratio': 1.5}, {'id': 77, 'cos_sim': np.float64(0.24039317456369907), 'euclide_dist': np.float64(0.685266480817796), 'r_ratio': 5.0}, {'id': 80, 'cos_sim': np.float64(0.2686119178095564), 'euclide_dist': np.float64(0.690906342578109), 'r_ratio': 6.0}, {'id': 85, 'cos_sim': np.float64(1.0), 'euclide_dist': np.float64(0.0), 'r_ratio': 1.0}]\n"
     ]
    },
    {
     "name": "stderr",
     "output_type": "stream",
     "text": [
      "127.0.0.1 - - [03/Oct/2024 21:40:32] \"POST /handle_recom HTTP/1.1\" 200 -\n"
     ]
    },
    {
     "name": "stdout",
     "output_type": "stream",
     "text": [
      "12 1\n",
      "reflection_node: 11 at lv up: 2\n",
      "generate cos sim, ecul dist, and nodes sorted by cos sim\n",
      "[{'id': 76, 'cos_sim': np.float64(-0.21583331398253405), 'euclide_dist': np.float64(0.8551164642123135), 'r_ratio': 12.666666666666666}, {'id': 75, 'cos_sim': np.float64(-0.08835918798297904), 'euclide_dist': np.float64(0.7935536868003044), 'r_ratio': 13.0}, {'id': 84, 'cos_sim': np.float64(-0.08142391463730748), 'euclide_dist': np.float64(1.3526893311215873), 'r_ratio': 0.3333333333333333}, {'id': 86, 'cos_sim': np.float64(-0.061243516042743876), 'euclide_dist': np.float64(0.8530923350585324), 'r_ratio': 3.0}, {'id': 77, 'cos_sim': np.float64(-0.005471375024191866), 'euclide_dist': np.float64(0.7988454719646785), 'r_ratio': 3.3333333333333335}, {'id': 78, 'cos_sim': np.float64(0.03976259072812505), 'euclide_dist': np.float64(0.8225280332361599), 'r_ratio': 2.0}, {'id': 83, 'cos_sim': np.float64(0.06641102495191811), 'euclide_dist': np.float64(1.092129999009221), 'r_ratio': 1.0}, {'id': 79, 'cos_sim': np.float64(0.09380913105758437), 'euclide_dist': np.float64(0.7672264138817697), 'r_ratio': 2.0}, {'id': 80, 'cos_sim': np.float64(0.13224740545707742), 'euclide_dist': np.float64(0.774055426338213), 'r_ratio': 4.0}, {'id': 81, 'cos_sim': np.float64(0.15856018937696315), 'euclide_dist': np.float64(0.7271562018888912), 'r_ratio': 4.333333333333333}, {'id': 85, 'cos_sim': np.float64(0.19656958524686474), 'euclide_dist': np.float64(0.8826043524418754), 'r_ratio': 0.6666666666666666}, {'id': 82, 'cos_sim': np.float64(0.9999999999999998), 'euclide_dist': np.float64(0.0), 'r_ratio': 1.0}]\n"
     ]
    },
    {
     "name": "stderr",
     "output_type": "stream",
     "text": [
      "127.0.0.1 - - [03/Oct/2024 21:40:37] \"POST /handle_recom HTTP/1.1\" 200 -\n"
     ]
    },
    {
     "name": "stdout",
     "output_type": "stream",
     "text": [
      "12 0\n",
      "reflection_node: 11 at lv up: 2\n",
      "generate cos sim, ecul dist, and nodes sorted by cos sim\n",
      "[{'id': 76, 'cos_sim': np.float64(-0.2709092413729092), 'euclide_dist': np.float64(0.8373056109993854), 'r_ratio': 19.0}, {'id': 78, 'cos_sim': np.float64(-0.07749730835660533), 'euclide_dist': np.float64(0.8349313206094979), 'r_ratio': 3.0}, {'id': 75, 'cos_sim': np.float64(-0.07100631617471197), 'euclide_dist': np.float64(0.7555092910562405), 'r_ratio': 19.5}, {'id': 81, 'cos_sim': np.float64(-0.008676042408019977), 'euclide_dist': np.float64(0.7402040017324499), 'r_ratio': 6.5}, {'id': 86, 'cos_sim': np.float64(0.010501972000260765), 'euclide_dist': np.float64(0.7963891825134197), 'r_ratio': 4.5}, {'id': 83, 'cos_sim': np.float64(0.062405002113211844), 'euclide_dist': np.float64(1.0730381767018635), 'r_ratio': 1.5}, {'id': 84, 'cos_sim': np.float64(0.10696218686052496), 'euclide_dist': np.float64(1.2223322428629215), 'r_ratio': 0.5}, {'id': 79, 'cos_sim': np.float64(0.13270394588476211), 'euclide_dist': np.float64(0.7224972624211913), 'r_ratio': 3.0}, {'id': 82, 'cos_sim': np.float64(0.19656958524686474), 'euclide_dist': np.float64(0.8826043524418754), 'r_ratio': 1.5}, {'id': 77, 'cos_sim': np.float64(0.24039317456369907), 'euclide_dist': np.float64(0.685266480817796), 'r_ratio': 5.0}, {'id': 80, 'cos_sim': np.float64(0.2686119178095564), 'euclide_dist': np.float64(0.690906342578109), 'r_ratio': 6.0}, {'id': 85, 'cos_sim': np.float64(1.0), 'euclide_dist': np.float64(0.0), 'r_ratio': 1.0}]\n"
     ]
    },
    {
     "name": "stderr",
     "output_type": "stream",
     "text": [
      "127.0.0.1 - - [03/Oct/2024 21:40:41] \"POST /handle_recom HTTP/1.1\" 200 -\n"
     ]
    },
    {
     "name": "stdout",
     "output_type": "stream",
     "text": [
      "12 1\n",
      "reflection_node: 11 at lv up: 2\n",
      "generate cos sim, ecul dist, and nodes sorted by cos sim\n",
      "[{'id': 76, 'cos_sim': np.float64(-0.21583331398253405), 'euclide_dist': np.float64(0.8551164642123135), 'r_ratio': 12.666666666666666}, {'id': 75, 'cos_sim': np.float64(-0.08835918798297904), 'euclide_dist': np.float64(0.7935536868003044), 'r_ratio': 13.0}, {'id': 84, 'cos_sim': np.float64(-0.08142391463730748), 'euclide_dist': np.float64(1.3526893311215873), 'r_ratio': 0.3333333333333333}, {'id': 86, 'cos_sim': np.float64(-0.061243516042743876), 'euclide_dist': np.float64(0.8530923350585324), 'r_ratio': 3.0}, {'id': 77, 'cos_sim': np.float64(-0.005471375024191866), 'euclide_dist': np.float64(0.7988454719646785), 'r_ratio': 3.3333333333333335}, {'id': 78, 'cos_sim': np.float64(0.03976259072812505), 'euclide_dist': np.float64(0.8225280332361599), 'r_ratio': 2.0}, {'id': 83, 'cos_sim': np.float64(0.06641102495191811), 'euclide_dist': np.float64(1.092129999009221), 'r_ratio': 1.0}, {'id': 79, 'cos_sim': np.float64(0.09380913105758437), 'euclide_dist': np.float64(0.7672264138817697), 'r_ratio': 2.0}, {'id': 80, 'cos_sim': np.float64(0.13224740545707742), 'euclide_dist': np.float64(0.774055426338213), 'r_ratio': 4.0}, {'id': 81, 'cos_sim': np.float64(0.15856018937696315), 'euclide_dist': np.float64(0.7271562018888912), 'r_ratio': 4.333333333333333}, {'id': 85, 'cos_sim': np.float64(0.19656958524686474), 'euclide_dist': np.float64(0.8826043524418754), 'r_ratio': 0.6666666666666666}, {'id': 82, 'cos_sim': np.float64(0.9999999999999998), 'euclide_dist': np.float64(0.0), 'r_ratio': 1.0}]\n"
     ]
    },
    {
     "name": "stderr",
     "output_type": "stream",
     "text": [
      "127.0.0.1 - - [03/Oct/2024 21:43:22] \"GET / HTTP/1.1\" 200 -\n",
      "127.0.0.1 - - [03/Oct/2024 21:43:22] \"GET /static/styles.css HTTP/1.1\" 304 -\n",
      "127.0.0.1 - - [03/Oct/2024 21:43:22] \"GET /static/scripts.js HTTP/1.1\" 304 -\n",
      "127.0.0.1 - - [03/Oct/2024 21:43:22] \"GET /static/curve_axis.js HTTP/1.1\" 304 -\n",
      "127.0.0.1 - - [03/Oct/2024 21:43:22] \"GET /static/graph_tree.js HTTP/1.1\" 200 -\n",
      "127.0.0.1 - - [03/Oct/2024 21:43:22] \"GET /sliders HTTP/1.1\" 200 -\n",
      "127.0.0.1 - - [03/Oct/2024 21:43:22] \"GET /recom HTTP/1.1\" 200 -\n",
      "127.0.0.1 - - [03/Oct/2024 21:43:22] \"GET /graph_tree_data HTTP/1.1\" 200 -\n",
      "127.0.0.1 - - [03/Oct/2024 21:43:22] \"GET /tree_data HTTP/1.1\" 200 -\n",
      "127.0.0.1 - - [03/Oct/2024 21:43:26] \"POST /handle_recom HTTP/1.1\" 200 -\n"
     ]
    },
    {
     "name": "stdout",
     "output_type": "stream",
     "text": [
      "12 0\n",
      "reflection_node: 11 at lv up: 2\n",
      "generate cos sim, ecul dist, and nodes sorted by cos sim\n",
      "[{'id': 76, 'cos_sim': np.float64(-0.2709092413729092), 'euclide_dist': np.float64(0.8373056109993854), 'r_ratio': 19.0}, {'id': 78, 'cos_sim': np.float64(-0.07749730835660533), 'euclide_dist': np.float64(0.8349313206094979), 'r_ratio': 3.0}, {'id': 75, 'cos_sim': np.float64(-0.07100631617471197), 'euclide_dist': np.float64(0.7555092910562405), 'r_ratio': 19.5}, {'id': 81, 'cos_sim': np.float64(-0.008676042408019977), 'euclide_dist': np.float64(0.7402040017324499), 'r_ratio': 6.5}, {'id': 86, 'cos_sim': np.float64(0.010501972000260765), 'euclide_dist': np.float64(0.7963891825134197), 'r_ratio': 4.5}, {'id': 83, 'cos_sim': np.float64(0.062405002113211844), 'euclide_dist': np.float64(1.0730381767018635), 'r_ratio': 1.5}, {'id': 84, 'cos_sim': np.float64(0.10696218686052496), 'euclide_dist': np.float64(1.2223322428629215), 'r_ratio': 0.5}, {'id': 79, 'cos_sim': np.float64(0.13270394588476211), 'euclide_dist': np.float64(0.7224972624211913), 'r_ratio': 3.0}, {'id': 82, 'cos_sim': np.float64(0.19656958524686474), 'euclide_dist': np.float64(0.8826043524418754), 'r_ratio': 1.5}, {'id': 77, 'cos_sim': np.float64(0.24039317456369907), 'euclide_dist': np.float64(0.685266480817796), 'r_ratio': 5.0}, {'id': 80, 'cos_sim': np.float64(0.2686119178095564), 'euclide_dist': np.float64(0.690906342578109), 'r_ratio': 6.0}, {'id': 85, 'cos_sim': np.float64(1.0), 'euclide_dist': np.float64(0.0), 'r_ratio': 1.0}]\n"
     ]
    },
    {
     "name": "stderr",
     "output_type": "stream",
     "text": [
      "127.0.0.1 - - [03/Oct/2024 21:43:28] \"POST /handle_recom HTTP/1.1\" 200 -\n"
     ]
    },
    {
     "name": "stdout",
     "output_type": "stream",
     "text": [
      "12 1\n",
      "reflection_node: 11 at lv up: 2\n",
      "generate cos sim, ecul dist, and nodes sorted by cos sim\n",
      "[{'id': 76, 'cos_sim': np.float64(-0.21583331398253405), 'euclide_dist': np.float64(0.8551164642123135), 'r_ratio': 12.666666666666666}, {'id': 75, 'cos_sim': np.float64(-0.08835918798297904), 'euclide_dist': np.float64(0.7935536868003044), 'r_ratio': 13.0}, {'id': 84, 'cos_sim': np.float64(-0.08142391463730748), 'euclide_dist': np.float64(1.3526893311215873), 'r_ratio': 0.3333333333333333}, {'id': 86, 'cos_sim': np.float64(-0.061243516042743876), 'euclide_dist': np.float64(0.8530923350585324), 'r_ratio': 3.0}, {'id': 77, 'cos_sim': np.float64(-0.005471375024191866), 'euclide_dist': np.float64(0.7988454719646785), 'r_ratio': 3.3333333333333335}, {'id': 78, 'cos_sim': np.float64(0.03976259072812505), 'euclide_dist': np.float64(0.8225280332361599), 'r_ratio': 2.0}, {'id': 83, 'cos_sim': np.float64(0.06641102495191811), 'euclide_dist': np.float64(1.092129999009221), 'r_ratio': 1.0}, {'id': 79, 'cos_sim': np.float64(0.09380913105758437), 'euclide_dist': np.float64(0.7672264138817697), 'r_ratio': 2.0}, {'id': 80, 'cos_sim': np.float64(0.13224740545707742), 'euclide_dist': np.float64(0.774055426338213), 'r_ratio': 4.0}, {'id': 81, 'cos_sim': np.float64(0.15856018937696315), 'euclide_dist': np.float64(0.7271562018888912), 'r_ratio': 4.333333333333333}, {'id': 85, 'cos_sim': np.float64(0.19656958524686474), 'euclide_dist': np.float64(0.8826043524418754), 'r_ratio': 0.6666666666666666}, {'id': 82, 'cos_sim': np.float64(0.9999999999999998), 'euclide_dist': np.float64(0.0), 'r_ratio': 1.0}]\n"
     ]
    },
    {
     "name": "stderr",
     "output_type": "stream",
     "text": [
      "127.0.0.1 - - [03/Oct/2024 21:43:34] \"POST /handle_recom HTTP/1.1\" 200 -\n"
     ]
    },
    {
     "name": "stdout",
     "output_type": "stream",
     "text": [
      "12 0\n",
      "reflection_node: 11 at lv up: 2\n",
      "generate cos sim, ecul dist, and nodes sorted by cos sim\n",
      "[{'id': 76, 'cos_sim': np.float64(-0.2709092413729092), 'euclide_dist': np.float64(0.8373056109993854), 'r_ratio': 19.0}, {'id': 78, 'cos_sim': np.float64(-0.07749730835660533), 'euclide_dist': np.float64(0.8349313206094979), 'r_ratio': 3.0}, {'id': 75, 'cos_sim': np.float64(-0.07100631617471197), 'euclide_dist': np.float64(0.7555092910562405), 'r_ratio': 19.5}, {'id': 81, 'cos_sim': np.float64(-0.008676042408019977), 'euclide_dist': np.float64(0.7402040017324499), 'r_ratio': 6.5}, {'id': 86, 'cos_sim': np.float64(0.010501972000260765), 'euclide_dist': np.float64(0.7963891825134197), 'r_ratio': 4.5}, {'id': 83, 'cos_sim': np.float64(0.062405002113211844), 'euclide_dist': np.float64(1.0730381767018635), 'r_ratio': 1.5}, {'id': 84, 'cos_sim': np.float64(0.10696218686052496), 'euclide_dist': np.float64(1.2223322428629215), 'r_ratio': 0.5}, {'id': 79, 'cos_sim': np.float64(0.13270394588476211), 'euclide_dist': np.float64(0.7224972624211913), 'r_ratio': 3.0}, {'id': 82, 'cos_sim': np.float64(0.19656958524686474), 'euclide_dist': np.float64(0.8826043524418754), 'r_ratio': 1.5}, {'id': 77, 'cos_sim': np.float64(0.24039317456369907), 'euclide_dist': np.float64(0.685266480817796), 'r_ratio': 5.0}, {'id': 80, 'cos_sim': np.float64(0.2686119178095564), 'euclide_dist': np.float64(0.690906342578109), 'r_ratio': 6.0}, {'id': 85, 'cos_sim': np.float64(1.0), 'euclide_dist': np.float64(0.0), 'r_ratio': 1.0}]\n"
     ]
    },
    {
     "name": "stderr",
     "output_type": "stream",
     "text": [
      "127.0.0.1 - - [03/Oct/2024 21:43:41] \"POST /handle_recom HTTP/1.1\" 200 -\n"
     ]
    },
    {
     "name": "stdout",
     "output_type": "stream",
     "text": [
      "12 1\n",
      "reflection_node: 11 at lv up: 2\n",
      "generate cos sim, ecul dist, and nodes sorted by cos sim\n",
      "[{'id': 76, 'cos_sim': np.float64(-0.21583331398253405), 'euclide_dist': np.float64(0.8551164642123135), 'r_ratio': 12.666666666666666}, {'id': 75, 'cos_sim': np.float64(-0.08835918798297904), 'euclide_dist': np.float64(0.7935536868003044), 'r_ratio': 13.0}, {'id': 84, 'cos_sim': np.float64(-0.08142391463730748), 'euclide_dist': np.float64(1.3526893311215873), 'r_ratio': 0.3333333333333333}, {'id': 86, 'cos_sim': np.float64(-0.061243516042743876), 'euclide_dist': np.float64(0.8530923350585324), 'r_ratio': 3.0}, {'id': 77, 'cos_sim': np.float64(-0.005471375024191866), 'euclide_dist': np.float64(0.7988454719646785), 'r_ratio': 3.3333333333333335}, {'id': 78, 'cos_sim': np.float64(0.03976259072812505), 'euclide_dist': np.float64(0.8225280332361599), 'r_ratio': 2.0}, {'id': 83, 'cos_sim': np.float64(0.06641102495191811), 'euclide_dist': np.float64(1.092129999009221), 'r_ratio': 1.0}, {'id': 79, 'cos_sim': np.float64(0.09380913105758437), 'euclide_dist': np.float64(0.7672264138817697), 'r_ratio': 2.0}, {'id': 80, 'cos_sim': np.float64(0.13224740545707742), 'euclide_dist': np.float64(0.774055426338213), 'r_ratio': 4.0}, {'id': 81, 'cos_sim': np.float64(0.15856018937696315), 'euclide_dist': np.float64(0.7271562018888912), 'r_ratio': 4.333333333333333}, {'id': 85, 'cos_sim': np.float64(0.19656958524686474), 'euclide_dist': np.float64(0.8826043524418754), 'r_ratio': 0.6666666666666666}, {'id': 82, 'cos_sim': np.float64(0.9999999999999998), 'euclide_dist': np.float64(0.0), 'r_ratio': 1.0}]\n"
     ]
    },
    {
     "name": "stderr",
     "output_type": "stream",
     "text": [
      "127.0.0.1 - - [03/Oct/2024 21:43:47] \"POST /handle_recom HTTP/1.1\" 200 -\n"
     ]
    },
    {
     "name": "stdout",
     "output_type": "stream",
     "text": [
      "12 0\n",
      "reflection_node: 11 at lv up: 2\n",
      "generate cos sim, ecul dist, and nodes sorted by cos sim\n",
      "[{'id': 76, 'cos_sim': np.float64(-0.2709092413729092), 'euclide_dist': np.float64(0.8373056109993854), 'r_ratio': 19.0}, {'id': 78, 'cos_sim': np.float64(-0.07749730835660533), 'euclide_dist': np.float64(0.8349313206094979), 'r_ratio': 3.0}, {'id': 75, 'cos_sim': np.float64(-0.07100631617471197), 'euclide_dist': np.float64(0.7555092910562405), 'r_ratio': 19.5}, {'id': 81, 'cos_sim': np.float64(-0.008676042408019977), 'euclide_dist': np.float64(0.7402040017324499), 'r_ratio': 6.5}, {'id': 86, 'cos_sim': np.float64(0.010501972000260765), 'euclide_dist': np.float64(0.7963891825134197), 'r_ratio': 4.5}, {'id': 83, 'cos_sim': np.float64(0.062405002113211844), 'euclide_dist': np.float64(1.0730381767018635), 'r_ratio': 1.5}, {'id': 84, 'cos_sim': np.float64(0.10696218686052496), 'euclide_dist': np.float64(1.2223322428629215), 'r_ratio': 0.5}, {'id': 79, 'cos_sim': np.float64(0.13270394588476211), 'euclide_dist': np.float64(0.7224972624211913), 'r_ratio': 3.0}, {'id': 82, 'cos_sim': np.float64(0.19656958524686474), 'euclide_dist': np.float64(0.8826043524418754), 'r_ratio': 1.5}, {'id': 77, 'cos_sim': np.float64(0.24039317456369907), 'euclide_dist': np.float64(0.685266480817796), 'r_ratio': 5.0}, {'id': 80, 'cos_sim': np.float64(0.2686119178095564), 'euclide_dist': np.float64(0.690906342578109), 'r_ratio': 6.0}, {'id': 85, 'cos_sim': np.float64(1.0), 'euclide_dist': np.float64(0.0), 'r_ratio': 1.0}]\n"
     ]
    },
    {
     "name": "stderr",
     "output_type": "stream",
     "text": [
      "127.0.0.1 - - [03/Oct/2024 21:43:52] \"POST /handle_recom HTTP/1.1\" 200 -\n"
     ]
    },
    {
     "name": "stdout",
     "output_type": "stream",
     "text": [
      "12 0\n",
      "reflection_node: 11 at lv up: 2\n",
      "generate cos sim, ecul dist, and nodes sorted by cos sim\n",
      "[{'id': 76, 'cos_sim': np.float64(-0.2709092413729092), 'euclide_dist': np.float64(0.8373056109993854), 'r_ratio': 19.0}, {'id': 78, 'cos_sim': np.float64(-0.07749730835660533), 'euclide_dist': np.float64(0.8349313206094979), 'r_ratio': 3.0}, {'id': 75, 'cos_sim': np.float64(-0.07100631617471197), 'euclide_dist': np.float64(0.7555092910562405), 'r_ratio': 19.5}, {'id': 81, 'cos_sim': np.float64(-0.008676042408019977), 'euclide_dist': np.float64(0.7402040017324499), 'r_ratio': 6.5}, {'id': 86, 'cos_sim': np.float64(0.010501972000260765), 'euclide_dist': np.float64(0.7963891825134197), 'r_ratio': 4.5}, {'id': 83, 'cos_sim': np.float64(0.062405002113211844), 'euclide_dist': np.float64(1.0730381767018635), 'r_ratio': 1.5}, {'id': 84, 'cos_sim': np.float64(0.10696218686052496), 'euclide_dist': np.float64(1.2223322428629215), 'r_ratio': 0.5}, {'id': 79, 'cos_sim': np.float64(0.13270394588476211), 'euclide_dist': np.float64(0.7224972624211913), 'r_ratio': 3.0}, {'id': 82, 'cos_sim': np.float64(0.19656958524686474), 'euclide_dist': np.float64(0.8826043524418754), 'r_ratio': 1.5}, {'id': 77, 'cos_sim': np.float64(0.24039317456369907), 'euclide_dist': np.float64(0.685266480817796), 'r_ratio': 5.0}, {'id': 80, 'cos_sim': np.float64(0.2686119178095564), 'euclide_dist': np.float64(0.690906342578109), 'r_ratio': 6.0}, {'id': 85, 'cos_sim': np.float64(1.0), 'euclide_dist': np.float64(0.0), 'r_ratio': 1.0}]\n"
     ]
    },
    {
     "name": "stderr",
     "output_type": "stream",
     "text": [
      "127.0.0.1 - - [03/Oct/2024 21:43:54] \"POST /handle_recom HTTP/1.1\" 200 -\n"
     ]
    },
    {
     "name": "stdout",
     "output_type": "stream",
     "text": [
      "12 0\n",
      "reflection_node: 11 at lv up: 2\n",
      "generate cos sim, ecul dist, and nodes sorted by cos sim\n",
      "[{'id': 76, 'cos_sim': np.float64(-0.2709092413729092), 'euclide_dist': np.float64(0.8373056109993854), 'r_ratio': 19.0}, {'id': 78, 'cos_sim': np.float64(-0.07749730835660533), 'euclide_dist': np.float64(0.8349313206094979), 'r_ratio': 3.0}, {'id': 75, 'cos_sim': np.float64(-0.07100631617471197), 'euclide_dist': np.float64(0.7555092910562405), 'r_ratio': 19.5}, {'id': 81, 'cos_sim': np.float64(-0.008676042408019977), 'euclide_dist': np.float64(0.7402040017324499), 'r_ratio': 6.5}, {'id': 86, 'cos_sim': np.float64(0.010501972000260765), 'euclide_dist': np.float64(0.7963891825134197), 'r_ratio': 4.5}, {'id': 83, 'cos_sim': np.float64(0.062405002113211844), 'euclide_dist': np.float64(1.0730381767018635), 'r_ratio': 1.5}, {'id': 84, 'cos_sim': np.float64(0.10696218686052496), 'euclide_dist': np.float64(1.2223322428629215), 'r_ratio': 0.5}, {'id': 79, 'cos_sim': np.float64(0.13270394588476211), 'euclide_dist': np.float64(0.7224972624211913), 'r_ratio': 3.0}, {'id': 82, 'cos_sim': np.float64(0.19656958524686474), 'euclide_dist': np.float64(0.8826043524418754), 'r_ratio': 1.5}, {'id': 77, 'cos_sim': np.float64(0.24039317456369907), 'euclide_dist': np.float64(0.685266480817796), 'r_ratio': 5.0}, {'id': 80, 'cos_sim': np.float64(0.2686119178095564), 'euclide_dist': np.float64(0.690906342578109), 'r_ratio': 6.0}, {'id': 85, 'cos_sim': np.float64(1.0), 'euclide_dist': np.float64(0.0), 'r_ratio': 1.0}]\n"
     ]
    },
    {
     "name": "stderr",
     "output_type": "stream",
     "text": [
      "127.0.0.1 - - [03/Oct/2024 21:43:56] \"POST /handle_recom HTTP/1.1\" 200 -\n"
     ]
    },
    {
     "name": "stdout",
     "output_type": "stream",
     "text": [
      "12 1\n",
      "reflection_node: 11 at lv up: 2\n",
      "generate cos sim, ecul dist, and nodes sorted by cos sim\n",
      "[{'id': 76, 'cos_sim': np.float64(-0.21583331398253405), 'euclide_dist': np.float64(0.8551164642123135), 'r_ratio': 12.666666666666666}, {'id': 75, 'cos_sim': np.float64(-0.08835918798297904), 'euclide_dist': np.float64(0.7935536868003044), 'r_ratio': 13.0}, {'id': 84, 'cos_sim': np.float64(-0.08142391463730748), 'euclide_dist': np.float64(1.3526893311215873), 'r_ratio': 0.3333333333333333}, {'id': 86, 'cos_sim': np.float64(-0.061243516042743876), 'euclide_dist': np.float64(0.8530923350585324), 'r_ratio': 3.0}, {'id': 77, 'cos_sim': np.float64(-0.005471375024191866), 'euclide_dist': np.float64(0.7988454719646785), 'r_ratio': 3.3333333333333335}, {'id': 78, 'cos_sim': np.float64(0.03976259072812505), 'euclide_dist': np.float64(0.8225280332361599), 'r_ratio': 2.0}, {'id': 83, 'cos_sim': np.float64(0.06641102495191811), 'euclide_dist': np.float64(1.092129999009221), 'r_ratio': 1.0}, {'id': 79, 'cos_sim': np.float64(0.09380913105758437), 'euclide_dist': np.float64(0.7672264138817697), 'r_ratio': 2.0}, {'id': 80, 'cos_sim': np.float64(0.13224740545707742), 'euclide_dist': np.float64(0.774055426338213), 'r_ratio': 4.0}, {'id': 81, 'cos_sim': np.float64(0.15856018937696315), 'euclide_dist': np.float64(0.7271562018888912), 'r_ratio': 4.333333333333333}, {'id': 85, 'cos_sim': np.float64(0.19656958524686474), 'euclide_dist': np.float64(0.8826043524418754), 'r_ratio': 0.6666666666666666}, {'id': 82, 'cos_sim': np.float64(0.9999999999999998), 'euclide_dist': np.float64(0.0), 'r_ratio': 1.0}]\n"
     ]
    },
    {
     "name": "stderr",
     "output_type": "stream",
     "text": [
      "127.0.0.1 - - [03/Oct/2024 21:44:07] \"POST /handle_recom HTTP/1.1\" 200 -\n"
     ]
    },
    {
     "name": "stdout",
     "output_type": "stream",
     "text": [
      "12 0\n",
      "reflection_node: 11 at lv up: 2\n",
      "generate cos sim, ecul dist, and nodes sorted by cos sim\n",
      "[{'id': 76, 'cos_sim': np.float64(-0.2709092413729092), 'euclide_dist': np.float64(0.8373056109993854), 'r_ratio': 19.0}, {'id': 78, 'cos_sim': np.float64(-0.07749730835660533), 'euclide_dist': np.float64(0.8349313206094979), 'r_ratio': 3.0}, {'id': 75, 'cos_sim': np.float64(-0.07100631617471197), 'euclide_dist': np.float64(0.7555092910562405), 'r_ratio': 19.5}, {'id': 81, 'cos_sim': np.float64(-0.008676042408019977), 'euclide_dist': np.float64(0.7402040017324499), 'r_ratio': 6.5}, {'id': 86, 'cos_sim': np.float64(0.010501972000260765), 'euclide_dist': np.float64(0.7963891825134197), 'r_ratio': 4.5}, {'id': 83, 'cos_sim': np.float64(0.062405002113211844), 'euclide_dist': np.float64(1.0730381767018635), 'r_ratio': 1.5}, {'id': 84, 'cos_sim': np.float64(0.10696218686052496), 'euclide_dist': np.float64(1.2223322428629215), 'r_ratio': 0.5}, {'id': 79, 'cos_sim': np.float64(0.13270394588476211), 'euclide_dist': np.float64(0.7224972624211913), 'r_ratio': 3.0}, {'id': 82, 'cos_sim': np.float64(0.19656958524686474), 'euclide_dist': np.float64(0.8826043524418754), 'r_ratio': 1.5}, {'id': 77, 'cos_sim': np.float64(0.24039317456369907), 'euclide_dist': np.float64(0.685266480817796), 'r_ratio': 5.0}, {'id': 80, 'cos_sim': np.float64(0.2686119178095564), 'euclide_dist': np.float64(0.690906342578109), 'r_ratio': 6.0}, {'id': 85, 'cos_sim': np.float64(1.0), 'euclide_dist': np.float64(0.0), 'r_ratio': 1.0}]\n"
     ]
    },
    {
     "name": "stderr",
     "output_type": "stream",
     "text": [
      "127.0.0.1 - - [03/Oct/2024 21:44:12] \"POST /handle_recom HTTP/1.1\" 200 -\n"
     ]
    },
    {
     "name": "stdout",
     "output_type": "stream",
     "text": [
      "12 1\n",
      "reflection_node: 11 at lv up: 2\n",
      "generate cos sim, ecul dist, and nodes sorted by cos sim\n",
      "[{'id': 76, 'cos_sim': np.float64(-0.21583331398253405), 'euclide_dist': np.float64(0.8551164642123135), 'r_ratio': 12.666666666666666}, {'id': 75, 'cos_sim': np.float64(-0.08835918798297904), 'euclide_dist': np.float64(0.7935536868003044), 'r_ratio': 13.0}, {'id': 84, 'cos_sim': np.float64(-0.08142391463730748), 'euclide_dist': np.float64(1.3526893311215873), 'r_ratio': 0.3333333333333333}, {'id': 86, 'cos_sim': np.float64(-0.061243516042743876), 'euclide_dist': np.float64(0.8530923350585324), 'r_ratio': 3.0}, {'id': 77, 'cos_sim': np.float64(-0.005471375024191866), 'euclide_dist': np.float64(0.7988454719646785), 'r_ratio': 3.3333333333333335}, {'id': 78, 'cos_sim': np.float64(0.03976259072812505), 'euclide_dist': np.float64(0.8225280332361599), 'r_ratio': 2.0}, {'id': 83, 'cos_sim': np.float64(0.06641102495191811), 'euclide_dist': np.float64(1.092129999009221), 'r_ratio': 1.0}, {'id': 79, 'cos_sim': np.float64(0.09380913105758437), 'euclide_dist': np.float64(0.7672264138817697), 'r_ratio': 2.0}, {'id': 80, 'cos_sim': np.float64(0.13224740545707742), 'euclide_dist': np.float64(0.774055426338213), 'r_ratio': 4.0}, {'id': 81, 'cos_sim': np.float64(0.15856018937696315), 'euclide_dist': np.float64(0.7271562018888912), 'r_ratio': 4.333333333333333}, {'id': 85, 'cos_sim': np.float64(0.19656958524686474), 'euclide_dist': np.float64(0.8826043524418754), 'r_ratio': 0.6666666666666666}, {'id': 82, 'cos_sim': np.float64(0.9999999999999998), 'euclide_dist': np.float64(0.0), 'r_ratio': 1.0}]\n"
     ]
    },
    {
     "name": "stderr",
     "output_type": "stream",
     "text": [
      "127.0.0.1 - - [03/Oct/2024 21:45:37] \"GET / HTTP/1.1\" 200 -\n",
      "127.0.0.1 - - [03/Oct/2024 21:45:37] \"GET /static/styles.css HTTP/1.1\" 304 -\n",
      "127.0.0.1 - - [03/Oct/2024 21:45:37] \"GET /static/scripts.js HTTP/1.1\" 304 -\n",
      "127.0.0.1 - - [03/Oct/2024 21:45:37] \"GET /static/curve_axis.js HTTP/1.1\" 304 -\n",
      "127.0.0.1 - - [03/Oct/2024 21:45:37] \"GET /static/graph_tree.js HTTP/1.1\" 200 -\n",
      "127.0.0.1 - - [03/Oct/2024 21:45:37] \"GET /sliders HTTP/1.1\" 200 -\n",
      "127.0.0.1 - - [03/Oct/2024 21:45:37] \"GET /recom HTTP/1.1\" 200 -\n",
      "127.0.0.1 - - [03/Oct/2024 21:45:37] \"GET /graph_tree_data HTTP/1.1\" 200 -\n",
      "127.0.0.1 - - [03/Oct/2024 21:45:37] \"GET /tree_data HTTP/1.1\" 200 -\n",
      "127.0.0.1 - - [03/Oct/2024 21:45:40] \"POST /handle_recom HTTP/1.1\" 200 -\n"
     ]
    },
    {
     "name": "stdout",
     "output_type": "stream",
     "text": [
      "12 1\n",
      "reflection_node: 11 at lv up: 2\n",
      "generate cos sim, ecul dist, and nodes sorted by cos sim\n",
      "[{'id': 76, 'cos_sim': np.float64(-0.21583331398253405), 'euclide_dist': np.float64(0.8551164642123135), 'r_ratio': 12.666666666666666}, {'id': 75, 'cos_sim': np.float64(-0.08835918798297904), 'euclide_dist': np.float64(0.7935536868003044), 'r_ratio': 13.0}, {'id': 84, 'cos_sim': np.float64(-0.08142391463730748), 'euclide_dist': np.float64(1.3526893311215873), 'r_ratio': 0.3333333333333333}, {'id': 86, 'cos_sim': np.float64(-0.061243516042743876), 'euclide_dist': np.float64(0.8530923350585324), 'r_ratio': 3.0}, {'id': 77, 'cos_sim': np.float64(-0.005471375024191866), 'euclide_dist': np.float64(0.7988454719646785), 'r_ratio': 3.3333333333333335}, {'id': 78, 'cos_sim': np.float64(0.03976259072812505), 'euclide_dist': np.float64(0.8225280332361599), 'r_ratio': 2.0}, {'id': 83, 'cos_sim': np.float64(0.06641102495191811), 'euclide_dist': np.float64(1.092129999009221), 'r_ratio': 1.0}, {'id': 79, 'cos_sim': np.float64(0.09380913105758437), 'euclide_dist': np.float64(0.7672264138817697), 'r_ratio': 2.0}, {'id': 80, 'cos_sim': np.float64(0.13224740545707742), 'euclide_dist': np.float64(0.774055426338213), 'r_ratio': 4.0}, {'id': 81, 'cos_sim': np.float64(0.15856018937696315), 'euclide_dist': np.float64(0.7271562018888912), 'r_ratio': 4.333333333333333}, {'id': 85, 'cos_sim': np.float64(0.19656958524686474), 'euclide_dist': np.float64(0.8826043524418754), 'r_ratio': 0.6666666666666666}, {'id': 82, 'cos_sim': np.float64(0.9999999999999998), 'euclide_dist': np.float64(0.0), 'r_ratio': 1.0}]\n"
     ]
    },
    {
     "name": "stderr",
     "output_type": "stream",
     "text": [
      "127.0.0.1 - - [03/Oct/2024 21:45:49] \"POST /handle_recom HTTP/1.1\" 200 -\n"
     ]
    },
    {
     "name": "stdout",
     "output_type": "stream",
     "text": [
      "12 0\n",
      "reflection_node: 11 at lv up: 2\n",
      "generate cos sim, ecul dist, and nodes sorted by cos sim\n",
      "[{'id': 76, 'cos_sim': np.float64(-0.2709092413729092), 'euclide_dist': np.float64(0.8373056109993854), 'r_ratio': 19.0}, {'id': 78, 'cos_sim': np.float64(-0.07749730835660533), 'euclide_dist': np.float64(0.8349313206094979), 'r_ratio': 3.0}, {'id': 75, 'cos_sim': np.float64(-0.07100631617471197), 'euclide_dist': np.float64(0.7555092910562405), 'r_ratio': 19.5}, {'id': 81, 'cos_sim': np.float64(-0.008676042408019977), 'euclide_dist': np.float64(0.7402040017324499), 'r_ratio': 6.5}, {'id': 86, 'cos_sim': np.float64(0.010501972000260765), 'euclide_dist': np.float64(0.7963891825134197), 'r_ratio': 4.5}, {'id': 83, 'cos_sim': np.float64(0.062405002113211844), 'euclide_dist': np.float64(1.0730381767018635), 'r_ratio': 1.5}, {'id': 84, 'cos_sim': np.float64(0.10696218686052496), 'euclide_dist': np.float64(1.2223322428629215), 'r_ratio': 0.5}, {'id': 79, 'cos_sim': np.float64(0.13270394588476211), 'euclide_dist': np.float64(0.7224972624211913), 'r_ratio': 3.0}, {'id': 82, 'cos_sim': np.float64(0.19656958524686474), 'euclide_dist': np.float64(0.8826043524418754), 'r_ratio': 1.5}, {'id': 77, 'cos_sim': np.float64(0.24039317456369907), 'euclide_dist': np.float64(0.685266480817796), 'r_ratio': 5.0}, {'id': 80, 'cos_sim': np.float64(0.2686119178095564), 'euclide_dist': np.float64(0.690906342578109), 'r_ratio': 6.0}, {'id': 85, 'cos_sim': np.float64(1.0), 'euclide_dist': np.float64(0.0), 'r_ratio': 1.0}]\n"
     ]
    },
    {
     "name": "stderr",
     "output_type": "stream",
     "text": [
      "127.0.0.1 - - [03/Oct/2024 21:45:53] \"POST /handle_recom HTTP/1.1\" 200 -\n"
     ]
    },
    {
     "name": "stdout",
     "output_type": "stream",
     "text": [
      "12 1\n",
      "reflection_node: 11 at lv up: 2\n",
      "generate cos sim, ecul dist, and nodes sorted by cos sim\n",
      "[{'id': 76, 'cos_sim': np.float64(-0.21583331398253405), 'euclide_dist': np.float64(0.8551164642123135), 'r_ratio': 12.666666666666666}, {'id': 75, 'cos_sim': np.float64(-0.08835918798297904), 'euclide_dist': np.float64(0.7935536868003044), 'r_ratio': 13.0}, {'id': 84, 'cos_sim': np.float64(-0.08142391463730748), 'euclide_dist': np.float64(1.3526893311215873), 'r_ratio': 0.3333333333333333}, {'id': 86, 'cos_sim': np.float64(-0.061243516042743876), 'euclide_dist': np.float64(0.8530923350585324), 'r_ratio': 3.0}, {'id': 77, 'cos_sim': np.float64(-0.005471375024191866), 'euclide_dist': np.float64(0.7988454719646785), 'r_ratio': 3.3333333333333335}, {'id': 78, 'cos_sim': np.float64(0.03976259072812505), 'euclide_dist': np.float64(0.8225280332361599), 'r_ratio': 2.0}, {'id': 83, 'cos_sim': np.float64(0.06641102495191811), 'euclide_dist': np.float64(1.092129999009221), 'r_ratio': 1.0}, {'id': 79, 'cos_sim': np.float64(0.09380913105758437), 'euclide_dist': np.float64(0.7672264138817697), 'r_ratio': 2.0}, {'id': 80, 'cos_sim': np.float64(0.13224740545707742), 'euclide_dist': np.float64(0.774055426338213), 'r_ratio': 4.0}, {'id': 81, 'cos_sim': np.float64(0.15856018937696315), 'euclide_dist': np.float64(0.7271562018888912), 'r_ratio': 4.333333333333333}, {'id': 85, 'cos_sim': np.float64(0.19656958524686474), 'euclide_dist': np.float64(0.8826043524418754), 'r_ratio': 0.6666666666666666}, {'id': 82, 'cos_sim': np.float64(0.9999999999999998), 'euclide_dist': np.float64(0.0), 'r_ratio': 1.0}]\n"
     ]
    },
    {
     "name": "stderr",
     "output_type": "stream",
     "text": [
      "127.0.0.1 - - [03/Oct/2024 21:46:02] \"GET /static/styles.css HTTP/1.1\" 304 -\n",
      "127.0.0.1 - - [03/Oct/2024 22:05:28] \"GET / HTTP/1.1\" 200 -\n",
      "127.0.0.1 - - [03/Oct/2024 22:05:28] \"GET /static/styles.css HTTP/1.1\" 304 -\n",
      "127.0.0.1 - - [03/Oct/2024 22:05:28] \"GET /static/scripts.js HTTP/1.1\" 304 -\n",
      "127.0.0.1 - - [03/Oct/2024 22:05:28] \"GET /static/curve_axis.js HTTP/1.1\" 304 -\n",
      "127.0.0.1 - - [03/Oct/2024 22:05:28] \"GET /static/graph_tree.js HTTP/1.1\" 200 -\n",
      "127.0.0.1 - - [03/Oct/2024 22:05:28] \"GET /sliders HTTP/1.1\" 200 -\n",
      "127.0.0.1 - - [03/Oct/2024 22:05:28] \"GET /recom HTTP/1.1\" 200 -\n",
      "127.0.0.1 - - [03/Oct/2024 22:05:28] \"GET /graph_tree_data HTTP/1.1\" 200 -\n",
      "127.0.0.1 - - [03/Oct/2024 22:05:28] \"GET /tree_data HTTP/1.1\" 200 -\n",
      "127.0.0.1 - - [03/Oct/2024 22:05:33] \"GET / HTTP/1.1\" 200 -\n",
      "127.0.0.1 - - [03/Oct/2024 22:05:33] \"GET /static/styles.css HTTP/1.1\" 304 -\n",
      "127.0.0.1 - - [03/Oct/2024 22:05:33] \"GET /static/scripts.js HTTP/1.1\" 304 -\n",
      "127.0.0.1 - - [03/Oct/2024 22:05:33] \"GET /static/curve_axis.js HTTP/1.1\" 304 -\n",
      "127.0.0.1 - - [03/Oct/2024 22:05:33] \"GET /static/graph_tree.js HTTP/1.1\" 304 -\n",
      "127.0.0.1 - - [03/Oct/2024 22:05:33] \"GET /sliders HTTP/1.1\" 200 -\n",
      "127.0.0.1 - - [03/Oct/2024 22:05:33] \"GET /recom HTTP/1.1\" 200 -\n",
      "127.0.0.1 - - [03/Oct/2024 22:05:33] \"GET /graph_tree_data HTTP/1.1\" 200 -\n",
      "127.0.0.1 - - [03/Oct/2024 22:05:33] \"GET /tree_data HTTP/1.1\" 200 -\n",
      "127.0.0.1 - - [03/Oct/2024 22:05:45] \"GET / HTTP/1.1\" 200 -\n",
      "127.0.0.1 - - [03/Oct/2024 22:05:45] \"GET /static/styles.css HTTP/1.1\" 304 -\n",
      "127.0.0.1 - - [03/Oct/2024 22:05:45] \"GET /static/scripts.js HTTP/1.1\" 304 -\n",
      "127.0.0.1 - - [03/Oct/2024 22:05:45] \"GET /static/curve_axis.js HTTP/1.1\" 304 -\n",
      "127.0.0.1 - - [03/Oct/2024 22:05:45] \"GET /static/graph_tree.js HTTP/1.1\" 304 -\n",
      "127.0.0.1 - - [03/Oct/2024 22:05:45] \"GET /sliders HTTP/1.1\" 200 -\n",
      "127.0.0.1 - - [03/Oct/2024 22:05:45] \"GET /recom HTTP/1.1\" 200 -\n",
      "127.0.0.1 - - [03/Oct/2024 22:05:45] \"GET /graph_tree_data HTTP/1.1\" 200 -\n",
      "127.0.0.1 - - [03/Oct/2024 22:05:45] \"GET /tree_data HTTP/1.1\" 200 -\n",
      "127.0.0.1 - - [03/Oct/2024 22:05:51] \"POST /handle_recom HTTP/1.1\" 200 -\n"
     ]
    },
    {
     "name": "stdout",
     "output_type": "stream",
     "text": [
      "12 0\n",
      "reflection_node: 11 at lv up: 2\n",
      "generate cos sim, ecul dist, and nodes sorted by cos sim\n",
      "[{'id': 76, 'cos_sim': np.float64(-0.2709092413729092), 'euclide_dist': np.float64(0.8373056109993854), 'r_ratio': 19.0}, {'id': 78, 'cos_sim': np.float64(-0.07749730835660533), 'euclide_dist': np.float64(0.8349313206094979), 'r_ratio': 3.0}, {'id': 75, 'cos_sim': np.float64(-0.07100631617471197), 'euclide_dist': np.float64(0.7555092910562405), 'r_ratio': 19.5}, {'id': 81, 'cos_sim': np.float64(-0.008676042408019977), 'euclide_dist': np.float64(0.7402040017324499), 'r_ratio': 6.5}, {'id': 86, 'cos_sim': np.float64(0.010501972000260765), 'euclide_dist': np.float64(0.7963891825134197), 'r_ratio': 4.5}, {'id': 83, 'cos_sim': np.float64(0.062405002113211844), 'euclide_dist': np.float64(1.0730381767018635), 'r_ratio': 1.5}, {'id': 84, 'cos_sim': np.float64(0.10696218686052496), 'euclide_dist': np.float64(1.2223322428629215), 'r_ratio': 0.5}, {'id': 79, 'cos_sim': np.float64(0.13270394588476211), 'euclide_dist': np.float64(0.7224972624211913), 'r_ratio': 3.0}, {'id': 82, 'cos_sim': np.float64(0.19656958524686474), 'euclide_dist': np.float64(0.8826043524418754), 'r_ratio': 1.5}, {'id': 77, 'cos_sim': np.float64(0.24039317456369907), 'euclide_dist': np.float64(0.685266480817796), 'r_ratio': 5.0}, {'id': 80, 'cos_sim': np.float64(0.2686119178095564), 'euclide_dist': np.float64(0.690906342578109), 'r_ratio': 6.0}, {'id': 85, 'cos_sim': np.float64(1.0), 'euclide_dist': np.float64(0.0), 'r_ratio': 1.0}]\n"
     ]
    },
    {
     "name": "stderr",
     "output_type": "stream",
     "text": [
      "127.0.0.1 - - [03/Oct/2024 22:05:53] \"POST /handle_recom HTTP/1.1\" 200 -\n"
     ]
    },
    {
     "name": "stdout",
     "output_type": "stream",
     "text": [
      "12 1\n",
      "reflection_node: 11 at lv up: 2\n",
      "generate cos sim, ecul dist, and nodes sorted by cos sim\n",
      "[{'id': 76, 'cos_sim': np.float64(-0.21583331398253405), 'euclide_dist': np.float64(0.8551164642123135), 'r_ratio': 12.666666666666666}, {'id': 75, 'cos_sim': np.float64(-0.08835918798297904), 'euclide_dist': np.float64(0.7935536868003044), 'r_ratio': 13.0}, {'id': 84, 'cos_sim': np.float64(-0.08142391463730748), 'euclide_dist': np.float64(1.3526893311215873), 'r_ratio': 0.3333333333333333}, {'id': 86, 'cos_sim': np.float64(-0.061243516042743876), 'euclide_dist': np.float64(0.8530923350585324), 'r_ratio': 3.0}, {'id': 77, 'cos_sim': np.float64(-0.005471375024191866), 'euclide_dist': np.float64(0.7988454719646785), 'r_ratio': 3.3333333333333335}, {'id': 78, 'cos_sim': np.float64(0.03976259072812505), 'euclide_dist': np.float64(0.8225280332361599), 'r_ratio': 2.0}, {'id': 83, 'cos_sim': np.float64(0.06641102495191811), 'euclide_dist': np.float64(1.092129999009221), 'r_ratio': 1.0}, {'id': 79, 'cos_sim': np.float64(0.09380913105758437), 'euclide_dist': np.float64(0.7672264138817697), 'r_ratio': 2.0}, {'id': 80, 'cos_sim': np.float64(0.13224740545707742), 'euclide_dist': np.float64(0.774055426338213), 'r_ratio': 4.0}, {'id': 81, 'cos_sim': np.float64(0.15856018937696315), 'euclide_dist': np.float64(0.7271562018888912), 'r_ratio': 4.333333333333333}, {'id': 85, 'cos_sim': np.float64(0.19656958524686474), 'euclide_dist': np.float64(0.8826043524418754), 'r_ratio': 0.6666666666666666}, {'id': 82, 'cos_sim': np.float64(0.9999999999999998), 'euclide_dist': np.float64(0.0), 'r_ratio': 1.0}]\n"
     ]
    },
    {
     "name": "stderr",
     "output_type": "stream",
     "text": [
      "127.0.0.1 - - [03/Oct/2024 22:06:37] \"POST /handle_recom HTTP/1.1\" 200 -\n"
     ]
    },
    {
     "name": "stdout",
     "output_type": "stream",
     "text": [
      "12 0\n",
      "reflection_node: 11 at lv up: 2\n",
      "generate cos sim, ecul dist, and nodes sorted by cos sim\n",
      "[{'id': 76, 'cos_sim': np.float64(-0.2709092413729092), 'euclide_dist': np.float64(0.8373056109993854), 'r_ratio': 19.0}, {'id': 78, 'cos_sim': np.float64(-0.07749730835660533), 'euclide_dist': np.float64(0.8349313206094979), 'r_ratio': 3.0}, {'id': 75, 'cos_sim': np.float64(-0.07100631617471197), 'euclide_dist': np.float64(0.7555092910562405), 'r_ratio': 19.5}, {'id': 81, 'cos_sim': np.float64(-0.008676042408019977), 'euclide_dist': np.float64(0.7402040017324499), 'r_ratio': 6.5}, {'id': 86, 'cos_sim': np.float64(0.010501972000260765), 'euclide_dist': np.float64(0.7963891825134197), 'r_ratio': 4.5}, {'id': 83, 'cos_sim': np.float64(0.062405002113211844), 'euclide_dist': np.float64(1.0730381767018635), 'r_ratio': 1.5}, {'id': 84, 'cos_sim': np.float64(0.10696218686052496), 'euclide_dist': np.float64(1.2223322428629215), 'r_ratio': 0.5}, {'id': 79, 'cos_sim': np.float64(0.13270394588476211), 'euclide_dist': np.float64(0.7224972624211913), 'r_ratio': 3.0}, {'id': 82, 'cos_sim': np.float64(0.19656958524686474), 'euclide_dist': np.float64(0.8826043524418754), 'r_ratio': 1.5}, {'id': 77, 'cos_sim': np.float64(0.24039317456369907), 'euclide_dist': np.float64(0.685266480817796), 'r_ratio': 5.0}, {'id': 80, 'cos_sim': np.float64(0.2686119178095564), 'euclide_dist': np.float64(0.690906342578109), 'r_ratio': 6.0}, {'id': 85, 'cos_sim': np.float64(1.0), 'euclide_dist': np.float64(0.0), 'r_ratio': 1.0}]\n"
     ]
    },
    {
     "name": "stderr",
     "output_type": "stream",
     "text": [
      "127.0.0.1 - - [03/Oct/2024 22:06:45] \"POST /handle_recom HTTP/1.1\" 200 -\n"
     ]
    },
    {
     "name": "stdout",
     "output_type": "stream",
     "text": [
      "12 1\n",
      "reflection_node: 11 at lv up: 2\n",
      "generate cos sim, ecul dist, and nodes sorted by cos sim\n",
      "[{'id': 76, 'cos_sim': np.float64(-0.21583331398253405), 'euclide_dist': np.float64(0.8551164642123135), 'r_ratio': 12.666666666666666}, {'id': 75, 'cos_sim': np.float64(-0.08835918798297904), 'euclide_dist': np.float64(0.7935536868003044), 'r_ratio': 13.0}, {'id': 84, 'cos_sim': np.float64(-0.08142391463730748), 'euclide_dist': np.float64(1.3526893311215873), 'r_ratio': 0.3333333333333333}, {'id': 86, 'cos_sim': np.float64(-0.061243516042743876), 'euclide_dist': np.float64(0.8530923350585324), 'r_ratio': 3.0}, {'id': 77, 'cos_sim': np.float64(-0.005471375024191866), 'euclide_dist': np.float64(0.7988454719646785), 'r_ratio': 3.3333333333333335}, {'id': 78, 'cos_sim': np.float64(0.03976259072812505), 'euclide_dist': np.float64(0.8225280332361599), 'r_ratio': 2.0}, {'id': 83, 'cos_sim': np.float64(0.06641102495191811), 'euclide_dist': np.float64(1.092129999009221), 'r_ratio': 1.0}, {'id': 79, 'cos_sim': np.float64(0.09380913105758437), 'euclide_dist': np.float64(0.7672264138817697), 'r_ratio': 2.0}, {'id': 80, 'cos_sim': np.float64(0.13224740545707742), 'euclide_dist': np.float64(0.774055426338213), 'r_ratio': 4.0}, {'id': 81, 'cos_sim': np.float64(0.15856018937696315), 'euclide_dist': np.float64(0.7271562018888912), 'r_ratio': 4.333333333333333}, {'id': 85, 'cos_sim': np.float64(0.19656958524686474), 'euclide_dist': np.float64(0.8826043524418754), 'r_ratio': 0.6666666666666666}, {'id': 82, 'cos_sim': np.float64(0.9999999999999998), 'euclide_dist': np.float64(0.0), 'r_ratio': 1.0}]\n"
     ]
    },
    {
     "name": "stderr",
     "output_type": "stream",
     "text": [
      "127.0.0.1 - - [03/Oct/2024 22:06:53] \"POST /handle_recom HTTP/1.1\" 200 -\n"
     ]
    },
    {
     "name": "stdout",
     "output_type": "stream",
     "text": [
      "12 0\n",
      "reflection_node: 11 at lv up: 2\n",
      "generate cos sim, ecul dist, and nodes sorted by cos sim\n",
      "[{'id': 76, 'cos_sim': np.float64(-0.2709092413729092), 'euclide_dist': np.float64(0.8373056109993854), 'r_ratio': 19.0}, {'id': 78, 'cos_sim': np.float64(-0.07749730835660533), 'euclide_dist': np.float64(0.8349313206094979), 'r_ratio': 3.0}, {'id': 75, 'cos_sim': np.float64(-0.07100631617471197), 'euclide_dist': np.float64(0.7555092910562405), 'r_ratio': 19.5}, {'id': 81, 'cos_sim': np.float64(-0.008676042408019977), 'euclide_dist': np.float64(0.7402040017324499), 'r_ratio': 6.5}, {'id': 86, 'cos_sim': np.float64(0.010501972000260765), 'euclide_dist': np.float64(0.7963891825134197), 'r_ratio': 4.5}, {'id': 83, 'cos_sim': np.float64(0.062405002113211844), 'euclide_dist': np.float64(1.0730381767018635), 'r_ratio': 1.5}, {'id': 84, 'cos_sim': np.float64(0.10696218686052496), 'euclide_dist': np.float64(1.2223322428629215), 'r_ratio': 0.5}, {'id': 79, 'cos_sim': np.float64(0.13270394588476211), 'euclide_dist': np.float64(0.7224972624211913), 'r_ratio': 3.0}, {'id': 82, 'cos_sim': np.float64(0.19656958524686474), 'euclide_dist': np.float64(0.8826043524418754), 'r_ratio': 1.5}, {'id': 77, 'cos_sim': np.float64(0.24039317456369907), 'euclide_dist': np.float64(0.685266480817796), 'r_ratio': 5.0}, {'id': 80, 'cos_sim': np.float64(0.2686119178095564), 'euclide_dist': np.float64(0.690906342578109), 'r_ratio': 6.0}, {'id': 85, 'cos_sim': np.float64(1.0), 'euclide_dist': np.float64(0.0), 'r_ratio': 1.0}]\n"
     ]
    },
    {
     "name": "stderr",
     "output_type": "stream",
     "text": [
      "127.0.0.1 - - [03/Oct/2024 22:07:00] \"GET /static/styles.css HTTP/1.1\" 304 -\n",
      "127.0.0.1 - - [03/Oct/2024 22:09:06] \"POST /handle_recom HTTP/1.1\" 200 -\n"
     ]
    },
    {
     "name": "stdout",
     "output_type": "stream",
     "text": [
      "12 1\n",
      "reflection_node: 11 at lv up: 2\n",
      "generate cos sim, ecul dist, and nodes sorted by cos sim\n",
      "[{'id': 76, 'cos_sim': np.float64(-0.21583331398253405), 'euclide_dist': np.float64(0.8551164642123135), 'r_ratio': 12.666666666666666}, {'id': 75, 'cos_sim': np.float64(-0.08835918798297904), 'euclide_dist': np.float64(0.7935536868003044), 'r_ratio': 13.0}, {'id': 84, 'cos_sim': np.float64(-0.08142391463730748), 'euclide_dist': np.float64(1.3526893311215873), 'r_ratio': 0.3333333333333333}, {'id': 86, 'cos_sim': np.float64(-0.061243516042743876), 'euclide_dist': np.float64(0.8530923350585324), 'r_ratio': 3.0}, {'id': 77, 'cos_sim': np.float64(-0.005471375024191866), 'euclide_dist': np.float64(0.7988454719646785), 'r_ratio': 3.3333333333333335}, {'id': 78, 'cos_sim': np.float64(0.03976259072812505), 'euclide_dist': np.float64(0.8225280332361599), 'r_ratio': 2.0}, {'id': 83, 'cos_sim': np.float64(0.06641102495191811), 'euclide_dist': np.float64(1.092129999009221), 'r_ratio': 1.0}, {'id': 79, 'cos_sim': np.float64(0.09380913105758437), 'euclide_dist': np.float64(0.7672264138817697), 'r_ratio': 2.0}, {'id': 80, 'cos_sim': np.float64(0.13224740545707742), 'euclide_dist': np.float64(0.774055426338213), 'r_ratio': 4.0}, {'id': 81, 'cos_sim': np.float64(0.15856018937696315), 'euclide_dist': np.float64(0.7271562018888912), 'r_ratio': 4.333333333333333}, {'id': 85, 'cos_sim': np.float64(0.19656958524686474), 'euclide_dist': np.float64(0.8826043524418754), 'r_ratio': 0.6666666666666666}, {'id': 82, 'cos_sim': np.float64(0.9999999999999998), 'euclide_dist': np.float64(0.0), 'r_ratio': 1.0}]\n"
     ]
    },
    {
     "name": "stderr",
     "output_type": "stream",
     "text": [
      "127.0.0.1 - - [03/Oct/2024 22:09:26] \"GET / HTTP/1.1\" 200 -\n",
      "127.0.0.1 - - [03/Oct/2024 22:09:26] \"GET /static/styles.css HTTP/1.1\" 304 -\n",
      "127.0.0.1 - - [03/Oct/2024 22:09:26] \"GET /static/scripts.js HTTP/1.1\" 304 -\n",
      "127.0.0.1 - - [03/Oct/2024 22:09:26] \"GET /static/curve_axis.js HTTP/1.1\" 304 -\n",
      "127.0.0.1 - - [03/Oct/2024 22:09:26] \"GET /static/graph_tree.js HTTP/1.1\" 304 -\n",
      "127.0.0.1 - - [03/Oct/2024 22:09:26] \"GET /sliders HTTP/1.1\" 200 -\n",
      "127.0.0.1 - - [03/Oct/2024 22:09:26] \"GET /recom HTTP/1.1\" 200 -\n",
      "127.0.0.1 - - [03/Oct/2024 22:09:26] \"GET /graph_tree_data HTTP/1.1\" 200 -\n",
      "127.0.0.1 - - [03/Oct/2024 22:09:26] \"GET /tree_data HTTP/1.1\" 200 -\n",
      "127.0.0.1 - - [03/Oct/2024 22:09:29] \"POST /handle_recom HTTP/1.1\" 200 -\n"
     ]
    },
    {
     "name": "stdout",
     "output_type": "stream",
     "text": [
      "12 1\n",
      "reflection_node: 11 at lv up: 2\n",
      "generate cos sim, ecul dist, and nodes sorted by cos sim\n",
      "[{'id': 76, 'cos_sim': np.float64(-0.21583331398253405), 'euclide_dist': np.float64(0.8551164642123135), 'r_ratio': 12.666666666666666}, {'id': 75, 'cos_sim': np.float64(-0.08835918798297904), 'euclide_dist': np.float64(0.7935536868003044), 'r_ratio': 13.0}, {'id': 84, 'cos_sim': np.float64(-0.08142391463730748), 'euclide_dist': np.float64(1.3526893311215873), 'r_ratio': 0.3333333333333333}, {'id': 86, 'cos_sim': np.float64(-0.061243516042743876), 'euclide_dist': np.float64(0.8530923350585324), 'r_ratio': 3.0}, {'id': 77, 'cos_sim': np.float64(-0.005471375024191866), 'euclide_dist': np.float64(0.7988454719646785), 'r_ratio': 3.3333333333333335}, {'id': 78, 'cos_sim': np.float64(0.03976259072812505), 'euclide_dist': np.float64(0.8225280332361599), 'r_ratio': 2.0}, {'id': 83, 'cos_sim': np.float64(0.06641102495191811), 'euclide_dist': np.float64(1.092129999009221), 'r_ratio': 1.0}, {'id': 79, 'cos_sim': np.float64(0.09380913105758437), 'euclide_dist': np.float64(0.7672264138817697), 'r_ratio': 2.0}, {'id': 80, 'cos_sim': np.float64(0.13224740545707742), 'euclide_dist': np.float64(0.774055426338213), 'r_ratio': 4.0}, {'id': 81, 'cos_sim': np.float64(0.15856018937696315), 'euclide_dist': np.float64(0.7271562018888912), 'r_ratio': 4.333333333333333}, {'id': 85, 'cos_sim': np.float64(0.19656958524686474), 'euclide_dist': np.float64(0.8826043524418754), 'r_ratio': 0.6666666666666666}, {'id': 82, 'cos_sim': np.float64(0.9999999999999998), 'euclide_dist': np.float64(0.0), 'r_ratio': 1.0}]\n"
     ]
    },
    {
     "name": "stderr",
     "output_type": "stream",
     "text": [
      "127.0.0.1 - - [03/Oct/2024 22:11:20] \"GET / HTTP/1.1\" 200 -\n",
      "127.0.0.1 - - [03/Oct/2024 22:11:20] \"GET /static/styles.css HTTP/1.1\" 304 -\n",
      "127.0.0.1 - - [03/Oct/2024 22:11:20] \"GET /static/scripts.js HTTP/1.1\" 304 -\n",
      "127.0.0.1 - - [03/Oct/2024 22:11:20] \"GET /static/curve_axis.js HTTP/1.1\" 304 -\n",
      "127.0.0.1 - - [03/Oct/2024 22:11:20] \"GET /static/graph_tree.js HTTP/1.1\" 200 -\n",
      "127.0.0.1 - - [03/Oct/2024 22:11:20] \"GET /sliders HTTP/1.1\" 200 -\n",
      "127.0.0.1 - - [03/Oct/2024 22:11:20] \"GET /recom HTTP/1.1\" 200 -\n",
      "127.0.0.1 - - [03/Oct/2024 22:11:20] \"GET /graph_tree_data HTTP/1.1\" 200 -\n",
      "127.0.0.1 - - [03/Oct/2024 22:11:20] \"GET /tree_data HTTP/1.1\" 200 -\n",
      "127.0.0.1 - - [03/Oct/2024 22:11:23] \"GET / HTTP/1.1\" 200 -\n",
      "127.0.0.1 - - [03/Oct/2024 22:11:23] \"GET /static/styles.css HTTP/1.1\" 304 -\n",
      "127.0.0.1 - - [03/Oct/2024 22:11:23] \"GET /static/scripts.js HTTP/1.1\" 304 -\n",
      "127.0.0.1 - - [03/Oct/2024 22:11:23] \"GET /static/curve_axis.js HTTP/1.1\" 304 -\n",
      "127.0.0.1 - - [03/Oct/2024 22:11:23] \"GET /static/graph_tree.js HTTP/1.1\" 304 -\n",
      "127.0.0.1 - - [03/Oct/2024 22:11:23] \"GET /sliders HTTP/1.1\" 200 -\n",
      "127.0.0.1 - - [03/Oct/2024 22:11:23] \"GET /recom HTTP/1.1\" 200 -\n",
      "127.0.0.1 - - [03/Oct/2024 22:11:23] \"GET /graph_tree_data HTTP/1.1\" 200 -\n",
      "127.0.0.1 - - [03/Oct/2024 22:11:23] \"GET /tree_data HTTP/1.1\" 200 -\n",
      "127.0.0.1 - - [03/Oct/2024 22:11:32] \"POST /handle_recom HTTP/1.1\" 200 -\n"
     ]
    },
    {
     "name": "stdout",
     "output_type": "stream",
     "text": [
      "12 1\n",
      "reflection_node: 11 at lv up: 2\n",
      "generate cos sim, ecul dist, and nodes sorted by cos sim\n",
      "[{'id': 76, 'cos_sim': np.float64(-0.21583331398253405), 'euclide_dist': np.float64(0.8551164642123135), 'r_ratio': 12.666666666666666}, {'id': 75, 'cos_sim': np.float64(-0.08835918798297904), 'euclide_dist': np.float64(0.7935536868003044), 'r_ratio': 13.0}, {'id': 84, 'cos_sim': np.float64(-0.08142391463730748), 'euclide_dist': np.float64(1.3526893311215873), 'r_ratio': 0.3333333333333333}, {'id': 86, 'cos_sim': np.float64(-0.061243516042743876), 'euclide_dist': np.float64(0.8530923350585324), 'r_ratio': 3.0}, {'id': 77, 'cos_sim': np.float64(-0.005471375024191866), 'euclide_dist': np.float64(0.7988454719646785), 'r_ratio': 3.3333333333333335}, {'id': 78, 'cos_sim': np.float64(0.03976259072812505), 'euclide_dist': np.float64(0.8225280332361599), 'r_ratio': 2.0}, {'id': 83, 'cos_sim': np.float64(0.06641102495191811), 'euclide_dist': np.float64(1.092129999009221), 'r_ratio': 1.0}, {'id': 79, 'cos_sim': np.float64(0.09380913105758437), 'euclide_dist': np.float64(0.7672264138817697), 'r_ratio': 2.0}, {'id': 80, 'cos_sim': np.float64(0.13224740545707742), 'euclide_dist': np.float64(0.774055426338213), 'r_ratio': 4.0}, {'id': 81, 'cos_sim': np.float64(0.15856018937696315), 'euclide_dist': np.float64(0.7271562018888912), 'r_ratio': 4.333333333333333}, {'id': 85, 'cos_sim': np.float64(0.19656958524686474), 'euclide_dist': np.float64(0.8826043524418754), 'r_ratio': 0.6666666666666666}, {'id': 82, 'cos_sim': np.float64(0.9999999999999998), 'euclide_dist': np.float64(0.0), 'r_ratio': 1.0}]\n"
     ]
    },
    {
     "name": "stderr",
     "output_type": "stream",
     "text": [
      "127.0.0.1 - - [03/Oct/2024 22:11:37] \"GET /static/styles.css HTTP/1.1\" 304 -\n",
      "127.0.0.1 - - [03/Oct/2024 22:12:38] \"POST /handle_recom HTTP/1.1\" 200 -\n"
     ]
    },
    {
     "name": "stdout",
     "output_type": "stream",
     "text": [
      "9 1\n",
      "reflection_node: 18 at lv up: 2\n",
      "generate cos sim, ecul dist, and nodes sorted by cos sim\n",
      "[{'id': 64, 'cos_sim': np.float64(-0.7491767364374148), 'euclide_dist': np.float64(0.42885340882396106), 'r_ratio': 1.6206896551724137}, {'id': 95, 'cos_sim': np.float64(-0.10809326544748014), 'euclide_dist': np.float64(0.3649020006930974), 'r_ratio': 0.9310344827586207}, {'id': 96, 'cos_sim': np.float64(1.0000000000000002), 'euclide_dist': np.float64(0.0), 'r_ratio': 1.0}]\n"
     ]
    },
    {
     "name": "stderr",
     "output_type": "stream",
     "text": [
      "127.0.0.1 - - [03/Oct/2024 22:12:43] \"POST /handle_recom HTTP/1.1\" 200 -\n"
     ]
    },
    {
     "name": "stdout",
     "output_type": "stream",
     "text": [
      "7 1\n",
      "reflection_node: 3 at lv up: 2\n",
      "generate cos sim, ecul dist, and nodes sorted by cos sim\n",
      "[{'id': 60, 'cos_sim': np.float64(-0.8194913081197077), 'euclide_dist': np.float64(0.8997336054403713), 'r_ratio': 0.16}, {'id': 53, 'cos_sim': np.float64(-0.7567522229885765), 'euclide_dist': np.float64(0.6680009275799856), 'r_ratio': 0.56}, {'id': 51, 'cos_sim': np.float64(-0.5755837436160911), 'euclide_dist': np.float64(0.821815261591754), 'r_ratio': 0.2}, {'id': 54, 'cos_sim': np.float64(-0.5159931062205891), 'euclide_dist': np.float64(0.811417303426646), 'r_ratio': 0.2}, {'id': 59, 'cos_sim': np.float64(-0.45798538258253), 'euclide_dist': np.float64(0.6482279058460324), 'r_ratio': 0.32}, {'id': 55, 'cos_sim': np.float64(-0.28805678169110427), 'euclide_dist': np.float64(0.5418945747856254), 'r_ratio': 0.32}, {'id': 56, 'cos_sim': np.float64(-0.2741523100523298), 'euclide_dist': np.float64(0.8235134925636083), 'r_ratio': 0.12}, {'id': 52, 'cos_sim': np.float64(-0.17521227300477527), 'euclide_dist': np.float64(0.5181166792847723), 'r_ratio': 0.32}, {'id': 58, 'cos_sim': np.float64(-0.15058630696728198), 'euclide_dist': np.float64(0.6158170109185965), 'r_ratio': 0.32}, {'id': 47, 'cos_sim': np.float64(0.04491931824550631), 'euclide_dist': np.float64(0.473745282531607), 'r_ratio': 0.92}, {'id': 57, 'cos_sim': np.float64(0.11234165401823293), 'euclide_dist': np.float64(0.4455843592039929), 'r_ratio': 0.28}, {'id': 50, 'cos_sim': np.float64(0.19944654907617246), 'euclide_dist': np.float64(0.4877235751492517), 'r_ratio': 0.56}, {'id': 48, 'cos_sim': np.float64(0.2562299584149623), 'euclide_dist': np.float64(0.3754908834195426), 'r_ratio': 1.2}, {'id': 49, 'cos_sim': np.float64(1.0), 'euclide_dist': np.float64(0.0), 'r_ratio': 1.0}]\n"
     ]
    },
    {
     "name": "stderr",
     "output_type": "stream",
     "text": [
      "127.0.0.1 - - [03/Oct/2024 22:27:42] \"GET / HTTP/1.1\" 200 -\n",
      "127.0.0.1 - - [03/Oct/2024 22:27:42] \"GET /static/styles.css HTTP/1.1\" 304 -\n",
      "127.0.0.1 - - [03/Oct/2024 22:27:42] \"GET /static/curve_axis.js HTTP/1.1\" 304 -\n",
      "127.0.0.1 - - [03/Oct/2024 22:27:42] \"GET /static/scripts.js HTTP/1.1\" 304 -\n",
      "127.0.0.1 - - [03/Oct/2024 22:27:42] \"GET /static/graph_tree.js HTTP/1.1\" 200 -\n",
      "127.0.0.1 - - [03/Oct/2024 22:27:42] \"GET /sliders HTTP/1.1\" 200 -\n",
      "127.0.0.1 - - [03/Oct/2024 22:27:42] \"GET /recom HTTP/1.1\" 200 -\n",
      "127.0.0.1 - - [03/Oct/2024 22:27:42] \"GET /graph_tree_data HTTP/1.1\" 200 -\n",
      "127.0.0.1 - - [03/Oct/2024 22:27:42] \"GET /tree_data HTTP/1.1\" 200 -\n",
      "127.0.0.1 - - [03/Oct/2024 22:28:01] \"GET / HTTP/1.1\" 200 -\n",
      "127.0.0.1 - - [03/Oct/2024 22:28:01] \"GET /static/styles.css HTTP/1.1\" 304 -\n",
      "127.0.0.1 - - [03/Oct/2024 22:28:01] \"GET /static/scripts.js HTTP/1.1\" 304 -\n",
      "127.0.0.1 - - [03/Oct/2024 22:28:01] \"GET /static/curve_axis.js HTTP/1.1\" 304 -\n",
      "127.0.0.1 - - [03/Oct/2024 22:28:01] \"GET /static/graph_tree.js HTTP/1.1\" 200 -\n",
      "127.0.0.1 - - [03/Oct/2024 22:28:01] \"GET /sliders HTTP/1.1\" 200 -\n",
      "127.0.0.1 - - [03/Oct/2024 22:28:01] \"GET /recom HTTP/1.1\" 200 -\n",
      "127.0.0.1 - - [03/Oct/2024 22:28:01] \"GET /graph_tree_data HTTP/1.1\" 200 -\n",
      "127.0.0.1 - - [03/Oct/2024 22:28:01] \"GET /tree_data HTTP/1.1\" 200 -\n",
      "127.0.0.1 - - [03/Oct/2024 22:28:09] \"GET / HTTP/1.1\" 200 -\n",
      "127.0.0.1 - - [03/Oct/2024 22:28:09] \"GET /static/styles.css HTTP/1.1\" 304 -\n",
      "127.0.0.1 - - [03/Oct/2024 22:28:09] \"GET /static/scripts.js HTTP/1.1\" 304 -\n",
      "127.0.0.1 - - [03/Oct/2024 22:28:09] \"GET /static/curve_axis.js HTTP/1.1\" 304 -\n",
      "127.0.0.1 - - [03/Oct/2024 22:28:09] \"GET /static/graph_tree.js HTTP/1.1\" 200 -\n",
      "127.0.0.1 - - [03/Oct/2024 22:28:09] \"GET /sliders HTTP/1.1\" 200 -\n",
      "127.0.0.1 - - [03/Oct/2024 22:28:09] \"GET /recom HTTP/1.1\" 200 -\n",
      "127.0.0.1 - - [03/Oct/2024 22:28:09] \"GET /graph_tree_data HTTP/1.1\" 200 -\n",
      "127.0.0.1 - - [03/Oct/2024 22:28:09] \"GET /tree_data HTTP/1.1\" 200 -\n",
      "127.0.0.1 - - [03/Oct/2024 22:28:51] \"GET / HTTP/1.1\" 200 -\n",
      "127.0.0.1 - - [03/Oct/2024 22:28:51] \"GET /static/styles.css HTTP/1.1\" 304 -\n",
      "127.0.0.1 - - [03/Oct/2024 22:28:51] \"GET /static/scripts.js HTTP/1.1\" 304 -\n",
      "127.0.0.1 - - [03/Oct/2024 22:28:51] \"GET /static/curve_axis.js HTTP/1.1\" 304 -\n",
      "127.0.0.1 - - [03/Oct/2024 22:28:51] \"GET /static/graph_tree.js HTTP/1.1\" 200 -\n",
      "127.0.0.1 - - [03/Oct/2024 22:28:51] \"GET /sliders HTTP/1.1\" 200 -\n",
      "127.0.0.1 - - [03/Oct/2024 22:28:51] \"GET /recom HTTP/1.1\" 200 -\n",
      "127.0.0.1 - - [03/Oct/2024 22:28:51] \"GET /graph_tree_data HTTP/1.1\" 200 -\n",
      "127.0.0.1 - - [03/Oct/2024 22:28:51] \"GET /tree_data HTTP/1.1\" 200 -\n",
      "127.0.0.1 - - [03/Oct/2024 22:28:57] \"GET /static/styles.css HTTP/1.1\" 304 -\n",
      "127.0.0.1 - - [03/Oct/2024 22:31:05] \"GET / HTTP/1.1\" 200 -\n",
      "127.0.0.1 - - [03/Oct/2024 22:31:05] \"GET /static/styles.css HTTP/1.1\" 304 -\n",
      "127.0.0.1 - - [03/Oct/2024 22:31:05] \"GET /static/scripts.js HTTP/1.1\" 304 -\n",
      "127.0.0.1 - - [03/Oct/2024 22:31:05] \"GET /static/curve_axis.js HTTP/1.1\" 304 -\n",
      "127.0.0.1 - - [03/Oct/2024 22:31:05] \"GET /static/graph_tree.js HTTP/1.1\" 200 -\n",
      "127.0.0.1 - - [03/Oct/2024 22:31:05] \"GET /sliders HTTP/1.1\" 200 -\n",
      "127.0.0.1 - - [03/Oct/2024 22:31:05] \"GET /recom HTTP/1.1\" 200 -\n",
      "127.0.0.1 - - [03/Oct/2024 22:31:05] \"GET /graph_tree_data HTTP/1.1\" 200 -\n",
      "127.0.0.1 - - [03/Oct/2024 22:31:05] \"GET /tree_data HTTP/1.1\" 200 -\n",
      "127.0.0.1 - - [03/Oct/2024 22:40:41] \"GET / HTTP/1.1\" 200 -\n",
      "127.0.0.1 - - [03/Oct/2024 22:40:41] \"GET /static/styles.css HTTP/1.1\" 304 -\n",
      "127.0.0.1 - - [03/Oct/2024 22:40:41] \"GET /static/scripts.js HTTP/1.1\" 304 -\n",
      "127.0.0.1 - - [03/Oct/2024 22:40:41] \"GET /static/curve_axis.js HTTP/1.1\" 304 -\n",
      "127.0.0.1 - - [03/Oct/2024 22:40:41] \"GET /static/graph_tree.js HTTP/1.1\" 200 -\n",
      "127.0.0.1 - - [03/Oct/2024 22:40:41] \"GET /sliders HTTP/1.1\" 200 -\n",
      "127.0.0.1 - - [03/Oct/2024 22:40:41] \"GET /recom HTTP/1.1\" 200 -\n",
      "127.0.0.1 - - [03/Oct/2024 22:40:41] \"GET /graph_tree_data HTTP/1.1\" 200 -\n",
      "127.0.0.1 - - [03/Oct/2024 22:40:41] \"GET /tree_data HTTP/1.1\" 200 -\n",
      "127.0.0.1 - - [03/Oct/2024 22:40:47] \"GET / HTTP/1.1\" 200 -\n",
      "127.0.0.1 - - [03/Oct/2024 22:40:47] \"GET /static/styles.css HTTP/1.1\" 304 -\n",
      "127.0.0.1 - - [03/Oct/2024 22:40:47] \"GET /static/scripts.js HTTP/1.1\" 304 -\n",
      "127.0.0.1 - - [03/Oct/2024 22:40:47] \"GET /static/curve_axis.js HTTP/1.1\" 304 -\n",
      "127.0.0.1 - - [03/Oct/2024 22:40:47] \"GET /static/graph_tree.js HTTP/1.1\" 304 -\n",
      "127.0.0.1 - - [03/Oct/2024 22:40:47] \"GET /sliders HTTP/1.1\" 200 -\n",
      "127.0.0.1 - - [03/Oct/2024 22:40:47] \"GET /recom HTTP/1.1\" 200 -\n",
      "127.0.0.1 - - [03/Oct/2024 22:40:47] \"GET /graph_tree_data HTTP/1.1\" 200 -\n",
      "127.0.0.1 - - [03/Oct/2024 22:40:47] \"GET /tree_data HTTP/1.1\" 200 -\n",
      "127.0.0.1 - - [03/Oct/2024 22:41:14] \"POST /handle_recom HTTP/1.1\" 200 -\n"
     ]
    },
    {
     "name": "stdout",
     "output_type": "stream",
     "text": [
      "12 1\n",
      "reflection_node: 11 at lv up: 2\n",
      "generate cos sim, ecul dist, and nodes sorted by cos sim\n",
      "[{'id': 76, 'cos_sim': np.float64(-0.21583331398253405), 'euclide_dist': np.float64(0.8551164642123135), 'r_ratio': 12.666666666666666}, {'id': 75, 'cos_sim': np.float64(-0.08835918798297904), 'euclide_dist': np.float64(0.7935536868003044), 'r_ratio': 13.0}, {'id': 84, 'cos_sim': np.float64(-0.08142391463730748), 'euclide_dist': np.float64(1.3526893311215873), 'r_ratio': 0.3333333333333333}, {'id': 86, 'cos_sim': np.float64(-0.061243516042743876), 'euclide_dist': np.float64(0.8530923350585324), 'r_ratio': 3.0}, {'id': 77, 'cos_sim': np.float64(-0.005471375024191866), 'euclide_dist': np.float64(0.7988454719646785), 'r_ratio': 3.3333333333333335}, {'id': 78, 'cos_sim': np.float64(0.03976259072812505), 'euclide_dist': np.float64(0.8225280332361599), 'r_ratio': 2.0}, {'id': 83, 'cos_sim': np.float64(0.06641102495191811), 'euclide_dist': np.float64(1.092129999009221), 'r_ratio': 1.0}, {'id': 79, 'cos_sim': np.float64(0.09380913105758437), 'euclide_dist': np.float64(0.7672264138817697), 'r_ratio': 2.0}, {'id': 80, 'cos_sim': np.float64(0.13224740545707742), 'euclide_dist': np.float64(0.774055426338213), 'r_ratio': 4.0}, {'id': 81, 'cos_sim': np.float64(0.15856018937696315), 'euclide_dist': np.float64(0.7271562018888912), 'r_ratio': 4.333333333333333}, {'id': 85, 'cos_sim': np.float64(0.19656958524686474), 'euclide_dist': np.float64(0.8826043524418754), 'r_ratio': 0.6666666666666666}, {'id': 82, 'cos_sim': np.float64(0.9999999999999998), 'euclide_dist': np.float64(0.0), 'r_ratio': 1.0}]\n"
     ]
    },
    {
     "name": "stderr",
     "output_type": "stream",
     "text": [
      "127.0.0.1 - - [03/Oct/2024 22:41:34] \"GET /static/styles.css HTTP/1.1\" 304 -\n",
      "127.0.0.1 - - [03/Oct/2024 22:42:08] \"GET / HTTP/1.1\" 200 -\n",
      "127.0.0.1 - - [03/Oct/2024 22:42:08] \"GET /static/styles.css HTTP/1.1\" 304 -\n",
      "127.0.0.1 - - [03/Oct/2024 22:42:08] \"GET /static/scripts.js HTTP/1.1\" 304 -\n",
      "127.0.0.1 - - [03/Oct/2024 22:42:08] \"GET /static/curve_axis.js HTTP/1.1\" 304 -\n",
      "127.0.0.1 - - [03/Oct/2024 22:42:08] \"GET /static/graph_tree.js HTTP/1.1\" 200 -\n",
      "127.0.0.1 - - [03/Oct/2024 22:42:08] \"GET /sliders HTTP/1.1\" 200 -\n",
      "127.0.0.1 - - [03/Oct/2024 22:42:08] \"GET /recom HTTP/1.1\" 200 -\n",
      "127.0.0.1 - - [03/Oct/2024 22:42:08] \"GET /graph_tree_data HTTP/1.1\" 200 -\n",
      "127.0.0.1 - - [03/Oct/2024 22:42:08] \"GET /tree_data HTTP/1.1\" 200 -\n",
      "127.0.0.1 - - [03/Oct/2024 22:44:19] \"GET / HTTP/1.1\" 200 -\n",
      "127.0.0.1 - - [03/Oct/2024 22:44:19] \"GET /static/styles.css HTTP/1.1\" 304 -\n",
      "127.0.0.1 - - [03/Oct/2024 22:44:19] \"GET /static/scripts.js HTTP/1.1\" 304 -\n",
      "127.0.0.1 - - [03/Oct/2024 22:44:19] \"GET /static/curve_axis.js HTTP/1.1\" 304 -\n",
      "127.0.0.1 - - [03/Oct/2024 22:44:19] \"GET /static/graph_tree.js HTTP/1.1\" 200 -\n",
      "127.0.0.1 - - [03/Oct/2024 22:44:19] \"GET /sliders HTTP/1.1\" 200 -\n",
      "127.0.0.1 - - [03/Oct/2024 22:44:19] \"GET /recom HTTP/1.1\" 200 -\n",
      "127.0.0.1 - - [03/Oct/2024 22:44:19] \"GET /graph_tree_data HTTP/1.1\" 200 -\n",
      "127.0.0.1 - - [03/Oct/2024 22:44:19] \"GET /tree_data HTTP/1.1\" 200 -\n",
      "127.0.0.1 - - [03/Oct/2024 22:44:43] \"GET / HTTP/1.1\" 200 -\n",
      "127.0.0.1 - - [03/Oct/2024 22:44:43] \"GET /static/styles.css HTTP/1.1\" 304 -\n",
      "127.0.0.1 - - [03/Oct/2024 22:44:43] \"GET /static/scripts.js HTTP/1.1\" 304 -\n",
      "127.0.0.1 - - [03/Oct/2024 22:44:43] \"GET /static/curve_axis.js HTTP/1.1\" 304 -\n",
      "127.0.0.1 - - [03/Oct/2024 22:44:43] \"GET /static/graph_tree.js HTTP/1.1\" 304 -\n",
      "127.0.0.1 - - [03/Oct/2024 22:44:43] \"GET /sliders HTTP/1.1\" 200 -\n",
      "127.0.0.1 - - [03/Oct/2024 22:44:43] \"GET /recom HTTP/1.1\" 200 -\n",
      "127.0.0.1 - - [03/Oct/2024 22:44:43] \"GET /graph_tree_data HTTP/1.1\" 200 -\n",
      "127.0.0.1 - - [03/Oct/2024 22:44:43] \"GET /tree_data HTTP/1.1\" 200 -\n",
      "127.0.0.1 - - [03/Oct/2024 22:48:03] \"POST /handle_recom HTTP/1.1\" 200 -\n"
     ]
    },
    {
     "name": "stdout",
     "output_type": "stream",
     "text": [
      "12 0\n",
      "reflection_node: 11 at lv up: 2\n",
      "generate cos sim, ecul dist, and nodes sorted by cos sim\n",
      "[{'id': 76, 'cos_sim': np.float64(-0.2709092413729092), 'euclide_dist': np.float64(0.8373056109993854), 'r_ratio': 19.0}, {'id': 78, 'cos_sim': np.float64(-0.07749730835660533), 'euclide_dist': np.float64(0.8349313206094979), 'r_ratio': 3.0}, {'id': 75, 'cos_sim': np.float64(-0.07100631617471197), 'euclide_dist': np.float64(0.7555092910562405), 'r_ratio': 19.5}, {'id': 81, 'cos_sim': np.float64(-0.008676042408019977), 'euclide_dist': np.float64(0.7402040017324499), 'r_ratio': 6.5}, {'id': 86, 'cos_sim': np.float64(0.010501972000260765), 'euclide_dist': np.float64(0.7963891825134197), 'r_ratio': 4.5}, {'id': 83, 'cos_sim': np.float64(0.062405002113211844), 'euclide_dist': np.float64(1.0730381767018635), 'r_ratio': 1.5}, {'id': 84, 'cos_sim': np.float64(0.10696218686052496), 'euclide_dist': np.float64(1.2223322428629215), 'r_ratio': 0.5}, {'id': 79, 'cos_sim': np.float64(0.13270394588476211), 'euclide_dist': np.float64(0.7224972624211913), 'r_ratio': 3.0}, {'id': 82, 'cos_sim': np.float64(0.19656958524686474), 'euclide_dist': np.float64(0.8826043524418754), 'r_ratio': 1.5}, {'id': 77, 'cos_sim': np.float64(0.24039317456369907), 'euclide_dist': np.float64(0.685266480817796), 'r_ratio': 5.0}, {'id': 80, 'cos_sim': np.float64(0.2686119178095564), 'euclide_dist': np.float64(0.690906342578109), 'r_ratio': 6.0}, {'id': 85, 'cos_sim': np.float64(1.0), 'euclide_dist': np.float64(0.0), 'r_ratio': 1.0}]\n"
     ]
    },
    {
     "name": "stderr",
     "output_type": "stream",
     "text": [
      "127.0.0.1 - - [03/Oct/2024 22:48:06] \"POST /handle_recom HTTP/1.1\" 200 -\n"
     ]
    },
    {
     "name": "stdout",
     "output_type": "stream",
     "text": [
      "12 1\n",
      "reflection_node: 11 at lv up: 2\n",
      "generate cos sim, ecul dist, and nodes sorted by cos sim\n",
      "[{'id': 76, 'cos_sim': np.float64(-0.21583331398253405), 'euclide_dist': np.float64(0.8551164642123135), 'r_ratio': 12.666666666666666}, {'id': 75, 'cos_sim': np.float64(-0.08835918798297904), 'euclide_dist': np.float64(0.7935536868003044), 'r_ratio': 13.0}, {'id': 84, 'cos_sim': np.float64(-0.08142391463730748), 'euclide_dist': np.float64(1.3526893311215873), 'r_ratio': 0.3333333333333333}, {'id': 86, 'cos_sim': np.float64(-0.061243516042743876), 'euclide_dist': np.float64(0.8530923350585324), 'r_ratio': 3.0}, {'id': 77, 'cos_sim': np.float64(-0.005471375024191866), 'euclide_dist': np.float64(0.7988454719646785), 'r_ratio': 3.3333333333333335}, {'id': 78, 'cos_sim': np.float64(0.03976259072812505), 'euclide_dist': np.float64(0.8225280332361599), 'r_ratio': 2.0}, {'id': 83, 'cos_sim': np.float64(0.06641102495191811), 'euclide_dist': np.float64(1.092129999009221), 'r_ratio': 1.0}, {'id': 79, 'cos_sim': np.float64(0.09380913105758437), 'euclide_dist': np.float64(0.7672264138817697), 'r_ratio': 2.0}, {'id': 80, 'cos_sim': np.float64(0.13224740545707742), 'euclide_dist': np.float64(0.774055426338213), 'r_ratio': 4.0}, {'id': 81, 'cos_sim': np.float64(0.15856018937696315), 'euclide_dist': np.float64(0.7271562018888912), 'r_ratio': 4.333333333333333}, {'id': 85, 'cos_sim': np.float64(0.19656958524686474), 'euclide_dist': np.float64(0.8826043524418754), 'r_ratio': 0.6666666666666666}, {'id': 82, 'cos_sim': np.float64(0.9999999999999998), 'euclide_dist': np.float64(0.0), 'r_ratio': 1.0}]\n"
     ]
    },
    {
     "name": "stderr",
     "output_type": "stream",
     "text": [
      "127.0.0.1 - - [03/Oct/2024 22:48:11] \"POST /handle_recom HTTP/1.1\" 200 -\n"
     ]
    },
    {
     "name": "stdout",
     "output_type": "stream",
     "text": [
      "12 0\n",
      "reflection_node: 11 at lv up: 2\n",
      "generate cos sim, ecul dist, and nodes sorted by cos sim\n",
      "[{'id': 76, 'cos_sim': np.float64(-0.2709092413729092), 'euclide_dist': np.float64(0.8373056109993854), 'r_ratio': 19.0}, {'id': 78, 'cos_sim': np.float64(-0.07749730835660533), 'euclide_dist': np.float64(0.8349313206094979), 'r_ratio': 3.0}, {'id': 75, 'cos_sim': np.float64(-0.07100631617471197), 'euclide_dist': np.float64(0.7555092910562405), 'r_ratio': 19.5}, {'id': 81, 'cos_sim': np.float64(-0.008676042408019977), 'euclide_dist': np.float64(0.7402040017324499), 'r_ratio': 6.5}, {'id': 86, 'cos_sim': np.float64(0.010501972000260765), 'euclide_dist': np.float64(0.7963891825134197), 'r_ratio': 4.5}, {'id': 83, 'cos_sim': np.float64(0.062405002113211844), 'euclide_dist': np.float64(1.0730381767018635), 'r_ratio': 1.5}, {'id': 84, 'cos_sim': np.float64(0.10696218686052496), 'euclide_dist': np.float64(1.2223322428629215), 'r_ratio': 0.5}, {'id': 79, 'cos_sim': np.float64(0.13270394588476211), 'euclide_dist': np.float64(0.7224972624211913), 'r_ratio': 3.0}, {'id': 82, 'cos_sim': np.float64(0.19656958524686474), 'euclide_dist': np.float64(0.8826043524418754), 'r_ratio': 1.5}, {'id': 77, 'cos_sim': np.float64(0.24039317456369907), 'euclide_dist': np.float64(0.685266480817796), 'r_ratio': 5.0}, {'id': 80, 'cos_sim': np.float64(0.2686119178095564), 'euclide_dist': np.float64(0.690906342578109), 'r_ratio': 6.0}, {'id': 85, 'cos_sim': np.float64(1.0), 'euclide_dist': np.float64(0.0), 'r_ratio': 1.0}]\n"
     ]
    },
    {
     "name": "stderr",
     "output_type": "stream",
     "text": [
      "127.0.0.1 - - [03/Oct/2024 22:48:16] \"POST /handle_recom HTTP/1.1\" 200 -\n"
     ]
    },
    {
     "name": "stdout",
     "output_type": "stream",
     "text": [
      "12 1\n",
      "reflection_node: 11 at lv up: 2\n",
      "generate cos sim, ecul dist, and nodes sorted by cos sim\n",
      "[{'id': 76, 'cos_sim': np.float64(-0.21583331398253405), 'euclide_dist': np.float64(0.8551164642123135), 'r_ratio': 12.666666666666666}, {'id': 75, 'cos_sim': np.float64(-0.08835918798297904), 'euclide_dist': np.float64(0.7935536868003044), 'r_ratio': 13.0}, {'id': 84, 'cos_sim': np.float64(-0.08142391463730748), 'euclide_dist': np.float64(1.3526893311215873), 'r_ratio': 0.3333333333333333}, {'id': 86, 'cos_sim': np.float64(-0.061243516042743876), 'euclide_dist': np.float64(0.8530923350585324), 'r_ratio': 3.0}, {'id': 77, 'cos_sim': np.float64(-0.005471375024191866), 'euclide_dist': np.float64(0.7988454719646785), 'r_ratio': 3.3333333333333335}, {'id': 78, 'cos_sim': np.float64(0.03976259072812505), 'euclide_dist': np.float64(0.8225280332361599), 'r_ratio': 2.0}, {'id': 83, 'cos_sim': np.float64(0.06641102495191811), 'euclide_dist': np.float64(1.092129999009221), 'r_ratio': 1.0}, {'id': 79, 'cos_sim': np.float64(0.09380913105758437), 'euclide_dist': np.float64(0.7672264138817697), 'r_ratio': 2.0}, {'id': 80, 'cos_sim': np.float64(0.13224740545707742), 'euclide_dist': np.float64(0.774055426338213), 'r_ratio': 4.0}, {'id': 81, 'cos_sim': np.float64(0.15856018937696315), 'euclide_dist': np.float64(0.7271562018888912), 'r_ratio': 4.333333333333333}, {'id': 85, 'cos_sim': np.float64(0.19656958524686474), 'euclide_dist': np.float64(0.8826043524418754), 'r_ratio': 0.6666666666666666}, {'id': 82, 'cos_sim': np.float64(0.9999999999999998), 'euclide_dist': np.float64(0.0), 'r_ratio': 1.0}]\n"
     ]
    },
    {
     "name": "stderr",
     "output_type": "stream",
     "text": [
      "127.0.0.1 - - [03/Oct/2024 22:48:22] \"POST /handle_recom HTTP/1.1\" 200 -\n"
     ]
    },
    {
     "name": "stdout",
     "output_type": "stream",
     "text": [
      "13 0\n",
      "reflection_node: 3 at lv up: 2\n",
      "generate cos sim, ecul dist, and nodes sorted by cos sim\n",
      "[{'id': 49, 'cos_sim': np.float64(-0.5159931062205891), 'euclide_dist': np.float64(0.811417303426646), 'r_ratio': 5.0}, {'id': 52, 'cos_sim': np.float64(-0.43880974678194795), 'euclide_dist': np.float64(0.7627067071768198), 'r_ratio': 1.6}, {'id': 50, 'cos_sim': np.float64(-0.35568852474528356), 'euclide_dist': np.float64(0.8105352579768698), 'r_ratio': 2.8}, {'id': 58, 'cos_sim': np.float64(-0.2286117642974995), 'euclide_dist': np.float64(0.8014764138101276), 'r_ratio': 1.6}, {'id': 47, 'cos_sim': np.float64(-0.1315458787060878), 'euclide_dist': np.float64(0.6917515672437081), 'r_ratio': 4.6}, {'id': 48, 'cos_sim': np.float64(0.024155584346407667), 'euclide_dist': np.float64(0.6106281746973509), 'r_ratio': 6.0}, {'id': 53, 'cos_sim': np.float64(0.1259118111097981), 'euclide_dist': np.float64(0.6306872596442936), 'r_ratio': 2.8}, {'id': 55, 'cos_sim': np.float64(0.21117179945530268), 'euclide_dist': np.float64(0.5888896519796138), 'r_ratio': 1.6}, {'id': 51, 'cos_sim': np.float64(0.31029943494230827), 'euclide_dist': np.float64(0.6637400211753084), 'r_ratio': 1.0}, {'id': 59, 'cos_sim': np.float64(0.3853159834577209), 'euclide_dist': np.float64(0.5547417570708236), 'r_ratio': 1.6}, {'id': 57, 'cos_sim': np.float64(0.42753667262657247), 'euclide_dist': np.float64(0.5173599121036845), 'r_ratio': 1.4}, {'id': 56, 'cos_sim': np.float64(0.4433482217950078), 'euclide_dist': np.float64(0.6465466796985456), 'r_ratio': 0.6}, {'id': 60, 'cos_sim': np.float64(0.6450618155088809), 'euclide_dist': np.float64(0.4851616446325591), 'r_ratio': 0.8}, {'id': 54, 'cos_sim': np.float64(1.0), 'euclide_dist': np.float64(0.0), 'r_ratio': 1.0}]\n"
     ]
    },
    {
     "name": "stderr",
     "output_type": "stream",
     "text": [
      "127.0.0.1 - - [03/Oct/2024 22:48:35] \"GET /static/styles.css HTTP/1.1\" 304 -\n",
      "127.0.0.1 - - [03/Oct/2024 22:48:52] \"GET / HTTP/1.1\" 200 -\n",
      "127.0.0.1 - - [03/Oct/2024 22:48:52] \"GET /static/styles.css HTTP/1.1\" 304 -\n",
      "127.0.0.1 - - [03/Oct/2024 22:48:52] \"GET /static/scripts.js HTTP/1.1\" 304 -\n",
      "127.0.0.1 - - [03/Oct/2024 22:48:52] \"GET /static/curve_axis.js HTTP/1.1\" 304 -\n",
      "127.0.0.1 - - [03/Oct/2024 22:48:52] \"GET /static/graph_tree.js HTTP/1.1\" 200 -\n",
      "127.0.0.1 - - [03/Oct/2024 22:48:52] \"GET /sliders HTTP/1.1\" 200 -\n",
      "127.0.0.1 - - [03/Oct/2024 22:48:52] \"GET /recom HTTP/1.1\" 200 -\n",
      "127.0.0.1 - - [03/Oct/2024 22:48:52] \"GET /graph_tree_data HTTP/1.1\" 200 -\n",
      "127.0.0.1 - - [03/Oct/2024 22:48:52] \"GET /tree_data HTTP/1.1\" 200 -\n",
      "127.0.0.1 - - [03/Oct/2024 22:49:03] \"POST /handle_recom HTTP/1.1\" 200 -\n"
     ]
    },
    {
     "name": "stdout",
     "output_type": "stream",
     "text": [
      "13 0\n",
      "reflection_node: 3 at lv up: 2\n",
      "generate cos sim, ecul dist, and nodes sorted by cos sim\n",
      "[{'id': 49, 'cos_sim': np.float64(-0.5159931062205891), 'euclide_dist': np.float64(0.811417303426646), 'r_ratio': 5.0}, {'id': 52, 'cos_sim': np.float64(-0.43880974678194795), 'euclide_dist': np.float64(0.7627067071768198), 'r_ratio': 1.6}, {'id': 50, 'cos_sim': np.float64(-0.35568852474528356), 'euclide_dist': np.float64(0.8105352579768698), 'r_ratio': 2.8}, {'id': 58, 'cos_sim': np.float64(-0.2286117642974995), 'euclide_dist': np.float64(0.8014764138101276), 'r_ratio': 1.6}, {'id': 47, 'cos_sim': np.float64(-0.1315458787060878), 'euclide_dist': np.float64(0.6917515672437081), 'r_ratio': 4.6}, {'id': 48, 'cos_sim': np.float64(0.024155584346407667), 'euclide_dist': np.float64(0.6106281746973509), 'r_ratio': 6.0}, {'id': 53, 'cos_sim': np.float64(0.1259118111097981), 'euclide_dist': np.float64(0.6306872596442936), 'r_ratio': 2.8}, {'id': 55, 'cos_sim': np.float64(0.21117179945530268), 'euclide_dist': np.float64(0.5888896519796138), 'r_ratio': 1.6}, {'id': 51, 'cos_sim': np.float64(0.31029943494230827), 'euclide_dist': np.float64(0.6637400211753084), 'r_ratio': 1.0}, {'id': 59, 'cos_sim': np.float64(0.3853159834577209), 'euclide_dist': np.float64(0.5547417570708236), 'r_ratio': 1.6}, {'id': 57, 'cos_sim': np.float64(0.42753667262657247), 'euclide_dist': np.float64(0.5173599121036845), 'r_ratio': 1.4}, {'id': 56, 'cos_sim': np.float64(0.4433482217950078), 'euclide_dist': np.float64(0.6465466796985456), 'r_ratio': 0.6}, {'id': 60, 'cos_sim': np.float64(0.6450618155088809), 'euclide_dist': np.float64(0.4851616446325591), 'r_ratio': 0.8}, {'id': 54, 'cos_sim': np.float64(1.0), 'euclide_dist': np.float64(0.0), 'r_ratio': 1.0}]\n"
     ]
    },
    {
     "name": "stderr",
     "output_type": "stream",
     "text": [
      "127.0.0.1 - - [03/Oct/2024 22:49:12] \"POST /handle_recom HTTP/1.1\" 200 -\n"
     ]
    },
    {
     "name": "stdout",
     "output_type": "stream",
     "text": [
      "13 1\n",
      "reflection_node: 11 at lv up: 2\n",
      "generate cos sim, ecul dist, and nodes sorted by cos sim\n",
      "[{'id': 76, 'cos_sim': np.float64(-0.4763703874118989), 'euclide_dist': np.float64(1.0801369707758741), 'r_ratio': 12.666666666666666}, {'id': 75, 'cos_sim': np.float64(-0.24790429112440673), 'euclide_dist': np.float64(0.987344024050763), 'r_ratio': 13.0}, {'id': 79, 'cos_sim': np.float64(-0.008388022105811199), 'euclide_dist': np.float64(0.94746921878159), 'r_ratio': 2.0}, {'id': 85, 'cos_sim': np.float64(0.062405002113211844), 'euclide_dist': np.float64(1.0730381767018635), 'r_ratio': 0.6666666666666666}, {'id': 82, 'cos_sim': np.float64(0.06641102495191811), 'euclide_dist': np.float64(1.092129999009221), 'r_ratio': 1.0}, {'id': 80, 'cos_sim': np.float64(0.1557004556942238), 'euclide_dist': np.float64(0.9062083448933773), 'r_ratio': 4.0}, {'id': 84, 'cos_sim': np.float64(0.22878022018011845), 'euclide_dist': np.float64(1.2335198179562117), 'r_ratio': 0.3333333333333333}, {'id': 86, 'cos_sim': np.float64(0.30166621572147645), 'euclide_dist': np.float64(0.8498517647123269), 'r_ratio': 3.0}, {'id': 77, 'cos_sim': np.float64(0.32030530937217955), 'euclide_dist': np.float64(0.8323900352175247), 'r_ratio': 3.3333333333333335}, {'id': 78, 'cos_sim': np.float64(0.4024139820665456), 'euclide_dist': np.float64(0.8057621560065611), 'r_ratio': 2.0}, {'id': 81, 'cos_sim': np.float64(0.4682220670932662), 'euclide_dist': np.float64(0.7823236192629127), 'r_ratio': 4.333333333333333}, {'id': 83, 'cos_sim': np.float64(0.9999999999999999), 'euclide_dist': np.float64(0.0), 'r_ratio': 1.0}]\n"
     ]
    },
    {
     "name": "stderr",
     "output_type": "stream",
     "text": [
      "127.0.0.1 - - [03/Oct/2024 23:19:42] \"POST /handle_recom HTTP/1.1\" 200 -\n"
     ]
    },
    {
     "name": "stdout",
     "output_type": "stream",
     "text": [
      "4 0\n",
      "reflection_node: 33 at lv up: 2\n",
      "generate cos sim, ecul dist, and nodes sorted by cos sim\n",
      "[{'id': 100, 'cos_sim': np.float64(-0.6919149883285474), 'euclide_dist': np.float64(0.43876535496407915), 'r_ratio': 1.0222222222222221}, {'id': 99, 'cos_sim': np.float64(-0.4796494631127928), 'euclide_dist': np.float64(0.3753587143526724), 'r_ratio': 1.8888888888888888}, {'id': 103, 'cos_sim': np.float64(0.0886108123662816), 'euclide_dist': np.float64(0.5489406469067046), 'r_ratio': 0.28888888888888886}, {'id': 101, 'cos_sim': np.float64(0.4056903929821704), 'euclide_dist': np.float64(0.352040462795407), 'r_ratio': 0.5777777777777777}, {'id': 102, 'cos_sim': np.float64(1.0), 'euclide_dist': np.float64(0.0), 'r_ratio': 1.0}]\n"
     ]
    },
    {
     "name": "stderr",
     "output_type": "stream",
     "text": [
      "127.0.0.1 - - [03/Oct/2024 23:19:48] \"POST /handle_recom HTTP/1.1\" 200 -\n"
     ]
    },
    {
     "name": "stdout",
     "output_type": "stream",
     "text": [
      "4 1\n",
      "reflection_node: 11 at lv up: 2\n",
      "generate cos sim, ecul dist, and nodes sorted by cos sim\n",
      "[{'id': 75, 'cos_sim': np.float64(-0.40146584506070443), 'euclide_dist': np.float64(1.236891236877308), 'r_ratio': 39.0}, {'id': 78, 'cos_sim': np.float64(-0.3001024550950954), 'euclide_dist': np.float64(1.2929076612759856), 'r_ratio': 6.0}, {'id': 82, 'cos_sim': np.float64(-0.08142391463730748), 'euclide_dist': np.float64(1.3526893311215873), 'r_ratio': 3.0}, {'id': 81, 'cos_sim': np.float64(-0.055923329846542566), 'euclide_dist': np.float64(1.1461230376675957), 'r_ratio': 13.0}, {'id': 76, 'cos_sim': np.float64(-0.030370417473648294), 'euclide_dist': np.float64(1.15410287837338), 'r_ratio': 38.0}, {'id': 79, 'cos_sim': np.float64(-0.023275017564249125), 'euclide_dist': np.float64(1.1565406793676372), 'r_ratio': 6.0}, {'id': 85, 'cos_sim': np.float64(0.10696218686052496), 'euclide_dist': np.float64(1.2223322428629215), 'r_ratio': 2.0}, {'id': 77, 'cos_sim': np.float64(0.1257466865862496), 'euclide_dist': np.float64(1.1051022459359168), 'r_ratio': 10.0}, {'id': 83, 'cos_sim': np.float64(0.22878022018011845), 'euclide_dist': np.float64(1.2335198179562117), 'r_ratio': 3.0}, {'id': 80, 'cos_sim': np.float64(0.43648118952993936), 'euclide_dist': np.float64(0.985111033736841), 'r_ratio': 12.0}, {'id': 86, 'cos_sim': np.float64(0.4498878308267702), 'euclide_dist': np.float64(0.9777087071271497), 'r_ratio': 9.0}, {'id': 84, 'cos_sim': np.float64(1.0), 'euclide_dist': np.float64(0.0), 'r_ratio': 1.0}]\n"
     ]
    },
    {
     "name": "stderr",
     "output_type": "stream",
     "text": [
      "127.0.0.1 - - [03/Oct/2024 23:19:57] \"POST /handle_recom HTTP/1.1\" 200 -\n"
     ]
    },
    {
     "name": "stdout",
     "output_type": "stream",
     "text": [
      "6 1\n",
      "reflection_node: 11 at lv up: 2\n",
      "generate cos sim, ecul dist, and nodes sorted by cos sim\n",
      "[{'id': 76, 'cos_sim': np.float64(-0.4981186624736657), 'euclide_dist': np.float64(0.6019666688432964), 'r_ratio': 3.8}, {'id': 75, 'cos_sim': np.float64(-0.17763757438338984), 'euclide_dist': np.float64(0.49546538143982977), 'r_ratio': 3.9}, {'id': 82, 'cos_sim': np.float64(-0.005471375024191866), 'euclide_dist': np.float64(0.7988454719646785), 'r_ratio': 0.3}, {'id': 79, 'cos_sim': np.float64(0.07646224708805716), 'euclide_dist': np.float64(0.4825329958644776), 'r_ratio': 0.6}, {'id': 80, 'cos_sim': np.float64(0.10928010779693026), 'euclide_dist': np.float64(0.5103285413929713), 'r_ratio': 1.2}, {'id': 84, 'cos_sim': np.float64(0.1257466865862496), 'euclide_dist': np.float64(1.1051022459359168), 'r_ratio': 0.1}, {'id': 78, 'cos_sim': np.float64(0.16911588906669772), 'euclide_dist': np.float64(0.5145540923168959), 'r_ratio': 0.6}, {'id': 86, 'cos_sim': np.float64(0.22594276078967132), 'euclide_dist': np.float64(0.48817438372367206), 'r_ratio': 0.9}, {'id': 85, 'cos_sim': np.float64(0.24039317456369907), 'euclide_dist': np.float64(0.685266480817796), 'r_ratio': 0.2}, {'id': 83, 'cos_sim': np.float64(0.32030530937217955), 'euclide_dist': np.float64(0.8323900352175247), 'r_ratio': 0.3}, {'id': 81, 'cos_sim': np.float64(0.4259061213736768), 'euclide_dist': np.float64(0.3501240314626796), 'r_ratio': 1.3}, {'id': 77, 'cos_sim': np.float64(1.0), 'euclide_dist': np.float64(0.0), 'r_ratio': 1.0}]\n"
     ]
    },
    {
     "name": "stderr",
     "output_type": "stream",
     "text": [
      "127.0.0.1 - - [03/Oct/2024 23:20:04] \"POST /handle_recom HTTP/1.1\" 200 -\n"
     ]
    },
    {
     "name": "stdout",
     "output_type": "stream",
     "text": [
      "9 1\n",
      "reflection_node: 18 at lv up: 2\n",
      "generate cos sim, ecul dist, and nodes sorted by cos sim\n",
      "[{'id': 64, 'cos_sim': np.float64(-0.7491767364374148), 'euclide_dist': np.float64(0.42885340882396106), 'r_ratio': 1.6206896551724137}, {'id': 95, 'cos_sim': np.float64(-0.10809326544748014), 'euclide_dist': np.float64(0.3649020006930974), 'r_ratio': 0.9310344827586207}, {'id': 96, 'cos_sim': np.float64(1.0000000000000002), 'euclide_dist': np.float64(0.0), 'r_ratio': 1.0}]\n"
     ]
    },
    {
     "name": "stderr",
     "output_type": "stream",
     "text": [
      "127.0.0.1 - - [03/Oct/2024 23:20:10] \"POST /handle_recom HTTP/1.1\" 200 -\n"
     ]
    },
    {
     "name": "stdout",
     "output_type": "stream",
     "text": [
      "13 1\n",
      "reflection_node: 11 at lv up: 2\n",
      "generate cos sim, ecul dist, and nodes sorted by cos sim\n",
      "[{'id': 76, 'cos_sim': np.float64(-0.4763703874118989), 'euclide_dist': np.float64(1.0801369707758741), 'r_ratio': 12.666666666666666}, {'id': 75, 'cos_sim': np.float64(-0.24790429112440673), 'euclide_dist': np.float64(0.987344024050763), 'r_ratio': 13.0}, {'id': 79, 'cos_sim': np.float64(-0.008388022105811199), 'euclide_dist': np.float64(0.94746921878159), 'r_ratio': 2.0}, {'id': 85, 'cos_sim': np.float64(0.062405002113211844), 'euclide_dist': np.float64(1.0730381767018635), 'r_ratio': 0.6666666666666666}, {'id': 82, 'cos_sim': np.float64(0.06641102495191811), 'euclide_dist': np.float64(1.092129999009221), 'r_ratio': 1.0}, {'id': 80, 'cos_sim': np.float64(0.1557004556942238), 'euclide_dist': np.float64(0.9062083448933773), 'r_ratio': 4.0}, {'id': 84, 'cos_sim': np.float64(0.22878022018011845), 'euclide_dist': np.float64(1.2335198179562117), 'r_ratio': 0.3333333333333333}, {'id': 86, 'cos_sim': np.float64(0.30166621572147645), 'euclide_dist': np.float64(0.8498517647123269), 'r_ratio': 3.0}, {'id': 77, 'cos_sim': np.float64(0.32030530937217955), 'euclide_dist': np.float64(0.8323900352175247), 'r_ratio': 3.3333333333333335}, {'id': 78, 'cos_sim': np.float64(0.4024139820665456), 'euclide_dist': np.float64(0.8057621560065611), 'r_ratio': 2.0}, {'id': 81, 'cos_sim': np.float64(0.4682220670932662), 'euclide_dist': np.float64(0.7823236192629127), 'r_ratio': 4.333333333333333}, {'id': 83, 'cos_sim': np.float64(0.9999999999999999), 'euclide_dist': np.float64(0.0), 'r_ratio': 1.0}]\n"
     ]
    },
    {
     "name": "stderr",
     "output_type": "stream",
     "text": [
      "127.0.0.1 - - [03/Oct/2024 23:20:14] \"POST /handle_recom HTTP/1.1\" 200 -\n"
     ]
    },
    {
     "name": "stdout",
     "output_type": "stream",
     "text": [
      "13 0\n",
      "reflection_node: 3 at lv up: 2\n",
      "generate cos sim, ecul dist, and nodes sorted by cos sim\n",
      "[{'id': 49, 'cos_sim': np.float64(-0.5159931062205891), 'euclide_dist': np.float64(0.811417303426646), 'r_ratio': 5.0}, {'id': 52, 'cos_sim': np.float64(-0.43880974678194795), 'euclide_dist': np.float64(0.7627067071768198), 'r_ratio': 1.6}, {'id': 50, 'cos_sim': np.float64(-0.35568852474528356), 'euclide_dist': np.float64(0.8105352579768698), 'r_ratio': 2.8}, {'id': 58, 'cos_sim': np.float64(-0.2286117642974995), 'euclide_dist': np.float64(0.8014764138101276), 'r_ratio': 1.6}, {'id': 47, 'cos_sim': np.float64(-0.1315458787060878), 'euclide_dist': np.float64(0.6917515672437081), 'r_ratio': 4.6}, {'id': 48, 'cos_sim': np.float64(0.024155584346407667), 'euclide_dist': np.float64(0.6106281746973509), 'r_ratio': 6.0}, {'id': 53, 'cos_sim': np.float64(0.1259118111097981), 'euclide_dist': np.float64(0.6306872596442936), 'r_ratio': 2.8}, {'id': 55, 'cos_sim': np.float64(0.21117179945530268), 'euclide_dist': np.float64(0.5888896519796138), 'r_ratio': 1.6}, {'id': 51, 'cos_sim': np.float64(0.31029943494230827), 'euclide_dist': np.float64(0.6637400211753084), 'r_ratio': 1.0}, {'id': 59, 'cos_sim': np.float64(0.3853159834577209), 'euclide_dist': np.float64(0.5547417570708236), 'r_ratio': 1.6}, {'id': 57, 'cos_sim': np.float64(0.42753667262657247), 'euclide_dist': np.float64(0.5173599121036845), 'r_ratio': 1.4}, {'id': 56, 'cos_sim': np.float64(0.4433482217950078), 'euclide_dist': np.float64(0.6465466796985456), 'r_ratio': 0.6}, {'id': 60, 'cos_sim': np.float64(0.6450618155088809), 'euclide_dist': np.float64(0.4851616446325591), 'r_ratio': 0.8}, {'id': 54, 'cos_sim': np.float64(1.0), 'euclide_dist': np.float64(0.0), 'r_ratio': 1.0}]\n"
     ]
    },
    {
     "name": "stderr",
     "output_type": "stream",
     "text": [
      "127.0.0.1 - - [03/Oct/2024 23:20:18] \"POST /handle_recom HTTP/1.1\" 200 -\n"
     ]
    },
    {
     "name": "stdout",
     "output_type": "stream",
     "text": [
      "3 0\n",
      "reflection_node: 11 at lv up: 2\n",
      "generate cos sim, ecul dist, and nodes sorted by cos sim\n",
      "[{'id': 75, 'cos_sim': np.float64(-0.40146584506070443), 'euclide_dist': np.float64(1.236891236877308), 'r_ratio': 39.0}, {'id': 78, 'cos_sim': np.float64(-0.3001024550950954), 'euclide_dist': np.float64(1.2929076612759856), 'r_ratio': 6.0}, {'id': 82, 'cos_sim': np.float64(-0.08142391463730748), 'euclide_dist': np.float64(1.3526893311215873), 'r_ratio': 3.0}, {'id': 81, 'cos_sim': np.float64(-0.055923329846542566), 'euclide_dist': np.float64(1.1461230376675957), 'r_ratio': 13.0}, {'id': 76, 'cos_sim': np.float64(-0.030370417473648294), 'euclide_dist': np.float64(1.15410287837338), 'r_ratio': 38.0}, {'id': 79, 'cos_sim': np.float64(-0.023275017564249125), 'euclide_dist': np.float64(1.1565406793676372), 'r_ratio': 6.0}, {'id': 85, 'cos_sim': np.float64(0.10696218686052496), 'euclide_dist': np.float64(1.2223322428629215), 'r_ratio': 2.0}, {'id': 77, 'cos_sim': np.float64(0.1257466865862496), 'euclide_dist': np.float64(1.1051022459359168), 'r_ratio': 10.0}, {'id': 83, 'cos_sim': np.float64(0.22878022018011845), 'euclide_dist': np.float64(1.2335198179562117), 'r_ratio': 3.0}, {'id': 80, 'cos_sim': np.float64(0.43648118952993936), 'euclide_dist': np.float64(0.985111033736841), 'r_ratio': 12.0}, {'id': 86, 'cos_sim': np.float64(0.4498878308267702), 'euclide_dist': np.float64(0.9777087071271497), 'r_ratio': 9.0}, {'id': 84, 'cos_sim': np.float64(1.0), 'euclide_dist': np.float64(0.0), 'r_ratio': 1.0}]\n"
     ]
    },
    {
     "name": "stderr",
     "output_type": "stream",
     "text": [
      "127.0.0.1 - - [03/Oct/2024 23:20:23] \"POST /handle_recom HTTP/1.1\" 200 -\n"
     ]
    },
    {
     "name": "stdout",
     "output_type": "stream",
     "text": [
      "4 1\n",
      "reflection_node: 11 at lv up: 2\n",
      "generate cos sim, ecul dist, and nodes sorted by cos sim\n",
      "[{'id': 75, 'cos_sim': np.float64(-0.40146584506070443), 'euclide_dist': np.float64(1.236891236877308), 'r_ratio': 39.0}, {'id': 78, 'cos_sim': np.float64(-0.3001024550950954), 'euclide_dist': np.float64(1.2929076612759856), 'r_ratio': 6.0}, {'id': 82, 'cos_sim': np.float64(-0.08142391463730748), 'euclide_dist': np.float64(1.3526893311215873), 'r_ratio': 3.0}, {'id': 81, 'cos_sim': np.float64(-0.055923329846542566), 'euclide_dist': np.float64(1.1461230376675957), 'r_ratio': 13.0}, {'id': 76, 'cos_sim': np.float64(-0.030370417473648294), 'euclide_dist': np.float64(1.15410287837338), 'r_ratio': 38.0}, {'id': 79, 'cos_sim': np.float64(-0.023275017564249125), 'euclide_dist': np.float64(1.1565406793676372), 'r_ratio': 6.0}, {'id': 85, 'cos_sim': np.float64(0.10696218686052496), 'euclide_dist': np.float64(1.2223322428629215), 'r_ratio': 2.0}, {'id': 77, 'cos_sim': np.float64(0.1257466865862496), 'euclide_dist': np.float64(1.1051022459359168), 'r_ratio': 10.0}, {'id': 83, 'cos_sim': np.float64(0.22878022018011845), 'euclide_dist': np.float64(1.2335198179562117), 'r_ratio': 3.0}, {'id': 80, 'cos_sim': np.float64(0.43648118952993936), 'euclide_dist': np.float64(0.985111033736841), 'r_ratio': 12.0}, {'id': 86, 'cos_sim': np.float64(0.4498878308267702), 'euclide_dist': np.float64(0.9777087071271497), 'r_ratio': 9.0}, {'id': 84, 'cos_sim': np.float64(1.0), 'euclide_dist': np.float64(0.0), 'r_ratio': 1.0}]\n"
     ]
    },
    {
     "name": "stderr",
     "output_type": "stream",
     "text": [
      "127.0.0.1 - - [03/Oct/2024 23:20:27] \"POST /handle_recom HTTP/1.1\" 200 -\n"
     ]
    },
    {
     "name": "stdout",
     "output_type": "stream",
     "text": [
      "4 0\n",
      "reflection_node: 33 at lv up: 2\n",
      "generate cos sim, ecul dist, and nodes sorted by cos sim\n",
      "[{'id': 100, 'cos_sim': np.float64(-0.6919149883285474), 'euclide_dist': np.float64(0.43876535496407915), 'r_ratio': 1.0222222222222221}, {'id': 99, 'cos_sim': np.float64(-0.4796494631127928), 'euclide_dist': np.float64(0.3753587143526724), 'r_ratio': 1.8888888888888888}, {'id': 103, 'cos_sim': np.float64(0.0886108123662816), 'euclide_dist': np.float64(0.5489406469067046), 'r_ratio': 0.28888888888888886}, {'id': 101, 'cos_sim': np.float64(0.4056903929821704), 'euclide_dist': np.float64(0.352040462795407), 'r_ratio': 0.5777777777777777}, {'id': 102, 'cos_sim': np.float64(1.0), 'euclide_dist': np.float64(0.0), 'r_ratio': 1.0}]\n"
     ]
    },
    {
     "name": "stderr",
     "output_type": "stream",
     "text": [
      "127.0.0.1 - - [03/Oct/2024 23:20:32] \"POST /handle_recom HTTP/1.1\" 200 -\n"
     ]
    },
    {
     "name": "stdout",
     "output_type": "stream",
     "text": [
      "0 1\n",
      "reflection_node: 11 at lv up: 2\n",
      "generate cos sim, ecul dist, and nodes sorted by cos sim\n",
      "[{'id': 75, 'cos_sim': np.float64(-0.40146584506070443), 'euclide_dist': np.float64(1.236891236877308), 'r_ratio': 39.0}, {'id': 78, 'cos_sim': np.float64(-0.3001024550950954), 'euclide_dist': np.float64(1.2929076612759856), 'r_ratio': 6.0}, {'id': 82, 'cos_sim': np.float64(-0.08142391463730748), 'euclide_dist': np.float64(1.3526893311215873), 'r_ratio': 3.0}, {'id': 81, 'cos_sim': np.float64(-0.055923329846542566), 'euclide_dist': np.float64(1.1461230376675957), 'r_ratio': 13.0}, {'id': 76, 'cos_sim': np.float64(-0.030370417473648294), 'euclide_dist': np.float64(1.15410287837338), 'r_ratio': 38.0}, {'id': 79, 'cos_sim': np.float64(-0.023275017564249125), 'euclide_dist': np.float64(1.1565406793676372), 'r_ratio': 6.0}, {'id': 85, 'cos_sim': np.float64(0.10696218686052496), 'euclide_dist': np.float64(1.2223322428629215), 'r_ratio': 2.0}, {'id': 77, 'cos_sim': np.float64(0.1257466865862496), 'euclide_dist': np.float64(1.1051022459359168), 'r_ratio': 10.0}, {'id': 83, 'cos_sim': np.float64(0.22878022018011845), 'euclide_dist': np.float64(1.2335198179562117), 'r_ratio': 3.0}, {'id': 80, 'cos_sim': np.float64(0.43648118952993936), 'euclide_dist': np.float64(0.985111033736841), 'r_ratio': 12.0}, {'id': 86, 'cos_sim': np.float64(0.4498878308267702), 'euclide_dist': np.float64(0.9777087071271497), 'r_ratio': 9.0}, {'id': 84, 'cos_sim': np.float64(1.0), 'euclide_dist': np.float64(0.0), 'r_ratio': 1.0}]\n"
     ]
    },
    {
     "name": "stderr",
     "output_type": "stream",
     "text": [
      "127.0.0.1 - - [03/Oct/2024 23:20:36] \"POST /handle_recom HTTP/1.1\" 200 -\n"
     ]
    },
    {
     "name": "stdout",
     "output_type": "stream",
     "text": [
      "0 0\n",
      "reflection_node: 3 at lv up: 2\n",
      "generate cos sim, ecul dist, and nodes sorted by cos sim\n",
      "[{'id': 48, 'cos_sim': np.float64(-0.7881104338744571), 'euclide_dist': np.float64(0.7660269906594852), 'r_ratio': 6.0}, {'id': 49, 'cos_sim': np.float64(-0.5755837436160911), 'euclide_dist': np.float64(0.821815261591754), 'r_ratio': 5.0}, {'id': 50, 'cos_sim': np.float64(-0.45745308276831026), 'euclide_dist': np.float64(0.835136823283391), 'r_ratio': 2.8}, {'id': 47, 'cos_sim': np.float64(-0.07807131362109994), 'euclide_dist': np.float64(0.6731499997258792), 'r_ratio': 4.6}, {'id': 56, 'cos_sim': np.float64(0.10043949592213013), 'euclide_dist': np.float64(0.8164680996364002), 'r_ratio': 0.6}, {'id': 52, 'cos_sim': np.float64(0.20124614163727422), 'euclide_dist': np.float64(0.5881525934492925), 'r_ratio': 1.6}, {'id': 54, 'cos_sim': np.float64(0.31029943494230827), 'euclide_dist': np.float64(0.6637400211753084), 'r_ratio': 1.0}, {'id': 53, 'cos_sim': np.float64(0.3822019542350906), 'euclide_dist': np.float64(0.5387793457915312), 'r_ratio': 2.8}, {'id': 59, 'cos_sim': np.float64(0.42264703554400096), 'euclide_dist': np.float64(0.5357650385259465), 'r_ratio': 1.6}, {'id': 57, 'cos_sim': np.float64(0.5216436177318149), 'euclide_dist': np.float64(0.4804398859577931), 'r_ratio': 1.4}, {'id': 60, 'cos_sim': np.float64(0.5371341741887233), 'euclide_dist': np.float64(0.5518502681650301), 'r_ratio': 0.8}, {'id': 55, 'cos_sim': np.float64(0.5835682817519352), 'euclide_dist': np.float64(0.4571598040552135), 'r_ratio': 1.6}, {'id': 58, 'cos_sim': np.float64(0.6902460701465264), 'euclide_dist': np.float64(0.41199756541592), 'r_ratio': 1.6}, {'id': 51, 'cos_sim': np.float64(0.9999999999999998), 'euclide_dist': np.float64(0.0), 'r_ratio': 1.0}]\n"
     ]
    },
    {
     "name": "stderr",
     "output_type": "stream",
     "text": [
      "127.0.0.1 - - [04/Oct/2024 00:22:46] \"POST /handle_recom HTTP/1.1\" 200 -\n"
     ]
    },
    {
     "name": "stdout",
     "output_type": "stream",
     "text": [
      "13 0\n",
      "reflection_node: 3 at lv up: 2\n",
      "generate cos sim, ecul dist, and nodes sorted by cos sim\n",
      "[{'id': 49, 'cos_sim': np.float64(-0.5159931062205891), 'euclide_dist': np.float64(0.811417303426646), 'r_ratio': 5.0}, {'id': 52, 'cos_sim': np.float64(-0.43880974678194795), 'euclide_dist': np.float64(0.7627067071768198), 'r_ratio': 1.6}, {'id': 50, 'cos_sim': np.float64(-0.35568852474528356), 'euclide_dist': np.float64(0.8105352579768698), 'r_ratio': 2.8}, {'id': 58, 'cos_sim': np.float64(-0.2286117642974995), 'euclide_dist': np.float64(0.8014764138101276), 'r_ratio': 1.6}, {'id': 47, 'cos_sim': np.float64(-0.1315458787060878), 'euclide_dist': np.float64(0.6917515672437081), 'r_ratio': 4.6}, {'id': 48, 'cos_sim': np.float64(0.024155584346407667), 'euclide_dist': np.float64(0.6106281746973509), 'r_ratio': 6.0}, {'id': 53, 'cos_sim': np.float64(0.1259118111097981), 'euclide_dist': np.float64(0.6306872596442936), 'r_ratio': 2.8}, {'id': 55, 'cos_sim': np.float64(0.21117179945530268), 'euclide_dist': np.float64(0.5888896519796138), 'r_ratio': 1.6}, {'id': 51, 'cos_sim': np.float64(0.31029943494230827), 'euclide_dist': np.float64(0.6637400211753084), 'r_ratio': 1.0}, {'id': 59, 'cos_sim': np.float64(0.3853159834577209), 'euclide_dist': np.float64(0.5547417570708236), 'r_ratio': 1.6}, {'id': 57, 'cos_sim': np.float64(0.42753667262657247), 'euclide_dist': np.float64(0.5173599121036845), 'r_ratio': 1.4}, {'id': 56, 'cos_sim': np.float64(0.4433482217950078), 'euclide_dist': np.float64(0.6465466796985456), 'r_ratio': 0.6}, {'id': 60, 'cos_sim': np.float64(0.6450618155088809), 'euclide_dist': np.float64(0.4851616446325591), 'r_ratio': 0.8}, {'id': 54, 'cos_sim': np.float64(1.0), 'euclide_dist': np.float64(0.0), 'r_ratio': 1.0}]\n"
     ]
    }
   ],
   "source": [
    "from flask import Flask, render_template, request, jsonify\n",
    "\n",
    "app = Flask(__name__)\n",
    "\n",
    "@app.route('/')\n",
    "def index():\n",
    "    return render_template('index.html')\n",
    "\n",
    "# slider ####################################################################\n",
    "@app.route('/sliders')\n",
    "def sliders():\n",
    "    return jsonify(sliders_data)\n",
    "\n",
    "@app.route('/handle_slider', methods=['POST'])\n",
    "def submit_slider_values():\n",
    "    data = request.json\n",
    "    print('Received slider values:', data)\n",
    "    query = np.array([float(val) for val in data.values()])\n",
    "    cur = gt.search(query)\n",
    "    graph_tree_data = gt.get_neighbour_cluster_data(cur.id)\n",
    "    # Process the data as needed\n",
    "    return jsonify({'status': 'slider respon success', 'graph_tree_data': graph_tree_data})\n",
    "# slider end ################################################################\n",
    "\n",
    "# recom ####################################################################\n",
    "@app.route('/recom')\n",
    "def recom():\n",
    "    return jsonify(recom_data)\n",
    "\n",
    "@app.route('/handle_recom', methods=['POST'])\n",
    "def handle_recom():\n",
    "    data = request.json\n",
    "    button_id = int(data.get('buttonId'))\n",
    "    val = int(data.get('val'))\n",
    "    # print(button_id, val)\n",
    "    moved_node = gt.recom[button_id][val]\n",
    "    graph_tree_data = gt.get_neighbour_cluster_data(moved_node.id)\n",
    "    # print(graph_tree_data)\n",
    "    return jsonify({'status': 'recom respon success', 'buttonId': button_id, 'val': val, \"graph_tree_data\": graph_tree_data})\n",
    "# recom end ####################################################################\n",
    "\n",
    "@app.route('/graph_tree_data')\n",
    "def graph():\n",
    "    return jsonify(graph_tree_data)\n",
    "\n",
    "@app.route('/graph_tree_circle_click', methods=['POST'])\n",
    "def graph_tree_circle_click():\n",
    "    data = request.json\n",
    "    id = int(data.get('id'))\n",
    "    print(id)\n",
    "    graph_tree_data = gt.get_neighbour_cluster_data(id)\n",
    "    return jsonify({'status': 'graph_tree_circle_click respon success', 'id': id, \"graph_tree_data\": graph_tree_data})\n",
    "\n",
    "\n",
    "@app.route('/tree_data')\n",
    "def tree():\n",
    "    return jsonify(tree_data)\n",
    "\n",
    "if __name__ == '__main__':\n",
    "    app.run(port=8123)\n"
   ]
  }
 ],
 "metadata": {
  "kernelspec": {
   "display_name": "Python 3",
   "language": "python",
   "name": "python3"
  },
  "language_info": {
   "codemirror_mode": {
    "name": "ipython",
    "version": 3
   },
   "file_extension": ".py",
   "mimetype": "text/x-python",
   "name": "python",
   "nbconvert_exporter": "python",
   "pygments_lexer": "ipython3",
   "version": "3.12.5"
  }
 },
 "nbformat": 4,
 "nbformat_minor": 2
}
