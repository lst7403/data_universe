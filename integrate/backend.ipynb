{
 "cells": [
  {
   "cell_type": "code",
   "execution_count": 4,
   "metadata": {},
   "outputs": [],
   "source": [
    "# load module and pre generate data\n",
    "from graph_tree_list_module import *\n",
    "\n",
    "import numpy as np\n",
    "\n",
    "import pickle\n",
    "\n",
    "# Open the file in binary read mode and load the object\n",
    "with open(\"graph_tree.pkl\", \"rb\") as file:\n",
    "    gt = pickle.load(file)\n"
   ]
  },
  {
   "cell_type": "code",
   "execution_count": 5,
   "metadata": {},
   "outputs": [
    {
     "name": "stdout",
     "output_type": "stream",
     "text": [
      "reflection_node: 1 at lv up: 2\n",
      "generate cos sim, ecul dist, and nodes sorted by cos sim\n",
      "[{'id': 31, 'cos_sim': np.float64(-0.8026687943382783), 'euclide_dist': np.float64(0.9670758213936325), 'r_ratio': 0.16091954022988506, 'cluster_type': 'neighbour'}, {'id': 22, 'cos_sim': np.float64(-0.6486948983454219), 'euclide_dist': np.float64(0.9487837025070984), 'r_ratio': 0.47126436781609193, 'cluster_type': 'neighbour'}, {'id': 28, 'cos_sim': np.float64(-0.60622642122257), 'euclide_dist': np.float64(0.9006064328884846), 'r_ratio': 0.2988505747126437, 'cluster_type': 'neighbour'}, {'id': 29, 'cos_sim': np.float64(-0.5703066279358983), 'euclide_dist': np.float64(1.1440028796439536), 'r_ratio': 0.05747126436781609, 'cluster_type': 'neighbour'}, {'id': 25, 'cos_sim': np.float64(-0.5499337677339663), 'euclide_dist': np.float64(0.7535317896563434), 'r_ratio': 0.2413793103448276, 'cluster_type': 'neighbour'}, {'id': 27, 'cos_sim': np.float64(-0.5099567531398856), 'euclide_dist': np.float64(0.8027512371395716), 'r_ratio': 0.13793103448275862, 'cluster_type': 'neighbour'}, {'id': 30, 'cos_sim': np.float64(-0.4549517387246737), 'euclide_dist': np.float64(0.9122393263497314), 'r_ratio': 0.06896551724137931, 'cluster_type': 'neighbour'}, {'id': 26, 'cos_sim': np.float64(-0.45418281135300487), 'euclide_dist': np.float64(0.9122509449812872), 'r_ratio': 0.1839080459770115, 'cluster_type': 'neighbour'}, {'id': 6, 'cos_sim': np.float64(-0.4469573371735172), 'euclide_dist': np.float64(1.3073387171338375), 'r_ratio': 0.40229885057471265, 'cluster_type': 'neighbour'}, {'id': 19, 'cos_sim': np.float64(-0.26451024515242805), 'euclide_dist': np.float64(0.9357457497186246), 'r_ratio': 0.26436781609195403, 'cluster_type': 'neighbour'}, {'id': 24, 'cos_sim': np.float64(-0.13744538575441437), 'euclide_dist': np.float64(0.6546634851854636), 'r_ratio': 0.2988505747126437, 'cluster_type': 'neighbour'}, {'id': 16, 'cos_sim': np.float64(-0.12264947807782754), 'euclide_dist': np.float64(0.6396058723789214), 'r_ratio': 0.8045977011494253, 'cluster_type': 'neighbour'}, {'id': 23, 'cos_sim': np.float64(-0.08779268943490638), 'euclide_dist': np.float64(0.723749061352033), 'r_ratio': 0.9425287356321839, 'cluster_type': 'neighbour'}, {'id': 32, 'cos_sim': np.float64(-0.024038878551337965), 'euclide_dist': np.float64(0.5980320836988628), 'r_ratio': 0.19540229885057472, 'cluster_type': 'neighbour'}, {'id': 21, 'cos_sim': np.float64(0.14871118769790295), 'euclide_dist': np.float64(0.8017976817233625), 'r_ratio': 0.2413793103448276, 'cluster_type': 'neighbour'}, {'id': 15, 'cos_sim': np.float64(0.2526919673945555), 'euclide_dist': np.float64(0.528005737369058), 'r_ratio': 1.0574712643678161, 'cluster_type': 'neighbour'}, {'id': 20, 'cos_sim': np.float64(0.2919388709769626), 'euclide_dist': np.float64(0.7521846572584328), 'r_ratio': 0.25287356321839083, 'cluster_type': 'neighbour'}, {'id': 18, 'cos_sim': np.float64(0.48090247191296287), 'euclide_dist': np.float64(0.4676587419015632), 'r_ratio': 1.1839080459770115, 'cluster_type': 'neighbour'}, {'id': 17, 'cos_sim': np.float64(1.0), 'euclide_dist': np.float64(0.0), 'r_ratio': 1.0, 'cluster_type': 'center'}]\n",
      "[{'id': 4, 'r_ratio': 2.1839080459770117, 'dy': 0, 'dx': 0, 'cluster_type': 'parent'}, {'id': 61, 'r_ratio': 0.5287356321839081, 'dy': 0, 'dx': -0.0, 'cluster_type': 'child'}, {'id': 62, 'r_ratio': 0.47126436781609193, 'dy': 1, 'dx': 0.5, 'cluster_type': 'child'}]\n"
     ]
    }
   ],
   "source": [
    "sliders_data = [{\"id\": gt.attr_name[i], \"min\": gt.X_maxmin[1][i], \"max\": gt.X_maxmin[0][i], \"value\": gt.nodes[0].center[i], \"type\": \"f\"} for i in range(len(gt.attr_name))]\n",
    "# print(sliders_data)\n",
    "\n",
    "recom_data = [{\"i\": i, \"id\": gt.attr_name[i], \"max_val\": gt.recom[i][0].center[i], \"min_val\": gt.recom[i][1].center[i]} for i in range(len(gt.attr_name))]\n",
    "# print(recom_data)\n",
    "\n",
    "graph_tree_horizontal_data, graph_tree_vertical_data = gt.get_graph_tree_svg_data(node_id = 17)\n",
    "\n",
    "tree_data = {\n",
    "        \"name\": \"Root\",\n",
    "        \"children\": [\n",
    "            {\n",
    "                \"name\": \"Child 1\",\n",
    "                \"children\": [\n",
    "                    {\"name\": \"Grandchild 1\"},\n",
    "                    {\"name\": \"Grandchild 2\"}\n",
    "                ]\n",
    "            },\n",
    "            {\n",
    "                \"name\": \"Child 2\",\n",
    "                \"children\": [\n",
    "                    {\"name\": \"Grandchild 3\"},\n",
    "                    {\"name\": \"Grandchild 4\"}\n",
    "                ]\n",
    "            }\n",
    "        ]\n",
    "    }"
   ]
  },
  {
   "cell_type": "code",
   "execution_count": 3,
   "metadata": {},
   "outputs": [
    {
     "name": "stdout",
     "output_type": "stream",
     "text": [
      " * Serving Flask app '__main__'\n",
      " * Debug mode: off\n"
     ]
    },
    {
     "name": "stderr",
     "output_type": "stream",
     "text": [
      "WARNING: This is a development server. Do not use it in a production deployment. Use a production WSGI server instead.\n",
      " * Running on http://127.0.0.1:8123\n",
      "Press CTRL+C to quit\n",
      "127.0.0.1 - - [10/Oct/2024 01:14:42] \"GET / HTTP/1.1\" 200 -\n",
      "127.0.0.1 - - [10/Oct/2024 01:14:42] \"GET /static/styles.css HTTP/1.1\" 200 -\n",
      "127.0.0.1 - - [10/Oct/2024 01:14:42] \"GET /static/graph_tree_shared_variable.js HTTP/1.1\" 304 -\n",
      "127.0.0.1 - - [10/Oct/2024 01:14:43] \"GET /static/curve_axis.js HTTP/1.1\" 304 -\n",
      "127.0.0.1 - - [10/Oct/2024 01:14:43] \"GET /static/graph_tree.js HTTP/1.1\" 200 -\n",
      "127.0.0.1 - - [10/Oct/2024 01:14:43] \"GET /static/scripts.js HTTP/1.1\" 304 -\n",
      "127.0.0.1 - - [10/Oct/2024 01:14:43] \"GET /sliders HTTP/1.1\" 200 -\n",
      "127.0.0.1 - - [10/Oct/2024 01:14:43] \"GET /recom HTTP/1.1\" 200 -\n",
      "127.0.0.1 - - [10/Oct/2024 01:14:43] \"GET /graph_tree_data HTTP/1.1\" 200 -\n",
      "127.0.0.1 - - [10/Oct/2024 01:14:43] \"GET /tree_data HTTP/1.1\" 200 -\n",
      "127.0.0.1 - - [10/Oct/2024 01:16:39] \"GET / HTTP/1.1\" 200 -\n",
      "127.0.0.1 - - [10/Oct/2024 01:16:39] \"GET /static/styles.css HTTP/1.1\" 304 -\n",
      "127.0.0.1 - - [10/Oct/2024 01:16:39] \"GET /static/graph_tree_shared_variable.js HTTP/1.1\" 304 -\n",
      "127.0.0.1 - - [10/Oct/2024 01:16:39] \"GET /static/curve_axis.js HTTP/1.1\" 304 -\n",
      "127.0.0.1 - - [10/Oct/2024 01:16:39] \"GET /static/scripts.js HTTP/1.1\" 304 -\n",
      "127.0.0.1 - - [10/Oct/2024 01:16:39] \"GET /static/graph_tree.js HTTP/1.1\" 200 -\n",
      "127.0.0.1 - - [10/Oct/2024 01:16:39] \"GET /sliders HTTP/1.1\" 200 -\n",
      "127.0.0.1 - - [10/Oct/2024 01:16:39] \"GET /recom HTTP/1.1\" 200 -\n",
      "127.0.0.1 - - [10/Oct/2024 01:16:39] \"GET /graph_tree_data HTTP/1.1\" 200 -\n",
      "127.0.0.1 - - [10/Oct/2024 01:16:39] \"GET /tree_data HTTP/1.1\" 200 -\n",
      "127.0.0.1 - - [10/Oct/2024 01:17:00] \"GET / HTTP/1.1\" 200 -\n",
      "127.0.0.1 - - [10/Oct/2024 01:17:00] \"GET /static/styles.css HTTP/1.1\" 304 -\n",
      "127.0.0.1 - - [10/Oct/2024 01:17:00] \"GET /static/graph_tree_shared_variable.js HTTP/1.1\" 304 -\n",
      "127.0.0.1 - - [10/Oct/2024 01:17:00] \"GET /static/curve_axis.js HTTP/1.1\" 304 -\n",
      "127.0.0.1 - - [10/Oct/2024 01:17:00] \"GET /static/scripts.js HTTP/1.1\" 304 -\n",
      "127.0.0.1 - - [10/Oct/2024 01:17:00] \"GET /static/graph_tree.js HTTP/1.1\" 200 -\n",
      "127.0.0.1 - - [10/Oct/2024 01:17:00] \"GET /sliders HTTP/1.1\" 200 -\n",
      "127.0.0.1 - - [10/Oct/2024 01:17:00] \"GET /recom HTTP/1.1\" 200 -\n",
      "127.0.0.1 - - [10/Oct/2024 01:17:00] \"GET /graph_tree_data HTTP/1.1\" 200 -\n",
      "127.0.0.1 - - [10/Oct/2024 01:17:00] \"GET /tree_data HTTP/1.1\" 200 -\n",
      "127.0.0.1 - - [10/Oct/2024 01:17:25] \"GET / HTTP/1.1\" 200 -\n",
      "127.0.0.1 - - [10/Oct/2024 01:17:25] \"GET /static/styles.css HTTP/1.1\" 304 -\n",
      "127.0.0.1 - - [10/Oct/2024 01:17:25] \"GET /static/graph_tree_shared_variable.js HTTP/1.1\" 304 -\n",
      "127.0.0.1 - - [10/Oct/2024 01:17:25] \"GET /static/curve_axis.js HTTP/1.1\" 304 -\n",
      "127.0.0.1 - - [10/Oct/2024 01:17:25] \"GET /static/scripts.js HTTP/1.1\" 304 -\n",
      "127.0.0.1 - - [10/Oct/2024 01:17:25] \"GET /static/graph_tree.js HTTP/1.1\" 200 -\n",
      "127.0.0.1 - - [10/Oct/2024 01:17:25] \"GET /sliders HTTP/1.1\" 200 -\n",
      "127.0.0.1 - - [10/Oct/2024 01:17:25] \"GET /recom HTTP/1.1\" 200 -\n",
      "127.0.0.1 - - [10/Oct/2024 01:17:25] \"GET /graph_tree_data HTTP/1.1\" 200 -\n",
      "127.0.0.1 - - [10/Oct/2024 01:17:25] \"GET /tree_data HTTP/1.1\" 200 -\n",
      "127.0.0.1 - - [10/Oct/2024 01:19:08] \"GET / HTTP/1.1\" 200 -\n",
      "127.0.0.1 - - [10/Oct/2024 01:19:08] \"GET /static/styles.css HTTP/1.1\" 304 -\n",
      "127.0.0.1 - - [10/Oct/2024 01:19:09] \"GET /static/graph_tree_shared_variable.js HTTP/1.1\" 304 -\n",
      "127.0.0.1 - - [10/Oct/2024 01:19:09] \"GET /static/graph_tree.js HTTP/1.1\" 304 -\n",
      "127.0.0.1 - - [10/Oct/2024 01:19:09] \"GET /static/curve_axis.js HTTP/1.1\" 304 -\n",
      "127.0.0.1 - - [10/Oct/2024 01:19:09] \"GET /static/scripts.js HTTP/1.1\" 200 -\n",
      "127.0.0.1 - - [10/Oct/2024 01:19:09] \"GET /sliders HTTP/1.1\" 200 -\n",
      "127.0.0.1 - - [10/Oct/2024 01:19:09] \"GET /recom HTTP/1.1\" 200 -\n",
      "127.0.0.1 - - [10/Oct/2024 01:19:09] \"GET /graph_tree_data HTTP/1.1\" 200 -\n",
      "127.0.0.1 - - [10/Oct/2024 01:19:09] \"GET /tree_data HTTP/1.1\" 200 -\n",
      "127.0.0.1 - - [10/Oct/2024 01:19:22] \"POST /graph_tree_circle_click HTTP/1.1\" 200 -\n"
     ]
    },
    {
     "name": "stdout",
     "output_type": "stream",
     "text": [
      "18\n",
      "reflection_node: 1 at lv up: 2\n",
      "generate cos sim, ecul dist, and nodes sorted by cos sim\n",
      "[{'id': 22, 'cos_sim': np.float64(-0.5999011212981619), 'euclide_dist': np.float64(0.9791647537797956), 'r_ratio': 0.39805825242718446, 'cluster_type': 'neighbour'}, {'id': 16, 'cos_sim': np.float64(-0.5755523168344743), 'euclide_dist': np.float64(0.8035952397386502), 'r_ratio': 0.6796116504854369, 'cluster_type': 'neighbour'}, {'id': 19, 'cos_sim': np.float64(-0.44664913659814004), 'euclide_dist': np.float64(1.0340637353461735), 'r_ratio': 0.22330097087378642, 'cluster_type': 'neighbour'}, {'id': 6, 'cos_sim': np.float64(-0.42804918166350847), 'euclide_dist': np.float64(1.3360289186237393), 'r_ratio': 0.33980582524271846, 'cluster_type': 'neighbour'}, {'id': 15, 'cos_sim': np.float64(-0.3705989146260198), 'euclide_dist': np.float64(0.7579575855032028), 'r_ratio': 0.8932038834951457, 'cluster_type': 'neighbour'}, {'id': 30, 'cos_sim': np.float64(-0.36078178471716427), 'euclide_dist': np.float64(0.9224945933505727), 'r_ratio': 0.05825242718446602, 'cluster_type': 'neighbour'}, {'id': 20, 'cos_sim': np.float64(-0.3408712772403869), 'euclide_dist': np.float64(1.025184740538166), 'r_ratio': 0.21359223300970873, 'cluster_type': 'neighbour'}, {'id': 31, 'cos_sim': np.float64(-0.2199597213817361), 'euclide_dist': np.float64(0.8370366816389289), 'r_ratio': 0.13592233009708737, 'cluster_type': 'neighbour'}, {'id': 28, 'cos_sim': np.float64(-0.1357235590728922), 'euclide_dist': np.float64(0.7962107332288157), 'r_ratio': 0.2524271844660194, 'cluster_type': 'neighbour'}, {'id': 29, 'cos_sim': np.float64(-0.08984566487962181), 'euclide_dist': np.float64(1.007159300948507), 'r_ratio': 0.04854368932038835, 'cluster_type': 'neighbour'}, {'id': 27, 'cos_sim': np.float64(-0.06110821408248549), 'euclide_dist': np.float64(0.7097882330366457), 'r_ratio': 0.11650485436893204, 'cluster_type': 'neighbour'}, {'id': 25, 'cos_sim': np.float64(-0.0540085072834463), 'euclide_dist': np.float64(0.6597515670315874), 'r_ratio': 0.20388349514563106, 'cluster_type': 'neighbour'}, {'id': 26, 'cos_sim': np.float64(0.04336538605460243), 'euclide_dist': np.float64(0.7779084164198504), 'r_ratio': 0.1553398058252427, 'cluster_type': 'neighbour'}, {'id': 23, 'cos_sim': np.float64(0.05866874787630979), 'euclide_dist': np.float64(0.7060593854526106), 'r_ratio': 0.7961165048543689, 'cluster_type': 'neighbour'}, {'id': 21, 'cos_sim': np.float64(0.14348791814869835), 'euclide_dist': np.float64(0.8258883891402661), 'r_ratio': 0.20388349514563106, 'cluster_type': 'neighbour'}, {'id': 32, 'cos_sim': np.float64(0.33064743541507957), 'euclide_dist': np.float64(0.5168485300622571), 'r_ratio': 0.1650485436893204, 'cluster_type': 'neighbour'}, {'id': 17, 'cos_sim': np.float64(0.48090247191296287), 'euclide_dist': np.float64(0.4676587419015632), 'r_ratio': 0.8446601941747572, 'cluster_type': 'neighbour'}, {'id': 24, 'cos_sim': np.float64(0.5978513520461405), 'euclide_dist': np.float64(0.4142400594013935), 'r_ratio': 0.2524271844660194, 'cluster_type': 'neighbour'}, {'id': 18, 'cos_sim': np.float64(1.0000000000000002), 'euclide_dist': np.float64(0.0), 'r_ratio': 1.0, 'cluster_type': 'center'}]\n",
      "[{'id': 4, 'r_ratio': 1.8446601941747574, 'dy': 0, 'dx': 0, 'cluster_type': 'parent'}, {'id': 63, 'r_ratio': 0.5436893203883495, 'dy': 0, 'dx': -0.0, 'cluster_type': 'child'}, {'id': 64, 'r_ratio': 0.4563106796116505, 'dy': 1, 'dx': 0.5, 'cluster_type': 'child'}]\n"
     ]
    },
    {
     "name": "stderr",
     "output_type": "stream",
     "text": [
      "127.0.0.1 - - [10/Oct/2024 01:19:24] \"POST /graph_tree_circle_click HTTP/1.1\" 200 -\n"
     ]
    },
    {
     "name": "stdout",
     "output_type": "stream",
     "text": [
      "32\n",
      "reflection_node: 1 at lv up: 2\n",
      "generate cos sim, ecul dist, and nodes sorted by cos sim\n",
      "[{'id': 6, 'cos_sim': np.float64(-0.7241036336214858), 'euclide_dist': np.float64(1.3773170692198125), 'r_ratio': 2.0588235294117645, 'cluster_type': 'neighbour'}, {'id': 23, 'cos_sim': np.float64(-0.5057595143383901), 'euclide_dist': np.float64(0.8259819112598914), 'r_ratio': 4.823529411764706, 'cluster_type': 'neighbour'}, {'id': 20, 'cos_sim': np.float64(-0.4549165319398819), 'euclide_dist': np.float64(1.0052462157932591), 'r_ratio': 1.2941176470588236, 'cluster_type': 'neighbour'}, {'id': 22, 'cos_sim': np.float64(-0.4441102447385581), 'euclide_dist': np.float64(0.8687870333204135), 'r_ratio': 2.411764705882353, 'cluster_type': 'neighbour'}, {'id': 19, 'cos_sim': np.float64(-0.1574327294526584), 'euclide_dist': np.float64(0.8829778638831145), 'r_ratio': 1.3529411764705883, 'cluster_type': 'neighbour'}, {'id': 21, 'cos_sim': np.float64(-0.15482225306165306), 'euclide_dist': np.float64(0.8990638778059076), 'r_ratio': 1.2352941176470589, 'cluster_type': 'neighbour'}, {'id': 17, 'cos_sim': np.float64(-0.024038878551337965), 'euclide_dist': np.float64(0.5980320836988628), 'r_ratio': 5.117647058823529, 'cluster_type': 'neighbour'}, {'id': 16, 'cos_sim': np.float64(0.0711024790953264), 'euclide_dist': np.float64(0.5632962511382218), 'r_ratio': 4.117647058823529, 'cluster_type': 'neighbour'}, {'id': 31, 'cos_sim': np.float64(0.20268745259895712), 'euclide_dist': np.float64(0.6408139005402007), 'r_ratio': 0.8235294117647058, 'cluster_type': 'neighbour'}, {'id': 25, 'cos_sim': np.float64(0.28991324042518235), 'euclide_dist': np.float64(0.4940129061087535), 'r_ratio': 1.2352941176470589, 'cluster_type': 'neighbour'}, {'id': 18, 'cos_sim': np.float64(0.33064743541507957), 'euclide_dist': np.float64(0.5168485300622571), 'r_ratio': 6.0588235294117645, 'cluster_type': 'neighbour'}, {'id': 30, 'cos_sim': np.float64(0.3454422434305502), 'euclide_dist': np.float64(0.6208342599517006), 'r_ratio': 0.35294117647058826, 'cluster_type': 'neighbour'}, {'id': 29, 'cos_sim': np.float64(0.39733572609539963), 'euclide_dist': np.float64(0.7755784312556898), 'r_ratio': 0.29411764705882354, 'cluster_type': 'neighbour'}, {'id': 15, 'cos_sim': np.float64(0.4066044958470099), 'euclide_dist': np.float64(0.45622768766091587), 'r_ratio': 5.411764705882353, 'cluster_type': 'neighbour'}, {'id': 26, 'cos_sim': np.float64(0.5341301304326892), 'euclide_dist': np.float64(0.5379845830878544), 'r_ratio': 0.9411764705882353, 'cluster_type': 'neighbour'}, {'id': 27, 'cos_sim': np.float64(0.5496942432916098), 'euclide_dist': np.float64(0.4320828050702664), 'r_ratio': 0.7058823529411765, 'cluster_type': 'neighbour'}, {'id': 28, 'cos_sim': np.float64(0.6170505405512801), 'euclide_dist': np.float64(0.45245244060403744), 'r_ratio': 1.5294117647058822, 'cluster_type': 'neighbour'}, {'id': 24, 'cos_sim': np.float64(0.6471816647749299), 'euclide_dist': np.float64(0.3543660437080281), 'r_ratio': 1.5294117647058822, 'cluster_type': 'neighbour'}, {'id': 32, 'cos_sim': np.float64(1.0), 'euclide_dist': np.float64(0.0), 'r_ratio': 1.0, 'cluster_type': 'center'}]\n",
      "[{'id': 8, 'r_ratio': 8.411764705882353, 'dy': 0, 'dx': 0, 'cluster_type': 'parent'}]\n"
     ]
    },
    {
     "name": "stderr",
     "output_type": "stream",
     "text": [
      "127.0.0.1 - - [10/Oct/2024 01:19:27] \"POST /graph_tree_circle_click HTTP/1.1\" 200 -\n"
     ]
    },
    {
     "name": "stdout",
     "output_type": "stream",
     "text": [
      "18\n",
      "reflection_node: 1 at lv up: 2\n",
      "generate cos sim, ecul dist, and nodes sorted by cos sim\n",
      "[{'id': 22, 'cos_sim': np.float64(-0.5999011212981619), 'euclide_dist': np.float64(0.9791647537797956), 'r_ratio': 0.39805825242718446, 'cluster_type': 'neighbour'}, {'id': 16, 'cos_sim': np.float64(-0.5755523168344743), 'euclide_dist': np.float64(0.8035952397386502), 'r_ratio': 0.6796116504854369, 'cluster_type': 'neighbour'}, {'id': 19, 'cos_sim': np.float64(-0.44664913659814004), 'euclide_dist': np.float64(1.0340637353461735), 'r_ratio': 0.22330097087378642, 'cluster_type': 'neighbour'}, {'id': 6, 'cos_sim': np.float64(-0.42804918166350847), 'euclide_dist': np.float64(1.3360289186237393), 'r_ratio': 0.33980582524271846, 'cluster_type': 'neighbour'}, {'id': 15, 'cos_sim': np.float64(-0.3705989146260198), 'euclide_dist': np.float64(0.7579575855032028), 'r_ratio': 0.8932038834951457, 'cluster_type': 'neighbour'}, {'id': 30, 'cos_sim': np.float64(-0.36078178471716427), 'euclide_dist': np.float64(0.9224945933505727), 'r_ratio': 0.05825242718446602, 'cluster_type': 'neighbour'}, {'id': 20, 'cos_sim': np.float64(-0.3408712772403869), 'euclide_dist': np.float64(1.025184740538166), 'r_ratio': 0.21359223300970873, 'cluster_type': 'neighbour'}, {'id': 31, 'cos_sim': np.float64(-0.2199597213817361), 'euclide_dist': np.float64(0.8370366816389289), 'r_ratio': 0.13592233009708737, 'cluster_type': 'neighbour'}, {'id': 28, 'cos_sim': np.float64(-0.1357235590728922), 'euclide_dist': np.float64(0.7962107332288157), 'r_ratio': 0.2524271844660194, 'cluster_type': 'neighbour'}, {'id': 29, 'cos_sim': np.float64(-0.08984566487962181), 'euclide_dist': np.float64(1.007159300948507), 'r_ratio': 0.04854368932038835, 'cluster_type': 'neighbour'}, {'id': 27, 'cos_sim': np.float64(-0.06110821408248549), 'euclide_dist': np.float64(0.7097882330366457), 'r_ratio': 0.11650485436893204, 'cluster_type': 'neighbour'}, {'id': 25, 'cos_sim': np.float64(-0.0540085072834463), 'euclide_dist': np.float64(0.6597515670315874), 'r_ratio': 0.20388349514563106, 'cluster_type': 'neighbour'}, {'id': 26, 'cos_sim': np.float64(0.04336538605460243), 'euclide_dist': np.float64(0.7779084164198504), 'r_ratio': 0.1553398058252427, 'cluster_type': 'neighbour'}, {'id': 23, 'cos_sim': np.float64(0.05866874787630979), 'euclide_dist': np.float64(0.7060593854526106), 'r_ratio': 0.7961165048543689, 'cluster_type': 'neighbour'}, {'id': 21, 'cos_sim': np.float64(0.14348791814869835), 'euclide_dist': np.float64(0.8258883891402661), 'r_ratio': 0.20388349514563106, 'cluster_type': 'neighbour'}, {'id': 32, 'cos_sim': np.float64(0.33064743541507957), 'euclide_dist': np.float64(0.5168485300622571), 'r_ratio': 0.1650485436893204, 'cluster_type': 'neighbour'}, {'id': 17, 'cos_sim': np.float64(0.48090247191296287), 'euclide_dist': np.float64(0.4676587419015632), 'r_ratio': 0.8446601941747572, 'cluster_type': 'neighbour'}, {'id': 24, 'cos_sim': np.float64(0.5978513520461405), 'euclide_dist': np.float64(0.4142400594013935), 'r_ratio': 0.2524271844660194, 'cluster_type': 'neighbour'}, {'id': 18, 'cos_sim': np.float64(1.0000000000000002), 'euclide_dist': np.float64(0.0), 'r_ratio': 1.0, 'cluster_type': 'center'}]\n",
      "[{'id': 4, 'r_ratio': 1.8446601941747574, 'dy': 0, 'dx': 0, 'cluster_type': 'parent'}, {'id': 63, 'r_ratio': 0.5436893203883495, 'dy': 0, 'dx': -0.0, 'cluster_type': 'child'}, {'id': 64, 'r_ratio': 0.4563106796116505, 'dy': 1, 'dx': 0.5, 'cluster_type': 'child'}]\n"
     ]
    },
    {
     "name": "stderr",
     "output_type": "stream",
     "text": [
      "127.0.0.1 - - [10/Oct/2024 01:19:29] \"POST /graph_tree_circle_click HTTP/1.1\" 200 -\n"
     ]
    },
    {
     "name": "stdout",
     "output_type": "stream",
     "text": [
      "25\n",
      "reflection_node: 1 at lv up: 2\n",
      "generate cos sim, ecul dist, and nodes sorted by cos sim\n",
      "[{'id': 20, 'cos_sim': np.float64(-0.5633555968480095), 'euclide_dist': np.float64(1.0541845777139194), 'r_ratio': 1.0476190476190477, 'cluster_type': 'neighbour'}, {'id': 17, 'cos_sim': np.float64(-0.5499337677339663), 'euclide_dist': np.float64(0.7535317896563434), 'r_ratio': 4.142857142857143, 'cluster_type': 'neighbour'}, {'id': 21, 'cos_sim': np.float64(-0.4423427930710003), 'euclide_dist': np.float64(1.0057830726904347), 'r_ratio': 1.0, 'cluster_type': 'neighbour'}, {'id': 23, 'cos_sim': np.float64(-0.20850758144575834), 'euclide_dist': np.float64(0.7571292503473986), 'r_ratio': 3.9047619047619047, 'cluster_type': 'neighbour'}, {'id': 6, 'cos_sim': np.float64(-0.16679834029279364), 'euclide_dist': np.float64(1.2023813210252583), 'r_ratio': 1.6666666666666667, 'cluster_type': 'neighbour'}, {'id': 15, 'cos_sim': np.float64(-0.14372367947149775), 'euclide_dist': np.float64(0.6481445291703153), 'r_ratio': 4.380952380952381, 'cluster_type': 'neighbour'}, {'id': 19, 'cos_sim': np.float64(-0.06823587208173786), 'euclide_dist': np.float64(0.8640596331894541), 'r_ratio': 1.0952380952380953, 'cluster_type': 'neighbour'}, {'id': 18, 'cos_sim': np.float64(-0.0540085072834463), 'euclide_dist': np.float64(0.6597515670315874), 'r_ratio': 4.904761904761905, 'cluster_type': 'neighbour'}, {'id': 27, 'cos_sim': np.float64(0.1393350542242449), 'euclide_dist': np.float64(0.6033710880379141), 'r_ratio': 0.5714285714285714, 'cluster_type': 'neighbour'}, {'id': 32, 'cos_sim': np.float64(0.28991324042518235), 'euclide_dist': np.float64(0.4940129061087535), 'r_ratio': 0.8095238095238095, 'cluster_type': 'neighbour'}, {'id': 22, 'cos_sim': np.float64(0.2967772232709625), 'euclide_dist': np.float64(0.6316853917231164), 'r_ratio': 1.9523809523809523, 'cluster_type': 'neighbour'}, {'id': 29, 'cos_sim': np.float64(0.3082268985262763), 'euclide_dist': np.float64(0.8176289034255619), 'r_ratio': 0.23809523809523808, 'cluster_type': 'neighbour'}, {'id': 31, 'cos_sim': np.float64(0.44992971975986995), 'euclide_dist': np.float64(0.5475344751483243), 'r_ratio': 0.6666666666666666, 'cluster_type': 'neighbour'}, {'id': 30, 'cos_sim': np.float64(0.4616547971387586), 'euclide_dist': np.float64(0.5755347281642398), 'r_ratio': 0.2857142857142857, 'cluster_type': 'neighbour'}, {'id': 16, 'cos_sim': np.float64(0.4622108178264992), 'euclide_dist': np.float64(0.4391885620683006), 'r_ratio': 3.3333333333333335, 'cluster_type': 'neighbour'}, {'id': 24, 'cos_sim': np.float64(0.47550477338375724), 'euclide_dist': np.float64(0.44122950096798413), 'r_ratio': 1.2380952380952381, 'cluster_type': 'neighbour'}, {'id': 28, 'cos_sim': np.float64(0.6623873128298302), 'euclide_dist': np.float64(0.43043162587958056), 'r_ratio': 1.2380952380952381, 'cluster_type': 'neighbour'}, {'id': 26, 'cos_sim': np.float64(0.7042616668870947), 'euclide_dist': np.float64(0.44874400948491994), 'r_ratio': 0.7619047619047619, 'cluster_type': 'neighbour'}, {'id': 25, 'cos_sim': np.float64(0.9999999999999999), 'euclide_dist': np.float64(0.0), 'r_ratio': 1.0, 'cluster_type': 'center'}]\n",
      "[{'id': 8, 'r_ratio': 6.809523809523809, 'dy': 0, 'dx': 0, 'cluster_type': 'parent'}]\n"
     ]
    },
    {
     "name": "stderr",
     "output_type": "stream",
     "text": [
      "127.0.0.1 - - [10/Oct/2024 01:19:32] \"POST /graph_tree_circle_click HTTP/1.1\" 200 -\n"
     ]
    },
    {
     "name": "stdout",
     "output_type": "stream",
     "text": [
      "16\n",
      "reflection_node: 1 at lv up: 2\n",
      "generate cos sim, ecul dist, and nodes sorted by cos sim\n",
      "[{'id': 18, 'cos_sim': np.float64(-0.5755523168344743), 'euclide_dist': np.float64(0.8035952397386502), 'r_ratio': 1.4714285714285715, 'cluster_type': 'neighbour'}, {'id': 21, 'cos_sim': np.float64(-0.4791538267295451), 'euclide_dist': np.float64(1.0154997843986724), 'r_ratio': 0.3, 'cluster_type': 'neighbour'}, {'id': 23, 'cos_sim': np.float64(-0.47174492195640827), 'euclide_dist': np.float64(0.831771797565834), 'r_ratio': 1.1714285714285715, 'cluster_type': 'neighbour'}, {'id': 6, 'cos_sim': np.float64(-0.26896811660847436), 'euclide_dist': np.float64(1.238594290957152), 'r_ratio': 0.5, 'cluster_type': 'neighbour'}, {'id': 27, 'cos_sim': np.float64(-0.2114062464791594), 'euclide_dist': np.float64(0.7128433332564057), 'r_ratio': 0.17142857142857143, 'cluster_type': 'neighbour'}, {'id': 24, 'cos_sim': np.float64(-0.19238211026425456), 'euclide_dist': np.float64(0.6633759032487465), 'r_ratio': 0.37142857142857144, 'cluster_type': 'neighbour'}, {'id': 17, 'cos_sim': np.float64(-0.12264947807782754), 'euclide_dist': np.float64(0.6396058723789214), 'r_ratio': 1.2428571428571429, 'cluster_type': 'neighbour'}, {'id': 20, 'cos_sim': np.float64(-0.0404014525747863), 'euclide_dist': np.float64(0.8797495052704711), 'r_ratio': 0.3142857142857143, 'cluster_type': 'neighbour'}, {'id': 29, 'cos_sim': np.float64(-0.012377440806048454), 'euclide_dist': np.float64(0.9464172983008188), 'r_ratio': 0.07142857142857142, 'cluster_type': 'neighbour'}, {'id': 32, 'cos_sim': np.float64(0.0711024790953264), 'euclide_dist': np.float64(0.5632962511382218), 'r_ratio': 0.24285714285714285, 'cluster_type': 'neighbour'}, {'id': 31, 'cos_sim': np.float64(0.0999930348688301), 'euclide_dist': np.float64(0.6872151914450806), 'r_ratio': 0.2, 'cluster_type': 'neighbour'}, {'id': 19, 'cos_sim': np.float64(0.15265239892871163), 'euclide_dist': np.float64(0.7805917471560612), 'r_ratio': 0.32857142857142857, 'cluster_type': 'neighbour'}, {'id': 22, 'cos_sim': np.float64(0.223631870803192), 'euclide_dist': np.float64(0.6600156586005946), 'r_ratio': 0.5857142857142857, 'cluster_type': 'neighbour'}, {'id': 28, 'cos_sim': np.float64(0.321219111441764), 'euclide_dist': np.float64(0.5913297549055095), 'r_ratio': 0.37142857142857144, 'cluster_type': 'neighbour'}, {'id': 30, 'cos_sim': np.float64(0.39869877880909554), 'euclide_dist': np.float64(0.6034862650974535), 'r_ratio': 0.08571428571428572, 'cluster_type': 'neighbour'}, {'id': 25, 'cos_sim': np.float64(0.4622108178264992), 'euclide_dist': np.float64(0.4391885620683006), 'r_ratio': 0.3, 'cluster_type': 'neighbour'}, {'id': 26, 'cos_sim': np.float64(0.4861045997807609), 'euclide_dist': np.float64(0.5637585403654504), 'r_ratio': 0.22857142857142856, 'cluster_type': 'neighbour'}, {'id': 15, 'cos_sim': np.float64(0.5410417150541238), 'euclide_dist': np.float64(0.4095607249763128), 'r_ratio': 1.3142857142857143, 'cluster_type': 'neighbour'}, {'id': 16, 'cos_sim': np.float64(1.0), 'euclide_dist': np.float64(0.0), 'r_ratio': 1.0, 'cluster_type': 'center'}]\n",
      "[{'id': 3, 'r_ratio': 2.3142857142857145, 'dy': 0, 'dx': 0, 'cluster_type': 'parent'}, {'id': 51, 'r_ratio': 0.07142857142857142, 'dy': 0, 'dx': -0.0, 'cluster_type': 'child'}, {'id': 52, 'r_ratio': 0.11428571428571428, 'dy': 1, 'dx': 0.5, 'cluster_type': 'child'}, {'id': 53, 'r_ratio': 0.2, 'dy': 1, 'dx': -0.5, 'cluster_type': 'child'}, {'id': 54, 'r_ratio': 0.07142857142857142, 'dy': 2, 'dx': -0.0, 'cluster_type': 'child'}, {'id': 55, 'r_ratio': 0.11428571428571428, 'dy': 2, 'dx': 1.0, 'cluster_type': 'child'}, {'id': 56, 'r_ratio': 0.04285714285714286, 'dy': 2, 'dx': -1.0, 'cluster_type': 'child'}, {'id': 57, 'r_ratio': 0.1, 'dy': 3, 'dx': 0.5, 'cluster_type': 'child'}, {'id': 58, 'r_ratio': 0.11428571428571428, 'dy': 3, 'dx': -0.5, 'cluster_type': 'child'}, {'id': 59, 'r_ratio': 0.11428571428571428, 'dy': 3, 'dx': 1.5, 'cluster_type': 'child'}, {'id': 60, 'r_ratio': 0.05714285714285714, 'dy': 3, 'dx': -1.5, 'cluster_type': 'child'}]\n"
     ]
    },
    {
     "name": "stderr",
     "output_type": "stream",
     "text": [
      "127.0.0.1 - - [10/Oct/2024 01:19:35] \"POST /graph_tree_circle_click HTTP/1.1\" 200 -\n"
     ]
    },
    {
     "name": "stdout",
     "output_type": "stream",
     "text": [
      "17\n",
      "reflection_node: 1 at lv up: 2\n",
      "generate cos sim, ecul dist, and nodes sorted by cos sim\n",
      "[{'id': 31, 'cos_sim': np.float64(-0.8026687943382783), 'euclide_dist': np.float64(0.9670758213936325), 'r_ratio': 0.16091954022988506, 'cluster_type': 'neighbour'}, {'id': 22, 'cos_sim': np.float64(-0.6486948983454219), 'euclide_dist': np.float64(0.9487837025070984), 'r_ratio': 0.47126436781609193, 'cluster_type': 'neighbour'}, {'id': 28, 'cos_sim': np.float64(-0.60622642122257), 'euclide_dist': np.float64(0.9006064328884846), 'r_ratio': 0.2988505747126437, 'cluster_type': 'neighbour'}, {'id': 29, 'cos_sim': np.float64(-0.5703066279358983), 'euclide_dist': np.float64(1.1440028796439536), 'r_ratio': 0.05747126436781609, 'cluster_type': 'neighbour'}, {'id': 25, 'cos_sim': np.float64(-0.5499337677339663), 'euclide_dist': np.float64(0.7535317896563434), 'r_ratio': 0.2413793103448276, 'cluster_type': 'neighbour'}, {'id': 27, 'cos_sim': np.float64(-0.5099567531398856), 'euclide_dist': np.float64(0.8027512371395716), 'r_ratio': 0.13793103448275862, 'cluster_type': 'neighbour'}, {'id': 30, 'cos_sim': np.float64(-0.4549517387246737), 'euclide_dist': np.float64(0.9122393263497314), 'r_ratio': 0.06896551724137931, 'cluster_type': 'neighbour'}, {'id': 26, 'cos_sim': np.float64(-0.45418281135300487), 'euclide_dist': np.float64(0.9122509449812872), 'r_ratio': 0.1839080459770115, 'cluster_type': 'neighbour'}, {'id': 6, 'cos_sim': np.float64(-0.4469573371735172), 'euclide_dist': np.float64(1.3073387171338375), 'r_ratio': 0.40229885057471265, 'cluster_type': 'neighbour'}, {'id': 19, 'cos_sim': np.float64(-0.26451024515242805), 'euclide_dist': np.float64(0.9357457497186246), 'r_ratio': 0.26436781609195403, 'cluster_type': 'neighbour'}, {'id': 24, 'cos_sim': np.float64(-0.13744538575441437), 'euclide_dist': np.float64(0.6546634851854636), 'r_ratio': 0.2988505747126437, 'cluster_type': 'neighbour'}, {'id': 16, 'cos_sim': np.float64(-0.12264947807782754), 'euclide_dist': np.float64(0.6396058723789214), 'r_ratio': 0.8045977011494253, 'cluster_type': 'neighbour'}, {'id': 23, 'cos_sim': np.float64(-0.08779268943490638), 'euclide_dist': np.float64(0.723749061352033), 'r_ratio': 0.9425287356321839, 'cluster_type': 'neighbour'}, {'id': 32, 'cos_sim': np.float64(-0.024038878551337965), 'euclide_dist': np.float64(0.5980320836988628), 'r_ratio': 0.19540229885057472, 'cluster_type': 'neighbour'}, {'id': 21, 'cos_sim': np.float64(0.14871118769790295), 'euclide_dist': np.float64(0.8017976817233625), 'r_ratio': 0.2413793103448276, 'cluster_type': 'neighbour'}, {'id': 15, 'cos_sim': np.float64(0.2526919673945555), 'euclide_dist': np.float64(0.528005737369058), 'r_ratio': 1.0574712643678161, 'cluster_type': 'neighbour'}, {'id': 20, 'cos_sim': np.float64(0.2919388709769626), 'euclide_dist': np.float64(0.7521846572584328), 'r_ratio': 0.25287356321839083, 'cluster_type': 'neighbour'}, {'id': 18, 'cos_sim': np.float64(0.48090247191296287), 'euclide_dist': np.float64(0.4676587419015632), 'r_ratio': 1.1839080459770115, 'cluster_type': 'neighbour'}, {'id': 17, 'cos_sim': np.float64(1.0), 'euclide_dist': np.float64(0.0), 'r_ratio': 1.0, 'cluster_type': 'center'}]\n",
      "[{'id': 4, 'r_ratio': 2.1839080459770117, 'dy': 0, 'dx': 0, 'cluster_type': 'parent'}, {'id': 61, 'r_ratio': 0.5287356321839081, 'dy': 0, 'dx': -0.0, 'cluster_type': 'child'}, {'id': 62, 'r_ratio': 0.47126436781609193, 'dy': 1, 'dx': 0.5, 'cluster_type': 'child'}]\n"
     ]
    },
    {
     "name": "stderr",
     "output_type": "stream",
     "text": [
      "127.0.0.1 - - [10/Oct/2024 01:23:40] \"POST /graph_tree_circle_click HTTP/1.1\" 200 -\n"
     ]
    },
    {
     "name": "stdout",
     "output_type": "stream",
     "text": [
      "15\n",
      "reflection_node: 1 at lv up: 2\n",
      "generate cos sim, ecul dist, and nodes sorted by cos sim\n",
      "[{'id': 23, 'cos_sim': np.float64(-0.6476532703234698), 'euclide_dist': np.float64(0.8879948522221652), 'r_ratio': 0.8913043478260869, 'cluster_type': 'neighbour'}, {'id': 6, 'cos_sim': np.float64(-0.5803859599202654), 'euclide_dist': np.float64(1.3538895134902649), 'r_ratio': 0.3804347826086957, 'cluster_type': 'neighbour'}, {'id': 18, 'cos_sim': np.float64(-0.3705989146260198), 'euclide_dist': np.float64(0.7579575855032028), 'r_ratio': 1.1195652173913044, 'cluster_type': 'neighbour'}, {'id': 22, 'cos_sim': np.float64(-0.296414149113913), 'euclide_dist': np.float64(0.8461908932675033), 'r_ratio': 0.44565217391304346, 'cluster_type': 'neighbour'}, {'id': 31, 'cos_sim': np.float64(-0.1524072528309201), 'euclide_dist': np.float64(0.779518553287808), 'r_ratio': 0.15217391304347827, 'cluster_type': 'neighbour'}, {'id': 25, 'cos_sim': np.float64(-0.14372367947149775), 'euclide_dist': np.float64(0.6481445291703153), 'r_ratio': 0.22826086956521738, 'cluster_type': 'neighbour'}, {'id': 21, 'cos_sim': np.float64(-0.12856934139224366), 'euclide_dist': np.float64(0.906522849473695), 'r_ratio': 0.22826086956521738, 'cluster_type': 'neighbour'}, {'id': 24, 'cos_sim': np.float64(-0.056824457416119356), 'euclide_dist': np.float64(0.6318318873080015), 'r_ratio': 0.2826086956521739, 'cluster_type': 'neighbour'}, {'id': 29, 'cos_sim': np.float64(0.02289284235923583), 'euclide_dist': np.float64(0.9374897757581903), 'r_ratio': 0.05434782608695652, 'cluster_type': 'neighbour'}, {'id': 26, 'cos_sim': np.float64(0.06295958841759898), 'euclide_dist': np.float64(0.7425313071230224), 'r_ratio': 0.17391304347826086, 'cluster_type': 'neighbour'}, {'id': 27, 'cos_sim': np.float64(0.06442512818422812), 'euclide_dist': np.float64(0.6336812444271965), 'r_ratio': 0.13043478260869565, 'cluster_type': 'neighbour'}, {'id': 19, 'cos_sim': np.float64(0.1708482389397638), 'euclide_dist': np.float64(0.7773925909214805), 'r_ratio': 0.25, 'cluster_type': 'neighbour'}, {'id': 20, 'cos_sim': np.float64(0.21897489402069886), 'euclide_dist': np.float64(0.7835067396683972), 'r_ratio': 0.2391304347826087, 'cluster_type': 'neighbour'}, {'id': 17, 'cos_sim': np.float64(0.2526919673945555), 'euclide_dist': np.float64(0.528005737369058), 'r_ratio': 0.9456521739130435, 'cluster_type': 'neighbour'}, {'id': 28, 'cos_sim': np.float64(0.28184641054260323), 'euclide_dist': np.float64(0.6116024757859497), 'r_ratio': 0.2826086956521739, 'cluster_type': 'neighbour'}, {'id': 32, 'cos_sim': np.float64(0.4066044958470099), 'euclide_dist': np.float64(0.45622768766091587), 'r_ratio': 0.18478260869565216, 'cluster_type': 'neighbour'}, {'id': 30, 'cos_sim': np.float64(0.41236159316892157), 'euclide_dist': np.float64(0.6002440213926317), 'r_ratio': 0.06521739130434782, 'cluster_type': 'neighbour'}, {'id': 16, 'cos_sim': np.float64(0.5410417150541238), 'euclide_dist': np.float64(0.4095607249763128), 'r_ratio': 0.7608695652173914, 'cluster_type': 'neighbour'}, {'id': 15, 'cos_sim': np.float64(1.0), 'euclide_dist': np.float64(0.0), 'r_ratio': 1.0, 'cluster_type': 'center'}]\n",
      "[{'id': 3, 'r_ratio': 1.7608695652173914, 'dy': 0, 'dx': 0, 'cluster_type': 'parent'}, {'id': 47, 'r_ratio': 0.25, 'dy': 0, 'dx': -0.0, 'cluster_type': 'child'}, {'id': 48, 'r_ratio': 0.32608695652173914, 'dy': 1, 'dx': 0.5, 'cluster_type': 'child'}, {'id': 49, 'r_ratio': 0.2717391304347826, 'dy': 1, 'dx': -0.5, 'cluster_type': 'child'}, {'id': 50, 'r_ratio': 0.15217391304347827, 'dy': 2, 'dx': -0.0, 'cluster_type': 'child'}]\n"
     ]
    },
    {
     "name": "stderr",
     "output_type": "stream",
     "text": [
      "127.0.0.1 - - [10/Oct/2024 01:23:42] \"POST /graph_tree_circle_click HTTP/1.1\" 200 -\n"
     ]
    },
    {
     "name": "stdout",
     "output_type": "stream",
     "text": [
      "17\n",
      "reflection_node: 1 at lv up: 2\n",
      "generate cos sim, ecul dist, and nodes sorted by cos sim\n",
      "[{'id': 31, 'cos_sim': np.float64(-0.8026687943382783), 'euclide_dist': np.float64(0.9670758213936325), 'r_ratio': 0.16091954022988506, 'cluster_type': 'neighbour'}, {'id': 22, 'cos_sim': np.float64(-0.6486948983454219), 'euclide_dist': np.float64(0.9487837025070984), 'r_ratio': 0.47126436781609193, 'cluster_type': 'neighbour'}, {'id': 28, 'cos_sim': np.float64(-0.60622642122257), 'euclide_dist': np.float64(0.9006064328884846), 'r_ratio': 0.2988505747126437, 'cluster_type': 'neighbour'}, {'id': 29, 'cos_sim': np.float64(-0.5703066279358983), 'euclide_dist': np.float64(1.1440028796439536), 'r_ratio': 0.05747126436781609, 'cluster_type': 'neighbour'}, {'id': 25, 'cos_sim': np.float64(-0.5499337677339663), 'euclide_dist': np.float64(0.7535317896563434), 'r_ratio': 0.2413793103448276, 'cluster_type': 'neighbour'}, {'id': 27, 'cos_sim': np.float64(-0.5099567531398856), 'euclide_dist': np.float64(0.8027512371395716), 'r_ratio': 0.13793103448275862, 'cluster_type': 'neighbour'}, {'id': 30, 'cos_sim': np.float64(-0.4549517387246737), 'euclide_dist': np.float64(0.9122393263497314), 'r_ratio': 0.06896551724137931, 'cluster_type': 'neighbour'}, {'id': 26, 'cos_sim': np.float64(-0.45418281135300487), 'euclide_dist': np.float64(0.9122509449812872), 'r_ratio': 0.1839080459770115, 'cluster_type': 'neighbour'}, {'id': 6, 'cos_sim': np.float64(-0.4469573371735172), 'euclide_dist': np.float64(1.3073387171338375), 'r_ratio': 0.40229885057471265, 'cluster_type': 'neighbour'}, {'id': 19, 'cos_sim': np.float64(-0.26451024515242805), 'euclide_dist': np.float64(0.9357457497186246), 'r_ratio': 0.26436781609195403, 'cluster_type': 'neighbour'}, {'id': 24, 'cos_sim': np.float64(-0.13744538575441437), 'euclide_dist': np.float64(0.6546634851854636), 'r_ratio': 0.2988505747126437, 'cluster_type': 'neighbour'}, {'id': 16, 'cos_sim': np.float64(-0.12264947807782754), 'euclide_dist': np.float64(0.6396058723789214), 'r_ratio': 0.8045977011494253, 'cluster_type': 'neighbour'}, {'id': 23, 'cos_sim': np.float64(-0.08779268943490638), 'euclide_dist': np.float64(0.723749061352033), 'r_ratio': 0.9425287356321839, 'cluster_type': 'neighbour'}, {'id': 32, 'cos_sim': np.float64(-0.024038878551337965), 'euclide_dist': np.float64(0.5980320836988628), 'r_ratio': 0.19540229885057472, 'cluster_type': 'neighbour'}, {'id': 21, 'cos_sim': np.float64(0.14871118769790295), 'euclide_dist': np.float64(0.8017976817233625), 'r_ratio': 0.2413793103448276, 'cluster_type': 'neighbour'}, {'id': 15, 'cos_sim': np.float64(0.2526919673945555), 'euclide_dist': np.float64(0.528005737369058), 'r_ratio': 1.0574712643678161, 'cluster_type': 'neighbour'}, {'id': 20, 'cos_sim': np.float64(0.2919388709769626), 'euclide_dist': np.float64(0.7521846572584328), 'r_ratio': 0.25287356321839083, 'cluster_type': 'neighbour'}, {'id': 18, 'cos_sim': np.float64(0.48090247191296287), 'euclide_dist': np.float64(0.4676587419015632), 'r_ratio': 1.1839080459770115, 'cluster_type': 'neighbour'}, {'id': 17, 'cos_sim': np.float64(1.0), 'euclide_dist': np.float64(0.0), 'r_ratio': 1.0, 'cluster_type': 'center'}]\n",
      "[{'id': 4, 'r_ratio': 2.1839080459770117, 'dy': 0, 'dx': 0, 'cluster_type': 'parent'}, {'id': 61, 'r_ratio': 0.5287356321839081, 'dy': 0, 'dx': -0.0, 'cluster_type': 'child'}, {'id': 62, 'r_ratio': 0.47126436781609193, 'dy': 1, 'dx': 0.5, 'cluster_type': 'child'}]\n"
     ]
    },
    {
     "name": "stderr",
     "output_type": "stream",
     "text": [
      "127.0.0.1 - - [10/Oct/2024 01:23:44] \"POST /graph_tree_circle_click HTTP/1.1\" 200 -\n"
     ]
    },
    {
     "name": "stdout",
     "output_type": "stream",
     "text": [
      "31\n",
      "reflection_node: 1 at lv up: 2\n",
      "generate cos sim, ecul dist, and nodes sorted by cos sim\n",
      "[{'id': 17, 'cos_sim': np.float64(-0.8026687943382783), 'euclide_dist': np.float64(0.9670758213936325), 'r_ratio': 6.214285714285714, 'cluster_type': 'neighbour'}, {'id': 20, 'cos_sim': np.float64(-0.6537619257948634), 'euclide_dist': np.float64(1.2213297639540914), 'r_ratio': 1.5714285714285714, 'cluster_type': 'neighbour'}, {'id': 21, 'cos_sim': np.float64(-0.4739298253526984), 'euclide_dist': np.float64(1.143806881382072), 'r_ratio': 1.5, 'cluster_type': 'neighbour'}, {'id': 18, 'cos_sim': np.float64(-0.2199597213817361), 'euclide_dist': np.float64(0.8370366816389289), 'r_ratio': 7.357142857142857, 'cluster_type': 'neighbour'}, {'id': 19, 'cos_sim': np.float64(-0.16129338876640648), 'euclide_dist': np.float64(1.0023061983211572), 'r_ratio': 1.6428571428571428, 'cluster_type': 'neighbour'}, {'id': 15, 'cos_sim': np.float64(-0.1524072528309201), 'euclide_dist': np.float64(0.779518553287808), 'r_ratio': 6.571428571428571, 'cluster_type': 'neighbour'}, {'id': 6, 'cos_sim': np.float64(0.07107648114297684), 'euclide_dist': np.float64(1.1709804104854091), 'r_ratio': 2.5, 'cluster_type': 'neighbour'}, {'id': 16, 'cos_sim': np.float64(0.0999930348688301), 'euclide_dist': np.float64(0.6872151914450806), 'r_ratio': 5.0, 'cluster_type': 'neighbour'}, {'id': 23, 'cos_sim': np.float64(0.1631670544509198), 'euclide_dist': np.float64(0.7319735917195743), 'r_ratio': 5.857142857142857, 'cluster_type': 'neighbour'}, {'id': 32, 'cos_sim': np.float64(0.20268745259895712), 'euclide_dist': np.float64(0.6408139005402007), 'r_ratio': 1.2142857142857142, 'cluster_type': 'neighbour'}, {'id': 29, 'cos_sim': np.float64(0.3159452117757622), 'euclide_dist': np.float64(0.8603824899271508), 'r_ratio': 0.35714285714285715, 'cluster_type': 'neighbour'}, {'id': 24, 'cos_sim': np.float64(0.3528466389807568), 'euclide_dist': np.float64(0.594588590873663), 'r_ratio': 1.8571428571428572, 'cluster_type': 'neighbour'}, {'id': 30, 'cos_sim': np.float64(0.38471120660268293), 'euclide_dist': np.float64(0.6761704588171275), 'r_ratio': 0.42857142857142855, 'cluster_type': 'neighbour'}, {'id': 25, 'cos_sim': np.float64(0.44992971975986995), 'euclide_dist': np.float64(0.5475344751483243), 'r_ratio': 1.5, 'cluster_type': 'neighbour'}, {'id': 22, 'cos_sim': np.float64(0.5950050487226229), 'euclide_dist': np.float64(0.5388077475101942), 'r_ratio': 2.9285714285714284, 'cluster_type': 'neighbour'}, {'id': 27, 'cos_sim': np.float64(0.613072214275516), 'euclide_dist': np.float64(0.4815826553009878), 'r_ratio': 0.8571428571428571, 'cluster_type': 'neighbour'}, {'id': 26, 'cos_sim': np.float64(0.6238807938056739), 'euclide_dist': np.float64(0.5295470513452228), 'r_ratio': 1.1428571428571428, 'cluster_type': 'neighbour'}, {'id': 28, 'cos_sim': np.float64(0.6714798330364224), 'euclide_dist': np.float64(0.46920837085022443), 'r_ratio': 1.8571428571428572, 'cluster_type': 'neighbour'}, {'id': 31, 'cos_sim': np.float64(0.9999999999999999), 'euclide_dist': np.float64(0.0), 'r_ratio': 1.0, 'cluster_type': 'center'}]\n",
      "[{'id': 8, 'r_ratio': 10.214285714285714, 'dy': 0, 'dx': 0, 'cluster_type': 'parent'}]\n"
     ]
    },
    {
     "name": "stderr",
     "output_type": "stream",
     "text": [
      "127.0.0.1 - - [10/Oct/2024 01:23:48] \"POST /graph_tree_circle_click HTTP/1.1\" 200 -\n"
     ]
    },
    {
     "name": "stdout",
     "output_type": "stream",
     "text": [
      "18\n",
      "reflection_node: 1 at lv up: 2\n",
      "generate cos sim, ecul dist, and nodes sorted by cos sim\n",
      "[{'id': 22, 'cos_sim': np.float64(-0.5999011212981619), 'euclide_dist': np.float64(0.9791647537797956), 'r_ratio': 0.39805825242718446, 'cluster_type': 'neighbour'}, {'id': 16, 'cos_sim': np.float64(-0.5755523168344743), 'euclide_dist': np.float64(0.8035952397386502), 'r_ratio': 0.6796116504854369, 'cluster_type': 'neighbour'}, {'id': 19, 'cos_sim': np.float64(-0.44664913659814004), 'euclide_dist': np.float64(1.0340637353461735), 'r_ratio': 0.22330097087378642, 'cluster_type': 'neighbour'}, {'id': 6, 'cos_sim': np.float64(-0.42804918166350847), 'euclide_dist': np.float64(1.3360289186237393), 'r_ratio': 0.33980582524271846, 'cluster_type': 'neighbour'}, {'id': 15, 'cos_sim': np.float64(-0.3705989146260198), 'euclide_dist': np.float64(0.7579575855032028), 'r_ratio': 0.8932038834951457, 'cluster_type': 'neighbour'}, {'id': 30, 'cos_sim': np.float64(-0.36078178471716427), 'euclide_dist': np.float64(0.9224945933505727), 'r_ratio': 0.05825242718446602, 'cluster_type': 'neighbour'}, {'id': 20, 'cos_sim': np.float64(-0.3408712772403869), 'euclide_dist': np.float64(1.025184740538166), 'r_ratio': 0.21359223300970873, 'cluster_type': 'neighbour'}, {'id': 31, 'cos_sim': np.float64(-0.2199597213817361), 'euclide_dist': np.float64(0.8370366816389289), 'r_ratio': 0.13592233009708737, 'cluster_type': 'neighbour'}, {'id': 28, 'cos_sim': np.float64(-0.1357235590728922), 'euclide_dist': np.float64(0.7962107332288157), 'r_ratio': 0.2524271844660194, 'cluster_type': 'neighbour'}, {'id': 29, 'cos_sim': np.float64(-0.08984566487962181), 'euclide_dist': np.float64(1.007159300948507), 'r_ratio': 0.04854368932038835, 'cluster_type': 'neighbour'}, {'id': 27, 'cos_sim': np.float64(-0.06110821408248549), 'euclide_dist': np.float64(0.7097882330366457), 'r_ratio': 0.11650485436893204, 'cluster_type': 'neighbour'}, {'id': 25, 'cos_sim': np.float64(-0.0540085072834463), 'euclide_dist': np.float64(0.6597515670315874), 'r_ratio': 0.20388349514563106, 'cluster_type': 'neighbour'}, {'id': 26, 'cos_sim': np.float64(0.04336538605460243), 'euclide_dist': np.float64(0.7779084164198504), 'r_ratio': 0.1553398058252427, 'cluster_type': 'neighbour'}, {'id': 23, 'cos_sim': np.float64(0.05866874787630979), 'euclide_dist': np.float64(0.7060593854526106), 'r_ratio': 0.7961165048543689, 'cluster_type': 'neighbour'}, {'id': 21, 'cos_sim': np.float64(0.14348791814869835), 'euclide_dist': np.float64(0.8258883891402661), 'r_ratio': 0.20388349514563106, 'cluster_type': 'neighbour'}, {'id': 32, 'cos_sim': np.float64(0.33064743541507957), 'euclide_dist': np.float64(0.5168485300622571), 'r_ratio': 0.1650485436893204, 'cluster_type': 'neighbour'}, {'id': 17, 'cos_sim': np.float64(0.48090247191296287), 'euclide_dist': np.float64(0.4676587419015632), 'r_ratio': 0.8446601941747572, 'cluster_type': 'neighbour'}, {'id': 24, 'cos_sim': np.float64(0.5978513520461405), 'euclide_dist': np.float64(0.4142400594013935), 'r_ratio': 0.2524271844660194, 'cluster_type': 'neighbour'}, {'id': 18, 'cos_sim': np.float64(1.0000000000000002), 'euclide_dist': np.float64(0.0), 'r_ratio': 1.0, 'cluster_type': 'center'}]\n",
      "[{'id': 4, 'r_ratio': 1.8446601941747574, 'dy': 0, 'dx': 0, 'cluster_type': 'parent'}, {'id': 63, 'r_ratio': 0.5436893203883495, 'dy': 0, 'dx': -0.0, 'cluster_type': 'child'}, {'id': 64, 'r_ratio': 0.4563106796116505, 'dy': 1, 'dx': 0.5, 'cluster_type': 'child'}]\n"
     ]
    },
    {
     "name": "stderr",
     "output_type": "stream",
     "text": [
      "127.0.0.1 - - [10/Oct/2024 01:23:51] \"POST /graph_tree_circle_click HTTP/1.1\" 200 -\n"
     ]
    },
    {
     "name": "stdout",
     "output_type": "stream",
     "text": [
      "27\n",
      "reflection_node: 1 at lv up: 2\n",
      "generate cos sim, ecul dist, and nodes sorted by cos sim\n",
      "[{'id': 20, 'cos_sim': np.float64(-0.5141220218543034), 'euclide_dist': np.float64(1.0925226838798079), 'r_ratio': 1.8333333333333333, 'cluster_type': 'neighbour'}, {'id': 17, 'cos_sim': np.float64(-0.5099567531398856), 'euclide_dist': np.float64(0.8027512371395716), 'r_ratio': 7.25, 'cluster_type': 'neighbour'}, {'id': 21, 'cos_sim': np.float64(-0.2858940884192117), 'euclide_dist': np.float64(1.0015505951762458), 'r_ratio': 1.75, 'cluster_type': 'neighbour'}, {'id': 19, 'cos_sim': np.float64(-0.27765299941336974), 'euclide_dist': np.float64(0.9818749707130934), 'r_ratio': 1.9166666666666667, 'cluster_type': 'neighbour'}, {'id': 16, 'cos_sim': np.float64(-0.2114062464791594), 'euclide_dist': np.float64(0.7128433332564057), 'r_ratio': 5.833333333333333, 'cluster_type': 'neighbour'}, {'id': 6, 'cos_sim': np.float64(-0.08046292069716708), 'euclide_dist': np.float64(1.2005655131096171), 'r_ratio': 2.9166666666666665, 'cluster_type': 'neighbour'}, {'id': 18, 'cos_sim': np.float64(-0.06110821408248549), 'euclide_dist': np.float64(0.7097882330366457), 'r_ratio': 8.583333333333334, 'cluster_type': 'neighbour'}, {'id': 15, 'cos_sim': np.float64(0.06442512818422812), 'euclide_dist': np.float64(0.6336812444271965), 'r_ratio': 7.666666666666667, 'cluster_type': 'neighbour'}, {'id': 25, 'cos_sim': np.float64(0.1393350542242449), 'euclide_dist': np.float64(0.6033710880379141), 'r_ratio': 1.75, 'cluster_type': 'neighbour'}, {'id': 23, 'cos_sim': np.float64(0.18242084775998588), 'euclide_dist': np.float64(0.6638896889373354), 'r_ratio': 6.833333333333333, 'cluster_type': 'neighbour'}, {'id': 30, 'cos_sim': np.float64(0.23173653067147865), 'euclide_dist': np.float64(0.7045972232032431), 'r_ratio': 0.5, 'cluster_type': 'neighbour'}, {'id': 29, 'cos_sim': np.float64(0.23770285295483934), 'euclide_dist': np.float64(0.8681383525923981), 'r_ratio': 0.4166666666666667, 'cluster_type': 'neighbour'}, {'id': 24, 'cos_sim': np.float64(0.2592306870088602), 'euclide_dist': np.float64(0.5668505424900071), 'r_ratio': 2.1666666666666665, 'cluster_type': 'neighbour'}, {'id': 26, 'cos_sim': np.float64(0.2686606222593542), 'euclide_dist': np.float64(0.688327429306253), 'r_ratio': 1.3333333333333333, 'cluster_type': 'neighbour'}, {'id': 22, 'cos_sim': np.float64(0.27386789985721044), 'euclide_dist': np.float64(0.6708678932571053), 'r_ratio': 3.4166666666666665, 'cluster_type': 'neighbour'}, {'id': 28, 'cos_sim': np.float64(0.5368962949748728), 'euclide_dist': np.float64(0.5162747340405835), 'r_ratio': 2.1666666666666665, 'cluster_type': 'neighbour'}, {'id': 32, 'cos_sim': np.float64(0.5496942432916098), 'euclide_dist': np.float64(0.4320828050702664), 'r_ratio': 1.4166666666666667, 'cluster_type': 'neighbour'}, {'id': 31, 'cos_sim': np.float64(0.613072214275516), 'euclide_dist': np.float64(0.4815826553009878), 'r_ratio': 1.1666666666666667, 'cluster_type': 'neighbour'}, {'id': 27, 'cos_sim': np.float64(1.0), 'euclide_dist': np.float64(0.0), 'r_ratio': 1.0, 'cluster_type': 'center'}]\n",
      "[{'id': 8, 'r_ratio': 11.916666666666666, 'dy': 0, 'dx': 0, 'cluster_type': 'parent'}]\n"
     ]
    },
    {
     "name": "stderr",
     "output_type": "stream",
     "text": [
      "127.0.0.1 - - [10/Oct/2024 01:23:52] \"POST /graph_tree_circle_click HTTP/1.1\" 200 -\n"
     ]
    },
    {
     "name": "stdout",
     "output_type": "stream",
     "text": [
      "15\n",
      "reflection_node: 1 at lv up: 2\n",
      "generate cos sim, ecul dist, and nodes sorted by cos sim\n",
      "[{'id': 23, 'cos_sim': np.float64(-0.6476532703234698), 'euclide_dist': np.float64(0.8879948522221652), 'r_ratio': 0.8913043478260869, 'cluster_type': 'neighbour'}, {'id': 6, 'cos_sim': np.float64(-0.5803859599202654), 'euclide_dist': np.float64(1.3538895134902649), 'r_ratio': 0.3804347826086957, 'cluster_type': 'neighbour'}, {'id': 18, 'cos_sim': np.float64(-0.3705989146260198), 'euclide_dist': np.float64(0.7579575855032028), 'r_ratio': 1.1195652173913044, 'cluster_type': 'neighbour'}, {'id': 22, 'cos_sim': np.float64(-0.296414149113913), 'euclide_dist': np.float64(0.8461908932675033), 'r_ratio': 0.44565217391304346, 'cluster_type': 'neighbour'}, {'id': 31, 'cos_sim': np.float64(-0.1524072528309201), 'euclide_dist': np.float64(0.779518553287808), 'r_ratio': 0.15217391304347827, 'cluster_type': 'neighbour'}, {'id': 25, 'cos_sim': np.float64(-0.14372367947149775), 'euclide_dist': np.float64(0.6481445291703153), 'r_ratio': 0.22826086956521738, 'cluster_type': 'neighbour'}, {'id': 21, 'cos_sim': np.float64(-0.12856934139224366), 'euclide_dist': np.float64(0.906522849473695), 'r_ratio': 0.22826086956521738, 'cluster_type': 'neighbour'}, {'id': 24, 'cos_sim': np.float64(-0.056824457416119356), 'euclide_dist': np.float64(0.6318318873080015), 'r_ratio': 0.2826086956521739, 'cluster_type': 'neighbour'}, {'id': 29, 'cos_sim': np.float64(0.02289284235923583), 'euclide_dist': np.float64(0.9374897757581903), 'r_ratio': 0.05434782608695652, 'cluster_type': 'neighbour'}, {'id': 26, 'cos_sim': np.float64(0.06295958841759898), 'euclide_dist': np.float64(0.7425313071230224), 'r_ratio': 0.17391304347826086, 'cluster_type': 'neighbour'}, {'id': 27, 'cos_sim': np.float64(0.06442512818422812), 'euclide_dist': np.float64(0.6336812444271965), 'r_ratio': 0.13043478260869565, 'cluster_type': 'neighbour'}, {'id': 19, 'cos_sim': np.float64(0.1708482389397638), 'euclide_dist': np.float64(0.7773925909214805), 'r_ratio': 0.25, 'cluster_type': 'neighbour'}, {'id': 20, 'cos_sim': np.float64(0.21897489402069886), 'euclide_dist': np.float64(0.7835067396683972), 'r_ratio': 0.2391304347826087, 'cluster_type': 'neighbour'}, {'id': 17, 'cos_sim': np.float64(0.2526919673945555), 'euclide_dist': np.float64(0.528005737369058), 'r_ratio': 0.9456521739130435, 'cluster_type': 'neighbour'}, {'id': 28, 'cos_sim': np.float64(0.28184641054260323), 'euclide_dist': np.float64(0.6116024757859497), 'r_ratio': 0.2826086956521739, 'cluster_type': 'neighbour'}, {'id': 32, 'cos_sim': np.float64(0.4066044958470099), 'euclide_dist': np.float64(0.45622768766091587), 'r_ratio': 0.18478260869565216, 'cluster_type': 'neighbour'}, {'id': 30, 'cos_sim': np.float64(0.41236159316892157), 'euclide_dist': np.float64(0.6002440213926317), 'r_ratio': 0.06521739130434782, 'cluster_type': 'neighbour'}, {'id': 16, 'cos_sim': np.float64(0.5410417150541238), 'euclide_dist': np.float64(0.4095607249763128), 'r_ratio': 0.7608695652173914, 'cluster_type': 'neighbour'}, {'id': 15, 'cos_sim': np.float64(1.0), 'euclide_dist': np.float64(0.0), 'r_ratio': 1.0, 'cluster_type': 'center'}]\n",
      "[{'id': 3, 'r_ratio': 1.7608695652173914, 'dy': 0, 'dx': 0, 'cluster_type': 'parent'}, {'id': 47, 'r_ratio': 0.25, 'dy': 0, 'dx': -0.0, 'cluster_type': 'child'}, {'id': 48, 'r_ratio': 0.32608695652173914, 'dy': 1, 'dx': 0.5, 'cluster_type': 'child'}, {'id': 49, 'r_ratio': 0.2717391304347826, 'dy': 1, 'dx': -0.5, 'cluster_type': 'child'}, {'id': 50, 'r_ratio': 0.15217391304347827, 'dy': 2, 'dx': -0.0, 'cluster_type': 'child'}]\n"
     ]
    },
    {
     "name": "stderr",
     "output_type": "stream",
     "text": [
      "127.0.0.1 - - [10/Oct/2024 01:23:52] \"POST /graph_tree_circle_click HTTP/1.1\" 200 -\n",
      "127.0.0.1 - - [10/Oct/2024 01:23:52] \"POST /graph_tree_circle_click HTTP/1.1\" 200 -\n"
     ]
    },
    {
     "name": "stdout",
     "output_type": "stream",
     "text": [
      "15\n",
      "reflection_node: 1 at lv up: 2\n",
      "generate cos sim, ecul dist, and nodes sorted by cos sim\n",
      "[{'id': 23, 'cos_sim': np.float64(-0.6476532703234698), 'euclide_dist': np.float64(0.8879948522221652), 'r_ratio': 0.8913043478260869, 'cluster_type': 'neighbour'}, {'id': 6, 'cos_sim': np.float64(-0.5803859599202654), 'euclide_dist': np.float64(1.3538895134902649), 'r_ratio': 0.3804347826086957, 'cluster_type': 'neighbour'}, {'id': 18, 'cos_sim': np.float64(-0.3705989146260198), 'euclide_dist': np.float64(0.7579575855032028), 'r_ratio': 1.1195652173913044, 'cluster_type': 'neighbour'}, {'id': 22, 'cos_sim': np.float64(-0.296414149113913), 'euclide_dist': np.float64(0.8461908932675033), 'r_ratio': 0.44565217391304346, 'cluster_type': 'neighbour'}, {'id': 31, 'cos_sim': np.float64(-0.1524072528309201), 'euclide_dist': np.float64(0.779518553287808), 'r_ratio': 0.15217391304347827, 'cluster_type': 'neighbour'}, {'id': 25, 'cos_sim': np.float64(-0.14372367947149775), 'euclide_dist': np.float64(0.6481445291703153), 'r_ratio': 0.22826086956521738, 'cluster_type': 'neighbour'}, {'id': 21, 'cos_sim': np.float64(-0.12856934139224366), 'euclide_dist': np.float64(0.906522849473695), 'r_ratio': 0.22826086956521738, 'cluster_type': 'neighbour'}, {'id': 24, 'cos_sim': np.float64(-0.056824457416119356), 'euclide_dist': np.float64(0.6318318873080015), 'r_ratio': 0.2826086956521739, 'cluster_type': 'neighbour'}, {'id': 29, 'cos_sim': np.float64(0.02289284235923583), 'euclide_dist': np.float64(0.9374897757581903), 'r_ratio': 0.05434782608695652, 'cluster_type': 'neighbour'}, {'id': 26, 'cos_sim': np.float64(0.06295958841759898), 'euclide_dist': np.float64(0.7425313071230224), 'r_ratio': 0.17391304347826086, 'cluster_type': 'neighbour'}, {'id': 27, 'cos_sim': np.float64(0.06442512818422812), 'euclide_dist': np.float64(0.6336812444271965), 'r_ratio': 0.13043478260869565, 'cluster_type': 'neighbour'}, {'id': 19, 'cos_sim': np.float64(0.1708482389397638), 'euclide_dist': np.float64(0.7773925909214805), 'r_ratio': 0.25, 'cluster_type': 'neighbour'}, {'id': 20, 'cos_sim': np.float64(0.21897489402069886), 'euclide_dist': np.float64(0.7835067396683972), 'r_ratio': 0.2391304347826087, 'cluster_type': 'neighbour'}, {'id': 17, 'cos_sim': np.float64(0.2526919673945555), 'euclide_dist': np.float64(0.528005737369058), 'r_ratio': 0.9456521739130435, 'cluster_type': 'neighbour'}, {'id': 28, 'cos_sim': np.float64(0.28184641054260323), 'euclide_dist': np.float64(0.6116024757859497), 'r_ratio': 0.2826086956521739, 'cluster_type': 'neighbour'}, {'id': 32, 'cos_sim': np.float64(0.4066044958470099), 'euclide_dist': np.float64(0.45622768766091587), 'r_ratio': 0.18478260869565216, 'cluster_type': 'neighbour'}, {'id': 30, 'cos_sim': np.float64(0.41236159316892157), 'euclide_dist': np.float64(0.6002440213926317), 'r_ratio': 0.06521739130434782, 'cluster_type': 'neighbour'}, {'id': 16, 'cos_sim': np.float64(0.5410417150541238), 'euclide_dist': np.float64(0.4095607249763128), 'r_ratio': 0.7608695652173914, 'cluster_type': 'neighbour'}, {'id': 15, 'cos_sim': np.float64(1.0), 'euclide_dist': np.float64(0.0), 'r_ratio': 1.0, 'cluster_type': 'center'}]\n",
      "[{'id': 3, 'r_ratio': 1.7608695652173914, 'dy': 0, 'dx': 0, 'cluster_type': 'parent'}, {'id': 47, 'r_ratio': 0.25, 'dy': 0, 'dx': -0.0, 'cluster_type': 'child'}, {'id': 48, 'r_ratio': 0.32608695652173914, 'dy': 1, 'dx': 0.5, 'cluster_type': 'child'}, {'id': 49, 'r_ratio': 0.2717391304347826, 'dy': 1, 'dx': -0.5, 'cluster_type': 'child'}, {'id': 50, 'r_ratio': 0.15217391304347827, 'dy': 2, 'dx': -0.0, 'cluster_type': 'child'}]\n",
      "15\n",
      "reflection_node: 1 at lv up: 2\n",
      "generate cos sim, ecul dist, and nodes sorted by cos sim\n",
      "[{'id': 23, 'cos_sim': np.float64(-0.6476532703234698), 'euclide_dist': np.float64(0.8879948522221652), 'r_ratio': 0.8913043478260869, 'cluster_type': 'neighbour'}, {'id': 6, 'cos_sim': np.float64(-0.5803859599202654), 'euclide_dist': np.float64(1.3538895134902649), 'r_ratio': 0.3804347826086957, 'cluster_type': 'neighbour'}, {'id': 18, 'cos_sim': np.float64(-0.3705989146260198), 'euclide_dist': np.float64(0.7579575855032028), 'r_ratio': 1.1195652173913044, 'cluster_type': 'neighbour'}, {'id': 22, 'cos_sim': np.float64(-0.296414149113913), 'euclide_dist': np.float64(0.8461908932675033), 'r_ratio': 0.44565217391304346, 'cluster_type': 'neighbour'}, {'id': 31, 'cos_sim': np.float64(-0.1524072528309201), 'euclide_dist': np.float64(0.779518553287808), 'r_ratio': 0.15217391304347827, 'cluster_type': 'neighbour'}, {'id': 25, 'cos_sim': np.float64(-0.14372367947149775), 'euclide_dist': np.float64(0.6481445291703153), 'r_ratio': 0.22826086956521738, 'cluster_type': 'neighbour'}, {'id': 21, 'cos_sim': np.float64(-0.12856934139224366), 'euclide_dist': np.float64(0.906522849473695), 'r_ratio': 0.22826086956521738, 'cluster_type': 'neighbour'}, {'id': 24, 'cos_sim': np.float64(-0.056824457416119356), 'euclide_dist': np.float64(0.6318318873080015), 'r_ratio': 0.2826086956521739, 'cluster_type': 'neighbour'}, {'id': 29, 'cos_sim': np.float64(0.02289284235923583), 'euclide_dist': np.float64(0.9374897757581903), 'r_ratio': 0.05434782608695652, 'cluster_type': 'neighbour'}, {'id': 26, 'cos_sim': np.float64(0.06295958841759898), 'euclide_dist': np.float64(0.7425313071230224), 'r_ratio': 0.17391304347826086, 'cluster_type': 'neighbour'}, {'id': 27, 'cos_sim': np.float64(0.06442512818422812), 'euclide_dist': np.float64(0.6336812444271965), 'r_ratio': 0.13043478260869565, 'cluster_type': 'neighbour'}, {'id': 19, 'cos_sim': np.float64(0.1708482389397638), 'euclide_dist': np.float64(0.7773925909214805), 'r_ratio': 0.25, 'cluster_type': 'neighbour'}, {'id': 20, 'cos_sim': np.float64(0.21897489402069886), 'euclide_dist': np.float64(0.7835067396683972), 'r_ratio': 0.2391304347826087, 'cluster_type': 'neighbour'}, {'id': 17, 'cos_sim': np.float64(0.2526919673945555), 'euclide_dist': np.float64(0.528005737369058), 'r_ratio': 0.9456521739130435, 'cluster_type': 'neighbour'}, {'id': 28, 'cos_sim': np.float64(0.28184641054260323), 'euclide_dist': np.float64(0.6116024757859497), 'r_ratio': 0.2826086956521739, 'cluster_type': 'neighbour'}, {'id': 32, 'cos_sim': np.float64(0.4066044958470099), 'euclide_dist': np.float64(0.45622768766091587), 'r_ratio': 0.18478260869565216, 'cluster_type': 'neighbour'}, {'id': 30, 'cos_sim': np.float64(0.41236159316892157), 'euclide_dist': np.float64(0.6002440213926317), 'r_ratio': 0.06521739130434782, 'cluster_type': 'neighbour'}, {'id': 16, 'cos_sim': np.float64(0.5410417150541238), 'euclide_dist': np.float64(0.4095607249763128), 'r_ratio': 0.7608695652173914, 'cluster_type': 'neighbour'}, {'id': 15, 'cos_sim': np.float64(1.0), 'euclide_dist': np.float64(0.0), 'r_ratio': 1.0, 'cluster_type': 'center'}]\n",
      "[{'id': 3, 'r_ratio': 1.7608695652173914, 'dy': 0, 'dx': 0, 'cluster_type': 'parent'}, {'id': 47, 'r_ratio': 0.25, 'dy': 0, 'dx': -0.0, 'cluster_type': 'child'}, {'id': 48, 'r_ratio': 0.32608695652173914, 'dy': 1, 'dx': 0.5, 'cluster_type': 'child'}, {'id': 49, 'r_ratio': 0.2717391304347826, 'dy': 1, 'dx': -0.5, 'cluster_type': 'child'}, {'id': 50, 'r_ratio': 0.15217391304347827, 'dy': 2, 'dx': -0.0, 'cluster_type': 'child'}]\n"
     ]
    },
    {
     "name": "stderr",
     "output_type": "stream",
     "text": [
      "127.0.0.1 - - [10/Oct/2024 01:23:52] \"POST /graph_tree_circle_click HTTP/1.1\" 200 -\n",
      "127.0.0.1 - - [10/Oct/2024 01:23:52] \"POST /graph_tree_circle_click HTTP/1.1\" 200 -\n"
     ]
    },
    {
     "name": "stdout",
     "output_type": "stream",
     "text": [
      "15\n",
      "reflection_node: 1 at lv up: 2\n",
      "generate cos sim, ecul dist, and nodes sorted by cos sim\n",
      "[{'id': 23, 'cos_sim': np.float64(-0.6476532703234698), 'euclide_dist': np.float64(0.8879948522221652), 'r_ratio': 0.8913043478260869, 'cluster_type': 'neighbour'}, {'id': 6, 'cos_sim': np.float64(-0.5803859599202654), 'euclide_dist': np.float64(1.3538895134902649), 'r_ratio': 0.3804347826086957, 'cluster_type': 'neighbour'}, {'id': 18, 'cos_sim': np.float64(-0.3705989146260198), 'euclide_dist': np.float64(0.7579575855032028), 'r_ratio': 1.1195652173913044, 'cluster_type': 'neighbour'}, {'id': 22, 'cos_sim': np.float64(-0.296414149113913), 'euclide_dist': np.float64(0.8461908932675033), 'r_ratio': 0.44565217391304346, 'cluster_type': 'neighbour'}, {'id': 31, 'cos_sim': np.float64(-0.1524072528309201), 'euclide_dist': np.float64(0.779518553287808), 'r_ratio': 0.15217391304347827, 'cluster_type': 'neighbour'}, {'id': 25, 'cos_sim': np.float64(-0.14372367947149775), 'euclide_dist': np.float64(0.6481445291703153), 'r_ratio': 0.22826086956521738, 'cluster_type': 'neighbour'}, {'id': 21, 'cos_sim': np.float64(-0.12856934139224366), 'euclide_dist': np.float64(0.906522849473695), 'r_ratio': 0.22826086956521738, 'cluster_type': 'neighbour'}, {'id': 24, 'cos_sim': np.float64(-0.056824457416119356), 'euclide_dist': np.float64(0.6318318873080015), 'r_ratio': 0.2826086956521739, 'cluster_type': 'neighbour'}, {'id': 29, 'cos_sim': np.float64(0.02289284235923583), 'euclide_dist': np.float64(0.9374897757581903), 'r_ratio': 0.05434782608695652, 'cluster_type': 'neighbour'}, {'id': 26, 'cos_sim': np.float64(0.06295958841759898), 'euclide_dist': np.float64(0.7425313071230224), 'r_ratio': 0.17391304347826086, 'cluster_type': 'neighbour'}, {'id': 27, 'cos_sim': np.float64(0.06442512818422812), 'euclide_dist': np.float64(0.6336812444271965), 'r_ratio': 0.13043478260869565, 'cluster_type': 'neighbour'}, {'id': 19, 'cos_sim': np.float64(0.1708482389397638), 'euclide_dist': np.float64(0.7773925909214805), 'r_ratio': 0.25, 'cluster_type': 'neighbour'}, {'id': 20, 'cos_sim': np.float64(0.21897489402069886), 'euclide_dist': np.float64(0.7835067396683972), 'r_ratio': 0.2391304347826087, 'cluster_type': 'neighbour'}, {'id': 17, 'cos_sim': np.float64(0.2526919673945555), 'euclide_dist': np.float64(0.528005737369058), 'r_ratio': 0.9456521739130435, 'cluster_type': 'neighbour'}, {'id': 28, 'cos_sim': np.float64(0.28184641054260323), 'euclide_dist': np.float64(0.6116024757859497), 'r_ratio': 0.2826086956521739, 'cluster_type': 'neighbour'}, {'id': 32, 'cos_sim': np.float64(0.4066044958470099), 'euclide_dist': np.float64(0.45622768766091587), 'r_ratio': 0.18478260869565216, 'cluster_type': 'neighbour'}, {'id': 30, 'cos_sim': np.float64(0.41236159316892157), 'euclide_dist': np.float64(0.6002440213926317), 'r_ratio': 0.06521739130434782, 'cluster_type': 'neighbour'}, {'id': 16, 'cos_sim': np.float64(0.5410417150541238), 'euclide_dist': np.float64(0.4095607249763128), 'r_ratio': 0.7608695652173914, 'cluster_type': 'neighbour'}, {'id': 15, 'cos_sim': np.float64(1.0), 'euclide_dist': np.float64(0.0), 'r_ratio': 1.0, 'cluster_type': 'center'}]\n",
      "[{'id': 3, 'r_ratio': 1.7608695652173914, 'dy': 0, 'dx': 0, 'cluster_type': 'parent'}, {'id': 47, 'r_ratio': 0.25, 'dy': 0, 'dx': -0.0, 'cluster_type': 'child'}, {'id': 48, 'r_ratio': 0.32608695652173914, 'dy': 1, 'dx': 0.5, 'cluster_type': 'child'}, {'id': 49, 'r_ratio': 0.2717391304347826, 'dy': 1, 'dx': -0.5, 'cluster_type': 'child'}, {'id': 50, 'r_ratio': 0.15217391304347827, 'dy': 2, 'dx': -0.0, 'cluster_type': 'child'}]\n",
      "15\n",
      "reflection_node: 1 at lv up: 2\n",
      "generate cos sim, ecul dist, and nodes sorted by cos sim\n",
      "[{'id': 23, 'cos_sim': np.float64(-0.6476532703234698), 'euclide_dist': np.float64(0.8879948522221652), 'r_ratio': 0.8913043478260869, 'cluster_type': 'neighbour'}, {'id': 6, 'cos_sim': np.float64(-0.5803859599202654), 'euclide_dist': np.float64(1.3538895134902649), 'r_ratio': 0.3804347826086957, 'cluster_type': 'neighbour'}, {'id': 18, 'cos_sim': np.float64(-0.3705989146260198), 'euclide_dist': np.float64(0.7579575855032028), 'r_ratio': 1.1195652173913044, 'cluster_type': 'neighbour'}, {'id': 22, 'cos_sim': np.float64(-0.296414149113913), 'euclide_dist': np.float64(0.8461908932675033), 'r_ratio': 0.44565217391304346, 'cluster_type': 'neighbour'}, {'id': 31, 'cos_sim': np.float64(-0.1524072528309201), 'euclide_dist': np.float64(0.779518553287808), 'r_ratio': 0.15217391304347827, 'cluster_type': 'neighbour'}, {'id': 25, 'cos_sim': np.float64(-0.14372367947149775), 'euclide_dist': np.float64(0.6481445291703153), 'r_ratio': 0.22826086956521738, 'cluster_type': 'neighbour'}, {'id': 21, 'cos_sim': np.float64(-0.12856934139224366), 'euclide_dist': np.float64(0.906522849473695), 'r_ratio': 0.22826086956521738, 'cluster_type': 'neighbour'}, {'id': 24, 'cos_sim': np.float64(-0.056824457416119356), 'euclide_dist': np.float64(0.6318318873080015), 'r_ratio': 0.2826086956521739, 'cluster_type': 'neighbour'}, {'id': 29, 'cos_sim': np.float64(0.02289284235923583), 'euclide_dist': np.float64(0.9374897757581903), 'r_ratio': 0.05434782608695652, 'cluster_type': 'neighbour'}, {'id': 26, 'cos_sim': np.float64(0.06295958841759898), 'euclide_dist': np.float64(0.7425313071230224), 'r_ratio': 0.17391304347826086, 'cluster_type': 'neighbour'}, {'id': 27, 'cos_sim': np.float64(0.06442512818422812), 'euclide_dist': np.float64(0.6336812444271965), 'r_ratio': 0.13043478260869565, 'cluster_type': 'neighbour'}, {'id': 19, 'cos_sim': np.float64(0.1708482389397638), 'euclide_dist': np.float64(0.7773925909214805), 'r_ratio': 0.25, 'cluster_type': 'neighbour'}, {'id': 20, 'cos_sim': np.float64(0.21897489402069886), 'euclide_dist': np.float64(0.7835067396683972), 'r_ratio': 0.2391304347826087, 'cluster_type': 'neighbour'}, {'id': 17, 'cos_sim': np.float64(0.2526919673945555), 'euclide_dist': np.float64(0.528005737369058), 'r_ratio': 0.9456521739130435, 'cluster_type': 'neighbour'}, {'id': 28, 'cos_sim': np.float64(0.28184641054260323), 'euclide_dist': np.float64(0.6116024757859497), 'r_ratio': 0.2826086956521739, 'cluster_type': 'neighbour'}, {'id': 32, 'cos_sim': np.float64(0.4066044958470099), 'euclide_dist': np.float64(0.45622768766091587), 'r_ratio': 0.18478260869565216, 'cluster_type': 'neighbour'}, {'id': 30, 'cos_sim': np.float64(0.41236159316892157), 'euclide_dist': np.float64(0.6002440213926317), 'r_ratio': 0.06521739130434782, 'cluster_type': 'neighbour'}, {'id': 16, 'cos_sim': np.float64(0.5410417150541238), 'euclide_dist': np.float64(0.4095607249763128), 'r_ratio': 0.7608695652173914, 'cluster_type': 'neighbour'}, {'id': 15, 'cos_sim': np.float64(1.0), 'euclide_dist': np.float64(0.0), 'r_ratio': 1.0, 'cluster_type': 'center'}]\n",
      "[{'id': 3, 'r_ratio': 1.7608695652173914, 'dy': 0, 'dx': 0, 'cluster_type': 'parent'}, {'id': 47, 'r_ratio': 0.25, 'dy': 0, 'dx': -0.0, 'cluster_type': 'child'}, {'id': 48, 'r_ratio': 0.32608695652173914, 'dy': 1, 'dx': 0.5, 'cluster_type': 'child'}, {'id': 49, 'r_ratio': 0.2717391304347826, 'dy': 1, 'dx': -0.5, 'cluster_type': 'child'}, {'id': 50, 'r_ratio': 0.15217391304347827, 'dy': 2, 'dx': -0.0, 'cluster_type': 'child'}]\n"
     ]
    },
    {
     "name": "stderr",
     "output_type": "stream",
     "text": [
      "127.0.0.1 - - [10/Oct/2024 01:23:53] \"POST /graph_tree_circle_click HTTP/1.1\" 200 -\n"
     ]
    },
    {
     "name": "stdout",
     "output_type": "stream",
     "text": [
      "15\n",
      "reflection_node: 1 at lv up: 2\n",
      "generate cos sim, ecul dist, and nodes sorted by cos sim\n",
      "[{'id': 23, 'cos_sim': np.float64(-0.6476532703234698), 'euclide_dist': np.float64(0.8879948522221652), 'r_ratio': 0.8913043478260869, 'cluster_type': 'neighbour'}, {'id': 6, 'cos_sim': np.float64(-0.5803859599202654), 'euclide_dist': np.float64(1.3538895134902649), 'r_ratio': 0.3804347826086957, 'cluster_type': 'neighbour'}, {'id': 18, 'cos_sim': np.float64(-0.3705989146260198), 'euclide_dist': np.float64(0.7579575855032028), 'r_ratio': 1.1195652173913044, 'cluster_type': 'neighbour'}, {'id': 22, 'cos_sim': np.float64(-0.296414149113913), 'euclide_dist': np.float64(0.8461908932675033), 'r_ratio': 0.44565217391304346, 'cluster_type': 'neighbour'}, {'id': 31, 'cos_sim': np.float64(-0.1524072528309201), 'euclide_dist': np.float64(0.779518553287808), 'r_ratio': 0.15217391304347827, 'cluster_type': 'neighbour'}, {'id': 25, 'cos_sim': np.float64(-0.14372367947149775), 'euclide_dist': np.float64(0.6481445291703153), 'r_ratio': 0.22826086956521738, 'cluster_type': 'neighbour'}, {'id': 21, 'cos_sim': np.float64(-0.12856934139224366), 'euclide_dist': np.float64(0.906522849473695), 'r_ratio': 0.22826086956521738, 'cluster_type': 'neighbour'}, {'id': 24, 'cos_sim': np.float64(-0.056824457416119356), 'euclide_dist': np.float64(0.6318318873080015), 'r_ratio': 0.2826086956521739, 'cluster_type': 'neighbour'}, {'id': 29, 'cos_sim': np.float64(0.02289284235923583), 'euclide_dist': np.float64(0.9374897757581903), 'r_ratio': 0.05434782608695652, 'cluster_type': 'neighbour'}, {'id': 26, 'cos_sim': np.float64(0.06295958841759898), 'euclide_dist': np.float64(0.7425313071230224), 'r_ratio': 0.17391304347826086, 'cluster_type': 'neighbour'}, {'id': 27, 'cos_sim': np.float64(0.06442512818422812), 'euclide_dist': np.float64(0.6336812444271965), 'r_ratio': 0.13043478260869565, 'cluster_type': 'neighbour'}, {'id': 19, 'cos_sim': np.float64(0.1708482389397638), 'euclide_dist': np.float64(0.7773925909214805), 'r_ratio': 0.25, 'cluster_type': 'neighbour'}, {'id': 20, 'cos_sim': np.float64(0.21897489402069886), 'euclide_dist': np.float64(0.7835067396683972), 'r_ratio': 0.2391304347826087, 'cluster_type': 'neighbour'}, {'id': 17, 'cos_sim': np.float64(0.2526919673945555), 'euclide_dist': np.float64(0.528005737369058), 'r_ratio': 0.9456521739130435, 'cluster_type': 'neighbour'}, {'id': 28, 'cos_sim': np.float64(0.28184641054260323), 'euclide_dist': np.float64(0.6116024757859497), 'r_ratio': 0.2826086956521739, 'cluster_type': 'neighbour'}, {'id': 32, 'cos_sim': np.float64(0.4066044958470099), 'euclide_dist': np.float64(0.45622768766091587), 'r_ratio': 0.18478260869565216, 'cluster_type': 'neighbour'}, {'id': 30, 'cos_sim': np.float64(0.41236159316892157), 'euclide_dist': np.float64(0.6002440213926317), 'r_ratio': 0.06521739130434782, 'cluster_type': 'neighbour'}, {'id': 16, 'cos_sim': np.float64(0.5410417150541238), 'euclide_dist': np.float64(0.4095607249763128), 'r_ratio': 0.7608695652173914, 'cluster_type': 'neighbour'}, {'id': 15, 'cos_sim': np.float64(1.0), 'euclide_dist': np.float64(0.0), 'r_ratio': 1.0, 'cluster_type': 'center'}]\n",
      "[{'id': 3, 'r_ratio': 1.7608695652173914, 'dy': 0, 'dx': 0, 'cluster_type': 'parent'}, {'id': 47, 'r_ratio': 0.25, 'dy': 0, 'dx': -0.0, 'cluster_type': 'child'}, {'id': 48, 'r_ratio': 0.32608695652173914, 'dy': 1, 'dx': 0.5, 'cluster_type': 'child'}, {'id': 49, 'r_ratio': 0.2717391304347826, 'dy': 1, 'dx': -0.5, 'cluster_type': 'child'}, {'id': 50, 'r_ratio': 0.15217391304347827, 'dy': 2, 'dx': -0.0, 'cluster_type': 'child'}]\n"
     ]
    },
    {
     "name": "stderr",
     "output_type": "stream",
     "text": [
      "127.0.0.1 - - [10/Oct/2024 01:23:54] \"POST /graph_tree_circle_click HTTP/1.1\" 200 -\n",
      "127.0.0.1 - - [10/Oct/2024 01:23:54] \"POST /graph_tree_circle_click HTTP/1.1\" 200 -\n"
     ]
    },
    {
     "name": "stdout",
     "output_type": "stream",
     "text": [
      "32\n",
      "reflection_node: 1 at lv up: 2\n",
      "generate cos sim, ecul dist, and nodes sorted by cos sim\n",
      "[{'id': 6, 'cos_sim': np.float64(-0.7241036336214858), 'euclide_dist': np.float64(1.3773170692198125), 'r_ratio': 2.0588235294117645, 'cluster_type': 'neighbour'}, {'id': 23, 'cos_sim': np.float64(-0.5057595143383901), 'euclide_dist': np.float64(0.8259819112598914), 'r_ratio': 4.823529411764706, 'cluster_type': 'neighbour'}, {'id': 20, 'cos_sim': np.float64(-0.4549165319398819), 'euclide_dist': np.float64(1.0052462157932591), 'r_ratio': 1.2941176470588236, 'cluster_type': 'neighbour'}, {'id': 22, 'cos_sim': np.float64(-0.4441102447385581), 'euclide_dist': np.float64(0.8687870333204135), 'r_ratio': 2.411764705882353, 'cluster_type': 'neighbour'}, {'id': 19, 'cos_sim': np.float64(-0.1574327294526584), 'euclide_dist': np.float64(0.8829778638831145), 'r_ratio': 1.3529411764705883, 'cluster_type': 'neighbour'}, {'id': 21, 'cos_sim': np.float64(-0.15482225306165306), 'euclide_dist': np.float64(0.8990638778059076), 'r_ratio': 1.2352941176470589, 'cluster_type': 'neighbour'}, {'id': 17, 'cos_sim': np.float64(-0.024038878551337965), 'euclide_dist': np.float64(0.5980320836988628), 'r_ratio': 5.117647058823529, 'cluster_type': 'neighbour'}, {'id': 16, 'cos_sim': np.float64(0.0711024790953264), 'euclide_dist': np.float64(0.5632962511382218), 'r_ratio': 4.117647058823529, 'cluster_type': 'neighbour'}, {'id': 31, 'cos_sim': np.float64(0.20268745259895712), 'euclide_dist': np.float64(0.6408139005402007), 'r_ratio': 0.8235294117647058, 'cluster_type': 'neighbour'}, {'id': 25, 'cos_sim': np.float64(0.28991324042518235), 'euclide_dist': np.float64(0.4940129061087535), 'r_ratio': 1.2352941176470589, 'cluster_type': 'neighbour'}, {'id': 18, 'cos_sim': np.float64(0.33064743541507957), 'euclide_dist': np.float64(0.5168485300622571), 'r_ratio': 6.0588235294117645, 'cluster_type': 'neighbour'}, {'id': 30, 'cos_sim': np.float64(0.3454422434305502), 'euclide_dist': np.float64(0.6208342599517006), 'r_ratio': 0.35294117647058826, 'cluster_type': 'neighbour'}, {'id': 29, 'cos_sim': np.float64(0.39733572609539963), 'euclide_dist': np.float64(0.7755784312556898), 'r_ratio': 0.29411764705882354, 'cluster_type': 'neighbour'}, {'id': 15, 'cos_sim': np.float64(0.4066044958470099), 'euclide_dist': np.float64(0.45622768766091587), 'r_ratio': 5.411764705882353, 'cluster_type': 'neighbour'}, {'id': 26, 'cos_sim': np.float64(0.5341301304326892), 'euclide_dist': np.float64(0.5379845830878544), 'r_ratio': 0.9411764705882353, 'cluster_type': 'neighbour'}, {'id': 27, 'cos_sim': np.float64(0.5496942432916098), 'euclide_dist': np.float64(0.4320828050702664), 'r_ratio': 0.7058823529411765, 'cluster_type': 'neighbour'}, {'id': 28, 'cos_sim': np.float64(0.6170505405512801), 'euclide_dist': np.float64(0.45245244060403744), 'r_ratio': 1.5294117647058822, 'cluster_type': 'neighbour'}, {'id': 24, 'cos_sim': np.float64(0.6471816647749299), 'euclide_dist': np.float64(0.3543660437080281), 'r_ratio': 1.5294117647058822, 'cluster_type': 'neighbour'}, {'id': 32, 'cos_sim': np.float64(1.0), 'euclide_dist': np.float64(0.0), 'r_ratio': 1.0, 'cluster_type': 'center'}]\n",
      "[{'id': 8, 'r_ratio': 8.411764705882353, 'dy': 0, 'dx': 0, 'cluster_type': 'parent'}]\n",
      "16\n",
      "reflection_node: 1 at lv up: 2\n",
      "generate cos sim, ecul dist, and nodes sorted by cos sim\n",
      "[{'id': 18, 'cos_sim': np.float64(-0.5755523168344743), 'euclide_dist': np.float64(0.8035952397386502), 'r_ratio': 1.4714285714285715, 'cluster_type': 'neighbour'}, {'id': 21, 'cos_sim': np.float64(-0.4791538267295451), 'euclide_dist': np.float64(1.0154997843986724), 'r_ratio': 0.3, 'cluster_type': 'neighbour'}, {'id': 23, 'cos_sim': np.float64(-0.47174492195640827), 'euclide_dist': np.float64(0.831771797565834), 'r_ratio': 1.1714285714285715, 'cluster_type': 'neighbour'}, {'id': 6, 'cos_sim': np.float64(-0.26896811660847436), 'euclide_dist': np.float64(1.238594290957152), 'r_ratio': 0.5, 'cluster_type': 'neighbour'}, {'id': 27, 'cos_sim': np.float64(-0.2114062464791594), 'euclide_dist': np.float64(0.7128433332564057), 'r_ratio': 0.17142857142857143, 'cluster_type': 'neighbour'}, {'id': 24, 'cos_sim': np.float64(-0.19238211026425456), 'euclide_dist': np.float64(0.6633759032487465), 'r_ratio': 0.37142857142857144, 'cluster_type': 'neighbour'}, {'id': 17, 'cos_sim': np.float64(-0.12264947807782754), 'euclide_dist': np.float64(0.6396058723789214), 'r_ratio': 1.2428571428571429, 'cluster_type': 'neighbour'}, {'id': 20, 'cos_sim': np.float64(-0.0404014525747863), 'euclide_dist': np.float64(0.8797495052704711), 'r_ratio': 0.3142857142857143, 'cluster_type': 'neighbour'}, {'id': 29, 'cos_sim': np.float64(-0.012377440806048454), 'euclide_dist': np.float64(0.9464172983008188), 'r_ratio': 0.07142857142857142, 'cluster_type': 'neighbour'}, {'id': 32, 'cos_sim': np.float64(0.0711024790953264), 'euclide_dist': np.float64(0.5632962511382218), 'r_ratio': 0.24285714285714285, 'cluster_type': 'neighbour'}, {'id': 31, 'cos_sim': np.float64(0.0999930348688301), 'euclide_dist': np.float64(0.6872151914450806), 'r_ratio': 0.2, 'cluster_type': 'neighbour'}, {'id': 19, 'cos_sim': np.float64(0.15265239892871163), 'euclide_dist': np.float64(0.7805917471560612), 'r_ratio': 0.32857142857142857, 'cluster_type': 'neighbour'}, {'id': 22, 'cos_sim': np.float64(0.223631870803192), 'euclide_dist': np.float64(0.6600156586005946), 'r_ratio': 0.5857142857142857, 'cluster_type': 'neighbour'}, {'id': 28, 'cos_sim': np.float64(0.321219111441764), 'euclide_dist': np.float64(0.5913297549055095), 'r_ratio': 0.37142857142857144, 'cluster_type': 'neighbour'}, {'id': 30, 'cos_sim': np.float64(0.39869877880909554), 'euclide_dist': np.float64(0.6034862650974535), 'r_ratio': 0.08571428571428572, 'cluster_type': 'neighbour'}, {'id': 25, 'cos_sim': np.float64(0.4622108178264992), 'euclide_dist': np.float64(0.4391885620683006), 'r_ratio': 0.3, 'cluster_type': 'neighbour'}, {'id': 26, 'cos_sim': np.float64(0.4861045997807609), 'euclide_dist': np.float64(0.5637585403654504), 'r_ratio': 0.22857142857142856, 'cluster_type': 'neighbour'}, {'id': 15, 'cos_sim': np.float64(0.5410417150541238), 'euclide_dist': np.float64(0.4095607249763128), 'r_ratio': 1.3142857142857143, 'cluster_type': 'neighbour'}, {'id': 16, 'cos_sim': np.float64(1.0), 'euclide_dist': np.float64(0.0), 'r_ratio': 1.0, 'cluster_type': 'center'}]\n",
      "[{'id': 3, 'r_ratio': 2.3142857142857145, 'dy': 0, 'dx': 0, 'cluster_type': 'parent'}, {'id': 51, 'r_ratio': 0.07142857142857142, 'dy': 0, 'dx': -0.0, 'cluster_type': 'child'}, {'id': 52, 'r_ratio': 0.11428571428571428, 'dy': 1, 'dx': 0.5, 'cluster_type': 'child'}, {'id': 53, 'r_ratio': 0.2, 'dy': 1, 'dx': -0.5, 'cluster_type': 'child'}, {'id': 54, 'r_ratio': 0.07142857142857142, 'dy': 2, 'dx': -0.0, 'cluster_type': 'child'}, {'id': 55, 'r_ratio': 0.11428571428571428, 'dy': 2, 'dx': 1.0, 'cluster_type': 'child'}, {'id': 56, 'r_ratio': 0.04285714285714286, 'dy': 2, 'dx': -1.0, 'cluster_type': 'child'}, {'id': 57, 'r_ratio': 0.1, 'dy': 3, 'dx': 0.5, 'cluster_type': 'child'}, {'id': 58, 'r_ratio': 0.11428571428571428, 'dy': 3, 'dx': -0.5, 'cluster_type': 'child'}, {'id': 59, 'r_ratio': 0.11428571428571428, 'dy': 3, 'dx': 1.5, 'cluster_type': 'child'}, {'id': 60, 'r_ratio': 0.05714285714285714, 'dy': 3, 'dx': -1.5, 'cluster_type': 'child'}]\n"
     ]
    },
    {
     "name": "stderr",
     "output_type": "stream",
     "text": [
      "127.0.0.1 - - [10/Oct/2024 01:23:55] \"POST /graph_tree_circle_click HTTP/1.1\" 200 -\n",
      "127.0.0.1 - - [10/Oct/2024 01:23:55] \"POST /graph_tree_circle_click HTTP/1.1\" 200 -\n"
     ]
    },
    {
     "name": "stdout",
     "output_type": "stream",
     "text": [
      "16\n",
      "reflection_node: 1 at lv up: 2\n",
      "generate cos sim, ecul dist, and nodes sorted by cos sim\n",
      "[{'id': 18, 'cos_sim': np.float64(-0.5755523168344743), 'euclide_dist': np.float64(0.8035952397386502), 'r_ratio': 1.4714285714285715, 'cluster_type': 'neighbour'}, {'id': 21, 'cos_sim': np.float64(-0.4791538267295451), 'euclide_dist': np.float64(1.0154997843986724), 'r_ratio': 0.3, 'cluster_type': 'neighbour'}, {'id': 23, 'cos_sim': np.float64(-0.47174492195640827), 'euclide_dist': np.float64(0.831771797565834), 'r_ratio': 1.1714285714285715, 'cluster_type': 'neighbour'}, {'id': 6, 'cos_sim': np.float64(-0.26896811660847436), 'euclide_dist': np.float64(1.238594290957152), 'r_ratio': 0.5, 'cluster_type': 'neighbour'}, {'id': 27, 'cos_sim': np.float64(-0.2114062464791594), 'euclide_dist': np.float64(0.7128433332564057), 'r_ratio': 0.17142857142857143, 'cluster_type': 'neighbour'}, {'id': 24, 'cos_sim': np.float64(-0.19238211026425456), 'euclide_dist': np.float64(0.6633759032487465), 'r_ratio': 0.37142857142857144, 'cluster_type': 'neighbour'}, {'id': 17, 'cos_sim': np.float64(-0.12264947807782754), 'euclide_dist': np.float64(0.6396058723789214), 'r_ratio': 1.2428571428571429, 'cluster_type': 'neighbour'}, {'id': 20, 'cos_sim': np.float64(-0.0404014525747863), 'euclide_dist': np.float64(0.8797495052704711), 'r_ratio': 0.3142857142857143, 'cluster_type': 'neighbour'}, {'id': 29, 'cos_sim': np.float64(-0.012377440806048454), 'euclide_dist': np.float64(0.9464172983008188), 'r_ratio': 0.07142857142857142, 'cluster_type': 'neighbour'}, {'id': 32, 'cos_sim': np.float64(0.0711024790953264), 'euclide_dist': np.float64(0.5632962511382218), 'r_ratio': 0.24285714285714285, 'cluster_type': 'neighbour'}, {'id': 31, 'cos_sim': np.float64(0.0999930348688301), 'euclide_dist': np.float64(0.6872151914450806), 'r_ratio': 0.2, 'cluster_type': 'neighbour'}, {'id': 19, 'cos_sim': np.float64(0.15265239892871163), 'euclide_dist': np.float64(0.7805917471560612), 'r_ratio': 0.32857142857142857, 'cluster_type': 'neighbour'}, {'id': 22, 'cos_sim': np.float64(0.223631870803192), 'euclide_dist': np.float64(0.6600156586005946), 'r_ratio': 0.5857142857142857, 'cluster_type': 'neighbour'}, {'id': 28, 'cos_sim': np.float64(0.321219111441764), 'euclide_dist': np.float64(0.5913297549055095), 'r_ratio': 0.37142857142857144, 'cluster_type': 'neighbour'}, {'id': 30, 'cos_sim': np.float64(0.39869877880909554), 'euclide_dist': np.float64(0.6034862650974535), 'r_ratio': 0.08571428571428572, 'cluster_type': 'neighbour'}, {'id': 25, 'cos_sim': np.float64(0.4622108178264992), 'euclide_dist': np.float64(0.4391885620683006), 'r_ratio': 0.3, 'cluster_type': 'neighbour'}, {'id': 26, 'cos_sim': np.float64(0.4861045997807609), 'euclide_dist': np.float64(0.5637585403654504), 'r_ratio': 0.22857142857142856, 'cluster_type': 'neighbour'}, {'id': 15, 'cos_sim': np.float64(0.5410417150541238), 'euclide_dist': np.float64(0.4095607249763128), 'r_ratio': 1.3142857142857143, 'cluster_type': 'neighbour'}, {'id': 16, 'cos_sim': np.float64(1.0), 'euclide_dist': np.float64(0.0), 'r_ratio': 1.0, 'cluster_type': 'center'}]\n",
      "[{'id': 3, 'r_ratio': 2.3142857142857145, 'dy': 0, 'dx': 0, 'cluster_type': 'parent'}, {'id': 51, 'r_ratio': 0.07142857142857142, 'dy': 0, 'dx': -0.0, 'cluster_type': 'child'}, {'id': 52, 'r_ratio': 0.11428571428571428, 'dy': 1, 'dx': 0.5, 'cluster_type': 'child'}, {'id': 53, 'r_ratio': 0.2, 'dy': 1, 'dx': -0.5, 'cluster_type': 'child'}, {'id': 54, 'r_ratio': 0.07142857142857142, 'dy': 2, 'dx': -0.0, 'cluster_type': 'child'}, {'id': 55, 'r_ratio': 0.11428571428571428, 'dy': 2, 'dx': 1.0, 'cluster_type': 'child'}, {'id': 56, 'r_ratio': 0.04285714285714286, 'dy': 2, 'dx': -1.0, 'cluster_type': 'child'}, {'id': 57, 'r_ratio': 0.1, 'dy': 3, 'dx': 0.5, 'cluster_type': 'child'}, {'id': 58, 'r_ratio': 0.11428571428571428, 'dy': 3, 'dx': -0.5, 'cluster_type': 'child'}, {'id': 59, 'r_ratio': 0.11428571428571428, 'dy': 3, 'dx': 1.5, 'cluster_type': 'child'}, {'id': 60, 'r_ratio': 0.05714285714285714, 'dy': 3, 'dx': -1.5, 'cluster_type': 'child'}]\n",
      "16\n",
      "reflection_node: 1 at lv up: 2\n",
      "generate cos sim, ecul dist, and nodes sorted by cos sim\n",
      "[{'id': 18, 'cos_sim': np.float64(-0.5755523168344743), 'euclide_dist': np.float64(0.8035952397386502), 'r_ratio': 1.4714285714285715, 'cluster_type': 'neighbour'}, {'id': 21, 'cos_sim': np.float64(-0.4791538267295451), 'euclide_dist': np.float64(1.0154997843986724), 'r_ratio': 0.3, 'cluster_type': 'neighbour'}, {'id': 23, 'cos_sim': np.float64(-0.47174492195640827), 'euclide_dist': np.float64(0.831771797565834), 'r_ratio': 1.1714285714285715, 'cluster_type': 'neighbour'}, {'id': 6, 'cos_sim': np.float64(-0.26896811660847436), 'euclide_dist': np.float64(1.238594290957152), 'r_ratio': 0.5, 'cluster_type': 'neighbour'}, {'id': 27, 'cos_sim': np.float64(-0.2114062464791594), 'euclide_dist': np.float64(0.7128433332564057), 'r_ratio': 0.17142857142857143, 'cluster_type': 'neighbour'}, {'id': 24, 'cos_sim': np.float64(-0.19238211026425456), 'euclide_dist': np.float64(0.6633759032487465), 'r_ratio': 0.37142857142857144, 'cluster_type': 'neighbour'}, {'id': 17, 'cos_sim': np.float64(-0.12264947807782754), 'euclide_dist': np.float64(0.6396058723789214), 'r_ratio': 1.2428571428571429, 'cluster_type': 'neighbour'}, {'id': 20, 'cos_sim': np.float64(-0.0404014525747863), 'euclide_dist': np.float64(0.8797495052704711), 'r_ratio': 0.3142857142857143, 'cluster_type': 'neighbour'}, {'id': 29, 'cos_sim': np.float64(-0.012377440806048454), 'euclide_dist': np.float64(0.9464172983008188), 'r_ratio': 0.07142857142857142, 'cluster_type': 'neighbour'}, {'id': 32, 'cos_sim': np.float64(0.0711024790953264), 'euclide_dist': np.float64(0.5632962511382218), 'r_ratio': 0.24285714285714285, 'cluster_type': 'neighbour'}, {'id': 31, 'cos_sim': np.float64(0.0999930348688301), 'euclide_dist': np.float64(0.6872151914450806), 'r_ratio': 0.2, 'cluster_type': 'neighbour'}, {'id': 19, 'cos_sim': np.float64(0.15265239892871163), 'euclide_dist': np.float64(0.7805917471560612), 'r_ratio': 0.32857142857142857, 'cluster_type': 'neighbour'}, {'id': 22, 'cos_sim': np.float64(0.223631870803192), 'euclide_dist': np.float64(0.6600156586005946), 'r_ratio': 0.5857142857142857, 'cluster_type': 'neighbour'}, {'id': 28, 'cos_sim': np.float64(0.321219111441764), 'euclide_dist': np.float64(0.5913297549055095), 'r_ratio': 0.37142857142857144, 'cluster_type': 'neighbour'}, {'id': 30, 'cos_sim': np.float64(0.39869877880909554), 'euclide_dist': np.float64(0.6034862650974535), 'r_ratio': 0.08571428571428572, 'cluster_type': 'neighbour'}, {'id': 25, 'cos_sim': np.float64(0.4622108178264992), 'euclide_dist': np.float64(0.4391885620683006), 'r_ratio': 0.3, 'cluster_type': 'neighbour'}, {'id': 26, 'cos_sim': np.float64(0.4861045997807609), 'euclide_dist': np.float64(0.5637585403654504), 'r_ratio': 0.22857142857142856, 'cluster_type': 'neighbour'}, {'id': 15, 'cos_sim': np.float64(0.5410417150541238), 'euclide_dist': np.float64(0.4095607249763128), 'r_ratio': 1.3142857142857143, 'cluster_type': 'neighbour'}, {'id': 16, 'cos_sim': np.float64(1.0), 'euclide_dist': np.float64(0.0), 'r_ratio': 1.0, 'cluster_type': 'center'}]\n",
      "[{'id': 3, 'r_ratio': 2.3142857142857145, 'dy': 0, 'dx': 0, 'cluster_type': 'parent'}, {'id': 51, 'r_ratio': 0.07142857142857142, 'dy': 0, 'dx': -0.0, 'cluster_type': 'child'}, {'id': 52, 'r_ratio': 0.11428571428571428, 'dy': 1, 'dx': 0.5, 'cluster_type': 'child'}, {'id': 53, 'r_ratio': 0.2, 'dy': 1, 'dx': -0.5, 'cluster_type': 'child'}, {'id': 54, 'r_ratio': 0.07142857142857142, 'dy': 2, 'dx': -0.0, 'cluster_type': 'child'}, {'id': 55, 'r_ratio': 0.11428571428571428, 'dy': 2, 'dx': 1.0, 'cluster_type': 'child'}, {'id': 56, 'r_ratio': 0.04285714285714286, 'dy': 2, 'dx': -1.0, 'cluster_type': 'child'}, {'id': 57, 'r_ratio': 0.1, 'dy': 3, 'dx': 0.5, 'cluster_type': 'child'}, {'id': 58, 'r_ratio': 0.11428571428571428, 'dy': 3, 'dx': -0.5, 'cluster_type': 'child'}, {'id': 59, 'r_ratio': 0.11428571428571428, 'dy': 3, 'dx': 1.5, 'cluster_type': 'child'}, {'id': 60, 'r_ratio': 0.05714285714285714, 'dy': 3, 'dx': -1.5, 'cluster_type': 'child'}]\n"
     ]
    },
    {
     "name": "stderr",
     "output_type": "stream",
     "text": [
      "127.0.0.1 - - [10/Oct/2024 01:23:55] \"POST /graph_tree_circle_click HTTP/1.1\" 200 -\n",
      "127.0.0.1 - - [10/Oct/2024 01:23:55] \"POST /graph_tree_circle_click HTTP/1.1\" 200 -\n"
     ]
    },
    {
     "name": "stdout",
     "output_type": "stream",
     "text": [
      "16\n",
      "reflection_node: 1 at lv up: 2\n",
      "generate cos sim, ecul dist, and nodes sorted by cos sim\n",
      "[{'id': 18, 'cos_sim': np.float64(-0.5755523168344743), 'euclide_dist': np.float64(0.8035952397386502), 'r_ratio': 1.4714285714285715, 'cluster_type': 'neighbour'}, {'id': 21, 'cos_sim': np.float64(-0.4791538267295451), 'euclide_dist': np.float64(1.0154997843986724), 'r_ratio': 0.3, 'cluster_type': 'neighbour'}, {'id': 23, 'cos_sim': np.float64(-0.47174492195640827), 'euclide_dist': np.float64(0.831771797565834), 'r_ratio': 1.1714285714285715, 'cluster_type': 'neighbour'}, {'id': 6, 'cos_sim': np.float64(-0.26896811660847436), 'euclide_dist': np.float64(1.238594290957152), 'r_ratio': 0.5, 'cluster_type': 'neighbour'}, {'id': 27, 'cos_sim': np.float64(-0.2114062464791594), 'euclide_dist': np.float64(0.7128433332564057), 'r_ratio': 0.17142857142857143, 'cluster_type': 'neighbour'}, {'id': 24, 'cos_sim': np.float64(-0.19238211026425456), 'euclide_dist': np.float64(0.6633759032487465), 'r_ratio': 0.37142857142857144, 'cluster_type': 'neighbour'}, {'id': 17, 'cos_sim': np.float64(-0.12264947807782754), 'euclide_dist': np.float64(0.6396058723789214), 'r_ratio': 1.2428571428571429, 'cluster_type': 'neighbour'}, {'id': 20, 'cos_sim': np.float64(-0.0404014525747863), 'euclide_dist': np.float64(0.8797495052704711), 'r_ratio': 0.3142857142857143, 'cluster_type': 'neighbour'}, {'id': 29, 'cos_sim': np.float64(-0.012377440806048454), 'euclide_dist': np.float64(0.9464172983008188), 'r_ratio': 0.07142857142857142, 'cluster_type': 'neighbour'}, {'id': 32, 'cos_sim': np.float64(0.0711024790953264), 'euclide_dist': np.float64(0.5632962511382218), 'r_ratio': 0.24285714285714285, 'cluster_type': 'neighbour'}, {'id': 31, 'cos_sim': np.float64(0.0999930348688301), 'euclide_dist': np.float64(0.6872151914450806), 'r_ratio': 0.2, 'cluster_type': 'neighbour'}, {'id': 19, 'cos_sim': np.float64(0.15265239892871163), 'euclide_dist': np.float64(0.7805917471560612), 'r_ratio': 0.32857142857142857, 'cluster_type': 'neighbour'}, {'id': 22, 'cos_sim': np.float64(0.223631870803192), 'euclide_dist': np.float64(0.6600156586005946), 'r_ratio': 0.5857142857142857, 'cluster_type': 'neighbour'}, {'id': 28, 'cos_sim': np.float64(0.321219111441764), 'euclide_dist': np.float64(0.5913297549055095), 'r_ratio': 0.37142857142857144, 'cluster_type': 'neighbour'}, {'id': 30, 'cos_sim': np.float64(0.39869877880909554), 'euclide_dist': np.float64(0.6034862650974535), 'r_ratio': 0.08571428571428572, 'cluster_type': 'neighbour'}, {'id': 25, 'cos_sim': np.float64(0.4622108178264992), 'euclide_dist': np.float64(0.4391885620683006), 'r_ratio': 0.3, 'cluster_type': 'neighbour'}, {'id': 26, 'cos_sim': np.float64(0.4861045997807609), 'euclide_dist': np.float64(0.5637585403654504), 'r_ratio': 0.22857142857142856, 'cluster_type': 'neighbour'}, {'id': 15, 'cos_sim': np.float64(0.5410417150541238), 'euclide_dist': np.float64(0.4095607249763128), 'r_ratio': 1.3142857142857143, 'cluster_type': 'neighbour'}, {'id': 16, 'cos_sim': np.float64(1.0), 'euclide_dist': np.float64(0.0), 'r_ratio': 1.0, 'cluster_type': 'center'}]\n",
      "[{'id': 3, 'r_ratio': 2.3142857142857145, 'dy': 0, 'dx': 0, 'cluster_type': 'parent'}, {'id': 51, 'r_ratio': 0.07142857142857142, 'dy': 0, 'dx': -0.0, 'cluster_type': 'child'}, {'id': 52, 'r_ratio': 0.11428571428571428, 'dy': 1, 'dx': 0.5, 'cluster_type': 'child'}, {'id': 53, 'r_ratio': 0.2, 'dy': 1, 'dx': -0.5, 'cluster_type': 'child'}, {'id': 54, 'r_ratio': 0.07142857142857142, 'dy': 2, 'dx': -0.0, 'cluster_type': 'child'}, {'id': 55, 'r_ratio': 0.11428571428571428, 'dy': 2, 'dx': 1.0, 'cluster_type': 'child'}, {'id': 56, 'r_ratio': 0.04285714285714286, 'dy': 2, 'dx': -1.0, 'cluster_type': 'child'}, {'id': 57, 'r_ratio': 0.1, 'dy': 3, 'dx': 0.5, 'cluster_type': 'child'}, {'id': 58, 'r_ratio': 0.11428571428571428, 'dy': 3, 'dx': -0.5, 'cluster_type': 'child'}, {'id': 59, 'r_ratio': 0.11428571428571428, 'dy': 3, 'dx': 1.5, 'cluster_type': 'child'}, {'id': 60, 'r_ratio': 0.05714285714285714, 'dy': 3, 'dx': -1.5, 'cluster_type': 'child'}]\n",
      "16\n",
      "reflection_node: 1 at lv up: 2\n",
      "generate cos sim, ecul dist, and nodes sorted by cos sim\n",
      "[{'id': 18, 'cos_sim': np.float64(-0.5755523168344743), 'euclide_dist': np.float64(0.8035952397386502), 'r_ratio': 1.4714285714285715, 'cluster_type': 'neighbour'}, {'id': 21, 'cos_sim': np.float64(-0.4791538267295451), 'euclide_dist': np.float64(1.0154997843986724), 'r_ratio': 0.3, 'cluster_type': 'neighbour'}, {'id': 23, 'cos_sim': np.float64(-0.47174492195640827), 'euclide_dist': np.float64(0.831771797565834), 'r_ratio': 1.1714285714285715, 'cluster_type': 'neighbour'}, {'id': 6, 'cos_sim': np.float64(-0.26896811660847436), 'euclide_dist': np.float64(1.238594290957152), 'r_ratio': 0.5, 'cluster_type': 'neighbour'}, {'id': 27, 'cos_sim': np.float64(-0.2114062464791594), 'euclide_dist': np.float64(0.7128433332564057), 'r_ratio': 0.17142857142857143, 'cluster_type': 'neighbour'}, {'id': 24, 'cos_sim': np.float64(-0.19238211026425456), 'euclide_dist': np.float64(0.6633759032487465), 'r_ratio': 0.37142857142857144, 'cluster_type': 'neighbour'}, {'id': 17, 'cos_sim': np.float64(-0.12264947807782754), 'euclide_dist': np.float64(0.6396058723789214), 'r_ratio': 1.2428571428571429, 'cluster_type': 'neighbour'}, {'id': 20, 'cos_sim': np.float64(-0.0404014525747863), 'euclide_dist': np.float64(0.8797495052704711), 'r_ratio': 0.3142857142857143, 'cluster_type': 'neighbour'}, {'id': 29, 'cos_sim': np.float64(-0.012377440806048454), 'euclide_dist': np.float64(0.9464172983008188), 'r_ratio': 0.07142857142857142, 'cluster_type': 'neighbour'}, {'id': 32, 'cos_sim': np.float64(0.0711024790953264), 'euclide_dist': np.float64(0.5632962511382218), 'r_ratio': 0.24285714285714285, 'cluster_type': 'neighbour'}, {'id': 31, 'cos_sim': np.float64(0.0999930348688301), 'euclide_dist': np.float64(0.6872151914450806), 'r_ratio': 0.2, 'cluster_type': 'neighbour'}, {'id': 19, 'cos_sim': np.float64(0.15265239892871163), 'euclide_dist': np.float64(0.7805917471560612), 'r_ratio': 0.32857142857142857, 'cluster_type': 'neighbour'}, {'id': 22, 'cos_sim': np.float64(0.223631870803192), 'euclide_dist': np.float64(0.6600156586005946), 'r_ratio': 0.5857142857142857, 'cluster_type': 'neighbour'}, {'id': 28, 'cos_sim': np.float64(0.321219111441764), 'euclide_dist': np.float64(0.5913297549055095), 'r_ratio': 0.37142857142857144, 'cluster_type': 'neighbour'}, {'id': 30, 'cos_sim': np.float64(0.39869877880909554), 'euclide_dist': np.float64(0.6034862650974535), 'r_ratio': 0.08571428571428572, 'cluster_type': 'neighbour'}, {'id': 25, 'cos_sim': np.float64(0.4622108178264992), 'euclide_dist': np.float64(0.4391885620683006), 'r_ratio': 0.3, 'cluster_type': 'neighbour'}, {'id': 26, 'cos_sim': np.float64(0.4861045997807609), 'euclide_dist': np.float64(0.5637585403654504), 'r_ratio': 0.22857142857142856, 'cluster_type': 'neighbour'}, {'id': 15, 'cos_sim': np.float64(0.5410417150541238), 'euclide_dist': np.float64(0.4095607249763128), 'r_ratio': 1.3142857142857143, 'cluster_type': 'neighbour'}, {'id': 16, 'cos_sim': np.float64(1.0), 'euclide_dist': np.float64(0.0), 'r_ratio': 1.0, 'cluster_type': 'center'}]\n",
      "[{'id': 3, 'r_ratio': 2.3142857142857145, 'dy': 0, 'dx': 0, 'cluster_type': 'parent'}, {'id': 51, 'r_ratio': 0.07142857142857142, 'dy': 0, 'dx': -0.0, 'cluster_type': 'child'}, {'id': 52, 'r_ratio': 0.11428571428571428, 'dy': 1, 'dx': 0.5, 'cluster_type': 'child'}, {'id': 53, 'r_ratio': 0.2, 'dy': 1, 'dx': -0.5, 'cluster_type': 'child'}, {'id': 54, 'r_ratio': 0.07142857142857142, 'dy': 2, 'dx': -0.0, 'cluster_type': 'child'}, {'id': 55, 'r_ratio': 0.11428571428571428, 'dy': 2, 'dx': 1.0, 'cluster_type': 'child'}, {'id': 56, 'r_ratio': 0.04285714285714286, 'dy': 2, 'dx': -1.0, 'cluster_type': 'child'}, {'id': 57, 'r_ratio': 0.1, 'dy': 3, 'dx': 0.5, 'cluster_type': 'child'}, {'id': 58, 'r_ratio': 0.11428571428571428, 'dy': 3, 'dx': -0.5, 'cluster_type': 'child'}, {'id': 59, 'r_ratio': 0.11428571428571428, 'dy': 3, 'dx': 1.5, 'cluster_type': 'child'}, {'id': 60, 'r_ratio': 0.05714285714285714, 'dy': 3, 'dx': -1.5, 'cluster_type': 'child'}]\n"
     ]
    },
    {
     "name": "stderr",
     "output_type": "stream",
     "text": [
      "127.0.0.1 - - [10/Oct/2024 01:23:55] \"POST /graph_tree_circle_click HTTP/1.1\" 200 -\n",
      "127.0.0.1 - - [10/Oct/2024 01:23:55] \"POST /graph_tree_circle_click HTTP/1.1\" 200 -\n"
     ]
    },
    {
     "name": "stdout",
     "output_type": "stream",
     "text": [
      "16\n",
      "reflection_node: 1 at lv up: 2\n",
      "generate cos sim, ecul dist, and nodes sorted by cos sim\n",
      "[{'id': 18, 'cos_sim': np.float64(-0.5755523168344743), 'euclide_dist': np.float64(0.8035952397386502), 'r_ratio': 1.4714285714285715, 'cluster_type': 'neighbour'}, {'id': 21, 'cos_sim': np.float64(-0.4791538267295451), 'euclide_dist': np.float64(1.0154997843986724), 'r_ratio': 0.3, 'cluster_type': 'neighbour'}, {'id': 23, 'cos_sim': np.float64(-0.47174492195640827), 'euclide_dist': np.float64(0.831771797565834), 'r_ratio': 1.1714285714285715, 'cluster_type': 'neighbour'}, {'id': 6, 'cos_sim': np.float64(-0.26896811660847436), 'euclide_dist': np.float64(1.238594290957152), 'r_ratio': 0.5, 'cluster_type': 'neighbour'}, {'id': 27, 'cos_sim': np.float64(-0.2114062464791594), 'euclide_dist': np.float64(0.7128433332564057), 'r_ratio': 0.17142857142857143, 'cluster_type': 'neighbour'}, {'id': 24, 'cos_sim': np.float64(-0.19238211026425456), 'euclide_dist': np.float64(0.6633759032487465), 'r_ratio': 0.37142857142857144, 'cluster_type': 'neighbour'}, {'id': 17, 'cos_sim': np.float64(-0.12264947807782754), 'euclide_dist': np.float64(0.6396058723789214), 'r_ratio': 1.2428571428571429, 'cluster_type': 'neighbour'}, {'id': 20, 'cos_sim': np.float64(-0.0404014525747863), 'euclide_dist': np.float64(0.8797495052704711), 'r_ratio': 0.3142857142857143, 'cluster_type': 'neighbour'}, {'id': 29, 'cos_sim': np.float64(-0.012377440806048454), 'euclide_dist': np.float64(0.9464172983008188), 'r_ratio': 0.07142857142857142, 'cluster_type': 'neighbour'}, {'id': 32, 'cos_sim': np.float64(0.0711024790953264), 'euclide_dist': np.float64(0.5632962511382218), 'r_ratio': 0.24285714285714285, 'cluster_type': 'neighbour'}, {'id': 31, 'cos_sim': np.float64(0.0999930348688301), 'euclide_dist': np.float64(0.6872151914450806), 'r_ratio': 0.2, 'cluster_type': 'neighbour'}, {'id': 19, 'cos_sim': np.float64(0.15265239892871163), 'euclide_dist': np.float64(0.7805917471560612), 'r_ratio': 0.32857142857142857, 'cluster_type': 'neighbour'}, {'id': 22, 'cos_sim': np.float64(0.223631870803192), 'euclide_dist': np.float64(0.6600156586005946), 'r_ratio': 0.5857142857142857, 'cluster_type': 'neighbour'}, {'id': 28, 'cos_sim': np.float64(0.321219111441764), 'euclide_dist': np.float64(0.5913297549055095), 'r_ratio': 0.37142857142857144, 'cluster_type': 'neighbour'}, {'id': 30, 'cos_sim': np.float64(0.39869877880909554), 'euclide_dist': np.float64(0.6034862650974535), 'r_ratio': 0.08571428571428572, 'cluster_type': 'neighbour'}, {'id': 25, 'cos_sim': np.float64(0.4622108178264992), 'euclide_dist': np.float64(0.4391885620683006), 'r_ratio': 0.3, 'cluster_type': 'neighbour'}, {'id': 26, 'cos_sim': np.float64(0.4861045997807609), 'euclide_dist': np.float64(0.5637585403654504), 'r_ratio': 0.22857142857142856, 'cluster_type': 'neighbour'}, {'id': 15, 'cos_sim': np.float64(0.5410417150541238), 'euclide_dist': np.float64(0.4095607249763128), 'r_ratio': 1.3142857142857143, 'cluster_type': 'neighbour'}, {'id': 16, 'cos_sim': np.float64(1.0), 'euclide_dist': np.float64(0.0), 'r_ratio': 1.0, 'cluster_type': 'center'}]\n",
      "[{'id': 3, 'r_ratio': 2.3142857142857145, 'dy': 0, 'dx': 0, 'cluster_type': 'parent'}, {'id': 51, 'r_ratio': 0.07142857142857142, 'dy': 0, 'dx': -0.0, 'cluster_type': 'child'}, {'id': 52, 'r_ratio': 0.11428571428571428, 'dy': 1, 'dx': 0.5, 'cluster_type': 'child'}, {'id': 53, 'r_ratio': 0.2, 'dy': 1, 'dx': -0.5, 'cluster_type': 'child'}, {'id': 54, 'r_ratio': 0.07142857142857142, 'dy': 2, 'dx': -0.0, 'cluster_type': 'child'}, {'id': 55, 'r_ratio': 0.11428571428571428, 'dy': 2, 'dx': 1.0, 'cluster_type': 'child'}, {'id': 56, 'r_ratio': 0.04285714285714286, 'dy': 2, 'dx': -1.0, 'cluster_type': 'child'}, {'id': 57, 'r_ratio': 0.1, 'dy': 3, 'dx': 0.5, 'cluster_type': 'child'}, {'id': 58, 'r_ratio': 0.11428571428571428, 'dy': 3, 'dx': -0.5, 'cluster_type': 'child'}, {'id': 59, 'r_ratio': 0.11428571428571428, 'dy': 3, 'dx': 1.5, 'cluster_type': 'child'}, {'id': 60, 'r_ratio': 0.05714285714285714, 'dy': 3, 'dx': -1.5, 'cluster_type': 'child'}]\n",
      "16\n",
      "reflection_node: 1 at lv up: 2\n",
      "generate cos sim, ecul dist, and nodes sorted by cos sim\n",
      "[{'id': 18, 'cos_sim': np.float64(-0.5755523168344743), 'euclide_dist': np.float64(0.8035952397386502), 'r_ratio': 1.4714285714285715, 'cluster_type': 'neighbour'}, {'id': 21, 'cos_sim': np.float64(-0.4791538267295451), 'euclide_dist': np.float64(1.0154997843986724), 'r_ratio': 0.3, 'cluster_type': 'neighbour'}, {'id': 23, 'cos_sim': np.float64(-0.47174492195640827), 'euclide_dist': np.float64(0.831771797565834), 'r_ratio': 1.1714285714285715, 'cluster_type': 'neighbour'}, {'id': 6, 'cos_sim': np.float64(-0.26896811660847436), 'euclide_dist': np.float64(1.238594290957152), 'r_ratio': 0.5, 'cluster_type': 'neighbour'}, {'id': 27, 'cos_sim': np.float64(-0.2114062464791594), 'euclide_dist': np.float64(0.7128433332564057), 'r_ratio': 0.17142857142857143, 'cluster_type': 'neighbour'}, {'id': 24, 'cos_sim': np.float64(-0.19238211026425456), 'euclide_dist': np.float64(0.6633759032487465), 'r_ratio': 0.37142857142857144, 'cluster_type': 'neighbour'}, {'id': 17, 'cos_sim': np.float64(-0.12264947807782754), 'euclide_dist': np.float64(0.6396058723789214), 'r_ratio': 1.2428571428571429, 'cluster_type': 'neighbour'}, {'id': 20, 'cos_sim': np.float64(-0.0404014525747863), 'euclide_dist': np.float64(0.8797495052704711), 'r_ratio': 0.3142857142857143, 'cluster_type': 'neighbour'}, {'id': 29, 'cos_sim': np.float64(-0.012377440806048454), 'euclide_dist': np.float64(0.9464172983008188), 'r_ratio': 0.07142857142857142, 'cluster_type': 'neighbour'}, {'id': 32, 'cos_sim': np.float64(0.0711024790953264), 'euclide_dist': np.float64(0.5632962511382218), 'r_ratio': 0.24285714285714285, 'cluster_type': 'neighbour'}, {'id': 31, 'cos_sim': np.float64(0.0999930348688301), 'euclide_dist': np.float64(0.6872151914450806), 'r_ratio': 0.2, 'cluster_type': 'neighbour'}, {'id': 19, 'cos_sim': np.float64(0.15265239892871163), 'euclide_dist': np.float64(0.7805917471560612), 'r_ratio': 0.32857142857142857, 'cluster_type': 'neighbour'}, {'id': 22, 'cos_sim': np.float64(0.223631870803192), 'euclide_dist': np.float64(0.6600156586005946), 'r_ratio': 0.5857142857142857, 'cluster_type': 'neighbour'}, {'id': 28, 'cos_sim': np.float64(0.321219111441764), 'euclide_dist': np.float64(0.5913297549055095), 'r_ratio': 0.37142857142857144, 'cluster_type': 'neighbour'}, {'id': 30, 'cos_sim': np.float64(0.39869877880909554), 'euclide_dist': np.float64(0.6034862650974535), 'r_ratio': 0.08571428571428572, 'cluster_type': 'neighbour'}, {'id': 25, 'cos_sim': np.float64(0.4622108178264992), 'euclide_dist': np.float64(0.4391885620683006), 'r_ratio': 0.3, 'cluster_type': 'neighbour'}, {'id': 26, 'cos_sim': np.float64(0.4861045997807609), 'euclide_dist': np.float64(0.5637585403654504), 'r_ratio': 0.22857142857142856, 'cluster_type': 'neighbour'}, {'id': 15, 'cos_sim': np.float64(0.5410417150541238), 'euclide_dist': np.float64(0.4095607249763128), 'r_ratio': 1.3142857142857143, 'cluster_type': 'neighbour'}, {'id': 16, 'cos_sim': np.float64(1.0), 'euclide_dist': np.float64(0.0), 'r_ratio': 1.0, 'cluster_type': 'center'}]\n",
      "[{'id': 3, 'r_ratio': 2.3142857142857145, 'dy': 0, 'dx': 0, 'cluster_type': 'parent'}, {'id': 51, 'r_ratio': 0.07142857142857142, 'dy': 0, 'dx': -0.0, 'cluster_type': 'child'}, {'id': 52, 'r_ratio': 0.11428571428571428, 'dy': 1, 'dx': 0.5, 'cluster_type': 'child'}, {'id': 53, 'r_ratio': 0.2, 'dy': 1, 'dx': -0.5, 'cluster_type': 'child'}, {'id': 54, 'r_ratio': 0.07142857142857142, 'dy': 2, 'dx': -0.0, 'cluster_type': 'child'}, {'id': 55, 'r_ratio': 0.11428571428571428, 'dy': 2, 'dx': 1.0, 'cluster_type': 'child'}, {'id': 56, 'r_ratio': 0.04285714285714286, 'dy': 2, 'dx': -1.0, 'cluster_type': 'child'}, {'id': 57, 'r_ratio': 0.1, 'dy': 3, 'dx': 0.5, 'cluster_type': 'child'}, {'id': 58, 'r_ratio': 0.11428571428571428, 'dy': 3, 'dx': -0.5, 'cluster_type': 'child'}, {'id': 59, 'r_ratio': 0.11428571428571428, 'dy': 3, 'dx': 1.5, 'cluster_type': 'child'}, {'id': 60, 'r_ratio': 0.05714285714285714, 'dy': 3, 'dx': -1.5, 'cluster_type': 'child'}]\n"
     ]
    },
    {
     "name": "stderr",
     "output_type": "stream",
     "text": [
      "127.0.0.1 - - [10/Oct/2024 01:23:57] \"POST /graph_tree_circle_click HTTP/1.1\" 200 -\n",
      "127.0.0.1 - - [10/Oct/2024 01:23:57] \"POST /graph_tree_circle_click HTTP/1.1\" 200 -\n"
     ]
    },
    {
     "name": "stdout",
     "output_type": "stream",
     "text": [
      "16\n",
      "reflection_node: 1 at lv up: 2\n",
      "generate cos sim, ecul dist, and nodes sorted by cos sim\n",
      "[{'id': 18, 'cos_sim': np.float64(-0.5755523168344743), 'euclide_dist': np.float64(0.8035952397386502), 'r_ratio': 1.4714285714285715, 'cluster_type': 'neighbour'}, {'id': 21, 'cos_sim': np.float64(-0.4791538267295451), 'euclide_dist': np.float64(1.0154997843986724), 'r_ratio': 0.3, 'cluster_type': 'neighbour'}, {'id': 23, 'cos_sim': np.float64(-0.47174492195640827), 'euclide_dist': np.float64(0.831771797565834), 'r_ratio': 1.1714285714285715, 'cluster_type': 'neighbour'}, {'id': 6, 'cos_sim': np.float64(-0.26896811660847436), 'euclide_dist': np.float64(1.238594290957152), 'r_ratio': 0.5, 'cluster_type': 'neighbour'}, {'id': 27, 'cos_sim': np.float64(-0.2114062464791594), 'euclide_dist': np.float64(0.7128433332564057), 'r_ratio': 0.17142857142857143, 'cluster_type': 'neighbour'}, {'id': 24, 'cos_sim': np.float64(-0.19238211026425456), 'euclide_dist': np.float64(0.6633759032487465), 'r_ratio': 0.37142857142857144, 'cluster_type': 'neighbour'}, {'id': 17, 'cos_sim': np.float64(-0.12264947807782754), 'euclide_dist': np.float64(0.6396058723789214), 'r_ratio': 1.2428571428571429, 'cluster_type': 'neighbour'}, {'id': 20, 'cos_sim': np.float64(-0.0404014525747863), 'euclide_dist': np.float64(0.8797495052704711), 'r_ratio': 0.3142857142857143, 'cluster_type': 'neighbour'}, {'id': 29, 'cos_sim': np.float64(-0.012377440806048454), 'euclide_dist': np.float64(0.9464172983008188), 'r_ratio': 0.07142857142857142, 'cluster_type': 'neighbour'}, {'id': 32, 'cos_sim': np.float64(0.0711024790953264), 'euclide_dist': np.float64(0.5632962511382218), 'r_ratio': 0.24285714285714285, 'cluster_type': 'neighbour'}, {'id': 31, 'cos_sim': np.float64(0.0999930348688301), 'euclide_dist': np.float64(0.6872151914450806), 'r_ratio': 0.2, 'cluster_type': 'neighbour'}, {'id': 19, 'cos_sim': np.float64(0.15265239892871163), 'euclide_dist': np.float64(0.7805917471560612), 'r_ratio': 0.32857142857142857, 'cluster_type': 'neighbour'}, {'id': 22, 'cos_sim': np.float64(0.223631870803192), 'euclide_dist': np.float64(0.6600156586005946), 'r_ratio': 0.5857142857142857, 'cluster_type': 'neighbour'}, {'id': 28, 'cos_sim': np.float64(0.321219111441764), 'euclide_dist': np.float64(0.5913297549055095), 'r_ratio': 0.37142857142857144, 'cluster_type': 'neighbour'}, {'id': 30, 'cos_sim': np.float64(0.39869877880909554), 'euclide_dist': np.float64(0.6034862650974535), 'r_ratio': 0.08571428571428572, 'cluster_type': 'neighbour'}, {'id': 25, 'cos_sim': np.float64(0.4622108178264992), 'euclide_dist': np.float64(0.4391885620683006), 'r_ratio': 0.3, 'cluster_type': 'neighbour'}, {'id': 26, 'cos_sim': np.float64(0.4861045997807609), 'euclide_dist': np.float64(0.5637585403654504), 'r_ratio': 0.22857142857142856, 'cluster_type': 'neighbour'}, {'id': 15, 'cos_sim': np.float64(0.5410417150541238), 'euclide_dist': np.float64(0.4095607249763128), 'r_ratio': 1.3142857142857143, 'cluster_type': 'neighbour'}, {'id': 16, 'cos_sim': np.float64(1.0), 'euclide_dist': np.float64(0.0), 'r_ratio': 1.0, 'cluster_type': 'center'}]\n",
      "[{'id': 3, 'r_ratio': 2.3142857142857145, 'dy': 0, 'dx': 0, 'cluster_type': 'parent'}, {'id': 51, 'r_ratio': 0.07142857142857142, 'dy': 0, 'dx': -0.0, 'cluster_type': 'child'}, {'id': 52, 'r_ratio': 0.11428571428571428, 'dy': 1, 'dx': 0.5, 'cluster_type': 'child'}, {'id': 53, 'r_ratio': 0.2, 'dy': 1, 'dx': -0.5, 'cluster_type': 'child'}, {'id': 54, 'r_ratio': 0.07142857142857142, 'dy': 2, 'dx': -0.0, 'cluster_type': 'child'}, {'id': 55, 'r_ratio': 0.11428571428571428, 'dy': 2, 'dx': 1.0, 'cluster_type': 'child'}, {'id': 56, 'r_ratio': 0.04285714285714286, 'dy': 2, 'dx': -1.0, 'cluster_type': 'child'}, {'id': 57, 'r_ratio': 0.1, 'dy': 3, 'dx': 0.5, 'cluster_type': 'child'}, {'id': 58, 'r_ratio': 0.11428571428571428, 'dy': 3, 'dx': -0.5, 'cluster_type': 'child'}, {'id': 59, 'r_ratio': 0.11428571428571428, 'dy': 3, 'dx': 1.5, 'cluster_type': 'child'}, {'id': 60, 'r_ratio': 0.05714285714285714, 'dy': 3, 'dx': -1.5, 'cluster_type': 'child'}]\n",
      "16\n",
      "reflection_node: 1 at lv up: 2\n",
      "generate cos sim, ecul dist, and nodes sorted by cos sim\n",
      "[{'id': 18, 'cos_sim': np.float64(-0.5755523168344743), 'euclide_dist': np.float64(0.8035952397386502), 'r_ratio': 1.4714285714285715, 'cluster_type': 'neighbour'}, {'id': 21, 'cos_sim': np.float64(-0.4791538267295451), 'euclide_dist': np.float64(1.0154997843986724), 'r_ratio': 0.3, 'cluster_type': 'neighbour'}, {'id': 23, 'cos_sim': np.float64(-0.47174492195640827), 'euclide_dist': np.float64(0.831771797565834), 'r_ratio': 1.1714285714285715, 'cluster_type': 'neighbour'}, {'id': 6, 'cos_sim': np.float64(-0.26896811660847436), 'euclide_dist': np.float64(1.238594290957152), 'r_ratio': 0.5, 'cluster_type': 'neighbour'}, {'id': 27, 'cos_sim': np.float64(-0.2114062464791594), 'euclide_dist': np.float64(0.7128433332564057), 'r_ratio': 0.17142857142857143, 'cluster_type': 'neighbour'}, {'id': 24, 'cos_sim': np.float64(-0.19238211026425456), 'euclide_dist': np.float64(0.6633759032487465), 'r_ratio': 0.37142857142857144, 'cluster_type': 'neighbour'}, {'id': 17, 'cos_sim': np.float64(-0.12264947807782754), 'euclide_dist': np.float64(0.6396058723789214), 'r_ratio': 1.2428571428571429, 'cluster_type': 'neighbour'}, {'id': 20, 'cos_sim': np.float64(-0.0404014525747863), 'euclide_dist': np.float64(0.8797495052704711), 'r_ratio': 0.3142857142857143, 'cluster_type': 'neighbour'}, {'id': 29, 'cos_sim': np.float64(-0.012377440806048454), 'euclide_dist': np.float64(0.9464172983008188), 'r_ratio': 0.07142857142857142, 'cluster_type': 'neighbour'}, {'id': 32, 'cos_sim': np.float64(0.0711024790953264), 'euclide_dist': np.float64(0.5632962511382218), 'r_ratio': 0.24285714285714285, 'cluster_type': 'neighbour'}, {'id': 31, 'cos_sim': np.float64(0.0999930348688301), 'euclide_dist': np.float64(0.6872151914450806), 'r_ratio': 0.2, 'cluster_type': 'neighbour'}, {'id': 19, 'cos_sim': np.float64(0.15265239892871163), 'euclide_dist': np.float64(0.7805917471560612), 'r_ratio': 0.32857142857142857, 'cluster_type': 'neighbour'}, {'id': 22, 'cos_sim': np.float64(0.223631870803192), 'euclide_dist': np.float64(0.6600156586005946), 'r_ratio': 0.5857142857142857, 'cluster_type': 'neighbour'}, {'id': 28, 'cos_sim': np.float64(0.321219111441764), 'euclide_dist': np.float64(0.5913297549055095), 'r_ratio': 0.37142857142857144, 'cluster_type': 'neighbour'}, {'id': 30, 'cos_sim': np.float64(0.39869877880909554), 'euclide_dist': np.float64(0.6034862650974535), 'r_ratio': 0.08571428571428572, 'cluster_type': 'neighbour'}, {'id': 25, 'cos_sim': np.float64(0.4622108178264992), 'euclide_dist': np.float64(0.4391885620683006), 'r_ratio': 0.3, 'cluster_type': 'neighbour'}, {'id': 26, 'cos_sim': np.float64(0.4861045997807609), 'euclide_dist': np.float64(0.5637585403654504), 'r_ratio': 0.22857142857142856, 'cluster_type': 'neighbour'}, {'id': 15, 'cos_sim': np.float64(0.5410417150541238), 'euclide_dist': np.float64(0.4095607249763128), 'r_ratio': 1.3142857142857143, 'cluster_type': 'neighbour'}, {'id': 16, 'cos_sim': np.float64(1.0), 'euclide_dist': np.float64(0.0), 'r_ratio': 1.0, 'cluster_type': 'center'}]\n",
      "[{'id': 3, 'r_ratio': 2.3142857142857145, 'dy': 0, 'dx': 0, 'cluster_type': 'parent'}, {'id': 51, 'r_ratio': 0.07142857142857142, 'dy': 0, 'dx': -0.0, 'cluster_type': 'child'}, {'id': 52, 'r_ratio': 0.11428571428571428, 'dy': 1, 'dx': 0.5, 'cluster_type': 'child'}, {'id': 53, 'r_ratio': 0.2, 'dy': 1, 'dx': -0.5, 'cluster_type': 'child'}, {'id': 54, 'r_ratio': 0.07142857142857142, 'dy': 2, 'dx': -0.0, 'cluster_type': 'child'}, {'id': 55, 'r_ratio': 0.11428571428571428, 'dy': 2, 'dx': 1.0, 'cluster_type': 'child'}, {'id': 56, 'r_ratio': 0.04285714285714286, 'dy': 2, 'dx': -1.0, 'cluster_type': 'child'}, {'id': 57, 'r_ratio': 0.1, 'dy': 3, 'dx': 0.5, 'cluster_type': 'child'}, {'id': 58, 'r_ratio': 0.11428571428571428, 'dy': 3, 'dx': -0.5, 'cluster_type': 'child'}, {'id': 59, 'r_ratio': 0.11428571428571428, 'dy': 3, 'dx': 1.5, 'cluster_type': 'child'}, {'id': 60, 'r_ratio': 0.05714285714285714, 'dy': 3, 'dx': -1.5, 'cluster_type': 'child'}]\n"
     ]
    },
    {
     "name": "stderr",
     "output_type": "stream",
     "text": [
      "127.0.0.1 - - [10/Oct/2024 01:23:57] \"POST /graph_tree_circle_click HTTP/1.1\" 200 -\n"
     ]
    },
    {
     "name": "stdout",
     "output_type": "stream",
     "text": [
      "16\n",
      "reflection_node: 1 at lv up: 2\n",
      "generate cos sim, ecul dist, and nodes sorted by cos sim\n",
      "[{'id': 18, 'cos_sim': np.float64(-0.5755523168344743), 'euclide_dist': np.float64(0.8035952397386502), 'r_ratio': 1.4714285714285715, 'cluster_type': 'neighbour'}, {'id': 21, 'cos_sim': np.float64(-0.4791538267295451), 'euclide_dist': np.float64(1.0154997843986724), 'r_ratio': 0.3, 'cluster_type': 'neighbour'}, {'id': 23, 'cos_sim': np.float64(-0.47174492195640827), 'euclide_dist': np.float64(0.831771797565834), 'r_ratio': 1.1714285714285715, 'cluster_type': 'neighbour'}, {'id': 6, 'cos_sim': np.float64(-0.26896811660847436), 'euclide_dist': np.float64(1.238594290957152), 'r_ratio': 0.5, 'cluster_type': 'neighbour'}, {'id': 27, 'cos_sim': np.float64(-0.2114062464791594), 'euclide_dist': np.float64(0.7128433332564057), 'r_ratio': 0.17142857142857143, 'cluster_type': 'neighbour'}, {'id': 24, 'cos_sim': np.float64(-0.19238211026425456), 'euclide_dist': np.float64(0.6633759032487465), 'r_ratio': 0.37142857142857144, 'cluster_type': 'neighbour'}, {'id': 17, 'cos_sim': np.float64(-0.12264947807782754), 'euclide_dist': np.float64(0.6396058723789214), 'r_ratio': 1.2428571428571429, 'cluster_type': 'neighbour'}, {'id': 20, 'cos_sim': np.float64(-0.0404014525747863), 'euclide_dist': np.float64(0.8797495052704711), 'r_ratio': 0.3142857142857143, 'cluster_type': 'neighbour'}, {'id': 29, 'cos_sim': np.float64(-0.012377440806048454), 'euclide_dist': np.float64(0.9464172983008188), 'r_ratio': 0.07142857142857142, 'cluster_type': 'neighbour'}, {'id': 32, 'cos_sim': np.float64(0.0711024790953264), 'euclide_dist': np.float64(0.5632962511382218), 'r_ratio': 0.24285714285714285, 'cluster_type': 'neighbour'}, {'id': 31, 'cos_sim': np.float64(0.0999930348688301), 'euclide_dist': np.float64(0.6872151914450806), 'r_ratio': 0.2, 'cluster_type': 'neighbour'}, {'id': 19, 'cos_sim': np.float64(0.15265239892871163), 'euclide_dist': np.float64(0.7805917471560612), 'r_ratio': 0.32857142857142857, 'cluster_type': 'neighbour'}, {'id': 22, 'cos_sim': np.float64(0.223631870803192), 'euclide_dist': np.float64(0.6600156586005946), 'r_ratio': 0.5857142857142857, 'cluster_type': 'neighbour'}, {'id': 28, 'cos_sim': np.float64(0.321219111441764), 'euclide_dist': np.float64(0.5913297549055095), 'r_ratio': 0.37142857142857144, 'cluster_type': 'neighbour'}, {'id': 30, 'cos_sim': np.float64(0.39869877880909554), 'euclide_dist': np.float64(0.6034862650974535), 'r_ratio': 0.08571428571428572, 'cluster_type': 'neighbour'}, {'id': 25, 'cos_sim': np.float64(0.4622108178264992), 'euclide_dist': np.float64(0.4391885620683006), 'r_ratio': 0.3, 'cluster_type': 'neighbour'}, {'id': 26, 'cos_sim': np.float64(0.4861045997807609), 'euclide_dist': np.float64(0.5637585403654504), 'r_ratio': 0.22857142857142856, 'cluster_type': 'neighbour'}, {'id': 15, 'cos_sim': np.float64(0.5410417150541238), 'euclide_dist': np.float64(0.4095607249763128), 'r_ratio': 1.3142857142857143, 'cluster_type': 'neighbour'}, {'id': 16, 'cos_sim': np.float64(1.0), 'euclide_dist': np.float64(0.0), 'r_ratio': 1.0, 'cluster_type': 'center'}]\n",
      "[{'id': 3, 'r_ratio': 2.3142857142857145, 'dy': 0, 'dx': 0, 'cluster_type': 'parent'}, {'id': 51, 'r_ratio': 0.07142857142857142, 'dy': 0, 'dx': -0.0, 'cluster_type': 'child'}, {'id': 52, 'r_ratio': 0.11428571428571428, 'dy': 1, 'dx': 0.5, 'cluster_type': 'child'}, {'id': 53, 'r_ratio': 0.2, 'dy': 1, 'dx': -0.5, 'cluster_type': 'child'}, {'id': 54, 'r_ratio': 0.07142857142857142, 'dy': 2, 'dx': -0.0, 'cluster_type': 'child'}, {'id': 55, 'r_ratio': 0.11428571428571428, 'dy': 2, 'dx': 1.0, 'cluster_type': 'child'}, {'id': 56, 'r_ratio': 0.04285714285714286, 'dy': 2, 'dx': -1.0, 'cluster_type': 'child'}, {'id': 57, 'r_ratio': 0.1, 'dy': 3, 'dx': 0.5, 'cluster_type': 'child'}, {'id': 58, 'r_ratio': 0.11428571428571428, 'dy': 3, 'dx': -0.5, 'cluster_type': 'child'}, {'id': 59, 'r_ratio': 0.11428571428571428, 'dy': 3, 'dx': 1.5, 'cluster_type': 'child'}, {'id': 60, 'r_ratio': 0.05714285714285714, 'dy': 3, 'dx': -1.5, 'cluster_type': 'child'}]\n"
     ]
    },
    {
     "name": "stderr",
     "output_type": "stream",
     "text": [
      "127.0.0.1 - - [10/Oct/2024 01:23:57] \"POST /graph_tree_circle_click HTTP/1.1\" 200 -\n",
      "127.0.0.1 - - [10/Oct/2024 01:23:58] \"POST /graph_tree_circle_click HTTP/1.1\" 200 -\n"
     ]
    },
    {
     "name": "stdout",
     "output_type": "stream",
     "text": [
      "15\n",
      "reflection_node: 1 at lv up: 2\n",
      "generate cos sim, ecul dist, and nodes sorted by cos sim\n",
      "[{'id': 23, 'cos_sim': np.float64(-0.6476532703234698), 'euclide_dist': np.float64(0.8879948522221652), 'r_ratio': 0.8913043478260869, 'cluster_type': 'neighbour'}, {'id': 6, 'cos_sim': np.float64(-0.5803859599202654), 'euclide_dist': np.float64(1.3538895134902649), 'r_ratio': 0.3804347826086957, 'cluster_type': 'neighbour'}, {'id': 18, 'cos_sim': np.float64(-0.3705989146260198), 'euclide_dist': np.float64(0.7579575855032028), 'r_ratio': 1.1195652173913044, 'cluster_type': 'neighbour'}, {'id': 22, 'cos_sim': np.float64(-0.296414149113913), 'euclide_dist': np.float64(0.8461908932675033), 'r_ratio': 0.44565217391304346, 'cluster_type': 'neighbour'}, {'id': 31, 'cos_sim': np.float64(-0.1524072528309201), 'euclide_dist': np.float64(0.779518553287808), 'r_ratio': 0.15217391304347827, 'cluster_type': 'neighbour'}, {'id': 25, 'cos_sim': np.float64(-0.14372367947149775), 'euclide_dist': np.float64(0.6481445291703153), 'r_ratio': 0.22826086956521738, 'cluster_type': 'neighbour'}, {'id': 21, 'cos_sim': np.float64(-0.12856934139224366), 'euclide_dist': np.float64(0.906522849473695), 'r_ratio': 0.22826086956521738, 'cluster_type': 'neighbour'}, {'id': 24, 'cos_sim': np.float64(-0.056824457416119356), 'euclide_dist': np.float64(0.6318318873080015), 'r_ratio': 0.2826086956521739, 'cluster_type': 'neighbour'}, {'id': 29, 'cos_sim': np.float64(0.02289284235923583), 'euclide_dist': np.float64(0.9374897757581903), 'r_ratio': 0.05434782608695652, 'cluster_type': 'neighbour'}, {'id': 26, 'cos_sim': np.float64(0.06295958841759898), 'euclide_dist': np.float64(0.7425313071230224), 'r_ratio': 0.17391304347826086, 'cluster_type': 'neighbour'}, {'id': 27, 'cos_sim': np.float64(0.06442512818422812), 'euclide_dist': np.float64(0.6336812444271965), 'r_ratio': 0.13043478260869565, 'cluster_type': 'neighbour'}, {'id': 19, 'cos_sim': np.float64(0.1708482389397638), 'euclide_dist': np.float64(0.7773925909214805), 'r_ratio': 0.25, 'cluster_type': 'neighbour'}, {'id': 20, 'cos_sim': np.float64(0.21897489402069886), 'euclide_dist': np.float64(0.7835067396683972), 'r_ratio': 0.2391304347826087, 'cluster_type': 'neighbour'}, {'id': 17, 'cos_sim': np.float64(0.2526919673945555), 'euclide_dist': np.float64(0.528005737369058), 'r_ratio': 0.9456521739130435, 'cluster_type': 'neighbour'}, {'id': 28, 'cos_sim': np.float64(0.28184641054260323), 'euclide_dist': np.float64(0.6116024757859497), 'r_ratio': 0.2826086956521739, 'cluster_type': 'neighbour'}, {'id': 32, 'cos_sim': np.float64(0.4066044958470099), 'euclide_dist': np.float64(0.45622768766091587), 'r_ratio': 0.18478260869565216, 'cluster_type': 'neighbour'}, {'id': 30, 'cos_sim': np.float64(0.41236159316892157), 'euclide_dist': np.float64(0.6002440213926317), 'r_ratio': 0.06521739130434782, 'cluster_type': 'neighbour'}, {'id': 16, 'cos_sim': np.float64(0.5410417150541238), 'euclide_dist': np.float64(0.4095607249763128), 'r_ratio': 0.7608695652173914, 'cluster_type': 'neighbour'}, {'id': 15, 'cos_sim': np.float64(1.0), 'euclide_dist': np.float64(0.0), 'r_ratio': 1.0, 'cluster_type': 'center'}]\n",
      "[{'id': 3, 'r_ratio': 1.7608695652173914, 'dy': 0, 'dx': 0, 'cluster_type': 'parent'}, {'id': 47, 'r_ratio': 0.25, 'dy': 0, 'dx': -0.0, 'cluster_type': 'child'}, {'id': 48, 'r_ratio': 0.32608695652173914, 'dy': 1, 'dx': 0.5, 'cluster_type': 'child'}, {'id': 49, 'r_ratio': 0.2717391304347826, 'dy': 1, 'dx': -0.5, 'cluster_type': 'child'}, {'id': 50, 'r_ratio': 0.15217391304347827, 'dy': 2, 'dx': -0.0, 'cluster_type': 'child'}]\n",
      "15\n",
      "reflection_node: 1 at lv up: 2\n",
      "generate cos sim, ecul dist, and nodes sorted by cos sim\n",
      "[{'id': 23, 'cos_sim': np.float64(-0.6476532703234698), 'euclide_dist': np.float64(0.8879948522221652), 'r_ratio': 0.8913043478260869, 'cluster_type': 'neighbour'}, {'id': 6, 'cos_sim': np.float64(-0.5803859599202654), 'euclide_dist': np.float64(1.3538895134902649), 'r_ratio': 0.3804347826086957, 'cluster_type': 'neighbour'}, {'id': 18, 'cos_sim': np.float64(-0.3705989146260198), 'euclide_dist': np.float64(0.7579575855032028), 'r_ratio': 1.1195652173913044, 'cluster_type': 'neighbour'}, {'id': 22, 'cos_sim': np.float64(-0.296414149113913), 'euclide_dist': np.float64(0.8461908932675033), 'r_ratio': 0.44565217391304346, 'cluster_type': 'neighbour'}, {'id': 31, 'cos_sim': np.float64(-0.1524072528309201), 'euclide_dist': np.float64(0.779518553287808), 'r_ratio': 0.15217391304347827, 'cluster_type': 'neighbour'}, {'id': 25, 'cos_sim': np.float64(-0.14372367947149775), 'euclide_dist': np.float64(0.6481445291703153), 'r_ratio': 0.22826086956521738, 'cluster_type': 'neighbour'}, {'id': 21, 'cos_sim': np.float64(-0.12856934139224366), 'euclide_dist': np.float64(0.906522849473695), 'r_ratio': 0.22826086956521738, 'cluster_type': 'neighbour'}, {'id': 24, 'cos_sim': np.float64(-0.056824457416119356), 'euclide_dist': np.float64(0.6318318873080015), 'r_ratio': 0.2826086956521739, 'cluster_type': 'neighbour'}, {'id': 29, 'cos_sim': np.float64(0.02289284235923583), 'euclide_dist': np.float64(0.9374897757581903), 'r_ratio': 0.05434782608695652, 'cluster_type': 'neighbour'}, {'id': 26, 'cos_sim': np.float64(0.06295958841759898), 'euclide_dist': np.float64(0.7425313071230224), 'r_ratio': 0.17391304347826086, 'cluster_type': 'neighbour'}, {'id': 27, 'cos_sim': np.float64(0.06442512818422812), 'euclide_dist': np.float64(0.6336812444271965), 'r_ratio': 0.13043478260869565, 'cluster_type': 'neighbour'}, {'id': 19, 'cos_sim': np.float64(0.1708482389397638), 'euclide_dist': np.float64(0.7773925909214805), 'r_ratio': 0.25, 'cluster_type': 'neighbour'}, {'id': 20, 'cos_sim': np.float64(0.21897489402069886), 'euclide_dist': np.float64(0.7835067396683972), 'r_ratio': 0.2391304347826087, 'cluster_type': 'neighbour'}, {'id': 17, 'cos_sim': np.float64(0.2526919673945555), 'euclide_dist': np.float64(0.528005737369058), 'r_ratio': 0.9456521739130435, 'cluster_type': 'neighbour'}, {'id': 28, 'cos_sim': np.float64(0.28184641054260323), 'euclide_dist': np.float64(0.6116024757859497), 'r_ratio': 0.2826086956521739, 'cluster_type': 'neighbour'}, {'id': 32, 'cos_sim': np.float64(0.4066044958470099), 'euclide_dist': np.float64(0.45622768766091587), 'r_ratio': 0.18478260869565216, 'cluster_type': 'neighbour'}, {'id': 30, 'cos_sim': np.float64(0.41236159316892157), 'euclide_dist': np.float64(0.6002440213926317), 'r_ratio': 0.06521739130434782, 'cluster_type': 'neighbour'}, {'id': 16, 'cos_sim': np.float64(0.5410417150541238), 'euclide_dist': np.float64(0.4095607249763128), 'r_ratio': 0.7608695652173914, 'cluster_type': 'neighbour'}, {'id': 15, 'cos_sim': np.float64(1.0), 'euclide_dist': np.float64(0.0), 'r_ratio': 1.0, 'cluster_type': 'center'}]\n",
      "[{'id': 3, 'r_ratio': 1.7608695652173914, 'dy': 0, 'dx': 0, 'cluster_type': 'parent'}, {'id': 47, 'r_ratio': 0.25, 'dy': 0, 'dx': -0.0, 'cluster_type': 'child'}, {'id': 48, 'r_ratio': 0.32608695652173914, 'dy': 1, 'dx': 0.5, 'cluster_type': 'child'}, {'id': 49, 'r_ratio': 0.2717391304347826, 'dy': 1, 'dx': -0.5, 'cluster_type': 'child'}, {'id': 50, 'r_ratio': 0.15217391304347827, 'dy': 2, 'dx': -0.0, 'cluster_type': 'child'}]\n"
     ]
    },
    {
     "name": "stderr",
     "output_type": "stream",
     "text": [
      "127.0.0.1 - - [10/Oct/2024 01:23:58] \"POST /graph_tree_circle_click HTTP/1.1\" 200 -\n"
     ]
    },
    {
     "name": "stdout",
     "output_type": "stream",
     "text": [
      "15\n",
      "reflection_node: 1 at lv up: 2\n",
      "generate cos sim, ecul dist, and nodes sorted by cos sim\n",
      "[{'id': 23, 'cos_sim': np.float64(-0.6476532703234698), 'euclide_dist': np.float64(0.8879948522221652), 'r_ratio': 0.8913043478260869, 'cluster_type': 'neighbour'}, {'id': 6, 'cos_sim': np.float64(-0.5803859599202654), 'euclide_dist': np.float64(1.3538895134902649), 'r_ratio': 0.3804347826086957, 'cluster_type': 'neighbour'}, {'id': 18, 'cos_sim': np.float64(-0.3705989146260198), 'euclide_dist': np.float64(0.7579575855032028), 'r_ratio': 1.1195652173913044, 'cluster_type': 'neighbour'}, {'id': 22, 'cos_sim': np.float64(-0.296414149113913), 'euclide_dist': np.float64(0.8461908932675033), 'r_ratio': 0.44565217391304346, 'cluster_type': 'neighbour'}, {'id': 31, 'cos_sim': np.float64(-0.1524072528309201), 'euclide_dist': np.float64(0.779518553287808), 'r_ratio': 0.15217391304347827, 'cluster_type': 'neighbour'}, {'id': 25, 'cos_sim': np.float64(-0.14372367947149775), 'euclide_dist': np.float64(0.6481445291703153), 'r_ratio': 0.22826086956521738, 'cluster_type': 'neighbour'}, {'id': 21, 'cos_sim': np.float64(-0.12856934139224366), 'euclide_dist': np.float64(0.906522849473695), 'r_ratio': 0.22826086956521738, 'cluster_type': 'neighbour'}, {'id': 24, 'cos_sim': np.float64(-0.056824457416119356), 'euclide_dist': np.float64(0.6318318873080015), 'r_ratio': 0.2826086956521739, 'cluster_type': 'neighbour'}, {'id': 29, 'cos_sim': np.float64(0.02289284235923583), 'euclide_dist': np.float64(0.9374897757581903), 'r_ratio': 0.05434782608695652, 'cluster_type': 'neighbour'}, {'id': 26, 'cos_sim': np.float64(0.06295958841759898), 'euclide_dist': np.float64(0.7425313071230224), 'r_ratio': 0.17391304347826086, 'cluster_type': 'neighbour'}, {'id': 27, 'cos_sim': np.float64(0.06442512818422812), 'euclide_dist': np.float64(0.6336812444271965), 'r_ratio': 0.13043478260869565, 'cluster_type': 'neighbour'}, {'id': 19, 'cos_sim': np.float64(0.1708482389397638), 'euclide_dist': np.float64(0.7773925909214805), 'r_ratio': 0.25, 'cluster_type': 'neighbour'}, {'id': 20, 'cos_sim': np.float64(0.21897489402069886), 'euclide_dist': np.float64(0.7835067396683972), 'r_ratio': 0.2391304347826087, 'cluster_type': 'neighbour'}, {'id': 17, 'cos_sim': np.float64(0.2526919673945555), 'euclide_dist': np.float64(0.528005737369058), 'r_ratio': 0.9456521739130435, 'cluster_type': 'neighbour'}, {'id': 28, 'cos_sim': np.float64(0.28184641054260323), 'euclide_dist': np.float64(0.6116024757859497), 'r_ratio': 0.2826086956521739, 'cluster_type': 'neighbour'}, {'id': 32, 'cos_sim': np.float64(0.4066044958470099), 'euclide_dist': np.float64(0.45622768766091587), 'r_ratio': 0.18478260869565216, 'cluster_type': 'neighbour'}, {'id': 30, 'cos_sim': np.float64(0.41236159316892157), 'euclide_dist': np.float64(0.6002440213926317), 'r_ratio': 0.06521739130434782, 'cluster_type': 'neighbour'}, {'id': 16, 'cos_sim': np.float64(0.5410417150541238), 'euclide_dist': np.float64(0.4095607249763128), 'r_ratio': 0.7608695652173914, 'cluster_type': 'neighbour'}, {'id': 15, 'cos_sim': np.float64(1.0), 'euclide_dist': np.float64(0.0), 'r_ratio': 1.0, 'cluster_type': 'center'}]\n",
      "[{'id': 3, 'r_ratio': 1.7608695652173914, 'dy': 0, 'dx': 0, 'cluster_type': 'parent'}, {'id': 47, 'r_ratio': 0.25, 'dy': 0, 'dx': -0.0, 'cluster_type': 'child'}, {'id': 48, 'r_ratio': 0.32608695652173914, 'dy': 1, 'dx': 0.5, 'cluster_type': 'child'}, {'id': 49, 'r_ratio': 0.2717391304347826, 'dy': 1, 'dx': -0.5, 'cluster_type': 'child'}, {'id': 50, 'r_ratio': 0.15217391304347827, 'dy': 2, 'dx': -0.0, 'cluster_type': 'child'}]\n"
     ]
    },
    {
     "name": "stderr",
     "output_type": "stream",
     "text": [
      "127.0.0.1 - - [10/Oct/2024 01:23:59] \"POST /graph_tree_circle_click HTTP/1.1\" 200 -\n"
     ]
    },
    {
     "name": "stdout",
     "output_type": "stream",
     "text": [
      "16\n",
      "reflection_node: 1 at lv up: 2\n",
      "generate cos sim, ecul dist, and nodes sorted by cos sim\n",
      "[{'id': 18, 'cos_sim': np.float64(-0.5755523168344743), 'euclide_dist': np.float64(0.8035952397386502), 'r_ratio': 1.4714285714285715, 'cluster_type': 'neighbour'}, {'id': 21, 'cos_sim': np.float64(-0.4791538267295451), 'euclide_dist': np.float64(1.0154997843986724), 'r_ratio': 0.3, 'cluster_type': 'neighbour'}, {'id': 23, 'cos_sim': np.float64(-0.47174492195640827), 'euclide_dist': np.float64(0.831771797565834), 'r_ratio': 1.1714285714285715, 'cluster_type': 'neighbour'}, {'id': 6, 'cos_sim': np.float64(-0.26896811660847436), 'euclide_dist': np.float64(1.238594290957152), 'r_ratio': 0.5, 'cluster_type': 'neighbour'}, {'id': 27, 'cos_sim': np.float64(-0.2114062464791594), 'euclide_dist': np.float64(0.7128433332564057), 'r_ratio': 0.17142857142857143, 'cluster_type': 'neighbour'}, {'id': 24, 'cos_sim': np.float64(-0.19238211026425456), 'euclide_dist': np.float64(0.6633759032487465), 'r_ratio': 0.37142857142857144, 'cluster_type': 'neighbour'}, {'id': 17, 'cos_sim': np.float64(-0.12264947807782754), 'euclide_dist': np.float64(0.6396058723789214), 'r_ratio': 1.2428571428571429, 'cluster_type': 'neighbour'}, {'id': 20, 'cos_sim': np.float64(-0.0404014525747863), 'euclide_dist': np.float64(0.8797495052704711), 'r_ratio': 0.3142857142857143, 'cluster_type': 'neighbour'}, {'id': 29, 'cos_sim': np.float64(-0.012377440806048454), 'euclide_dist': np.float64(0.9464172983008188), 'r_ratio': 0.07142857142857142, 'cluster_type': 'neighbour'}, {'id': 32, 'cos_sim': np.float64(0.0711024790953264), 'euclide_dist': np.float64(0.5632962511382218), 'r_ratio': 0.24285714285714285, 'cluster_type': 'neighbour'}, {'id': 31, 'cos_sim': np.float64(0.0999930348688301), 'euclide_dist': np.float64(0.6872151914450806), 'r_ratio': 0.2, 'cluster_type': 'neighbour'}, {'id': 19, 'cos_sim': np.float64(0.15265239892871163), 'euclide_dist': np.float64(0.7805917471560612), 'r_ratio': 0.32857142857142857, 'cluster_type': 'neighbour'}, {'id': 22, 'cos_sim': np.float64(0.223631870803192), 'euclide_dist': np.float64(0.6600156586005946), 'r_ratio': 0.5857142857142857, 'cluster_type': 'neighbour'}, {'id': 28, 'cos_sim': np.float64(0.321219111441764), 'euclide_dist': np.float64(0.5913297549055095), 'r_ratio': 0.37142857142857144, 'cluster_type': 'neighbour'}, {'id': 30, 'cos_sim': np.float64(0.39869877880909554), 'euclide_dist': np.float64(0.6034862650974535), 'r_ratio': 0.08571428571428572, 'cluster_type': 'neighbour'}, {'id': 25, 'cos_sim': np.float64(0.4622108178264992), 'euclide_dist': np.float64(0.4391885620683006), 'r_ratio': 0.3, 'cluster_type': 'neighbour'}, {'id': 26, 'cos_sim': np.float64(0.4861045997807609), 'euclide_dist': np.float64(0.5637585403654504), 'r_ratio': 0.22857142857142856, 'cluster_type': 'neighbour'}, {'id': 15, 'cos_sim': np.float64(0.5410417150541238), 'euclide_dist': np.float64(0.4095607249763128), 'r_ratio': 1.3142857142857143, 'cluster_type': 'neighbour'}, {'id': 16, 'cos_sim': np.float64(1.0), 'euclide_dist': np.float64(0.0), 'r_ratio': 1.0, 'cluster_type': 'center'}]\n",
      "[{'id': 3, 'r_ratio': 2.3142857142857145, 'dy': 0, 'dx': 0, 'cluster_type': 'parent'}, {'id': 51, 'r_ratio': 0.07142857142857142, 'dy': 0, 'dx': -0.0, 'cluster_type': 'child'}, {'id': 52, 'r_ratio': 0.11428571428571428, 'dy': 1, 'dx': 0.5, 'cluster_type': 'child'}, {'id': 53, 'r_ratio': 0.2, 'dy': 1, 'dx': -0.5, 'cluster_type': 'child'}, {'id': 54, 'r_ratio': 0.07142857142857142, 'dy': 2, 'dx': -0.0, 'cluster_type': 'child'}, {'id': 55, 'r_ratio': 0.11428571428571428, 'dy': 2, 'dx': 1.0, 'cluster_type': 'child'}, {'id': 56, 'r_ratio': 0.04285714285714286, 'dy': 2, 'dx': -1.0, 'cluster_type': 'child'}, {'id': 57, 'r_ratio': 0.1, 'dy': 3, 'dx': 0.5, 'cluster_type': 'child'}, {'id': 58, 'r_ratio': 0.11428571428571428, 'dy': 3, 'dx': -0.5, 'cluster_type': 'child'}, {'id': 59, 'r_ratio': 0.11428571428571428, 'dy': 3, 'dx': 1.5, 'cluster_type': 'child'}, {'id': 60, 'r_ratio': 0.05714285714285714, 'dy': 3, 'dx': -1.5, 'cluster_type': 'child'}]\n"
     ]
    },
    {
     "name": "stderr",
     "output_type": "stream",
     "text": [
      "127.0.0.1 - - [10/Oct/2024 01:24:02] \"POST /graph_tree_circle_click HTTP/1.1\" 200 -\n"
     ]
    },
    {
     "name": "stdout",
     "output_type": "stream",
     "text": [
      "16\n",
      "reflection_node: 1 at lv up: 2\n",
      "generate cos sim, ecul dist, and nodes sorted by cos sim\n",
      "[{'id': 18, 'cos_sim': np.float64(-0.5755523168344743), 'euclide_dist': np.float64(0.8035952397386502), 'r_ratio': 1.4714285714285715, 'cluster_type': 'neighbour'}, {'id': 21, 'cos_sim': np.float64(-0.4791538267295451), 'euclide_dist': np.float64(1.0154997843986724), 'r_ratio': 0.3, 'cluster_type': 'neighbour'}, {'id': 23, 'cos_sim': np.float64(-0.47174492195640827), 'euclide_dist': np.float64(0.831771797565834), 'r_ratio': 1.1714285714285715, 'cluster_type': 'neighbour'}, {'id': 6, 'cos_sim': np.float64(-0.26896811660847436), 'euclide_dist': np.float64(1.238594290957152), 'r_ratio': 0.5, 'cluster_type': 'neighbour'}, {'id': 27, 'cos_sim': np.float64(-0.2114062464791594), 'euclide_dist': np.float64(0.7128433332564057), 'r_ratio': 0.17142857142857143, 'cluster_type': 'neighbour'}, {'id': 24, 'cos_sim': np.float64(-0.19238211026425456), 'euclide_dist': np.float64(0.6633759032487465), 'r_ratio': 0.37142857142857144, 'cluster_type': 'neighbour'}, {'id': 17, 'cos_sim': np.float64(-0.12264947807782754), 'euclide_dist': np.float64(0.6396058723789214), 'r_ratio': 1.2428571428571429, 'cluster_type': 'neighbour'}, {'id': 20, 'cos_sim': np.float64(-0.0404014525747863), 'euclide_dist': np.float64(0.8797495052704711), 'r_ratio': 0.3142857142857143, 'cluster_type': 'neighbour'}, {'id': 29, 'cos_sim': np.float64(-0.012377440806048454), 'euclide_dist': np.float64(0.9464172983008188), 'r_ratio': 0.07142857142857142, 'cluster_type': 'neighbour'}, {'id': 32, 'cos_sim': np.float64(0.0711024790953264), 'euclide_dist': np.float64(0.5632962511382218), 'r_ratio': 0.24285714285714285, 'cluster_type': 'neighbour'}, {'id': 31, 'cos_sim': np.float64(0.0999930348688301), 'euclide_dist': np.float64(0.6872151914450806), 'r_ratio': 0.2, 'cluster_type': 'neighbour'}, {'id': 19, 'cos_sim': np.float64(0.15265239892871163), 'euclide_dist': np.float64(0.7805917471560612), 'r_ratio': 0.32857142857142857, 'cluster_type': 'neighbour'}, {'id': 22, 'cos_sim': np.float64(0.223631870803192), 'euclide_dist': np.float64(0.6600156586005946), 'r_ratio': 0.5857142857142857, 'cluster_type': 'neighbour'}, {'id': 28, 'cos_sim': np.float64(0.321219111441764), 'euclide_dist': np.float64(0.5913297549055095), 'r_ratio': 0.37142857142857144, 'cluster_type': 'neighbour'}, {'id': 30, 'cos_sim': np.float64(0.39869877880909554), 'euclide_dist': np.float64(0.6034862650974535), 'r_ratio': 0.08571428571428572, 'cluster_type': 'neighbour'}, {'id': 25, 'cos_sim': np.float64(0.4622108178264992), 'euclide_dist': np.float64(0.4391885620683006), 'r_ratio': 0.3, 'cluster_type': 'neighbour'}, {'id': 26, 'cos_sim': np.float64(0.4861045997807609), 'euclide_dist': np.float64(0.5637585403654504), 'r_ratio': 0.22857142857142856, 'cluster_type': 'neighbour'}, {'id': 15, 'cos_sim': np.float64(0.5410417150541238), 'euclide_dist': np.float64(0.4095607249763128), 'r_ratio': 1.3142857142857143, 'cluster_type': 'neighbour'}, {'id': 16, 'cos_sim': np.float64(1.0), 'euclide_dist': np.float64(0.0), 'r_ratio': 1.0, 'cluster_type': 'center'}]\n",
      "[{'id': 3, 'r_ratio': 2.3142857142857145, 'dy': 0, 'dx': 0, 'cluster_type': 'parent'}, {'id': 51, 'r_ratio': 0.07142857142857142, 'dy': 0, 'dx': -0.0, 'cluster_type': 'child'}, {'id': 52, 'r_ratio': 0.11428571428571428, 'dy': 1, 'dx': 0.5, 'cluster_type': 'child'}, {'id': 53, 'r_ratio': 0.2, 'dy': 1, 'dx': -0.5, 'cluster_type': 'child'}, {'id': 54, 'r_ratio': 0.07142857142857142, 'dy': 2, 'dx': -0.0, 'cluster_type': 'child'}, {'id': 55, 'r_ratio': 0.11428571428571428, 'dy': 2, 'dx': 1.0, 'cluster_type': 'child'}, {'id': 56, 'r_ratio': 0.04285714285714286, 'dy': 2, 'dx': -1.0, 'cluster_type': 'child'}, {'id': 57, 'r_ratio': 0.1, 'dy': 3, 'dx': 0.5, 'cluster_type': 'child'}, {'id': 58, 'r_ratio': 0.11428571428571428, 'dy': 3, 'dx': -0.5, 'cluster_type': 'child'}, {'id': 59, 'r_ratio': 0.11428571428571428, 'dy': 3, 'dx': 1.5, 'cluster_type': 'child'}, {'id': 60, 'r_ratio': 0.05714285714285714, 'dy': 3, 'dx': -1.5, 'cluster_type': 'child'}]\n"
     ]
    },
    {
     "name": "stderr",
     "output_type": "stream",
     "text": [
      "127.0.0.1 - - [10/Oct/2024 01:24:03] \"POST /graph_tree_circle_click HTTP/1.1\" 200 -\n"
     ]
    },
    {
     "name": "stdout",
     "output_type": "stream",
     "text": [
      "16\n",
      "reflection_node: 1 at lv up: 2\n",
      "generate cos sim, ecul dist, and nodes sorted by cos sim\n",
      "[{'id': 18, 'cos_sim': np.float64(-0.5755523168344743), 'euclide_dist': np.float64(0.8035952397386502), 'r_ratio': 1.4714285714285715, 'cluster_type': 'neighbour'}, {'id': 21, 'cos_sim': np.float64(-0.4791538267295451), 'euclide_dist': np.float64(1.0154997843986724), 'r_ratio': 0.3, 'cluster_type': 'neighbour'}, {'id': 23, 'cos_sim': np.float64(-0.47174492195640827), 'euclide_dist': np.float64(0.831771797565834), 'r_ratio': 1.1714285714285715, 'cluster_type': 'neighbour'}, {'id': 6, 'cos_sim': np.float64(-0.26896811660847436), 'euclide_dist': np.float64(1.238594290957152), 'r_ratio': 0.5, 'cluster_type': 'neighbour'}, {'id': 27, 'cos_sim': np.float64(-0.2114062464791594), 'euclide_dist': np.float64(0.7128433332564057), 'r_ratio': 0.17142857142857143, 'cluster_type': 'neighbour'}, {'id': 24, 'cos_sim': np.float64(-0.19238211026425456), 'euclide_dist': np.float64(0.6633759032487465), 'r_ratio': 0.37142857142857144, 'cluster_type': 'neighbour'}, {'id': 17, 'cos_sim': np.float64(-0.12264947807782754), 'euclide_dist': np.float64(0.6396058723789214), 'r_ratio': 1.2428571428571429, 'cluster_type': 'neighbour'}, {'id': 20, 'cos_sim': np.float64(-0.0404014525747863), 'euclide_dist': np.float64(0.8797495052704711), 'r_ratio': 0.3142857142857143, 'cluster_type': 'neighbour'}, {'id': 29, 'cos_sim': np.float64(-0.012377440806048454), 'euclide_dist': np.float64(0.9464172983008188), 'r_ratio': 0.07142857142857142, 'cluster_type': 'neighbour'}, {'id': 32, 'cos_sim': np.float64(0.0711024790953264), 'euclide_dist': np.float64(0.5632962511382218), 'r_ratio': 0.24285714285714285, 'cluster_type': 'neighbour'}, {'id': 31, 'cos_sim': np.float64(0.0999930348688301), 'euclide_dist': np.float64(0.6872151914450806), 'r_ratio': 0.2, 'cluster_type': 'neighbour'}, {'id': 19, 'cos_sim': np.float64(0.15265239892871163), 'euclide_dist': np.float64(0.7805917471560612), 'r_ratio': 0.32857142857142857, 'cluster_type': 'neighbour'}, {'id': 22, 'cos_sim': np.float64(0.223631870803192), 'euclide_dist': np.float64(0.6600156586005946), 'r_ratio': 0.5857142857142857, 'cluster_type': 'neighbour'}, {'id': 28, 'cos_sim': np.float64(0.321219111441764), 'euclide_dist': np.float64(0.5913297549055095), 'r_ratio': 0.37142857142857144, 'cluster_type': 'neighbour'}, {'id': 30, 'cos_sim': np.float64(0.39869877880909554), 'euclide_dist': np.float64(0.6034862650974535), 'r_ratio': 0.08571428571428572, 'cluster_type': 'neighbour'}, {'id': 25, 'cos_sim': np.float64(0.4622108178264992), 'euclide_dist': np.float64(0.4391885620683006), 'r_ratio': 0.3, 'cluster_type': 'neighbour'}, {'id': 26, 'cos_sim': np.float64(0.4861045997807609), 'euclide_dist': np.float64(0.5637585403654504), 'r_ratio': 0.22857142857142856, 'cluster_type': 'neighbour'}, {'id': 15, 'cos_sim': np.float64(0.5410417150541238), 'euclide_dist': np.float64(0.4095607249763128), 'r_ratio': 1.3142857142857143, 'cluster_type': 'neighbour'}, {'id': 16, 'cos_sim': np.float64(1.0), 'euclide_dist': np.float64(0.0), 'r_ratio': 1.0, 'cluster_type': 'center'}]\n",
      "[{'id': 3, 'r_ratio': 2.3142857142857145, 'dy': 0, 'dx': 0, 'cluster_type': 'parent'}, {'id': 51, 'r_ratio': 0.07142857142857142, 'dy': 0, 'dx': -0.0, 'cluster_type': 'child'}, {'id': 52, 'r_ratio': 0.11428571428571428, 'dy': 1, 'dx': 0.5, 'cluster_type': 'child'}, {'id': 53, 'r_ratio': 0.2, 'dy': 1, 'dx': -0.5, 'cluster_type': 'child'}, {'id': 54, 'r_ratio': 0.07142857142857142, 'dy': 2, 'dx': -0.0, 'cluster_type': 'child'}, {'id': 55, 'r_ratio': 0.11428571428571428, 'dy': 2, 'dx': 1.0, 'cluster_type': 'child'}, {'id': 56, 'r_ratio': 0.04285714285714286, 'dy': 2, 'dx': -1.0, 'cluster_type': 'child'}, {'id': 57, 'r_ratio': 0.1, 'dy': 3, 'dx': 0.5, 'cluster_type': 'child'}, {'id': 58, 'r_ratio': 0.11428571428571428, 'dy': 3, 'dx': -0.5, 'cluster_type': 'child'}, {'id': 59, 'r_ratio': 0.11428571428571428, 'dy': 3, 'dx': 1.5, 'cluster_type': 'child'}, {'id': 60, 'r_ratio': 0.05714285714285714, 'dy': 3, 'dx': -1.5, 'cluster_type': 'child'}]\n"
     ]
    },
    {
     "name": "stderr",
     "output_type": "stream",
     "text": [
      "127.0.0.1 - - [10/Oct/2024 01:24:04] \"POST /graph_tree_circle_click HTTP/1.1\" 200 -\n"
     ]
    },
    {
     "name": "stdout",
     "output_type": "stream",
     "text": [
      "15\n",
      "reflection_node: 1 at lv up: 2\n",
      "generate cos sim, ecul dist, and nodes sorted by cos sim\n",
      "[{'id': 23, 'cos_sim': np.float64(-0.6476532703234698), 'euclide_dist': np.float64(0.8879948522221652), 'r_ratio': 0.8913043478260869, 'cluster_type': 'neighbour'}, {'id': 6, 'cos_sim': np.float64(-0.5803859599202654), 'euclide_dist': np.float64(1.3538895134902649), 'r_ratio': 0.3804347826086957, 'cluster_type': 'neighbour'}, {'id': 18, 'cos_sim': np.float64(-0.3705989146260198), 'euclide_dist': np.float64(0.7579575855032028), 'r_ratio': 1.1195652173913044, 'cluster_type': 'neighbour'}, {'id': 22, 'cos_sim': np.float64(-0.296414149113913), 'euclide_dist': np.float64(0.8461908932675033), 'r_ratio': 0.44565217391304346, 'cluster_type': 'neighbour'}, {'id': 31, 'cos_sim': np.float64(-0.1524072528309201), 'euclide_dist': np.float64(0.779518553287808), 'r_ratio': 0.15217391304347827, 'cluster_type': 'neighbour'}, {'id': 25, 'cos_sim': np.float64(-0.14372367947149775), 'euclide_dist': np.float64(0.6481445291703153), 'r_ratio': 0.22826086956521738, 'cluster_type': 'neighbour'}, {'id': 21, 'cos_sim': np.float64(-0.12856934139224366), 'euclide_dist': np.float64(0.906522849473695), 'r_ratio': 0.22826086956521738, 'cluster_type': 'neighbour'}, {'id': 24, 'cos_sim': np.float64(-0.056824457416119356), 'euclide_dist': np.float64(0.6318318873080015), 'r_ratio': 0.2826086956521739, 'cluster_type': 'neighbour'}, {'id': 29, 'cos_sim': np.float64(0.02289284235923583), 'euclide_dist': np.float64(0.9374897757581903), 'r_ratio': 0.05434782608695652, 'cluster_type': 'neighbour'}, {'id': 26, 'cos_sim': np.float64(0.06295958841759898), 'euclide_dist': np.float64(0.7425313071230224), 'r_ratio': 0.17391304347826086, 'cluster_type': 'neighbour'}, {'id': 27, 'cos_sim': np.float64(0.06442512818422812), 'euclide_dist': np.float64(0.6336812444271965), 'r_ratio': 0.13043478260869565, 'cluster_type': 'neighbour'}, {'id': 19, 'cos_sim': np.float64(0.1708482389397638), 'euclide_dist': np.float64(0.7773925909214805), 'r_ratio': 0.25, 'cluster_type': 'neighbour'}, {'id': 20, 'cos_sim': np.float64(0.21897489402069886), 'euclide_dist': np.float64(0.7835067396683972), 'r_ratio': 0.2391304347826087, 'cluster_type': 'neighbour'}, {'id': 17, 'cos_sim': np.float64(0.2526919673945555), 'euclide_dist': np.float64(0.528005737369058), 'r_ratio': 0.9456521739130435, 'cluster_type': 'neighbour'}, {'id': 28, 'cos_sim': np.float64(0.28184641054260323), 'euclide_dist': np.float64(0.6116024757859497), 'r_ratio': 0.2826086956521739, 'cluster_type': 'neighbour'}, {'id': 32, 'cos_sim': np.float64(0.4066044958470099), 'euclide_dist': np.float64(0.45622768766091587), 'r_ratio': 0.18478260869565216, 'cluster_type': 'neighbour'}, {'id': 30, 'cos_sim': np.float64(0.41236159316892157), 'euclide_dist': np.float64(0.6002440213926317), 'r_ratio': 0.06521739130434782, 'cluster_type': 'neighbour'}, {'id': 16, 'cos_sim': np.float64(0.5410417150541238), 'euclide_dist': np.float64(0.4095607249763128), 'r_ratio': 0.7608695652173914, 'cluster_type': 'neighbour'}, {'id': 15, 'cos_sim': np.float64(1.0), 'euclide_dist': np.float64(0.0), 'r_ratio': 1.0, 'cluster_type': 'center'}]\n",
      "[{'id': 3, 'r_ratio': 1.7608695652173914, 'dy': 0, 'dx': 0, 'cluster_type': 'parent'}, {'id': 47, 'r_ratio': 0.25, 'dy': 0, 'dx': -0.0, 'cluster_type': 'child'}, {'id': 48, 'r_ratio': 0.32608695652173914, 'dy': 1, 'dx': 0.5, 'cluster_type': 'child'}, {'id': 49, 'r_ratio': 0.2717391304347826, 'dy': 1, 'dx': -0.5, 'cluster_type': 'child'}, {'id': 50, 'r_ratio': 0.15217391304347827, 'dy': 2, 'dx': -0.0, 'cluster_type': 'child'}]\n"
     ]
    },
    {
     "name": "stderr",
     "output_type": "stream",
     "text": [
      "127.0.0.1 - - [10/Oct/2024 01:24:10] \"GET / HTTP/1.1\" 200 -\n",
      "127.0.0.1 - - [10/Oct/2024 01:24:10] \"GET /static/styles.css HTTP/1.1\" 304 -\n",
      "127.0.0.1 - - [10/Oct/2024 01:24:10] \"GET /static/graph_tree_shared_variable.js HTTP/1.1\" 304 -\n",
      "127.0.0.1 - - [10/Oct/2024 01:24:10] \"GET /static/curve_axis.js HTTP/1.1\" 304 -\n",
      "127.0.0.1 - - [10/Oct/2024 01:24:10] \"GET /static/scripts.js HTTP/1.1\" 304 -\n",
      "127.0.0.1 - - [10/Oct/2024 01:24:10] \"GET /static/graph_tree.js HTTP/1.1\" 200 -\n",
      "127.0.0.1 - - [10/Oct/2024 01:24:10] \"GET /sliders HTTP/1.1\" 200 -\n",
      "127.0.0.1 - - [10/Oct/2024 01:24:10] \"GET /recom HTTP/1.1\" 200 -\n",
      "127.0.0.1 - - [10/Oct/2024 01:24:10] \"GET /graph_tree_data HTTP/1.1\" 200 -\n",
      "127.0.0.1 - - [10/Oct/2024 01:24:10] \"GET /tree_data HTTP/1.1\" 200 -\n",
      "127.0.0.1 - - [10/Oct/2024 01:24:12] \"POST /graph_tree_circle_click HTTP/1.1\" 200 -\n"
     ]
    },
    {
     "name": "stdout",
     "output_type": "stream",
     "text": [
      "18\n",
      "reflection_node: 1 at lv up: 2\n",
      "generate cos sim, ecul dist, and nodes sorted by cos sim\n",
      "[{'id': 22, 'cos_sim': np.float64(-0.5999011212981619), 'euclide_dist': np.float64(0.9791647537797956), 'r_ratio': 0.39805825242718446, 'cluster_type': 'neighbour'}, {'id': 16, 'cos_sim': np.float64(-0.5755523168344743), 'euclide_dist': np.float64(0.8035952397386502), 'r_ratio': 0.6796116504854369, 'cluster_type': 'neighbour'}, {'id': 19, 'cos_sim': np.float64(-0.44664913659814004), 'euclide_dist': np.float64(1.0340637353461735), 'r_ratio': 0.22330097087378642, 'cluster_type': 'neighbour'}, {'id': 6, 'cos_sim': np.float64(-0.42804918166350847), 'euclide_dist': np.float64(1.3360289186237393), 'r_ratio': 0.33980582524271846, 'cluster_type': 'neighbour'}, {'id': 15, 'cos_sim': np.float64(-0.3705989146260198), 'euclide_dist': np.float64(0.7579575855032028), 'r_ratio': 0.8932038834951457, 'cluster_type': 'neighbour'}, {'id': 30, 'cos_sim': np.float64(-0.36078178471716427), 'euclide_dist': np.float64(0.9224945933505727), 'r_ratio': 0.05825242718446602, 'cluster_type': 'neighbour'}, {'id': 20, 'cos_sim': np.float64(-0.3408712772403869), 'euclide_dist': np.float64(1.025184740538166), 'r_ratio': 0.21359223300970873, 'cluster_type': 'neighbour'}, {'id': 31, 'cos_sim': np.float64(-0.2199597213817361), 'euclide_dist': np.float64(0.8370366816389289), 'r_ratio': 0.13592233009708737, 'cluster_type': 'neighbour'}, {'id': 28, 'cos_sim': np.float64(-0.1357235590728922), 'euclide_dist': np.float64(0.7962107332288157), 'r_ratio': 0.2524271844660194, 'cluster_type': 'neighbour'}, {'id': 29, 'cos_sim': np.float64(-0.08984566487962181), 'euclide_dist': np.float64(1.007159300948507), 'r_ratio': 0.04854368932038835, 'cluster_type': 'neighbour'}, {'id': 27, 'cos_sim': np.float64(-0.06110821408248549), 'euclide_dist': np.float64(0.7097882330366457), 'r_ratio': 0.11650485436893204, 'cluster_type': 'neighbour'}, {'id': 25, 'cos_sim': np.float64(-0.0540085072834463), 'euclide_dist': np.float64(0.6597515670315874), 'r_ratio': 0.20388349514563106, 'cluster_type': 'neighbour'}, {'id': 26, 'cos_sim': np.float64(0.04336538605460243), 'euclide_dist': np.float64(0.7779084164198504), 'r_ratio': 0.1553398058252427, 'cluster_type': 'neighbour'}, {'id': 23, 'cos_sim': np.float64(0.05866874787630979), 'euclide_dist': np.float64(0.7060593854526106), 'r_ratio': 0.7961165048543689, 'cluster_type': 'neighbour'}, {'id': 21, 'cos_sim': np.float64(0.14348791814869835), 'euclide_dist': np.float64(0.8258883891402661), 'r_ratio': 0.20388349514563106, 'cluster_type': 'neighbour'}, {'id': 32, 'cos_sim': np.float64(0.33064743541507957), 'euclide_dist': np.float64(0.5168485300622571), 'r_ratio': 0.1650485436893204, 'cluster_type': 'neighbour'}, {'id': 17, 'cos_sim': np.float64(0.48090247191296287), 'euclide_dist': np.float64(0.4676587419015632), 'r_ratio': 0.8446601941747572, 'cluster_type': 'neighbour'}, {'id': 24, 'cos_sim': np.float64(0.5978513520461405), 'euclide_dist': np.float64(0.4142400594013935), 'r_ratio': 0.2524271844660194, 'cluster_type': 'neighbour'}, {'id': 18, 'cos_sim': np.float64(1.0000000000000002), 'euclide_dist': np.float64(0.0), 'r_ratio': 1.0, 'cluster_type': 'center'}]\n",
      "[{'id': 4, 'r_ratio': 1.8446601941747574, 'dy': 0, 'dx': 0, 'cluster_type': 'parent'}, {'id': 63, 'r_ratio': 0.5436893203883495, 'dy': 0, 'dx': -0.0, 'cluster_type': 'child'}, {'id': 64, 'r_ratio': 0.4563106796116505, 'dy': 1, 'dx': 0.5, 'cluster_type': 'child'}]\n"
     ]
    },
    {
     "name": "stderr",
     "output_type": "stream",
     "text": [
      "127.0.0.1 - - [10/Oct/2024 01:24:14] \"POST /graph_tree_circle_click HTTP/1.1\" 200 -\n"
     ]
    },
    {
     "name": "stdout",
     "output_type": "stream",
     "text": [
      "21\n",
      "reflection_node: 1 at lv up: 2\n",
      "generate cos sim, ecul dist, and nodes sorted by cos sim\n",
      "[{'id': 22, 'cos_sim': np.float64(-0.5650553014354691), 'euclide_dist': np.float64(1.1988641758519745), 'r_ratio': 1.9523809523809523, 'cluster_type': 'neighbour'}, {'id': 16, 'cos_sim': np.float64(-0.4791538267295451), 'euclide_dist': np.float64(1.0154997843986724), 'r_ratio': 3.3333333333333335, 'cluster_type': 'neighbour'}, {'id': 31, 'cos_sim': np.float64(-0.4739298253526984), 'euclide_dist': np.float64(1.143806881382072), 'r_ratio': 0.6666666666666666, 'cluster_type': 'neighbour'}, {'id': 25, 'cos_sim': np.float64(-0.4423427930710003), 'euclide_dist': np.float64(1.0057830726904347), 'r_ratio': 1.0, 'cluster_type': 'neighbour'}, {'id': 26, 'cos_sim': np.float64(-0.4152224981670342), 'euclide_dist': np.float64(1.157818239302161), 'r_ratio': 0.7619047619047619, 'cluster_type': 'neighbour'}, {'id': 28, 'cos_sim': np.float64(-0.3289147735895332), 'euclide_dist': np.float64(1.0759519960199067), 'r_ratio': 1.2380952380952381, 'cluster_type': 'neighbour'}, {'id': 27, 'cos_sim': np.float64(-0.2858940884192117), 'euclide_dist': np.float64(1.0015505951762458), 'r_ratio': 0.5714285714285714, 'cluster_type': 'neighbour'}, {'id': 23, 'cos_sim': np.float64(-0.2824201161239047), 'euclide_dist': np.float64(1.0378913233244837), 'r_ratio': 3.9047619047619047, 'cluster_type': 'neighbour'}, {'id': 30, 'cos_sim': np.float64(-0.28194641743037635), 'euclide_dist': np.float64(1.1022821389239843), 'r_ratio': 0.2857142857142857, 'cluster_type': 'neighbour'}, {'id': 32, 'cos_sim': np.float64(-0.15482225306165306), 'euclide_dist': np.float64(0.8990638778059076), 'r_ratio': 0.8095238095238095, 'cluster_type': 'neighbour'}, {'id': 15, 'cos_sim': np.float64(-0.12856934139224366), 'euclide_dist': np.float64(0.906522849473695), 'r_ratio': 4.380952380952381, 'cluster_type': 'neighbour'}, {'id': 24, 'cos_sim': np.float64(-0.09178984199376589), 'euclide_dist': np.float64(0.8958091958553472), 'r_ratio': 1.2380952380952381, 'cluster_type': 'neighbour'}, {'id': 18, 'cos_sim': np.float64(0.14348791814869835), 'euclide_dist': np.float64(0.8258883891402661), 'r_ratio': 4.904761904761905, 'cluster_type': 'neighbour'}, {'id': 17, 'cos_sim': np.float64(0.14871118769790295), 'euclide_dist': np.float64(0.8017976817233625), 'r_ratio': 4.142857142857143, 'cluster_type': 'neighbour'}, {'id': 6, 'cos_sim': np.float64(0.3501131852415451), 'euclide_dist': np.float64(1.0575083622422832), 'r_ratio': 1.6666666666666667, 'cluster_type': 'neighbour'}, {'id': 29, 'cos_sim': np.float64(0.4936646450371492), 'euclide_dist': np.float64(0.8019639067612545), 'r_ratio': 0.23809523809523808, 'cluster_type': 'neighbour'}, {'id': 19, 'cos_sim': np.float64(0.7258721228983016), 'euclide_dist': np.float64(0.5434662784798774), 'r_ratio': 1.0952380952380953, 'cluster_type': 'neighbour'}, {'id': 20, 'cos_sim': np.float64(0.7453119665061189), 'euclide_dist': np.float64(0.534661619149411), 'r_ratio': 1.0476190476190477, 'cluster_type': 'neighbour'}, {'id': 21, 'cos_sim': np.float64(1.0), 'euclide_dist': np.float64(0.0), 'r_ratio': 1.0, 'cluster_type': 'center'}]\n",
      "[{'id': 5, 'r_ratio': 3.142857142857143, 'dy': 0, 'dx': 0, 'cluster_type': 'parent'}]\n"
     ]
    },
    {
     "name": "stderr",
     "output_type": "stream",
     "text": [
      "127.0.0.1 - - [10/Oct/2024 01:24:19] \"GET / HTTP/1.1\" 200 -\n",
      "127.0.0.1 - - [10/Oct/2024 01:24:19] \"GET /static/styles.css HTTP/1.1\" 304 -\n",
      "127.0.0.1 - - [10/Oct/2024 01:24:19] \"GET /static/graph_tree_shared_variable.js HTTP/1.1\" 304 -\n",
      "127.0.0.1 - - [10/Oct/2024 01:24:19] \"GET /static/curve_axis.js HTTP/1.1\" 304 -\n",
      "127.0.0.1 - - [10/Oct/2024 01:24:19] \"GET /static/graph_tree.js HTTP/1.1\" 304 -\n",
      "127.0.0.1 - - [10/Oct/2024 01:24:19] \"GET /static/scripts.js HTTP/1.1\" 304 -\n",
      "127.0.0.1 - - [10/Oct/2024 01:24:19] \"GET /sliders HTTP/1.1\" 200 -\n",
      "127.0.0.1 - - [10/Oct/2024 01:24:19] \"GET /recom HTTP/1.1\" 200 -\n",
      "127.0.0.1 - - [10/Oct/2024 01:24:19] \"GET /graph_tree_data HTTP/1.1\" 200 -\n",
      "127.0.0.1 - - [10/Oct/2024 01:24:19] \"GET /tree_data HTTP/1.1\" 200 -\n",
      "127.0.0.1 - - [10/Oct/2024 01:24:20] \"POST /graph_tree_circle_click HTTP/1.1\" 200 -\n"
     ]
    },
    {
     "name": "stdout",
     "output_type": "stream",
     "text": [
      "20\n",
      "reflection_node: 1 at lv up: 2\n",
      "generate cos sim, ecul dist, and nodes sorted by cos sim\n",
      "[{'id': 31, 'cos_sim': np.float64(-0.6537619257948634), 'euclide_dist': np.float64(1.2213297639540914), 'r_ratio': 0.6363636363636364, 'cluster_type': 'neighbour'}, {'id': 26, 'cos_sim': np.float64(-0.606126734555648), 'euclide_dist': np.float64(1.243552688462089), 'r_ratio': 0.7272727272727273, 'cluster_type': 'neighbour'}, {'id': 24, 'cos_sim': np.float64(-0.5991292448694574), 'euclide_dist': np.float64(1.0750062858678653), 'r_ratio': 1.1818181818181819, 'cluster_type': 'neighbour'}, {'id': 25, 'cos_sim': np.float64(-0.5633555968480095), 'euclide_dist': np.float64(1.0541845777139194), 'r_ratio': 0.9545454545454546, 'cluster_type': 'neighbour'}, {'id': 28, 'cos_sim': np.float64(-0.5412550636436114), 'euclide_dist': np.float64(1.1674439232295177), 'r_ratio': 1.1818181818181819, 'cluster_type': 'neighbour'}, {'id': 27, 'cos_sim': np.float64(-0.5141220218543034), 'euclide_dist': np.float64(1.0925226838798079), 'r_ratio': 0.5454545454545454, 'cluster_type': 'neighbour'}, {'id': 32, 'cos_sim': np.float64(-0.4549165319398819), 'euclide_dist': np.float64(1.0052462157932591), 'r_ratio': 0.7727272727272727, 'cluster_type': 'neighbour'}, {'id': 18, 'cos_sim': np.float64(-0.3408712772403869), 'euclide_dist': np.float64(1.025184740538166), 'r_ratio': 4.681818181818182, 'cluster_type': 'neighbour'}, {'id': 22, 'cos_sim': np.float64(-0.3077010689834505), 'euclide_dist': np.float64(1.107228328110141), 'r_ratio': 1.8636363636363635, 'cluster_type': 'neighbour'}, {'id': 23, 'cos_sim': np.float64(-0.25842998566606046), 'euclide_dist': np.float64(1.0386618073217206), 'r_ratio': 3.727272727272727, 'cluster_type': 'neighbour'}, {'id': 30, 'cos_sim': np.float64(-0.22473227827361028), 'euclide_dist': np.float64(1.087381136611489), 'r_ratio': 0.2727272727272727, 'cluster_type': 'neighbour'}, {'id': 16, 'cos_sim': np.float64(-0.0404014525747863), 'euclide_dist': np.float64(0.8797495052704711), 'r_ratio': 3.1818181818181817, 'cluster_type': 'neighbour'}, {'id': 29, 'cos_sim': np.float64(0.11374493617323322), 'euclide_dist': np.float64(1.0648197011752716), 'r_ratio': 0.22727272727272727, 'cluster_type': 'neighbour'}, {'id': 15, 'cos_sim': np.float64(0.21897489402069886), 'euclide_dist': np.float64(0.7835067396683972), 'r_ratio': 4.181818181818182, 'cluster_type': 'neighbour'}, {'id': 17, 'cos_sim': np.float64(0.2919388709769626), 'euclide_dist': np.float64(0.7521846572584328), 'r_ratio': 3.9545454545454546, 'cluster_type': 'neighbour'}, {'id': 6, 'cos_sim': np.float64(0.4067883557574448), 'euclide_dist': np.float64(1.0182805275328997), 'r_ratio': 1.5909090909090908, 'cluster_type': 'neighbour'}, {'id': 19, 'cos_sim': np.float64(0.7394751597984642), 'euclide_dist': np.float64(0.5345653289753473), 'r_ratio': 1.0454545454545454, 'cluster_type': 'neighbour'}, {'id': 21, 'cos_sim': np.float64(0.7453119665061189), 'euclide_dist': np.float64(0.534661619149411), 'r_ratio': 0.9545454545454546, 'cluster_type': 'neighbour'}, {'id': 20, 'cos_sim': np.float64(0.9999999999999998), 'euclide_dist': np.float64(0.0), 'r_ratio': 1.0, 'cluster_type': 'center'}]\n",
      "[{'id': 5, 'r_ratio': 3.0, 'dy': 0, 'dx': 0, 'cluster_type': 'parent'}]\n"
     ]
    },
    {
     "name": "stderr",
     "output_type": "stream",
     "text": [
      "127.0.0.1 - - [10/Oct/2024 01:24:28] \"POST /graph_tree_circle_click HTTP/1.1\" 200 -\n"
     ]
    },
    {
     "name": "stdout",
     "output_type": "stream",
     "text": [
      "17\n",
      "reflection_node: 1 at lv up: 2\n",
      "generate cos sim, ecul dist, and nodes sorted by cos sim\n",
      "[{'id': 31, 'cos_sim': np.float64(-0.8026687943382783), 'euclide_dist': np.float64(0.9670758213936325), 'r_ratio': 0.16091954022988506, 'cluster_type': 'neighbour'}, {'id': 22, 'cos_sim': np.float64(-0.6486948983454219), 'euclide_dist': np.float64(0.9487837025070984), 'r_ratio': 0.47126436781609193, 'cluster_type': 'neighbour'}, {'id': 28, 'cos_sim': np.float64(-0.60622642122257), 'euclide_dist': np.float64(0.9006064328884846), 'r_ratio': 0.2988505747126437, 'cluster_type': 'neighbour'}, {'id': 29, 'cos_sim': np.float64(-0.5703066279358983), 'euclide_dist': np.float64(1.1440028796439536), 'r_ratio': 0.05747126436781609, 'cluster_type': 'neighbour'}, {'id': 25, 'cos_sim': np.float64(-0.5499337677339663), 'euclide_dist': np.float64(0.7535317896563434), 'r_ratio': 0.2413793103448276, 'cluster_type': 'neighbour'}, {'id': 27, 'cos_sim': np.float64(-0.5099567531398856), 'euclide_dist': np.float64(0.8027512371395716), 'r_ratio': 0.13793103448275862, 'cluster_type': 'neighbour'}, {'id': 30, 'cos_sim': np.float64(-0.4549517387246737), 'euclide_dist': np.float64(0.9122393263497314), 'r_ratio': 0.06896551724137931, 'cluster_type': 'neighbour'}, {'id': 26, 'cos_sim': np.float64(-0.45418281135300487), 'euclide_dist': np.float64(0.9122509449812872), 'r_ratio': 0.1839080459770115, 'cluster_type': 'neighbour'}, {'id': 6, 'cos_sim': np.float64(-0.4469573371735172), 'euclide_dist': np.float64(1.3073387171338375), 'r_ratio': 0.40229885057471265, 'cluster_type': 'neighbour'}, {'id': 19, 'cos_sim': np.float64(-0.26451024515242805), 'euclide_dist': np.float64(0.9357457497186246), 'r_ratio': 0.26436781609195403, 'cluster_type': 'neighbour'}, {'id': 24, 'cos_sim': np.float64(-0.13744538575441437), 'euclide_dist': np.float64(0.6546634851854636), 'r_ratio': 0.2988505747126437, 'cluster_type': 'neighbour'}, {'id': 16, 'cos_sim': np.float64(-0.12264947807782754), 'euclide_dist': np.float64(0.6396058723789214), 'r_ratio': 0.8045977011494253, 'cluster_type': 'neighbour'}, {'id': 23, 'cos_sim': np.float64(-0.08779268943490638), 'euclide_dist': np.float64(0.723749061352033), 'r_ratio': 0.9425287356321839, 'cluster_type': 'neighbour'}, {'id': 32, 'cos_sim': np.float64(-0.024038878551337965), 'euclide_dist': np.float64(0.5980320836988628), 'r_ratio': 0.19540229885057472, 'cluster_type': 'neighbour'}, {'id': 21, 'cos_sim': np.float64(0.14871118769790295), 'euclide_dist': np.float64(0.8017976817233625), 'r_ratio': 0.2413793103448276, 'cluster_type': 'neighbour'}, {'id': 15, 'cos_sim': np.float64(0.2526919673945555), 'euclide_dist': np.float64(0.528005737369058), 'r_ratio': 1.0574712643678161, 'cluster_type': 'neighbour'}, {'id': 20, 'cos_sim': np.float64(0.2919388709769626), 'euclide_dist': np.float64(0.7521846572584328), 'r_ratio': 0.25287356321839083, 'cluster_type': 'neighbour'}, {'id': 18, 'cos_sim': np.float64(0.48090247191296287), 'euclide_dist': np.float64(0.4676587419015632), 'r_ratio': 1.1839080459770115, 'cluster_type': 'neighbour'}, {'id': 17, 'cos_sim': np.float64(1.0), 'euclide_dist': np.float64(0.0), 'r_ratio': 1.0, 'cluster_type': 'center'}]\n",
      "[{'id': 4, 'r_ratio': 2.1839080459770117, 'dy': 0, 'dx': 0, 'cluster_type': 'parent'}, {'id': 61, 'r_ratio': 0.5287356321839081, 'dy': 0, 'dx': -0.0, 'cluster_type': 'child'}, {'id': 62, 'r_ratio': 0.47126436781609193, 'dy': 1, 'dx': 0.5, 'cluster_type': 'child'}]\n"
     ]
    }
   ],
   "source": [
    "from flask import Flask, render_template, request, jsonify\n",
    "\n",
    "app = Flask(__name__)\n",
    "\n",
    "@app.route('/')\n",
    "def index():\n",
    "    return render_template('index.html')\n",
    "\n",
    "# slider ####################################################################\n",
    "@app.route('/sliders')\n",
    "def sliders():\n",
    "    return jsonify(sliders_data)\n",
    "\n",
    "@app.route('/handle_slider', methods=['POST'])\n",
    "def submit_slider_values():\n",
    "    sucess_msg = \"slider respon success\"\n",
    "    data = request.json\n",
    "    print('Received slider values:', data)\n",
    "    query = np.array([float(val) for val in data.values()])\n",
    "    cur = gt.search(query)\n",
    "    graph_tree_horizontal_data, graph_tree_vertical_data = gt.get_graph_tree_svg_data(cur.id)\n",
    "    # Process the data as needed\n",
    "    return jsonify({'status': sucess_msg,\n",
    "                    \"graph_tree_data\": {\"graph_tree_horizontal_data\": graph_tree_horizontal_data, \"graph_tree_vertical_data\": graph_tree_vertical_data}})\n",
    "# slider end ################################################################\n",
    "\n",
    "# recom ####################################################################\n",
    "@app.route('/recom')\n",
    "def recom():\n",
    "    return jsonify(recom_data)\n",
    "\n",
    "@app.route('/handle_recom', methods=['POST'])\n",
    "def handle_recom():\n",
    "    sucess_msg = \"recom respon success\"\n",
    "    data = request.json\n",
    "    button_id = int(data.get('buttonId'))\n",
    "    val = int(data.get('val'))\n",
    "    # print(button_id, val)\n",
    "    moved_node = gt.recom[button_id][val]\n",
    "    graph_tree_horizontal_data, graph_tree_vertical_data = gt.get_graph_tree_svg_data(moved_node.id)\n",
    "    # print(graph_tree_data)\n",
    "    return jsonify({'status': sucess_msg,\n",
    "                    'buttonId': button_id,\n",
    "                    'val': val,\n",
    "                    \"graph_tree_data\": {\"graph_tree_horizontal_data\": graph_tree_horizontal_data, \"graph_tree_vertical_data\": graph_tree_vertical_data}})\n",
    "# recom end ####################################################################\n",
    "\n",
    "@app.route('/graph_tree_data')\n",
    "def graph():\n",
    "    return jsonify({\"graph_tree_data\": {\"graph_tree_horizontal_data\": graph_tree_horizontal_data, \"graph_tree_vertical_data\": graph_tree_vertical_data}})\n",
    "\n",
    "@app.route('/graph_tree_circle_click', methods=['POST'])\n",
    "def graph_tree_circle_click():\n",
    "    sucess_msg = \"graph_tree_circle_click respon success\"\n",
    "    data = request.json\n",
    "    id = int(data.get('id'))\n",
    "    print(id)\n",
    "    graph_tree_horizontal_data, graph_tree_vertical_data = gt.get_graph_tree_svg_data(id)\n",
    "    return jsonify({'status': sucess_msg,\n",
    "                    'id': id,\n",
    "                    \"graph_tree_data\": {\"graph_tree_horizontal_data\": graph_tree_horizontal_data, \"graph_tree_vertical_data\": graph_tree_vertical_data}})\n",
    "\n",
    "\n",
    "@app.route('/tree_data')\n",
    "def tree():\n",
    "    return jsonify(tree_data)\n",
    "\n",
    "if __name__ == '__main__':\n",
    "    app.run(port=8123)\n"
   ]
  }
 ],
 "metadata": {
  "kernelspec": {
   "display_name": "Python 3",
   "language": "python",
   "name": "python3"
  },
  "language_info": {
   "codemirror_mode": {
    "name": "ipython",
    "version": 3
   },
   "file_extension": ".py",
   "mimetype": "text/x-python",
   "name": "python",
   "nbconvert_exporter": "python",
   "pygments_lexer": "ipython3",
   "version": "3.12.5"
  }
 },
 "nbformat": 4,
 "nbformat_minor": 2
}
