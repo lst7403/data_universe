{
 "cells": [
  {
   "cell_type": "code",
   "execution_count": 1,
   "metadata": {},
   "outputs": [],
   "source": [
    "# load class of structure\n",
    "from graph_tree_module import node, sim, graph_tree\n"
   ]
  },
  {
   "cell_type": "code",
   "execution_count": 2,
   "metadata": {},
   "outputs": [],
   "source": [
    "# load pre construct data\n",
    "import pickle\n",
    "\n",
    "# Open the file in binary read mode and load the object\n",
    "with open(\"graph_tree.pkl\", \"rb\") as file:\n",
    "    gt = pickle.load(file)"
   ]
  },
  {
   "cell_type": "code",
   "execution_count": 3,
   "metadata": {},
   "outputs": [
    {
     "name": "stdout",
     "output_type": "stream",
     "text": [
      "[{'i': 0, 'id': 'Popularity', 'max_val': np.float64(0.6386007728289609), 'min_val': np.float64(0.2726513252829042)}, {'i': 1, 'id': 'danceability', 'max_val': np.float64(0.742308372557825), 'min_val': np.float64(0.32885780820544036)}, {'i': 2, 'id': 'energy', 'max_val': np.float64(0.9040723436179967), 'min_val': np.float64(0.2576375824699928)}, {'i': 3, 'id': 'key', 'max_val': np.float64(0.8809808612440192), 'min_val': np.float64(0.0777126099706743)}, {'i': 4, 'id': 'loudness', 'max_val': np.float64(0.8330885984603146), 'min_val': np.float64(0.5317022960475238)}, {'i': 5, 'id': 'mode', 'max_val': np.float64(1.0), 'min_val': np.float64(0.0)}, {'i': 6, 'id': 'speechiness', 'max_val': np.float64(0.14881568759838687), 'min_val': np.float64(0.01773323723843133)}, {'i': 7, 'id': 'acousticness', 'max_val': np.float64(0.8543149872216138), 'min_val': np.float64(0.012844496245852995)}, {'i': 8, 'id': 'instrumentalness', 'max_val': np.float64(0.8157589033821235), 'min_val': np.float64(0.008978974488558262)}, {'i': 9, 'id': 'liveness', 'max_val': np.float64(0.6880861911403973), 'min_val': np.float64(0.12001245245936072)}, {'i': 10, 'id': 'valence', 'max_val': np.float64(0.7806468783783043), 'min_val': np.float64(0.21184547152073527)}, {'i': 11, 'id': 'tempo', 'max_val': np.float64(0.7385291865643606), 'min_val': np.float64(0.39312799068107657)}, {'i': 12, 'id': 'duration_in min/ms', 'max_val': np.float64(0.2039894840113566), 'min_val': np.float64(0.07890873985284352)}, {'i': 13, 'id': 'time_signature', 'max_val': np.float64(0.75), 'min_val': np.float64(0.6732954545454546)}]\n"
     ]
    }
   ],
   "source": [
    "sliders_data = [{\"id\": gt.attr_name[i], \"min\": gt.X_maxmin[1][i], \"max\": gt.X_maxmin[0][i], \"value\": gt.root.center[i], \"type\": \"f\"} for i in range(len(gt.attr_name))]\n",
    "# print(sliders_data)\n",
    "\n",
    "recom_data = [{\"i\": i, \"id\": gt.attr_name[i], \"max_val\": gt.recom[i][0].center[i], \"min_val\": gt.recom[i][1].center[i]} for i in range(len(gt.attr_name))]\n",
    "print(recom_data)"
   ]
  },
  {
   "cell_type": "code",
   "execution_count": 4,
   "metadata": {},
   "outputs": [
    {
     "name": "stdout",
     "output_type": "stream",
     "text": [
      " * Serving Flask app '__main__'\n",
      " * Debug mode: off\n"
     ]
    },
    {
     "name": "stderr",
     "output_type": "stream",
     "text": [
      "WARNING: This is a development server. Do not use it in a production deployment. Use a production WSGI server instead.\n",
      " * Running on http://127.0.0.1:8123\n",
      "Press CTRL+C to quit\n",
      "127.0.0.1 - - [30/Aug/2024 09:16:01] \"GET / HTTP/1.1\" 200 -\n",
      "127.0.0.1 - - [30/Aug/2024 09:16:01] \"GET /static/scripts.js HTTP/1.1\" 200 -\n",
      "127.0.0.1 - - [30/Aug/2024 09:16:01] \"GET /static/styles.css HTTP/1.1\" 200 -\n",
      "127.0.0.1 - - [30/Aug/2024 09:16:01] \"GET /sliders HTTP/1.1\" 200 -\n",
      "127.0.0.1 - - [30/Aug/2024 09:16:01] \"GET /recom HTTP/1.1\" 200 -\n",
      "127.0.0.1 - - [30/Aug/2024 09:16:01] \"GET /graph-data HTTP/1.1\" 200 -\n",
      "127.0.0.1 - - [30/Aug/2024 09:16:01] \"GET /tree-data HTTP/1.1\" 200 -\n",
      "127.0.0.1 - - [30/Aug/2024 09:16:03] \"GET /static/styles.css HTTP/1.1\" 304 -\n",
      "127.0.0.1 - - [30/Aug/2024 09:16:04] \"POST /submit HTTP/1.1\" 200 -\n"
     ]
    },
    {
     "name": "stdout",
     "output_type": "stream",
     "text": [
      "Received slider values: {'Popularity': 0.44, 'danceability': 0.5299, 'energy': 0.66301, 'key': 0.48, 'loudness': 0.756, 'mode': 0.64, 'speechiness': 0.0625, 'acousticness': 0.25, 'instrumentalness': 0.14, 'liveness': 0.1836, 'valence': 0.4759, 'tempo': 34.132, 'duration_in min/ms': 0.50165, 'time_signature': 1}\n"
     ]
    },
    {
     "name": "stderr",
     "output_type": "stream",
     "text": [
      "127.0.0.1 - - [30/Aug/2024 09:16:06] \"POST /handle_recom HTTP/1.1\" 200 -\n"
     ]
    },
    {
     "name": "stdout",
     "output_type": "stream",
     "text": [
      "1 max\n"
     ]
    },
    {
     "name": "stderr",
     "output_type": "stream",
     "text": [
      "127.0.0.1 - - [30/Aug/2024 09:16:07] \"POST /handle_recom HTTP/1.1\" 200 -\n"
     ]
    },
    {
     "name": "stdout",
     "output_type": "stream",
     "text": [
      "1 min\n"
     ]
    },
    {
     "name": "stderr",
     "output_type": "stream",
     "text": [
      "127.0.0.1 - - [30/Aug/2024 09:16:07] \"POST /handle_recom HTTP/1.1\" 200 -\n"
     ]
    },
    {
     "name": "stdout",
     "output_type": "stream",
     "text": [
      "2 min\n"
     ]
    },
    {
     "name": "stderr",
     "output_type": "stream",
     "text": [
      "127.0.0.1 - - [30/Aug/2024 09:17:16] \"GET / HTTP/1.1\" 200 -\n",
      "127.0.0.1 - - [30/Aug/2024 09:17:16] \"GET /static/styles.css HTTP/1.1\" 304 -\n",
      "127.0.0.1 - - [30/Aug/2024 09:17:16] \"GET /static/scripts.js HTTP/1.1\" 200 -\n",
      "127.0.0.1 - - [30/Aug/2024 09:17:16] \"GET /sliders HTTP/1.1\" 200 -\n",
      "127.0.0.1 - - [30/Aug/2024 09:17:16] \"GET /recom HTTP/1.1\" 200 -\n",
      "127.0.0.1 - - [30/Aug/2024 09:17:16] \"GET /graph-data HTTP/1.1\" 200 -\n",
      "127.0.0.1 - - [30/Aug/2024 09:17:16] \"GET /tree-data HTTP/1.1\" 200 -\n",
      "127.0.0.1 - - [30/Aug/2024 09:17:16] \"POST /handle_recom HTTP/1.1\" 200 -\n"
     ]
    },
    {
     "name": "stdout",
     "output_type": "stream",
     "text": [
      "3 min\n"
     ]
    },
    {
     "name": "stderr",
     "output_type": "stream",
     "text": [
      "127.0.0.1 - - [30/Aug/2024 09:17:22] \"POST /handle_recom HTTP/1.1\" 200 -\n"
     ]
    },
    {
     "name": "stdout",
     "output_type": "stream",
     "text": [
      "6 min\n"
     ]
    },
    {
     "name": "stderr",
     "output_type": "stream",
     "text": [
      "127.0.0.1 - - [30/Aug/2024 09:17:23] \"POST /handle_recom HTTP/1.1\" 200 -\n"
     ]
    },
    {
     "name": "stdout",
     "output_type": "stream",
     "text": [
      "8 max\n"
     ]
    },
    {
     "name": "stderr",
     "output_type": "stream",
     "text": [
      "127.0.0.1 - - [30/Aug/2024 09:17:24] \"POST /handle_recom HTTP/1.1\" 200 -\n"
     ]
    },
    {
     "name": "stdout",
     "output_type": "stream",
     "text": [
      "8 min\n"
     ]
    },
    {
     "name": "stderr",
     "output_type": "stream",
     "text": [
      "127.0.0.1 - - [30/Aug/2024 09:17:24] \"POST /handle_recom HTTP/1.1\" 200 -\n"
     ]
    },
    {
     "name": "stdout",
     "output_type": "stream",
     "text": [
      "9 max\n"
     ]
    }
   ],
   "source": [
    "from flask import Flask, render_template, request, jsonify\n",
    "\n",
    "app = Flask(__name__)\n",
    "\n",
    "@app.route('/')\n",
    "def index():\n",
    "    return render_template('index.html')\n",
    "\n",
    "# slider ####################################################################\n",
    "@app.route('/sliders')\n",
    "def sliders():\n",
    "    return jsonify(sliders_data)\n",
    "\n",
    "@app.route('/submit', methods=['POST'])\n",
    "def submit_slider_values():\n",
    "    data = request.json\n",
    "    print('Received slider values:', data)\n",
    "    # Process the data as needed\n",
    "    return jsonify({'status': 'success', 'received': data})\n",
    "# slider end ####################################################################\n",
    "\n",
    "# recom ####################################################################\n",
    "@app.route('/recom')\n",
    "def recom():\n",
    "    return jsonify(recom_data)\n",
    "\n",
    "@app.route('/handle_recom', methods=['POST'])\n",
    "def handle_recom():\n",
    "    data = request.json\n",
    "    button_id = data.get('buttonId')\n",
    "    val = data.get('val')\n",
    "    print(button_id, val)\n",
    "    # Handle the button click based on the button_id\n",
    "    return jsonify({'status': 'success', 'buttonId': button_id, 'val': val})\n",
    "# recom end ####################################################################\n",
    "\n",
    "@app.route('/graph-data')\n",
    "def data():\n",
    "    nodes = [\n",
    "        {\"id\": \"center\", \"x\": 300, \"y\": 200, \"info\": \"Center Node\", \"color\": \"red\"},\n",
    "        {\"id\": \"left\", \"x\": 150, \"y\": 200, \"info\": \"Left Node\", \"color\": \"green\"},\n",
    "        {\"id\": \"top\", \"x\": 300, \"y\": 100, \"info\": \"Top Node\", \"color\": \"pink\"},\n",
    "        {\"id\": \"right1\", \"x\": 450, \"y\": 250, \"info\": \"Right Node 1\", \"color\": \"blue\"},\n",
    "        {\"id\": \"right2\", \"x\": 550, \"y\": 200, \"info\": \"Right Node 2\", \"color\": \"blue\"},\n",
    "        {\"id\": \"bottom1\", \"x\": 300, \"y\": 300, \"info\": \"Bottom Node 1\", \"color\": \"pink\"},\n",
    "        {\"id\": \"bottom2\", \"x\": 250, \"y\": 350, \"info\": \"Bottom Node 2\", \"color\": \"pink\"},\n",
    "        {\"id\": \"bottom3\", \"x\": 350, \"y\": 350, \"info\": \"Bottom Node 3\", \"color\": \"pink\"}\n",
    "    ]\n",
    "    return jsonify(nodes)\n",
    "\n",
    "@app.route('/tree-data')\n",
    "def tree_data():\n",
    "    tree = {\n",
    "        \"name\": \"Root\",\n",
    "        \"children\": [\n",
    "            {\n",
    "                \"name\": \"Child 1\",\n",
    "                \"children\": [\n",
    "                    {\"name\": \"Grandchild 1\"},\n",
    "                    {\"name\": \"Grandchild 2\"}\n",
    "                ]\n",
    "            },\n",
    "            {\n",
    "                \"name\": \"Child 2\",\n",
    "                \"children\": [\n",
    "                    {\"name\": \"Grandchild 3\"},\n",
    "                    {\"name\": \"Grandchild 4\"}\n",
    "                ]\n",
    "            }\n",
    "        ]\n",
    "    }\n",
    "    return jsonify(tree)\n",
    "\n",
    "if __name__ == '__main__':\n",
    "    app.run(port=8123)\n"
   ]
  }
 ],
 "metadata": {
  "kernelspec": {
   "display_name": "Python 3",
   "language": "python",
   "name": "python3"
  },
  "language_info": {
   "codemirror_mode": {
    "name": "ipython",
    "version": 3
   },
   "file_extension": ".py",
   "mimetype": "text/x-python",
   "name": "python",
   "nbconvert_exporter": "python",
   "pygments_lexer": "ipython3",
   "version": "3.12.5"
  }
 },
 "nbformat": 4,
 "nbformat_minor": 2
}
