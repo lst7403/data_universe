{
 "cells": [
  {
   "cell_type": "code",
   "execution_count": 1,
   "metadata": {},
   "outputs": [],
   "source": [
    "# load module and pre generate data\n",
    "from graph_tree_list_module import *\n",
    "\n",
    "import numpy as np\n",
    "\n",
    "import pickle\n",
    "\n",
    "# Open the file in binary read mode and load the object\n",
    "with open(\"graph_tree.pkl\", \"rb\") as file:\n",
    "    gt = pickle.load(file)\n"
   ]
  },
  {
   "cell_type": "code",
   "execution_count": 2,
   "metadata": {},
   "outputs": [
    {
     "name": "stdout",
     "output_type": "stream",
     "text": [
      "reflection_node: 1 at lv up: 2\n",
      "generate cos sim, ecul dist, and nodes sorted by cos sim\n",
      "[{'id': 18, 'cos_sim': np.float64(-0.5755523168344743), 'euclide_dist': np.float64(0.8035952397386502), 'r_ratio': 1.4714285714285715, 'cluster_type': 'neighbour'}, {'id': 21, 'cos_sim': np.float64(-0.4791538267295451), 'euclide_dist': np.float64(1.0154997843986724), 'r_ratio': 0.3, 'cluster_type': 'neighbour'}, {'id': 23, 'cos_sim': np.float64(-0.47174492195640827), 'euclide_dist': np.float64(0.831771797565834), 'r_ratio': 1.1714285714285715, 'cluster_type': 'neighbour'}, {'id': 6, 'cos_sim': np.float64(-0.26896811660847436), 'euclide_dist': np.float64(1.238594290957152), 'r_ratio': 0.5, 'cluster_type': 'neighbour'}, {'id': 27, 'cos_sim': np.float64(-0.2114062464791594), 'euclide_dist': np.float64(0.7128433332564057), 'r_ratio': 0.17142857142857143, 'cluster_type': 'neighbour'}, {'id': 24, 'cos_sim': np.float64(-0.19238211026425456), 'euclide_dist': np.float64(0.6633759032487465), 'r_ratio': 0.37142857142857144, 'cluster_type': 'neighbour'}, {'id': 17, 'cos_sim': np.float64(-0.12264947807782754), 'euclide_dist': np.float64(0.6396058723789214), 'r_ratio': 1.2428571428571429, 'cluster_type': 'neighbour'}, {'id': 20, 'cos_sim': np.float64(-0.0404014525747863), 'euclide_dist': np.float64(0.8797495052704711), 'r_ratio': 0.3142857142857143, 'cluster_type': 'neighbour'}, {'id': 29, 'cos_sim': np.float64(-0.012377440806048454), 'euclide_dist': np.float64(0.9464172983008188), 'r_ratio': 0.07142857142857142, 'cluster_type': 'neighbour'}, {'id': 32, 'cos_sim': np.float64(0.0711024790953264), 'euclide_dist': np.float64(0.5632962511382218), 'r_ratio': 0.24285714285714285, 'cluster_type': 'neighbour'}, {'id': 31, 'cos_sim': np.float64(0.0999930348688301), 'euclide_dist': np.float64(0.6872151914450806), 'r_ratio': 0.2, 'cluster_type': 'neighbour'}, {'id': 19, 'cos_sim': np.float64(0.15265239892871163), 'euclide_dist': np.float64(0.7805917471560612), 'r_ratio': 0.32857142857142857, 'cluster_type': 'neighbour'}, {'id': 22, 'cos_sim': np.float64(0.223631870803192), 'euclide_dist': np.float64(0.6600156586005946), 'r_ratio': 0.5857142857142857, 'cluster_type': 'neighbour'}, {'id': 28, 'cos_sim': np.float64(0.321219111441764), 'euclide_dist': np.float64(0.5913297549055095), 'r_ratio': 0.37142857142857144, 'cluster_type': 'neighbour'}, {'id': 30, 'cos_sim': np.float64(0.39869877880909554), 'euclide_dist': np.float64(0.6034862650974535), 'r_ratio': 0.08571428571428572, 'cluster_type': 'neighbour'}, {'id': 25, 'cos_sim': np.float64(0.4622108178264992), 'euclide_dist': np.float64(0.4391885620683006), 'r_ratio': 0.3, 'cluster_type': 'neighbour'}, {'id': 26, 'cos_sim': np.float64(0.4861045997807609), 'euclide_dist': np.float64(0.5637585403654504), 'r_ratio': 0.22857142857142856, 'cluster_type': 'neighbour'}, {'id': 15, 'cos_sim': np.float64(0.5410417150541238), 'euclide_dist': np.float64(0.4095607249763128), 'r_ratio': 1.3142857142857143, 'cluster_type': 'neighbour'}, {'id': 16, 'cos_sim': np.float64(1.0), 'euclide_dist': np.float64(0.0), 'r_ratio': 1.0, 'cluster_type': 'center'}]\n",
      "[{'id': 3, 'r_ratio': 2.3142857142857145, 'dy': 0, 'dx': 0, 'cluster_type': 'parent'}, {'id': 51, 'r_ratio': 0.07142857142857142, 'dy': 0, 'dx': -0.0, 'cluster_type': 'child'}, {'id': 52, 'r_ratio': 0.11428571428571428, 'dy': 1, 'dx': 0.5, 'cluster_type': 'child'}, {'id': 53, 'r_ratio': 0.2, 'dy': 1, 'dx': -0.5, 'cluster_type': 'child'}, {'id': 54, 'r_ratio': 0.07142857142857142, 'dy': 2, 'dx': -0.0, 'cluster_type': 'child'}, {'id': 55, 'r_ratio': 0.11428571428571428, 'dy': 2, 'dx': 1.0, 'cluster_type': 'child'}, {'id': 56, 'r_ratio': 0.04285714285714286, 'dy': 2, 'dx': -1.0, 'cluster_type': 'child'}, {'id': 57, 'r_ratio': 0.1, 'dy': 3, 'dx': 0.5, 'cluster_type': 'child'}, {'id': 58, 'r_ratio': 0.11428571428571428, 'dy': 3, 'dx': -0.5, 'cluster_type': 'child'}, {'id': 59, 'r_ratio': 0.11428571428571428, 'dy': 3, 'dx': 1.5, 'cluster_type': 'child'}, {'id': 60, 'r_ratio': 0.05714285714285714, 'dy': 3, 'dx': -1.5, 'cluster_type': 'child'}]\n"
     ]
    },
    {
     "ename": "",
     "evalue": "",
     "output_type": "error",
     "traceback": [
      "\u001b[1;31mThe Kernel crashed while executing code in the current cell or a previous cell. \n",
      "\u001b[1;31mPlease review the code in the cell(s) to identify a possible cause of the failure. \n",
      "\u001b[1;31mClick <a href='https://aka.ms/vscodeJupyterKernelCrash'>here</a> for more info. \n",
      "\u001b[1;31mView Jupyter <a href='command:jupyter.viewOutput'>log</a> for further details."
     ]
    }
   ],
   "source": [
    "sliders_data = [{\"id\": gt.attr_name[i], \"min\": gt.X_maxmin[1][i], \"max\": gt.X_maxmin[0][i], \"value\": gt.nodes[0].center[i], \"type\": \"f\"} for i in range(len(gt.attr_name))]\n",
    "# print(sliders_data)\n",
    "\n",
    "recom_data = [{\"i\": i, \"id\": gt.attr_name[i], \"max_val\": gt.recom[i][0].center[i], \"min_val\": gt.recom[i][1].center[i]} for i in range(len(gt.attr_name))]\n",
    "# print(recom_data)\n",
    "\n",
    "graph_tree_horizontal_data, graph_tree_vertical_data = gt.get_graph_tree_svg_data(node_id = 16)\n",
    "\n",
    "tree_data = {\n",
    "        \"name\": \"Root\",\n",
    "        \"children\": [\n",
    "            {\n",
    "                \"name\": \"Child 1\",\n",
    "                \"children\": [\n",
    "                    {\"name\": \"Grandchild 1\"},\n",
    "                    {\"name\": \"Grandchild 2\"}\n",
    "                ]\n",
    "            },\n",
    "            {\n",
    "                \"name\": \"Child 2\",\n",
    "                \"children\": [\n",
    "                    {\"name\": \"Grandchild 3\"},\n",
    "                    {\"name\": \"Grandchild 4\"}\n",
    "                ]\n",
    "            }\n",
    "        ]\n",
    "    }"
   ]
  },
  {
   "cell_type": "code",
   "execution_count": null,
   "metadata": {},
   "outputs": [
    {
     "name": "stdout",
     "output_type": "stream",
     "text": [
      " * Serving Flask app '__main__'\n",
      " * Debug mode: off\n"
     ]
    },
    {
     "name": "stderr",
     "output_type": "stream",
     "text": [
      "WARNING: This is a development server. Do not use it in a production deployment. Use a production WSGI server instead.\n",
      " * Running on http://127.0.0.1:8123\n",
      "Press CTRL+C to quit\n",
      "127.0.0.1 - - [11/Oct/2024 10:43:28] \"GET / HTTP/1.1\" 200 -\n",
      "127.0.0.1 - - [11/Oct/2024 10:43:28] \"GET /static/graph_tree_shared_variable.js HTTP/1.1\" 304 -\n",
      "127.0.0.1 - - [11/Oct/2024 10:43:28] \"GET /static/curve_axis.js HTTP/1.1\" 304 -\n",
      "127.0.0.1 - - [11/Oct/2024 10:43:28] \"GET /static/styles.css HTTP/1.1\" 304 -\n",
      "127.0.0.1 - - [11/Oct/2024 10:43:28] \"GET /static/scripts.js HTTP/1.1\" 304 -\n",
      "127.0.0.1 - - [11/Oct/2024 10:43:28] \"GET /static/graph_tree.js HTTP/1.1\" 200 -\n",
      "127.0.0.1 - - [11/Oct/2024 10:43:28] \"GET /sliders HTTP/1.1\" 200 -\n",
      "127.0.0.1 - - [11/Oct/2024 10:43:28] \"GET /recom HTTP/1.1\" 200 -\n",
      "127.0.0.1 - - [11/Oct/2024 10:43:28] \"GET /graph_tree_data HTTP/1.1\" 200 -\n",
      "127.0.0.1 - - [11/Oct/2024 10:43:28] \"GET /tree_data HTTP/1.1\" 200 -\n",
      "127.0.0.1 - - [11/Oct/2024 10:43:35] \"GET / HTTP/1.1\" 200 -\n",
      "127.0.0.1 - - [11/Oct/2024 10:43:35] \"GET /static/styles.css HTTP/1.1\" 304 -\n",
      "127.0.0.1 - - [11/Oct/2024 10:43:35] \"GET /static/graph_tree_shared_variable.js HTTP/1.1\" 304 -\n",
      "127.0.0.1 - - [11/Oct/2024 10:43:35] \"GET /static/curve_axis.js HTTP/1.1\" 304 -\n",
      "127.0.0.1 - - [11/Oct/2024 10:43:35] \"GET /static/graph_tree.js HTTP/1.1\" 304 -\n",
      "127.0.0.1 - - [11/Oct/2024 10:43:35] \"GET /static/scripts.js HTTP/1.1\" 304 -\n",
      "127.0.0.1 - - [11/Oct/2024 10:43:36] \"GET /sliders HTTP/1.1\" 200 -\n",
      "127.0.0.1 - - [11/Oct/2024 10:43:36] \"GET /recom HTTP/1.1\" 200 -\n",
      "127.0.0.1 - - [11/Oct/2024 10:43:36] \"GET /graph_tree_data HTTP/1.1\" 200 -\n",
      "127.0.0.1 - - [11/Oct/2024 10:43:36] \"GET /tree_data HTTP/1.1\" 200 -\n",
      "127.0.0.1 - - [11/Oct/2024 10:43:44] \"GET /static/styles.css HTTP/1.1\" 304 -\n",
      "127.0.0.1 - - [11/Oct/2024 10:44:04] \"GET / HTTP/1.1\" 200 -\n",
      "127.0.0.1 - - [11/Oct/2024 10:44:04] \"GET /static/styles.css HTTP/1.1\" 304 -\n",
      "127.0.0.1 - - [11/Oct/2024 10:44:04] \"GET /static/graph_tree_shared_variable.js HTTP/1.1\" 304 -\n",
      "127.0.0.1 - - [11/Oct/2024 10:44:04] \"GET /static/curve_axis.js HTTP/1.1\" 304 -\n",
      "127.0.0.1 - - [11/Oct/2024 10:44:04] \"GET /static/scripts.js HTTP/1.1\" 304 -\n",
      "127.0.0.1 - - [11/Oct/2024 10:44:04] \"GET /static/graph_tree.js HTTP/1.1\" 200 -\n",
      "127.0.0.1 - - [11/Oct/2024 10:44:05] \"GET /sliders HTTP/1.1\" 200 -\n",
      "127.0.0.1 - - [11/Oct/2024 10:44:05] \"GET /recom HTTP/1.1\" 200 -\n",
      "127.0.0.1 - - [11/Oct/2024 10:44:05] \"GET /graph_tree_data HTTP/1.1\" 200 -\n",
      "127.0.0.1 - - [11/Oct/2024 10:44:05] \"GET /tree_data HTTP/1.1\" 200 -\n",
      "127.0.0.1 - - [11/Oct/2024 10:44:12] \"GET / HTTP/1.1\" 200 -\n",
      "127.0.0.1 - - [11/Oct/2024 10:44:12] \"GET /static/styles.css HTTP/1.1\" 304 -\n",
      "127.0.0.1 - - [11/Oct/2024 10:44:12] \"GET /static/graph_tree_shared_variable.js HTTP/1.1\" 304 -\n",
      "127.0.0.1 - - [11/Oct/2024 10:44:12] \"GET /static/curve_axis.js HTTP/1.1\" 304 -\n",
      "127.0.0.1 - - [11/Oct/2024 10:44:12] \"GET /static/graph_tree.js HTTP/1.1\" 304 -\n",
      "127.0.0.1 - - [11/Oct/2024 10:44:12] \"GET /static/scripts.js HTTP/1.1\" 304 -\n",
      "127.0.0.1 - - [11/Oct/2024 10:44:12] \"GET /sliders HTTP/1.1\" 200 -\n",
      "127.0.0.1 - - [11/Oct/2024 10:44:12] \"GET /recom HTTP/1.1\" 200 -\n",
      "127.0.0.1 - - [11/Oct/2024 10:44:12] \"GET /graph_tree_data HTTP/1.1\" 200 -\n",
      "127.0.0.1 - - [11/Oct/2024 10:44:12] \"GET /tree_data HTTP/1.1\" 200 -\n",
      "127.0.0.1 - - [11/Oct/2024 10:45:16] \"GET / HTTP/1.1\" 200 -\n",
      "127.0.0.1 - - [11/Oct/2024 10:45:16] \"GET /static/styles.css HTTP/1.1\" 304 -\n",
      "127.0.0.1 - - [11/Oct/2024 10:45:16] \"GET /static/graph_tree_shared_variable.js HTTP/1.1\" 304 -\n",
      "127.0.0.1 - - [11/Oct/2024 10:45:16] \"GET /static/curve_axis.js HTTP/1.1\" 304 -\n",
      "127.0.0.1 - - [11/Oct/2024 10:45:16] \"GET /static/scripts.js HTTP/1.1\" 304 -\n",
      "127.0.0.1 - - [11/Oct/2024 10:45:16] \"GET /static/graph_tree.js HTTP/1.1\" 200 -\n",
      "127.0.0.1 - - [11/Oct/2024 10:45:16] \"GET /sliders HTTP/1.1\" 200 -\n",
      "127.0.0.1 - - [11/Oct/2024 10:45:16] \"GET /recom HTTP/1.1\" 200 -\n",
      "127.0.0.1 - - [11/Oct/2024 10:45:16] \"GET /graph_tree_data HTTP/1.1\" 200 -\n",
      "127.0.0.1 - - [11/Oct/2024 10:45:16] \"GET /tree_data HTTP/1.1\" 200 -\n",
      "127.0.0.1 - - [11/Oct/2024 10:45:36] \"GET / HTTP/1.1\" 200 -\n",
      "127.0.0.1 - - [11/Oct/2024 10:45:36] \"GET /static/styles.css HTTP/1.1\" 304 -\n",
      "127.0.0.1 - - [11/Oct/2024 10:45:36] \"GET /static/graph_tree_shared_variable.js HTTP/1.1\" 304 -\n",
      "127.0.0.1 - - [11/Oct/2024 10:45:36] \"GET /static/curve_axis.js HTTP/1.1\" 304 -\n",
      "127.0.0.1 - - [11/Oct/2024 10:45:36] \"GET /static/scripts.js HTTP/1.1\" 304 -\n",
      "127.0.0.1 - - [11/Oct/2024 10:45:36] \"GET /static/graph_tree.js HTTP/1.1\" 200 -\n",
      "127.0.0.1 - - [11/Oct/2024 10:45:36] \"GET /sliders HTTP/1.1\" 200 -\n",
      "127.0.0.1 - - [11/Oct/2024 10:45:36] \"GET /recom HTTP/1.1\" 200 -\n",
      "127.0.0.1 - - [11/Oct/2024 10:45:36] \"GET /graph_tree_data HTTP/1.1\" 200 -\n",
      "127.0.0.1 - - [11/Oct/2024 10:45:36] \"GET /tree_data HTTP/1.1\" 200 -\n",
      "127.0.0.1 - - [11/Oct/2024 10:47:08] \"GET / HTTP/1.1\" 200 -\n",
      "127.0.0.1 - - [11/Oct/2024 10:47:08] \"GET /static/styles.css HTTP/1.1\" 304 -\n",
      "127.0.0.1 - - [11/Oct/2024 10:47:08] \"GET /static/graph_tree_shared_variable.js HTTP/1.1\" 304 -\n",
      "127.0.0.1 - - [11/Oct/2024 10:47:08] \"GET /static/curve_axis.js HTTP/1.1\" 304 -\n",
      "127.0.0.1 - - [11/Oct/2024 10:47:08] \"GET /static/graph_tree.js HTTP/1.1\" 304 -\n",
      "127.0.0.1 - - [11/Oct/2024 10:47:08] \"GET /static/scripts.js HTTP/1.1\" 304 -\n",
      "127.0.0.1 - - [11/Oct/2024 10:47:08] \"GET /sliders HTTP/1.1\" 200 -\n",
      "127.0.0.1 - - [11/Oct/2024 10:47:08] \"GET /recom HTTP/1.1\" 200 -\n",
      "127.0.0.1 - - [11/Oct/2024 10:47:08] \"GET /graph_tree_data HTTP/1.1\" 200 -\n",
      "127.0.0.1 - - [11/Oct/2024 10:47:08] \"GET /tree_data HTTP/1.1\" 200 -\n",
      "127.0.0.1 - - [11/Oct/2024 10:47:36] \"GET / HTTP/1.1\" 200 -\n",
      "127.0.0.1 - - [11/Oct/2024 10:47:36] \"GET /static/styles.css HTTP/1.1\" 304 -\n",
      "127.0.0.1 - - [11/Oct/2024 10:47:36] \"GET /static/graph_tree_shared_variable.js HTTP/1.1\" 304 -\n",
      "127.0.0.1 - - [11/Oct/2024 10:47:36] \"GET /static/curve_axis.js HTTP/1.1\" 304 -\n",
      "127.0.0.1 - - [11/Oct/2024 10:47:36] \"GET /static/scripts.js HTTP/1.1\" 304 -\n",
      "127.0.0.1 - - [11/Oct/2024 10:47:36] \"GET /static/graph_tree.js HTTP/1.1\" 200 -\n",
      "127.0.0.1 - - [11/Oct/2024 10:47:36] \"GET /sliders HTTP/1.1\" 200 -\n",
      "127.0.0.1 - - [11/Oct/2024 10:47:36] \"GET /recom HTTP/1.1\" 200 -\n",
      "127.0.0.1 - - [11/Oct/2024 10:47:36] \"GET /graph_tree_data HTTP/1.1\" 200 -\n",
      "127.0.0.1 - - [11/Oct/2024 10:47:36] \"GET /tree_data HTTP/1.1\" 200 -\n",
      "127.0.0.1 - - [11/Oct/2024 10:47:48] \"GET / HTTP/1.1\" 200 -\n",
      "127.0.0.1 - - [11/Oct/2024 10:47:48] \"GET /static/styles.css HTTP/1.1\" 304 -\n",
      "127.0.0.1 - - [11/Oct/2024 10:47:48] \"GET /static/graph_tree_shared_variable.js HTTP/1.1\" 304 -\n",
      "127.0.0.1 - - [11/Oct/2024 10:47:48] \"GET /static/curve_axis.js HTTP/1.1\" 304 -\n",
      "127.0.0.1 - - [11/Oct/2024 10:47:48] \"GET /static/scripts.js HTTP/1.1\" 304 -\n",
      "127.0.0.1 - - [11/Oct/2024 10:47:48] \"GET /static/graph_tree.js HTTP/1.1\" 200 -\n",
      "127.0.0.1 - - [11/Oct/2024 10:47:48] \"GET /sliders HTTP/1.1\" 200 -\n",
      "127.0.0.1 - - [11/Oct/2024 10:47:48] \"GET /recom HTTP/1.1\" 200 -\n",
      "127.0.0.1 - - [11/Oct/2024 10:47:48] \"GET /graph_tree_data HTTP/1.1\" 200 -\n",
      "127.0.0.1 - - [11/Oct/2024 10:47:48] \"GET /tree_data HTTP/1.1\" 200 -\n",
      "127.0.0.1 - - [11/Oct/2024 10:48:30] \"GET / HTTP/1.1\" 200 -\n",
      "127.0.0.1 - - [11/Oct/2024 10:48:30] \"GET /static/styles.css HTTP/1.1\" 304 -\n",
      "127.0.0.1 - - [11/Oct/2024 10:48:30] \"GET /static/graph_tree_shared_variable.js HTTP/1.1\" 304 -\n",
      "127.0.0.1 - - [11/Oct/2024 10:48:30] \"GET /static/curve_axis.js HTTP/1.1\" 304 -\n",
      "127.0.0.1 - - [11/Oct/2024 10:48:30] \"GET /static/scripts.js HTTP/1.1\" 304 -\n",
      "127.0.0.1 - - [11/Oct/2024 10:48:30] \"GET /static/graph_tree.js HTTP/1.1\" 200 -\n",
      "127.0.0.1 - - [11/Oct/2024 10:48:30] \"GET /sliders HTTP/1.1\" 200 -\n",
      "127.0.0.1 - - [11/Oct/2024 10:48:30] \"GET /recom HTTP/1.1\" 200 -\n",
      "127.0.0.1 - - [11/Oct/2024 10:48:30] \"GET /graph_tree_data HTTP/1.1\" 200 -\n",
      "127.0.0.1 - - [11/Oct/2024 10:48:30] \"GET /tree_data HTTP/1.1\" 200 -\n",
      "127.0.0.1 - - [11/Oct/2024 10:48:46] \"POST /graph_tree_circle_click HTTP/1.1\" 200 -\n"
     ]
    },
    {
     "name": "stdout",
     "output_type": "stream",
     "text": [
      "15\n",
      "reflection_node: 1 at lv up: 2\n",
      "generate cos sim, ecul dist, and nodes sorted by cos sim\n",
      "[{'id': 23, 'cos_sim': np.float64(-0.6476532703234698), 'euclide_dist': np.float64(0.8879948522221652), 'r_ratio': 0.8913043478260869, 'cluster_type': 'neighbour'}, {'id': 6, 'cos_sim': np.float64(-0.5803859599202654), 'euclide_dist': np.float64(1.3538895134902649), 'r_ratio': 0.3804347826086957, 'cluster_type': 'neighbour'}, {'id': 18, 'cos_sim': np.float64(-0.3705989146260198), 'euclide_dist': np.float64(0.7579575855032028), 'r_ratio': 1.1195652173913044, 'cluster_type': 'neighbour'}, {'id': 22, 'cos_sim': np.float64(-0.296414149113913), 'euclide_dist': np.float64(0.8461908932675033), 'r_ratio': 0.44565217391304346, 'cluster_type': 'neighbour'}, {'id': 31, 'cos_sim': np.float64(-0.1524072528309201), 'euclide_dist': np.float64(0.779518553287808), 'r_ratio': 0.15217391304347827, 'cluster_type': 'neighbour'}, {'id': 25, 'cos_sim': np.float64(-0.14372367947149775), 'euclide_dist': np.float64(0.6481445291703153), 'r_ratio': 0.22826086956521738, 'cluster_type': 'neighbour'}, {'id': 21, 'cos_sim': np.float64(-0.12856934139224366), 'euclide_dist': np.float64(0.906522849473695), 'r_ratio': 0.22826086956521738, 'cluster_type': 'neighbour'}, {'id': 24, 'cos_sim': np.float64(-0.056824457416119356), 'euclide_dist': np.float64(0.6318318873080015), 'r_ratio': 0.2826086956521739, 'cluster_type': 'neighbour'}, {'id': 29, 'cos_sim': np.float64(0.02289284235923583), 'euclide_dist': np.float64(0.9374897757581903), 'r_ratio': 0.05434782608695652, 'cluster_type': 'neighbour'}, {'id': 26, 'cos_sim': np.float64(0.06295958841759898), 'euclide_dist': np.float64(0.7425313071230224), 'r_ratio': 0.17391304347826086, 'cluster_type': 'neighbour'}, {'id': 27, 'cos_sim': np.float64(0.06442512818422812), 'euclide_dist': np.float64(0.6336812444271965), 'r_ratio': 0.13043478260869565, 'cluster_type': 'neighbour'}, {'id': 19, 'cos_sim': np.float64(0.1708482389397638), 'euclide_dist': np.float64(0.7773925909214805), 'r_ratio': 0.25, 'cluster_type': 'neighbour'}, {'id': 20, 'cos_sim': np.float64(0.21897489402069886), 'euclide_dist': np.float64(0.7835067396683972), 'r_ratio': 0.2391304347826087, 'cluster_type': 'neighbour'}, {'id': 17, 'cos_sim': np.float64(0.2526919673945555), 'euclide_dist': np.float64(0.528005737369058), 'r_ratio': 0.9456521739130435, 'cluster_type': 'neighbour'}, {'id': 28, 'cos_sim': np.float64(0.28184641054260323), 'euclide_dist': np.float64(0.6116024757859497), 'r_ratio': 0.2826086956521739, 'cluster_type': 'neighbour'}, {'id': 32, 'cos_sim': np.float64(0.4066044958470099), 'euclide_dist': np.float64(0.45622768766091587), 'r_ratio': 0.18478260869565216, 'cluster_type': 'neighbour'}, {'id': 30, 'cos_sim': np.float64(0.41236159316892157), 'euclide_dist': np.float64(0.6002440213926317), 'r_ratio': 0.06521739130434782, 'cluster_type': 'neighbour'}, {'id': 16, 'cos_sim': np.float64(0.5410417150541238), 'euclide_dist': np.float64(0.4095607249763128), 'r_ratio': 0.7608695652173914, 'cluster_type': 'neighbour'}, {'id': 15, 'cos_sim': np.float64(1.0), 'euclide_dist': np.float64(0.0), 'r_ratio': 1.0, 'cluster_type': 'center'}]\n",
      "[{'id': 3, 'r_ratio': 1.7608695652173914, 'dy': 0, 'dx': 0, 'cluster_type': 'parent'}, {'id': 47, 'r_ratio': 0.25, 'dy': 0, 'dx': -0.0, 'cluster_type': 'child'}, {'id': 48, 'r_ratio': 0.32608695652173914, 'dy': 1, 'dx': 0.5, 'cluster_type': 'child'}, {'id': 49, 'r_ratio': 0.2717391304347826, 'dy': 1, 'dx': -0.5, 'cluster_type': 'child'}, {'id': 50, 'r_ratio': 0.15217391304347827, 'dy': 2, 'dx': -0.0, 'cluster_type': 'child'}]\n"
     ]
    },
    {
     "name": "stderr",
     "output_type": "stream",
     "text": [
      "127.0.0.1 - - [11/Oct/2024 10:48:52] \"POST /graph_tree_circle_click HTTP/1.1\" 200 -\n"
     ]
    },
    {
     "name": "stdout",
     "output_type": "stream",
     "text": [
      "28\n",
      "reflection_node: 1 at lv up: 2\n",
      "generate cos sim, ecul dist, and nodes sorted by cos sim\n",
      "[{'id': 17, 'cos_sim': np.float64(-0.60622642122257), 'euclide_dist': np.float64(0.9006064328884846), 'r_ratio': 3.3461538461538463, 'cluster_type': 'neighbour'}, {'id': 20, 'cos_sim': np.float64(-0.5412550636436114), 'euclide_dist': np.float64(1.1674439232295177), 'r_ratio': 0.8461538461538461, 'cluster_type': 'neighbour'}, {'id': 23, 'cos_sim': np.float64(-0.42521175127976624), 'euclide_dist': np.float64(0.941986256644925), 'r_ratio': 3.1538461538461537, 'cluster_type': 'neighbour'}, {'id': 6, 'cos_sim': np.float64(-0.39655326742675634), 'euclide_dist': np.float64(1.3858696865205928), 'r_ratio': 1.3461538461538463, 'cluster_type': 'neighbour'}, {'id': 21, 'cos_sim': np.float64(-0.3289147735895332), 'euclide_dist': np.float64(1.0759519960199067), 'r_ratio': 0.8076923076923077, 'cluster_type': 'neighbour'}, {'id': 18, 'cos_sim': np.float64(-0.1357235590728922), 'euclide_dist': np.float64(0.7962107332288157), 'r_ratio': 3.9615384615384617, 'cluster_type': 'neighbour'}, {'id': 19, 'cos_sim': np.float64(0.02542634388662995), 'euclide_dist': np.float64(0.9108211878978151), 'r_ratio': 0.8846153846153846, 'cluster_type': 'neighbour'}, {'id': 22, 'cos_sim': np.float64(0.12676534828510802), 'euclide_dist': np.float64(0.7813189715024375), 'r_ratio': 1.5769230769230769, 'cluster_type': 'neighbour'}, {'id': 15, 'cos_sim': np.float64(0.28184641054260323), 'euclide_dist': np.float64(0.6116024757859497), 'r_ratio': 3.5384615384615383, 'cluster_type': 'neighbour'}, {'id': 16, 'cos_sim': np.float64(0.321219111441764), 'euclide_dist': np.float64(0.5913297549055095), 'r_ratio': 2.6923076923076925, 'cluster_type': 'neighbour'}, {'id': 27, 'cos_sim': np.float64(0.5368962949748728), 'euclide_dist': np.float64(0.5162747340405835), 'r_ratio': 0.46153846153846156, 'cluster_type': 'neighbour'}, {'id': 29, 'cos_sim': np.float64(0.5406690674031374), 'euclide_dist': np.float64(0.7175701464685917), 'r_ratio': 0.19230769230769232, 'cluster_type': 'neighbour'}, {'id': 32, 'cos_sim': np.float64(0.6170505405512801), 'euclide_dist': np.float64(0.45245244060403744), 'r_ratio': 0.6538461538461539, 'cluster_type': 'neighbour'}, {'id': 25, 'cos_sim': np.float64(0.6623873128298302), 'euclide_dist': np.float64(0.43043162587958056), 'r_ratio': 0.8076923076923077, 'cluster_type': 'neighbour'}, {'id': 26, 'cos_sim': np.float64(0.6711869071788127), 'euclide_dist': np.float64(0.49074875665623313), 'r_ratio': 0.6153846153846154, 'cluster_type': 'neighbour'}, {'id': 31, 'cos_sim': np.float64(0.6714798330364224), 'euclide_dist': np.float64(0.46920837085022443), 'r_ratio': 0.5384615384615384, 'cluster_type': 'neighbour'}, {'id': 24, 'cos_sim': np.float64(0.6739736743937556), 'euclide_dist': np.float64(0.42515660898076146), 'r_ratio': 1.0, 'cluster_type': 'neighbour'}, {'id': 30, 'cos_sim': np.float64(0.679878011213538), 'euclide_dist': np.float64(0.48418524963832393), 'r_ratio': 0.23076923076923078, 'cluster_type': 'neighbour'}, {'id': 28, 'cos_sim': np.float64(1.0), 'euclide_dist': np.float64(0.0), 'r_ratio': 1.0, 'cluster_type': 'center'}]\n",
      "[{'id': 8, 'r_ratio': 5.5, 'dy': 0, 'dx': 0, 'cluster_type': 'parent'}]\n"
     ]
    },
    {
     "name": "stderr",
     "output_type": "stream",
     "text": [
      "127.0.0.1 - - [11/Oct/2024 10:48:58] \"POST /graph_tree_circle_click HTTP/1.1\" 200 -\n"
     ]
    },
    {
     "name": "stdout",
     "output_type": "stream",
     "text": [
      "22\n",
      "reflection_node: 1 at lv up: 2\n",
      "generate cos sim, ecul dist, and nodes sorted by cos sim\n",
      "[{'id': 17, 'cos_sim': np.float64(-0.6486948983454219), 'euclide_dist': np.float64(0.9487837025070984), 'r_ratio': 2.1219512195121952, 'cluster_type': 'neighbour'}, {'id': 18, 'cos_sim': np.float64(-0.5999011212981619), 'euclide_dist': np.float64(0.9791647537797956), 'r_ratio': 2.5121951219512195, 'cluster_type': 'neighbour'}, {'id': 21, 'cos_sim': np.float64(-0.5650553014354691), 'euclide_dist': np.float64(1.1988641758519745), 'r_ratio': 0.5121951219512195, 'cluster_type': 'neighbour'}, {'id': 32, 'cos_sim': np.float64(-0.4441102447385581), 'euclide_dist': np.float64(0.8687870333204135), 'r_ratio': 0.4146341463414634, 'cluster_type': 'neighbour'}, {'id': 24, 'cos_sim': np.float64(-0.340897818441708), 'euclide_dist': np.float64(0.8631645853983084), 'r_ratio': 0.6341463414634146, 'cluster_type': 'neighbour'}, {'id': 20, 'cos_sim': np.float64(-0.3077010689834505), 'euclide_dist': np.float64(1.107228328110141), 'r_ratio': 0.5365853658536586, 'cluster_type': 'neighbour'}, {'id': 15, 'cos_sim': np.float64(-0.296414149113913), 'euclide_dist': np.float64(0.8461908932675033), 'r_ratio': 2.2439024390243905, 'cluster_type': 'neighbour'}, {'id': 29, 'cos_sim': np.float64(-0.2329757463183761), 'euclide_dist': np.float64(1.1491334601575138), 'r_ratio': 0.12195121951219512, 'cluster_type': 'neighbour'}, {'id': 19, 'cos_sim': np.float64(-0.21129808634480965), 'euclide_dist': np.float64(1.0409939722302681), 'r_ratio': 0.5609756097560976, 'cluster_type': 'neighbour'}, {'id': 26, 'cos_sim': np.float64(0.07195162841033621), 'euclide_dist': np.float64(0.8460662056055122), 'r_ratio': 0.3902439024390244, 'cluster_type': 'neighbour'}, {'id': 28, 'cos_sim': np.float64(0.12676534828510802), 'euclide_dist': np.float64(0.7813189715024375), 'r_ratio': 0.6341463414634146, 'cluster_type': 'neighbour'}, {'id': 30, 'cos_sim': np.float64(0.17074798108386297), 'euclide_dist': np.float64(0.7996191666928923), 'r_ratio': 0.14634146341463414, 'cluster_type': 'neighbour'}, {'id': 16, 'cos_sim': np.float64(0.223631870803192), 'euclide_dist': np.float64(0.6600156586005946), 'r_ratio': 1.7073170731707317, 'cluster_type': 'neighbour'}, {'id': 27, 'cos_sim': np.float64(0.27386789985721044), 'euclide_dist': np.float64(0.6708678932571053), 'r_ratio': 0.2926829268292683, 'cluster_type': 'neighbour'}, {'id': 25, 'cos_sim': np.float64(0.2967772232709625), 'euclide_dist': np.float64(0.6316853917231164), 'r_ratio': 0.5121951219512195, 'cluster_type': 'neighbour'}, {'id': 6, 'cos_sim': np.float64(0.5379219800091408), 'euclide_dist': np.float64(0.8914594055288031), 'r_ratio': 0.8536585365853658, 'cluster_type': 'neighbour'}, {'id': 31, 'cos_sim': np.float64(0.5950050487226229), 'euclide_dist': np.float64(0.5388077475101942), 'r_ratio': 0.34146341463414637, 'cluster_type': 'neighbour'}, {'id': 23, 'cos_sim': np.float64(0.6130780727327003), 'euclide_dist': np.float64(0.5114073142167311), 'r_ratio': 2.0, 'cluster_type': 'neighbour'}, {'id': 22, 'cos_sim': np.float64(0.9999999999999999), 'euclide_dist': np.float64(0.0), 'r_ratio': 1.0, 'cluster_type': 'center'}]\n",
      "[{'id': 7, 'r_ratio': 3.0, 'dy': 0, 'dx': 0, 'cluster_type': 'parent'}]\n"
     ]
    },
    {
     "name": "stderr",
     "output_type": "stream",
     "text": [
      "127.0.0.1 - - [11/Oct/2024 10:49:02] \"POST /graph_tree_circle_click HTTP/1.1\" 200 -\n"
     ]
    },
    {
     "name": "stdout",
     "output_type": "stream",
     "text": [
      "26\n",
      "reflection_node: 1 at lv up: 2\n",
      "generate cos sim, ecul dist, and nodes sorted by cos sim\n",
      "[{'id': 20, 'cos_sim': np.float64(-0.606126734555648), 'euclide_dist': np.float64(1.243552688462089), 'r_ratio': 1.375, 'cluster_type': 'neighbour'}, {'id': 17, 'cos_sim': np.float64(-0.45418281135300487), 'euclide_dist': np.float64(0.9122509449812872), 'r_ratio': 5.4375, 'cluster_type': 'neighbour'}, {'id': 21, 'cos_sim': np.float64(-0.4152224981670342), 'euclide_dist': np.float64(1.157818239302161), 'r_ratio': 1.3125, 'cluster_type': 'neighbour'}, {'id': 23, 'cos_sim': np.float64(-0.4110949804131036), 'euclide_dist': np.float64(0.9889171709946697), 'r_ratio': 5.125, 'cluster_type': 'neighbour'}, {'id': 6, 'cos_sim': np.float64(-0.37725172749357333), 'euclide_dist': np.float64(1.4204858024155644), 'r_ratio': 2.1875, 'cluster_type': 'neighbour'}, {'id': 19, 'cos_sim': np.float64(-0.03925535431555305), 'euclide_dist': np.float64(0.9792668843676259), 'r_ratio': 1.4375, 'cluster_type': 'neighbour'}, {'id': 18, 'cos_sim': np.float64(0.04336538605460243), 'euclide_dist': np.float64(0.7779084164198504), 'r_ratio': 6.4375, 'cluster_type': 'neighbour'}, {'id': 15, 'cos_sim': np.float64(0.06295958841759898), 'euclide_dist': np.float64(0.7425313071230224), 'r_ratio': 5.75, 'cluster_type': 'neighbour'}, {'id': 22, 'cos_sim': np.float64(0.07195162841033621), 'euclide_dist': np.float64(0.8460662056055122), 'r_ratio': 2.5625, 'cluster_type': 'neighbour'}, {'id': 27, 'cos_sim': np.float64(0.2686606222593542), 'euclide_dist': np.float64(0.688327429306253), 'r_ratio': 0.75, 'cluster_type': 'neighbour'}, {'id': 30, 'cos_sim': np.float64(0.38815264073101224), 'euclide_dist': np.float64(0.6983713568512955), 'r_ratio': 0.375, 'cluster_type': 'neighbour'}, {'id': 29, 'cos_sim': np.float64(0.4534156556280048), 'euclide_dist': np.float64(0.7907443596233198), 'r_ratio': 0.3125, 'cluster_type': 'neighbour'}, {'id': 16, 'cos_sim': np.float64(0.4861045997807609), 'euclide_dist': np.float64(0.5637585403654504), 'r_ratio': 4.375, 'cluster_type': 'neighbour'}, {'id': 24, 'cos_sim': np.float64(0.49430871173333846), 'euclide_dist': np.float64(0.5628800206174591), 'r_ratio': 1.625, 'cluster_type': 'neighbour'}, {'id': 32, 'cos_sim': np.float64(0.5341301304326892), 'euclide_dist': np.float64(0.5379845830878544), 'r_ratio': 1.0625, 'cluster_type': 'neighbour'}, {'id': 31, 'cos_sim': np.float64(0.6238807938056739), 'euclide_dist': np.float64(0.5295470513452228), 'r_ratio': 0.875, 'cluster_type': 'neighbour'}, {'id': 28, 'cos_sim': np.float64(0.6711869071788127), 'euclide_dist': np.float64(0.49074875665623313), 'r_ratio': 1.625, 'cluster_type': 'neighbour'}, {'id': 25, 'cos_sim': np.float64(0.7042616668870947), 'euclide_dist': np.float64(0.44874400948491994), 'r_ratio': 1.3125, 'cluster_type': 'neighbour'}, {'id': 26, 'cos_sim': np.float64(1.0000000000000002), 'euclide_dist': np.float64(0.0), 'r_ratio': 1.0, 'cluster_type': 'center'}]\n",
      "[{'id': 8, 'r_ratio': 8.9375, 'dy': 0, 'dx': 0, 'cluster_type': 'parent'}]\n"
     ]
    },
    {
     "name": "stderr",
     "output_type": "stream",
     "text": [
      "127.0.0.1 - - [11/Oct/2024 10:49:08] \"POST /graph_tree_circle_click HTTP/1.1\" 200 -\n"
     ]
    },
    {
     "name": "stdout",
     "output_type": "stream",
     "text": [
      "19\n",
      "reflection_node: 1 at lv up: 2\n",
      "generate cos sim, ecul dist, and nodes sorted by cos sim\n",
      "[{'id': 23, 'cos_sim': np.float64(-0.5618435647246697), 'euclide_dist': np.float64(1.1242412983096626), 'r_ratio': 3.5652173913043477, 'cluster_type': 'neighbour'}, {'id': 18, 'cos_sim': np.float64(-0.44664913659814004), 'euclide_dist': np.float64(1.0340637353461735), 'r_ratio': 4.478260869565218, 'cluster_type': 'neighbour'}, {'id': 27, 'cos_sim': np.float64(-0.27765299941336974), 'euclide_dist': np.float64(0.9818749707130934), 'r_ratio': 0.5217391304347826, 'cluster_type': 'neighbour'}, {'id': 17, 'cos_sim': np.float64(-0.26451024515242805), 'euclide_dist': np.float64(0.9357457497186246), 'r_ratio': 3.782608695652174, 'cluster_type': 'neighbour'}, {'id': 24, 'cos_sim': np.float64(-0.22543313164331358), 'euclide_dist': np.float64(0.9261001882457863), 'r_ratio': 1.1304347826086956, 'cluster_type': 'neighbour'}, {'id': 22, 'cos_sim': np.float64(-0.21129808634480965), 'euclide_dist': np.float64(1.0409939722302681), 'r_ratio': 1.7826086956521738, 'cluster_type': 'neighbour'}, {'id': 31, 'cos_sim': np.float64(-0.16129338876640648), 'euclide_dist': np.float64(1.0023061983211572), 'r_ratio': 0.6086956521739131, 'cluster_type': 'neighbour'}, {'id': 32, 'cos_sim': np.float64(-0.1574327294526584), 'euclide_dist': np.float64(0.8829778638831145), 'r_ratio': 0.7391304347826086, 'cluster_type': 'neighbour'}, {'id': 25, 'cos_sim': np.float64(-0.06823587208173786), 'euclide_dist': np.float64(0.8640596331894541), 'r_ratio': 0.9130434782608695, 'cluster_type': 'neighbour'}, {'id': 26, 'cos_sim': np.float64(-0.03925535431555305), 'euclide_dist': np.float64(0.9792668843676259), 'r_ratio': 0.6956521739130435, 'cluster_type': 'neighbour'}, {'id': 28, 'cos_sim': np.float64(0.02542634388662995), 'euclide_dist': np.float64(0.9108211878978151), 'r_ratio': 1.1304347826086956, 'cluster_type': 'neighbour'}, {'id': 30, 'cos_sim': np.float64(0.15112844977630155), 'euclide_dist': np.float64(0.8857673649524683), 'r_ratio': 0.2608695652173913, 'cluster_type': 'neighbour'}, {'id': 16, 'cos_sim': np.float64(0.15265239892871163), 'euclide_dist': np.float64(0.7805917471560612), 'r_ratio': 3.0434782608695654, 'cluster_type': 'neighbour'}, {'id': 15, 'cos_sim': np.float64(0.1708482389397638), 'euclide_dist': np.float64(0.7773925909214805), 'r_ratio': 4.0, 'cluster_type': 'neighbour'}, {'id': 6, 'cos_sim': np.float64(0.3957880186459561), 'euclide_dist': np.float64(1.017180801565948), 'r_ratio': 1.5217391304347827, 'cluster_type': 'neighbour'}, {'id': 29, 'cos_sim': np.float64(0.7018206610883266), 'euclide_dist': np.float64(0.6142748359493575), 'r_ratio': 0.21739130434782608, 'cluster_type': 'neighbour'}, {'id': 21, 'cos_sim': np.float64(0.7258721228983016), 'euclide_dist': np.float64(0.5434662784798774), 'r_ratio': 0.9130434782608695, 'cluster_type': 'neighbour'}, {'id': 20, 'cos_sim': np.float64(0.7394751597984642), 'euclide_dist': np.float64(0.5345653289753473), 'r_ratio': 0.9565217391304348, 'cluster_type': 'neighbour'}, {'id': 19, 'cos_sim': np.float64(1.0), 'euclide_dist': np.float64(0.0), 'r_ratio': 1.0, 'cluster_type': 'center'}]\n",
      "[{'id': 5, 'r_ratio': 2.869565217391304, 'dy': 0, 'dx': 0, 'cluster_type': 'parent'}]\n"
     ]
    },
    {
     "name": "stderr",
     "output_type": "stream",
     "text": [
      "127.0.0.1 - - [11/Oct/2024 10:49:13] \"POST /graph_tree_circle_click HTTP/1.1\" 200 -\n"
     ]
    },
    {
     "name": "stdout",
     "output_type": "stream",
     "text": [
      "23\n",
      "reflection_node: 1 at lv up: 2\n",
      "generate cos sim, ecul dist, and nodes sorted by cos sim\n",
      "[{'id': 15, 'cos_sim': np.float64(-0.6476532703234698), 'euclide_dist': np.float64(0.8879948522221652), 'r_ratio': 1.1219512195121952, 'cluster_type': 'neighbour'}, {'id': 29, 'cos_sim': np.float64(-0.578422656814925), 'euclide_dist': np.float64(1.239080660501755), 'r_ratio': 0.06097560975609756, 'cluster_type': 'neighbour'}, {'id': 19, 'cos_sim': np.float64(-0.5618435647246697), 'euclide_dist': np.float64(1.1242412983096626), 'r_ratio': 0.2804878048780488, 'cluster_type': 'neighbour'}, {'id': 32, 'cos_sim': np.float64(-0.5057595143383901), 'euclide_dist': np.float64(0.8259819112598914), 'r_ratio': 0.2073170731707317, 'cluster_type': 'neighbour'}, {'id': 16, 'cos_sim': np.float64(-0.47174492195640827), 'euclide_dist': np.float64(0.831771797565834), 'r_ratio': 0.8536585365853658, 'cluster_type': 'neighbour'}, {'id': 28, 'cos_sim': np.float64(-0.42521175127976624), 'euclide_dist': np.float64(0.941986256644925), 'r_ratio': 0.3170731707317073, 'cluster_type': 'neighbour'}, {'id': 26, 'cos_sim': np.float64(-0.4110949804131036), 'euclide_dist': np.float64(0.9889171709946697), 'r_ratio': 0.1951219512195122, 'cluster_type': 'neighbour'}, {'id': 30, 'cos_sim': np.float64(-0.3975775943306176), 'euclide_dist': np.float64(0.9839768820120325), 'r_ratio': 0.07317073170731707, 'cluster_type': 'neighbour'}, {'id': 24, 'cos_sim': np.float64(-0.3126362497977426), 'euclide_dist': np.float64(0.7974726100196718), 'r_ratio': 0.3170731707317073, 'cluster_type': 'neighbour'}, {'id': 21, 'cos_sim': np.float64(-0.2824201161239047), 'euclide_dist': np.float64(1.0378913233244837), 'r_ratio': 0.25609756097560976, 'cluster_type': 'neighbour'}, {'id': 20, 'cos_sim': np.float64(-0.25842998566606046), 'euclide_dist': np.float64(1.0386618073217206), 'r_ratio': 0.2682926829268293, 'cluster_type': 'neighbour'}, {'id': 25, 'cos_sim': np.float64(-0.20850758144575834), 'euclide_dist': np.float64(0.7571292503473986), 'r_ratio': 0.25609756097560976, 'cluster_type': 'neighbour'}, {'id': 17, 'cos_sim': np.float64(-0.08779268943490638), 'euclide_dist': np.float64(0.723749061352033), 'r_ratio': 1.0609756097560976, 'cluster_type': 'neighbour'}, {'id': 18, 'cos_sim': np.float64(0.05866874787630979), 'euclide_dist': np.float64(0.7060593854526106), 'r_ratio': 1.2560975609756098, 'cluster_type': 'neighbour'}, {'id': 31, 'cos_sim': np.float64(0.1631670544509198), 'euclide_dist': np.float64(0.7319735917195743), 'r_ratio': 0.17073170731707318, 'cluster_type': 'neighbour'}, {'id': 27, 'cos_sim': np.float64(0.18242084775998588), 'euclide_dist': np.float64(0.6638896889373354), 'r_ratio': 0.14634146341463414, 'cluster_type': 'neighbour'}, {'id': 6, 'cos_sim': np.float64(0.514707627536064), 'euclide_dist': np.float64(0.9056424299924806), 'r_ratio': 0.4268292682926829, 'cluster_type': 'neighbour'}, {'id': 22, 'cos_sim': np.float64(0.6130780727327003), 'euclide_dist': np.float64(0.5114073142167311), 'r_ratio': 0.5, 'cluster_type': 'neighbour'}, {'id': 23, 'cos_sim': np.float64(0.9999999999999998), 'euclide_dist': np.float64(0.0), 'r_ratio': 1.0, 'cluster_type': 'center'}]\n",
      "[{'id': 7, 'r_ratio': 1.5, 'dy': 0, 'dx': 0, 'cluster_type': 'parent'}, {'id': 65, 'r_ratio': 0.7439024390243902, 'dy': 0, 'dx': -0.0, 'cluster_type': 'child'}, {'id': 66, 'r_ratio': 0.25609756097560976, 'dy': 1, 'dx': 0.5, 'cluster_type': 'child'}]\n"
     ]
    },
    {
     "name": "stderr",
     "output_type": "stream",
     "text": [
      "127.0.0.1 - - [11/Oct/2024 10:49:28] \"POST /graph_tree_circle_click HTTP/1.1\" 200 -\n"
     ]
    },
    {
     "name": "stdout",
     "output_type": "stream",
     "text": [
      "18\n",
      "reflection_node: 1 at lv up: 2\n",
      "generate cos sim, ecul dist, and nodes sorted by cos sim\n",
      "[{'id': 22, 'cos_sim': np.float64(-0.5999011212981619), 'euclide_dist': np.float64(0.9791647537797956), 'r_ratio': 0.39805825242718446, 'cluster_type': 'neighbour'}, {'id': 16, 'cos_sim': np.float64(-0.5755523168344743), 'euclide_dist': np.float64(0.8035952397386502), 'r_ratio': 0.6796116504854369, 'cluster_type': 'neighbour'}, {'id': 19, 'cos_sim': np.float64(-0.44664913659814004), 'euclide_dist': np.float64(1.0340637353461735), 'r_ratio': 0.22330097087378642, 'cluster_type': 'neighbour'}, {'id': 6, 'cos_sim': np.float64(-0.42804918166350847), 'euclide_dist': np.float64(1.3360289186237393), 'r_ratio': 0.33980582524271846, 'cluster_type': 'neighbour'}, {'id': 15, 'cos_sim': np.float64(-0.3705989146260198), 'euclide_dist': np.float64(0.7579575855032028), 'r_ratio': 0.8932038834951457, 'cluster_type': 'neighbour'}, {'id': 30, 'cos_sim': np.float64(-0.36078178471716427), 'euclide_dist': np.float64(0.9224945933505727), 'r_ratio': 0.05825242718446602, 'cluster_type': 'neighbour'}, {'id': 20, 'cos_sim': np.float64(-0.3408712772403869), 'euclide_dist': np.float64(1.025184740538166), 'r_ratio': 0.21359223300970873, 'cluster_type': 'neighbour'}, {'id': 31, 'cos_sim': np.float64(-0.2199597213817361), 'euclide_dist': np.float64(0.8370366816389289), 'r_ratio': 0.13592233009708737, 'cluster_type': 'neighbour'}, {'id': 28, 'cos_sim': np.float64(-0.1357235590728922), 'euclide_dist': np.float64(0.7962107332288157), 'r_ratio': 0.2524271844660194, 'cluster_type': 'neighbour'}, {'id': 29, 'cos_sim': np.float64(-0.08984566487962181), 'euclide_dist': np.float64(1.007159300948507), 'r_ratio': 0.04854368932038835, 'cluster_type': 'neighbour'}, {'id': 27, 'cos_sim': np.float64(-0.06110821408248549), 'euclide_dist': np.float64(0.7097882330366457), 'r_ratio': 0.11650485436893204, 'cluster_type': 'neighbour'}, {'id': 25, 'cos_sim': np.float64(-0.0540085072834463), 'euclide_dist': np.float64(0.6597515670315874), 'r_ratio': 0.20388349514563106, 'cluster_type': 'neighbour'}, {'id': 26, 'cos_sim': np.float64(0.04336538605460243), 'euclide_dist': np.float64(0.7779084164198504), 'r_ratio': 0.1553398058252427, 'cluster_type': 'neighbour'}, {'id': 23, 'cos_sim': np.float64(0.05866874787630979), 'euclide_dist': np.float64(0.7060593854526106), 'r_ratio': 0.7961165048543689, 'cluster_type': 'neighbour'}, {'id': 21, 'cos_sim': np.float64(0.14348791814869835), 'euclide_dist': np.float64(0.8258883891402661), 'r_ratio': 0.20388349514563106, 'cluster_type': 'neighbour'}, {'id': 32, 'cos_sim': np.float64(0.33064743541507957), 'euclide_dist': np.float64(0.5168485300622571), 'r_ratio': 0.1650485436893204, 'cluster_type': 'neighbour'}, {'id': 17, 'cos_sim': np.float64(0.48090247191296287), 'euclide_dist': np.float64(0.4676587419015632), 'r_ratio': 0.8446601941747572, 'cluster_type': 'neighbour'}, {'id': 24, 'cos_sim': np.float64(0.5978513520461405), 'euclide_dist': np.float64(0.4142400594013935), 'r_ratio': 0.2524271844660194, 'cluster_type': 'neighbour'}, {'id': 18, 'cos_sim': np.float64(1.0000000000000002), 'euclide_dist': np.float64(0.0), 'r_ratio': 1.0, 'cluster_type': 'center'}]\n",
      "[{'id': 4, 'r_ratio': 1.8446601941747574, 'dy': 0, 'dx': 0, 'cluster_type': 'parent'}, {'id': 63, 'r_ratio': 0.5436893203883495, 'dy': 0, 'dx': -0.0, 'cluster_type': 'child'}, {'id': 64, 'r_ratio': 0.4563106796116505, 'dy': 1, 'dx': 0.5, 'cluster_type': 'child'}]\n"
     ]
    },
    {
     "name": "stderr",
     "output_type": "stream",
     "text": [
      "127.0.0.1 - - [11/Oct/2024 10:49:36] \"POST /handle_recom HTTP/1.1\" 200 -\n"
     ]
    },
    {
     "name": "stdout",
     "output_type": "stream",
     "text": [
      "reflection_node: 11 at lv up: 2\n",
      "generate cos sim, ecul dist, and nodes sorted by cos sim\n",
      "[{'id': 75, 'cos_sim': np.float64(-0.40146584506070465), 'euclide_dist': np.float64(1.236891236877308), 'r_ratio': 39.0, 'cluster_type': 'neighbour'}, {'id': 78, 'cos_sim': np.float64(-0.30010245509509537), 'euclide_dist': np.float64(1.2929076612759856), 'r_ratio': 6.0, 'cluster_type': 'neighbour'}, {'id': 82, 'cos_sim': np.float64(-0.08142391463730746), 'euclide_dist': np.float64(1.3526893311215873), 'r_ratio': 3.0, 'cluster_type': 'neighbour'}, {'id': 81, 'cos_sim': np.float64(-0.05592332984654245), 'euclide_dist': np.float64(1.1461230376675957), 'r_ratio': 13.0, 'cluster_type': 'neighbour'}, {'id': 76, 'cos_sim': np.float64(-0.03037041747364825), 'euclide_dist': np.float64(1.15410287837338), 'r_ratio': 38.0, 'cluster_type': 'neighbour'}, {'id': 79, 'cos_sim': np.float64(-0.023275017564249045), 'euclide_dist': np.float64(1.1565406793676372), 'r_ratio': 6.0, 'cluster_type': 'neighbour'}, {'id': 85, 'cos_sim': np.float64(0.10696218686052501), 'euclide_dist': np.float64(1.2223322428629215), 'r_ratio': 2.0, 'cluster_type': 'neighbour'}, {'id': 77, 'cos_sim': np.float64(0.1257466865862497), 'euclide_dist': np.float64(1.1051022459359168), 'r_ratio': 10.0, 'cluster_type': 'neighbour'}, {'id': 83, 'cos_sim': np.float64(0.2287802201801185), 'euclide_dist': np.float64(1.2335198179562117), 'r_ratio': 3.0, 'cluster_type': 'neighbour'}, {'id': 80, 'cos_sim': np.float64(0.4364811895299393), 'euclide_dist': np.float64(0.985111033736841), 'r_ratio': 12.0, 'cluster_type': 'neighbour'}, {'id': 86, 'cos_sim': np.float64(0.44988783082677025), 'euclide_dist': np.float64(0.9777087071271497), 'r_ratio': 9.0, 'cluster_type': 'neighbour'}, {'id': 84, 'cos_sim': np.float64(1.0), 'euclide_dist': np.float64(0.0), 'r_ratio': 1.0, 'cluster_type': 'center'}]\n",
      "[{'id': 38, 'r_ratio': 65.0, 'dy': 0, 'dx': 0, 'cluster_type': 'parent'}]\n"
     ]
    },
    {
     "name": "stderr",
     "output_type": "stream",
     "text": [
      "127.0.0.1 - - [11/Oct/2024 10:49:41] \"POST /graph_tree_circle_click HTTP/1.1\" 200 -\n"
     ]
    },
    {
     "name": "stdout",
     "output_type": "stream",
     "text": [
      "86\n",
      "reflection_node: 11 at lv up: 2\n",
      "generate cos sim, ecul dist, and nodes sorted by cos sim\n",
      "[{'id': 75, 'cos_sim': np.float64(-0.875131666354447), 'euclide_dist': np.float64(0.6923474253484584), 'r_ratio': 4.333333333333333, 'cluster_type': 'neighbour'}, {'id': 82, 'cos_sim': np.float64(-0.06124351604274373), 'euclide_dist': np.float64(0.8530923350585324), 'r_ratio': 0.3333333333333333, 'cluster_type': 'neighbour'}, {'id': 76, 'cos_sim': np.float64(-0.0037258907644311294), 'euclide_dist': np.float64(0.5460899745245579), 'r_ratio': 4.222222222222222, 'cluster_type': 'neighbour'}, {'id': 85, 'cos_sim': np.float64(0.010501972000260911), 'euclide_dist': np.float64(0.7963891825134197), 'r_ratio': 0.2222222222222222, 'cluster_type': 'neighbour'}, {'id': 78, 'cos_sim': np.float64(0.19749607110064285), 'euclide_dist': np.float64(0.5467295089444844), 'r_ratio': 0.6666666666666666, 'cluster_type': 'neighbour'}, {'id': 77, 'cos_sim': np.float64(0.22594276078967154), 'euclide_dist': np.float64(0.48817438372367206), 'r_ratio': 1.1111111111111112, 'cluster_type': 'neighbour'}, {'id': 83, 'cos_sim': np.float64(0.3016662157214766), 'euclide_dist': np.float64(0.8498517647123269), 'r_ratio': 0.3333333333333333, 'cluster_type': 'neighbour'}, {'id': 79, 'cos_sim': np.float64(0.3043150640465635), 'euclide_dist': np.float64(0.4639639414234804), 'r_ratio': 0.6666666666666666, 'cluster_type': 'neighbour'}, {'id': 81, 'cos_sim': np.float64(0.33193930008034755), 'euclide_dist': np.float64(0.4283660806095493), 'r_ratio': 1.4444444444444444, 'cluster_type': 'neighbour'}, {'id': 80, 'cos_sim': np.float64(0.34520658608028704), 'euclide_dist': np.float64(0.4769352112934516), 'r_ratio': 1.3333333333333333, 'cluster_type': 'neighbour'}, {'id': 84, 'cos_sim': np.float64(0.44988783082677025), 'euclide_dist': np.float64(0.9777087071271497), 'r_ratio': 0.1111111111111111, 'cluster_type': 'neighbour'}, {'id': 86, 'cos_sim': np.float64(1.0000000000000002), 'euclide_dist': np.float64(0.0), 'r_ratio': 1.0, 'cluster_type': 'center'}]\n",
      "[{'id': 38, 'r_ratio': 7.222222222222222, 'dy': 0, 'dx': 0, 'cluster_type': 'parent'}]\n"
     ]
    },
    {
     "name": "stderr",
     "output_type": "stream",
     "text": [
      "127.0.0.1 - - [11/Oct/2024 10:49:45] \"POST /graph_tree_circle_click HTTP/1.1\" 200 -\n"
     ]
    },
    {
     "name": "stdout",
     "output_type": "stream",
     "text": [
      "78\n",
      "reflection_node: 11 at lv up: 2\n",
      "generate cos sim, ecul dist, and nodes sorted by cos sim\n",
      "[{'id': 76, 'cos_sim': np.float64(-0.5946654100891501), 'euclide_dist': np.float64(0.6968045159058698), 'r_ratio': 6.333333333333333, 'cluster_type': 'neighbour'}, {'id': 84, 'cos_sim': np.float64(-0.30010245509509537), 'euclide_dist': np.float64(1.2929076612759856), 'r_ratio': 0.16666666666666666, 'cluster_type': 'neighbour'}, {'id': 85, 'cos_sim': np.float64(-0.07749730835660526), 'euclide_dist': np.float64(0.8349313206094979), 'r_ratio': 0.3333333333333333, 'cluster_type': 'neighbour'}, {'id': 75, 'cos_sim': np.float64(-0.05012421263670817), 'euclide_dist': np.float64(0.5364758985237719), 'r_ratio': 6.5, 'cluster_type': 'neighbour'}, {'id': 82, 'cos_sim': np.float64(0.039762590728125116), 'euclide_dist': np.float64(0.8225280332361599), 'r_ratio': 0.5, 'cluster_type': 'neighbour'}, {'id': 80, 'cos_sim': np.float64(0.12097555628276634), 'euclide_dist': np.float64(0.5611148904803622), 'r_ratio': 2.0, 'cluster_type': 'neighbour'}, {'id': 77, 'cos_sim': np.float64(0.16911588906669786), 'euclide_dist': np.float64(0.5145540923168959), 'r_ratio': 1.6666666666666667, 'cluster_type': 'neighbour'}, {'id': 86, 'cos_sim': np.float64(0.19749607110064285), 'euclide_dist': np.float64(0.5467295089444844), 'r_ratio': 1.5, 'cluster_type': 'neighbour'}, {'id': 79, 'cos_sim': np.float64(0.37028329481930133), 'euclide_dist': np.float64(0.4503685584855636), 'r_ratio': 1.0, 'cluster_type': 'neighbour'}, {'id': 83, 'cos_sim': np.float64(0.4024139820665457), 'euclide_dist': np.float64(0.8057621560065611), 'r_ratio': 0.5, 'cluster_type': 'neighbour'}, {'id': 81, 'cos_sim': np.float64(0.5802549641871387), 'euclide_dist': np.float64(0.3584940714197006), 'r_ratio': 2.1666666666666665, 'cluster_type': 'neighbour'}, {'id': 78, 'cos_sim': np.float64(1.0), 'euclide_dist': np.float64(0.0), 'r_ratio': 1.0, 'cluster_type': 'center'}]\n",
      "[{'id': 38, 'r_ratio': 10.833333333333334, 'dy': 0, 'dx': 0, 'cluster_type': 'parent'}]\n"
     ]
    },
    {
     "name": "stderr",
     "output_type": "stream",
     "text": [
      "127.0.0.1 - - [11/Oct/2024 10:49:50] \"POST /graph_tree_circle_click HTTP/1.1\" 200 -\n"
     ]
    },
    {
     "name": "stdout",
     "output_type": "stream",
     "text": [
      "75\n",
      "reflection_node: 11 at lv up: 2\n",
      "generate cos sim, ecul dist, and nodes sorted by cos sim\n",
      "[{'id': 86, 'cos_sim': np.float64(-0.875131666354447), 'euclide_dist': np.float64(0.6923474253484584), 'r_ratio': 0.23076923076923078, 'cluster_type': 'neighbour'}, {'id': 80, 'cos_sim': np.float64(-0.4324836905475038), 'euclide_dist': np.float64(0.593195827470159), 'r_ratio': 0.3076923076923077, 'cluster_type': 'neighbour'}, {'id': 84, 'cos_sim': np.float64(-0.40146584506070465), 'euclide_dist': np.float64(1.236891236877308), 'r_ratio': 0.02564102564102564, 'cluster_type': 'neighbour'}, {'id': 79, 'cos_sim': np.float64(-0.37260335360800734), 'euclide_dist': np.float64(0.5353380618645521), 'r_ratio': 0.15384615384615385, 'cluster_type': 'neighbour'}, {'id': 83, 'cos_sim': np.float64(-0.24790429112440684), 'euclide_dist': np.float64(0.987344024050763), 'r_ratio': 0.07692307692307693, 'cluster_type': 'neighbour'}, {'id': 76, 'cos_sim': np.float64(-0.1851153251031942), 'euclide_dist': np.float64(0.4861171477368078), 'r_ratio': 0.9743589743589743, 'cluster_type': 'neighbour'}, {'id': 77, 'cos_sim': np.float64(-0.17763757438339), 'euclide_dist': np.float64(0.49546538143982977), 'r_ratio': 0.2564102564102564, 'cluster_type': 'neighbour'}, {'id': 81, 'cos_sim': np.float64(-0.1246406099781945), 'euclide_dist': np.float64(0.4352927283841451), 'r_ratio': 0.3333333333333333, 'cluster_type': 'neighbour'}, {'id': 82, 'cos_sim': np.float64(-0.0883591879829791), 'euclide_dist': np.float64(0.7935536868003044), 'r_ratio': 0.07692307692307693, 'cluster_type': 'neighbour'}, {'id': 85, 'cos_sim': np.float64(-0.07100631617471208), 'euclide_dist': np.float64(0.7555092910562405), 'r_ratio': 0.05128205128205128, 'cluster_type': 'neighbour'}, {'id': 78, 'cos_sim': np.float64(-0.05012421263670817), 'euclide_dist': np.float64(0.5364758985237719), 'r_ratio': 0.15384615384615385, 'cluster_type': 'neighbour'}, {'id': 75, 'cos_sim': np.float64(1.0000000000000002), 'euclide_dist': np.float64(0.0), 'r_ratio': 1.0, 'cluster_type': 'center'}]\n",
      "[{'id': 37, 'r_ratio': 1.9743589743589745, 'dy': 0, 'dx': 0, 'cluster_type': 'parent'}]\n"
     ]
    },
    {
     "name": "stderr",
     "output_type": "stream",
     "text": [
      "127.0.0.1 - - [11/Oct/2024 10:49:55] \"POST /graph_tree_circle_click HTTP/1.1\" 200 -\n"
     ]
    },
    {
     "name": "stdout",
     "output_type": "stream",
     "text": [
      "85\n",
      "reflection_node: 11 at lv up: 2\n",
      "generate cos sim, ecul dist, and nodes sorted by cos sim\n",
      "[{'id': 76, 'cos_sim': np.float64(-0.2709092413729092), 'euclide_dist': np.float64(0.8373056109993854), 'r_ratio': 19.0, 'cluster_type': 'neighbour'}, {'id': 78, 'cos_sim': np.float64(-0.07749730835660526), 'euclide_dist': np.float64(0.8349313206094979), 'r_ratio': 3.0, 'cluster_type': 'neighbour'}, {'id': 75, 'cos_sim': np.float64(-0.07100631617471208), 'euclide_dist': np.float64(0.7555092910562405), 'r_ratio': 19.5, 'cluster_type': 'neighbour'}, {'id': 81, 'cos_sim': np.float64(-0.008676042408019837), 'euclide_dist': np.float64(0.7402040017324499), 'r_ratio': 6.5, 'cluster_type': 'neighbour'}, {'id': 86, 'cos_sim': np.float64(0.010501972000260911), 'euclide_dist': np.float64(0.7963891825134197), 'r_ratio': 4.5, 'cluster_type': 'neighbour'}, {'id': 83, 'cos_sim': np.float64(0.06240500211321191), 'euclide_dist': np.float64(1.0730381767018635), 'r_ratio': 1.5, 'cluster_type': 'neighbour'}, {'id': 84, 'cos_sim': np.float64(0.10696218686052501), 'euclide_dist': np.float64(1.2223322428629215), 'r_ratio': 0.5, 'cluster_type': 'neighbour'}, {'id': 79, 'cos_sim': np.float64(0.1327039458847622), 'euclide_dist': np.float64(0.7224972624211913), 'r_ratio': 3.0, 'cluster_type': 'neighbour'}, {'id': 82, 'cos_sim': np.float64(0.1965695852468648), 'euclide_dist': np.float64(0.8826043524418754), 'r_ratio': 1.5, 'cluster_type': 'neighbour'}, {'id': 77, 'cos_sim': np.float64(0.24039317456369919), 'euclide_dist': np.float64(0.685266480817796), 'r_ratio': 5.0, 'cluster_type': 'neighbour'}, {'id': 80, 'cos_sim': np.float64(0.2686119178095565), 'euclide_dist': np.float64(0.690906342578109), 'r_ratio': 6.0, 'cluster_type': 'neighbour'}, {'id': 85, 'cos_sim': np.float64(1.0), 'euclide_dist': np.float64(0.0), 'r_ratio': 1.0, 'cluster_type': 'center'}]\n",
      "[{'id': 38, 'r_ratio': 32.5, 'dy': 0, 'dx': 0, 'cluster_type': 'parent'}]\n"
     ]
    },
    {
     "name": "stderr",
     "output_type": "stream",
     "text": [
      "127.0.0.1 - - [11/Oct/2024 10:50:00] \"POST /graph_tree_circle_click HTTP/1.1\" 200 -\n"
     ]
    },
    {
     "name": "stdout",
     "output_type": "stream",
     "text": [
      "83\n",
      "reflection_node: 11 at lv up: 2\n",
      "generate cos sim, ecul dist, and nodes sorted by cos sim\n",
      "[{'id': 76, 'cos_sim': np.float64(-0.4763703874118988), 'euclide_dist': np.float64(1.0801369707758741), 'r_ratio': 12.666666666666666, 'cluster_type': 'neighbour'}, {'id': 75, 'cos_sim': np.float64(-0.24790429112440684), 'euclide_dist': np.float64(0.987344024050763), 'r_ratio': 13.0, 'cluster_type': 'neighbour'}, {'id': 79, 'cos_sim': np.float64(-0.008388022105811086), 'euclide_dist': np.float64(0.94746921878159), 'r_ratio': 2.0, 'cluster_type': 'neighbour'}, {'id': 85, 'cos_sim': np.float64(0.06240500211321191), 'euclide_dist': np.float64(1.0730381767018635), 'r_ratio': 0.6666666666666666, 'cluster_type': 'neighbour'}, {'id': 82, 'cos_sim': np.float64(0.06641102495191818), 'euclide_dist': np.float64(1.092129999009221), 'r_ratio': 1.0, 'cluster_type': 'neighbour'}, {'id': 80, 'cos_sim': np.float64(0.15570045569422394), 'euclide_dist': np.float64(0.9062083448933773), 'r_ratio': 4.0, 'cluster_type': 'neighbour'}, {'id': 84, 'cos_sim': np.float64(0.2287802201801185), 'euclide_dist': np.float64(1.2335198179562117), 'r_ratio': 0.3333333333333333, 'cluster_type': 'neighbour'}, {'id': 86, 'cos_sim': np.float64(0.3016662157214766), 'euclide_dist': np.float64(0.8498517647123269), 'r_ratio': 3.0, 'cluster_type': 'neighbour'}, {'id': 77, 'cos_sim': np.float64(0.32030530937217966), 'euclide_dist': np.float64(0.8323900352175247), 'r_ratio': 3.3333333333333335, 'cluster_type': 'neighbour'}, {'id': 78, 'cos_sim': np.float64(0.4024139820665457), 'euclide_dist': np.float64(0.8057621560065611), 'r_ratio': 2.0, 'cluster_type': 'neighbour'}, {'id': 81, 'cos_sim': np.float64(0.4682220670932662), 'euclide_dist': np.float64(0.7823236192629127), 'r_ratio': 4.333333333333333, 'cluster_type': 'neighbour'}, {'id': 83, 'cos_sim': np.float64(1.0), 'euclide_dist': np.float64(0.0), 'r_ratio': 1.0, 'cluster_type': 'center'}]\n",
      "[{'id': 38, 'r_ratio': 21.666666666666668, 'dy': 0, 'dx': 0, 'cluster_type': 'parent'}]\n"
     ]
    },
    {
     "name": "stderr",
     "output_type": "stream",
     "text": [
      "127.0.0.1 - - [11/Oct/2024 10:50:05] \"POST /graph_tree_circle_click HTTP/1.1\" 200 -\n"
     ]
    },
    {
     "name": "stdout",
     "output_type": "stream",
     "text": [
      "84\n",
      "reflection_node: 11 at lv up: 2\n",
      "generate cos sim, ecul dist, and nodes sorted by cos sim\n",
      "[{'id': 75, 'cos_sim': np.float64(-0.40146584506070465), 'euclide_dist': np.float64(1.236891236877308), 'r_ratio': 39.0, 'cluster_type': 'neighbour'}, {'id': 78, 'cos_sim': np.float64(-0.30010245509509537), 'euclide_dist': np.float64(1.2929076612759856), 'r_ratio': 6.0, 'cluster_type': 'neighbour'}, {'id': 82, 'cos_sim': np.float64(-0.08142391463730746), 'euclide_dist': np.float64(1.3526893311215873), 'r_ratio': 3.0, 'cluster_type': 'neighbour'}, {'id': 81, 'cos_sim': np.float64(-0.05592332984654245), 'euclide_dist': np.float64(1.1461230376675957), 'r_ratio': 13.0, 'cluster_type': 'neighbour'}, {'id': 76, 'cos_sim': np.float64(-0.03037041747364825), 'euclide_dist': np.float64(1.15410287837338), 'r_ratio': 38.0, 'cluster_type': 'neighbour'}, {'id': 79, 'cos_sim': np.float64(-0.023275017564249045), 'euclide_dist': np.float64(1.1565406793676372), 'r_ratio': 6.0, 'cluster_type': 'neighbour'}, {'id': 85, 'cos_sim': np.float64(0.10696218686052501), 'euclide_dist': np.float64(1.2223322428629215), 'r_ratio': 2.0, 'cluster_type': 'neighbour'}, {'id': 77, 'cos_sim': np.float64(0.1257466865862497), 'euclide_dist': np.float64(1.1051022459359168), 'r_ratio': 10.0, 'cluster_type': 'neighbour'}, {'id': 83, 'cos_sim': np.float64(0.2287802201801185), 'euclide_dist': np.float64(1.2335198179562117), 'r_ratio': 3.0, 'cluster_type': 'neighbour'}, {'id': 80, 'cos_sim': np.float64(0.4364811895299393), 'euclide_dist': np.float64(0.985111033736841), 'r_ratio': 12.0, 'cluster_type': 'neighbour'}, {'id': 86, 'cos_sim': np.float64(0.44988783082677025), 'euclide_dist': np.float64(0.9777087071271497), 'r_ratio': 9.0, 'cluster_type': 'neighbour'}, {'id': 84, 'cos_sim': np.float64(1.0), 'euclide_dist': np.float64(0.0), 'r_ratio': 1.0, 'cluster_type': 'center'}]\n",
      "[{'id': 38, 'r_ratio': 65.0, 'dy': 0, 'dx': 0, 'cluster_type': 'parent'}]\n"
     ]
    },
    {
     "name": "stderr",
     "output_type": "stream",
     "text": [
      "127.0.0.1 - - [11/Oct/2024 10:50:12] \"POST /graph_tree_circle_click HTTP/1.1\" 200 -\n"
     ]
    },
    {
     "name": "stdout",
     "output_type": "stream",
     "text": [
      "85\n",
      "reflection_node: 11 at lv up: 2\n",
      "generate cos sim, ecul dist, and nodes sorted by cos sim\n",
      "[{'id': 76, 'cos_sim': np.float64(-0.2709092413729092), 'euclide_dist': np.float64(0.8373056109993854), 'r_ratio': 19.0, 'cluster_type': 'neighbour'}, {'id': 78, 'cos_sim': np.float64(-0.07749730835660526), 'euclide_dist': np.float64(0.8349313206094979), 'r_ratio': 3.0, 'cluster_type': 'neighbour'}, {'id': 75, 'cos_sim': np.float64(-0.07100631617471208), 'euclide_dist': np.float64(0.7555092910562405), 'r_ratio': 19.5, 'cluster_type': 'neighbour'}, {'id': 81, 'cos_sim': np.float64(-0.008676042408019837), 'euclide_dist': np.float64(0.7402040017324499), 'r_ratio': 6.5, 'cluster_type': 'neighbour'}, {'id': 86, 'cos_sim': np.float64(0.010501972000260911), 'euclide_dist': np.float64(0.7963891825134197), 'r_ratio': 4.5, 'cluster_type': 'neighbour'}, {'id': 83, 'cos_sim': np.float64(0.06240500211321191), 'euclide_dist': np.float64(1.0730381767018635), 'r_ratio': 1.5, 'cluster_type': 'neighbour'}, {'id': 84, 'cos_sim': np.float64(0.10696218686052501), 'euclide_dist': np.float64(1.2223322428629215), 'r_ratio': 0.5, 'cluster_type': 'neighbour'}, {'id': 79, 'cos_sim': np.float64(0.1327039458847622), 'euclide_dist': np.float64(0.7224972624211913), 'r_ratio': 3.0, 'cluster_type': 'neighbour'}, {'id': 82, 'cos_sim': np.float64(0.1965695852468648), 'euclide_dist': np.float64(0.8826043524418754), 'r_ratio': 1.5, 'cluster_type': 'neighbour'}, {'id': 77, 'cos_sim': np.float64(0.24039317456369919), 'euclide_dist': np.float64(0.685266480817796), 'r_ratio': 5.0, 'cluster_type': 'neighbour'}, {'id': 80, 'cos_sim': np.float64(0.2686119178095565), 'euclide_dist': np.float64(0.690906342578109), 'r_ratio': 6.0, 'cluster_type': 'neighbour'}, {'id': 85, 'cos_sim': np.float64(1.0), 'euclide_dist': np.float64(0.0), 'r_ratio': 1.0, 'cluster_type': 'center'}]\n",
      "[{'id': 38, 'r_ratio': 32.5, 'dy': 0, 'dx': 0, 'cluster_type': 'parent'}]\n"
     ]
    },
    {
     "name": "stderr",
     "output_type": "stream",
     "text": [
      "127.0.0.1 - - [11/Oct/2024 10:50:18] \"POST /handle_recom HTTP/1.1\" 200 -\n"
     ]
    },
    {
     "name": "stdout",
     "output_type": "stream",
     "text": [
      "reflection_node: 3 at lv up: 2\n",
      "generate cos sim, ecul dist, and nodes sorted by cos sim\n",
      "[{'id': 49, 'cos_sim': np.float64(-0.8194913081197076), 'euclide_dist': np.float64(0.8997336054403713), 'r_ratio': 6.25, 'cluster_type': 'neighbour'}, {'id': 48, 'cos_sim': np.float64(-0.2945609251876207), 'euclide_dist': np.float64(0.6932080259177769), 'r_ratio': 7.5, 'cluster_type': 'neighbour'}, {'id': 47, 'cos_sim': np.float64(-0.25678760741035095), 'euclide_dist': np.float64(0.7392965323701641), 'r_ratio': 5.75, 'cluster_type': 'neighbour'}, {'id': 50, 'cos_sim': np.float64(-0.09851017837582757), 'euclide_dist': np.float64(0.746310199155921), 'r_ratio': 3.5, 'cluster_type': 'neighbour'}, {'id': 52, 'cos_sim': np.float64(0.0711794025515122), 'euclide_dist': np.float64(0.6445940602623088), 'r_ratio': 2.0, 'cluster_type': 'neighbour'}, {'id': 58, 'cos_sim': np.float64(0.11112379212275716), 'euclide_dist': np.float64(0.6968155102671493), 'r_ratio': 2.0, 'cluster_type': 'neighbour'}, {'id': 55, 'cos_sim': np.float64(0.127803175579902), 'euclide_dist': np.float64(0.6278698384530065), 'r_ratio': 2.0, 'cluster_type': 'neighbour'}, {'id': 57, 'cos_sim': np.float64(0.13428464325728456), 'euclide_dist': np.float64(0.6229913399689829), 'r_ratio': 1.75, 'cluster_type': 'neighbour'}, {'id': 53, 'cos_sim': np.float64(0.41509672193828623), 'euclide_dist': np.float64(0.5430258958735104), 'r_ratio': 3.5, 'cluster_type': 'neighbour'}, {'id': 56, 'cos_sim': np.float64(0.4763249008914859), 'euclide_dist': np.float64(0.6342663417509464), 'r_ratio': 0.75, 'cluster_type': 'neighbour'}, {'id': 51, 'cos_sim': np.float64(0.5371341741887232), 'euclide_dist': np.float64(0.5518502681650301), 'r_ratio': 1.25, 'cluster_type': 'neighbour'}, {'id': 59, 'cos_sim': np.float64(0.6414144446265951), 'euclide_dist': np.float64(0.4486376880878608), 'r_ratio': 2.0, 'cluster_type': 'neighbour'}, {'id': 54, 'cos_sim': np.float64(0.6450618155088811), 'euclide_dist': np.float64(0.4851616446325591), 'r_ratio': 1.25, 'cluster_type': 'neighbour'}, {'id': 60, 'cos_sim': np.float64(1.0), 'euclide_dist': np.float64(0.0), 'r_ratio': 1.0, 'cluster_type': 'center'}]\n",
      "[{'id': 16, 'r_ratio': 17.5, 'dy': 0, 'dx': 0, 'cluster_type': 'parent'}]\n"
     ]
    },
    {
     "name": "stderr",
     "output_type": "stream",
     "text": [
      "127.0.0.1 - - [11/Oct/2024 10:50:25] \"POST /graph_tree_circle_click HTTP/1.1\" 200 -\n"
     ]
    },
    {
     "name": "stdout",
     "output_type": "stream",
     "text": [
      "54\n",
      "reflection_node: 3 at lv up: 2\n",
      "generate cos sim, ecul dist, and nodes sorted by cos sim\n",
      "[{'id': 49, 'cos_sim': np.float64(-0.5159931062205891), 'euclide_dist': np.float64(0.811417303426646), 'r_ratio': 5.0, 'cluster_type': 'neighbour'}, {'id': 52, 'cos_sim': np.float64(-0.43880974678194806), 'euclide_dist': np.float64(0.7627067071768198), 'r_ratio': 1.6, 'cluster_type': 'neighbour'}, {'id': 50, 'cos_sim': np.float64(-0.35568852474528356), 'euclide_dist': np.float64(0.8105352579768698), 'r_ratio': 2.8, 'cluster_type': 'neighbour'}, {'id': 58, 'cos_sim': np.float64(-0.22861176429749958), 'euclide_dist': np.float64(0.8014764138101276), 'r_ratio': 1.6, 'cluster_type': 'neighbour'}, {'id': 47, 'cos_sim': np.float64(-0.13154587870608808), 'euclide_dist': np.float64(0.6917515672437081), 'r_ratio': 4.6, 'cluster_type': 'neighbour'}, {'id': 48, 'cos_sim': np.float64(0.024155584346407577), 'euclide_dist': np.float64(0.6106281746973509), 'r_ratio': 6.0, 'cluster_type': 'neighbour'}, {'id': 53, 'cos_sim': np.float64(0.1259118111097979), 'euclide_dist': np.float64(0.6306872596442936), 'r_ratio': 2.8, 'cluster_type': 'neighbour'}, {'id': 55, 'cos_sim': np.float64(0.2111717994553025), 'euclide_dist': np.float64(0.5888896519796138), 'r_ratio': 1.6, 'cluster_type': 'neighbour'}, {'id': 51, 'cos_sim': np.float64(0.3102994349423082), 'euclide_dist': np.float64(0.6637400211753084), 'r_ratio': 1.0, 'cluster_type': 'neighbour'}, {'id': 59, 'cos_sim': np.float64(0.3853159834577209), 'euclide_dist': np.float64(0.5547417570708236), 'r_ratio': 1.6, 'cluster_type': 'neighbour'}, {'id': 57, 'cos_sim': np.float64(0.4275366726265724), 'euclide_dist': np.float64(0.5173599121036845), 'r_ratio': 1.4, 'cluster_type': 'neighbour'}, {'id': 56, 'cos_sim': np.float64(0.4433482217950079), 'euclide_dist': np.float64(0.6465466796985456), 'r_ratio': 0.6, 'cluster_type': 'neighbour'}, {'id': 60, 'cos_sim': np.float64(0.6450618155088811), 'euclide_dist': np.float64(0.4851616446325591), 'r_ratio': 0.8, 'cluster_type': 'neighbour'}, {'id': 54, 'cos_sim': np.float64(1.0000000000000002), 'euclide_dist': np.float64(0.0), 'r_ratio': 1.0, 'cluster_type': 'center'}]\n",
      "[{'id': 16, 'r_ratio': 14.0, 'dy': 0, 'dx': 0, 'cluster_type': 'parent'}]\n"
     ]
    },
    {
     "name": "stderr",
     "output_type": "stream",
     "text": [
      "127.0.0.1 - - [11/Oct/2024 10:51:26] \"GET / HTTP/1.1\" 200 -\n",
      "127.0.0.1 - - [11/Oct/2024 10:51:26] \"GET /static/styles.css HTTP/1.1\" 304 -\n",
      "127.0.0.1 - - [11/Oct/2024 10:51:26] \"GET /static/graph_tree_shared_variable.js HTTP/1.1\" 304 -\n",
      "127.0.0.1 - - [11/Oct/2024 10:51:26] \"GET /static/curve_axis.js HTTP/1.1\" 304 -\n",
      "127.0.0.1 - - [11/Oct/2024 10:51:26] \"GET /static/graph_tree.js HTTP/1.1\" 304 -\n",
      "127.0.0.1 - - [11/Oct/2024 10:51:26] \"GET /static/scripts.js HTTP/1.1\" 304 -\n",
      "127.0.0.1 - - [11/Oct/2024 10:51:26] \"GET /sliders HTTP/1.1\" 200 -\n",
      "127.0.0.1 - - [11/Oct/2024 10:51:26] \"GET /recom HTTP/1.1\" 200 -\n",
      "127.0.0.1 - - [11/Oct/2024 10:51:26] \"GET /graph_tree_data HTTP/1.1\" 200 -\n",
      "127.0.0.1 - - [11/Oct/2024 10:51:26] \"GET /tree_data HTTP/1.1\" 200 -\n",
      "127.0.0.1 - - [11/Oct/2024 10:52:47] \"GET / HTTP/1.1\" 200 -\n",
      "127.0.0.1 - - [11/Oct/2024 10:52:47] \"GET /static/styles.css HTTP/1.1\" 304 -\n",
      "127.0.0.1 - - [11/Oct/2024 10:52:47] \"GET /static/graph_tree_shared_variable.js HTTP/1.1\" 304 -\n",
      "127.0.0.1 - - [11/Oct/2024 10:52:47] \"GET /static/curve_axis.js HTTP/1.1\" 304 -\n",
      "127.0.0.1 - - [11/Oct/2024 10:52:47] \"GET /static/graph_tree.js HTTP/1.1\" 304 -\n",
      "127.0.0.1 - - [11/Oct/2024 10:52:47] \"GET /static/scripts.js HTTP/1.1\" 304 -\n",
      "127.0.0.1 - - [11/Oct/2024 10:52:47] \"GET /sliders HTTP/1.1\" 200 -\n",
      "127.0.0.1 - - [11/Oct/2024 10:52:47] \"GET /recom HTTP/1.1\" 200 -\n",
      "127.0.0.1 - - [11/Oct/2024 10:52:47] \"GET /graph_tree_data HTTP/1.1\" 200 -\n",
      "127.0.0.1 - - [11/Oct/2024 10:52:47] \"GET /tree_data HTTP/1.1\" 200 -\n",
      "127.0.0.1 - - [11/Oct/2024 10:52:51] \"GET / HTTP/1.1\" 200 -\n",
      "127.0.0.1 - - [11/Oct/2024 10:52:51] \"GET /static/styles.css HTTP/1.1\" 304 -\n",
      "127.0.0.1 - - [11/Oct/2024 10:52:51] \"GET /static/curve_axis.js HTTP/1.1\" 304 -\n",
      "127.0.0.1 - - [11/Oct/2024 10:52:51] \"GET /static/graph_tree_shared_variable.js HTTP/1.1\" 304 -\n",
      "127.0.0.1 - - [11/Oct/2024 10:52:51] \"GET /static/graph_tree.js HTTP/1.1\" 304 -\n",
      "127.0.0.1 - - [11/Oct/2024 10:52:51] \"GET /static/scripts.js HTTP/1.1\" 304 -\n",
      "127.0.0.1 - - [11/Oct/2024 10:52:51] \"GET /sliders HTTP/1.1\" 200 -\n",
      "127.0.0.1 - - [11/Oct/2024 10:52:51] \"GET /recom HTTP/1.1\" 200 -\n",
      "127.0.0.1 - - [11/Oct/2024 10:52:51] \"GET /graph_tree_data HTTP/1.1\" 200 -\n",
      "127.0.0.1 - - [11/Oct/2024 10:52:51] \"GET /tree_data HTTP/1.1\" 200 -\n",
      "127.0.0.1 - - [11/Oct/2024 10:52:53] \"GET / HTTP/1.1\" 200 -\n",
      "127.0.0.1 - - [11/Oct/2024 10:52:53] \"GET /static/styles.css HTTP/1.1\" 304 -\n",
      "127.0.0.1 - - [11/Oct/2024 10:52:53] \"GET /static/graph_tree_shared_variable.js HTTP/1.1\" 304 -\n",
      "127.0.0.1 - - [11/Oct/2024 10:52:53] \"GET /static/curve_axis.js HTTP/1.1\" 304 -\n",
      "127.0.0.1 - - [11/Oct/2024 10:52:53] \"GET /static/graph_tree.js HTTP/1.1\" 304 -\n",
      "127.0.0.1 - - [11/Oct/2024 10:52:53] \"GET /static/scripts.js HTTP/1.1\" 304 -\n",
      "127.0.0.1 - - [11/Oct/2024 10:52:53] \"GET /sliders HTTP/1.1\" 200 -\n",
      "127.0.0.1 - - [11/Oct/2024 10:52:53] \"GET /recom HTTP/1.1\" 200 -\n",
      "127.0.0.1 - - [11/Oct/2024 10:52:53] \"GET /graph_tree_data HTTP/1.1\" 200 -\n",
      "127.0.0.1 - - [11/Oct/2024 10:52:53] \"GET /tree_data HTTP/1.1\" 200 -\n",
      "127.0.0.1 - - [11/Oct/2024 10:52:55] \"GET / HTTP/1.1\" 200 -\n",
      "127.0.0.1 - - [11/Oct/2024 10:52:55] \"GET /static/styles.css HTTP/1.1\" 304 -\n",
      "127.0.0.1 - - [11/Oct/2024 10:52:55] \"GET /static/graph_tree_shared_variable.js HTTP/1.1\" 304 -\n",
      "127.0.0.1 - - [11/Oct/2024 10:52:55] \"GET /static/curve_axis.js HTTP/1.1\" 304 -\n",
      "127.0.0.1 - - [11/Oct/2024 10:52:55] \"GET /static/scripts.js HTTP/1.1\" 304 -\n",
      "127.0.0.1 - - [11/Oct/2024 10:52:55] \"GET /static/graph_tree.js HTTP/1.1\" 304 -\n",
      "127.0.0.1 - - [11/Oct/2024 10:52:55] \"GET /sliders HTTP/1.1\" 200 -\n",
      "127.0.0.1 - - [11/Oct/2024 10:52:55] \"GET /recom HTTP/1.1\" 200 -\n",
      "127.0.0.1 - - [11/Oct/2024 10:52:55] \"GET /graph_tree_data HTTP/1.1\" 200 -\n",
      "127.0.0.1 - - [11/Oct/2024 10:52:55] \"GET /tree_data HTTP/1.1\" 200 -\n",
      "127.0.0.1 - - [11/Oct/2024 10:53:03] \"GET / HTTP/1.1\" 200 -\n",
      "127.0.0.1 - - [11/Oct/2024 10:53:03] \"GET /static/styles.css HTTP/1.1\" 304 -\n",
      "127.0.0.1 - - [11/Oct/2024 10:53:03] \"GET /static/graph_tree_shared_variable.js HTTP/1.1\" 304 -\n",
      "127.0.0.1 - - [11/Oct/2024 10:53:03] \"GET /static/curve_axis.js HTTP/1.1\" 304 -\n",
      "127.0.0.1 - - [11/Oct/2024 10:53:03] \"GET /static/graph_tree.js HTTP/1.1\" 304 -\n",
      "127.0.0.1 - - [11/Oct/2024 10:53:03] \"GET /static/scripts.js HTTP/1.1\" 304 -\n",
      "127.0.0.1 - - [11/Oct/2024 10:53:03] \"GET /sliders HTTP/1.1\" 200 -\n",
      "127.0.0.1 - - [11/Oct/2024 10:53:03] \"GET /recom HTTP/1.1\" 200 -\n",
      "127.0.0.1 - - [11/Oct/2024 10:53:03] \"GET /graph_tree_data HTTP/1.1\" 200 -\n",
      "127.0.0.1 - - [11/Oct/2024 10:53:03] \"GET /tree_data HTTP/1.1\" 200 -\n",
      "127.0.0.1 - - [11/Oct/2024 10:53:46] \"POST /graph_tree_circle_click HTTP/1.1\" 200 -\n"
     ]
    },
    {
     "name": "stdout",
     "output_type": "stream",
     "text": [
      "15\n",
      "reflection_node: 1 at lv up: 2\n",
      "generate cos sim, ecul dist, and nodes sorted by cos sim\n",
      "[{'id': 23, 'cos_sim': np.float64(-0.6476532703234698), 'euclide_dist': np.float64(0.8879948522221652), 'r_ratio': 0.8913043478260869, 'cluster_type': 'neighbour'}, {'id': 6, 'cos_sim': np.float64(-0.5803859599202654), 'euclide_dist': np.float64(1.3538895134902649), 'r_ratio': 0.3804347826086957, 'cluster_type': 'neighbour'}, {'id': 18, 'cos_sim': np.float64(-0.3705989146260198), 'euclide_dist': np.float64(0.7579575855032028), 'r_ratio': 1.1195652173913044, 'cluster_type': 'neighbour'}, {'id': 22, 'cos_sim': np.float64(-0.296414149113913), 'euclide_dist': np.float64(0.8461908932675033), 'r_ratio': 0.44565217391304346, 'cluster_type': 'neighbour'}, {'id': 31, 'cos_sim': np.float64(-0.1524072528309201), 'euclide_dist': np.float64(0.779518553287808), 'r_ratio': 0.15217391304347827, 'cluster_type': 'neighbour'}, {'id': 25, 'cos_sim': np.float64(-0.14372367947149775), 'euclide_dist': np.float64(0.6481445291703153), 'r_ratio': 0.22826086956521738, 'cluster_type': 'neighbour'}, {'id': 21, 'cos_sim': np.float64(-0.12856934139224366), 'euclide_dist': np.float64(0.906522849473695), 'r_ratio': 0.22826086956521738, 'cluster_type': 'neighbour'}, {'id': 24, 'cos_sim': np.float64(-0.056824457416119356), 'euclide_dist': np.float64(0.6318318873080015), 'r_ratio': 0.2826086956521739, 'cluster_type': 'neighbour'}, {'id': 29, 'cos_sim': np.float64(0.02289284235923583), 'euclide_dist': np.float64(0.9374897757581903), 'r_ratio': 0.05434782608695652, 'cluster_type': 'neighbour'}, {'id': 26, 'cos_sim': np.float64(0.06295958841759898), 'euclide_dist': np.float64(0.7425313071230224), 'r_ratio': 0.17391304347826086, 'cluster_type': 'neighbour'}, {'id': 27, 'cos_sim': np.float64(0.06442512818422812), 'euclide_dist': np.float64(0.6336812444271965), 'r_ratio': 0.13043478260869565, 'cluster_type': 'neighbour'}, {'id': 19, 'cos_sim': np.float64(0.1708482389397638), 'euclide_dist': np.float64(0.7773925909214805), 'r_ratio': 0.25, 'cluster_type': 'neighbour'}, {'id': 20, 'cos_sim': np.float64(0.21897489402069886), 'euclide_dist': np.float64(0.7835067396683972), 'r_ratio': 0.2391304347826087, 'cluster_type': 'neighbour'}, {'id': 17, 'cos_sim': np.float64(0.2526919673945555), 'euclide_dist': np.float64(0.528005737369058), 'r_ratio': 0.9456521739130435, 'cluster_type': 'neighbour'}, {'id': 28, 'cos_sim': np.float64(0.28184641054260323), 'euclide_dist': np.float64(0.6116024757859497), 'r_ratio': 0.2826086956521739, 'cluster_type': 'neighbour'}, {'id': 32, 'cos_sim': np.float64(0.4066044958470099), 'euclide_dist': np.float64(0.45622768766091587), 'r_ratio': 0.18478260869565216, 'cluster_type': 'neighbour'}, {'id': 30, 'cos_sim': np.float64(0.41236159316892157), 'euclide_dist': np.float64(0.6002440213926317), 'r_ratio': 0.06521739130434782, 'cluster_type': 'neighbour'}, {'id': 16, 'cos_sim': np.float64(0.5410417150541238), 'euclide_dist': np.float64(0.4095607249763128), 'r_ratio': 0.7608695652173914, 'cluster_type': 'neighbour'}, {'id': 15, 'cos_sim': np.float64(1.0), 'euclide_dist': np.float64(0.0), 'r_ratio': 1.0, 'cluster_type': 'center'}]\n",
      "[{'id': 3, 'r_ratio': 1.7608695652173914, 'dy': 0, 'dx': 0, 'cluster_type': 'parent'}, {'id': 47, 'r_ratio': 0.25, 'dy': 0, 'dx': -0.0, 'cluster_type': 'child'}, {'id': 48, 'r_ratio': 0.32608695652173914, 'dy': 1, 'dx': 0.5, 'cluster_type': 'child'}, {'id': 49, 'r_ratio': 0.2717391304347826, 'dy': 1, 'dx': -0.5, 'cluster_type': 'child'}, {'id': 50, 'r_ratio': 0.15217391304347827, 'dy': 2, 'dx': -0.0, 'cluster_type': 'child'}]\n"
     ]
    },
    {
     "name": "stderr",
     "output_type": "stream",
     "text": [
      "127.0.0.1 - - [11/Oct/2024 10:54:46] \"POST /graph_tree_circle_click HTTP/1.1\" 200 -\n"
     ]
    },
    {
     "name": "stdout",
     "output_type": "stream",
     "text": [
      "16\n",
      "reflection_node: 1 at lv up: 2\n",
      "generate cos sim, ecul dist, and nodes sorted by cos sim\n",
      "[{'id': 18, 'cos_sim': np.float64(-0.5755523168344743), 'euclide_dist': np.float64(0.8035952397386502), 'r_ratio': 1.4714285714285715, 'cluster_type': 'neighbour'}, {'id': 21, 'cos_sim': np.float64(-0.4791538267295451), 'euclide_dist': np.float64(1.0154997843986724), 'r_ratio': 0.3, 'cluster_type': 'neighbour'}, {'id': 23, 'cos_sim': np.float64(-0.47174492195640827), 'euclide_dist': np.float64(0.831771797565834), 'r_ratio': 1.1714285714285715, 'cluster_type': 'neighbour'}, {'id': 6, 'cos_sim': np.float64(-0.26896811660847436), 'euclide_dist': np.float64(1.238594290957152), 'r_ratio': 0.5, 'cluster_type': 'neighbour'}, {'id': 27, 'cos_sim': np.float64(-0.2114062464791594), 'euclide_dist': np.float64(0.7128433332564057), 'r_ratio': 0.17142857142857143, 'cluster_type': 'neighbour'}, {'id': 24, 'cos_sim': np.float64(-0.19238211026425456), 'euclide_dist': np.float64(0.6633759032487465), 'r_ratio': 0.37142857142857144, 'cluster_type': 'neighbour'}, {'id': 17, 'cos_sim': np.float64(-0.12264947807782754), 'euclide_dist': np.float64(0.6396058723789214), 'r_ratio': 1.2428571428571429, 'cluster_type': 'neighbour'}, {'id': 20, 'cos_sim': np.float64(-0.0404014525747863), 'euclide_dist': np.float64(0.8797495052704711), 'r_ratio': 0.3142857142857143, 'cluster_type': 'neighbour'}, {'id': 29, 'cos_sim': np.float64(-0.012377440806048454), 'euclide_dist': np.float64(0.9464172983008188), 'r_ratio': 0.07142857142857142, 'cluster_type': 'neighbour'}, {'id': 32, 'cos_sim': np.float64(0.0711024790953264), 'euclide_dist': np.float64(0.5632962511382218), 'r_ratio': 0.24285714285714285, 'cluster_type': 'neighbour'}, {'id': 31, 'cos_sim': np.float64(0.0999930348688301), 'euclide_dist': np.float64(0.6872151914450806), 'r_ratio': 0.2, 'cluster_type': 'neighbour'}, {'id': 19, 'cos_sim': np.float64(0.15265239892871163), 'euclide_dist': np.float64(0.7805917471560612), 'r_ratio': 0.32857142857142857, 'cluster_type': 'neighbour'}, {'id': 22, 'cos_sim': np.float64(0.223631870803192), 'euclide_dist': np.float64(0.6600156586005946), 'r_ratio': 0.5857142857142857, 'cluster_type': 'neighbour'}, {'id': 28, 'cos_sim': np.float64(0.321219111441764), 'euclide_dist': np.float64(0.5913297549055095), 'r_ratio': 0.37142857142857144, 'cluster_type': 'neighbour'}, {'id': 30, 'cos_sim': np.float64(0.39869877880909554), 'euclide_dist': np.float64(0.6034862650974535), 'r_ratio': 0.08571428571428572, 'cluster_type': 'neighbour'}, {'id': 25, 'cos_sim': np.float64(0.4622108178264992), 'euclide_dist': np.float64(0.4391885620683006), 'r_ratio': 0.3, 'cluster_type': 'neighbour'}, {'id': 26, 'cos_sim': np.float64(0.4861045997807609), 'euclide_dist': np.float64(0.5637585403654504), 'r_ratio': 0.22857142857142856, 'cluster_type': 'neighbour'}, {'id': 15, 'cos_sim': np.float64(0.5410417150541238), 'euclide_dist': np.float64(0.4095607249763128), 'r_ratio': 1.3142857142857143, 'cluster_type': 'neighbour'}, {'id': 16, 'cos_sim': np.float64(1.0), 'euclide_dist': np.float64(0.0), 'r_ratio': 1.0, 'cluster_type': 'center'}]\n",
      "[{'id': 3, 'r_ratio': 2.3142857142857145, 'dy': 0, 'dx': 0, 'cluster_type': 'parent'}, {'id': 51, 'r_ratio': 0.07142857142857142, 'dy': 0, 'dx': -0.0, 'cluster_type': 'child'}, {'id': 52, 'r_ratio': 0.11428571428571428, 'dy': 1, 'dx': 0.5, 'cluster_type': 'child'}, {'id': 53, 'r_ratio': 0.2, 'dy': 1, 'dx': -0.5, 'cluster_type': 'child'}, {'id': 54, 'r_ratio': 0.07142857142857142, 'dy': 2, 'dx': -0.0, 'cluster_type': 'child'}, {'id': 55, 'r_ratio': 0.11428571428571428, 'dy': 2, 'dx': 1.0, 'cluster_type': 'child'}, {'id': 56, 'r_ratio': 0.04285714285714286, 'dy': 2, 'dx': -1.0, 'cluster_type': 'child'}, {'id': 57, 'r_ratio': 0.1, 'dy': 3, 'dx': 0.5, 'cluster_type': 'child'}, {'id': 58, 'r_ratio': 0.11428571428571428, 'dy': 3, 'dx': -0.5, 'cluster_type': 'child'}, {'id': 59, 'r_ratio': 0.11428571428571428, 'dy': 3, 'dx': 1.5, 'cluster_type': 'child'}, {'id': 60, 'r_ratio': 0.05714285714285714, 'dy': 3, 'dx': -1.5, 'cluster_type': 'child'}]\n"
     ]
    },
    {
     "name": "stderr",
     "output_type": "stream",
     "text": [
      "127.0.0.1 - - [11/Oct/2024 11:05:32] \"GET / HTTP/1.1\" 200 -\n",
      "127.0.0.1 - - [11/Oct/2024 11:05:32] \"GET /static/styles.css HTTP/1.1\" 304 -\n",
      "127.0.0.1 - - [11/Oct/2024 11:05:32] \"GET /static/curve_axis.js HTTP/1.1\" 304 -\n",
      "127.0.0.1 - - [11/Oct/2024 11:05:32] \"GET /static/graph_tree_shared_variable.js HTTP/1.1\" 304 -\n",
      "127.0.0.1 - - [11/Oct/2024 11:05:32] \"GET /static/scripts.js HTTP/1.1\" 304 -\n",
      "127.0.0.1 - - [11/Oct/2024 11:05:32] \"GET /static/graph_tree.js HTTP/1.1\" 200 -\n",
      "127.0.0.1 - - [11/Oct/2024 11:05:32] \"GET /sliders HTTP/1.1\" 200 -\n",
      "127.0.0.1 - - [11/Oct/2024 11:05:32] \"GET /recom HTTP/1.1\" 200 -\n",
      "127.0.0.1 - - [11/Oct/2024 11:05:32] \"GET /graph_tree_data HTTP/1.1\" 200 -\n",
      "127.0.0.1 - - [11/Oct/2024 11:05:32] \"GET /tree_data HTTP/1.1\" 200 -\n",
      "127.0.0.1 - - [11/Oct/2024 11:06:15] \"POST /graph_tree_circle_click HTTP/1.1\" 200 -\n"
     ]
    },
    {
     "name": "stdout",
     "output_type": "stream",
     "text": [
      "15\n",
      "reflection_node: 1 at lv up: 2\n",
      "generate cos sim, ecul dist, and nodes sorted by cos sim\n",
      "[{'id': 23, 'cos_sim': np.float64(-0.6476532703234698), 'euclide_dist': np.float64(0.8879948522221652), 'r_ratio': 0.8913043478260869, 'cluster_type': 'neighbour'}, {'id': 6, 'cos_sim': np.float64(-0.5803859599202654), 'euclide_dist': np.float64(1.3538895134902649), 'r_ratio': 0.3804347826086957, 'cluster_type': 'neighbour'}, {'id': 18, 'cos_sim': np.float64(-0.3705989146260198), 'euclide_dist': np.float64(0.7579575855032028), 'r_ratio': 1.1195652173913044, 'cluster_type': 'neighbour'}, {'id': 22, 'cos_sim': np.float64(-0.296414149113913), 'euclide_dist': np.float64(0.8461908932675033), 'r_ratio': 0.44565217391304346, 'cluster_type': 'neighbour'}, {'id': 31, 'cos_sim': np.float64(-0.1524072528309201), 'euclide_dist': np.float64(0.779518553287808), 'r_ratio': 0.15217391304347827, 'cluster_type': 'neighbour'}, {'id': 25, 'cos_sim': np.float64(-0.14372367947149775), 'euclide_dist': np.float64(0.6481445291703153), 'r_ratio': 0.22826086956521738, 'cluster_type': 'neighbour'}, {'id': 21, 'cos_sim': np.float64(-0.12856934139224366), 'euclide_dist': np.float64(0.906522849473695), 'r_ratio': 0.22826086956521738, 'cluster_type': 'neighbour'}, {'id': 24, 'cos_sim': np.float64(-0.056824457416119356), 'euclide_dist': np.float64(0.6318318873080015), 'r_ratio': 0.2826086956521739, 'cluster_type': 'neighbour'}, {'id': 29, 'cos_sim': np.float64(0.02289284235923583), 'euclide_dist': np.float64(0.9374897757581903), 'r_ratio': 0.05434782608695652, 'cluster_type': 'neighbour'}, {'id': 26, 'cos_sim': np.float64(0.06295958841759898), 'euclide_dist': np.float64(0.7425313071230224), 'r_ratio': 0.17391304347826086, 'cluster_type': 'neighbour'}, {'id': 27, 'cos_sim': np.float64(0.06442512818422812), 'euclide_dist': np.float64(0.6336812444271965), 'r_ratio': 0.13043478260869565, 'cluster_type': 'neighbour'}, {'id': 19, 'cos_sim': np.float64(0.1708482389397638), 'euclide_dist': np.float64(0.7773925909214805), 'r_ratio': 0.25, 'cluster_type': 'neighbour'}, {'id': 20, 'cos_sim': np.float64(0.21897489402069886), 'euclide_dist': np.float64(0.7835067396683972), 'r_ratio': 0.2391304347826087, 'cluster_type': 'neighbour'}, {'id': 17, 'cos_sim': np.float64(0.2526919673945555), 'euclide_dist': np.float64(0.528005737369058), 'r_ratio': 0.9456521739130435, 'cluster_type': 'neighbour'}, {'id': 28, 'cos_sim': np.float64(0.28184641054260323), 'euclide_dist': np.float64(0.6116024757859497), 'r_ratio': 0.2826086956521739, 'cluster_type': 'neighbour'}, {'id': 32, 'cos_sim': np.float64(0.4066044958470099), 'euclide_dist': np.float64(0.45622768766091587), 'r_ratio': 0.18478260869565216, 'cluster_type': 'neighbour'}, {'id': 30, 'cos_sim': np.float64(0.41236159316892157), 'euclide_dist': np.float64(0.6002440213926317), 'r_ratio': 0.06521739130434782, 'cluster_type': 'neighbour'}, {'id': 16, 'cos_sim': np.float64(0.5410417150541238), 'euclide_dist': np.float64(0.4095607249763128), 'r_ratio': 0.7608695652173914, 'cluster_type': 'neighbour'}, {'id': 15, 'cos_sim': np.float64(1.0), 'euclide_dist': np.float64(0.0), 'r_ratio': 1.0, 'cluster_type': 'center'}]\n",
      "[{'id': 3, 'r_ratio': 1.7608695652173914, 'dy': 0, 'dx': 0, 'cluster_type': 'parent'}, {'id': 47, 'r_ratio': 0.25, 'dy': 0, 'dx': -0.0, 'cluster_type': 'child'}, {'id': 48, 'r_ratio': 0.32608695652173914, 'dy': 1, 'dx': 0.5, 'cluster_type': 'child'}, {'id': 49, 'r_ratio': 0.2717391304347826, 'dy': 1, 'dx': -0.5, 'cluster_type': 'child'}, {'id': 50, 'r_ratio': 0.15217391304347827, 'dy': 2, 'dx': -0.0, 'cluster_type': 'child'}]\n"
     ]
    },
    {
     "name": "stderr",
     "output_type": "stream",
     "text": [
      "127.0.0.1 - - [11/Oct/2024 11:06:23] \"POST /graph_tree_circle_click HTTP/1.1\" 200 -\n"
     ]
    },
    {
     "name": "stdout",
     "output_type": "stream",
     "text": [
      "16\n",
      "reflection_node: 1 at lv up: 2\n",
      "generate cos sim, ecul dist, and nodes sorted by cos sim\n",
      "[{'id': 18, 'cos_sim': np.float64(-0.5755523168344743), 'euclide_dist': np.float64(0.8035952397386502), 'r_ratio': 1.4714285714285715, 'cluster_type': 'neighbour'}, {'id': 21, 'cos_sim': np.float64(-0.4791538267295451), 'euclide_dist': np.float64(1.0154997843986724), 'r_ratio': 0.3, 'cluster_type': 'neighbour'}, {'id': 23, 'cos_sim': np.float64(-0.47174492195640827), 'euclide_dist': np.float64(0.831771797565834), 'r_ratio': 1.1714285714285715, 'cluster_type': 'neighbour'}, {'id': 6, 'cos_sim': np.float64(-0.26896811660847436), 'euclide_dist': np.float64(1.238594290957152), 'r_ratio': 0.5, 'cluster_type': 'neighbour'}, {'id': 27, 'cos_sim': np.float64(-0.2114062464791594), 'euclide_dist': np.float64(0.7128433332564057), 'r_ratio': 0.17142857142857143, 'cluster_type': 'neighbour'}, {'id': 24, 'cos_sim': np.float64(-0.19238211026425456), 'euclide_dist': np.float64(0.6633759032487465), 'r_ratio': 0.37142857142857144, 'cluster_type': 'neighbour'}, {'id': 17, 'cos_sim': np.float64(-0.12264947807782754), 'euclide_dist': np.float64(0.6396058723789214), 'r_ratio': 1.2428571428571429, 'cluster_type': 'neighbour'}, {'id': 20, 'cos_sim': np.float64(-0.0404014525747863), 'euclide_dist': np.float64(0.8797495052704711), 'r_ratio': 0.3142857142857143, 'cluster_type': 'neighbour'}, {'id': 29, 'cos_sim': np.float64(-0.012377440806048454), 'euclide_dist': np.float64(0.9464172983008188), 'r_ratio': 0.07142857142857142, 'cluster_type': 'neighbour'}, {'id': 32, 'cos_sim': np.float64(0.0711024790953264), 'euclide_dist': np.float64(0.5632962511382218), 'r_ratio': 0.24285714285714285, 'cluster_type': 'neighbour'}, {'id': 31, 'cos_sim': np.float64(0.0999930348688301), 'euclide_dist': np.float64(0.6872151914450806), 'r_ratio': 0.2, 'cluster_type': 'neighbour'}, {'id': 19, 'cos_sim': np.float64(0.15265239892871163), 'euclide_dist': np.float64(0.7805917471560612), 'r_ratio': 0.32857142857142857, 'cluster_type': 'neighbour'}, {'id': 22, 'cos_sim': np.float64(0.223631870803192), 'euclide_dist': np.float64(0.6600156586005946), 'r_ratio': 0.5857142857142857, 'cluster_type': 'neighbour'}, {'id': 28, 'cos_sim': np.float64(0.321219111441764), 'euclide_dist': np.float64(0.5913297549055095), 'r_ratio': 0.37142857142857144, 'cluster_type': 'neighbour'}, {'id': 30, 'cos_sim': np.float64(0.39869877880909554), 'euclide_dist': np.float64(0.6034862650974535), 'r_ratio': 0.08571428571428572, 'cluster_type': 'neighbour'}, {'id': 25, 'cos_sim': np.float64(0.4622108178264992), 'euclide_dist': np.float64(0.4391885620683006), 'r_ratio': 0.3, 'cluster_type': 'neighbour'}, {'id': 26, 'cos_sim': np.float64(0.4861045997807609), 'euclide_dist': np.float64(0.5637585403654504), 'r_ratio': 0.22857142857142856, 'cluster_type': 'neighbour'}, {'id': 15, 'cos_sim': np.float64(0.5410417150541238), 'euclide_dist': np.float64(0.4095607249763128), 'r_ratio': 1.3142857142857143, 'cluster_type': 'neighbour'}, {'id': 16, 'cos_sim': np.float64(1.0), 'euclide_dist': np.float64(0.0), 'r_ratio': 1.0, 'cluster_type': 'center'}]\n",
      "[{'id': 3, 'r_ratio': 2.3142857142857145, 'dy': 0, 'dx': 0, 'cluster_type': 'parent'}, {'id': 51, 'r_ratio': 0.07142857142857142, 'dy': 0, 'dx': -0.0, 'cluster_type': 'child'}, {'id': 52, 'r_ratio': 0.11428571428571428, 'dy': 1, 'dx': 0.5, 'cluster_type': 'child'}, {'id': 53, 'r_ratio': 0.2, 'dy': 1, 'dx': -0.5, 'cluster_type': 'child'}, {'id': 54, 'r_ratio': 0.07142857142857142, 'dy': 2, 'dx': -0.0, 'cluster_type': 'child'}, {'id': 55, 'r_ratio': 0.11428571428571428, 'dy': 2, 'dx': 1.0, 'cluster_type': 'child'}, {'id': 56, 'r_ratio': 0.04285714285714286, 'dy': 2, 'dx': -1.0, 'cluster_type': 'child'}, {'id': 57, 'r_ratio': 0.1, 'dy': 3, 'dx': 0.5, 'cluster_type': 'child'}, {'id': 58, 'r_ratio': 0.11428571428571428, 'dy': 3, 'dx': -0.5, 'cluster_type': 'child'}, {'id': 59, 'r_ratio': 0.11428571428571428, 'dy': 3, 'dx': 1.5, 'cluster_type': 'child'}, {'id': 60, 'r_ratio': 0.05714285714285714, 'dy': 3, 'dx': -1.5, 'cluster_type': 'child'}]\n"
     ]
    },
    {
     "name": "stderr",
     "output_type": "stream",
     "text": [
      "127.0.0.1 - - [11/Oct/2024 11:06:42] \"POST /graph_tree_circle_click HTTP/1.1\" 200 -\n"
     ]
    },
    {
     "name": "stdout",
     "output_type": "stream",
     "text": [
      "16\n",
      "reflection_node: 1 at lv up: 2\n",
      "generate cos sim, ecul dist, and nodes sorted by cos sim\n",
      "[{'id': 18, 'cos_sim': np.float64(-0.5755523168344743), 'euclide_dist': np.float64(0.8035952397386502), 'r_ratio': 1.4714285714285715, 'cluster_type': 'neighbour'}, {'id': 21, 'cos_sim': np.float64(-0.4791538267295451), 'euclide_dist': np.float64(1.0154997843986724), 'r_ratio': 0.3, 'cluster_type': 'neighbour'}, {'id': 23, 'cos_sim': np.float64(-0.47174492195640827), 'euclide_dist': np.float64(0.831771797565834), 'r_ratio': 1.1714285714285715, 'cluster_type': 'neighbour'}, {'id': 6, 'cos_sim': np.float64(-0.26896811660847436), 'euclide_dist': np.float64(1.238594290957152), 'r_ratio': 0.5, 'cluster_type': 'neighbour'}, {'id': 27, 'cos_sim': np.float64(-0.2114062464791594), 'euclide_dist': np.float64(0.7128433332564057), 'r_ratio': 0.17142857142857143, 'cluster_type': 'neighbour'}, {'id': 24, 'cos_sim': np.float64(-0.19238211026425456), 'euclide_dist': np.float64(0.6633759032487465), 'r_ratio': 0.37142857142857144, 'cluster_type': 'neighbour'}, {'id': 17, 'cos_sim': np.float64(-0.12264947807782754), 'euclide_dist': np.float64(0.6396058723789214), 'r_ratio': 1.2428571428571429, 'cluster_type': 'neighbour'}, {'id': 20, 'cos_sim': np.float64(-0.0404014525747863), 'euclide_dist': np.float64(0.8797495052704711), 'r_ratio': 0.3142857142857143, 'cluster_type': 'neighbour'}, {'id': 29, 'cos_sim': np.float64(-0.012377440806048454), 'euclide_dist': np.float64(0.9464172983008188), 'r_ratio': 0.07142857142857142, 'cluster_type': 'neighbour'}, {'id': 32, 'cos_sim': np.float64(0.0711024790953264), 'euclide_dist': np.float64(0.5632962511382218), 'r_ratio': 0.24285714285714285, 'cluster_type': 'neighbour'}, {'id': 31, 'cos_sim': np.float64(0.0999930348688301), 'euclide_dist': np.float64(0.6872151914450806), 'r_ratio': 0.2, 'cluster_type': 'neighbour'}, {'id': 19, 'cos_sim': np.float64(0.15265239892871163), 'euclide_dist': np.float64(0.7805917471560612), 'r_ratio': 0.32857142857142857, 'cluster_type': 'neighbour'}, {'id': 22, 'cos_sim': np.float64(0.223631870803192), 'euclide_dist': np.float64(0.6600156586005946), 'r_ratio': 0.5857142857142857, 'cluster_type': 'neighbour'}, {'id': 28, 'cos_sim': np.float64(0.321219111441764), 'euclide_dist': np.float64(0.5913297549055095), 'r_ratio': 0.37142857142857144, 'cluster_type': 'neighbour'}, {'id': 30, 'cos_sim': np.float64(0.39869877880909554), 'euclide_dist': np.float64(0.6034862650974535), 'r_ratio': 0.08571428571428572, 'cluster_type': 'neighbour'}, {'id': 25, 'cos_sim': np.float64(0.4622108178264992), 'euclide_dist': np.float64(0.4391885620683006), 'r_ratio': 0.3, 'cluster_type': 'neighbour'}, {'id': 26, 'cos_sim': np.float64(0.4861045997807609), 'euclide_dist': np.float64(0.5637585403654504), 'r_ratio': 0.22857142857142856, 'cluster_type': 'neighbour'}, {'id': 15, 'cos_sim': np.float64(0.5410417150541238), 'euclide_dist': np.float64(0.4095607249763128), 'r_ratio': 1.3142857142857143, 'cluster_type': 'neighbour'}, {'id': 16, 'cos_sim': np.float64(1.0), 'euclide_dist': np.float64(0.0), 'r_ratio': 1.0, 'cluster_type': 'center'}]\n",
      "[{'id': 3, 'r_ratio': 2.3142857142857145, 'dy': 0, 'dx': 0, 'cluster_type': 'parent'}, {'id': 51, 'r_ratio': 0.07142857142857142, 'dy': 0, 'dx': -0.0, 'cluster_type': 'child'}, {'id': 52, 'r_ratio': 0.11428571428571428, 'dy': 1, 'dx': 0.5, 'cluster_type': 'child'}, {'id': 53, 'r_ratio': 0.2, 'dy': 1, 'dx': -0.5, 'cluster_type': 'child'}, {'id': 54, 'r_ratio': 0.07142857142857142, 'dy': 2, 'dx': -0.0, 'cluster_type': 'child'}, {'id': 55, 'r_ratio': 0.11428571428571428, 'dy': 2, 'dx': 1.0, 'cluster_type': 'child'}, {'id': 56, 'r_ratio': 0.04285714285714286, 'dy': 2, 'dx': -1.0, 'cluster_type': 'child'}, {'id': 57, 'r_ratio': 0.1, 'dy': 3, 'dx': 0.5, 'cluster_type': 'child'}, {'id': 58, 'r_ratio': 0.11428571428571428, 'dy': 3, 'dx': -0.5, 'cluster_type': 'child'}, {'id': 59, 'r_ratio': 0.11428571428571428, 'dy': 3, 'dx': 1.5, 'cluster_type': 'child'}, {'id': 60, 'r_ratio': 0.05714285714285714, 'dy': 3, 'dx': -1.5, 'cluster_type': 'child'}]\n"
     ]
    },
    {
     "name": "stderr",
     "output_type": "stream",
     "text": [
      "127.0.0.1 - - [11/Oct/2024 11:06:44] \"POST /graph_tree_circle_click HTTP/1.1\" 200 -\n"
     ]
    },
    {
     "name": "stdout",
     "output_type": "stream",
     "text": [
      "15\n",
      "reflection_node: 1 at lv up: 2\n",
      "generate cos sim, ecul dist, and nodes sorted by cos sim\n",
      "[{'id': 23, 'cos_sim': np.float64(-0.6476532703234698), 'euclide_dist': np.float64(0.8879948522221652), 'r_ratio': 0.8913043478260869, 'cluster_type': 'neighbour'}, {'id': 6, 'cos_sim': np.float64(-0.5803859599202654), 'euclide_dist': np.float64(1.3538895134902649), 'r_ratio': 0.3804347826086957, 'cluster_type': 'neighbour'}, {'id': 18, 'cos_sim': np.float64(-0.3705989146260198), 'euclide_dist': np.float64(0.7579575855032028), 'r_ratio': 1.1195652173913044, 'cluster_type': 'neighbour'}, {'id': 22, 'cos_sim': np.float64(-0.296414149113913), 'euclide_dist': np.float64(0.8461908932675033), 'r_ratio': 0.44565217391304346, 'cluster_type': 'neighbour'}, {'id': 31, 'cos_sim': np.float64(-0.1524072528309201), 'euclide_dist': np.float64(0.779518553287808), 'r_ratio': 0.15217391304347827, 'cluster_type': 'neighbour'}, {'id': 25, 'cos_sim': np.float64(-0.14372367947149775), 'euclide_dist': np.float64(0.6481445291703153), 'r_ratio': 0.22826086956521738, 'cluster_type': 'neighbour'}, {'id': 21, 'cos_sim': np.float64(-0.12856934139224366), 'euclide_dist': np.float64(0.906522849473695), 'r_ratio': 0.22826086956521738, 'cluster_type': 'neighbour'}, {'id': 24, 'cos_sim': np.float64(-0.056824457416119356), 'euclide_dist': np.float64(0.6318318873080015), 'r_ratio': 0.2826086956521739, 'cluster_type': 'neighbour'}, {'id': 29, 'cos_sim': np.float64(0.02289284235923583), 'euclide_dist': np.float64(0.9374897757581903), 'r_ratio': 0.05434782608695652, 'cluster_type': 'neighbour'}, {'id': 26, 'cos_sim': np.float64(0.06295958841759898), 'euclide_dist': np.float64(0.7425313071230224), 'r_ratio': 0.17391304347826086, 'cluster_type': 'neighbour'}, {'id': 27, 'cos_sim': np.float64(0.06442512818422812), 'euclide_dist': np.float64(0.6336812444271965), 'r_ratio': 0.13043478260869565, 'cluster_type': 'neighbour'}, {'id': 19, 'cos_sim': np.float64(0.1708482389397638), 'euclide_dist': np.float64(0.7773925909214805), 'r_ratio': 0.25, 'cluster_type': 'neighbour'}, {'id': 20, 'cos_sim': np.float64(0.21897489402069886), 'euclide_dist': np.float64(0.7835067396683972), 'r_ratio': 0.2391304347826087, 'cluster_type': 'neighbour'}, {'id': 17, 'cos_sim': np.float64(0.2526919673945555), 'euclide_dist': np.float64(0.528005737369058), 'r_ratio': 0.9456521739130435, 'cluster_type': 'neighbour'}, {'id': 28, 'cos_sim': np.float64(0.28184641054260323), 'euclide_dist': np.float64(0.6116024757859497), 'r_ratio': 0.2826086956521739, 'cluster_type': 'neighbour'}, {'id': 32, 'cos_sim': np.float64(0.4066044958470099), 'euclide_dist': np.float64(0.45622768766091587), 'r_ratio': 0.18478260869565216, 'cluster_type': 'neighbour'}, {'id': 30, 'cos_sim': np.float64(0.41236159316892157), 'euclide_dist': np.float64(0.6002440213926317), 'r_ratio': 0.06521739130434782, 'cluster_type': 'neighbour'}, {'id': 16, 'cos_sim': np.float64(0.5410417150541238), 'euclide_dist': np.float64(0.4095607249763128), 'r_ratio': 0.7608695652173914, 'cluster_type': 'neighbour'}, {'id': 15, 'cos_sim': np.float64(1.0), 'euclide_dist': np.float64(0.0), 'r_ratio': 1.0, 'cluster_type': 'center'}]\n",
      "[{'id': 3, 'r_ratio': 1.7608695652173914, 'dy': 0, 'dx': 0, 'cluster_type': 'parent'}, {'id': 47, 'r_ratio': 0.25, 'dy': 0, 'dx': -0.0, 'cluster_type': 'child'}, {'id': 48, 'r_ratio': 0.32608695652173914, 'dy': 1, 'dx': 0.5, 'cluster_type': 'child'}, {'id': 49, 'r_ratio': 0.2717391304347826, 'dy': 1, 'dx': -0.5, 'cluster_type': 'child'}, {'id': 50, 'r_ratio': 0.15217391304347827, 'dy': 2, 'dx': -0.0, 'cluster_type': 'child'}]\n"
     ]
    },
    {
     "name": "stderr",
     "output_type": "stream",
     "text": [
      "127.0.0.1 - - [11/Oct/2024 11:09:01] \"POST /handle_recom HTTP/1.1\" 200 -\n"
     ]
    },
    {
     "name": "stdout",
     "output_type": "stream",
     "text": [
      "reflection_node: 11 at lv up: 2\n",
      "generate cos sim, ecul dist, and nodes sorted by cos sim\n",
      "[{'id': 76, 'cos_sim': np.float64(-0.2709092413729092), 'euclide_dist': np.float64(0.8373056109993854), 'r_ratio': 19.0, 'cluster_type': 'neighbour'}, {'id': 78, 'cos_sim': np.float64(-0.07749730835660526), 'euclide_dist': np.float64(0.8349313206094979), 'r_ratio': 3.0, 'cluster_type': 'neighbour'}, {'id': 75, 'cos_sim': np.float64(-0.07100631617471208), 'euclide_dist': np.float64(0.7555092910562405), 'r_ratio': 19.5, 'cluster_type': 'neighbour'}, {'id': 81, 'cos_sim': np.float64(-0.008676042408019837), 'euclide_dist': np.float64(0.7402040017324499), 'r_ratio': 6.5, 'cluster_type': 'neighbour'}, {'id': 86, 'cos_sim': np.float64(0.010501972000260911), 'euclide_dist': np.float64(0.7963891825134197), 'r_ratio': 4.5, 'cluster_type': 'neighbour'}, {'id': 83, 'cos_sim': np.float64(0.06240500211321191), 'euclide_dist': np.float64(1.0730381767018635), 'r_ratio': 1.5, 'cluster_type': 'neighbour'}, {'id': 84, 'cos_sim': np.float64(0.10696218686052501), 'euclide_dist': np.float64(1.2223322428629215), 'r_ratio': 0.5, 'cluster_type': 'neighbour'}, {'id': 79, 'cos_sim': np.float64(0.1327039458847622), 'euclide_dist': np.float64(0.7224972624211913), 'r_ratio': 3.0, 'cluster_type': 'neighbour'}, {'id': 82, 'cos_sim': np.float64(0.1965695852468648), 'euclide_dist': np.float64(0.8826043524418754), 'r_ratio': 1.5, 'cluster_type': 'neighbour'}, {'id': 77, 'cos_sim': np.float64(0.24039317456369919), 'euclide_dist': np.float64(0.685266480817796), 'r_ratio': 5.0, 'cluster_type': 'neighbour'}, {'id': 80, 'cos_sim': np.float64(0.2686119178095565), 'euclide_dist': np.float64(0.690906342578109), 'r_ratio': 6.0, 'cluster_type': 'neighbour'}, {'id': 85, 'cos_sim': np.float64(1.0), 'euclide_dist': np.float64(0.0), 'r_ratio': 1.0, 'cluster_type': 'center'}]\n",
      "[{'id': 38, 'r_ratio': 32.5, 'dy': 0, 'dx': 0, 'cluster_type': 'parent'}]\n"
     ]
    }
   ],
   "source": [
    "from flask import Flask, render_template, request, jsonify\n",
    "\n",
    "app = Flask(__name__)\n",
    "\n",
    "@app.route('/')\n",
    "def index():\n",
    "    return render_template('index.html')\n",
    "\n",
    "# slider ####################################################################\n",
    "@app.route('/sliders')\n",
    "def sliders():\n",
    "    return jsonify(sliders_data)\n",
    "\n",
    "@app.route('/handle_slider', methods=['POST'])\n",
    "def submit_slider_values():\n",
    "    sucess_msg = \"slider respon success\"\n",
    "    data = request.json\n",
    "    print('Received slider values:', data)\n",
    "    query = np.array([float(val) for val in data.values()])\n",
    "    cur = gt.search(query)\n",
    "    graph_tree_horizontal_data, graph_tree_vertical_data = gt.get_graph_tree_svg_data(cur.id)\n",
    "    # Process the data as needed\n",
    "    return jsonify({'status': sucess_msg,\n",
    "                    \"graph_tree_data\": {\"graph_tree_horizontal_data\": graph_tree_horizontal_data, \"graph_tree_vertical_data\": graph_tree_vertical_data}})\n",
    "# slider end ################################################################\n",
    "\n",
    "# recom ####################################################################\n",
    "@app.route('/recom')\n",
    "def recom():\n",
    "    return jsonify(recom_data)\n",
    "\n",
    "@app.route('/handle_recom', methods=['POST'])\n",
    "def handle_recom():\n",
    "    sucess_msg = \"recom respon success\"\n",
    "    data = request.json\n",
    "    button_id = int(data.get('buttonId'))\n",
    "    val = int(data.get('val'))\n",
    "    # print(button_id, val)\n",
    "    moved_node = gt.recom[button_id][val]\n",
    "    graph_tree_horizontal_data, graph_tree_vertical_data = gt.get_graph_tree_svg_data(moved_node.id)\n",
    "    # print(graph_tree_data)\n",
    "    return jsonify({'status': sucess_msg,\n",
    "                    'buttonId': button_id,\n",
    "                    'val': val,\n",
    "                    \"graph_tree_data\": {\"graph_tree_horizontal_data\": graph_tree_horizontal_data, \"graph_tree_vertical_data\": graph_tree_vertical_data}})\n",
    "# recom end ####################################################################\n",
    "\n",
    "@app.route('/graph_tree_data')\n",
    "def graph():\n",
    "    return jsonify({\"graph_tree_data\": {\"graph_tree_horizontal_data\": graph_tree_horizontal_data, \"graph_tree_vertical_data\": graph_tree_vertical_data}})\n",
    "\n",
    "@app.route('/graph_tree_circle_click', methods=['POST'])\n",
    "def graph_tree_circle_click():\n",
    "    sucess_msg = \"graph_tree_circle_click respon success\"\n",
    "    data = request.json\n",
    "    id = int(data.get('id'))\n",
    "    print(id)\n",
    "    graph_tree_horizontal_data, graph_tree_vertical_data = gt.get_graph_tree_svg_data(id)\n",
    "    return jsonify({'status': sucess_msg,\n",
    "                    'id': id,\n",
    "                    \"graph_tree_data\": {\"graph_tree_horizontal_data\": graph_tree_horizontal_data, \"graph_tree_vertical_data\": graph_tree_vertical_data}})\n",
    "\n",
    "\n",
    "@app.route('/tree_data')\n",
    "def tree():\n",
    "    return jsonify(tree_data)\n",
    "\n",
    "if __name__ == '__main__':\n",
    "    app.run(port=8123)\n"
   ]
  }
 ],
 "metadata": {
  "kernelspec": {
   "display_name": "Python 3",
   "language": "python",
   "name": "python3"
  },
  "language_info": {
   "codemirror_mode": {
    "name": "ipython",
    "version": 3
   },
   "file_extension": ".py",
   "mimetype": "text/x-python",
   "name": "python",
   "nbconvert_exporter": "python",
   "pygments_lexer": "ipython3",
   "version": "3.12.5"
  }
 },
 "nbformat": 4,
 "nbformat_minor": 2
}
