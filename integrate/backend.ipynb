{
 "cells": [
  {
   "cell_type": "code",
   "execution_count": 4,
   "metadata": {},
   "outputs": [],
   "source": [
    "# load module and pre generate data\n",
    "from graph_tree_list_module import *\n",
    "\n",
    "import numpy as np\n",
    "\n",
    "import pickle\n",
    "\n",
    "# Open the file in binary read mode and load the object\n",
    "with open(\"graph_tree.pkl\", \"rb\") as file:\n",
    "    gt = pickle.load(file)\n"
   ]
  },
  {
   "cell_type": "code",
   "execution_count": 5,
   "metadata": {},
   "outputs": [
    {
     "name": "stdout",
     "output_type": "stream",
     "text": [
      "reflection_node: 33 at lv up: 2\n",
      "generate cos sim, ecul dist, and nodes sorted by cos sim\n"
     ]
    }
   ],
   "source": [
    "sliders_data = [{\"id\": gt.attr_name[i], \"min\": gt.X_maxmin[1][i], \"max\": gt.X_maxmin[0][i], \"value\": gt.nodes[0].center[i], \"type\": \"f\"} for i in range(len(gt.attr_name))]\n",
    "# print(sliders_data)\n",
    "\n",
    "recom_data = [{\"i\": i, \"id\": gt.attr_name[i], \"max_val\": gt.recom[i][0].center[i], \"min_val\": gt.recom[i][1].center[i]} for i in range(len(gt.attr_name))]\n",
    "# print(recom_data)\n",
    "\n",
    "graph_tree_data = gt.get_neighbour_cluster_data(node_id = 102)\n",
    "\n",
    "tree_data = {\n",
    "        \"name\": \"Root\",\n",
    "        \"children\": [\n",
    "            {\n",
    "                \"name\": \"Child 1\",\n",
    "                \"children\": [\n",
    "                    {\"name\": \"Grandchild 1\"},\n",
    "                    {\"name\": \"Grandchild 2\"}\n",
    "                ]\n",
    "            },\n",
    "            {\n",
    "                \"name\": \"Child 2\",\n",
    "                \"children\": [\n",
    "                    {\"name\": \"Grandchild 3\"},\n",
    "                    {\"name\": \"Grandchild 4\"}\n",
    "                ]\n",
    "            }\n",
    "        ]\n",
    "    }"
   ]
  },
  {
   "cell_type": "code",
   "execution_count": 6,
   "metadata": {},
   "outputs": [
    {
     "name": "stdout",
     "output_type": "stream",
     "text": [
      " * Serving Flask app '__main__'\n",
      " * Debug mode: off\n"
     ]
    },
    {
     "name": "stderr",
     "output_type": "stream",
     "text": [
      "WARNING: This is a development server. Do not use it in a production deployment. Use a production WSGI server instead.\n",
      " * Running on http://127.0.0.1:8123\n",
      "Press CTRL+C to quit\n",
      "127.0.0.1 - - [07/Oct/2024 14:19:51] \"GET / HTTP/1.1\" 200 -\n",
      "127.0.0.1 - - [07/Oct/2024 14:19:51] \"GET /static/styles.css HTTP/1.1\" 304 -\n",
      "127.0.0.1 - - [07/Oct/2024 14:19:51] \"GET /static/graph_tree_shared_variable.js HTTP/1.1\" 304 -\n",
      "127.0.0.1 - - [07/Oct/2024 14:19:51] \"GET /static/curve_axis.js HTTP/1.1\" 200 -\n",
      "127.0.0.1 - - [07/Oct/2024 14:19:51] \"GET /static/graph_tree.js HTTP/1.1\" 304 -\n",
      "127.0.0.1 - - [07/Oct/2024 14:19:51] \"GET /static/scripts.js HTTP/1.1\" 304 -\n",
      "127.0.0.1 - - [07/Oct/2024 14:19:51] \"GET /sliders HTTP/1.1\" 200 -\n",
      "127.0.0.1 - - [07/Oct/2024 14:19:51] \"GET /recom HTTP/1.1\" 200 -\n",
      "127.0.0.1 - - [07/Oct/2024 14:19:51] \"GET /graph_tree_data HTTP/1.1\" 200 -\n",
      "127.0.0.1 - - [07/Oct/2024 14:19:51] \"GET /tree_data HTTP/1.1\" 200 -\n",
      "127.0.0.1 - - [07/Oct/2024 14:21:17] \"GET / HTTP/1.1\" 200 -\n",
      "127.0.0.1 - - [07/Oct/2024 14:21:17] \"GET /static/styles.css HTTP/1.1\" 304 -\n",
      "127.0.0.1 - - [07/Oct/2024 14:21:17] \"GET /static/graph_tree_shared_variable.js HTTP/1.1\" 304 -\n",
      "127.0.0.1 - - [07/Oct/2024 14:21:17] \"GET /static/curve_axis.js HTTP/1.1\" 304 -\n",
      "127.0.0.1 - - [07/Oct/2024 14:21:17] \"GET /static/scripts.js HTTP/1.1\" 304 -\n",
      "127.0.0.1 - - [07/Oct/2024 14:21:17] \"GET /static/graph_tree.js HTTP/1.1\" 200 -\n",
      "127.0.0.1 - - [07/Oct/2024 14:21:17] \"GET /sliders HTTP/1.1\" 200 -\n",
      "127.0.0.1 - - [07/Oct/2024 14:21:17] \"GET /recom HTTP/1.1\" 200 -\n",
      "127.0.0.1 - - [07/Oct/2024 14:21:17] \"GET /graph_tree_data HTTP/1.1\" 200 -\n",
      "127.0.0.1 - - [07/Oct/2024 14:21:17] \"GET /tree_data HTTP/1.1\" 200 -\n",
      "127.0.0.1 - - [07/Oct/2024 14:21:21] \"POST /graph_tree_circle_click HTTP/1.1\" 200 -\n"
     ]
    },
    {
     "name": "stdout",
     "output_type": "stream",
     "text": [
      "101\n",
      "reflection_node: 33 at lv up: 2\n",
      "generate cos sim, ecul dist, and nodes sorted by cos sim\n"
     ]
    },
    {
     "name": "stderr",
     "output_type": "stream",
     "text": [
      "127.0.0.1 - - [07/Oct/2024 14:23:19] \"GET / HTTP/1.1\" 200 -\n",
      "127.0.0.1 - - [07/Oct/2024 14:23:19] \"GET /static/styles.css HTTP/1.1\" 304 -\n",
      "127.0.0.1 - - [07/Oct/2024 14:23:19] \"GET /static/graph_tree_shared_variable.js HTTP/1.1\" 304 -\n",
      "127.0.0.1 - - [07/Oct/2024 14:23:19] \"GET /static/curve_axis.js HTTP/1.1\" 304 -\n",
      "127.0.0.1 - - [07/Oct/2024 14:23:19] \"GET /static/scripts.js HTTP/1.1\" 304 -\n",
      "127.0.0.1 - - [07/Oct/2024 14:23:19] \"GET /static/graph_tree.js HTTP/1.1\" 200 -\n",
      "127.0.0.1 - - [07/Oct/2024 14:23:19] \"GET /sliders HTTP/1.1\" 200 -\n",
      "127.0.0.1 - - [07/Oct/2024 14:23:19] \"GET /recom HTTP/1.1\" 200 -\n",
      "127.0.0.1 - - [07/Oct/2024 14:23:19] \"GET /graph_tree_data HTTP/1.1\" 200 -\n",
      "127.0.0.1 - - [07/Oct/2024 14:23:19] \"GET /tree_data HTTP/1.1\" 200 -\n",
      "127.0.0.1 - - [07/Oct/2024 14:23:22] \"GET /static/styles.css HTTP/1.1\" 304 -\n",
      "127.0.0.1 - - [07/Oct/2024 14:23:42] \"GET / HTTP/1.1\" 200 -\n",
      "127.0.0.1 - - [07/Oct/2024 14:23:42] \"GET /static/styles.css HTTP/1.1\" 304 -\n",
      "127.0.0.1 - - [07/Oct/2024 14:23:42] \"GET /static/graph_tree_shared_variable.js HTTP/1.1\" 304 -\n",
      "127.0.0.1 - - [07/Oct/2024 14:23:42] \"GET /static/curve_axis.js HTTP/1.1\" 304 -\n",
      "127.0.0.1 - - [07/Oct/2024 14:23:42] \"GET /static/scripts.js HTTP/1.1\" 304 -\n",
      "127.0.0.1 - - [07/Oct/2024 14:23:42] \"GET /static/graph_tree.js HTTP/1.1\" 200 -\n",
      "127.0.0.1 - - [07/Oct/2024 14:23:42] \"GET /sliders HTTP/1.1\" 200 -\n",
      "127.0.0.1 - - [07/Oct/2024 14:23:42] \"GET /recom HTTP/1.1\" 200 -\n",
      "127.0.0.1 - - [07/Oct/2024 14:23:42] \"GET /graph_tree_data HTTP/1.1\" 200 -\n",
      "127.0.0.1 - - [07/Oct/2024 14:23:42] \"GET /tree_data HTTP/1.1\" 200 -\n",
      "127.0.0.1 - - [07/Oct/2024 14:23:44] \"POST /graph_tree_circle_click HTTP/1.1\" 200 -\n"
     ]
    },
    {
     "name": "stdout",
     "output_type": "stream",
     "text": [
      "101\n",
      "reflection_node: 33 at lv up: 2\n",
      "generate cos sim, ecul dist, and nodes sorted by cos sim\n"
     ]
    },
    {
     "name": "stderr",
     "output_type": "stream",
     "text": [
      "127.0.0.1 - - [07/Oct/2024 14:23:47] \"POST /graph_tree_circle_click HTTP/1.1\" 200 -\n"
     ]
    },
    {
     "name": "stdout",
     "output_type": "stream",
     "text": [
      "101\n",
      "reflection_node: 33 at lv up: 2\n",
      "generate cos sim, ecul dist, and nodes sorted by cos sim\n"
     ]
    },
    {
     "name": "stderr",
     "output_type": "stream",
     "text": [
      "127.0.0.1 - - [07/Oct/2024 14:23:56] \"GET / HTTP/1.1\" 200 -\n",
      "127.0.0.1 - - [07/Oct/2024 14:23:56] \"GET /static/styles.css HTTP/1.1\" 304 -\n",
      "127.0.0.1 - - [07/Oct/2024 14:23:56] \"GET /static/graph_tree_shared_variable.js HTTP/1.1\" 304 -\n",
      "127.0.0.1 - - [07/Oct/2024 14:23:56] \"GET /static/curve_axis.js HTTP/1.1\" 304 -\n",
      "127.0.0.1 - - [07/Oct/2024 14:23:56] \"GET /static/scripts.js HTTP/1.1\" 304 -\n",
      "127.0.0.1 - - [07/Oct/2024 14:23:56] \"GET /static/graph_tree.js HTTP/1.1\" 304 -\n",
      "127.0.0.1 - - [07/Oct/2024 14:23:57] \"GET /sliders HTTP/1.1\" 200 -\n",
      "127.0.0.1 - - [07/Oct/2024 14:23:57] \"GET /recom HTTP/1.1\" 200 -\n",
      "127.0.0.1 - - [07/Oct/2024 14:23:57] \"GET /graph_tree_data HTTP/1.1\" 200 -\n",
      "127.0.0.1 - - [07/Oct/2024 14:23:57] \"GET /tree_data HTTP/1.1\" 200 -\n",
      "127.0.0.1 - - [07/Oct/2024 14:23:59] \"POST /graph_tree_circle_click HTTP/1.1\" 200 -\n"
     ]
    },
    {
     "name": "stdout",
     "output_type": "stream",
     "text": [
      "101\n",
      "reflection_node: 33 at lv up: 2\n",
      "generate cos sim, ecul dist, and nodes sorted by cos sim\n"
     ]
    },
    {
     "name": "stderr",
     "output_type": "stream",
     "text": [
      "127.0.0.1 - - [07/Oct/2024 14:24:32] \"GET / HTTP/1.1\" 200 -\n",
      "127.0.0.1 - - [07/Oct/2024 14:24:32] \"GET /static/styles.css HTTP/1.1\" 304 -\n",
      "127.0.0.1 - - [07/Oct/2024 14:24:32] \"GET /static/graph_tree_shared_variable.js HTTP/1.1\" 304 -\n",
      "127.0.0.1 - - [07/Oct/2024 14:24:32] \"GET /static/curve_axis.js HTTP/1.1\" 304 -\n",
      "127.0.0.1 - - [07/Oct/2024 14:24:32] \"GET /static/scripts.js HTTP/1.1\" 304 -\n",
      "127.0.0.1 - - [07/Oct/2024 14:24:32] \"GET /static/graph_tree.js HTTP/1.1\" 200 -\n",
      "127.0.0.1 - - [07/Oct/2024 14:24:32] \"GET /sliders HTTP/1.1\" 200 -\n",
      "127.0.0.1 - - [07/Oct/2024 14:24:32] \"GET /recom HTTP/1.1\" 200 -\n",
      "127.0.0.1 - - [07/Oct/2024 14:24:32] \"GET /graph_tree_data HTTP/1.1\" 200 -\n",
      "127.0.0.1 - - [07/Oct/2024 14:24:32] \"GET /tree_data HTTP/1.1\" 200 -\n",
      "127.0.0.1 - - [07/Oct/2024 14:24:35] \"POST /graph_tree_circle_click HTTP/1.1\" 200 -\n"
     ]
    },
    {
     "name": "stdout",
     "output_type": "stream",
     "text": [
      "101\n",
      "reflection_node: 33 at lv up: 2\n",
      "generate cos sim, ecul dist, and nodes sorted by cos sim\n"
     ]
    },
    {
     "name": "stderr",
     "output_type": "stream",
     "text": [
      "127.0.0.1 - - [07/Oct/2024 14:24:39] \"POST /graph_tree_circle_click HTTP/1.1\" 200 -\n"
     ]
    },
    {
     "name": "stdout",
     "output_type": "stream",
     "text": [
      "103\n",
      "reflection_node: 33 at lv up: 2\n",
      "generate cos sim, ecul dist, and nodes sorted by cos sim\n"
     ]
    },
    {
     "name": "stderr",
     "output_type": "stream",
     "text": [
      "127.0.0.1 - - [07/Oct/2024 14:24:43] \"POST /graph_tree_circle_click HTTP/1.1\" 200 -\n"
     ]
    },
    {
     "name": "stdout",
     "output_type": "stream",
     "text": [
      "100\n",
      "reflection_node: 33 at lv up: 2\n",
      "generate cos sim, ecul dist, and nodes sorted by cos sim\n"
     ]
    },
    {
     "name": "stderr",
     "output_type": "stream",
     "text": [
      "127.0.0.1 - - [07/Oct/2024 14:24:46] \"POST /graph_tree_circle_click HTTP/1.1\" 200 -\n"
     ]
    },
    {
     "name": "stdout",
     "output_type": "stream",
     "text": [
      "101\n",
      "reflection_node: 33 at lv up: 2\n",
      "generate cos sim, ecul dist, and nodes sorted by cos sim\n"
     ]
    },
    {
     "name": "stderr",
     "output_type": "stream",
     "text": [
      "127.0.0.1 - - [07/Oct/2024 14:24:47] \"POST /graph_tree_circle_click HTTP/1.1\" 200 -\n"
     ]
    },
    {
     "name": "stdout",
     "output_type": "stream",
     "text": [
      "100\n",
      "reflection_node: 33 at lv up: 2\n",
      "generate cos sim, ecul dist, and nodes sorted by cos sim\n"
     ]
    },
    {
     "name": "stderr",
     "output_type": "stream",
     "text": [
      "127.0.0.1 - - [07/Oct/2024 14:24:47] \"POST /graph_tree_circle_click HTTP/1.1\" 200 -\n"
     ]
    },
    {
     "name": "stdout",
     "output_type": "stream",
     "text": [
      "100\n",
      "reflection_node: 33 at lv up: 2\n",
      "generate cos sim, ecul dist, and nodes sorted by cos sim\n"
     ]
    },
    {
     "name": "stderr",
     "output_type": "stream",
     "text": [
      "127.0.0.1 - - [07/Oct/2024 14:24:48] \"POST /graph_tree_circle_click HTTP/1.1\" 200 -\n"
     ]
    },
    {
     "name": "stdout",
     "output_type": "stream",
     "text": [
      "99\n",
      "reflection_node: 33 at lv up: 2\n",
      "generate cos sim, ecul dist, and nodes sorted by cos sim\n"
     ]
    },
    {
     "name": "stderr",
     "output_type": "stream",
     "text": [
      "127.0.0.1 - - [07/Oct/2024 14:24:49] \"POST /graph_tree_circle_click HTTP/1.1\" 200 -\n",
      "127.0.0.1 - - [07/Oct/2024 14:24:49] \"POST /graph_tree_circle_click HTTP/1.1\" 200 -\n"
     ]
    },
    {
     "name": "stdout",
     "output_type": "stream",
     "text": [
      "99\n",
      "reflection_node: 33 at lv up: 2\n",
      "generate cos sim, ecul dist, and nodes sorted by cos sim\n",
      "99\n",
      "reflection_node: 33 at lv up: 2\n",
      "generate cos sim, ecul dist, and nodes sorted by cos sim\n"
     ]
    },
    {
     "name": "stderr",
     "output_type": "stream",
     "text": [
      "127.0.0.1 - - [07/Oct/2024 14:24:49] \"POST /graph_tree_circle_click HTTP/1.1\" 200 -\n"
     ]
    },
    {
     "name": "stdout",
     "output_type": "stream",
     "text": [
      "99\n",
      "reflection_node: 33 at lv up: 2\n",
      "generate cos sim, ecul dist, and nodes sorted by cos sim\n"
     ]
    },
    {
     "name": "stderr",
     "output_type": "stream",
     "text": [
      "127.0.0.1 - - [07/Oct/2024 14:24:50] \"POST /graph_tree_circle_click HTTP/1.1\" 200 -\n",
      "127.0.0.1 - - [07/Oct/2024 14:24:50] \"POST /graph_tree_circle_click HTTP/1.1\" 200 -\n"
     ]
    },
    {
     "name": "stdout",
     "output_type": "stream",
     "text": [
      "102\n",
      "reflection_node: 33 at lv up: 2\n",
      "generate cos sim, ecul dist, and nodes sorted by cos sim\n",
      "102\n",
      "reflection_node: 33 at lv up: 2\n",
      "generate cos sim, ecul dist, and nodes sorted by cos sim\n"
     ]
    },
    {
     "name": "stderr",
     "output_type": "stream",
     "text": [
      "127.0.0.1 - - [07/Oct/2024 14:24:51] \"POST /graph_tree_circle_click HTTP/1.1\" 200 -\n",
      "127.0.0.1 - - [07/Oct/2024 14:24:51] \"POST /graph_tree_circle_click HTTP/1.1\" 200 -\n"
     ]
    },
    {
     "name": "stdout",
     "output_type": "stream",
     "text": [
      "102\n",
      "reflection_node: 33 at lv up: 2\n",
      "generate cos sim, ecul dist, and nodes sorted by cos sim\n",
      "102\n",
      "reflection_node: 33 at lv up: 2\n",
      "generate cos sim, ecul dist, and nodes sorted by cos sim\n"
     ]
    },
    {
     "name": "stderr",
     "output_type": "stream",
     "text": [
      "127.0.0.1 - - [07/Oct/2024 14:24:51] \"POST /graph_tree_circle_click HTTP/1.1\" 200 -\n"
     ]
    },
    {
     "name": "stdout",
     "output_type": "stream",
     "text": [
      "102\n",
      "reflection_node: 33 at lv up: 2\n",
      "generate cos sim, ecul dist, and nodes sorted by cos sim\n"
     ]
    },
    {
     "name": "stderr",
     "output_type": "stream",
     "text": [
      "127.0.0.1 - - [07/Oct/2024 14:24:54] \"POST /graph_tree_circle_click HTTP/1.1\" 200 -\n",
      "127.0.0.1 - - [07/Oct/2024 14:24:54] \"POST /graph_tree_circle_click HTTP/1.1\" 200 -\n"
     ]
    },
    {
     "name": "stdout",
     "output_type": "stream",
     "text": [
      "103\n",
      "reflection_node: 33 at lv up: 2\n",
      "generate cos sim, ecul dist, and nodes sorted by cos sim\n",
      "103\n",
      "reflection_node: 33 at lv up: 2\n",
      "generate cos sim, ecul dist, and nodes sorted by cos sim\n"
     ]
    },
    {
     "name": "stderr",
     "output_type": "stream",
     "text": [
      "127.0.0.1 - - [07/Oct/2024 14:24:54] \"POST /graph_tree_circle_click HTTP/1.1\" 200 -\n"
     ]
    },
    {
     "name": "stdout",
     "output_type": "stream",
     "text": [
      "103\n",
      "reflection_node: 33 at lv up: 2\n",
      "generate cos sim, ecul dist, and nodes sorted by cos sim\n"
     ]
    },
    {
     "name": "stderr",
     "output_type": "stream",
     "text": [
      "127.0.0.1 - - [07/Oct/2024 14:24:54] \"POST /graph_tree_circle_click HTTP/1.1\" 200 -\n",
      "127.0.0.1 - - [07/Oct/2024 14:24:54] \"POST /graph_tree_circle_click HTTP/1.1\" 200 -\n"
     ]
    },
    {
     "name": "stdout",
     "output_type": "stream",
     "text": [
      "103\n",
      "reflection_node: 33 at lv up: 2\n",
      "generate cos sim, ecul dist, and nodes sorted by cos sim\n",
      "103\n",
      "reflection_node: 33 at lv up: 2\n",
      "generate cos sim, ecul dist, and nodes sorted by cos sim\n"
     ]
    },
    {
     "name": "stderr",
     "output_type": "stream",
     "text": [
      "127.0.0.1 - - [07/Oct/2024 14:24:55] \"POST /graph_tree_circle_click HTTP/1.1\" 200 -\n",
      "127.0.0.1 - - [07/Oct/2024 14:24:55] \"POST /graph_tree_circle_click HTTP/1.1\" 200 -\n"
     ]
    },
    {
     "name": "stdout",
     "output_type": "stream",
     "text": [
      "103\n",
      "reflection_node: 33 at lv up: 2\n",
      "generate cos sim, ecul dist, and nodes sorted by cos sim\n",
      "103\n",
      "reflection_node: 33 at lv up: 2\n",
      "generate cos sim, ecul dist, and nodes sorted by cos sim\n"
     ]
    },
    {
     "name": "stderr",
     "output_type": "stream",
     "text": [
      "127.0.0.1 - - [07/Oct/2024 14:24:55] \"POST /graph_tree_circle_click HTTP/1.1\" 200 -\n",
      "127.0.0.1 - - [07/Oct/2024 14:24:55] \"POST /graph_tree_circle_click HTTP/1.1\" 200 -\n"
     ]
    },
    {
     "name": "stdout",
     "output_type": "stream",
     "text": [
      "103\n",
      "reflection_node: 33 at lv up: 2\n",
      "generate cos sim, ecul dist, and nodes sorted by cos sim\n",
      "103\n",
      "reflection_node: 33 at lv up: 2\n",
      "generate cos sim, ecul dist, and nodes sorted by cos sim\n"
     ]
    },
    {
     "name": "stderr",
     "output_type": "stream",
     "text": [
      "127.0.0.1 - - [07/Oct/2024 14:24:55] \"POST /graph_tree_circle_click HTTP/1.1\" 200 -\n"
     ]
    },
    {
     "name": "stdout",
     "output_type": "stream",
     "text": [
      "103\n",
      "reflection_node: 33 at lv up: 2\n",
      "generate cos sim, ecul dist, and nodes sorted by cos sim\n",
      "103\n",
      "reflection_node: 33 at lv up: 2\n",
      "generate cos sim, ecul dist, and nodes sorted by cos sim\n"
     ]
    },
    {
     "name": "stderr",
     "output_type": "stream",
     "text": [
      "127.0.0.1 - - [07/Oct/2024 14:24:55] \"POST /graph_tree_circle_click HTTP/1.1\" 200 -\n",
      "127.0.0.1 - - [07/Oct/2024 14:24:56] \"POST /graph_tree_circle_click HTTP/1.1\" 200 -\n"
     ]
    },
    {
     "name": "stdout",
     "output_type": "stream",
     "text": [
      "103\n",
      "reflection_node: 33 at lv up: 2\n",
      "generate cos sim, ecul dist, and nodes sorted by cos sim\n"
     ]
    },
    {
     "name": "stderr",
     "output_type": "stream",
     "text": [
      "127.0.0.1 - - [07/Oct/2024 14:24:57] \"POST /graph_tree_circle_click HTTP/1.1\" 200 -\n"
     ]
    },
    {
     "name": "stdout",
     "output_type": "stream",
     "text": [
      "101\n",
      "reflection_node: 33 at lv up: 2\n",
      "generate cos sim, ecul dist, and nodes sorted by cos sim\n"
     ]
    },
    {
     "name": "stderr",
     "output_type": "stream",
     "text": [
      "127.0.0.1 - - [07/Oct/2024 14:24:59] \"GET / HTTP/1.1\" 200 -\n",
      "127.0.0.1 - - [07/Oct/2024 14:24:59] \"GET /static/styles.css HTTP/1.1\" 304 -\n",
      "127.0.0.1 - - [07/Oct/2024 14:24:59] \"GET /static/graph_tree_shared_variable.js HTTP/1.1\" 304 -\n",
      "127.0.0.1 - - [07/Oct/2024 14:24:59] \"GET /static/curve_axis.js HTTP/1.1\" 304 -\n",
      "127.0.0.1 - - [07/Oct/2024 14:24:59] \"GET /static/graph_tree.js HTTP/1.1\" 304 -\n",
      "127.0.0.1 - - [07/Oct/2024 14:24:59] \"GET /static/scripts.js HTTP/1.1\" 304 -\n",
      "127.0.0.1 - - [07/Oct/2024 14:25:00] \"GET /sliders HTTP/1.1\" 200 -\n",
      "127.0.0.1 - - [07/Oct/2024 14:25:00] \"GET /recom HTTP/1.1\" 200 -\n",
      "127.0.0.1 - - [07/Oct/2024 14:25:00] \"GET /graph_tree_data HTTP/1.1\" 200 -\n",
      "127.0.0.1 - - [07/Oct/2024 14:25:00] \"GET /tree_data HTTP/1.1\" 200 -\n",
      "127.0.0.1 - - [07/Oct/2024 14:25:03] \"POST /graph_tree_circle_click HTTP/1.1\" 200 -\n"
     ]
    },
    {
     "name": "stdout",
     "output_type": "stream",
     "text": [
      "103\n",
      "reflection_node: 33 at lv up: 2\n",
      "generate cos sim, ecul dist, and nodes sorted by cos sim\n"
     ]
    },
    {
     "name": "stderr",
     "output_type": "stream",
     "text": [
      "127.0.0.1 - - [07/Oct/2024 14:25:10] \"POST /handle_recom HTTP/1.1\" 200 -\n"
     ]
    },
    {
     "name": "stdout",
     "output_type": "stream",
     "text": [
      "reflection_node: 3 at lv up: 2\n",
      "generate cos sim, ecul dist, and nodes sorted by cos sim\n"
     ]
    },
    {
     "name": "stderr",
     "output_type": "stream",
     "text": [
      "127.0.0.1 - - [07/Oct/2024 14:26:32] \"GET / HTTP/1.1\" 200 -\n",
      "127.0.0.1 - - [07/Oct/2024 14:26:32] \"GET /static/styles.css HTTP/1.1\" 304 -\n",
      "127.0.0.1 - - [07/Oct/2024 14:26:32] \"GET /static/graph_tree_shared_variable.js HTTP/1.1\" 304 -\n",
      "127.0.0.1 - - [07/Oct/2024 14:26:32] \"GET /static/curve_axis.js HTTP/1.1\" 304 -\n",
      "127.0.0.1 - - [07/Oct/2024 14:26:32] \"GET /static/scripts.js HTTP/1.1\" 304 -\n",
      "127.0.0.1 - - [07/Oct/2024 14:26:32] \"GET /static/graph_tree.js HTTP/1.1\" 200 -\n",
      "127.0.0.1 - - [07/Oct/2024 14:26:33] \"GET /sliders HTTP/1.1\" 200 -\n",
      "127.0.0.1 - - [07/Oct/2024 14:26:33] \"GET /recom HTTP/1.1\" 200 -\n",
      "127.0.0.1 - - [07/Oct/2024 14:26:33] \"GET /graph_tree_data HTTP/1.1\" 200 -\n",
      "127.0.0.1 - - [07/Oct/2024 14:26:33] \"GET /tree_data HTTP/1.1\" 200 -\n",
      "127.0.0.1 - - [07/Oct/2024 14:49:55] \"GET / HTTP/1.1\" 200 -\n",
      "127.0.0.1 - - [07/Oct/2024 14:49:55] \"GET /static/styles.css HTTP/1.1\" 304 -\n",
      "127.0.0.1 - - [07/Oct/2024 14:49:55] \"GET /static/curve_axis.js HTTP/1.1\" 304 -\n",
      "127.0.0.1 - - [07/Oct/2024 14:49:55] \"GET /static/graph_tree_shared_variable.js HTTP/1.1\" 304 -\n",
      "127.0.0.1 - - [07/Oct/2024 14:49:55] \"GET /static/graph_tree.js HTTP/1.1\" 200 -\n",
      "127.0.0.1 - - [07/Oct/2024 14:49:55] \"GET /static/scripts.js HTTP/1.1\" 304 -\n",
      "127.0.0.1 - - [07/Oct/2024 14:49:55] \"GET /sliders HTTP/1.1\" 200 -\n",
      "127.0.0.1 - - [07/Oct/2024 14:49:55] \"GET /recom HTTP/1.1\" 200 -\n",
      "127.0.0.1 - - [07/Oct/2024 14:49:55] \"GET /graph_tree_data HTTP/1.1\" 200 -\n",
      "127.0.0.1 - - [07/Oct/2024 14:49:55] \"GET /tree_data HTTP/1.1\" 200 -\n",
      "127.0.0.1 - - [07/Oct/2024 14:52:40] \"GET / HTTP/1.1\" 200 -\n",
      "127.0.0.1 - - [07/Oct/2024 14:52:40] \"GET /static/styles.css HTTP/1.1\" 304 -\n",
      "127.0.0.1 - - [07/Oct/2024 14:52:40] \"GET /static/graph_tree_shared_variable.js HTTP/1.1\" 304 -\n",
      "127.0.0.1 - - [07/Oct/2024 14:52:40] \"GET /static/curve_axis.js HTTP/1.1\" 304 -\n",
      "127.0.0.1 - - [07/Oct/2024 14:52:40] \"GET /static/scripts.js HTTP/1.1\" 304 -\n",
      "127.0.0.1 - - [07/Oct/2024 14:52:40] \"GET /static/graph_tree.js HTTP/1.1\" 200 -\n",
      "127.0.0.1 - - [07/Oct/2024 14:52:40] \"GET /sliders HTTP/1.1\" 200 -\n",
      "127.0.0.1 - - [07/Oct/2024 14:52:40] \"GET /recom HTTP/1.1\" 200 -\n",
      "127.0.0.1 - - [07/Oct/2024 14:52:40] \"GET /graph_tree_data HTTP/1.1\" 200 -\n",
      "127.0.0.1 - - [07/Oct/2024 14:52:40] \"GET /tree_data HTTP/1.1\" 200 -\n",
      "127.0.0.1 - - [07/Oct/2024 14:52:43] \"POST /graph_tree_circle_click HTTP/1.1\" 200 -\n"
     ]
    },
    {
     "name": "stdout",
     "output_type": "stream",
     "text": [
      "101\n",
      "reflection_node: 33 at lv up: 2\n",
      "generate cos sim, ecul dist, and nodes sorted by cos sim\n"
     ]
    },
    {
     "name": "stderr",
     "output_type": "stream",
     "text": [
      "127.0.0.1 - - [07/Oct/2024 14:52:54] \"POST /graph_tree_circle_click HTTP/1.1\" 200 -\n"
     ]
    },
    {
     "name": "stdout",
     "output_type": "stream",
     "text": [
      "103\n",
      "reflection_node: 33 at lv up: 2\n",
      "generate cos sim, ecul dist, and nodes sorted by cos sim\n"
     ]
    },
    {
     "name": "stderr",
     "output_type": "stream",
     "text": [
      "127.0.0.1 - - [07/Oct/2024 14:53:02] \"POST /handle_recom HTTP/1.1\" 200 -\n"
     ]
    },
    {
     "name": "stdout",
     "output_type": "stream",
     "text": [
      "reflection_node: 3 at lv up: 2\n",
      "generate cos sim, ecul dist, and nodes sorted by cos sim\n"
     ]
    },
    {
     "name": "stderr",
     "output_type": "stream",
     "text": [
      "127.0.0.1 - - [07/Oct/2024 14:53:23] \"GET / HTTP/1.1\" 200 -\n",
      "127.0.0.1 - - [07/Oct/2024 14:53:23] \"GET /static/styles.css HTTP/1.1\" 304 -\n",
      "127.0.0.1 - - [07/Oct/2024 14:53:23] \"GET /static/graph_tree_shared_variable.js HTTP/1.1\" 304 -\n",
      "127.0.0.1 - - [07/Oct/2024 14:53:23] \"GET /static/curve_axis.js HTTP/1.1\" 304 -\n",
      "127.0.0.1 - - [07/Oct/2024 14:53:23] \"GET /static/graph_tree.js HTTP/1.1\" 304 -\n",
      "127.0.0.1 - - [07/Oct/2024 14:53:23] \"GET /static/scripts.js HTTP/1.1\" 304 -\n",
      "127.0.0.1 - - [07/Oct/2024 14:53:23] \"GET /sliders HTTP/1.1\" 200 -\n",
      "127.0.0.1 - - [07/Oct/2024 14:53:23] \"GET /recom HTTP/1.1\" 200 -\n",
      "127.0.0.1 - - [07/Oct/2024 14:53:23] \"GET /tree_data HTTP/1.1\" 200 -\n",
      "127.0.0.1 - - [07/Oct/2024 14:53:23] \"GET /graph_tree_data HTTP/1.1\" 200 -\n",
      "127.0.0.1 - - [07/Oct/2024 14:53:26] \"POST /graph_tree_circle_click HTTP/1.1\" 200 -\n"
     ]
    },
    {
     "name": "stdout",
     "output_type": "stream",
     "text": [
      "101\n",
      "reflection_node: 33 at lv up: 2\n",
      "generate cos sim, ecul dist, and nodes sorted by cos sim\n"
     ]
    },
    {
     "name": "stderr",
     "output_type": "stream",
     "text": [
      "127.0.0.1 - - [07/Oct/2024 14:53:48] \"GET / HTTP/1.1\" 200 -\n",
      "127.0.0.1 - - [07/Oct/2024 14:53:48] \"GET /static/styles.css HTTP/1.1\" 304 -\n",
      "127.0.0.1 - - [07/Oct/2024 14:53:48] \"GET /static/graph_tree_shared_variable.js HTTP/1.1\" 304 -\n",
      "127.0.0.1 - - [07/Oct/2024 14:53:48] \"GET /static/curve_axis.js HTTP/1.1\" 304 -\n",
      "127.0.0.1 - - [07/Oct/2024 14:53:48] \"GET /static/scripts.js HTTP/1.1\" 304 -\n",
      "127.0.0.1 - - [07/Oct/2024 14:53:48] \"GET /static/graph_tree.js HTTP/1.1\" 200 -\n",
      "127.0.0.1 - - [07/Oct/2024 14:53:48] \"GET /sliders HTTP/1.1\" 200 -\n",
      "127.0.0.1 - - [07/Oct/2024 14:53:48] \"GET /recom HTTP/1.1\" 200 -\n",
      "127.0.0.1 - - [07/Oct/2024 14:53:48] \"GET /graph_tree_data HTTP/1.1\" 200 -\n",
      "127.0.0.1 - - [07/Oct/2024 14:53:48] \"GET /tree_data HTTP/1.1\" 200 -\n",
      "127.0.0.1 - - [07/Oct/2024 14:53:51] \"POST /graph_tree_circle_click HTTP/1.1\" 200 -\n"
     ]
    },
    {
     "name": "stdout",
     "output_type": "stream",
     "text": [
      "101\n",
      "reflection_node: 33 at lv up: 2\n",
      "generate cos sim, ecul dist, and nodes sorted by cos sim\n"
     ]
    },
    {
     "name": "stderr",
     "output_type": "stream",
     "text": [
      "127.0.0.1 - - [07/Oct/2024 14:53:55] \"POST /graph_tree_circle_click HTTP/1.1\" 200 -\n"
     ]
    },
    {
     "name": "stdout",
     "output_type": "stream",
     "text": [
      "103\n",
      "reflection_node: 33 at lv up: 2\n",
      "generate cos sim, ecul dist, and nodes sorted by cos sim\n"
     ]
    },
    {
     "name": "stderr",
     "output_type": "stream",
     "text": [
      "127.0.0.1 - - [07/Oct/2024 14:54:04] \"POST /graph_tree_circle_click HTTP/1.1\" 200 -\n"
     ]
    },
    {
     "name": "stdout",
     "output_type": "stream",
     "text": [
      "100\n",
      "reflection_node: 33 at lv up: 2\n",
      "generate cos sim, ecul dist, and nodes sorted by cos sim\n"
     ]
    },
    {
     "name": "stderr",
     "output_type": "stream",
     "text": [
      "127.0.0.1 - - [07/Oct/2024 14:54:09] \"POST /graph_tree_circle_click HTTP/1.1\" 200 -\n"
     ]
    },
    {
     "name": "stdout",
     "output_type": "stream",
     "text": [
      "99\n",
      "reflection_node: 33 at lv up: 2\n",
      "generate cos sim, ecul dist, and nodes sorted by cos sim\n"
     ]
    },
    {
     "name": "stderr",
     "output_type": "stream",
     "text": [
      "127.0.0.1 - - [07/Oct/2024 14:54:14] \"POST /graph_tree_circle_click HTTP/1.1\" 200 -\n"
     ]
    },
    {
     "name": "stdout",
     "output_type": "stream",
     "text": [
      "102\n",
      "reflection_node: 33 at lv up: 2\n",
      "generate cos sim, ecul dist, and nodes sorted by cos sim\n"
     ]
    },
    {
     "name": "stderr",
     "output_type": "stream",
     "text": [
      "127.0.0.1 - - [07/Oct/2024 14:54:19] \"POST /graph_tree_circle_click HTTP/1.1\" 200 -\n"
     ]
    },
    {
     "name": "stdout",
     "output_type": "stream",
     "text": [
      "101\n",
      "reflection_node: 33 at lv up: 2\n",
      "generate cos sim, ecul dist, and nodes sorted by cos sim\n"
     ]
    },
    {
     "name": "stderr",
     "output_type": "stream",
     "text": [
      "127.0.0.1 - - [07/Oct/2024 14:54:26] \"POST /graph_tree_circle_click HTTP/1.1\" 200 -\n"
     ]
    },
    {
     "name": "stdout",
     "output_type": "stream",
     "text": [
      "103\n",
      "reflection_node: 33 at lv up: 2\n",
      "generate cos sim, ecul dist, and nodes sorted by cos sim\n"
     ]
    },
    {
     "name": "stderr",
     "output_type": "stream",
     "text": [
      "127.0.0.1 - - [07/Oct/2024 14:54:31] \"POST /handle_recom HTTP/1.1\" 200 -\n"
     ]
    },
    {
     "name": "stdout",
     "output_type": "stream",
     "text": [
      "reflection_node: 11 at lv up: 2\n",
      "generate cos sim, ecul dist, and nodes sorted by cos sim\n"
     ]
    },
    {
     "name": "stderr",
     "output_type": "stream",
     "text": [
      "127.0.0.1 - - [07/Oct/2024 14:54:36] \"POST /graph_tree_circle_click HTTP/1.1\" 200 -\n"
     ]
    },
    {
     "name": "stdout",
     "output_type": "stream",
     "text": [
      "86\n",
      "reflection_node: 11 at lv up: 2\n",
      "generate cos sim, ecul dist, and nodes sorted by cos sim\n"
     ]
    },
    {
     "name": "stderr",
     "output_type": "stream",
     "text": [
      "127.0.0.1 - - [07/Oct/2024 14:54:40] \"POST /graph_tree_circle_click HTTP/1.1\" 200 -\n"
     ]
    },
    {
     "name": "stdout",
     "output_type": "stream",
     "text": [
      "76\n",
      "reflection_node: 11 at lv up: 2\n",
      "generate cos sim, ecul dist, and nodes sorted by cos sim\n"
     ]
    },
    {
     "name": "stderr",
     "output_type": "stream",
     "text": [
      "127.0.0.1 - - [07/Oct/2024 14:54:47] \"POST /graph_tree_circle_click HTTP/1.1\" 200 -\n"
     ]
    },
    {
     "name": "stdout",
     "output_type": "stream",
     "text": [
      "79\n",
      "reflection_node: 11 at lv up: 2\n",
      "generate cos sim, ecul dist, and nodes sorted by cos sim\n"
     ]
    },
    {
     "name": "stderr",
     "output_type": "stream",
     "text": [
      "127.0.0.1 - - [07/Oct/2024 14:54:53] \"POST /handle_recom HTTP/1.1\" 200 -\n"
     ]
    },
    {
     "name": "stdout",
     "output_type": "stream",
     "text": [
      "reflection_node: 3 at lv up: 2\n",
      "generate cos sim, ecul dist, and nodes sorted by cos sim\n"
     ]
    },
    {
     "name": "stderr",
     "output_type": "stream",
     "text": [
      "127.0.0.1 - - [07/Oct/2024 14:54:59] \"POST /handle_recom HTTP/1.1\" 200 -\n"
     ]
    },
    {
     "name": "stdout",
     "output_type": "stream",
     "text": [
      "reflection_node: 90 at lv up: 2\n",
      "generate cos sim, ecul dist, and nodes sorted by cos sim\n"
     ]
    },
    {
     "name": "stderr",
     "output_type": "stream",
     "text": [
      "127.0.0.1 - - [07/Oct/2024 14:55:04] \"POST /handle_recom HTTP/1.1\" 200 -\n"
     ]
    },
    {
     "name": "stdout",
     "output_type": "stream",
     "text": [
      "reflection_node: 23 at lv up: 2\n",
      "generate cos sim, ecul dist, and nodes sorted by cos sim\n"
     ]
    },
    {
     "name": "stderr",
     "output_type": "stream",
     "text": [
      "127.0.0.1 - - [07/Oct/2024 14:55:09] \"POST /graph_tree_circle_click HTTP/1.1\" 200 -\n"
     ]
    },
    {
     "name": "stdout",
     "output_type": "stream",
     "text": [
      "97\n",
      "reflection_node: 23 at lv up: 2\n",
      "generate cos sim, ecul dist, and nodes sorted by cos sim\n"
     ]
    },
    {
     "name": "stderr",
     "output_type": "stream",
     "text": [
      "127.0.0.1 - - [07/Oct/2024 14:55:58] \"POST /graph_tree_circle_click HTTP/1.1\" 200 -\n"
     ]
    },
    {
     "name": "stdout",
     "output_type": "stream",
     "text": [
      "98\n",
      "reflection_node: 23 at lv up: 2\n",
      "generate cos sim, ecul dist, and nodes sorted by cos sim\n"
     ]
    },
    {
     "name": "stderr",
     "output_type": "stream",
     "text": [
      "127.0.0.1 - - [07/Oct/2024 14:56:03] \"POST /graph_tree_circle_click HTTP/1.1\" 200 -\n"
     ]
    },
    {
     "name": "stdout",
     "output_type": "stream",
     "text": [
      "66\n",
      "reflection_node: 7 at lv up: 2\n",
      "generate cos sim, ecul dist, and nodes sorted by cos sim\n"
     ]
    },
    {
     "name": "stderr",
     "output_type": "stream",
     "text": [
      "127.0.0.1 - - [07/Oct/2024 14:56:12] \"GET / HTTP/1.1\" 200 -\n",
      "127.0.0.1 - - [07/Oct/2024 14:56:12] \"GET /static/styles.css HTTP/1.1\" 304 -\n",
      "127.0.0.1 - - [07/Oct/2024 14:56:12] \"GET /static/graph_tree_shared_variable.js HTTP/1.1\" 304 -\n",
      "127.0.0.1 - - [07/Oct/2024 14:56:12] \"GET /static/curve_axis.js HTTP/1.1\" 304 -\n",
      "127.0.0.1 - - [07/Oct/2024 14:56:12] \"GET /static/graph_tree.js HTTP/1.1\" 304 -\n",
      "127.0.0.1 - - [07/Oct/2024 14:56:12] \"GET /static/scripts.js HTTP/1.1\" 304 -\n",
      "127.0.0.1 - - [07/Oct/2024 14:56:12] \"GET /sliders HTTP/1.1\" 200 -\n",
      "127.0.0.1 - - [07/Oct/2024 14:56:12] \"GET /recom HTTP/1.1\" 200 -\n",
      "127.0.0.1 - - [07/Oct/2024 14:56:12] \"GET /graph_tree_data HTTP/1.1\" 200 -\n",
      "127.0.0.1 - - [07/Oct/2024 14:56:12] \"GET /tree_data HTTP/1.1\" 200 -\n",
      "127.0.0.1 - - [07/Oct/2024 14:56:16] \"POST /handle_recom HTTP/1.1\" 200 -\n"
     ]
    },
    {
     "name": "stdout",
     "output_type": "stream",
     "text": [
      "reflection_node: 11 at lv up: 2\n",
      "generate cos sim, ecul dist, and nodes sorted by cos sim\n"
     ]
    },
    {
     "name": "stderr",
     "output_type": "stream",
     "text": [
      "127.0.0.1 - - [07/Oct/2024 14:56:21] \"POST /handle_recom HTTP/1.1\" 200 -\n"
     ]
    },
    {
     "name": "stdout",
     "output_type": "stream",
     "text": [
      "reflection_node: 23 at lv up: 2\n",
      "generate cos sim, ecul dist, and nodes sorted by cos sim\n"
     ]
    },
    {
     "name": "stderr",
     "output_type": "stream",
     "text": [
      "127.0.0.1 - - [07/Oct/2024 14:56:27] \"POST /graph_tree_circle_click HTTP/1.1\" 200 -\n"
     ]
    },
    {
     "name": "stdout",
     "output_type": "stream",
     "text": [
      "66\n",
      "reflection_node: 7 at lv up: 2\n",
      "generate cos sim, ecul dist, and nodes sorted by cos sim\n"
     ]
    },
    {
     "name": "stderr",
     "output_type": "stream",
     "text": [
      "127.0.0.1 - - [07/Oct/2024 14:56:38] \"POST /graph_tree_circle_click HTTP/1.1\" 200 -\n"
     ]
    },
    {
     "name": "stdout",
     "output_type": "stream",
     "text": [
      "65\n",
      "reflection_node: 7 at lv up: 2\n",
      "generate cos sim, ecul dist, and nodes sorted by cos sim\n"
     ]
    }
   ],
   "source": [
    "from flask import Flask, render_template, request, jsonify\n",
    "\n",
    "app = Flask(__name__)\n",
    "\n",
    "@app.route('/')\n",
    "def index():\n",
    "    return render_template('index.html')\n",
    "\n",
    "# slider ####################################################################\n",
    "@app.route('/sliders')\n",
    "def sliders():\n",
    "    return jsonify(sliders_data)\n",
    "\n",
    "@app.route('/handle_slider', methods=['POST'])\n",
    "def submit_slider_values():\n",
    "    data = request.json\n",
    "    print('Received slider values:', data)\n",
    "    query = np.array([float(val) for val in data.values()])\n",
    "    cur = gt.search(query)\n",
    "    graph_tree_data = gt.get_neighbour_cluster_data(cur.id)\n",
    "    # Process the data as needed\n",
    "    return jsonify({'status': 'slider respon success', 'graph_tree_data': graph_tree_data})\n",
    "# slider end ################################################################\n",
    "\n",
    "# recom ####################################################################\n",
    "@app.route('/recom')\n",
    "def recom():\n",
    "    return jsonify(recom_data)\n",
    "\n",
    "@app.route('/handle_recom', methods=['POST'])\n",
    "def handle_recom():\n",
    "    data = request.json\n",
    "    button_id = int(data.get('buttonId'))\n",
    "    val = int(data.get('val'))\n",
    "    # print(button_id, val)\n",
    "    moved_node = gt.recom[button_id][val]\n",
    "    graph_tree_data = gt.get_neighbour_cluster_data(moved_node.id)\n",
    "    # print(graph_tree_data)\n",
    "    return jsonify({'status': 'recom respon success', 'buttonId': button_id, 'val': val, \"graph_tree_data\": graph_tree_data})\n",
    "# recom end ####################################################################\n",
    "\n",
    "@app.route('/graph_tree_data')\n",
    "def graph():\n",
    "    return jsonify(graph_tree_data)\n",
    "\n",
    "@app.route('/graph_tree_circle_click', methods=['POST'])\n",
    "def graph_tree_circle_click():\n",
    "    data = request.json\n",
    "    id = int(data.get('id'))\n",
    "    print(id)\n",
    "    graph_tree_data = gt.get_neighbour_cluster_data(id)\n",
    "    return jsonify({'status': 'graph_tree_circle_click respon success', 'id': id, \"graph_tree_data\": graph_tree_data})\n",
    "\n",
    "\n",
    "@app.route('/tree_data')\n",
    "def tree():\n",
    "    return jsonify(tree_data)\n",
    "\n",
    "if __name__ == '__main__':\n",
    "    app.run(port=8123)\n"
   ]
  }
 ],
 "metadata": {
  "kernelspec": {
   "display_name": "Python 3",
   "language": "python",
   "name": "python3"
  },
  "language_info": {
   "codemirror_mode": {
    "name": "ipython",
    "version": 3
   },
   "file_extension": ".py",
   "mimetype": "text/x-python",
   "name": "python",
   "nbconvert_exporter": "python",
   "pygments_lexer": "ipython3",
   "version": "3.12.5"
  }
 },
 "nbformat": 4,
 "nbformat_minor": 2
}
