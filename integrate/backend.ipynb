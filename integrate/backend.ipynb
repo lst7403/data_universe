{
 "cells": [
  {
   "cell_type": "code",
   "execution_count": 4,
   "metadata": {},
   "outputs": [],
   "source": [
    "# load module and pre generate data\n",
    "from graph_tree_list_module import *\n",
    "\n",
    "import numpy as np\n",
    "\n",
    "import pickle\n",
    "\n",
    "# Open the file in binary read mode and load the object\n",
    "with open(\"graph_tree.pkl\", \"rb\") as file:\n",
    "    gt = pickle.load(file)\n"
   ]
  },
  {
   "cell_type": "code",
   "execution_count": 5,
   "metadata": {},
   "outputs": [
    {
     "name": "stdout",
     "output_type": "stream",
     "text": [
      "reflection_node: 11 at lv up: 2\n",
      "generate cos sim, ecul dist, and nodes sorted by cos sim\n"
     ]
    }
   ],
   "source": [
    "sliders_data = [{\"id\": gt.attr_name[i], \"min\": gt.X_maxmin[1][i], \"max\": gt.X_maxmin[0][i], \"value\": gt.nodes[0].center[i], \"type\": \"f\"} for i in range(len(gt.attr_name))]\n",
    "# print(sliders_data)\n",
    "\n",
    "recom_data = [{\"i\": i, \"id\": gt.attr_name[i], \"max_val\": gt.recom[i][0].center[i], \"min_val\": gt.recom[i][1].center[i]} for i in range(len(gt.attr_name))]\n",
    "# print(recom_data)\n",
    "\n",
    "graph_tree_data = gt.get_neighbour_cluster_data(node_id = 85)\n",
    "\n",
    "tree_data = {\n",
    "        \"name\": \"Root\",\n",
    "        \"children\": [\n",
    "            {\n",
    "                \"name\": \"Child 1\",\n",
    "                \"children\": [\n",
    "                    {\"name\": \"Grandchild 1\"},\n",
    "                    {\"name\": \"Grandchild 2\"}\n",
    "                ]\n",
    "            },\n",
    "            {\n",
    "                \"name\": \"Child 2\",\n",
    "                \"children\": [\n",
    "                    {\"name\": \"Grandchild 3\"},\n",
    "                    {\"name\": \"Grandchild 4\"}\n",
    "                ]\n",
    "            }\n",
    "        ]\n",
    "    }"
   ]
  },
  {
   "cell_type": "code",
   "execution_count": 6,
   "metadata": {},
   "outputs": [
    {
     "name": "stdout",
     "output_type": "stream",
     "text": [
      " * Serving Flask app '__main__'\n",
      " * Debug mode: off\n"
     ]
    },
    {
     "name": "stderr",
     "output_type": "stream",
     "text": [
      "WARNING: This is a development server. Do not use it in a production deployment. Use a production WSGI server instead.\n",
      " * Running on http://127.0.0.1:8123\n",
      "Press CTRL+C to quit\n",
      "127.0.0.1 - - [04/Oct/2024 10:57:08] \"GET / HTTP/1.1\" 200 -\n",
      "127.0.0.1 - - [04/Oct/2024 10:57:08] \"GET /static/styles.css HTTP/1.1\" 304 -\n",
      "127.0.0.1 - - [04/Oct/2024 10:57:08] \"GET /static/scripts.js HTTP/1.1\" 304 -\n",
      "127.0.0.1 - - [04/Oct/2024 10:57:08] \"GET /static/curve_axis.js HTTP/1.1\" 304 -\n",
      "127.0.0.1 - - [04/Oct/2024 10:57:08] \"GET /static/graph_tree.js HTTP/1.1\" 304 -\n",
      "127.0.0.1 - - [04/Oct/2024 10:57:08] \"GET /sliders HTTP/1.1\" 200 -\n",
      "127.0.0.1 - - [04/Oct/2024 10:57:08] \"GET /recom HTTP/1.1\" 200 -\n",
      "127.0.0.1 - - [04/Oct/2024 10:57:08] \"GET /graph_tree_data HTTP/1.1\" 200 -\n",
      "127.0.0.1 - - [04/Oct/2024 10:57:08] \"GET /tree_data HTTP/1.1\" 200 -\n",
      "127.0.0.1 - - [04/Oct/2024 10:57:10] \"GET /static/styles.css HTTP/1.1\" 304 -\n",
      "127.0.0.1 - - [04/Oct/2024 10:58:26] \"GET / HTTP/1.1\" 200 -\n",
      "127.0.0.1 - - [04/Oct/2024 10:58:26] \"GET /static/styles.css HTTP/1.1\" 304 -\n",
      "127.0.0.1 - - [04/Oct/2024 10:58:26] \"GET /static/scripts.js HTTP/1.1\" 304 -\n",
      "127.0.0.1 - - [04/Oct/2024 10:58:26] \"GET /static/curve_axis.js HTTP/1.1\" 304 -\n",
      "127.0.0.1 - - [04/Oct/2024 10:58:26] \"GET /static/graph_tree.js HTTP/1.1\" 200 -\n",
      "127.0.0.1 - - [04/Oct/2024 10:58:26] \"GET /sliders HTTP/1.1\" 200 -\n",
      "127.0.0.1 - - [04/Oct/2024 10:58:26] \"GET /recom HTTP/1.1\" 200 -\n",
      "127.0.0.1 - - [04/Oct/2024 10:58:26] \"GET /graph_tree_data HTTP/1.1\" 200 -\n",
      "127.0.0.1 - - [04/Oct/2024 10:58:26] \"GET /tree_data HTTP/1.1\" 200 -\n",
      "127.0.0.1 - - [04/Oct/2024 10:58:36] \"GET / HTTP/1.1\" 200 -\n",
      "127.0.0.1 - - [04/Oct/2024 10:58:36] \"GET /static/styles.css HTTP/1.1\" 304 -\n",
      "127.0.0.1 - - [04/Oct/2024 10:58:36] \"GET /static/scripts.js HTTP/1.1\" 304 -\n",
      "127.0.0.1 - - [04/Oct/2024 10:58:36] \"GET /static/curve_axis.js HTTP/1.1\" 304 -\n",
      "127.0.0.1 - - [04/Oct/2024 10:58:36] \"GET /static/graph_tree.js HTTP/1.1\" 304 -\n",
      "127.0.0.1 - - [04/Oct/2024 10:58:36] \"GET /sliders HTTP/1.1\" 200 -\n",
      "127.0.0.1 - - [04/Oct/2024 10:58:36] \"GET /recom HTTP/1.1\" 200 -\n",
      "127.0.0.1 - - [04/Oct/2024 10:58:36] \"GET /graph_tree_data HTTP/1.1\" 200 -\n",
      "127.0.0.1 - - [04/Oct/2024 10:58:36] \"GET /tree_data HTTP/1.1\" 200 -\n",
      "127.0.0.1 - - [04/Oct/2024 10:58:47] \"GET / HTTP/1.1\" 200 -\n",
      "127.0.0.1 - - [04/Oct/2024 10:58:47] \"GET /static/styles.css HTTP/1.1\" 304 -\n",
      "127.0.0.1 - - [04/Oct/2024 10:58:47] \"GET /static/scripts.js HTTP/1.1\" 304 -\n",
      "127.0.0.1 - - [04/Oct/2024 10:58:47] \"GET /static/curve_axis.js HTTP/1.1\" 304 -\n",
      "127.0.0.1 - - [04/Oct/2024 10:58:47] \"GET /static/graph_tree.js HTTP/1.1\" 200 -\n",
      "127.0.0.1 - - [04/Oct/2024 10:58:47] \"GET /sliders HTTP/1.1\" 200 -\n",
      "127.0.0.1 - - [04/Oct/2024 10:58:47] \"GET /recom HTTP/1.1\" 200 -\n",
      "127.0.0.1 - - [04/Oct/2024 10:58:47] \"GET /graph_tree_data HTTP/1.1\" 200 -\n",
      "127.0.0.1 - - [04/Oct/2024 10:58:47] \"GET /tree_data HTTP/1.1\" 200 -\n",
      "127.0.0.1 - - [04/Oct/2024 10:59:08] \"GET / HTTP/1.1\" 200 -\n",
      "127.0.0.1 - - [04/Oct/2024 10:59:08] \"GET /static/styles.css HTTP/1.1\" 304 -\n",
      "127.0.0.1 - - [04/Oct/2024 10:59:08] \"GET /static/scripts.js HTTP/1.1\" 304 -\n",
      "127.0.0.1 - - [04/Oct/2024 10:59:08] \"GET /static/curve_axis.js HTTP/1.1\" 304 -\n",
      "127.0.0.1 - - [04/Oct/2024 10:59:08] \"GET /static/graph_tree.js HTTP/1.1\" 200 -\n",
      "127.0.0.1 - - [04/Oct/2024 10:59:08] \"GET /sliders HTTP/1.1\" 200 -\n",
      "127.0.0.1 - - [04/Oct/2024 10:59:08] \"GET /recom HTTP/1.1\" 200 -\n",
      "127.0.0.1 - - [04/Oct/2024 10:59:08] \"GET /graph_tree_data HTTP/1.1\" 200 -\n",
      "127.0.0.1 - - [04/Oct/2024 10:59:08] \"GET /tree_data HTTP/1.1\" 200 -\n",
      "127.0.0.1 - - [04/Oct/2024 10:59:19] \"GET / HTTP/1.1\" 200 -\n",
      "127.0.0.1 - - [04/Oct/2024 10:59:19] \"GET /static/styles.css HTTP/1.1\" 304 -\n",
      "127.0.0.1 - - [04/Oct/2024 10:59:19] \"GET /static/scripts.js HTTP/1.1\" 304 -\n",
      "127.0.0.1 - - [04/Oct/2024 10:59:19] \"GET /static/curve_axis.js HTTP/1.1\" 304 -\n",
      "127.0.0.1 - - [04/Oct/2024 10:59:19] \"GET /static/graph_tree.js HTTP/1.1\" 200 -\n",
      "127.0.0.1 - - [04/Oct/2024 10:59:19] \"GET /sliders HTTP/1.1\" 200 -\n",
      "127.0.0.1 - - [04/Oct/2024 10:59:19] \"GET /recom HTTP/1.1\" 200 -\n",
      "127.0.0.1 - - [04/Oct/2024 10:59:19] \"GET /graph_tree_data HTTP/1.1\" 200 -\n",
      "127.0.0.1 - - [04/Oct/2024 10:59:19] \"GET /tree_data HTTP/1.1\" 200 -\n",
      "127.0.0.1 - - [04/Oct/2024 10:59:44] \"GET / HTTP/1.1\" 200 -\n",
      "127.0.0.1 - - [04/Oct/2024 10:59:44] \"GET /static/styles.css HTTP/1.1\" 304 -\n",
      "127.0.0.1 - - [04/Oct/2024 10:59:44] \"GET /static/scripts.js HTTP/1.1\" 304 -\n",
      "127.0.0.1 - - [04/Oct/2024 10:59:44] \"GET /static/curve_axis.js HTTP/1.1\" 304 -\n",
      "127.0.0.1 - - [04/Oct/2024 10:59:44] \"GET /static/graph_tree.js HTTP/1.1\" 200 -\n",
      "127.0.0.1 - - [04/Oct/2024 10:59:44] \"GET /sliders HTTP/1.1\" 200 -\n",
      "127.0.0.1 - - [04/Oct/2024 10:59:44] \"GET /graph_tree_data HTTP/1.1\" 200 -\n",
      "127.0.0.1 - - [04/Oct/2024 10:59:44] \"GET /recom HTTP/1.1\" 200 -\n",
      "127.0.0.1 - - [04/Oct/2024 10:59:44] \"GET /tree_data HTTP/1.1\" 200 -\n",
      "127.0.0.1 - - [04/Oct/2024 11:01:32] \"GET / HTTP/1.1\" 200 -\n",
      "127.0.0.1 - - [04/Oct/2024 11:01:32] \"GET /static/styles.css HTTP/1.1\" 304 -\n",
      "127.0.0.1 - - [04/Oct/2024 11:01:32] \"GET /static/curve_axis.js HTTP/1.1\" 304 -\n",
      "127.0.0.1 - - [04/Oct/2024 11:01:32] \"GET /static/scripts.js HTTP/1.1\" 304 -\n",
      "127.0.0.1 - - [04/Oct/2024 11:01:32] \"GET /static/graph_tree.js HTTP/1.1\" 200 -\n",
      "127.0.0.1 - - [04/Oct/2024 11:01:32] \"GET /sliders HTTP/1.1\" 200 -\n",
      "127.0.0.1 - - [04/Oct/2024 11:01:32] \"GET /recom HTTP/1.1\" 200 -\n",
      "127.0.0.1 - - [04/Oct/2024 11:01:32] \"GET /graph_tree_data HTTP/1.1\" 200 -\n",
      "127.0.0.1 - - [04/Oct/2024 11:01:32] \"GET /tree_data HTTP/1.1\" 200 -\n",
      "127.0.0.1 - - [04/Oct/2024 11:01:46] \"POST /graph_tree_circle_click HTTP/1.1\" 200 -\n"
     ]
    },
    {
     "name": "stdout",
     "output_type": "stream",
     "text": [
      "80\n",
      "reflection_node: 11 at lv up: 2\n",
      "generate cos sim, ecul dist, and nodes sorted by cos sim\n"
     ]
    },
    {
     "name": "stderr",
     "output_type": "stream",
     "text": [
      "127.0.0.1 - - [04/Oct/2024 11:01:46] \"GET / HTTP/1.1\" 200 -\n",
      "127.0.0.1 - - [04/Oct/2024 11:01:46] \"GET /static/styles.css HTTP/1.1\" 304 -\n",
      "127.0.0.1 - - [04/Oct/2024 11:01:46] \"GET /static/scripts.js HTTP/1.1\" 304 -\n",
      "127.0.0.1 - - [04/Oct/2024 11:01:46] \"GET /static/curve_axis.js HTTP/1.1\" 304 -\n",
      "127.0.0.1 - - [04/Oct/2024 11:01:46] \"GET /sliders HTTP/1.1\" 200 -\n",
      "127.0.0.1 - - [04/Oct/2024 11:01:46] \"GET /recom HTTP/1.1\" 200 -\n",
      "127.0.0.1 - - [04/Oct/2024 11:01:46] \"GET /graph_tree_data HTTP/1.1\" 200 -\n",
      "127.0.0.1 - - [04/Oct/2024 11:01:46] \"GET /static/graph_tree.js HTTP/1.1\" 200 -\n",
      "127.0.0.1 - - [04/Oct/2024 11:01:46] \"GET /tree_data HTTP/1.1\" 200 -\n",
      "127.0.0.1 - - [04/Oct/2024 11:01:50] \"GET / HTTP/1.1\" 200 -\n",
      "127.0.0.1 - - [04/Oct/2024 11:01:50] \"GET /static/styles.css HTTP/1.1\" 304 -\n",
      "127.0.0.1 - - [04/Oct/2024 11:01:50] \"GET /static/scripts.js HTTP/1.1\" 304 -\n",
      "127.0.0.1 - - [04/Oct/2024 11:01:50] \"GET /static/curve_axis.js HTTP/1.1\" 304 -\n",
      "127.0.0.1 - - [04/Oct/2024 11:01:50] \"GET /static/graph_tree.js HTTP/1.1\" 304 -\n",
      "127.0.0.1 - - [04/Oct/2024 11:01:50] \"GET /sliders HTTP/1.1\" 200 -\n",
      "127.0.0.1 - - [04/Oct/2024 11:01:50] \"GET /recom HTTP/1.1\" 200 -\n",
      "127.0.0.1 - - [04/Oct/2024 11:01:50] \"GET /graph_tree_data HTTP/1.1\" 200 -\n",
      "127.0.0.1 - - [04/Oct/2024 11:01:50] \"GET /tree_data HTTP/1.1\" 200 -\n",
      "127.0.0.1 - - [04/Oct/2024 11:02:02] \"POST /graph_tree_circle_click HTTP/1.1\" 200 -\n"
     ]
    },
    {
     "name": "stdout",
     "output_type": "stream",
     "text": [
      "80\n",
      "reflection_node: 11 at lv up: 2\n",
      "generate cos sim, ecul dist, and nodes sorted by cos sim\n"
     ]
    },
    {
     "name": "stderr",
     "output_type": "stream",
     "text": [
      "127.0.0.1 - - [04/Oct/2024 11:02:02] \"GET / HTTP/1.1\" 200 -\n",
      "127.0.0.1 - - [04/Oct/2024 11:02:02] \"GET /static/styles.css HTTP/1.1\" 304 -\n",
      "127.0.0.1 - - [04/Oct/2024 11:02:03] \"GET /static/scripts.js HTTP/1.1\" 304 -\n",
      "127.0.0.1 - - [04/Oct/2024 11:02:03] \"GET /static/curve_axis.js HTTP/1.1\" 304 -\n",
      "127.0.0.1 - - [04/Oct/2024 11:02:03] \"GET /static/graph_tree.js HTTP/1.1\" 200 -\n",
      "127.0.0.1 - - [04/Oct/2024 11:02:03] \"GET /sliders HTTP/1.1\" 200 -\n",
      "127.0.0.1 - - [04/Oct/2024 11:02:03] \"GET /recom HTTP/1.1\" 200 -\n",
      "127.0.0.1 - - [04/Oct/2024 11:02:03] \"GET /graph_tree_data HTTP/1.1\" 200 -\n",
      "127.0.0.1 - - [04/Oct/2024 11:02:03] \"GET /tree_data HTTP/1.1\" 200 -\n",
      "127.0.0.1 - - [04/Oct/2024 11:02:19] \"GET / HTTP/1.1\" 200 -\n",
      "127.0.0.1 - - [04/Oct/2024 11:02:19] \"GET /static/styles.css HTTP/1.1\" 304 -\n",
      "127.0.0.1 - - [04/Oct/2024 11:02:19] \"GET /static/scripts.js HTTP/1.1\" 304 -\n",
      "127.0.0.1 - - [04/Oct/2024 11:02:19] \"GET /static/curve_axis.js HTTP/1.1\" 304 -\n",
      "127.0.0.1 - - [04/Oct/2024 11:02:19] \"GET /static/graph_tree.js HTTP/1.1\" 200 -\n",
      "127.0.0.1 - - [04/Oct/2024 11:02:19] \"GET /sliders HTTP/1.1\" 200 -\n",
      "127.0.0.1 - - [04/Oct/2024 11:02:19] \"GET /recom HTTP/1.1\" 200 -\n",
      "127.0.0.1 - - [04/Oct/2024 11:02:19] \"GET /graph_tree_data HTTP/1.1\" 200 -\n",
      "127.0.0.1 - - [04/Oct/2024 11:02:19] \"GET /tree_data HTTP/1.1\" 200 -\n",
      "127.0.0.1 - - [04/Oct/2024 11:02:49] \"GET / HTTP/1.1\" 200 -\n",
      "127.0.0.1 - - [04/Oct/2024 11:02:49] \"GET /static/styles.css HTTP/1.1\" 304 -\n",
      "127.0.0.1 - - [04/Oct/2024 11:02:49] \"GET /static/scripts.js HTTP/1.1\" 304 -\n",
      "127.0.0.1 - - [04/Oct/2024 11:02:49] \"GET /static/curve_axis.js HTTP/1.1\" 304 -\n",
      "127.0.0.1 - - [04/Oct/2024 11:02:49] \"GET /static/graph_tree.js HTTP/1.1\" 200 -\n",
      "127.0.0.1 - - [04/Oct/2024 11:02:49] \"GET /sliders HTTP/1.1\" 200 -\n",
      "127.0.0.1 - - [04/Oct/2024 11:02:49] \"GET /recom HTTP/1.1\" 200 -\n",
      "127.0.0.1 - - [04/Oct/2024 11:02:49] \"GET /graph_tree_data HTTP/1.1\" 200 -\n",
      "127.0.0.1 - - [04/Oct/2024 11:02:49] \"GET /tree_data HTTP/1.1\" 200 -\n",
      "127.0.0.1 - - [04/Oct/2024 11:02:59] \"GET / HTTP/1.1\" 200 -\n",
      "127.0.0.1 - - [04/Oct/2024 11:02:59] \"GET /static/styles.css HTTP/1.1\" 304 -\n",
      "127.0.0.1 - - [04/Oct/2024 11:02:59] \"GET /static/scripts.js HTTP/1.1\" 304 -\n",
      "127.0.0.1 - - [04/Oct/2024 11:02:59] \"GET /static/curve_axis.js HTTP/1.1\" 304 -\n",
      "127.0.0.1 - - [04/Oct/2024 11:02:59] \"GET /static/graph_tree.js HTTP/1.1\" 200 -\n",
      "127.0.0.1 - - [04/Oct/2024 11:02:59] \"GET /sliders HTTP/1.1\" 200 -\n",
      "127.0.0.1 - - [04/Oct/2024 11:02:59] \"GET /recom HTTP/1.1\" 200 -\n",
      "127.0.0.1 - - [04/Oct/2024 11:02:59] \"GET /graph_tree_data HTTP/1.1\" 200 -\n",
      "127.0.0.1 - - [04/Oct/2024 11:02:59] \"GET /tree_data HTTP/1.1\" 200 -\n",
      "127.0.0.1 - - [04/Oct/2024 11:03:09] \"GET / HTTP/1.1\" 200 -\n",
      "127.0.0.1 - - [04/Oct/2024 11:03:09] \"GET /static/styles.css HTTP/1.1\" 304 -\n",
      "127.0.0.1 - - [04/Oct/2024 11:03:09] \"GET /static/scripts.js HTTP/1.1\" 304 -\n",
      "127.0.0.1 - - [04/Oct/2024 11:03:09] \"GET /static/curve_axis.js HTTP/1.1\" 304 -\n",
      "127.0.0.1 - - [04/Oct/2024 11:03:09] \"GET /static/graph_tree.js HTTP/1.1\" 200 -\n",
      "127.0.0.1 - - [04/Oct/2024 11:03:09] \"GET /sliders HTTP/1.1\" 200 -\n",
      "127.0.0.1 - - [04/Oct/2024 11:03:09] \"GET /recom HTTP/1.1\" 200 -\n",
      "127.0.0.1 - - [04/Oct/2024 11:03:09] \"GET /graph_tree_data HTTP/1.1\" 200 -\n",
      "127.0.0.1 - - [04/Oct/2024 11:03:09] \"GET /tree_data HTTP/1.1\" 200 -\n",
      "127.0.0.1 - - [04/Oct/2024 11:03:26] \"GET / HTTP/1.1\" 200 -\n",
      "127.0.0.1 - - [04/Oct/2024 11:03:26] \"GET /static/styles.css HTTP/1.1\" 304 -\n",
      "127.0.0.1 - - [04/Oct/2024 11:03:26] \"GET /static/scripts.js HTTP/1.1\" 304 -\n",
      "127.0.0.1 - - [04/Oct/2024 11:03:26] \"GET /static/curve_axis.js HTTP/1.1\" 304 -\n",
      "127.0.0.1 - - [04/Oct/2024 11:03:26] \"GET /static/graph_tree.js HTTP/1.1\" 200 -\n",
      "127.0.0.1 - - [04/Oct/2024 11:03:26] \"GET /sliders HTTP/1.1\" 200 -\n",
      "127.0.0.1 - - [04/Oct/2024 11:03:26] \"GET /graph_tree_data HTTP/1.1\" 200 -\n",
      "127.0.0.1 - - [04/Oct/2024 11:03:26] \"GET /tree_data HTTP/1.1\" 200 -\n",
      "127.0.0.1 - - [04/Oct/2024 11:03:26] \"GET /recom HTTP/1.1\" 200 -\n",
      "127.0.0.1 - - [04/Oct/2024 11:03:54] \"GET / HTTP/1.1\" 200 -\n",
      "127.0.0.1 - - [04/Oct/2024 11:03:54] \"GET /static/styles.css HTTP/1.1\" 304 -\n",
      "127.0.0.1 - - [04/Oct/2024 11:03:54] \"GET /static/scripts.js HTTP/1.1\" 304 -\n",
      "127.0.0.1 - - [04/Oct/2024 11:03:54] \"GET /static/curve_axis.js HTTP/1.1\" 304 -\n",
      "127.0.0.1 - - [04/Oct/2024 11:03:54] \"GET /static/graph_tree.js HTTP/1.1\" 200 -\n",
      "127.0.0.1 - - [04/Oct/2024 11:03:54] \"GET /sliders HTTP/1.1\" 200 -\n",
      "127.0.0.1 - - [04/Oct/2024 11:03:54] \"GET /recom HTTP/1.1\" 200 -\n",
      "127.0.0.1 - - [04/Oct/2024 11:03:54] \"GET /graph_tree_data HTTP/1.1\" 200 -\n",
      "127.0.0.1 - - [04/Oct/2024 11:03:54] \"GET /tree_data HTTP/1.1\" 200 -\n",
      "127.0.0.1 - - [04/Oct/2024 11:04:49] \"GET / HTTP/1.1\" 200 -\n",
      "127.0.0.1 - - [04/Oct/2024 11:04:49] \"GET /static/styles.css HTTP/1.1\" 304 -\n",
      "127.0.0.1 - - [04/Oct/2024 11:04:49] \"GET /static/scripts.js HTTP/1.1\" 304 -\n",
      "127.0.0.1 - - [04/Oct/2024 11:04:49] \"GET /static/curve_axis.js HTTP/1.1\" 304 -\n",
      "127.0.0.1 - - [04/Oct/2024 11:04:49] \"GET /static/graph_tree.js HTTP/1.1\" 200 -\n",
      "127.0.0.1 - - [04/Oct/2024 11:04:49] \"GET /sliders HTTP/1.1\" 200 -\n",
      "127.0.0.1 - - [04/Oct/2024 11:04:49] \"GET /recom HTTP/1.1\" 200 -\n",
      "127.0.0.1 - - [04/Oct/2024 11:04:49] \"GET /graph_tree_data HTTP/1.1\" 200 -\n",
      "127.0.0.1 - - [04/Oct/2024 11:04:49] \"GET /tree_data HTTP/1.1\" 200 -\n",
      "[2024-10-04 11:04:52,412] ERROR in app: Exception on /graph_tree_circle_click [POST]\n",
      "Traceback (most recent call last):\n",
      "  File \"C:\\Users\\lst74\\AppData\\Roaming\\Python\\Python312\\site-packages\\flask\\app.py\", line 1473, in wsgi_app\n",
      "    response = self.full_dispatch_request()\n",
      "               ^^^^^^^^^^^^^^^^^^^^^^^^^^^^\n",
      "  File \"C:\\Users\\lst74\\AppData\\Roaming\\Python\\Python312\\site-packages\\flask\\app.py\", line 882, in full_dispatch_request\n",
      "    rv = self.handle_user_exception(e)\n",
      "         ^^^^^^^^^^^^^^^^^^^^^^^^^^^^^\n",
      "  File \"C:\\Users\\lst74\\AppData\\Roaming\\Python\\Python312\\site-packages\\flask\\app.py\", line 880, in full_dispatch_request\n",
      "    rv = self.dispatch_request()\n",
      "         ^^^^^^^^^^^^^^^^^^^^^^^\n",
      "  File \"C:\\Users\\lst74\\AppData\\Roaming\\Python\\Python312\\site-packages\\flask\\app.py\", line 865, in dispatch_request\n",
      "    return self.ensure_sync(self.view_functions[rule.endpoint])(**view_args)  # type: ignore[no-any-return]\n",
      "           ^^^^^^^^^^^^^^^^^^^^^^^^^^^^^^^^^^^^^^^^^^^^^^^^^^^^^^^^^^^^^^^^^\n",
      "  File \"C:\\Users\\lst74\\AppData\\Local\\Temp\\ipykernel_11996\\2611694671.py\", line 49, in graph_tree_circle_click\n",
      "    id = int(data.get('id'))\n",
      "         ^^^^^^^^^^^^^^^^^^^\n",
      "TypeError: int() argument must be a string, a bytes-like object or a real number, not 'NoneType'\n",
      "127.0.0.1 - - [04/Oct/2024 11:04:52] \"POST /graph_tree_circle_click HTTP/1.1\" 500 -\n",
      "[2024-10-04 11:04:53,199] ERROR in app: Exception on /graph_tree_circle_click [POST]\n",
      "Traceback (most recent call last):\n",
      "  File \"C:\\Users\\lst74\\AppData\\Roaming\\Python\\Python312\\site-packages\\flask\\app.py\", line 1473, in wsgi_app\n",
      "    response = self.full_dispatch_request()\n",
      "               ^^^^^^^^^^^^^^^^^^^^^^^^^^^^\n",
      "  File \"C:\\Users\\lst74\\AppData\\Roaming\\Python\\Python312\\site-packages\\flask\\app.py\", line 882, in full_dispatch_request\n",
      "    rv = self.handle_user_exception(e)\n",
      "         ^^^^^^^^^^^^^^^^^^^^^^^^^^^^^\n",
      "  File \"C:\\Users\\lst74\\AppData\\Roaming\\Python\\Python312\\site-packages\\flask\\app.py\", line 880, in full_dispatch_request\n",
      "    rv = self.dispatch_request()\n",
      "         ^^^^^^^^^^^^^^^^^^^^^^^\n",
      "  File \"C:\\Users\\lst74\\AppData\\Roaming\\Python\\Python312\\site-packages\\flask\\app.py\", line 865, in dispatch_request\n",
      "    return self.ensure_sync(self.view_functions[rule.endpoint])(**view_args)  # type: ignore[no-any-return]\n",
      "           ^^^^^^^^^^^^^^^^^^^^^^^^^^^^^^^^^^^^^^^^^^^^^^^^^^^^^^^^^^^^^^^^^\n",
      "  File \"C:\\Users\\lst74\\AppData\\Local\\Temp\\ipykernel_11996\\2611694671.py\", line 49, in graph_tree_circle_click\n",
      "    id = int(data.get('id'))\n",
      "         ^^^^^^^^^^^^^^^^^^^\n",
      "TypeError: int() argument must be a string, a bytes-like object or a real number, not 'NoneType'\n",
      "127.0.0.1 - - [04/Oct/2024 11:04:53] \"POST /graph_tree_circle_click HTTP/1.1\" 500 -\n",
      "[2024-10-04 11:04:53,693] ERROR in app: Exception on /graph_tree_circle_click [POST]\n",
      "Traceback (most recent call last):\n",
      "  File \"C:\\Users\\lst74\\AppData\\Roaming\\Python\\Python312\\site-packages\\flask\\app.py\", line 1473, in wsgi_app\n",
      "    response = self.full_dispatch_request()\n",
      "               ^^^^^^^^^^^^^^^^^^^^^^^^^^^^\n",
      "  File \"C:\\Users\\lst74\\AppData\\Roaming\\Python\\Python312\\site-packages\\flask\\app.py\", line 882, in full_dispatch_request\n",
      "    rv = self.handle_user_exception(e)\n",
      "         ^^^^^^^^^^^^^^^^^^^^^^^^^^^^^\n",
      "  File \"C:\\Users\\lst74\\AppData\\Roaming\\Python\\Python312\\site-packages\\flask\\app.py\", line 880, in full_dispatch_request\n",
      "    rv = self.dispatch_request()\n",
      "         ^^^^^^^^^^^^^^^^^^^^^^^\n",
      "  File \"C:\\Users\\lst74\\AppData\\Roaming\\Python\\Python312\\site-packages\\flask\\app.py\", line 865, in dispatch_request\n",
      "    return self.ensure_sync(self.view_functions[rule.endpoint])(**view_args)  # type: ignore[no-any-return]\n",
      "           ^^^^^^^^^^^^^^^^^^^^^^^^^^^^^^^^^^^^^^^^^^^^^^^^^^^^^^^^^^^^^^^^^\n",
      "  File \"C:\\Users\\lst74\\AppData\\Local\\Temp\\ipykernel_11996\\2611694671.py\", line 49, in graph_tree_circle_click\n",
      "    id = int(data.get('id'))\n",
      "         ^^^^^^^^^^^^^^^^^^^\n",
      "TypeError: int() argument must be a string, a bytes-like object or a real number, not 'NoneType'\n",
      "127.0.0.1 - - [04/Oct/2024 11:04:53] \"POST /graph_tree_circle_click HTTP/1.1\" 500 -\n",
      "[2024-10-04 11:04:54,275] ERROR in app: Exception on /graph_tree_circle_click [POST]\n",
      "Traceback (most recent call last):\n",
      "  File \"C:\\Users\\lst74\\AppData\\Roaming\\Python\\Python312\\site-packages\\flask\\app.py\", line 1473, in wsgi_app\n",
      "    response = self.full_dispatch_request()\n",
      "               ^^^^^^^^^^^^^^^^^^^^^^^^^^^^\n",
      "  File \"C:\\Users\\lst74\\AppData\\Roaming\\Python\\Python312\\site-packages\\flask\\app.py\", line 882, in full_dispatch_request\n",
      "    rv = self.handle_user_exception(e)\n",
      "         ^^^^^^^^^^^^^^^^^^^^^^^^^^^^^\n",
      "  File \"C:\\Users\\lst74\\AppData\\Roaming\\Python\\Python312\\site-packages\\flask\\app.py\", line 880, in full_dispatch_request\n",
      "    rv = self.dispatch_request()\n",
      "         ^^^^^^^^^^^^^^^^^^^^^^^\n",
      "  File \"C:\\Users\\lst74\\AppData\\Roaming\\Python\\Python312\\site-packages\\flask\\app.py\", line 865, in dispatch_request\n",
      "    return self.ensure_sync(self.view_functions[rule.endpoint])(**view_args)  # type: ignore[no-any-return]\n",
      "           ^^^^^^^^^^^^^^^^^^^^^^^^^^^^^^^^^^^^^^^^^^^^^^^^^^^^^^^^^^^^^^^^^\n",
      "  File \"C:\\Users\\lst74\\AppData\\Local\\Temp\\ipykernel_11996\\2611694671.py\", line 49, in graph_tree_circle_click\n",
      "    id = int(data.get('id'))\n",
      "         ^^^^^^^^^^^^^^^^^^^\n",
      "TypeError: int() argument must be a string, a bytes-like object or a real number, not 'NoneType'\n",
      "127.0.0.1 - - [04/Oct/2024 11:04:54] \"POST /graph_tree_circle_click HTTP/1.1\" 500 -\n",
      "[2024-10-04 11:04:54,449] ERROR in app: Exception on /graph_tree_circle_click [POST]\n",
      "Traceback (most recent call last):\n",
      "  File \"C:\\Users\\lst74\\AppData\\Roaming\\Python\\Python312\\site-packages\\flask\\app.py\", line 1473, in wsgi_app\n",
      "    response = self.full_dispatch_request()\n",
      "               ^^^^^^^^^^^^^^^^^^^^^^^^^^^^\n",
      "  File \"C:\\Users\\lst74\\AppData\\Roaming\\Python\\Python312\\site-packages\\flask\\app.py\", line 882, in full_dispatch_request\n",
      "    rv = self.handle_user_exception(e)\n",
      "         ^^^^^^^^^^^^^^^^^^^^^^^^^^^^^\n",
      "  File \"C:\\Users\\lst74\\AppData\\Roaming\\Python\\Python312\\site-packages\\flask\\app.py\", line 880, in full_dispatch_request\n",
      "    rv = self.dispatch_request()\n",
      "         ^^^^^^^^^^^^^^^^^^^^^^^\n",
      "  File \"C:\\Users\\lst74\\AppData\\Roaming\\Python\\Python312\\site-packages\\flask\\app.py\", line 865, in dispatch_request\n",
      "    return self.ensure_sync(self.view_functions[rule.endpoint])(**view_args)  # type: ignore[no-any-return]\n",
      "           ^^^^^^^^^^^^^^^^^^^^^^^^^^^^^^^^^^^^^^^^^^^^^^^^^^^^^^^^^^^^^^^^^\n",
      "  File \"C:\\Users\\lst74\\AppData\\Local\\Temp\\ipykernel_11996\\2611694671.py\", line 49, in graph_tree_circle_click\n",
      "    id = int(data.get('id'))\n",
      "         ^^^^^^^^^^^^^^^^^^^\n",
      "TypeError: int() argument must be a string, a bytes-like object or a real number, not 'NoneType'\n",
      "127.0.0.1 - - [04/Oct/2024 11:04:54] \"POST /graph_tree_circle_click HTTP/1.1\" 500 -\n",
      "[2024-10-04 11:04:54,663] ERROR in app: Exception on /graph_tree_circle_click [POST]\n",
      "Traceback (most recent call last):\n",
      "  File \"C:\\Users\\lst74\\AppData\\Roaming\\Python\\Python312\\site-packages\\flask\\app.py\", line 1473, in wsgi_app\n",
      "    response = self.full_dispatch_request()\n",
      "               ^^^^^^^^^^^^^^^^^^^^^^^^^^^^\n",
      "  File \"C:\\Users\\lst74\\AppData\\Roaming\\Python\\Python312\\site-packages\\flask\\app.py\", line 882, in full_dispatch_request\n",
      "    rv = self.handle_user_exception(e)\n",
      "         ^^^^^^^^^^^^^^^^^^^^^^^^^^^^^\n",
      "  File \"C:\\Users\\lst74\\AppData\\Roaming\\Python\\Python312\\site-packages\\flask\\app.py\", line 880, in full_dispatch_request\n",
      "    rv = self.dispatch_request()\n",
      "         ^^^^^^^^^^^^^^^^^^^^^^^\n",
      "  File \"C:\\Users\\lst74\\AppData\\Roaming\\Python\\Python312\\site-packages\\flask\\app.py\", line 865, in dispatch_request\n",
      "    return self.ensure_sync(self.view_functions[rule.endpoint])(**view_args)  # type: ignore[no-any-return]\n",
      "           ^^^^^^^^^^^^^^^^^^^^^^^^^^^^^^^^^^^^^^^^^^^^^^^^^^^^^^^^^^^^^^^^^\n",
      "  File \"C:\\Users\\lst74\\AppData\\Local\\Temp\\ipykernel_11996\\2611694671.py\", line 49, in graph_tree_circle_click\n",
      "    id = int(data.get('id'))\n",
      "         ^^^^^^^^^^^^^^^^^^^\n",
      "TypeError: int() argument must be a string, a bytes-like object or a real number, not 'NoneType'\n",
      "127.0.0.1 - - [04/Oct/2024 11:04:54] \"POST /graph_tree_circle_click HTTP/1.1\" 500 -\n",
      "127.0.0.1 - - [04/Oct/2024 11:05:04] \"GET / HTTP/1.1\" 200 -\n",
      "127.0.0.1 - - [04/Oct/2024 11:05:04] \"GET /static/styles.css HTTP/1.1\" 304 -\n",
      "127.0.0.1 - - [04/Oct/2024 11:05:04] \"GET /static/scripts.js HTTP/1.1\" 304 -\n",
      "127.0.0.1 - - [04/Oct/2024 11:05:04] \"GET /static/curve_axis.js HTTP/1.1\" 304 -\n",
      "127.0.0.1 - - [04/Oct/2024 11:05:04] \"GET /static/graph_tree.js HTTP/1.1\" 200 -\n",
      "127.0.0.1 - - [04/Oct/2024 11:05:04] \"GET /sliders HTTP/1.1\" 200 -\n",
      "127.0.0.1 - - [04/Oct/2024 11:05:04] \"GET /recom HTTP/1.1\" 200 -\n",
      "127.0.0.1 - - [04/Oct/2024 11:05:04] \"GET /graph_tree_data HTTP/1.1\" 200 -\n",
      "127.0.0.1 - - [04/Oct/2024 11:05:04] \"GET /tree_data HTTP/1.1\" 200 -\n",
      "127.0.0.1 - - [04/Oct/2024 11:05:07] \"POST /graph_tree_circle_click HTTP/1.1\" 200 -\n"
     ]
    },
    {
     "name": "stdout",
     "output_type": "stream",
     "text": [
      "80\n",
      "reflection_node: 11 at lv up: 2\n",
      "generate cos sim, ecul dist, and nodes sorted by cos sim\n"
     ]
    },
    {
     "name": "stderr",
     "output_type": "stream",
     "text": [
      "127.0.0.1 - - [04/Oct/2024 11:05:11] \"POST /graph_tree_circle_click HTTP/1.1\" 200 -\n"
     ]
    },
    {
     "name": "stdout",
     "output_type": "stream",
     "text": [
      "75\n",
      "reflection_node: 11 at lv up: 2\n",
      "generate cos sim, ecul dist, and nodes sorted by cos sim\n"
     ]
    },
    {
     "name": "stderr",
     "output_type": "stream",
     "text": [
      "127.0.0.1 - - [04/Oct/2024 11:05:16] \"POST /graph_tree_circle_click HTTP/1.1\" 200 -\n"
     ]
    },
    {
     "name": "stdout",
     "output_type": "stream",
     "text": [
      "80\n",
      "reflection_node: 11 at lv up: 2\n",
      "generate cos sim, ecul dist, and nodes sorted by cos sim\n"
     ]
    },
    {
     "name": "stderr",
     "output_type": "stream",
     "text": [
      "127.0.0.1 - - [04/Oct/2024 11:05:42] \"POST /graph_tree_circle_click HTTP/1.1\" 200 -\n"
     ]
    },
    {
     "name": "stdout",
     "output_type": "stream",
     "text": [
      "86\n",
      "reflection_node: 11 at lv up: 2\n",
      "generate cos sim, ecul dist, and nodes sorted by cos sim\n"
     ]
    },
    {
     "name": "stderr",
     "output_type": "stream",
     "text": [
      "127.0.0.1 - - [04/Oct/2024 11:05:44] \"GET / HTTP/1.1\" 200 -\n",
      "127.0.0.1 - - [04/Oct/2024 11:05:44] \"GET /static/styles.css HTTP/1.1\" 304 -\n",
      "127.0.0.1 - - [04/Oct/2024 11:05:44] \"GET /static/scripts.js HTTP/1.1\" 304 -\n",
      "127.0.0.1 - - [04/Oct/2024 11:05:44] \"GET /static/curve_axis.js HTTP/1.1\" 304 -\n",
      "127.0.0.1 - - [04/Oct/2024 11:05:44] \"GET /static/graph_tree.js HTTP/1.1\" 200 -\n",
      "127.0.0.1 - - [04/Oct/2024 11:05:44] \"GET /sliders HTTP/1.1\" 200 -\n",
      "127.0.0.1 - - [04/Oct/2024 11:05:44] \"GET /recom HTTP/1.1\" 200 -\n",
      "127.0.0.1 - - [04/Oct/2024 11:05:44] \"GET /graph_tree_data HTTP/1.1\" 200 -\n",
      "127.0.0.1 - - [04/Oct/2024 11:05:44] \"GET /tree_data HTTP/1.1\" 200 -\n",
      "127.0.0.1 - - [04/Oct/2024 11:05:47] \"POST /graph_tree_circle_click HTTP/1.1\" 200 -\n"
     ]
    },
    {
     "name": "stdout",
     "output_type": "stream",
     "text": [
      "80\n",
      "reflection_node: 11 at lv up: 2\n",
      "generate cos sim, ecul dist, and nodes sorted by cos sim\n"
     ]
    },
    {
     "name": "stderr",
     "output_type": "stream",
     "text": [
      "127.0.0.1 - - [04/Oct/2024 11:05:52] \"POST /graph_tree_circle_click HTTP/1.1\" 200 -\n"
     ]
    },
    {
     "name": "stdout",
     "output_type": "stream",
     "text": [
      "75\n",
      "reflection_node: 11 at lv up: 2\n",
      "generate cos sim, ecul dist, and nodes sorted by cos sim\n"
     ]
    },
    {
     "name": "stderr",
     "output_type": "stream",
     "text": [
      "127.0.0.1 - - [04/Oct/2024 11:05:58] \"POST /graph_tree_circle_click HTTP/1.1\" 200 -\n"
     ]
    },
    {
     "name": "stdout",
     "output_type": "stream",
     "text": [
      "77\n",
      "reflection_node: 11 at lv up: 2\n",
      "generate cos sim, ecul dist, and nodes sorted by cos sim\n"
     ]
    },
    {
     "name": "stderr",
     "output_type": "stream",
     "text": [
      "127.0.0.1 - - [04/Oct/2024 11:06:02] \"POST /graph_tree_circle_click HTTP/1.1\" 200 -\n"
     ]
    },
    {
     "name": "stdout",
     "output_type": "stream",
     "text": [
      "75\n",
      "reflection_node: 11 at lv up: 2\n",
      "generate cos sim, ecul dist, and nodes sorted by cos sim\n"
     ]
    },
    {
     "name": "stderr",
     "output_type": "stream",
     "text": [
      "127.0.0.1 - - [04/Oct/2024 11:06:21] \"POST /graph_tree_circle_click HTTP/1.1\" 200 -\n"
     ]
    },
    {
     "name": "stdout",
     "output_type": "stream",
     "text": [
      "81\n",
      "reflection_node: 11 at lv up: 2\n",
      "generate cos sim, ecul dist, and nodes sorted by cos sim\n"
     ]
    },
    {
     "name": "stderr",
     "output_type": "stream",
     "text": [
      "127.0.0.1 - - [04/Oct/2024 11:06:25] \"POST /graph_tree_circle_click HTTP/1.1\" 200 -\n"
     ]
    },
    {
     "name": "stdout",
     "output_type": "stream",
     "text": [
      "79\n",
      "reflection_node: 11 at lv up: 2\n",
      "generate cos sim, ecul dist, and nodes sorted by cos sim\n"
     ]
    },
    {
     "name": "stderr",
     "output_type": "stream",
     "text": [
      "127.0.0.1 - - [04/Oct/2024 11:06:29] \"POST /graph_tree_circle_click HTTP/1.1\" 200 -\n"
     ]
    },
    {
     "name": "stdout",
     "output_type": "stream",
     "text": [
      "82\n",
      "reflection_node: 11 at lv up: 2\n",
      "generate cos sim, ecul dist, and nodes sorted by cos sim\n"
     ]
    },
    {
     "name": "stderr",
     "output_type": "stream",
     "text": [
      "127.0.0.1 - - [04/Oct/2024 11:07:02] \"GET / HTTP/1.1\" 200 -\n",
      "127.0.0.1 - - [04/Oct/2024 11:07:02] \"GET /static/styles.css HTTP/1.1\" 304 -\n",
      "127.0.0.1 - - [04/Oct/2024 11:07:02] \"GET /static/scripts.js HTTP/1.1\" 304 -\n",
      "127.0.0.1 - - [04/Oct/2024 11:07:02] \"GET /static/curve_axis.js HTTP/1.1\" 304 -\n",
      "127.0.0.1 - - [04/Oct/2024 11:07:02] \"GET /static/graph_tree.js HTTP/1.1\" 200 -\n",
      "127.0.0.1 - - [04/Oct/2024 11:07:02] \"GET /sliders HTTP/1.1\" 200 -\n",
      "127.0.0.1 - - [04/Oct/2024 11:07:02] \"GET /recom HTTP/1.1\" 200 -\n",
      "127.0.0.1 - - [04/Oct/2024 11:07:02] \"GET /graph_tree_data HTTP/1.1\" 200 -\n",
      "127.0.0.1 - - [04/Oct/2024 11:07:02] \"GET /tree_data HTTP/1.1\" 200 -\n",
      "127.0.0.1 - - [04/Oct/2024 11:07:05] \"POST /graph_tree_circle_click HTTP/1.1\" 200 -\n"
     ]
    },
    {
     "name": "stdout",
     "output_type": "stream",
     "text": [
      "86\n",
      "reflection_node: 11 at lv up: 2\n",
      "generate cos sim, ecul dist, and nodes sorted by cos sim\n"
     ]
    },
    {
     "name": "stderr",
     "output_type": "stream",
     "text": [
      "127.0.0.1 - - [04/Oct/2024 11:07:09] \"POST /graph_tree_circle_click HTTP/1.1\" 200 -\n"
     ]
    },
    {
     "name": "stdout",
     "output_type": "stream",
     "text": [
      "82\n",
      "reflection_node: 11 at lv up: 2\n",
      "generate cos sim, ecul dist, and nodes sorted by cos sim\n"
     ]
    },
    {
     "name": "stderr",
     "output_type": "stream",
     "text": [
      "127.0.0.1 - - [04/Oct/2024 11:07:14] \"POST /graph_tree_circle_click HTTP/1.1\" 200 -\n"
     ]
    },
    {
     "name": "stdout",
     "output_type": "stream",
     "text": [
      "77\n",
      "reflection_node: 11 at lv up: 2\n",
      "generate cos sim, ecul dist, and nodes sorted by cos sim\n"
     ]
    },
    {
     "name": "stderr",
     "output_type": "stream",
     "text": [
      "127.0.0.1 - - [04/Oct/2024 11:07:19] \"POST /graph_tree_circle_click HTTP/1.1\" 200 -\n"
     ]
    },
    {
     "name": "stdout",
     "output_type": "stream",
     "text": [
      "83\n",
      "reflection_node: 11 at lv up: 2\n",
      "generate cos sim, ecul dist, and nodes sorted by cos sim\n"
     ]
    },
    {
     "name": "stderr",
     "output_type": "stream",
     "text": [
      "127.0.0.1 - - [04/Oct/2024 11:07:23] \"POST /graph_tree_circle_click HTTP/1.1\" 200 -\n"
     ]
    },
    {
     "name": "stdout",
     "output_type": "stream",
     "text": [
      "82\n",
      "reflection_node: 11 at lv up: 2\n",
      "generate cos sim, ecul dist, and nodes sorted by cos sim\n"
     ]
    },
    {
     "name": "stderr",
     "output_type": "stream",
     "text": [
      "127.0.0.1 - - [04/Oct/2024 11:07:28] \"POST /graph_tree_circle_click HTTP/1.1\" 200 -\n"
     ]
    },
    {
     "name": "stdout",
     "output_type": "stream",
     "text": [
      "83\n",
      "reflection_node: 11 at lv up: 2\n",
      "generate cos sim, ecul dist, and nodes sorted by cos sim\n"
     ]
    },
    {
     "name": "stderr",
     "output_type": "stream",
     "text": [
      "127.0.0.1 - - [04/Oct/2024 11:08:43] \"GET / HTTP/1.1\" 200 -\n",
      "127.0.0.1 - - [04/Oct/2024 11:08:43] \"GET /static/styles.css HTTP/1.1\" 304 -\n",
      "127.0.0.1 - - [04/Oct/2024 11:08:43] \"GET /static/scripts.js HTTP/1.1\" 304 -\n",
      "127.0.0.1 - - [04/Oct/2024 11:08:43] \"GET /static/curve_axis.js HTTP/1.1\" 304 -\n",
      "127.0.0.1 - - [04/Oct/2024 11:08:43] \"GET /static/graph_tree.js HTTP/1.1\" 200 -\n",
      "127.0.0.1 - - [04/Oct/2024 11:08:43] \"GET /sliders HTTP/1.1\" 200 -\n",
      "127.0.0.1 - - [04/Oct/2024 11:08:43] \"GET /recom HTTP/1.1\" 200 -\n",
      "127.0.0.1 - - [04/Oct/2024 11:08:43] \"GET /graph_tree_data HTTP/1.1\" 200 -\n",
      "127.0.0.1 - - [04/Oct/2024 11:08:43] \"GET /tree_data HTTP/1.1\" 200 -\n",
      "127.0.0.1 - - [04/Oct/2024 11:08:46] \"POST /graph_tree_circle_click HTTP/1.1\" 200 -\n"
     ]
    },
    {
     "name": "stdout",
     "output_type": "stream",
     "text": [
      "86\n",
      "reflection_node: 11 at lv up: 2\n",
      "generate cos sim, ecul dist, and nodes sorted by cos sim\n"
     ]
    },
    {
     "name": "stderr",
     "output_type": "stream",
     "text": [
      "127.0.0.1 - - [04/Oct/2024 11:08:52] \"POST /graph_tree_circle_click HTTP/1.1\" 200 -\n"
     ]
    },
    {
     "name": "stdout",
     "output_type": "stream",
     "text": [
      "83\n",
      "reflection_node: 11 at lv up: 2\n",
      "generate cos sim, ecul dist, and nodes sorted by cos sim\n"
     ]
    },
    {
     "name": "stderr",
     "output_type": "stream",
     "text": [
      "127.0.0.1 - - [04/Oct/2024 11:08:59] \"POST /graph_tree_circle_click HTTP/1.1\" 200 -\n"
     ]
    },
    {
     "name": "stdout",
     "output_type": "stream",
     "text": [
      "80\n",
      "reflection_node: 11 at lv up: 2\n",
      "generate cos sim, ecul dist, and nodes sorted by cos sim\n"
     ]
    },
    {
     "name": "stderr",
     "output_type": "stream",
     "text": [
      "127.0.0.1 - - [04/Oct/2024 11:09:06] \"GET / HTTP/1.1\" 200 -\n",
      "127.0.0.1 - - [04/Oct/2024 11:09:06] \"GET /static/styles.css HTTP/1.1\" 304 -\n",
      "127.0.0.1 - - [04/Oct/2024 11:09:06] \"GET /static/scripts.js HTTP/1.1\" 304 -\n",
      "127.0.0.1 - - [04/Oct/2024 11:09:06] \"GET /static/curve_axis.js HTTP/1.1\" 304 -\n",
      "127.0.0.1 - - [04/Oct/2024 11:09:06] \"GET /static/graph_tree.js HTTP/1.1\" 304 -\n",
      "127.0.0.1 - - [04/Oct/2024 11:09:06] \"GET /sliders HTTP/1.1\" 200 -\n",
      "127.0.0.1 - - [04/Oct/2024 11:09:06] \"GET /recom HTTP/1.1\" 200 -\n",
      "127.0.0.1 - - [04/Oct/2024 11:09:06] \"GET /graph_tree_data HTTP/1.1\" 200 -\n",
      "127.0.0.1 - - [04/Oct/2024 11:09:06] \"GET /tree_data HTTP/1.1\" 200 -\n",
      "127.0.0.1 - - [04/Oct/2024 11:09:09] \"POST /graph_tree_circle_click HTTP/1.1\" 200 -\n"
     ]
    },
    {
     "name": "stdout",
     "output_type": "stream",
     "text": [
      "86\n",
      "reflection_node: 11 at lv up: 2\n",
      "generate cos sim, ecul dist, and nodes sorted by cos sim\n"
     ]
    },
    {
     "name": "stderr",
     "output_type": "stream",
     "text": [
      "127.0.0.1 - - [04/Oct/2024 11:09:15] \"POST /graph_tree_circle_click HTTP/1.1\" 200 -\n"
     ]
    },
    {
     "name": "stdout",
     "output_type": "stream",
     "text": [
      "82\n",
      "reflection_node: 11 at lv up: 2\n",
      "generate cos sim, ecul dist, and nodes sorted by cos sim\n"
     ]
    },
    {
     "name": "stderr",
     "output_type": "stream",
     "text": [
      "127.0.0.1 - - [04/Oct/2024 11:09:22] \"POST /graph_tree_circle_click HTTP/1.1\" 200 -\n"
     ]
    },
    {
     "name": "stdout",
     "output_type": "stream",
     "text": [
      "83\n",
      "reflection_node: 11 at lv up: 2\n",
      "generate cos sim, ecul dist, and nodes sorted by cos sim\n"
     ]
    },
    {
     "name": "stderr",
     "output_type": "stream",
     "text": [
      "127.0.0.1 - - [04/Oct/2024 11:09:26] \"POST /graph_tree_circle_click HTTP/1.1\" 200 -\n"
     ]
    },
    {
     "name": "stdout",
     "output_type": "stream",
     "text": [
      "80\n",
      "reflection_node: 11 at lv up: 2\n",
      "generate cos sim, ecul dist, and nodes sorted by cos sim\n"
     ]
    },
    {
     "name": "stderr",
     "output_type": "stream",
     "text": [
      "127.0.0.1 - - [04/Oct/2024 11:09:33] \"POST /graph_tree_circle_click HTTP/1.1\" 200 -\n"
     ]
    },
    {
     "name": "stdout",
     "output_type": "stream",
     "text": [
      "81\n",
      "reflection_node: 11 at lv up: 2\n",
      "generate cos sim, ecul dist, and nodes sorted by cos sim\n"
     ]
    },
    {
     "name": "stderr",
     "output_type": "stream",
     "text": [
      "127.0.0.1 - - [04/Oct/2024 11:09:37] \"POST /graph_tree_circle_click HTTP/1.1\" 200 -\n"
     ]
    },
    {
     "name": "stdout",
     "output_type": "stream",
     "text": [
      "82\n",
      "reflection_node: 11 at lv up: 2\n",
      "generate cos sim, ecul dist, and nodes sorted by cos sim\n"
     ]
    },
    {
     "name": "stderr",
     "output_type": "stream",
     "text": [
      "127.0.0.1 - - [04/Oct/2024 11:12:14] \"GET / HTTP/1.1\" 200 -\n",
      "127.0.0.1 - - [04/Oct/2024 11:12:14] \"GET /static/styles.css HTTP/1.1\" 304 -\n",
      "127.0.0.1 - - [04/Oct/2024 11:12:14] \"GET /static/scripts.js HTTP/1.1\" 304 -\n",
      "127.0.0.1 - - [04/Oct/2024 11:12:14] \"GET /static/curve_axis.js HTTP/1.1\" 304 -\n",
      "127.0.0.1 - - [04/Oct/2024 11:12:14] \"GET /static/graph_tree.js HTTP/1.1\" 200 -\n",
      "127.0.0.1 - - [04/Oct/2024 11:12:14] \"GET /sliders HTTP/1.1\" 200 -\n",
      "127.0.0.1 - - [04/Oct/2024 11:12:14] \"GET /recom HTTP/1.1\" 200 -\n",
      "127.0.0.1 - - [04/Oct/2024 11:12:14] \"GET /graph_tree_data HTTP/1.1\" 200 -\n",
      "127.0.0.1 - - [04/Oct/2024 11:12:14] \"GET /tree_data HTTP/1.1\" 200 -\n",
      "127.0.0.1 - - [04/Oct/2024 11:12:25] \"POST /graph_tree_circle_click HTTP/1.1\" 200 -\n"
     ]
    },
    {
     "name": "stdout",
     "output_type": "stream",
     "text": [
      "86\n",
      "reflection_node: 11 at lv up: 2\n",
      "generate cos sim, ecul dist, and nodes sorted by cos sim\n"
     ]
    },
    {
     "name": "stderr",
     "output_type": "stream",
     "text": [
      "127.0.0.1 - - [04/Oct/2024 11:12:29] \"POST /graph_tree_circle_click HTTP/1.1\" 200 -\n"
     ]
    },
    {
     "name": "stdout",
     "output_type": "stream",
     "text": [
      "80\n",
      "reflection_node: 11 at lv up: 2\n",
      "generate cos sim, ecul dist, and nodes sorted by cos sim\n"
     ]
    },
    {
     "name": "stderr",
     "output_type": "stream",
     "text": [
      "127.0.0.1 - - [04/Oct/2024 11:12:33] \"POST /graph_tree_circle_click HTTP/1.1\" 200 -\n"
     ]
    },
    {
     "name": "stdout",
     "output_type": "stream",
     "text": [
      "86\n",
      "reflection_node: 11 at lv up: 2\n",
      "generate cos sim, ecul dist, and nodes sorted by cos sim\n"
     ]
    },
    {
     "name": "stderr",
     "output_type": "stream",
     "text": [
      "127.0.0.1 - - [04/Oct/2024 11:12:37] \"POST /graph_tree_circle_click HTTP/1.1\" 200 -\n"
     ]
    },
    {
     "name": "stdout",
     "output_type": "stream",
     "text": [
      "75\n",
      "reflection_node: 11 at lv up: 2\n",
      "generate cos sim, ecul dist, and nodes sorted by cos sim\n"
     ]
    },
    {
     "name": "stderr",
     "output_type": "stream",
     "text": [
      "127.0.0.1 - - [04/Oct/2024 11:12:54] \"GET / HTTP/1.1\" 200 -\n",
      "127.0.0.1 - - [04/Oct/2024 11:12:54] \"GET /static/styles.css HTTP/1.1\" 304 -\n",
      "127.0.0.1 - - [04/Oct/2024 11:12:54] \"GET /static/scripts.js HTTP/1.1\" 304 -\n",
      "127.0.0.1 - - [04/Oct/2024 11:12:54] \"GET /static/curve_axis.js HTTP/1.1\" 304 -\n",
      "127.0.0.1 - - [04/Oct/2024 11:12:54] \"GET /static/graph_tree.js HTTP/1.1\" 200 -\n",
      "127.0.0.1 - - [04/Oct/2024 11:12:54] \"GET /sliders HTTP/1.1\" 200 -\n",
      "127.0.0.1 - - [04/Oct/2024 11:12:54] \"GET /recom HTTP/1.1\" 200 -\n",
      "127.0.0.1 - - [04/Oct/2024 11:12:54] \"GET /graph_tree_data HTTP/1.1\" 200 -\n",
      "127.0.0.1 - - [04/Oct/2024 11:12:54] \"GET /tree_data HTTP/1.1\" 200 -\n",
      "127.0.0.1 - - [04/Oct/2024 11:12:57] \"POST /graph_tree_circle_click HTTP/1.1\" 200 -\n"
     ]
    },
    {
     "name": "stdout",
     "output_type": "stream",
     "text": [
      "86\n",
      "reflection_node: 11 at lv up: 2\n",
      "generate cos sim, ecul dist, and nodes sorted by cos sim\n"
     ]
    },
    {
     "name": "stderr",
     "output_type": "stream",
     "text": [
      "127.0.0.1 - - [04/Oct/2024 11:13:01] \"POST /graph_tree_circle_click HTTP/1.1\" 200 -\n"
     ]
    },
    {
     "name": "stdout",
     "output_type": "stream",
     "text": [
      "83\n",
      "reflection_node: 11 at lv up: 2\n",
      "generate cos sim, ecul dist, and nodes sorted by cos sim\n"
     ]
    },
    {
     "name": "stderr",
     "output_type": "stream",
     "text": [
      "127.0.0.1 - - [04/Oct/2024 11:13:23] \"POST /graph_tree_circle_click HTTP/1.1\" 200 -\n"
     ]
    },
    {
     "name": "stdout",
     "output_type": "stream",
     "text": [
      "81\n",
      "reflection_node: 11 at lv up: 2\n",
      "generate cos sim, ecul dist, and nodes sorted by cos sim\n"
     ]
    },
    {
     "name": "stderr",
     "output_type": "stream",
     "text": [
      "127.0.0.1 - - [04/Oct/2024 11:13:27] \"POST /graph_tree_circle_click HTTP/1.1\" 200 -\n"
     ]
    },
    {
     "name": "stdout",
     "output_type": "stream",
     "text": [
      "78\n",
      "reflection_node: 11 at lv up: 2\n",
      "generate cos sim, ecul dist, and nodes sorted by cos sim\n"
     ]
    },
    {
     "name": "stderr",
     "output_type": "stream",
     "text": [
      "127.0.0.1 - - [04/Oct/2024 11:13:34] \"POST /graph_tree_circle_click HTTP/1.1\" 200 -\n"
     ]
    },
    {
     "name": "stdout",
     "output_type": "stream",
     "text": [
      "86\n",
      "reflection_node: 11 at lv up: 2\n",
      "generate cos sim, ecul dist, and nodes sorted by cos sim\n"
     ]
    },
    {
     "name": "stderr",
     "output_type": "stream",
     "text": [
      "127.0.0.1 - - [04/Oct/2024 11:13:37] \"POST /graph_tree_circle_click HTTP/1.1\" 200 -\n"
     ]
    },
    {
     "name": "stdout",
     "output_type": "stream",
     "text": [
      "80\n",
      "reflection_node: 11 at lv up: 2\n",
      "generate cos sim, ecul dist, and nodes sorted by cos sim\n"
     ]
    },
    {
     "name": "stderr",
     "output_type": "stream",
     "text": [
      "127.0.0.1 - - [04/Oct/2024 11:13:42] \"POST /graph_tree_circle_click HTTP/1.1\" 200 -\n"
     ]
    },
    {
     "name": "stdout",
     "output_type": "stream",
     "text": [
      "79\n",
      "reflection_node: 11 at lv up: 2\n",
      "generate cos sim, ecul dist, and nodes sorted by cos sim\n"
     ]
    }
   ],
   "source": [
    "from flask import Flask, render_template, request, jsonify\n",
    "\n",
    "app = Flask(__name__)\n",
    "\n",
    "@app.route('/')\n",
    "def index():\n",
    "    return render_template('index.html')\n",
    "\n",
    "# slider ####################################################################\n",
    "@app.route('/sliders')\n",
    "def sliders():\n",
    "    return jsonify(sliders_data)\n",
    "\n",
    "@app.route('/handle_slider', methods=['POST'])\n",
    "def submit_slider_values():\n",
    "    data = request.json\n",
    "    print('Received slider values:', data)\n",
    "    query = np.array([float(val) for val in data.values()])\n",
    "    cur = gt.search(query)\n",
    "    graph_tree_data = gt.get_neighbour_cluster_data(cur.id)\n",
    "    # Process the data as needed\n",
    "    return jsonify({'status': 'slider respon success', 'graph_tree_data': graph_tree_data})\n",
    "# slider end ################################################################\n",
    "\n",
    "# recom ####################################################################\n",
    "@app.route('/recom')\n",
    "def recom():\n",
    "    return jsonify(recom_data)\n",
    "\n",
    "@app.route('/handle_recom', methods=['POST'])\n",
    "def handle_recom():\n",
    "    data = request.json\n",
    "    button_id = int(data.get('buttonId'))\n",
    "    val = int(data.get('val'))\n",
    "    # print(button_id, val)\n",
    "    moved_node = gt.recom[button_id][val]\n",
    "    graph_tree_data = gt.get_neighbour_cluster_data(moved_node.id)\n",
    "    # print(graph_tree_data)\n",
    "    return jsonify({'status': 'recom respon success', 'buttonId': button_id, 'val': val, \"graph_tree_data\": graph_tree_data})\n",
    "# recom end ####################################################################\n",
    "\n",
    "@app.route('/graph_tree_data')\n",
    "def graph():\n",
    "    return jsonify(graph_tree_data)\n",
    "\n",
    "@app.route('/graph_tree_circle_click', methods=['POST'])\n",
    "def graph_tree_circle_click():\n",
    "    data = request.json\n",
    "    id = int(data.get('id'))\n",
    "    print(id)\n",
    "    graph_tree_data = gt.get_neighbour_cluster_data(id)\n",
    "    return jsonify({'status': 'graph_tree_circle_click respon success', 'id': id, \"graph_tree_data\": graph_tree_data})\n",
    "\n",
    "\n",
    "@app.route('/tree_data')\n",
    "def tree():\n",
    "    return jsonify(tree_data)\n",
    "\n",
    "if __name__ == '__main__':\n",
    "    app.run(port=8123)\n"
   ]
  }
 ],
 "metadata": {
  "kernelspec": {
   "display_name": "Python 3",
   "language": "python",
   "name": "python3"
  },
  "language_info": {
   "codemirror_mode": {
    "name": "ipython",
    "version": 3
   },
   "file_extension": ".py",
   "mimetype": "text/x-python",
   "name": "python",
   "nbconvert_exporter": "python",
   "pygments_lexer": "ipython3",
   "version": "3.12.5"
  }
 },
 "nbformat": 4,
 "nbformat_minor": 2
}
