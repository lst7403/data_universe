{
 "cells": [
  {
   "cell_type": "code",
   "execution_count": 1,
   "metadata": {},
   "outputs": [],
   "source": [
    "# load class of structure\n",
    "from graph_tree_module import node, sim, graph_tree\n"
   ]
  },
  {
   "cell_type": "code",
   "execution_count": 2,
   "metadata": {},
   "outputs": [
    {
     "name": "stdout",
     "output_type": "stream",
     "text": [
      "<graph_tree_module.graph_tree object at 0x000002747A3CFC20>\n",
      "[0.44017957 0.51780136 0.65391656 0.44026177 0.75100433 1.\n",
      " 0.05753974 0.25911434 0.13463644 0.18605759 0.47602233 0.48493261\n",
      " 0.13730071 0.72769953]\n"
     ]
    }
   ],
   "source": [
    "# load pre construct data\n",
    "import pickle\n",
    "\n",
    "# Open the file in binary read mode and load the object\n",
    "with open(\"graph_tree.pkl\", \"rb\") as file:\n",
    "    gt = pickle.load(file)\n",
    "\n",
    "print(gt)\n",
    "print(gt.root.down_lv[0].center)"
   ]
  },
  {
   "cell_type": "code",
   "execution_count": 3,
   "metadata": {},
   "outputs": [
    {
     "data": {
      "text/plain": [
       "['Popularity',\n",
       " 'danceability',\n",
       " 'energy',\n",
       " 'key',\n",
       " 'loudness',\n",
       " 'mode',\n",
       " 'speechiness',\n",
       " 'acousticness',\n",
       " 'instrumentalness',\n",
       " 'liveness',\n",
       " 'valence',\n",
       " 'tempo',\n",
       " 'duration_in min/ms',\n",
       " 'time_signature']"
      ]
     },
     "execution_count": 3,
     "metadata": {},
     "output_type": "execute_result"
    }
   ],
   "source": [
    "gt.attr_name"
   ]
  },
  {
   "cell_type": "code",
   "execution_count": 4,
   "metadata": {},
   "outputs": [],
   "source": [
    "sliders_data = [{\"id\": data.attr_name[i], \"min\": data.X_maxmin[1][i], \"max\": data.X_maxmin[0][i], \"value\": data.root.center[i], \"type\": \"f\"} for i in range(len(data.attr_name))]\n",
    "print(sliders_data)"
   ]
  },
  {
   "cell_type": "code",
   "execution_count": 5,
   "metadata": {},
   "outputs": [
    {
     "name": "stdout",
     "output_type": "stream",
     "text": [
      " * Serving Flask app '__main__'\n",
      " * Debug mode: off\n"
     ]
    },
    {
     "name": "stderr",
     "output_type": "stream",
     "text": [
      "WARNING: This is a development server. Do not use it in a production deployment. Use a production WSGI server instead.\n",
      " * Running on http://127.0.0.1:8123\n",
      "Press CTRL+C to quit\n",
      "127.0.0.1 - - [30/Aug/2024 00:13:25] \"GET / HTTP/1.1\" 200 -\n",
      "127.0.0.1 - - [30/Aug/2024 00:13:25] \"GET /static/styles.css HTTP/1.1\" 304 -\n",
      "127.0.0.1 - - [30/Aug/2024 00:13:25] \"GET /static/scripts.js HTTP/1.1\" 304 -\n",
      "127.0.0.1 - - [30/Aug/2024 00:13:25] \"GET /graph-data HTTP/1.1\" 200 -\n",
      "[2024-08-30 00:13:25,429] ERROR in app: Exception on /sliders [GET]\n",
      "Traceback (most recent call last):\n",
      "  File \"C:\\Users\\lst74\\AppData\\Roaming\\Python\\Python312\\site-packages\\flask\\app.py\", line 1473, in wsgi_app\n",
      "    response = self.full_dispatch_request()\n",
      "               ^^^^^^^^^^^^^^^^^^^^^^^^^^^^\n",
      "  File \"C:\\Users\\lst74\\AppData\\Roaming\\Python\\Python312\\site-packages\\flask\\app.py\", line 882, in full_dispatch_request\n",
      "    rv = self.handle_user_exception(e)\n",
      "         ^^^^^^^^^^^^^^^^^^^^^^^^^^^^^\n",
      "  File \"C:\\Users\\lst74\\AppData\\Roaming\\Python\\Python312\\site-packages\\flask\\app.py\", line 880, in full_dispatch_request\n",
      "    rv = self.dispatch_request()\n",
      "         ^^^^^^^^^^^^^^^^^^^^^^^\n",
      "  File \"C:\\Users\\lst74\\AppData\\Roaming\\Python\\Python312\\site-packages\\flask\\app.py\", line 865, in dispatch_request\n",
      "    return self.ensure_sync(self.view_functions[rule.endpoint])(**view_args)  # type: ignore[no-any-return]\n",
      "           ^^^^^^^^^^^^^^^^^^^^^^^^^^^^^^^^^^^^^^^^^^^^^^^^^^^^^^^^^^^^^^^^^\n",
      "TypeError: sliders() missing 1 required positional argument: 'data'\n",
      "127.0.0.1 - - [30/Aug/2024 00:13:25] \"GET /tree-data HTTP/1.1\" 200 -\n",
      "127.0.0.1 - - [30/Aug/2024 00:13:25] \"GET /sliders HTTP/1.1\" 500 -\n"
     ]
    }
   ],
   "source": [
    "from flask import Flask, render_template, request, jsonify\n",
    "\n",
    "app = Flask(__name__)\n",
    "\n",
    "@app.route('/')\n",
    "def index():\n",
    "    return render_template('index.html')\n",
    "\n",
    "# slider ####################################################################\n",
    "@app.route('/sliders')\n",
    "def sliders(data):\n",
    "    return jsonify(sliders_data)\n",
    "\n",
    "@app.route('/submit', methods=['POST'])\n",
    "def submit_slider_values():\n",
    "    data = request.json\n",
    "    print('Received slider values:', data)\n",
    "    # Process the data as needed\n",
    "    return jsonify({'status': 'success', 'received': data})\n",
    "# slider end ####################################################################\n",
    "\n",
    "@app.route('/graph-data')\n",
    "def data():\n",
    "    nodes = [\n",
    "        {\"id\": \"center\", \"x\": 300, \"y\": 200, \"info\": \"Center Node\", \"color\": \"red\"},\n",
    "        {\"id\": \"left\", \"x\": 150, \"y\": 200, \"info\": \"Left Node\", \"color\": \"green\"},\n",
    "        {\"id\": \"top\", \"x\": 300, \"y\": 100, \"info\": \"Top Node\", \"color\": \"pink\"},\n",
    "        {\"id\": \"right1\", \"x\": 450, \"y\": 250, \"info\": \"Right Node 1\", \"color\": \"blue\"},\n",
    "        {\"id\": \"right2\", \"x\": 550, \"y\": 200, \"info\": \"Right Node 2\", \"color\": \"blue\"},\n",
    "        {\"id\": \"bottom1\", \"x\": 300, \"y\": 300, \"info\": \"Bottom Node 1\", \"color\": \"pink\"},\n",
    "        {\"id\": \"bottom2\", \"x\": 250, \"y\": 350, \"info\": \"Bottom Node 2\", \"color\": \"pink\"},\n",
    "        {\"id\": \"bottom3\", \"x\": 350, \"y\": 350, \"info\": \"Bottom Node 3\", \"color\": \"pink\"}\n",
    "    ]\n",
    "    return jsonify(nodes)\n",
    "\n",
    "@app.route('/tree-data')\n",
    "def tree_data():\n",
    "    tree = {\n",
    "        \"name\": \"Root\",\n",
    "        \"children\": [\n",
    "            {\n",
    "                \"name\": \"Child 1\",\n",
    "                \"children\": [\n",
    "                    {\"name\": \"Grandchild 1\"},\n",
    "                    {\"name\": \"Grandchild 2\"}\n",
    "                ]\n",
    "            },\n",
    "            {\n",
    "                \"name\": \"Child 2\",\n",
    "                \"children\": [\n",
    "                    {\"name\": \"Grandchild 3\"},\n",
    "                    {\"name\": \"Grandchild 4\"}\n",
    "                ]\n",
    "            }\n",
    "        ]\n",
    "    }\n",
    "    return jsonify(tree)\n",
    "\n",
    "if __name__ == '__main__':\n",
    "    app.run(port=8123)\n"
   ]
  }
 ],
 "metadata": {
  "kernelspec": {
   "display_name": "Python 3",
   "language": "python",
   "name": "python3"
  },
  "language_info": {
   "codemirror_mode": {
    "name": "ipython",
    "version": 3
   },
   "file_extension": ".py",
   "mimetype": "text/x-python",
   "name": "python",
   "nbconvert_exporter": "python",
   "pygments_lexer": "ipython3",
   "version": "3.12.5"
  }
 },
 "nbformat": 4,
 "nbformat_minor": 2
}
