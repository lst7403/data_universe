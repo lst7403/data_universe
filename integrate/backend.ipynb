{
 "cells": [
  {
   "cell_type": "code",
   "execution_count": 1,
   "metadata": {},
   "outputs": [],
   "source": [
    "# load module and pre generate data\n",
    "from graph_tree_list_module import *\n",
    "\n",
    "import numpy as np\n",
    "\n",
    "import pickle\n",
    "\n",
    "# Open the file in binary read mode and load the object\n",
    "with open(\"graph_tree.pkl\", \"rb\") as file:\n",
    "    gt = pickle.load(file)\n"
   ]
  },
  {
   "cell_type": "code",
   "execution_count": 2,
   "metadata": {},
   "outputs": [
    {
     "name": "stdout",
     "output_type": "stream",
     "text": [
      "reflection_node: 33 at lv up: 2\n",
      "generate cos sim, ecul dist, and nodes sorted by cos sim\n"
     ]
    }
   ],
   "source": [
    "sliders_data = [{\"id\": gt.attr_name[i], \"min\": gt.X_maxmin[1][i], \"max\": gt.X_maxmin[0][i], \"value\": gt.nodes[0].center[i], \"type\": \"f\"} for i in range(len(gt.attr_name))]\n",
    "# print(sliders_data)\n",
    "\n",
    "recom_data = [{\"i\": i, \"id\": gt.attr_name[i], \"max_val\": gt.recom[i][0].center[i], \"min_val\": gt.recom[i][1].center[i]} for i in range(len(gt.attr_name))]\n",
    "# print(recom_data)\n",
    "\n",
    "graph_tree_data = gt.get_neighbour_cluster_data(node_id = 102)\n",
    "\n",
    "tree_data = {\n",
    "        \"name\": \"Root\",\n",
    "        \"children\": [\n",
    "            {\n",
    "                \"name\": \"Child 1\",\n",
    "                \"children\": [\n",
    "                    {\"name\": \"Grandchild 1\"},\n",
    "                    {\"name\": \"Grandchild 2\"}\n",
    "                ]\n",
    "            },\n",
    "            {\n",
    "                \"name\": \"Child 2\",\n",
    "                \"children\": [\n",
    "                    {\"name\": \"Grandchild 3\"},\n",
    "                    {\"name\": \"Grandchild 4\"}\n",
    "                ]\n",
    "            }\n",
    "        ]\n",
    "    }"
   ]
  },
  {
   "cell_type": "code",
   "execution_count": 3,
   "metadata": {},
   "outputs": [
    {
     "name": "stdout",
     "output_type": "stream",
     "text": [
      " * Serving Flask app '__main__'\n",
      " * Debug mode: off\n"
     ]
    },
    {
     "name": "stderr",
     "output_type": "stream",
     "text": [
      "WARNING: This is a development server. Do not use it in a production deployment. Use a production WSGI server instead.\n",
      " * Running on http://127.0.0.1:8123\n",
      "Press CTRL+C to quit\n",
      "127.0.0.1 - - [06/Oct/2024 14:25:48] \"GET / HTTP/1.1\" 200 -\n",
      "127.0.0.1 - - [06/Oct/2024 14:25:48] \"GET /static/styles.css HTTP/1.1\" 304 -\n",
      "127.0.0.1 - - [06/Oct/2024 14:25:48] \"GET /static/curve_axis.js HTTP/1.1\" 200 -\n",
      "127.0.0.1 - - [06/Oct/2024 14:25:48] \"GET /static/graph_tree.js HTTP/1.1\" 200 -\n",
      "127.0.0.1 - - [06/Oct/2024 14:25:48] \"GET /static/scripts.js HTTP/1.1\" 304 -\n",
      "127.0.0.1 - - [06/Oct/2024 14:25:48] \"GET /static/graph_tree_shared_variable.js HTTP/1.1\" 200 -\n",
      "127.0.0.1 - - [06/Oct/2024 14:25:48] \"GET /recom HTTP/1.1\" 200 -\n",
      "127.0.0.1 - - [06/Oct/2024 14:25:48] \"GET /sliders HTTP/1.1\" 200 -\n",
      "127.0.0.1 - - [06/Oct/2024 14:25:48] \"GET /graph_tree_data HTTP/1.1\" 200 -\n",
      "127.0.0.1 - - [06/Oct/2024 14:25:48] \"GET /tree_data HTTP/1.1\" 200 -\n",
      "127.0.0.1 - - [06/Oct/2024 14:26:02] \"GET /static/styles.css HTTP/1.1\" 304 -\n",
      "127.0.0.1 - - [06/Oct/2024 14:26:04] \"GET / HTTP/1.1\" 200 -\n",
      "127.0.0.1 - - [06/Oct/2024 14:26:04] \"GET /static/styles.css HTTP/1.1\" 304 -\n",
      "127.0.0.1 - - [06/Oct/2024 14:26:04] \"GET /static/graph_tree_shared_variable.js HTTP/1.1\" 304 -\n",
      "127.0.0.1 - - [06/Oct/2024 14:26:04] \"GET /static/curve_axis.js HTTP/1.1\" 304 -\n",
      "127.0.0.1 - - [06/Oct/2024 14:26:04] \"GET /static/graph_tree.js HTTP/1.1\" 304 -\n",
      "127.0.0.1 - - [06/Oct/2024 14:26:04] \"GET /static/scripts.js HTTP/1.1\" 304 -\n",
      "127.0.0.1 - - [06/Oct/2024 14:26:04] \"GET /sliders HTTP/1.1\" 200 -\n",
      "127.0.0.1 - - [06/Oct/2024 14:26:04] \"GET /recom HTTP/1.1\" 200 -\n",
      "127.0.0.1 - - [06/Oct/2024 14:26:04] \"GET /graph_tree_data HTTP/1.1\" 200 -\n",
      "127.0.0.1 - - [06/Oct/2024 14:26:04] \"GET /tree_data HTTP/1.1\" 200 -\n",
      "127.0.0.1 - - [06/Oct/2024 14:26:06] \"POST /graph_tree_circle_click HTTP/1.1\" 200 -\n"
     ]
    },
    {
     "name": "stdout",
     "output_type": "stream",
     "text": [
      "101\n",
      "reflection_node: 33 at lv up: 2\n",
      "generate cos sim, ecul dist, and nodes sorted by cos sim\n"
     ]
    },
    {
     "name": "stderr",
     "output_type": "stream",
     "text": [
      "127.0.0.1 - - [06/Oct/2024 14:26:11] \"POST /graph_tree_circle_click HTTP/1.1\" 200 -\n"
     ]
    },
    {
     "name": "stdout",
     "output_type": "stream",
     "text": [
      "103\n",
      "reflection_node: 33 at lv up: 2\n",
      "generate cos sim, ecul dist, and nodes sorted by cos sim\n"
     ]
    },
    {
     "name": "stderr",
     "output_type": "stream",
     "text": [
      "127.0.0.1 - - [06/Oct/2024 14:26:14] \"POST /graph_tree_circle_click HTTP/1.1\" 200 -\n"
     ]
    },
    {
     "name": "stdout",
     "output_type": "stream",
     "text": [
      "101\n",
      "reflection_node: 33 at lv up: 2\n",
      "generate cos sim, ecul dist, and nodes sorted by cos sim\n"
     ]
    },
    {
     "name": "stderr",
     "output_type": "stream",
     "text": [
      "127.0.0.1 - - [06/Oct/2024 14:26:17] \"POST /graph_tree_circle_click HTTP/1.1\" 200 -\n"
     ]
    },
    {
     "name": "stdout",
     "output_type": "stream",
     "text": [
      "103\n",
      "reflection_node: 33 at lv up: 2\n",
      "generate cos sim, ecul dist, and nodes sorted by cos sim\n"
     ]
    },
    {
     "name": "stderr",
     "output_type": "stream",
     "text": [
      "127.0.0.1 - - [06/Oct/2024 14:26:27] \"POST /graph_tree_circle_click HTTP/1.1\" 200 -\n"
     ]
    },
    {
     "name": "stdout",
     "output_type": "stream",
     "text": [
      "100\n",
      "reflection_node: 33 at lv up: 2\n",
      "generate cos sim, ecul dist, and nodes sorted by cos sim\n"
     ]
    },
    {
     "name": "stderr",
     "output_type": "stream",
     "text": [
      "127.0.0.1 - - [06/Oct/2024 14:26:30] \"POST /graph_tree_circle_click HTTP/1.1\" 200 -\n"
     ]
    },
    {
     "name": "stdout",
     "output_type": "stream",
     "text": [
      "101\n",
      "reflection_node: 33 at lv up: 2\n",
      "generate cos sim, ecul dist, and nodes sorted by cos sim\n"
     ]
    },
    {
     "name": "stderr",
     "output_type": "stream",
     "text": [
      "127.0.0.1 - - [06/Oct/2024 14:26:32] \"POST /graph_tree_circle_click HTTP/1.1\" 200 -\n"
     ]
    },
    {
     "name": "stdout",
     "output_type": "stream",
     "text": [
      "102\n",
      "reflection_node: 33 at lv up: 2\n",
      "generate cos sim, ecul dist, and nodes sorted by cos sim\n",
      "102\n",
      "reflection_node: 33 at lv up: 2\n",
      "generate cos sim, ecul dist, and nodes sorted by cos sim\n"
     ]
    },
    {
     "name": "stderr",
     "output_type": "stream",
     "text": [
      "127.0.0.1 - - [06/Oct/2024 14:26:33] \"POST /graph_tree_circle_click HTTP/1.1\" 200 -\n",
      "127.0.0.1 - - [06/Oct/2024 14:26:33] \"POST /graph_tree_circle_click HTTP/1.1\" 200 -\n",
      "127.0.0.1 - - [06/Oct/2024 14:26:33] \"POST /graph_tree_circle_click HTTP/1.1\" 200 -\n"
     ]
    },
    {
     "name": "stdout",
     "output_type": "stream",
     "text": [
      "102\n",
      "reflection_node: 33 at lv up: 2\n",
      "generate cos sim, ecul dist, and nodes sorted by cos sim\n",
      "102\n",
      "reflection_node: 33 at lv up: 2\n",
      "generate cos sim, ecul dist, and nodes sorted by cos sim\n"
     ]
    },
    {
     "name": "stderr",
     "output_type": "stream",
     "text": [
      "127.0.0.1 - - [06/Oct/2024 14:26:33] \"POST /graph_tree_circle_click HTTP/1.1\" 200 -\n",
      "127.0.0.1 - - [06/Oct/2024 14:26:33] \"POST /graph_tree_circle_click HTTP/1.1\" 200 -\n"
     ]
    },
    {
     "name": "stdout",
     "output_type": "stream",
     "text": [
      "102\n",
      "reflection_node: 33 at lv up: 2\n",
      "generate cos sim, ecul dist, and nodes sorted by cos sim\n",
      "102\n",
      "reflection_node: 33 at lv up: 2\n",
      "generate cos sim, ecul dist, and nodes sorted by cos sim\n"
     ]
    },
    {
     "name": "stderr",
     "output_type": "stream",
     "text": [
      "127.0.0.1 - - [06/Oct/2024 14:26:33] \"POST /graph_tree_circle_click HTTP/1.1\" 200 -\n",
      "127.0.0.1 - - [06/Oct/2024 14:26:34] \"POST /graph_tree_circle_click HTTP/1.1\" 200 -\n"
     ]
    },
    {
     "name": "stdout",
     "output_type": "stream",
     "text": [
      "102\n",
      "reflection_node: 33 at lv up: 2\n",
      "generate cos sim, ecul dist, and nodes sorted by cos sim\n",
      "102\n",
      "reflection_node: 33 at lv up: 2\n",
      "generate cos sim, ecul dist, and nodes sorted by cos sim\n"
     ]
    },
    {
     "name": "stderr",
     "output_type": "stream",
     "text": [
      "127.0.0.1 - - [06/Oct/2024 14:26:38] \"GET / HTTP/1.1\" 200 -\n",
      "127.0.0.1 - - [06/Oct/2024 14:26:38] \"GET /static/styles.css HTTP/1.1\" 304 -\n",
      "127.0.0.1 - - [06/Oct/2024 14:26:38] \"GET /static/graph_tree_shared_variable.js HTTP/1.1\" 304 -\n",
      "127.0.0.1 - - [06/Oct/2024 14:26:38] \"GET /static/curve_axis.js HTTP/1.1\" 304 -\n",
      "127.0.0.1 - - [06/Oct/2024 14:26:38] \"GET /static/graph_tree.js HTTP/1.1\" 304 -\n",
      "127.0.0.1 - - [06/Oct/2024 14:26:38] \"GET /static/scripts.js HTTP/1.1\" 304 -\n",
      "127.0.0.1 - - [06/Oct/2024 14:26:39] \"GET /sliders HTTP/1.1\" 200 -\n",
      "127.0.0.1 - - [06/Oct/2024 14:26:39] \"GET /recom HTTP/1.1\" 200 -\n",
      "127.0.0.1 - - [06/Oct/2024 14:26:39] \"GET /graph_tree_data HTTP/1.1\" 200 -\n",
      "127.0.0.1 - - [06/Oct/2024 14:26:39] \"GET /tree_data HTTP/1.1\" 200 -\n",
      "127.0.0.1 - - [06/Oct/2024 14:26:40] \"POST /graph_tree_circle_click HTTP/1.1\" 200 -\n"
     ]
    },
    {
     "name": "stdout",
     "output_type": "stream",
     "text": [
      "101\n",
      "reflection_node: 33 at lv up: 2\n",
      "generate cos sim, ecul dist, and nodes sorted by cos sim\n"
     ]
    },
    {
     "name": "stderr",
     "output_type": "stream",
     "text": [
      "127.0.0.1 - - [06/Oct/2024 14:26:42] \"POST /graph_tree_circle_click HTTP/1.1\" 200 -\n"
     ]
    },
    {
     "name": "stdout",
     "output_type": "stream",
     "text": [
      "103\n",
      "reflection_node: 33 at lv up: 2\n",
      "generate cos sim, ecul dist, and nodes sorted by cos sim\n"
     ]
    },
    {
     "name": "stderr",
     "output_type": "stream",
     "text": [
      "127.0.0.1 - - [06/Oct/2024 14:26:46] \"POST /graph_tree_circle_click HTTP/1.1\" 200 -\n"
     ]
    },
    {
     "name": "stdout",
     "output_type": "stream",
     "text": [
      "102\n",
      "reflection_node: 33 at lv up: 2\n",
      "generate cos sim, ecul dist, and nodes sorted by cos sim\n"
     ]
    },
    {
     "name": "stderr",
     "output_type": "stream",
     "text": [
      "127.0.0.1 - - [06/Oct/2024 14:26:51] \"GET / HTTP/1.1\" 200 -\n",
      "127.0.0.1 - - [06/Oct/2024 14:26:51] \"GET /static/styles.css HTTP/1.1\" 304 -\n",
      "127.0.0.1 - - [06/Oct/2024 14:26:51] \"GET /static/graph_tree_shared_variable.js HTTP/1.1\" 304 -\n",
      "127.0.0.1 - - [06/Oct/2024 14:26:51] \"GET /static/curve_axis.js HTTP/1.1\" 304 -\n",
      "127.0.0.1 - - [06/Oct/2024 14:26:51] \"GET /static/graph_tree.js HTTP/1.1\" 304 -\n",
      "127.0.0.1 - - [06/Oct/2024 14:26:51] \"GET /static/scripts.js HTTP/1.1\" 304 -\n",
      "127.0.0.1 - - [06/Oct/2024 14:26:51] \"GET /sliders HTTP/1.1\" 200 -\n",
      "127.0.0.1 - - [06/Oct/2024 14:26:51] \"GET /recom HTTP/1.1\" 200 -\n",
      "127.0.0.1 - - [06/Oct/2024 14:26:51] \"GET /graph_tree_data HTTP/1.1\" 200 -\n",
      "127.0.0.1 - - [06/Oct/2024 14:26:51] \"GET /tree_data HTTP/1.1\" 200 -\n",
      "127.0.0.1 - - [06/Oct/2024 14:26:53] \"POST /graph_tree_circle_click HTTP/1.1\" 200 -\n"
     ]
    },
    {
     "name": "stdout",
     "output_type": "stream",
     "text": [
      "103\n",
      "reflection_node: 33 at lv up: 2\n",
      "generate cos sim, ecul dist, and nodes sorted by cos sim\n"
     ]
    },
    {
     "name": "stderr",
     "output_type": "stream",
     "text": [
      "127.0.0.1 - - [06/Oct/2024 14:26:56] \"POST /graph_tree_circle_click HTTP/1.1\" 200 -\n"
     ]
    },
    {
     "name": "stdout",
     "output_type": "stream",
     "text": [
      "101\n",
      "reflection_node: 33 at lv up: 2\n",
      "generate cos sim, ecul dist, and nodes sorted by cos sim\n"
     ]
    },
    {
     "name": "stderr",
     "output_type": "stream",
     "text": [
      "127.0.0.1 - - [06/Oct/2024 14:26:59] \"POST /graph_tree_circle_click HTTP/1.1\" 200 -\n"
     ]
    },
    {
     "name": "stdout",
     "output_type": "stream",
     "text": [
      "102\n",
      "reflection_node: 33 at lv up: 2\n",
      "generate cos sim, ecul dist, and nodes sorted by cos sim\n"
     ]
    },
    {
     "name": "stderr",
     "output_type": "stream",
     "text": [
      "127.0.0.1 - - [06/Oct/2024 14:27:01] \"POST /graph_tree_circle_click HTTP/1.1\" 200 -\n"
     ]
    },
    {
     "name": "stdout",
     "output_type": "stream",
     "text": [
      "103\n",
      "reflection_node: 33 at lv up: 2\n",
      "generate cos sim, ecul dist, and nodes sorted by cos sim\n"
     ]
    },
    {
     "name": "stderr",
     "output_type": "stream",
     "text": [
      "127.0.0.1 - - [06/Oct/2024 14:28:45] \"GET / HTTP/1.1\" 200 -\n",
      "127.0.0.1 - - [06/Oct/2024 14:28:45] \"GET /static/styles.css HTTP/1.1\" 304 -\n",
      "127.0.0.1 - - [06/Oct/2024 14:28:45] \"GET /static/graph_tree_shared_variable.js HTTP/1.1\" 304 -\n",
      "127.0.0.1 - - [06/Oct/2024 14:28:45] \"GET /static/curve_axis.js HTTP/1.1\" 304 -\n",
      "127.0.0.1 - - [06/Oct/2024 14:28:45] \"GET /static/graph_tree.js HTTP/1.1\" 304 -\n",
      "127.0.0.1 - - [06/Oct/2024 14:28:45] \"GET /static/scripts.js HTTP/1.1\" 304 -\n",
      "127.0.0.1 - - [06/Oct/2024 14:28:45] \"GET /sliders HTTP/1.1\" 200 -\n",
      "127.0.0.1 - - [06/Oct/2024 14:28:45] \"GET /recom HTTP/1.1\" 200 -\n",
      "127.0.0.1 - - [06/Oct/2024 14:28:45] \"GET /graph_tree_data HTTP/1.1\" 200 -\n",
      "127.0.0.1 - - [06/Oct/2024 14:28:45] \"GET /tree_data HTTP/1.1\" 200 -\n",
      "127.0.0.1 - - [06/Oct/2024 14:28:51] \"GET /static/styles.css HTTP/1.1\" 304 -\n",
      "127.0.0.1 - - [06/Oct/2024 14:29:30] \"POST /graph_tree_circle_click HTTP/1.1\" 200 -\n"
     ]
    },
    {
     "name": "stdout",
     "output_type": "stream",
     "text": [
      "101\n",
      "reflection_node: 33 at lv up: 2\n",
      "generate cos sim, ecul dist, and nodes sorted by cos sim\n"
     ]
    },
    {
     "name": "stderr",
     "output_type": "stream",
     "text": [
      "127.0.0.1 - - [06/Oct/2024 14:30:02] \"POST /graph_tree_circle_click HTTP/1.1\" 200 -\n"
     ]
    },
    {
     "name": "stdout",
     "output_type": "stream",
     "text": [
      "102\n",
      "reflection_node: 33 at lv up: 2\n",
      "generate cos sim, ecul dist, and nodes sorted by cos sim\n"
     ]
    },
    {
     "name": "stderr",
     "output_type": "stream",
     "text": [
      "127.0.0.1 - - [06/Oct/2024 14:30:04] \"POST /graph_tree_circle_click HTTP/1.1\" 200 -\n"
     ]
    },
    {
     "name": "stdout",
     "output_type": "stream",
     "text": [
      "103\n",
      "reflection_node: 33 at lv up: 2\n",
      "generate cos sim, ecul dist, and nodes sorted by cos sim\n"
     ]
    },
    {
     "name": "stderr",
     "output_type": "stream",
     "text": [
      "127.0.0.1 - - [06/Oct/2024 14:31:03] \"GET / HTTP/1.1\" 200 -\n",
      "127.0.0.1 - - [06/Oct/2024 14:31:03] \"GET /static/styles.css HTTP/1.1\" 304 -\n",
      "127.0.0.1 - - [06/Oct/2024 14:31:03] \"GET /static/graph_tree_shared_variable.js HTTP/1.1\" 304 -\n",
      "127.0.0.1 - - [06/Oct/2024 14:31:03] \"GET /static/curve_axis.js HTTP/1.1\" 304 -\n",
      "127.0.0.1 - - [06/Oct/2024 14:31:03] \"GET /static/graph_tree.js HTTP/1.1\" 304 -\n",
      "127.0.0.1 - - [06/Oct/2024 14:31:03] \"GET /static/scripts.js HTTP/1.1\" 304 -\n",
      "127.0.0.1 - - [06/Oct/2024 14:31:03] \"GET /sliders HTTP/1.1\" 200 -\n",
      "127.0.0.1 - - [06/Oct/2024 14:31:03] \"GET /recom HTTP/1.1\" 200 -\n",
      "127.0.0.1 - - [06/Oct/2024 14:31:03] \"GET /graph_tree_data HTTP/1.1\" 200 -\n",
      "127.0.0.1 - - [06/Oct/2024 14:31:03] \"GET /tree_data HTTP/1.1\" 200 -\n",
      "127.0.0.1 - - [06/Oct/2024 14:31:06] \"POST /graph_tree_circle_click HTTP/1.1\" 200 -\n"
     ]
    },
    {
     "name": "stdout",
     "output_type": "stream",
     "text": [
      "101\n",
      "reflection_node: 33 at lv up: 2\n",
      "generate cos sim, ecul dist, and nodes sorted by cos sim\n"
     ]
    },
    {
     "name": "stderr",
     "output_type": "stream",
     "text": [
      "127.0.0.1 - - [06/Oct/2024 14:31:08] \"POST /graph_tree_circle_click HTTP/1.1\" 200 -\n"
     ]
    },
    {
     "name": "stdout",
     "output_type": "stream",
     "text": [
      "103\n",
      "reflection_node: 33 at lv up: 2\n",
      "generate cos sim, ecul dist, and nodes sorted by cos sim\n"
     ]
    },
    {
     "name": "stderr",
     "output_type": "stream",
     "text": [
      "127.0.0.1 - - [06/Oct/2024 14:31:51] \"POST /graph_tree_circle_click HTTP/1.1\" 200 -\n"
     ]
    },
    {
     "name": "stdout",
     "output_type": "stream",
     "text": [
      "100\n",
      "reflection_node: 33 at lv up: 2\n",
      "generate cos sim, ecul dist, and nodes sorted by cos sim\n"
     ]
    },
    {
     "name": "stderr",
     "output_type": "stream",
     "text": [
      "127.0.0.1 - - [06/Oct/2024 14:31:57] \"POST /graph_tree_circle_click HTTP/1.1\" 200 -\n"
     ]
    },
    {
     "name": "stdout",
     "output_type": "stream",
     "text": [
      "99\n",
      "reflection_node: 33 at lv up: 2\n",
      "generate cos sim, ecul dist, and nodes sorted by cos sim\n"
     ]
    },
    {
     "name": "stderr",
     "output_type": "stream",
     "text": [
      "127.0.0.1 - - [06/Oct/2024 14:32:26] \"GET / HTTP/1.1\" 200 -\n",
      "127.0.0.1 - - [06/Oct/2024 14:32:26] \"GET /static/styles.css HTTP/1.1\" 304 -\n",
      "127.0.0.1 - - [06/Oct/2024 14:32:26] \"GET /static/scripts.js HTTP/1.1\" 304 -\n",
      "127.0.0.1 - - [06/Oct/2024 14:32:26] \"GET /static/graph_tree.js HTTP/1.1\" 304 -\n",
      "127.0.0.1 - - [06/Oct/2024 14:32:26] \"GET /static/curve_axis.js HTTP/1.1\" 304 -\n",
      "127.0.0.1 - - [06/Oct/2024 14:32:26] \"GET /static/graph_tree_shared_variable.js HTTP/1.1\" 304 -\n",
      "127.0.0.1 - - [06/Oct/2024 14:32:26] \"GET /sliders HTTP/1.1\" 200 -\n",
      "127.0.0.1 - - [06/Oct/2024 14:32:26] \"GET /recom HTTP/1.1\" 200 -\n",
      "127.0.0.1 - - [06/Oct/2024 14:32:26] \"GET /graph_tree_data HTTP/1.1\" 200 -\n",
      "127.0.0.1 - - [06/Oct/2024 14:32:26] \"GET /tree_data HTTP/1.1\" 200 -\n",
      "127.0.0.1 - - [06/Oct/2024 14:32:29] \"POST /graph_tree_circle_click HTTP/1.1\" 200 -\n"
     ]
    },
    {
     "name": "stdout",
     "output_type": "stream",
     "text": [
      "101\n",
      "reflection_node: 33 at lv up: 2\n",
      "generate cos sim, ecul dist, and nodes sorted by cos sim\n"
     ]
    },
    {
     "name": "stderr",
     "output_type": "stream",
     "text": [
      "127.0.0.1 - - [06/Oct/2024 14:32:31] \"POST /graph_tree_circle_click HTTP/1.1\" 200 -\n"
     ]
    },
    {
     "name": "stdout",
     "output_type": "stream",
     "text": [
      "103\n",
      "reflection_node: 33 at lv up: 2\n",
      "generate cos sim, ecul dist, and nodes sorted by cos sim\n"
     ]
    },
    {
     "name": "stderr",
     "output_type": "stream",
     "text": [
      "127.0.0.1 - - [06/Oct/2024 14:32:37] \"POST /graph_tree_circle_click HTTP/1.1\" 200 -\n"
     ]
    },
    {
     "name": "stdout",
     "output_type": "stream",
     "text": [
      "102\n",
      "reflection_node: 33 at lv up: 2\n",
      "generate cos sim, ecul dist, and nodes sorted by cos sim\n"
     ]
    },
    {
     "name": "stderr",
     "output_type": "stream",
     "text": [
      "127.0.0.1 - - [06/Oct/2024 14:32:42] \"POST /graph_tree_circle_click HTTP/1.1\" 200 -\n"
     ]
    },
    {
     "name": "stdout",
     "output_type": "stream",
     "text": [
      "103\n",
      "reflection_node: 33 at lv up: 2\n",
      "generate cos sim, ecul dist, and nodes sorted by cos sim\n"
     ]
    },
    {
     "name": "stderr",
     "output_type": "stream",
     "text": [
      "127.0.0.1 - - [06/Oct/2024 14:32:45] \"POST /graph_tree_circle_click HTTP/1.1\" 200 -\n"
     ]
    },
    {
     "name": "stdout",
     "output_type": "stream",
     "text": [
      "101\n",
      "reflection_node: 33 at lv up: 2\n",
      "generate cos sim, ecul dist, and nodes sorted by cos sim\n"
     ]
    },
    {
     "name": "stderr",
     "output_type": "stream",
     "text": [
      "127.0.0.1 - - [06/Oct/2024 14:32:49] \"POST /graph_tree_circle_click HTTP/1.1\" 200 -\n"
     ]
    },
    {
     "name": "stdout",
     "output_type": "stream",
     "text": [
      "102\n",
      "reflection_node: 33 at lv up: 2\n",
      "generate cos sim, ecul dist, and nodes sorted by cos sim\n"
     ]
    },
    {
     "name": "stderr",
     "output_type": "stream",
     "text": [
      "127.0.0.1 - - [06/Oct/2024 14:32:52] \"POST /graph_tree_circle_click HTTP/1.1\" 200 -\n"
     ]
    },
    {
     "name": "stdout",
     "output_type": "stream",
     "text": [
      "101\n",
      "reflection_node: 33 at lv up: 2\n",
      "generate cos sim, ecul dist, and nodes sorted by cos sim\n"
     ]
    },
    {
     "name": "stderr",
     "output_type": "stream",
     "text": [
      "127.0.0.1 - - [06/Oct/2024 14:32:54] \"POST /graph_tree_circle_click HTTP/1.1\" 200 -\n"
     ]
    },
    {
     "name": "stdout",
     "output_type": "stream",
     "text": [
      "103\n",
      "reflection_node: 33 at lv up: 2\n",
      "generate cos sim, ecul dist, and nodes sorted by cos sim\n"
     ]
    },
    {
     "name": "stderr",
     "output_type": "stream",
     "text": [
      "127.0.0.1 - - [06/Oct/2024 14:39:50] \"GET / HTTP/1.1\" 200 -\n",
      "127.0.0.1 - - [06/Oct/2024 14:39:50] \"GET /static/styles.css HTTP/1.1\" 304 -\n",
      "127.0.0.1 - - [06/Oct/2024 14:39:50] \"GET /static/graph_tree_shared_variable.js HTTP/1.1\" 304 -\n",
      "127.0.0.1 - - [06/Oct/2024 14:39:50] \"GET /static/curve_axis.js HTTP/1.1\" 304 -\n",
      "127.0.0.1 - - [06/Oct/2024 14:39:50] \"GET /static/scripts.js HTTP/1.1\" 304 -\n",
      "127.0.0.1 - - [06/Oct/2024 14:39:50] \"GET /static/graph_tree.js HTTP/1.1\" 200 -\n",
      "127.0.0.1 - - [06/Oct/2024 14:39:50] \"GET /sliders HTTP/1.1\" 200 -\n",
      "127.0.0.1 - - [06/Oct/2024 14:39:50] \"GET /recom HTTP/1.1\" 200 -\n",
      "127.0.0.1 - - [06/Oct/2024 14:39:50] \"GET /graph_tree_data HTTP/1.1\" 200 -\n",
      "127.0.0.1 - - [06/Oct/2024 14:39:50] \"GET /tree_data HTTP/1.1\" 200 -\n",
      "127.0.0.1 - - [06/Oct/2024 14:39:53] \"POST /graph_tree_circle_click HTTP/1.1\" 200 -\n"
     ]
    },
    {
     "name": "stdout",
     "output_type": "stream",
     "text": [
      "101\n",
      "reflection_node: 33 at lv up: 2\n",
      "generate cos sim, ecul dist, and nodes sorted by cos sim\n"
     ]
    },
    {
     "name": "stderr",
     "output_type": "stream",
     "text": [
      "127.0.0.1 - - [06/Oct/2024 14:39:53] \"POST /graph_tree_circle_click HTTP/1.1\" 200 -\n"
     ]
    },
    {
     "name": "stdout",
     "output_type": "stream",
     "text": [
      "103\n",
      "reflection_node: 33 at lv up: 2\n",
      "generate cos sim, ecul dist, and nodes sorted by cos sim\n"
     ]
    },
    {
     "name": "stderr",
     "output_type": "stream",
     "text": [
      "127.0.0.1 - - [06/Oct/2024 14:40:35] \"GET / HTTP/1.1\" 200 -\n",
      "127.0.0.1 - - [06/Oct/2024 14:40:35] \"GET /static/styles.css HTTP/1.1\" 304 -\n",
      "127.0.0.1 - - [06/Oct/2024 14:40:35] \"GET /static/graph_tree_shared_variable.js HTTP/1.1\" 304 -\n",
      "127.0.0.1 - - [06/Oct/2024 14:40:35] \"GET /static/curve_axis.js HTTP/1.1\" 304 -\n",
      "127.0.0.1 - - [06/Oct/2024 14:40:35] \"GET /static/scripts.js HTTP/1.1\" 304 -\n",
      "127.0.0.1 - - [06/Oct/2024 14:40:35] \"GET /static/graph_tree.js HTTP/1.1\" 200 -\n",
      "127.0.0.1 - - [06/Oct/2024 14:40:35] \"GET /sliders HTTP/1.1\" 200 -\n",
      "127.0.0.1 - - [06/Oct/2024 14:40:35] \"GET /recom HTTP/1.1\" 200 -\n",
      "127.0.0.1 - - [06/Oct/2024 14:40:35] \"GET /graph_tree_data HTTP/1.1\" 200 -\n",
      "127.0.0.1 - - [06/Oct/2024 14:40:35] \"GET /tree_data HTTP/1.1\" 200 -\n",
      "127.0.0.1 - - [06/Oct/2024 14:41:28] \"POST /graph_tree_circle_click HTTP/1.1\" 200 -\n"
     ]
    },
    {
     "name": "stdout",
     "output_type": "stream",
     "text": [
      "101\n",
      "reflection_node: 33 at lv up: 2\n",
      "generate cos sim, ecul dist, and nodes sorted by cos sim\n"
     ]
    },
    {
     "name": "stderr",
     "output_type": "stream",
     "text": [
      "127.0.0.1 - - [06/Oct/2024 14:41:29] \"POST /graph_tree_circle_click HTTP/1.1\" 200 -\n"
     ]
    },
    {
     "name": "stdout",
     "output_type": "stream",
     "text": [
      "103\n",
      "reflection_node: 33 at lv up: 2\n",
      "generate cos sim, ecul dist, and nodes sorted by cos sim\n"
     ]
    },
    {
     "name": "stderr",
     "output_type": "stream",
     "text": [
      "127.0.0.1 - - [06/Oct/2024 14:41:36] \"GET / HTTP/1.1\" 200 -\n",
      "127.0.0.1 - - [06/Oct/2024 14:41:36] \"GET /static/styles.css HTTP/1.1\" 304 -\n",
      "127.0.0.1 - - [06/Oct/2024 14:41:36] \"GET /static/graph_tree_shared_variable.js HTTP/1.1\" 304 -\n",
      "127.0.0.1 - - [06/Oct/2024 14:41:36] \"GET /static/curve_axis.js HTTP/1.1\" 304 -\n",
      "127.0.0.1 - - [06/Oct/2024 14:41:36] \"GET /static/graph_tree.js HTTP/1.1\" 200 -\n",
      "127.0.0.1 - - [06/Oct/2024 14:41:36] \"GET /static/scripts.js HTTP/1.1\" 304 -\n",
      "127.0.0.1 - - [06/Oct/2024 14:41:36] \"GET /sliders HTTP/1.1\" 200 -\n",
      "127.0.0.1 - - [06/Oct/2024 14:41:36] \"GET /recom HTTP/1.1\" 200 -\n",
      "127.0.0.1 - - [06/Oct/2024 14:41:36] \"GET /graph_tree_data HTTP/1.1\" 200 -\n",
      "127.0.0.1 - - [06/Oct/2024 14:41:36] \"GET /tree_data HTTP/1.1\" 200 -\n",
      "127.0.0.1 - - [06/Oct/2024 14:41:38] \"POST /graph_tree_circle_click HTTP/1.1\" 200 -\n"
     ]
    },
    {
     "name": "stdout",
     "output_type": "stream",
     "text": [
      "103\n",
      "reflection_node: 33 at lv up: 2\n",
      "generate cos sim, ecul dist, and nodes sorted by cos sim\n"
     ]
    },
    {
     "name": "stderr",
     "output_type": "stream",
     "text": [
      "127.0.0.1 - - [06/Oct/2024 14:41:39] \"POST /graph_tree_circle_click HTTP/1.1\" 200 -\n"
     ]
    },
    {
     "name": "stdout",
     "output_type": "stream",
     "text": [
      "101\n",
      "reflection_node: 33 at lv up: 2\n",
      "generate cos sim, ecul dist, and nodes sorted by cos sim\n"
     ]
    },
    {
     "name": "stderr",
     "output_type": "stream",
     "text": [
      "127.0.0.1 - - [06/Oct/2024 14:41:40] \"POST /graph_tree_circle_click HTTP/1.1\" 200 -\n"
     ]
    },
    {
     "name": "stdout",
     "output_type": "stream",
     "text": [
      "103\n",
      "reflection_node: 33 at lv up: 2\n",
      "generate cos sim, ecul dist, and nodes sorted by cos sim\n"
     ]
    },
    {
     "name": "stderr",
     "output_type": "stream",
     "text": [
      "127.0.0.1 - - [06/Oct/2024 14:42:18] \"GET / HTTP/1.1\" 200 -\n",
      "127.0.0.1 - - [06/Oct/2024 14:42:18] \"GET /static/styles.css HTTP/1.1\" 304 -\n",
      "127.0.0.1 - - [06/Oct/2024 14:42:18] \"GET /static/graph_tree_shared_variable.js HTTP/1.1\" 304 -\n",
      "127.0.0.1 - - [06/Oct/2024 14:42:18] \"GET /static/curve_axis.js HTTP/1.1\" 304 -\n",
      "127.0.0.1 - - [06/Oct/2024 14:42:18] \"GET /static/scripts.js HTTP/1.1\" 304 -\n",
      "127.0.0.1 - - [06/Oct/2024 14:42:18] \"GET /static/graph_tree.js HTTP/1.1\" 200 -\n",
      "127.0.0.1 - - [06/Oct/2024 14:42:18] \"GET /sliders HTTP/1.1\" 200 -\n",
      "127.0.0.1 - - [06/Oct/2024 14:42:18] \"GET /recom HTTP/1.1\" 200 -\n",
      "127.0.0.1 - - [06/Oct/2024 14:42:18] \"GET /graph_tree_data HTTP/1.1\" 200 -\n",
      "127.0.0.1 - - [06/Oct/2024 14:42:18] \"GET /tree_data HTTP/1.1\" 200 -\n",
      "127.0.0.1 - - [06/Oct/2024 14:48:12] \"GET / HTTP/1.1\" 200 -\n",
      "127.0.0.1 - - [06/Oct/2024 14:48:12] \"GET /static/styles.css HTTP/1.1\" 304 -\n",
      "127.0.0.1 - - [06/Oct/2024 14:48:12] \"GET /static/graph_tree_shared_variable.js HTTP/1.1\" 304 -\n",
      "127.0.0.1 - - [06/Oct/2024 14:48:12] \"GET /static/curve_axis.js HTTP/1.1\" 304 -\n",
      "127.0.0.1 - - [06/Oct/2024 14:48:12] \"GET /static/scripts.js HTTP/1.1\" 304 -\n",
      "127.0.0.1 - - [06/Oct/2024 14:48:12] \"GET /static/graph_tree.js HTTP/1.1\" 200 -\n",
      "127.0.0.1 - - [06/Oct/2024 14:48:12] \"GET /sliders HTTP/1.1\" 200 -\n",
      "127.0.0.1 - - [06/Oct/2024 14:48:12] \"GET /recom HTTP/1.1\" 200 -\n",
      "127.0.0.1 - - [06/Oct/2024 14:48:12] \"GET /graph_tree_data HTTP/1.1\" 200 -\n",
      "127.0.0.1 - - [06/Oct/2024 14:48:12] \"GET /tree_data HTTP/1.1\" 200 -\n",
      "127.0.0.1 - - [06/Oct/2024 14:48:14] \"POST /graph_tree_circle_click HTTP/1.1\" 200 -\n"
     ]
    },
    {
     "name": "stdout",
     "output_type": "stream",
     "text": [
      "101\n",
      "reflection_node: 33 at lv up: 2\n",
      "generate cos sim, ecul dist, and nodes sorted by cos sim\n"
     ]
    },
    {
     "name": "stderr",
     "output_type": "stream",
     "text": [
      "127.0.0.1 - - [06/Oct/2024 14:48:15] \"POST /graph_tree_circle_click HTTP/1.1\" 200 -\n",
      "127.0.0.1 - - [06/Oct/2024 14:48:15] \"POST /graph_tree_circle_click HTTP/1.1\" 200 -\n"
     ]
    },
    {
     "name": "stdout",
     "output_type": "stream",
     "text": [
      "102\n",
      "reflection_node: 33 at lv up: 2\n",
      "generate cos sim, ecul dist, and nodes sorted by cos sim\n",
      "102\n",
      "reflection_node: 33 at lv up: 2\n",
      "generate cos sim, ecul dist, and nodes sorted by cos sim\n"
     ]
    },
    {
     "name": "stderr",
     "output_type": "stream",
     "text": [
      "127.0.0.1 - - [06/Oct/2024 14:48:15] \"POST /graph_tree_circle_click HTTP/1.1\" 200 -\n"
     ]
    },
    {
     "name": "stdout",
     "output_type": "stream",
     "text": [
      "102\n",
      "reflection_node: 33 at lv up: 2\n",
      "generate cos sim, ecul dist, and nodes sorted by cos sim\n"
     ]
    },
    {
     "name": "stderr",
     "output_type": "stream",
     "text": [
      "127.0.0.1 - - [06/Oct/2024 14:48:18] \"POST /graph_tree_circle_click HTTP/1.1\" 200 -\n"
     ]
    },
    {
     "name": "stdout",
     "output_type": "stream",
     "text": [
      "101\n",
      "reflection_node: 33 at lv up: 2\n",
      "generate cos sim, ecul dist, and nodes sorted by cos sim\n"
     ]
    },
    {
     "name": "stderr",
     "output_type": "stream",
     "text": [
      "127.0.0.1 - - [06/Oct/2024 14:48:20] \"POST /graph_tree_circle_click HTTP/1.1\" 200 -\n"
     ]
    },
    {
     "name": "stdout",
     "output_type": "stream",
     "text": [
      "102\n",
      "reflection_node: 33 at lv up: 2\n",
      "generate cos sim, ecul dist, and nodes sorted by cos sim\n"
     ]
    },
    {
     "name": "stderr",
     "output_type": "stream",
     "text": [
      "127.0.0.1 - - [06/Oct/2024 14:48:23] \"POST /graph_tree_circle_click HTTP/1.1\" 200 -\n"
     ]
    },
    {
     "name": "stdout",
     "output_type": "stream",
     "text": [
      "101\n",
      "reflection_node: 33 at lv up: 2\n",
      "generate cos sim, ecul dist, and nodes sorted by cos sim\n"
     ]
    },
    {
     "name": "stderr",
     "output_type": "stream",
     "text": [
      "127.0.0.1 - - [06/Oct/2024 14:48:25] \"POST /graph_tree_circle_click HTTP/1.1\" 200 -\n"
     ]
    },
    {
     "name": "stdout",
     "output_type": "stream",
     "text": [
      "102\n",
      "reflection_node: 33 at lv up: 2\n",
      "generate cos sim, ecul dist, and nodes sorted by cos sim\n"
     ]
    },
    {
     "name": "stderr",
     "output_type": "stream",
     "text": [
      "127.0.0.1 - - [06/Oct/2024 14:48:25] \"POST /graph_tree_circle_click HTTP/1.1\" 200 -\n"
     ]
    },
    {
     "name": "stdout",
     "output_type": "stream",
     "text": [
      "102\n",
      "reflection_node: 33 at lv up: 2\n",
      "generate cos sim, ecul dist, and nodes sorted by cos sim\n"
     ]
    },
    {
     "name": "stderr",
     "output_type": "stream",
     "text": [
      "127.0.0.1 - - [06/Oct/2024 14:48:27] \"POST /graph_tree_circle_click HTTP/1.1\" 200 -\n"
     ]
    },
    {
     "name": "stdout",
     "output_type": "stream",
     "text": [
      "101\n",
      "reflection_node: 33 at lv up: 2\n",
      "generate cos sim, ecul dist, and nodes sorted by cos sim\n"
     ]
    },
    {
     "name": "stderr",
     "output_type": "stream",
     "text": [
      "127.0.0.1 - - [06/Oct/2024 14:48:29] \"POST /graph_tree_circle_click HTTP/1.1\" 200 -\n"
     ]
    },
    {
     "name": "stdout",
     "output_type": "stream",
     "text": [
      "102\n",
      "reflection_node: 33 at lv up: 2\n",
      "generate cos sim, ecul dist, and nodes sorted by cos sim\n"
     ]
    },
    {
     "name": "stderr",
     "output_type": "stream",
     "text": [
      "127.0.0.1 - - [06/Oct/2024 14:48:30] \"POST /graph_tree_circle_click HTTP/1.1\" 200 -\n"
     ]
    },
    {
     "name": "stdout",
     "output_type": "stream",
     "text": [
      "102\n",
      "reflection_node: 33 at lv up: 2\n",
      "generate cos sim, ecul dist, and nodes sorted by cos sim\n"
     ]
    },
    {
     "name": "stderr",
     "output_type": "stream",
     "text": [
      "127.0.0.1 - - [06/Oct/2024 14:48:31] \"POST /graph_tree_circle_click HTTP/1.1\" 200 -\n"
     ]
    },
    {
     "name": "stdout",
     "output_type": "stream",
     "text": [
      "102\n",
      "reflection_node: 33 at lv up: 2\n",
      "generate cos sim, ecul dist, and nodes sorted by cos sim\n"
     ]
    },
    {
     "name": "stderr",
     "output_type": "stream",
     "text": [
      "127.0.0.1 - - [06/Oct/2024 14:48:34] \"POST /graph_tree_circle_click HTTP/1.1\" 200 -\n"
     ]
    },
    {
     "name": "stdout",
     "output_type": "stream",
     "text": [
      "101\n",
      "reflection_node: 33 at lv up: 2\n",
      "generate cos sim, ecul dist, and nodes sorted by cos sim\n"
     ]
    },
    {
     "name": "stderr",
     "output_type": "stream",
     "text": [
      "127.0.0.1 - - [06/Oct/2024 14:48:59] \"GET / HTTP/1.1\" 200 -\n",
      "127.0.0.1 - - [06/Oct/2024 14:48:59] \"GET /static/styles.css HTTP/1.1\" 304 -\n",
      "127.0.0.1 - - [06/Oct/2024 14:48:59] \"GET /static/graph_tree_shared_variable.js HTTP/1.1\" 304 -\n",
      "127.0.0.1 - - [06/Oct/2024 14:48:59] \"GET /static/curve_axis.js HTTP/1.1\" 304 -\n",
      "127.0.0.1 - - [06/Oct/2024 14:48:59] \"GET /static/scripts.js HTTP/1.1\" 304 -\n",
      "127.0.0.1 - - [06/Oct/2024 14:48:59] \"GET /static/graph_tree.js HTTP/1.1\" 200 -\n",
      "127.0.0.1 - - [06/Oct/2024 14:48:59] \"GET /sliders HTTP/1.1\" 200 -\n",
      "127.0.0.1 - - [06/Oct/2024 14:48:59] \"GET /recom HTTP/1.1\" 200 -\n",
      "127.0.0.1 - - [06/Oct/2024 14:48:59] \"GET /graph_tree_data HTTP/1.1\" 200 -\n",
      "127.0.0.1 - - [06/Oct/2024 14:48:59] \"GET /tree_data HTTP/1.1\" 200 -\n",
      "127.0.0.1 - - [06/Oct/2024 14:49:01] \"POST /graph_tree_circle_click HTTP/1.1\" 200 -\n"
     ]
    },
    {
     "name": "stdout",
     "output_type": "stream",
     "text": [
      "101\n",
      "reflection_node: 33 at lv up: 2\n",
      "generate cos sim, ecul dist, and nodes sorted by cos sim\n"
     ]
    },
    {
     "name": "stderr",
     "output_type": "stream",
     "text": [
      "127.0.0.1 - - [06/Oct/2024 14:49:02] \"POST /graph_tree_circle_click HTTP/1.1\" 200 -\n"
     ]
    },
    {
     "name": "stdout",
     "output_type": "stream",
     "text": [
      "102\n",
      "reflection_node: 33 at lv up: 2\n",
      "generate cos sim, ecul dist, and nodes sorted by cos sim\n"
     ]
    },
    {
     "name": "stderr",
     "output_type": "stream",
     "text": [
      "127.0.0.1 - - [06/Oct/2024 14:49:05] \"POST /graph_tree_circle_click HTTP/1.1\" 200 -\n"
     ]
    },
    {
     "name": "stdout",
     "output_type": "stream",
     "text": [
      "101\n",
      "reflection_node: 33 at lv up: 2\n",
      "generate cos sim, ecul dist, and nodes sorted by cos sim\n"
     ]
    },
    {
     "name": "stderr",
     "output_type": "stream",
     "text": [
      "127.0.0.1 - - [06/Oct/2024 14:49:05] \"POST /graph_tree_circle_click HTTP/1.1\" 200 -\n"
     ]
    },
    {
     "name": "stdout",
     "output_type": "stream",
     "text": [
      "102\n",
      "reflection_node: 33 at lv up: 2\n",
      "generate cos sim, ecul dist, and nodes sorted by cos sim\n"
     ]
    },
    {
     "name": "stderr",
     "output_type": "stream",
     "text": [
      "127.0.0.1 - - [06/Oct/2024 14:49:08] \"POST /graph_tree_circle_click HTTP/1.1\" 200 -\n"
     ]
    },
    {
     "name": "stdout",
     "output_type": "stream",
     "text": [
      "101\n",
      "reflection_node: 33 at lv up: 2\n",
      "generate cos sim, ecul dist, and nodes sorted by cos sim\n"
     ]
    },
    {
     "name": "stderr",
     "output_type": "stream",
     "text": [
      "127.0.0.1 - - [06/Oct/2024 14:49:10] \"POST /graph_tree_circle_click HTTP/1.1\" 200 -\n"
     ]
    },
    {
     "name": "stdout",
     "output_type": "stream",
     "text": [
      "102\n",
      "reflection_node: 33 at lv up: 2\n",
      "generate cos sim, ecul dist, and nodes sorted by cos sim\n"
     ]
    },
    {
     "name": "stderr",
     "output_type": "stream",
     "text": [
      "127.0.0.1 - - [06/Oct/2024 14:49:13] \"POST /graph_tree_circle_click HTTP/1.1\" 200 -\n"
     ]
    },
    {
     "name": "stdout",
     "output_type": "stream",
     "text": [
      "103\n",
      "reflection_node: 33 at lv up: 2\n",
      "generate cos sim, ecul dist, and nodes sorted by cos sim\n"
     ]
    },
    {
     "name": "stderr",
     "output_type": "stream",
     "text": [
      "127.0.0.1 - - [06/Oct/2024 14:49:14] \"POST /graph_tree_circle_click HTTP/1.1\" 200 -\n"
     ]
    },
    {
     "name": "stdout",
     "output_type": "stream",
     "text": [
      "103\n",
      "reflection_node: 33 at lv up: 2\n",
      "generate cos sim, ecul dist, and nodes sorted by cos sim\n"
     ]
    },
    {
     "name": "stderr",
     "output_type": "stream",
     "text": [
      "127.0.0.1 - - [06/Oct/2024 14:49:16] \"POST /graph_tree_circle_click HTTP/1.1\" 200 -\n"
     ]
    },
    {
     "name": "stdout",
     "output_type": "stream",
     "text": [
      "102\n",
      "reflection_node: 33 at lv up: 2\n",
      "generate cos sim, ecul dist, and nodes sorted by cos sim\n"
     ]
    },
    {
     "name": "stderr",
     "output_type": "stream",
     "text": [
      "127.0.0.1 - - [06/Oct/2024 14:49:22] \"POST /graph_tree_circle_click HTTP/1.1\" 200 -\n"
     ]
    },
    {
     "name": "stdout",
     "output_type": "stream",
     "text": [
      "99\n",
      "reflection_node: 33 at lv up: 2\n",
      "generate cos sim, ecul dist, and nodes sorted by cos sim\n"
     ]
    },
    {
     "name": "stderr",
     "output_type": "stream",
     "text": [
      "127.0.0.1 - - [06/Oct/2024 14:49:23] \"POST /graph_tree_circle_click HTTP/1.1\" 200 -\n"
     ]
    },
    {
     "name": "stdout",
     "output_type": "stream",
     "text": [
      "102\n",
      "reflection_node: 33 at lv up: 2\n",
      "generate cos sim, ecul dist, and nodes sorted by cos sim\n"
     ]
    },
    {
     "name": "stderr",
     "output_type": "stream",
     "text": [
      "127.0.0.1 - - [06/Oct/2024 14:49:25] \"POST /graph_tree_circle_click HTTP/1.1\" 200 -\n"
     ]
    },
    {
     "name": "stdout",
     "output_type": "stream",
     "text": [
      "100\n",
      "reflection_node: 33 at lv up: 2\n",
      "generate cos sim, ecul dist, and nodes sorted by cos sim\n"
     ]
    },
    {
     "name": "stderr",
     "output_type": "stream",
     "text": [
      "127.0.0.1 - - [06/Oct/2024 14:49:26] \"POST /graph_tree_circle_click HTTP/1.1\" 200 -\n"
     ]
    },
    {
     "name": "stdout",
     "output_type": "stream",
     "text": [
      "102\n",
      "reflection_node: 33 at lv up: 2\n",
      "generate cos sim, ecul dist, and nodes sorted by cos sim\n"
     ]
    },
    {
     "name": "stderr",
     "output_type": "stream",
     "text": [
      "127.0.0.1 - - [06/Oct/2024 14:49:29] \"POST /graph_tree_circle_click HTTP/1.1\" 200 -\n"
     ]
    },
    {
     "name": "stdout",
     "output_type": "stream",
     "text": [
      "100\n",
      "reflection_node: 33 at lv up: 2\n",
      "generate cos sim, ecul dist, and nodes sorted by cos sim\n"
     ]
    },
    {
     "name": "stderr",
     "output_type": "stream",
     "text": [
      "127.0.0.1 - - [06/Oct/2024 14:49:31] \"POST /graph_tree_circle_click HTTP/1.1\" 200 -\n"
     ]
    },
    {
     "name": "stdout",
     "output_type": "stream",
     "text": [
      "102\n",
      "reflection_node: 33 at lv up: 2\n",
      "generate cos sim, ecul dist, and nodes sorted by cos sim\n"
     ]
    },
    {
     "name": "stderr",
     "output_type": "stream",
     "text": [
      "127.0.0.1 - - [06/Oct/2024 14:49:32] \"POST /graph_tree_circle_click HTTP/1.1\" 200 -\n"
     ]
    },
    {
     "name": "stdout",
     "output_type": "stream",
     "text": [
      "99\n",
      "reflection_node: 33 at lv up: 2\n",
      "generate cos sim, ecul dist, and nodes sorted by cos sim\n"
     ]
    },
    {
     "name": "stderr",
     "output_type": "stream",
     "text": [
      "127.0.0.1 - - [06/Oct/2024 14:49:33] \"POST /graph_tree_circle_click HTTP/1.1\" 200 -\n",
      "127.0.0.1 - - [06/Oct/2024 14:49:34] \"POST /graph_tree_circle_click HTTP/1.1\" 200 -\n"
     ]
    },
    {
     "name": "stdout",
     "output_type": "stream",
     "text": [
      "99\n",
      "reflection_node: 33 at lv up: 2\n",
      "generate cos sim, ecul dist, and nodes sorted by cos sim\n",
      "99\n",
      "reflection_node: 33 at lv up: 2\n",
      "generate cos sim, ecul dist, and nodes sorted by cos sim\n"
     ]
    },
    {
     "name": "stderr",
     "output_type": "stream",
     "text": [
      "127.0.0.1 - - [06/Oct/2024 14:49:34] \"POST /graph_tree_circle_click HTTP/1.1\" 200 -\n",
      "127.0.0.1 - - [06/Oct/2024 14:49:34] \"POST /graph_tree_circle_click HTTP/1.1\" 200 -\n"
     ]
    },
    {
     "name": "stdout",
     "output_type": "stream",
     "text": [
      "100\n",
      "reflection_node: 33 at lv up: 2\n",
      "generate cos sim, ecul dist, and nodes sorted by cos sim\n",
      "100\n",
      "reflection_node: 33 at lv up: 2\n",
      "generate cos sim, ecul dist, and nodes sorted by cos sim\n"
     ]
    },
    {
     "name": "stderr",
     "output_type": "stream",
     "text": [
      "127.0.0.1 - - [06/Oct/2024 14:49:35] \"POST /graph_tree_circle_click HTTP/1.1\" 200 -\n",
      "127.0.0.1 - - [06/Oct/2024 14:49:35] \"POST /graph_tree_circle_click HTTP/1.1\" 200 -\n"
     ]
    },
    {
     "name": "stdout",
     "output_type": "stream",
     "text": [
      "100\n",
      "reflection_node: 33 at lv up: 2\n",
      "generate cos sim, ecul dist, and nodes sorted by cos sim\n",
      "100\n",
      "reflection_node: 33 at lv up: 2\n",
      "generate cos sim, ecul dist, and nodes sorted by cos sim\n"
     ]
    },
    {
     "name": "stderr",
     "output_type": "stream",
     "text": [
      "127.0.0.1 - - [06/Oct/2024 14:54:22] \"GET / HTTP/1.1\" 200 -\n",
      "127.0.0.1 - - [06/Oct/2024 14:54:22] \"GET /static/styles.css HTTP/1.1\" 304 -\n",
      "127.0.0.1 - - [06/Oct/2024 14:54:22] \"GET /static/graph_tree_shared_variable.js HTTP/1.1\" 304 -\n",
      "127.0.0.1 - - [06/Oct/2024 14:54:22] \"GET /static/curve_axis.js HTTP/1.1\" 304 -\n",
      "127.0.0.1 - - [06/Oct/2024 14:54:22] \"GET /static/scripts.js HTTP/1.1\" 304 -\n",
      "127.0.0.1 - - [06/Oct/2024 14:54:22] \"GET /static/graph_tree.js HTTP/1.1\" 200 -\n",
      "127.0.0.1 - - [06/Oct/2024 14:54:22] \"GET /sliders HTTP/1.1\" 200 -\n",
      "127.0.0.1 - - [06/Oct/2024 14:54:22] \"GET /recom HTTP/1.1\" 200 -\n",
      "127.0.0.1 - - [06/Oct/2024 14:54:22] \"GET /graph_tree_data HTTP/1.1\" 200 -\n",
      "127.0.0.1 - - [06/Oct/2024 14:54:22] \"GET /tree_data HTTP/1.1\" 200 -\n",
      "127.0.0.1 - - [06/Oct/2024 14:54:24] \"POST /graph_tree_circle_click HTTP/1.1\" 200 -\n"
     ]
    },
    {
     "name": "stdout",
     "output_type": "stream",
     "text": [
      "101\n",
      "reflection_node: 33 at lv up: 2\n",
      "generate cos sim, ecul dist, and nodes sorted by cos sim\n"
     ]
    },
    {
     "name": "stderr",
     "output_type": "stream",
     "text": [
      "127.0.0.1 - - [06/Oct/2024 14:54:30] \"POST /graph_tree_circle_click HTTP/1.1\" 200 -\n"
     ]
    },
    {
     "name": "stdout",
     "output_type": "stream",
     "text": [
      "103\n",
      "reflection_node: 33 at lv up: 2\n",
      "generate cos sim, ecul dist, and nodes sorted by cos sim\n"
     ]
    },
    {
     "name": "stderr",
     "output_type": "stream",
     "text": [
      "127.0.0.1 - - [06/Oct/2024 14:54:33] \"POST /handle_recom HTTP/1.1\" 200 -\n"
     ]
    },
    {
     "name": "stdout",
     "output_type": "stream",
     "text": [
      "reflection_node: 33 at lv up: 2\n",
      "generate cos sim, ecul dist, and nodes sorted by cos sim\n"
     ]
    },
    {
     "name": "stderr",
     "output_type": "stream",
     "text": [
      "127.0.0.1 - - [06/Oct/2024 14:54:37] \"POST /handle_recom HTTP/1.1\" 200 -\n"
     ]
    },
    {
     "name": "stdout",
     "output_type": "stream",
     "text": [
      "reflection_node: 11 at lv up: 2\n",
      "generate cos sim, ecul dist, and nodes sorted by cos sim\n"
     ]
    },
    {
     "name": "stderr",
     "output_type": "stream",
     "text": [
      "127.0.0.1 - - [06/Oct/2024 14:54:43] \"GET / HTTP/1.1\" 200 -\n",
      "127.0.0.1 - - [06/Oct/2024 14:54:43] \"GET /static/styles.css HTTP/1.1\" 304 -\n",
      "127.0.0.1 - - [06/Oct/2024 14:54:43] \"GET /static/graph_tree_shared_variable.js HTTP/1.1\" 304 -\n",
      "127.0.0.1 - - [06/Oct/2024 14:54:43] \"GET /static/curve_axis.js HTTP/1.1\" 304 -\n",
      "127.0.0.1 - - [06/Oct/2024 14:54:43] \"GET /static/graph_tree.js HTTP/1.1\" 304 -\n",
      "127.0.0.1 - - [06/Oct/2024 14:54:43] \"GET /static/scripts.js HTTP/1.1\" 304 -\n",
      "127.0.0.1 - - [06/Oct/2024 14:54:43] \"GET /sliders HTTP/1.1\" 200 -\n",
      "127.0.0.1 - - [06/Oct/2024 14:54:43] \"GET /recom HTTP/1.1\" 200 -\n",
      "127.0.0.1 - - [06/Oct/2024 14:54:43] \"GET /graph_tree_data HTTP/1.1\" 200 -\n",
      "127.0.0.1 - - [06/Oct/2024 14:54:43] \"GET /tree_data HTTP/1.1\" 200 -\n",
      "127.0.0.1 - - [06/Oct/2024 14:54:47] \"POST /handle_recom HTTP/1.1\" 200 -\n"
     ]
    },
    {
     "name": "stdout",
     "output_type": "stream",
     "text": [
      "reflection_node: 18 at lv up: 2\n",
      "generate cos sim, ecul dist, and nodes sorted by cos sim\n"
     ]
    },
    {
     "name": "stderr",
     "output_type": "stream",
     "text": [
      "127.0.0.1 - - [06/Oct/2024 14:54:51] \"GET / HTTP/1.1\" 200 -\n",
      "127.0.0.1 - - [06/Oct/2024 14:54:51] \"GET /static/styles.css HTTP/1.1\" 304 -\n",
      "127.0.0.1 - - [06/Oct/2024 14:54:51] \"GET /static/graph_tree_shared_variable.js HTTP/1.1\" 304 -\n",
      "127.0.0.1 - - [06/Oct/2024 14:54:51] \"GET /static/curve_axis.js HTTP/1.1\" 304 -\n",
      "127.0.0.1 - - [06/Oct/2024 14:54:51] \"GET /static/graph_tree.js HTTP/1.1\" 304 -\n",
      "127.0.0.1 - - [06/Oct/2024 14:54:51] \"GET /static/scripts.js HTTP/1.1\" 304 -\n",
      "127.0.0.1 - - [06/Oct/2024 14:54:51] \"GET /sliders HTTP/1.1\" 200 -\n",
      "127.0.0.1 - - [06/Oct/2024 14:54:51] \"GET /recom HTTP/1.1\" 200 -\n",
      "127.0.0.1 - - [06/Oct/2024 14:54:51] \"GET /graph_tree_data HTTP/1.1\" 200 -\n",
      "127.0.0.1 - - [06/Oct/2024 14:54:51] \"GET /tree_data HTTP/1.1\" 200 -\n",
      "127.0.0.1 - - [06/Oct/2024 14:55:00] \"POST /handle_recom HTTP/1.1\" 200 -\n"
     ]
    },
    {
     "name": "stdout",
     "output_type": "stream",
     "text": [
      "reflection_node: 11 at lv up: 2\n",
      "generate cos sim, ecul dist, and nodes sorted by cos sim\n"
     ]
    },
    {
     "name": "stderr",
     "output_type": "stream",
     "text": [
      "127.0.0.1 - - [06/Oct/2024 14:55:47] \"GET / HTTP/1.1\" 200 -\n",
      "127.0.0.1 - - [06/Oct/2024 14:55:47] \"GET /static/styles.css HTTP/1.1\" 304 -\n",
      "127.0.0.1 - - [06/Oct/2024 14:55:47] \"GET /static/graph_tree_shared_variable.js HTTP/1.1\" 304 -\n",
      "127.0.0.1 - - [06/Oct/2024 14:55:47] \"GET /static/curve_axis.js HTTP/1.1\" 304 -\n",
      "127.0.0.1 - - [06/Oct/2024 14:55:47] \"GET /static/scripts.js HTTP/1.1\" 304 -\n",
      "127.0.0.1 - - [06/Oct/2024 14:55:47] \"GET /static/graph_tree.js HTTP/1.1\" 200 -\n",
      "127.0.0.1 - - [06/Oct/2024 14:55:47] \"GET /sliders HTTP/1.1\" 200 -\n",
      "127.0.0.1 - - [06/Oct/2024 14:55:47] \"GET /recom HTTP/1.1\" 200 -\n",
      "127.0.0.1 - - [06/Oct/2024 14:55:47] \"GET /graph_tree_data HTTP/1.1\" 200 -\n",
      "127.0.0.1 - - [06/Oct/2024 14:55:47] \"GET /tree_data HTTP/1.1\" 200 -\n",
      "127.0.0.1 - - [06/Oct/2024 14:55:50] \"POST /handle_recom HTTP/1.1\" 200 -\n"
     ]
    },
    {
     "name": "stdout",
     "output_type": "stream",
     "text": [
      "reflection_node: 3 at lv up: 2\n",
      "generate cos sim, ecul dist, and nodes sorted by cos sim\n"
     ]
    },
    {
     "name": "stderr",
     "output_type": "stream",
     "text": [
      "127.0.0.1 - - [06/Oct/2024 15:02:11] \"POST /handle_recom HTTP/1.1\" 200 -\n"
     ]
    },
    {
     "name": "stdout",
     "output_type": "stream",
     "text": [
      "reflection_node: 11 at lv up: 2\n",
      "generate cos sim, ecul dist, and nodes sorted by cos sim\n"
     ]
    },
    {
     "name": "stderr",
     "output_type": "stream",
     "text": [
      "127.0.0.1 - - [06/Oct/2024 15:02:16] \"POST /handle_recom HTTP/1.1\" 200 -\n"
     ]
    },
    {
     "name": "stdout",
     "output_type": "stream",
     "text": [
      "reflection_node: 3 at lv up: 2\n",
      "generate cos sim, ecul dist, and nodes sorted by cos sim\n"
     ]
    },
    {
     "name": "stderr",
     "output_type": "stream",
     "text": [
      "127.0.0.1 - - [06/Oct/2024 15:06:41] \"GET /static/styles.css HTTP/1.1\" 304 -\n",
      "127.0.0.1 - - [06/Oct/2024 15:07:03] \"GET / HTTP/1.1\" 200 -\n",
      "127.0.0.1 - - [06/Oct/2024 15:07:03] \"GET /static/styles.css HTTP/1.1\" 304 -\n",
      "127.0.0.1 - - [06/Oct/2024 15:07:03] \"GET /static/curve_axis.js HTTP/1.1\" 304 -\n",
      "127.0.0.1 - - [06/Oct/2024 15:07:03] \"GET /static/graph_tree_shared_variable.js HTTP/1.1\" 304 -\n",
      "127.0.0.1 - - [06/Oct/2024 15:07:03] \"GET /static/scripts.js HTTP/1.1\" 304 -\n",
      "127.0.0.1 - - [06/Oct/2024 15:07:03] \"GET /static/graph_tree.js HTTP/1.1\" 200 -\n",
      "127.0.0.1 - - [06/Oct/2024 15:07:04] \"GET /sliders HTTP/1.1\" 200 -\n",
      "127.0.0.1 - - [06/Oct/2024 15:07:04] \"GET /recom HTTP/1.1\" 200 -\n",
      "127.0.0.1 - - [06/Oct/2024 15:07:04] \"GET /graph_tree_data HTTP/1.1\" 200 -\n",
      "127.0.0.1 - - [06/Oct/2024 15:07:04] \"GET /tree_data HTTP/1.1\" 200 -\n",
      "127.0.0.1 - - [06/Oct/2024 15:07:32] \"GET / HTTP/1.1\" 200 -\n",
      "127.0.0.1 - - [06/Oct/2024 15:07:32] \"GET /static/styles.css HTTP/1.1\" 304 -\n",
      "127.0.0.1 - - [06/Oct/2024 15:07:32] \"GET /static/graph_tree_shared_variable.js HTTP/1.1\" 304 -\n",
      "127.0.0.1 - - [06/Oct/2024 15:07:32] \"GET /static/curve_axis.js HTTP/1.1\" 304 -\n",
      "127.0.0.1 - - [06/Oct/2024 15:07:32] \"GET /static/graph_tree.js HTTP/1.1\" 200 -\n",
      "127.0.0.1 - - [06/Oct/2024 15:07:32] \"GET /static/scripts.js HTTP/1.1\" 304 -\n",
      "127.0.0.1 - - [06/Oct/2024 15:07:32] \"GET /sliders HTTP/1.1\" 200 -\n",
      "127.0.0.1 - - [06/Oct/2024 15:07:32] \"GET /recom HTTP/1.1\" 200 -\n",
      "127.0.0.1 - - [06/Oct/2024 15:07:32] \"GET /graph_tree_data HTTP/1.1\" 200 -\n",
      "127.0.0.1 - - [06/Oct/2024 15:07:32] \"GET /tree_data HTTP/1.1\" 200 -\n",
      "127.0.0.1 - - [06/Oct/2024 15:07:39] \"POST /graph_tree_circle_click HTTP/1.1\" 200 -\n"
     ]
    },
    {
     "name": "stdout",
     "output_type": "stream",
     "text": [
      "101\n",
      "reflection_node: 33 at lv up: 2\n",
      "generate cos sim, ecul dist, and nodes sorted by cos sim\n"
     ]
    },
    {
     "name": "stderr",
     "output_type": "stream",
     "text": [
      "127.0.0.1 - - [06/Oct/2024 15:11:56] \"GET / HTTP/1.1\" 200 -\n",
      "127.0.0.1 - - [06/Oct/2024 15:11:56] \"GET /static/styles.css HTTP/1.1\" 304 -\n",
      "127.0.0.1 - - [06/Oct/2024 15:11:56] \"GET /static/graph_tree_shared_variable.js HTTP/1.1\" 304 -\n",
      "127.0.0.1 - - [06/Oct/2024 15:11:56] \"GET /static/curve_axis.js HTTP/1.1\" 304 -\n",
      "127.0.0.1 - - [06/Oct/2024 15:11:56] \"GET /static/scripts.js HTTP/1.1\" 304 -\n",
      "127.0.0.1 - - [06/Oct/2024 15:11:56] \"GET /static/graph_tree.js HTTP/1.1\" 200 -\n",
      "127.0.0.1 - - [06/Oct/2024 15:11:56] \"GET /sliders HTTP/1.1\" 200 -\n",
      "127.0.0.1 - - [06/Oct/2024 15:11:56] \"GET /recom HTTP/1.1\" 200 -\n",
      "127.0.0.1 - - [06/Oct/2024 15:11:56] \"GET /graph_tree_data HTTP/1.1\" 200 -\n",
      "127.0.0.1 - - [06/Oct/2024 15:11:56] \"GET /tree_data HTTP/1.1\" 200 -\n",
      "127.0.0.1 - - [06/Oct/2024 15:12:00] \"POST /graph_tree_circle_click HTTP/1.1\" 200 -\n"
     ]
    },
    {
     "name": "stdout",
     "output_type": "stream",
     "text": [
      "101\n",
      "reflection_node: 33 at lv up: 2\n",
      "generate cos sim, ecul dist, and nodes sorted by cos sim\n"
     ]
    },
    {
     "name": "stderr",
     "output_type": "stream",
     "text": [
      "127.0.0.1 - - [06/Oct/2024 15:12:24] \"GET / HTTP/1.1\" 200 -\n",
      "127.0.0.1 - - [06/Oct/2024 15:12:24] \"GET /static/styles.css HTTP/1.1\" 304 -\n",
      "127.0.0.1 - - [06/Oct/2024 15:12:24] \"GET /static/graph_tree_shared_variable.js HTTP/1.1\" 304 -\n",
      "127.0.0.1 - - [06/Oct/2024 15:12:24] \"GET /static/curve_axis.js HTTP/1.1\" 304 -\n",
      "127.0.0.1 - - [06/Oct/2024 15:12:24] \"GET /static/scripts.js HTTP/1.1\" 304 -\n",
      "127.0.0.1 - - [06/Oct/2024 15:12:24] \"GET /static/graph_tree.js HTTP/1.1\" 200 -\n",
      "127.0.0.1 - - [06/Oct/2024 15:12:24] \"GET /sliders HTTP/1.1\" 200 -\n",
      "127.0.0.1 - - [06/Oct/2024 15:12:24] \"GET /recom HTTP/1.1\" 200 -\n",
      "127.0.0.1 - - [06/Oct/2024 15:12:24] \"GET /graph_tree_data HTTP/1.1\" 200 -\n",
      "127.0.0.1 - - [06/Oct/2024 15:12:24] \"GET /tree_data HTTP/1.1\" 200 -\n",
      "127.0.0.1 - - [06/Oct/2024 15:12:27] \"POST /graph_tree_circle_click HTTP/1.1\" 200 -\n"
     ]
    },
    {
     "name": "stdout",
     "output_type": "stream",
     "text": [
      "101\n",
      "reflection_node: 33 at lv up: 2\n",
      "generate cos sim, ecul dist, and nodes sorted by cos sim\n"
     ]
    },
    {
     "name": "stderr",
     "output_type": "stream",
     "text": [
      "127.0.0.1 - - [06/Oct/2024 15:16:55] \"GET / HTTP/1.1\" 200 -\n",
      "127.0.0.1 - - [06/Oct/2024 15:16:55] \"GET /static/styles.css HTTP/1.1\" 304 -\n",
      "127.0.0.1 - - [06/Oct/2024 15:16:55] \"GET /static/graph_tree_shared_variable.js HTTP/1.1\" 304 -\n",
      "127.0.0.1 - - [06/Oct/2024 15:16:55] \"GET /static/curve_axis.js HTTP/1.1\" 304 -\n",
      "127.0.0.1 - - [06/Oct/2024 15:16:55] \"GET /static/scripts.js HTTP/1.1\" 304 -\n",
      "127.0.0.1 - - [06/Oct/2024 15:16:55] \"GET /static/graph_tree.js HTTP/1.1\" 200 -\n",
      "127.0.0.1 - - [06/Oct/2024 15:16:55] \"GET /sliders HTTP/1.1\" 200 -\n",
      "127.0.0.1 - - [06/Oct/2024 15:16:55] \"GET /recom HTTP/1.1\" 200 -\n",
      "127.0.0.1 - - [06/Oct/2024 15:16:55] \"GET /graph_tree_data HTTP/1.1\" 200 -\n",
      "127.0.0.1 - - [06/Oct/2024 15:16:55] \"GET /tree_data HTTP/1.1\" 200 -\n",
      "127.0.0.1 - - [06/Oct/2024 15:16:57] \"POST /graph_tree_circle_click HTTP/1.1\" 200 -\n"
     ]
    },
    {
     "name": "stdout",
     "output_type": "stream",
     "text": [
      "101\n",
      "reflection_node: 33 at lv up: 2\n",
      "generate cos sim, ecul dist, and nodes sorted by cos sim\n"
     ]
    },
    {
     "name": "stderr",
     "output_type": "stream",
     "text": [
      "127.0.0.1 - - [06/Oct/2024 15:17:30] \"GET / HTTP/1.1\" 200 -\n",
      "127.0.0.1 - - [06/Oct/2024 15:17:30] \"GET /static/styles.css HTTP/1.1\" 304 -\n",
      "127.0.0.1 - - [06/Oct/2024 15:17:30] \"GET /static/graph_tree_shared_variable.js HTTP/1.1\" 304 -\n",
      "127.0.0.1 - - [06/Oct/2024 15:17:30] \"GET /static/curve_axis.js HTTP/1.1\" 304 -\n",
      "127.0.0.1 - - [06/Oct/2024 15:17:30] \"GET /static/scripts.js HTTP/1.1\" 304 -\n",
      "127.0.0.1 - - [06/Oct/2024 15:17:30] \"GET /static/graph_tree.js HTTP/1.1\" 200 -\n",
      "127.0.0.1 - - [06/Oct/2024 15:17:30] \"GET /sliders HTTP/1.1\" 200 -\n",
      "127.0.0.1 - - [06/Oct/2024 15:17:30] \"GET /recom HTTP/1.1\" 200 -\n",
      "127.0.0.1 - - [06/Oct/2024 15:17:30] \"GET /graph_tree_data HTTP/1.1\" 200 -\n",
      "127.0.0.1 - - [06/Oct/2024 15:17:30] \"GET /tree_data HTTP/1.1\" 200 -\n",
      "127.0.0.1 - - [06/Oct/2024 15:17:33] \"POST /graph_tree_circle_click HTTP/1.1\" 200 -\n"
     ]
    },
    {
     "name": "stdout",
     "output_type": "stream",
     "text": [
      "101\n",
      "reflection_node: 33 at lv up: 2\n",
      "generate cos sim, ecul dist, and nodes sorted by cos sim\n"
     ]
    },
    {
     "name": "stderr",
     "output_type": "stream",
     "text": [
      "127.0.0.1 - - [06/Oct/2024 15:17:44] \"GET / HTTP/1.1\" 200 -\n",
      "127.0.0.1 - - [06/Oct/2024 15:17:44] \"GET /static/styles.css HTTP/1.1\" 304 -\n",
      "127.0.0.1 - - [06/Oct/2024 15:17:44] \"GET /static/graph_tree_shared_variable.js HTTP/1.1\" 304 -\n",
      "127.0.0.1 - - [06/Oct/2024 15:17:44] \"GET /static/curve_axis.js HTTP/1.1\" 304 -\n",
      "127.0.0.1 - - [06/Oct/2024 15:17:44] \"GET /static/graph_tree.js HTTP/1.1\" 304 -\n",
      "127.0.0.1 - - [06/Oct/2024 15:17:44] \"GET /static/scripts.js HTTP/1.1\" 304 -\n",
      "127.0.0.1 - - [06/Oct/2024 15:17:44] \"GET /sliders HTTP/1.1\" 200 -\n",
      "127.0.0.1 - - [06/Oct/2024 15:17:44] \"GET /recom HTTP/1.1\" 200 -\n",
      "127.0.0.1 - - [06/Oct/2024 15:17:44] \"GET /graph_tree_data HTTP/1.1\" 200 -\n",
      "127.0.0.1 - - [06/Oct/2024 15:17:44] \"GET /tree_data HTTP/1.1\" 200 -\n",
      "127.0.0.1 - - [06/Oct/2024 15:17:49] \"POST /graph_tree_circle_click HTTP/1.1\" 200 -\n"
     ]
    },
    {
     "name": "stdout",
     "output_type": "stream",
     "text": [
      "101\n",
      "reflection_node: 33 at lv up: 2\n",
      "generate cos sim, ecul dist, and nodes sorted by cos sim\n"
     ]
    },
    {
     "name": "stderr",
     "output_type": "stream",
     "text": [
      "127.0.0.1 - - [06/Oct/2024 15:18:09] \"GET / HTTP/1.1\" 200 -\n",
      "127.0.0.1 - - [06/Oct/2024 15:18:09] \"GET /static/styles.css HTTP/1.1\" 304 -\n",
      "127.0.0.1 - - [06/Oct/2024 15:18:09] \"GET /static/graph_tree_shared_variable.js HTTP/1.1\" 304 -\n",
      "127.0.0.1 - - [06/Oct/2024 15:18:09] \"GET /static/curve_axis.js HTTP/1.1\" 304 -\n",
      "127.0.0.1 - - [06/Oct/2024 15:18:09] \"GET /static/graph_tree.js HTTP/1.1\" 304 -\n",
      "127.0.0.1 - - [06/Oct/2024 15:18:09] \"GET /static/scripts.js HTTP/1.1\" 304 -\n",
      "127.0.0.1 - - [06/Oct/2024 15:18:09] \"GET /sliders HTTP/1.1\" 200 -\n",
      "127.0.0.1 - - [06/Oct/2024 15:18:09] \"GET /recom HTTP/1.1\" 200 -\n",
      "127.0.0.1 - - [06/Oct/2024 15:18:09] \"GET /graph_tree_data HTTP/1.1\" 200 -\n",
      "127.0.0.1 - - [06/Oct/2024 15:18:09] \"GET /tree_data HTTP/1.1\" 200 -\n",
      "127.0.0.1 - - [06/Oct/2024 15:18:11] \"POST /graph_tree_circle_click HTTP/1.1\" 200 -\n"
     ]
    },
    {
     "name": "stdout",
     "output_type": "stream",
     "text": [
      "101\n",
      "reflection_node: 33 at lv up: 2\n",
      "generate cos sim, ecul dist, and nodes sorted by cos sim\n"
     ]
    },
    {
     "name": "stderr",
     "output_type": "stream",
     "text": [
      "127.0.0.1 - - [06/Oct/2024 15:18:20] \"GET / HTTP/1.1\" 200 -\n",
      "127.0.0.1 - - [06/Oct/2024 15:18:20] \"GET /static/styles.css HTTP/1.1\" 304 -\n",
      "127.0.0.1 - - [06/Oct/2024 15:18:20] \"GET /static/graph_tree_shared_variable.js HTTP/1.1\" 304 -\n",
      "127.0.0.1 - - [06/Oct/2024 15:18:20] \"GET /static/curve_axis.js HTTP/1.1\" 304 -\n",
      "127.0.0.1 - - [06/Oct/2024 15:18:20] \"GET /static/graph_tree.js HTTP/1.1\" 304 -\n",
      "127.0.0.1 - - [06/Oct/2024 15:18:20] \"GET /static/scripts.js HTTP/1.1\" 304 -\n",
      "127.0.0.1 - - [06/Oct/2024 15:18:20] \"GET /sliders HTTP/1.1\" 200 -\n",
      "127.0.0.1 - - [06/Oct/2024 15:18:20] \"GET /recom HTTP/1.1\" 200 -\n",
      "127.0.0.1 - - [06/Oct/2024 15:18:20] \"GET /graph_tree_data HTTP/1.1\" 200 -\n",
      "127.0.0.1 - - [06/Oct/2024 15:18:20] \"GET /tree_data HTTP/1.1\" 200 -\n",
      "127.0.0.1 - - [06/Oct/2024 15:18:24] \"POST /graph_tree_circle_click HTTP/1.1\" 200 -\n"
     ]
    },
    {
     "name": "stdout",
     "output_type": "stream",
     "text": [
      "101\n",
      "reflection_node: 33 at lv up: 2\n",
      "generate cos sim, ecul dist, and nodes sorted by cos sim\n"
     ]
    },
    {
     "name": "stderr",
     "output_type": "stream",
     "text": [
      "127.0.0.1 - - [06/Oct/2024 15:19:23] \"GET / HTTP/1.1\" 200 -\n",
      "127.0.0.1 - - [06/Oct/2024 15:19:23] \"GET /static/styles.css HTTP/1.1\" 304 -\n",
      "127.0.0.1 - - [06/Oct/2024 15:19:23] \"GET /static/graph_tree_shared_variable.js HTTP/1.1\" 304 -\n",
      "127.0.0.1 - - [06/Oct/2024 15:19:23] \"GET /static/curve_axis.js HTTP/1.1\" 304 -\n",
      "127.0.0.1 - - [06/Oct/2024 15:19:23] \"GET /static/scripts.js HTTP/1.1\" 304 -\n",
      "127.0.0.1 - - [06/Oct/2024 15:19:23] \"GET /static/graph_tree.js HTTP/1.1\" 200 -\n",
      "127.0.0.1 - - [06/Oct/2024 15:19:23] \"GET /sliders HTTP/1.1\" 200 -\n",
      "127.0.0.1 - - [06/Oct/2024 15:19:23] \"GET /recom HTTP/1.1\" 200 -\n",
      "127.0.0.1 - - [06/Oct/2024 15:19:23] \"GET /graph_tree_data HTTP/1.1\" 200 -\n",
      "127.0.0.1 - - [06/Oct/2024 15:19:23] \"GET /tree_data HTTP/1.1\" 200 -\n",
      "127.0.0.1 - - [06/Oct/2024 15:19:25] \"POST /graph_tree_circle_click HTTP/1.1\" 200 -\n"
     ]
    },
    {
     "name": "stdout",
     "output_type": "stream",
     "text": [
      "101\n",
      "reflection_node: 33 at lv up: 2\n",
      "generate cos sim, ecul dist, and nodes sorted by cos sim\n"
     ]
    },
    {
     "name": "stderr",
     "output_type": "stream",
     "text": [
      "127.0.0.1 - - [06/Oct/2024 15:21:36] \"GET / HTTP/1.1\" 200 -\n",
      "127.0.0.1 - - [06/Oct/2024 15:21:36] \"GET /static/styles.css HTTP/1.1\" 304 -\n",
      "127.0.0.1 - - [06/Oct/2024 15:21:36] \"GET /static/graph_tree_shared_variable.js HTTP/1.1\" 304 -\n",
      "127.0.0.1 - - [06/Oct/2024 15:21:36] \"GET /static/curve_axis.js HTTP/1.1\" 304 -\n",
      "127.0.0.1 - - [06/Oct/2024 15:21:36] \"GET /static/scripts.js HTTP/1.1\" 304 -\n",
      "127.0.0.1 - - [06/Oct/2024 15:21:36] \"GET /static/graph_tree.js HTTP/1.1\" 200 -\n",
      "127.0.0.1 - - [06/Oct/2024 15:21:36] \"GET /sliders HTTP/1.1\" 200 -\n",
      "127.0.0.1 - - [06/Oct/2024 15:21:36] \"GET /recom HTTP/1.1\" 200 -\n",
      "127.0.0.1 - - [06/Oct/2024 15:21:36] \"GET /graph_tree_data HTTP/1.1\" 200 -\n",
      "127.0.0.1 - - [06/Oct/2024 15:21:36] \"GET /tree_data HTTP/1.1\" 200 -\n",
      "127.0.0.1 - - [06/Oct/2024 15:21:38] \"POST /graph_tree_circle_click HTTP/1.1\" 200 -\n"
     ]
    },
    {
     "name": "stdout",
     "output_type": "stream",
     "text": [
      "101\n",
      "reflection_node: 33 at lv up: 2\n",
      "generate cos sim, ecul dist, and nodes sorted by cos sim\n"
     ]
    },
    {
     "name": "stderr",
     "output_type": "stream",
     "text": [
      "127.0.0.1 - - [06/Oct/2024 15:22:00] \"GET / HTTP/1.1\" 200 -\n",
      "127.0.0.1 - - [06/Oct/2024 15:22:00] \"GET /static/styles.css HTTP/1.1\" 304 -\n",
      "127.0.0.1 - - [06/Oct/2024 15:22:00] \"GET /static/graph_tree_shared_variable.js HTTP/1.1\" 304 -\n",
      "127.0.0.1 - - [06/Oct/2024 15:22:00] \"GET /static/curve_axis.js HTTP/1.1\" 304 -\n",
      "127.0.0.1 - - [06/Oct/2024 15:22:00] \"GET /static/graph_tree.js HTTP/1.1\" 200 -\n",
      "127.0.0.1 - - [06/Oct/2024 15:22:00] \"GET /static/scripts.js HTTP/1.1\" 304 -\n",
      "127.0.0.1 - - [06/Oct/2024 15:22:00] \"GET /sliders HTTP/1.1\" 200 -\n",
      "127.0.0.1 - - [06/Oct/2024 15:22:00] \"GET /recom HTTP/1.1\" 200 -\n",
      "127.0.0.1 - - [06/Oct/2024 15:22:00] \"GET /graph_tree_data HTTP/1.1\" 200 -\n",
      "127.0.0.1 - - [06/Oct/2024 15:22:00] \"GET /tree_data HTTP/1.1\" 200 -\n",
      "127.0.0.1 - - [06/Oct/2024 15:22:03] \"POST /graph_tree_circle_click HTTP/1.1\" 200 -\n"
     ]
    },
    {
     "name": "stdout",
     "output_type": "stream",
     "text": [
      "101\n",
      "reflection_node: 33 at lv up: 2\n",
      "generate cos sim, ecul dist, and nodes sorted by cos sim\n"
     ]
    },
    {
     "name": "stderr",
     "output_type": "stream",
     "text": [
      "127.0.0.1 - - [06/Oct/2024 15:22:14] \"GET / HTTP/1.1\" 200 -\n",
      "127.0.0.1 - - [06/Oct/2024 15:22:14] \"GET /static/styles.css HTTP/1.1\" 304 -\n",
      "127.0.0.1 - - [06/Oct/2024 15:22:14] \"GET /static/graph_tree_shared_variable.js HTTP/1.1\" 304 -\n",
      "127.0.0.1 - - [06/Oct/2024 15:22:14] \"GET /static/curve_axis.js HTTP/1.1\" 304 -\n",
      "127.0.0.1 - - [06/Oct/2024 15:22:14] \"GET /static/graph_tree.js HTTP/1.1\" 304 -\n",
      "127.0.0.1 - - [06/Oct/2024 15:22:14] \"GET /static/scripts.js HTTP/1.1\" 304 -\n",
      "127.0.0.1 - - [06/Oct/2024 15:22:14] \"GET /sliders HTTP/1.1\" 200 -\n",
      "127.0.0.1 - - [06/Oct/2024 15:22:14] \"GET /recom HTTP/1.1\" 200 -\n",
      "127.0.0.1 - - [06/Oct/2024 15:22:14] \"GET /graph_tree_data HTTP/1.1\" 200 -\n",
      "127.0.0.1 - - [06/Oct/2024 15:22:14] \"GET /tree_data HTTP/1.1\" 200 -\n",
      "127.0.0.1 - - [06/Oct/2024 15:22:17] \"POST /graph_tree_circle_click HTTP/1.1\" 200 -\n"
     ]
    },
    {
     "name": "stdout",
     "output_type": "stream",
     "text": [
      "101\n",
      "reflection_node: 33 at lv up: 2\n",
      "generate cos sim, ecul dist, and nodes sorted by cos sim\n"
     ]
    },
    {
     "name": "stderr",
     "output_type": "stream",
     "text": [
      "127.0.0.1 - - [06/Oct/2024 15:23:43] \"GET / HTTP/1.1\" 200 -\n",
      "127.0.0.1 - - [06/Oct/2024 15:23:43] \"GET /static/styles.css HTTP/1.1\" 304 -\n",
      "127.0.0.1 - - [06/Oct/2024 15:23:43] \"GET /static/graph_tree_shared_variable.js HTTP/1.1\" 304 -\n",
      "127.0.0.1 - - [06/Oct/2024 15:23:43] \"GET /static/curve_axis.js HTTP/1.1\" 304 -\n",
      "127.0.0.1 - - [06/Oct/2024 15:23:43] \"GET /static/scripts.js HTTP/1.1\" 304 -\n",
      "127.0.0.1 - - [06/Oct/2024 15:23:43] \"GET /static/graph_tree.js HTTP/1.1\" 200 -\n",
      "127.0.0.1 - - [06/Oct/2024 15:23:43] \"GET /sliders HTTP/1.1\" 200 -\n",
      "127.0.0.1 - - [06/Oct/2024 15:23:43] \"GET /recom HTTP/1.1\" 200 -\n",
      "127.0.0.1 - - [06/Oct/2024 15:23:43] \"GET /graph_tree_data HTTP/1.1\" 200 -\n",
      "127.0.0.1 - - [06/Oct/2024 15:23:43] \"GET /tree_data HTTP/1.1\" 200 -\n",
      "127.0.0.1 - - [06/Oct/2024 15:23:46] \"POST /graph_tree_circle_click HTTP/1.1\" 200 -\n"
     ]
    },
    {
     "name": "stdout",
     "output_type": "stream",
     "text": [
      "101\n",
      "reflection_node: 33 at lv up: 2\n",
      "generate cos sim, ecul dist, and nodes sorted by cos sim\n"
     ]
    },
    {
     "name": "stderr",
     "output_type": "stream",
     "text": [
      "127.0.0.1 - - [06/Oct/2024 15:24:02] \"POST /graph_tree_circle_click HTTP/1.1\" 200 -\n"
     ]
    },
    {
     "name": "stdout",
     "output_type": "stream",
     "text": [
      "102\n",
      "reflection_node: 33 at lv up: 2\n",
      "generate cos sim, ecul dist, and nodes sorted by cos sim\n"
     ]
    },
    {
     "name": "stderr",
     "output_type": "stream",
     "text": [
      "127.0.0.1 - - [06/Oct/2024 15:24:08] \"POST /graph_tree_circle_click HTTP/1.1\" 200 -\n"
     ]
    },
    {
     "name": "stdout",
     "output_type": "stream",
     "text": [
      "103\n",
      "reflection_node: 33 at lv up: 2\n",
      "generate cos sim, ecul dist, and nodes sorted by cos sim\n"
     ]
    },
    {
     "name": "stderr",
     "output_type": "stream",
     "text": [
      "127.0.0.1 - - [06/Oct/2024 15:24:57] \"GET / HTTP/1.1\" 200 -\n",
      "127.0.0.1 - - [06/Oct/2024 15:24:58] \"GET /static/styles.css HTTP/1.1\" 304 -\n",
      "127.0.0.1 - - [06/Oct/2024 15:24:58] \"GET /static/graph_tree_shared_variable.js HTTP/1.1\" 304 -\n",
      "127.0.0.1 - - [06/Oct/2024 15:24:58] \"GET /static/curve_axis.js HTTP/1.1\" 304 -\n",
      "127.0.0.1 - - [06/Oct/2024 15:24:58] \"GET /static/graph_tree.js HTTP/1.1\" 304 -\n",
      "127.0.0.1 - - [06/Oct/2024 15:24:58] \"GET /static/scripts.js HTTP/1.1\" 304 -\n",
      "127.0.0.1 - - [06/Oct/2024 15:24:58] \"GET /sliders HTTP/1.1\" 200 -\n",
      "127.0.0.1 - - [06/Oct/2024 15:24:58] \"GET /recom HTTP/1.1\" 200 -\n",
      "127.0.0.1 - - [06/Oct/2024 15:24:58] \"GET /graph_tree_data HTTP/1.1\" 200 -\n",
      "127.0.0.1 - - [06/Oct/2024 15:24:58] \"GET /tree_data HTTP/1.1\" 200 -\n",
      "127.0.0.1 - - [06/Oct/2024 15:25:00] \"POST /graph_tree_circle_click HTTP/1.1\" 200 -\n"
     ]
    },
    {
     "name": "stdout",
     "output_type": "stream",
     "text": [
      "101\n",
      "reflection_node: 33 at lv up: 2\n",
      "generate cos sim, ecul dist, and nodes sorted by cos sim\n"
     ]
    },
    {
     "name": "stderr",
     "output_type": "stream",
     "text": [
      "127.0.0.1 - - [06/Oct/2024 15:25:06] \"GET / HTTP/1.1\" 200 -\n",
      "127.0.0.1 - - [06/Oct/2024 15:25:06] \"GET /static/styles.css HTTP/1.1\" 304 -\n",
      "127.0.0.1 - - [06/Oct/2024 15:25:06] \"GET /static/graph_tree_shared_variable.js HTTP/1.1\" 304 -\n",
      "127.0.0.1 - - [06/Oct/2024 15:25:06] \"GET /static/curve_axis.js HTTP/1.1\" 304 -\n",
      "127.0.0.1 - - [06/Oct/2024 15:25:06] \"GET /static/graph_tree.js HTTP/1.1\" 304 -\n",
      "127.0.0.1 - - [06/Oct/2024 15:25:06] \"GET /static/scripts.js HTTP/1.1\" 304 -\n",
      "127.0.0.1 - - [06/Oct/2024 15:25:06] \"GET /sliders HTTP/1.1\" 200 -\n",
      "127.0.0.1 - - [06/Oct/2024 15:25:06] \"GET /recom HTTP/1.1\" 200 -\n",
      "127.0.0.1 - - [06/Oct/2024 15:25:06] \"GET /graph_tree_data HTTP/1.1\" 200 -\n",
      "127.0.0.1 - - [06/Oct/2024 15:25:06] \"GET /tree_data HTTP/1.1\" 200 -\n",
      "127.0.0.1 - - [06/Oct/2024 15:25:09] \"POST /graph_tree_circle_click HTTP/1.1\" 200 -\n"
     ]
    },
    {
     "name": "stdout",
     "output_type": "stream",
     "text": [
      "101\n",
      "reflection_node: 33 at lv up: 2\n",
      "generate cos sim, ecul dist, and nodes sorted by cos sim\n"
     ]
    },
    {
     "name": "stderr",
     "output_type": "stream",
     "text": [
      "127.0.0.1 - - [06/Oct/2024 15:26:12] \"GET / HTTP/1.1\" 200 -\n",
      "127.0.0.1 - - [06/Oct/2024 15:26:12] \"GET /static/styles.css HTTP/1.1\" 304 -\n",
      "127.0.0.1 - - [06/Oct/2024 15:26:12] \"GET /static/graph_tree_shared_variable.js HTTP/1.1\" 304 -\n",
      "127.0.0.1 - - [06/Oct/2024 15:26:12] \"GET /static/curve_axis.js HTTP/1.1\" 304 -\n",
      "127.0.0.1 - - [06/Oct/2024 15:26:12] \"GET /static/scripts.js HTTP/1.1\" 304 -\n",
      "127.0.0.1 - - [06/Oct/2024 15:26:12] \"GET /static/graph_tree.js HTTP/1.1\" 200 -\n",
      "127.0.0.1 - - [06/Oct/2024 15:26:12] \"GET /sliders HTTP/1.1\" 200 -\n",
      "127.0.0.1 - - [06/Oct/2024 15:26:12] \"GET /recom HTTP/1.1\" 200 -\n",
      "127.0.0.1 - - [06/Oct/2024 15:26:12] \"GET /graph_tree_data HTTP/1.1\" 200 -\n",
      "127.0.0.1 - - [06/Oct/2024 15:26:12] \"GET /tree_data HTTP/1.1\" 200 -\n",
      "127.0.0.1 - - [06/Oct/2024 15:26:17] \"POST /graph_tree_circle_click HTTP/1.1\" 200 -\n"
     ]
    },
    {
     "name": "stdout",
     "output_type": "stream",
     "text": [
      "101\n",
      "reflection_node: 33 at lv up: 2\n",
      "generate cos sim, ecul dist, and nodes sorted by cos sim\n"
     ]
    },
    {
     "name": "stderr",
     "output_type": "stream",
     "text": [
      "127.0.0.1 - - [06/Oct/2024 15:26:26] \"GET / HTTP/1.1\" 200 -\n",
      "127.0.0.1 - - [06/Oct/2024 15:26:26] \"GET /static/styles.css HTTP/1.1\" 304 -\n",
      "127.0.0.1 - - [06/Oct/2024 15:26:26] \"GET /static/graph_tree_shared_variable.js HTTP/1.1\" 304 -\n",
      "127.0.0.1 - - [06/Oct/2024 15:26:26] \"GET /static/curve_axis.js HTTP/1.1\" 304 -\n",
      "127.0.0.1 - - [06/Oct/2024 15:26:26] \"GET /static/graph_tree.js HTTP/1.1\" 304 -\n",
      "127.0.0.1 - - [06/Oct/2024 15:26:26] \"GET /static/scripts.js HTTP/1.1\" 304 -\n",
      "127.0.0.1 - - [06/Oct/2024 15:26:26] \"GET /sliders HTTP/1.1\" 200 -\n",
      "127.0.0.1 - - [06/Oct/2024 15:26:26] \"GET /recom HTTP/1.1\" 200 -\n",
      "127.0.0.1 - - [06/Oct/2024 15:26:26] \"GET /graph_tree_data HTTP/1.1\" 200 -\n",
      "127.0.0.1 - - [06/Oct/2024 15:26:26] \"GET /tree_data HTTP/1.1\" 200 -\n",
      "127.0.0.1 - - [06/Oct/2024 15:26:29] \"POST /graph_tree_circle_click HTTP/1.1\" 200 -\n"
     ]
    },
    {
     "name": "stdout",
     "output_type": "stream",
     "text": [
      "101\n",
      "reflection_node: 33 at lv up: 2\n",
      "generate cos sim, ecul dist, and nodes sorted by cos sim\n"
     ]
    },
    {
     "name": "stderr",
     "output_type": "stream",
     "text": [
      "127.0.0.1 - - [06/Oct/2024 15:26:42] \"GET / HTTP/1.1\" 200 -\n",
      "127.0.0.1 - - [06/Oct/2024 15:26:42] \"GET /static/styles.css HTTP/1.1\" 304 -\n",
      "127.0.0.1 - - [06/Oct/2024 15:26:42] \"GET /static/graph_tree_shared_variable.js HTTP/1.1\" 304 -\n",
      "127.0.0.1 - - [06/Oct/2024 15:26:42] \"GET /static/curve_axis.js HTTP/1.1\" 304 -\n",
      "127.0.0.1 - - [06/Oct/2024 15:26:42] \"GET /static/graph_tree.js HTTP/1.1\" 304 -\n",
      "127.0.0.1 - - [06/Oct/2024 15:26:42] \"GET /static/scripts.js HTTP/1.1\" 304 -\n",
      "127.0.0.1 - - [06/Oct/2024 15:26:42] \"GET /sliders HTTP/1.1\" 200 -\n",
      "127.0.0.1 - - [06/Oct/2024 15:26:42] \"GET /recom HTTP/1.1\" 200 -\n",
      "127.0.0.1 - - [06/Oct/2024 15:26:42] \"GET /graph_tree_data HTTP/1.1\" 200 -\n",
      "127.0.0.1 - - [06/Oct/2024 15:26:42] \"GET /tree_data HTTP/1.1\" 200 -\n",
      "127.0.0.1 - - [06/Oct/2024 15:26:45] \"POST /graph_tree_circle_click HTTP/1.1\" 200 -\n"
     ]
    },
    {
     "name": "stdout",
     "output_type": "stream",
     "text": [
      "101\n",
      "reflection_node: 33 at lv up: 2\n",
      "generate cos sim, ecul dist, and nodes sorted by cos sim\n"
     ]
    },
    {
     "name": "stderr",
     "output_type": "stream",
     "text": [
      "127.0.0.1 - - [06/Oct/2024 15:27:32] \"GET / HTTP/1.1\" 200 -\n",
      "127.0.0.1 - - [06/Oct/2024 15:27:32] \"GET /static/graph_tree_shared_variable.js HTTP/1.1\" 304 -\n",
      "127.0.0.1 - - [06/Oct/2024 15:27:32] \"GET /static/styles.css HTTP/1.1\" 304 -\n",
      "127.0.0.1 - - [06/Oct/2024 15:27:32] \"GET /static/curve_axis.js HTTP/1.1\" 304 -\n",
      "127.0.0.1 - - [06/Oct/2024 15:27:32] \"GET /static/scripts.js HTTP/1.1\" 304 -\n",
      "127.0.0.1 - - [06/Oct/2024 15:27:32] \"GET /static/graph_tree.js HTTP/1.1\" 200 -\n",
      "127.0.0.1 - - [06/Oct/2024 15:27:32] \"GET /sliders HTTP/1.1\" 200 -\n",
      "127.0.0.1 - - [06/Oct/2024 15:27:32] \"GET /recom HTTP/1.1\" 200 -\n",
      "127.0.0.1 - - [06/Oct/2024 15:27:32] \"GET /graph_tree_data HTTP/1.1\" 200 -\n",
      "127.0.0.1 - - [06/Oct/2024 15:27:32] \"GET /tree_data HTTP/1.1\" 200 -\n",
      "127.0.0.1 - - [06/Oct/2024 15:27:35] \"POST /graph_tree_circle_click HTTP/1.1\" 200 -\n"
     ]
    },
    {
     "name": "stdout",
     "output_type": "stream",
     "text": [
      "101\n",
      "reflection_node: 33 at lv up: 2\n",
      "generate cos sim, ecul dist, and nodes sorted by cos sim\n"
     ]
    },
    {
     "name": "stderr",
     "output_type": "stream",
     "text": [
      "127.0.0.1 - - [06/Oct/2024 15:27:41] \"POST /handle_recom HTTP/1.1\" 200 -\n"
     ]
    },
    {
     "name": "stdout",
     "output_type": "stream",
     "text": [
      "reflection_node: 3 at lv up: 2\n",
      "generate cos sim, ecul dist, and nodes sorted by cos sim\n"
     ]
    },
    {
     "name": "stderr",
     "output_type": "stream",
     "text": [
      "127.0.0.1 - - [06/Oct/2024 15:27:46] \"POST /graph_tree_circle_click HTTP/1.1\" 200 -\n"
     ]
    },
    {
     "name": "stdout",
     "output_type": "stream",
     "text": [
      "56\n",
      "reflection_node: 3 at lv up: 2\n",
      "generate cos sim, ecul dist, and nodes sorted by cos sim\n"
     ]
    },
    {
     "name": "stderr",
     "output_type": "stream",
     "text": [
      "127.0.0.1 - - [06/Oct/2024 15:27:51] \"POST /graph_tree_circle_click HTTP/1.1\" 200 -\n"
     ]
    },
    {
     "name": "stdout",
     "output_type": "stream",
     "text": [
      "48\n",
      "reflection_node: 3 at lv up: 2\n",
      "generate cos sim, ecul dist, and nodes sorted by cos sim\n"
     ]
    },
    {
     "name": "stderr",
     "output_type": "stream",
     "text": [
      "127.0.0.1 - - [06/Oct/2024 15:27:55] \"POST /graph_tree_circle_click HTTP/1.1\" 200 -\n"
     ]
    },
    {
     "name": "stdout",
     "output_type": "stream",
     "text": [
      "47\n",
      "reflection_node: 3 at lv up: 2\n",
      "generate cos sim, ecul dist, and nodes sorted by cos sim\n"
     ]
    },
    {
     "name": "stderr",
     "output_type": "stream",
     "text": [
      "127.0.0.1 - - [06/Oct/2024 15:27:58] \"POST /graph_tree_circle_click HTTP/1.1\" 200 -\n"
     ]
    },
    {
     "name": "stdout",
     "output_type": "stream",
     "text": [
      "52\n",
      "reflection_node: 3 at lv up: 2\n",
      "generate cos sim, ecul dist, and nodes sorted by cos sim\n"
     ]
    },
    {
     "name": "stderr",
     "output_type": "stream",
     "text": [
      "127.0.0.1 - - [06/Oct/2024 15:28:01] \"POST /graph_tree_circle_click HTTP/1.1\" 200 -\n"
     ]
    },
    {
     "name": "stdout",
     "output_type": "stream",
     "text": [
      "49\n",
      "reflection_node: 3 at lv up: 2\n",
      "generate cos sim, ecul dist, and nodes sorted by cos sim\n"
     ]
    },
    {
     "name": "stderr",
     "output_type": "stream",
     "text": [
      "127.0.0.1 - - [06/Oct/2024 15:28:04] \"POST /graph_tree_circle_click HTTP/1.1\" 200 -\n"
     ]
    },
    {
     "name": "stdout",
     "output_type": "stream",
     "text": [
      "50\n",
      "reflection_node: 3 at lv up: 2\n",
      "generate cos sim, ecul dist, and nodes sorted by cos sim\n"
     ]
    },
    {
     "name": "stderr",
     "output_type": "stream",
     "text": [
      "127.0.0.1 - - [06/Oct/2024 15:28:07] \"POST /graph_tree_circle_click HTTP/1.1\" 200 -\n"
     ]
    },
    {
     "name": "stdout",
     "output_type": "stream",
     "text": [
      "58\n",
      "reflection_node: 3 at lv up: 2\n",
      "generate cos sim, ecul dist, and nodes sorted by cos sim\n"
     ]
    },
    {
     "name": "stderr",
     "output_type": "stream",
     "text": [
      "127.0.0.1 - - [06/Oct/2024 15:28:09] \"POST /graph_tree_circle_click HTTP/1.1\" 200 -\n"
     ]
    },
    {
     "name": "stdout",
     "output_type": "stream",
     "text": [
      "47\n",
      "reflection_node: 3 at lv up: 2\n",
      "generate cos sim, ecul dist, and nodes sorted by cos sim\n"
     ]
    },
    {
     "name": "stderr",
     "output_type": "stream",
     "text": [
      "127.0.0.1 - - [06/Oct/2024 15:28:13] \"POST /graph_tree_circle_click HTTP/1.1\" 200 -\n"
     ]
    },
    {
     "name": "stdout",
     "output_type": "stream",
     "text": [
      "57\n",
      "reflection_node: 3 at lv up: 2\n",
      "generate cos sim, ecul dist, and nodes sorted by cos sim\n"
     ]
    },
    {
     "name": "stderr",
     "output_type": "stream",
     "text": [
      "127.0.0.1 - - [06/Oct/2024 15:28:17] \"POST /graph_tree_circle_click HTTP/1.1\" 200 -\n"
     ]
    },
    {
     "name": "stdout",
     "output_type": "stream",
     "text": [
      "53\n",
      "reflection_node: 3 at lv up: 2\n",
      "generate cos sim, ecul dist, and nodes sorted by cos sim\n"
     ]
    },
    {
     "name": "stderr",
     "output_type": "stream",
     "text": [
      "127.0.0.1 - - [06/Oct/2024 15:28:18] \"POST /graph_tree_circle_click HTTP/1.1\" 200 -\n"
     ]
    },
    {
     "name": "stdout",
     "output_type": "stream",
     "text": [
      "48\n",
      "reflection_node: 3 at lv up: 2\n",
      "generate cos sim, ecul dist, and nodes sorted by cos sim\n"
     ]
    },
    {
     "name": "stderr",
     "output_type": "stream",
     "text": [
      "127.0.0.1 - - [06/Oct/2024 15:28:20] \"POST /graph_tree_circle_click HTTP/1.1\" 200 -\n"
     ]
    },
    {
     "name": "stdout",
     "output_type": "stream",
     "text": [
      "60\n",
      "reflection_node: 3 at lv up: 2\n",
      "generate cos sim, ecul dist, and nodes sorted by cos sim\n"
     ]
    },
    {
     "name": "stderr",
     "output_type": "stream",
     "text": [
      "127.0.0.1 - - [06/Oct/2024 15:28:21] \"POST /graph_tree_circle_click HTTP/1.1\" 200 -\n"
     ]
    },
    {
     "name": "stdout",
     "output_type": "stream",
     "text": [
      "57\n",
      "reflection_node: 3 at lv up: 2\n",
      "generate cos sim, ecul dist, and nodes sorted by cos sim\n"
     ]
    },
    {
     "name": "stderr",
     "output_type": "stream",
     "text": [
      "127.0.0.1 - - [06/Oct/2024 15:28:22] \"POST /graph_tree_circle_click HTTP/1.1\" 200 -\n"
     ]
    },
    {
     "name": "stdout",
     "output_type": "stream",
     "text": [
      "55\n",
      "reflection_node: 3 at lv up: 2\n",
      "generate cos sim, ecul dist, and nodes sorted by cos sim\n"
     ]
    },
    {
     "name": "stderr",
     "output_type": "stream",
     "text": [
      "127.0.0.1 - - [06/Oct/2024 15:28:22] \"POST /graph_tree_circle_click HTTP/1.1\" 200 -\n"
     ]
    },
    {
     "name": "stdout",
     "output_type": "stream",
     "text": [
      "48\n",
      "reflection_node: 3 at lv up: 2\n",
      "generate cos sim, ecul dist, and nodes sorted by cos sim\n"
     ]
    },
    {
     "name": "stderr",
     "output_type": "stream",
     "text": [
      "127.0.0.1 - - [06/Oct/2024 15:28:23] \"POST /graph_tree_circle_click HTTP/1.1\" 200 -\n"
     ]
    },
    {
     "name": "stdout",
     "output_type": "stream",
     "text": [
      "55\n",
      "reflection_node: 3 at lv up: 2\n",
      "generate cos sim, ecul dist, and nodes sorted by cos sim\n"
     ]
    },
    {
     "name": "stderr",
     "output_type": "stream",
     "text": [
      "127.0.0.1 - - [06/Oct/2024 15:28:26] \"POST /graph_tree_circle_click HTTP/1.1\" 200 -\n"
     ]
    },
    {
     "name": "stdout",
     "output_type": "stream",
     "text": [
      "57\n",
      "reflection_node: 3 at lv up: 2\n",
      "generate cos sim, ecul dist, and nodes sorted by cos sim\n"
     ]
    },
    {
     "name": "stderr",
     "output_type": "stream",
     "text": [
      "127.0.0.1 - - [06/Oct/2024 15:28:26] \"POST /graph_tree_circle_click HTTP/1.1\" 200 -\n"
     ]
    },
    {
     "name": "stdout",
     "output_type": "stream",
     "text": [
      "60\n",
      "reflection_node: 3 at lv up: 2\n",
      "generate cos sim, ecul dist, and nodes sorted by cos sim\n"
     ]
    },
    {
     "name": "stderr",
     "output_type": "stream",
     "text": [
      "127.0.0.1 - - [06/Oct/2024 15:28:27] \"POST /graph_tree_circle_click HTTP/1.1\" 200 -\n"
     ]
    },
    {
     "name": "stdout",
     "output_type": "stream",
     "text": [
      "60\n",
      "reflection_node: 3 at lv up: 2\n",
      "generate cos sim, ecul dist, and nodes sorted by cos sim\n"
     ]
    },
    {
     "name": "stderr",
     "output_type": "stream",
     "text": [
      "127.0.0.1 - - [06/Oct/2024 15:28:27] \"POST /graph_tree_circle_click HTTP/1.1\" 200 -\n"
     ]
    },
    {
     "name": "stdout",
     "output_type": "stream",
     "text": [
      "57\n",
      "reflection_node: 3 at lv up: 2\n",
      "generate cos sim, ecul dist, and nodes sorted by cos sim\n"
     ]
    },
    {
     "name": "stderr",
     "output_type": "stream",
     "text": [
      "127.0.0.1 - - [06/Oct/2024 15:28:27] \"POST /graph_tree_circle_click HTTP/1.1\" 200 -\n"
     ]
    },
    {
     "name": "stdout",
     "output_type": "stream",
     "text": [
      "48\n",
      "reflection_node: 3 at lv up: 2\n",
      "generate cos sim, ecul dist, and nodes sorted by cos sim\n"
     ]
    },
    {
     "name": "stderr",
     "output_type": "stream",
     "text": [
      "127.0.0.1 - - [06/Oct/2024 15:28:28] \"POST /graph_tree_circle_click HTTP/1.1\" 200 -\n"
     ]
    },
    {
     "name": "stdout",
     "output_type": "stream",
     "text": [
      "53\n",
      "reflection_node: 3 at lv up: 2\n",
      "generate cos sim, ecul dist, and nodes sorted by cos sim\n"
     ]
    },
    {
     "name": "stderr",
     "output_type": "stream",
     "text": [
      "127.0.0.1 - - [06/Oct/2024 15:28:28] \"POST /graph_tree_circle_click HTTP/1.1\" 200 -\n"
     ]
    },
    {
     "name": "stdout",
     "output_type": "stream",
     "text": [
      "47\n",
      "reflection_node: 3 at lv up: 2\n",
      "generate cos sim, ecul dist, and nodes sorted by cos sim\n"
     ]
    },
    {
     "name": "stderr",
     "output_type": "stream",
     "text": [
      "127.0.0.1 - - [06/Oct/2024 15:28:29] \"POST /graph_tree_circle_click HTTP/1.1\" 200 -\n"
     ]
    },
    {
     "name": "stdout",
     "output_type": "stream",
     "text": [
      "50\n",
      "reflection_node: 3 at lv up: 2\n",
      "generate cos sim, ecul dist, and nodes sorted by cos sim\n"
     ]
    },
    {
     "name": "stderr",
     "output_type": "stream",
     "text": [
      "127.0.0.1 - - [06/Oct/2024 15:28:30] \"POST /graph_tree_circle_click HTTP/1.1\" 200 -\n"
     ]
    },
    {
     "name": "stdout",
     "output_type": "stream",
     "text": [
      "49\n",
      "reflection_node: 3 at lv up: 2\n",
      "generate cos sim, ecul dist, and nodes sorted by cos sim\n"
     ]
    },
    {
     "name": "stderr",
     "output_type": "stream",
     "text": [
      "127.0.0.1 - - [06/Oct/2024 15:28:30] \"POST /graph_tree_circle_click HTTP/1.1\" 200 -\n"
     ]
    },
    {
     "name": "stdout",
     "output_type": "stream",
     "text": [
      "52\n",
      "reflection_node: 3 at lv up: 2\n",
      "generate cos sim, ecul dist, and nodes sorted by cos sim\n"
     ]
    },
    {
     "name": "stderr",
     "output_type": "stream",
     "text": [
      "127.0.0.1 - - [06/Oct/2024 15:28:40] \"POST /handle_recom HTTP/1.1\" 200 -\n"
     ]
    },
    {
     "name": "stdout",
     "output_type": "stream",
     "text": [
      "reflection_node: 18 at lv up: 2\n",
      "generate cos sim, ecul dist, and nodes sorted by cos sim\n"
     ]
    },
    {
     "name": "stderr",
     "output_type": "stream",
     "text": [
      "127.0.0.1 - - [06/Oct/2024 15:28:46] \"POST /graph_tree_circle_click HTTP/1.1\" 200 -\n"
     ]
    },
    {
     "name": "stdout",
     "output_type": "stream",
     "text": [
      "95\n",
      "reflection_node: 18 at lv up: 2\n",
      "generate cos sim, ecul dist, and nodes sorted by cos sim\n"
     ]
    },
    {
     "name": "stderr",
     "output_type": "stream",
     "text": [
      "127.0.0.1 - - [06/Oct/2024 15:28:49] \"POST /graph_tree_circle_click HTTP/1.1\" 200 -\n"
     ]
    },
    {
     "name": "stdout",
     "output_type": "stream",
     "text": [
      "64\n",
      "reflection_node: 4 at lv up: 2\n",
      "generate cos sim, ecul dist, and nodes sorted by cos sim\n"
     ]
    },
    {
     "name": "stderr",
     "output_type": "stream",
     "text": [
      "127.0.0.1 - - [06/Oct/2024 15:28:54] \"POST /graph_tree_circle_click HTTP/1.1\" 200 -\n"
     ]
    },
    {
     "name": "stdout",
     "output_type": "stream",
     "text": [
      "62\n",
      "reflection_node: 4 at lv up: 2\n",
      "generate cos sim, ecul dist, and nodes sorted by cos sim\n"
     ]
    },
    {
     "name": "stderr",
     "output_type": "stream",
     "text": [
      "127.0.0.1 - - [06/Oct/2024 15:28:56] \"POST /graph_tree_circle_click HTTP/1.1\" 200 -\n"
     ]
    },
    {
     "name": "stdout",
     "output_type": "stream",
     "text": [
      "64\n",
      "reflection_node: 4 at lv up: 2\n",
      "generate cos sim, ecul dist, and nodes sorted by cos sim\n"
     ]
    },
    {
     "name": "stderr",
     "output_type": "stream",
     "text": [
      "127.0.0.1 - - [06/Oct/2024 15:28:58] \"POST /graph_tree_circle_click HTTP/1.1\" 200 -\n"
     ]
    },
    {
     "name": "stdout",
     "output_type": "stream",
     "text": [
      "63\n",
      "reflection_node: 4 at lv up: 2\n",
      "generate cos sim, ecul dist, and nodes sorted by cos sim\n"
     ]
    },
    {
     "name": "stderr",
     "output_type": "stream",
     "text": [
      "127.0.0.1 - - [06/Oct/2024 15:29:01] \"POST /graph_tree_circle_click HTTP/1.1\" 200 -\n"
     ]
    },
    {
     "name": "stdout",
     "output_type": "stream",
     "text": [
      "61\n",
      "reflection_node: 4 at lv up: 2\n",
      "generate cos sim, ecul dist, and nodes sorted by cos sim\n"
     ]
    },
    {
     "name": "stderr",
     "output_type": "stream",
     "text": [
      "127.0.0.1 - - [06/Oct/2024 15:29:05] \"POST /graph_tree_circle_click HTTP/1.1\" 200 -\n"
     ]
    },
    {
     "name": "stdout",
     "output_type": "stream",
     "text": [
      "62\n",
      "reflection_node: 4 at lv up: 2\n",
      "generate cos sim, ecul dist, and nodes sorted by cos sim\n"
     ]
    },
    {
     "name": "stderr",
     "output_type": "stream",
     "text": [
      "127.0.0.1 - - [06/Oct/2024 15:29:08] \"POST /graph_tree_circle_click HTTP/1.1\" 200 -\n"
     ]
    },
    {
     "name": "stdout",
     "output_type": "stream",
     "text": [
      "64\n",
      "reflection_node: 4 at lv up: 2\n",
      "generate cos sim, ecul dist, and nodes sorted by cos sim\n"
     ]
    },
    {
     "name": "stderr",
     "output_type": "stream",
     "text": [
      "127.0.0.1 - - [06/Oct/2024 15:29:11] \"POST /graph_tree_circle_click HTTP/1.1\" 200 -\n"
     ]
    },
    {
     "name": "stdout",
     "output_type": "stream",
     "text": [
      "62\n",
      "reflection_node: 4 at lv up: 2\n",
      "generate cos sim, ecul dist, and nodes sorted by cos sim\n"
     ]
    },
    {
     "name": "stderr",
     "output_type": "stream",
     "text": [
      "127.0.0.1 - - [06/Oct/2024 15:29:47] \"GET / HTTP/1.1\" 200 -\n",
      "127.0.0.1 - - [06/Oct/2024 15:29:47] \"GET /static/styles.css HTTP/1.1\" 304 -\n",
      "127.0.0.1 - - [06/Oct/2024 15:29:47] \"GET /static/graph_tree_shared_variable.js HTTP/1.1\" 304 -\n",
      "127.0.0.1 - - [06/Oct/2024 15:29:47] \"GET /static/curve_axis.js HTTP/1.1\" 304 -\n",
      "127.0.0.1 - - [06/Oct/2024 15:29:47] \"GET /static/scripts.js HTTP/1.1\" 304 -\n",
      "127.0.0.1 - - [06/Oct/2024 15:29:47] \"GET /static/graph_tree.js HTTP/1.1\" 200 -\n",
      "127.0.0.1 - - [06/Oct/2024 15:29:48] \"GET /sliders HTTP/1.1\" 200 -\n",
      "127.0.0.1 - - [06/Oct/2024 15:29:48] \"GET /recom HTTP/1.1\" 200 -\n",
      "127.0.0.1 - - [06/Oct/2024 15:29:48] \"GET /graph_tree_data HTTP/1.1\" 200 -\n",
      "127.0.0.1 - - [06/Oct/2024 15:29:48] \"GET /tree_data HTTP/1.1\" 200 -\n",
      "127.0.0.1 - - [06/Oct/2024 15:30:00] \"GET / HTTP/1.1\" 200 -\n",
      "127.0.0.1 - - [06/Oct/2024 15:30:00] \"GET /static/styles.css HTTP/1.1\" 304 -\n",
      "127.0.0.1 - - [06/Oct/2024 15:30:00] \"GET /static/graph_tree_shared_variable.js HTTP/1.1\" 304 -\n",
      "127.0.0.1 - - [06/Oct/2024 15:30:00] \"GET /static/curve_axis.js HTTP/1.1\" 304 -\n",
      "127.0.0.1 - - [06/Oct/2024 15:30:00] \"GET /static/scripts.js HTTP/1.1\" 304 -\n",
      "127.0.0.1 - - [06/Oct/2024 15:30:00] \"GET /static/graph_tree.js HTTP/1.1\" 200 -\n",
      "127.0.0.1 - - [06/Oct/2024 15:30:00] \"GET /sliders HTTP/1.1\" 200 -\n",
      "127.0.0.1 - - [06/Oct/2024 15:30:00] \"GET /recom HTTP/1.1\" 200 -\n",
      "127.0.0.1 - - [06/Oct/2024 15:30:00] \"GET /graph_tree_data HTTP/1.1\" 200 -\n",
      "127.0.0.1 - - [06/Oct/2024 15:30:00] \"GET /tree_data HTTP/1.1\" 200 -\n",
      "127.0.0.1 - - [06/Oct/2024 15:30:04] \"POST /graph_tree_circle_click HTTP/1.1\" 200 -\n"
     ]
    },
    {
     "name": "stdout",
     "output_type": "stream",
     "text": [
      "101\n",
      "reflection_node: 33 at lv up: 2\n",
      "generate cos sim, ecul dist, and nodes sorted by cos sim\n"
     ]
    },
    {
     "name": "stderr",
     "output_type": "stream",
     "text": [
      "127.0.0.1 - - [06/Oct/2024 15:30:08] \"POST /graph_tree_circle_click HTTP/1.1\" 200 -\n"
     ]
    },
    {
     "name": "stdout",
     "output_type": "stream",
     "text": [
      "103\n",
      "reflection_node: 33 at lv up: 2\n",
      "generate cos sim, ecul dist, and nodes sorted by cos sim\n"
     ]
    },
    {
     "name": "stderr",
     "output_type": "stream",
     "text": [
      "127.0.0.1 - - [06/Oct/2024 15:30:10] \"POST /handle_recom HTTP/1.1\" 200 -\n"
     ]
    },
    {
     "name": "stdout",
     "output_type": "stream",
     "text": [
      "reflection_node: 3 at lv up: 2\n",
      "generate cos sim, ecul dist, and nodes sorted by cos sim\n"
     ]
    },
    {
     "name": "stderr",
     "output_type": "stream",
     "text": [
      "127.0.0.1 - - [06/Oct/2024 15:30:14] \"POST /handle_recom HTTP/1.1\" 200 -\n"
     ]
    },
    {
     "name": "stdout",
     "output_type": "stream",
     "text": [
      "reflection_node: 11 at lv up: 2\n",
      "generate cos sim, ecul dist, and nodes sorted by cos sim\n"
     ]
    },
    {
     "name": "stderr",
     "output_type": "stream",
     "text": [
      "127.0.0.1 - - [06/Oct/2024 15:30:18] \"POST /handle_recom HTTP/1.1\" 200 -\n"
     ]
    },
    {
     "name": "stdout",
     "output_type": "stream",
     "text": [
      "reflection_node: 3 at lv up: 2\n",
      "generate cos sim, ecul dist, and nodes sorted by cos sim\n"
     ]
    },
    {
     "name": "stderr",
     "output_type": "stream",
     "text": [
      "127.0.0.1 - - [06/Oct/2024 15:30:37] \"GET / HTTP/1.1\" 200 -\n",
      "127.0.0.1 - - [06/Oct/2024 15:30:37] \"GET /static/styles.css HTTP/1.1\" 304 -\n",
      "127.0.0.1 - - [06/Oct/2024 15:30:37] \"GET /static/graph_tree_shared_variable.js HTTP/1.1\" 304 -\n",
      "127.0.0.1 - - [06/Oct/2024 15:30:37] \"GET /static/curve_axis.js HTTP/1.1\" 304 -\n",
      "127.0.0.1 - - [06/Oct/2024 15:30:37] \"GET /static/scripts.js HTTP/1.1\" 304 -\n",
      "127.0.0.1 - - [06/Oct/2024 15:30:37] \"GET /static/graph_tree.js HTTP/1.1\" 200 -\n",
      "127.0.0.1 - - [06/Oct/2024 15:30:37] \"GET /sliders HTTP/1.1\" 200 -\n",
      "127.0.0.1 - - [06/Oct/2024 15:30:37] \"GET /recom HTTP/1.1\" 200 -\n",
      "127.0.0.1 - - [06/Oct/2024 15:30:37] \"GET /graph_tree_data HTTP/1.1\" 200 -\n",
      "127.0.0.1 - - [06/Oct/2024 15:30:37] \"GET /tree_data HTTP/1.1\" 200 -\n",
      "127.0.0.1 - - [06/Oct/2024 15:30:40] \"POST /graph_tree_circle_click HTTP/1.1\" 200 -\n"
     ]
    },
    {
     "name": "stdout",
     "output_type": "stream",
     "text": [
      "101\n",
      "reflection_node: 33 at lv up: 2\n",
      "generate cos sim, ecul dist, and nodes sorted by cos sim\n"
     ]
    },
    {
     "name": "stderr",
     "output_type": "stream",
     "text": [
      "127.0.0.1 - - [06/Oct/2024 15:30:43] \"POST /handle_recom HTTP/1.1\" 200 -\n"
     ]
    },
    {
     "name": "stdout",
     "output_type": "stream",
     "text": [
      "reflection_node: 3 at lv up: 2\n",
      "generate cos sim, ecul dist, and nodes sorted by cos sim\n"
     ]
    },
    {
     "name": "stderr",
     "output_type": "stream",
     "text": [
      "127.0.0.1 - - [06/Oct/2024 15:31:09] \"POST /handle_recom HTTP/1.1\" 200 -\n"
     ]
    },
    {
     "name": "stdout",
     "output_type": "stream",
     "text": [
      "reflection_node: 11 at lv up: 2\n",
      "generate cos sim, ecul dist, and nodes sorted by cos sim\n"
     ]
    },
    {
     "name": "stderr",
     "output_type": "stream",
     "text": [
      "127.0.0.1 - - [06/Oct/2024 15:31:14] \"POST /handle_recom HTTP/1.1\" 200 -\n"
     ]
    },
    {
     "name": "stdout",
     "output_type": "stream",
     "text": [
      "reflection_node: 18 at lv up: 2\n",
      "generate cos sim, ecul dist, and nodes sorted by cos sim\n"
     ]
    },
    {
     "name": "stderr",
     "output_type": "stream",
     "text": [
      "127.0.0.1 - - [06/Oct/2024 15:32:01] \"POST /graph_tree_circle_click HTTP/1.1\" 200 -\n"
     ]
    },
    {
     "name": "stdout",
     "output_type": "stream",
     "text": [
      "95\n",
      "reflection_node: 18 at lv up: 2\n",
      "generate cos sim, ecul dist, and nodes sorted by cos sim\n"
     ]
    },
    {
     "name": "stderr",
     "output_type": "stream",
     "text": [
      "127.0.0.1 - - [06/Oct/2024 15:32:05] \"POST /graph_tree_circle_click HTTP/1.1\" 200 -\n"
     ]
    },
    {
     "name": "stdout",
     "output_type": "stream",
     "text": [
      "64\n",
      "reflection_node: 4 at lv up: 2\n",
      "generate cos sim, ecul dist, and nodes sorted by cos sim\n"
     ]
    },
    {
     "name": "stderr",
     "output_type": "stream",
     "text": [
      "127.0.0.1 - - [06/Oct/2024 15:32:12] \"POST /graph_tree_circle_click HTTP/1.1\" 200 -\n"
     ]
    },
    {
     "name": "stdout",
     "output_type": "stream",
     "text": [
      "63\n",
      "reflection_node: 4 at lv up: 2\n",
      "generate cos sim, ecul dist, and nodes sorted by cos sim\n"
     ]
    },
    {
     "name": "stderr",
     "output_type": "stream",
     "text": [
      "127.0.0.1 - - [06/Oct/2024 15:32:15] \"POST /graph_tree_circle_click HTTP/1.1\" 200 -\n"
     ]
    },
    {
     "name": "stdout",
     "output_type": "stream",
     "text": [
      "64\n",
      "reflection_node: 4 at lv up: 2\n",
      "generate cos sim, ecul dist, and nodes sorted by cos sim\n"
     ]
    },
    {
     "name": "stderr",
     "output_type": "stream",
     "text": [
      "127.0.0.1 - - [06/Oct/2024 15:32:17] \"POST /graph_tree_circle_click HTTP/1.1\" 200 -\n"
     ]
    },
    {
     "name": "stdout",
     "output_type": "stream",
     "text": [
      "61\n",
      "reflection_node: 4 at lv up: 2\n",
      "generate cos sim, ecul dist, and nodes sorted by cos sim\n"
     ]
    },
    {
     "name": "stderr",
     "output_type": "stream",
     "text": [
      "127.0.0.1 - - [06/Oct/2024 15:32:23] \"POST /graph_tree_circle_click HTTP/1.1\" 200 -\n"
     ]
    },
    {
     "name": "stdout",
     "output_type": "stream",
     "text": [
      "62\n",
      "reflection_node: 4 at lv up: 2\n",
      "generate cos sim, ecul dist, and nodes sorted by cos sim\n"
     ]
    },
    {
     "name": "stderr",
     "output_type": "stream",
     "text": [
      "127.0.0.1 - - [06/Oct/2024 15:32:27] \"POST /graph_tree_circle_click HTTP/1.1\" 200 -\n"
     ]
    },
    {
     "name": "stdout",
     "output_type": "stream",
     "text": [
      "64\n",
      "reflection_node: 4 at lv up: 2\n",
      "generate cos sim, ecul dist, and nodes sorted by cos sim\n"
     ]
    },
    {
     "name": "stderr",
     "output_type": "stream",
     "text": [
      "127.0.0.1 - - [06/Oct/2024 15:35:46] \"GET / HTTP/1.1\" 200 -\n",
      "127.0.0.1 - - [06/Oct/2024 15:35:46] \"GET /static/styles.css HTTP/1.1\" 304 -\n",
      "127.0.0.1 - - [06/Oct/2024 15:35:46] \"GET /static/graph_tree_shared_variable.js HTTP/1.1\" 304 -\n",
      "127.0.0.1 - - [06/Oct/2024 15:35:46] \"GET /static/curve_axis.js HTTP/1.1\" 304 -\n",
      "127.0.0.1 - - [06/Oct/2024 15:35:47] \"GET /static/scripts.js HTTP/1.1\" 304 -\n",
      "127.0.0.1 - - [06/Oct/2024 15:35:47] \"GET /static/graph_tree.js HTTP/1.1\" 200 -\n",
      "127.0.0.1 - - [06/Oct/2024 15:35:47] \"GET /sliders HTTP/1.1\" 200 -\n",
      "127.0.0.1 - - [06/Oct/2024 15:35:47] \"GET /recom HTTP/1.1\" 200 -\n",
      "127.0.0.1 - - [06/Oct/2024 15:35:47] \"GET /graph_tree_data HTTP/1.1\" 200 -\n",
      "127.0.0.1 - - [06/Oct/2024 15:35:47] \"GET /tree_data HTTP/1.1\" 200 -\n",
      "127.0.0.1 - - [06/Oct/2024 15:35:49] \"POST /graph_tree_circle_click HTTP/1.1\" 200 -\n"
     ]
    },
    {
     "name": "stdout",
     "output_type": "stream",
     "text": [
      "101\n",
      "reflection_node: 33 at lv up: 2\n",
      "generate cos sim, ecul dist, and nodes sorted by cos sim\n"
     ]
    },
    {
     "name": "stderr",
     "output_type": "stream",
     "text": [
      "127.0.0.1 - - [06/Oct/2024 15:36:28] \"GET / HTTP/1.1\" 200 -\n",
      "127.0.0.1 - - [06/Oct/2024 15:36:28] \"GET /static/styles.css HTTP/1.1\" 304 -\n",
      "127.0.0.1 - - [06/Oct/2024 15:36:29] \"GET /static/graph_tree_shared_variable.js HTTP/1.1\" 304 -\n",
      "127.0.0.1 - - [06/Oct/2024 15:36:29] \"GET /static/curve_axis.js HTTP/1.1\" 304 -\n",
      "127.0.0.1 - - [06/Oct/2024 15:36:29] \"GET /static/graph_tree.js HTTP/1.1\" 304 -\n",
      "127.0.0.1 - - [06/Oct/2024 15:36:29] \"GET /static/scripts.js HTTP/1.1\" 304 -\n",
      "127.0.0.1 - - [06/Oct/2024 15:36:29] \"GET /sliders HTTP/1.1\" 200 -\n",
      "127.0.0.1 - - [06/Oct/2024 15:36:29] \"GET /recom HTTP/1.1\" 200 -\n",
      "127.0.0.1 - - [06/Oct/2024 15:36:29] \"GET /graph_tree_data HTTP/1.1\" 200 -\n",
      "127.0.0.1 - - [06/Oct/2024 15:36:29] \"GET /tree_data HTTP/1.1\" 200 -\n",
      "127.0.0.1 - - [06/Oct/2024 15:36:52] \"GET / HTTP/1.1\" 200 -\n",
      "127.0.0.1 - - [06/Oct/2024 15:36:52] \"GET /static/styles.css HTTP/1.1\" 304 -\n",
      "127.0.0.1 - - [06/Oct/2024 15:36:52] \"GET /static/graph_tree_shared_variable.js HTTP/1.1\" 200 -\n",
      "127.0.0.1 - - [06/Oct/2024 15:36:52] \"GET /static/curve_axis.js HTTP/1.1\" 304 -\n",
      "127.0.0.1 - - [06/Oct/2024 15:36:52] \"GET /static/scripts.js HTTP/1.1\" 304 -\n",
      "127.0.0.1 - - [06/Oct/2024 15:36:52] \"GET /static/graph_tree.js HTTP/1.1\" 200 -\n",
      "127.0.0.1 - - [06/Oct/2024 15:36:52] \"GET /sliders HTTP/1.1\" 200 -\n",
      "127.0.0.1 - - [06/Oct/2024 15:36:52] \"GET /recom HTTP/1.1\" 200 -\n",
      "127.0.0.1 - - [06/Oct/2024 15:36:52] \"GET /graph_tree_data HTTP/1.1\" 200 -\n",
      "127.0.0.1 - - [06/Oct/2024 15:36:52] \"GET /tree_data HTTP/1.1\" 200 -\n",
      "127.0.0.1 - - [06/Oct/2024 15:36:54] \"POST /graph_tree_circle_click HTTP/1.1\" 200 -\n"
     ]
    },
    {
     "name": "stdout",
     "output_type": "stream",
     "text": [
      "101\n",
      "reflection_node: 33 at lv up: 2\n",
      "generate cos sim, ecul dist, and nodes sorted by cos sim\n"
     ]
    },
    {
     "name": "stderr",
     "output_type": "stream",
     "text": [
      "127.0.0.1 - - [06/Oct/2024 15:36:57] \"POST /graph_tree_circle_click HTTP/1.1\" 200 -\n"
     ]
    },
    {
     "name": "stdout",
     "output_type": "stream",
     "text": [
      "103\n",
      "reflection_node: 33 at lv up: 2\n",
      "generate cos sim, ecul dist, and nodes sorted by cos sim\n"
     ]
    },
    {
     "name": "stderr",
     "output_type": "stream",
     "text": [
      "127.0.0.1 - - [06/Oct/2024 15:36:59] \"POST /graph_tree_circle_click HTTP/1.1\" 200 -\n"
     ]
    },
    {
     "name": "stdout",
     "output_type": "stream",
     "text": [
      "101\n",
      "reflection_node: 33 at lv up: 2\n",
      "generate cos sim, ecul dist, and nodes sorted by cos sim\n"
     ]
    },
    {
     "name": "stderr",
     "output_type": "stream",
     "text": [
      "127.0.0.1 - - [06/Oct/2024 15:37:03] \"POST /graph_tree_circle_click HTTP/1.1\" 200 -\n"
     ]
    },
    {
     "name": "stdout",
     "output_type": "stream",
     "text": [
      "103\n",
      "reflection_node: 33 at lv up: 2\n",
      "generate cos sim, ecul dist, and nodes sorted by cos sim\n"
     ]
    },
    {
     "name": "stderr",
     "output_type": "stream",
     "text": [
      "127.0.0.1 - - [06/Oct/2024 15:37:10] \"POST /graph_tree_circle_click HTTP/1.1\" 200 -\n"
     ]
    },
    {
     "name": "stdout",
     "output_type": "stream",
     "text": [
      "101\n",
      "reflection_node: 33 at lv up: 2\n",
      "generate cos sim, ecul dist, and nodes sorted by cos sim\n"
     ]
    },
    {
     "name": "stderr",
     "output_type": "stream",
     "text": [
      "127.0.0.1 - - [06/Oct/2024 15:39:13] \"GET / HTTP/1.1\" 200 -\n",
      "127.0.0.1 - - [06/Oct/2024 15:39:13] \"GET /static/styles.css HTTP/1.1\" 304 -\n",
      "127.0.0.1 - - [06/Oct/2024 15:39:13] \"GET /static/graph_tree_shared_variable.js HTTP/1.1\" 304 -\n",
      "127.0.0.1 - - [06/Oct/2024 15:39:13] \"GET /static/curve_axis.js HTTP/1.1\" 304 -\n",
      "127.0.0.1 - - [06/Oct/2024 15:39:13] \"GET /static/scripts.js HTTP/1.1\" 304 -\n",
      "127.0.0.1 - - [06/Oct/2024 15:39:13] \"GET /static/graph_tree.js HTTP/1.1\" 200 -\n",
      "127.0.0.1 - - [06/Oct/2024 15:39:13] \"GET /sliders HTTP/1.1\" 200 -\n",
      "127.0.0.1 - - [06/Oct/2024 15:39:13] \"GET /recom HTTP/1.1\" 200 -\n",
      "127.0.0.1 - - [06/Oct/2024 15:39:13] \"GET /graph_tree_data HTTP/1.1\" 200 -\n",
      "127.0.0.1 - - [06/Oct/2024 15:39:13] \"GET /tree_data HTTP/1.1\" 200 -\n",
      "127.0.0.1 - - [06/Oct/2024 15:39:18] \"POST /graph_tree_circle_click HTTP/1.1\" 200 -\n"
     ]
    },
    {
     "name": "stdout",
     "output_type": "stream",
     "text": [
      "101\n",
      "reflection_node: 33 at lv up: 2\n",
      "generate cos sim, ecul dist, and nodes sorted by cos sim\n"
     ]
    },
    {
     "name": "stderr",
     "output_type": "stream",
     "text": [
      "127.0.0.1 - - [06/Oct/2024 15:39:29] \"GET / HTTP/1.1\" 200 -\n",
      "127.0.0.1 - - [06/Oct/2024 15:39:29] \"GET /static/graph_tree_shared_variable.js HTTP/1.1\" 304 -\n",
      "127.0.0.1 - - [06/Oct/2024 15:39:29] \"GET /static/curve_axis.js HTTP/1.1\" 304 -\n",
      "127.0.0.1 - - [06/Oct/2024 15:39:29] \"GET /static/styles.css HTTP/1.1\" 200 -\n",
      "127.0.0.1 - - [06/Oct/2024 15:39:29] \"GET /static/graph_tree.js HTTP/1.1\" 304 -\n",
      "127.0.0.1 - - [06/Oct/2024 15:39:29] \"GET /static/scripts.js HTTP/1.1\" 304 -\n",
      "127.0.0.1 - - [06/Oct/2024 15:39:30] \"GET /sliders HTTP/1.1\" 200 -\n",
      "127.0.0.1 - - [06/Oct/2024 15:39:30] \"GET /recom HTTP/1.1\" 200 -\n",
      "127.0.0.1 - - [06/Oct/2024 15:39:30] \"GET /graph_tree_data HTTP/1.1\" 200 -\n",
      "127.0.0.1 - - [06/Oct/2024 15:39:30] \"GET /tree_data HTTP/1.1\" 200 -\n",
      "127.0.0.1 - - [06/Oct/2024 15:39:32] \"POST /graph_tree_circle_click HTTP/1.1\" 200 -\n"
     ]
    },
    {
     "name": "stdout",
     "output_type": "stream",
     "text": [
      "101\n",
      "reflection_node: 33 at lv up: 2\n",
      "generate cos sim, ecul dist, and nodes sorted by cos sim\n"
     ]
    },
    {
     "name": "stderr",
     "output_type": "stream",
     "text": [
      "127.0.0.1 - - [06/Oct/2024 15:39:38] \"GET / HTTP/1.1\" 200 -\n",
      "127.0.0.1 - - [06/Oct/2024 15:39:38] \"GET /static/styles.css HTTP/1.1\" 304 -\n",
      "127.0.0.1 - - [06/Oct/2024 15:39:38] \"GET /static/graph_tree_shared_variable.js HTTP/1.1\" 304 -\n",
      "127.0.0.1 - - [06/Oct/2024 15:39:38] \"GET /static/curve_axis.js HTTP/1.1\" 304 -\n",
      "127.0.0.1 - - [06/Oct/2024 15:39:38] \"GET /static/graph_tree.js HTTP/1.1\" 304 -\n",
      "127.0.0.1 - - [06/Oct/2024 15:39:38] \"GET /static/scripts.js HTTP/1.1\" 304 -\n",
      "127.0.0.1 - - [06/Oct/2024 15:39:38] \"GET /sliders HTTP/1.1\" 200 -\n",
      "127.0.0.1 - - [06/Oct/2024 15:39:38] \"GET /recom HTTP/1.1\" 200 -\n",
      "127.0.0.1 - - [06/Oct/2024 15:39:38] \"GET /graph_tree_data HTTP/1.1\" 200 -\n",
      "127.0.0.1 - - [06/Oct/2024 15:39:38] \"GET /tree_data HTTP/1.1\" 200 -\n",
      "127.0.0.1 - - [06/Oct/2024 15:39:40] \"POST /graph_tree_circle_click HTTP/1.1\" 200 -\n"
     ]
    },
    {
     "name": "stdout",
     "output_type": "stream",
     "text": [
      "101\n",
      "reflection_node: 33 at lv up: 2\n",
      "generate cos sim, ecul dist, and nodes sorted by cos sim\n"
     ]
    },
    {
     "name": "stderr",
     "output_type": "stream",
     "text": [
      "127.0.0.1 - - [06/Oct/2024 15:40:16] \"POST /graph_tree_circle_click HTTP/1.1\" 200 -\n"
     ]
    },
    {
     "name": "stdout",
     "output_type": "stream",
     "text": [
      "103\n",
      "reflection_node: 33 at lv up: 2\n",
      "generate cos sim, ecul dist, and nodes sorted by cos sim\n"
     ]
    },
    {
     "name": "stderr",
     "output_type": "stream",
     "text": [
      "127.0.0.1 - - [06/Oct/2024 15:46:19] \"GET / HTTP/1.1\" 200 -\n",
      "127.0.0.1 - - [06/Oct/2024 15:46:19] \"GET /static/styles.css HTTP/1.1\" 200 -\n",
      "127.0.0.1 - - [06/Oct/2024 15:46:19] \"GET /static/graph_tree_shared_variable.js HTTP/1.1\" 200 -\n",
      "127.0.0.1 - - [06/Oct/2024 15:46:19] \"GET /static/curve_axis.js HTTP/1.1\" 200 -\n",
      "127.0.0.1 - - [06/Oct/2024 15:46:19] \"GET /static/scripts.js HTTP/1.1\" 304 -\n",
      "127.0.0.1 - - [06/Oct/2024 15:46:19] \"GET /static/graph_tree.js HTTP/1.1\" 200 -\n",
      "127.0.0.1 - - [06/Oct/2024 15:46:19] \"GET /sliders HTTP/1.1\" 200 -\n",
      "127.0.0.1 - - [06/Oct/2024 15:46:19] \"GET /recom HTTP/1.1\" 200 -\n",
      "127.0.0.1 - - [06/Oct/2024 15:46:19] \"GET /graph_tree_data HTTP/1.1\" 200 -\n",
      "127.0.0.1 - - [06/Oct/2024 15:46:19] \"GET /tree_data HTTP/1.1\" 200 -\n",
      "127.0.0.1 - - [06/Oct/2024 15:46:40] \"GET / HTTP/1.1\" 200 -\n",
      "127.0.0.1 - - [06/Oct/2024 15:46:40] \"GET /static/styles.css HTTP/1.1\" 304 -\n",
      "127.0.0.1 - - [06/Oct/2024 15:46:40] \"GET /static/graph_tree_shared_variable.js HTTP/1.1\" 304 -\n",
      "127.0.0.1 - - [06/Oct/2024 15:46:40] \"GET /static/curve_axis.js HTTP/1.1\" 304 -\n",
      "127.0.0.1 - - [06/Oct/2024 15:46:40] \"GET /static/scripts.js HTTP/1.1\" 304 -\n",
      "127.0.0.1 - - [06/Oct/2024 15:46:40] \"GET /static/graph_tree.js HTTP/1.1\" 200 -\n",
      "127.0.0.1 - - [06/Oct/2024 15:46:40] \"GET /sliders HTTP/1.1\" 200 -\n",
      "127.0.0.1 - - [06/Oct/2024 15:46:40] \"GET /recom HTTP/1.1\" 200 -\n",
      "127.0.0.1 - - [06/Oct/2024 15:46:40] \"GET /graph_tree_data HTTP/1.1\" 200 -\n",
      "127.0.0.1 - - [06/Oct/2024 15:46:40] \"GET /tree_data HTTP/1.1\" 200 -\n",
      "127.0.0.1 - - [06/Oct/2024 15:46:42] \"POST /graph_tree_circle_click HTTP/1.1\" 200 -\n"
     ]
    },
    {
     "name": "stdout",
     "output_type": "stream",
     "text": [
      "101\n",
      "reflection_node: 33 at lv up: 2\n",
      "generate cos sim, ecul dist, and nodes sorted by cos sim\n"
     ]
    },
    {
     "name": "stderr",
     "output_type": "stream",
     "text": [
      "127.0.0.1 - - [06/Oct/2024 15:47:14] \"GET / HTTP/1.1\" 200 -\n",
      "127.0.0.1 - - [06/Oct/2024 15:47:14] \"GET /static/styles.css HTTP/1.1\" 304 -\n",
      "127.0.0.1 - - [06/Oct/2024 15:47:14] \"GET /static/graph_tree_shared_variable.js HTTP/1.1\" 304 -\n",
      "127.0.0.1 - - [06/Oct/2024 15:47:14] \"GET /static/curve_axis.js HTTP/1.1\" 304 -\n",
      "127.0.0.1 - - [06/Oct/2024 15:47:14] \"GET /static/scripts.js HTTP/1.1\" 304 -\n",
      "127.0.0.1 - - [06/Oct/2024 15:47:14] \"GET /static/graph_tree.js HTTP/1.1\" 200 -\n",
      "127.0.0.1 - - [06/Oct/2024 15:47:14] \"GET /sliders HTTP/1.1\" 200 -\n",
      "127.0.0.1 - - [06/Oct/2024 15:47:14] \"GET /recom HTTP/1.1\" 200 -\n",
      "127.0.0.1 - - [06/Oct/2024 15:47:14] \"GET /graph_tree_data HTTP/1.1\" 200 -\n",
      "127.0.0.1 - - [06/Oct/2024 15:47:14] \"GET /tree_data HTTP/1.1\" 200 -\n",
      "127.0.0.1 - - [06/Oct/2024 15:47:16] \"POST /graph_tree_circle_click HTTP/1.1\" 200 -\n"
     ]
    },
    {
     "name": "stdout",
     "output_type": "stream",
     "text": [
      "101\n",
      "reflection_node: 33 at lv up: 2\n",
      "generate cos sim, ecul dist, and nodes sorted by cos sim\n"
     ]
    },
    {
     "name": "stderr",
     "output_type": "stream",
     "text": [
      "127.0.0.1 - - [06/Oct/2024 15:47:21] \"POST /graph_tree_circle_click HTTP/1.1\" 200 -\n"
     ]
    },
    {
     "name": "stdout",
     "output_type": "stream",
     "text": [
      "103\n",
      "reflection_node: 33 at lv up: 2\n",
      "generate cos sim, ecul dist, and nodes sorted by cos sim\n"
     ]
    },
    {
     "name": "stderr",
     "output_type": "stream",
     "text": [
      "127.0.0.1 - - [06/Oct/2024 20:58:43] \"GET / HTTP/1.1\" 200 -\n",
      "127.0.0.1 - - [06/Oct/2024 20:58:43] \"GET /static/styles.css HTTP/1.1\" 304 -\n",
      "127.0.0.1 - - [06/Oct/2024 20:58:43] \"GET /static/graph_tree.js HTTP/1.1\" 304 -\n",
      "127.0.0.1 - - [06/Oct/2024 20:58:43] \"GET /static/curve_axis.js HTTP/1.1\" 304 -\n",
      "127.0.0.1 - - [06/Oct/2024 20:58:43] \"GET /static/graph_tree_shared_variable.js HTTP/1.1\" 304 -\n",
      "127.0.0.1 - - [06/Oct/2024 20:58:43] \"GET /static/scripts.js HTTP/1.1\" 304 -\n",
      "127.0.0.1 - - [06/Oct/2024 20:58:43] \"GET /sliders HTTP/1.1\" 200 -\n",
      "127.0.0.1 - - [06/Oct/2024 20:58:43] \"GET /recom HTTP/1.1\" 200 -\n",
      "127.0.0.1 - - [06/Oct/2024 20:58:43] \"GET /graph_tree_data HTTP/1.1\" 200 -\n",
      "127.0.0.1 - - [06/Oct/2024 20:58:43] \"GET /tree_data HTTP/1.1\" 200 -\n",
      "127.0.0.1 - - [06/Oct/2024 20:58:50] \"POST /graph_tree_circle_click HTTP/1.1\" 200 -\n"
     ]
    },
    {
     "name": "stdout",
     "output_type": "stream",
     "text": [
      "101\n",
      "reflection_node: 33 at lv up: 2\n",
      "generate cos sim, ecul dist, and nodes sorted by cos sim\n"
     ]
    },
    {
     "name": "stderr",
     "output_type": "stream",
     "text": [
      "127.0.0.1 - - [07/Oct/2024 00:28:04] \"GET / HTTP/1.1\" 200 -\n",
      "127.0.0.1 - - [07/Oct/2024 00:28:04] \"GET /static/styles.css HTTP/1.1\" 304 -\n",
      "127.0.0.1 - - [07/Oct/2024 00:28:04] \"GET /static/curve_axis.js HTTP/1.1\" 304 -\n",
      "127.0.0.1 - - [07/Oct/2024 00:28:04] \"GET /static/graph_tree.js HTTP/1.1\" 200 -\n",
      "127.0.0.1 - - [07/Oct/2024 00:28:04] \"GET /static/graph_tree_shared_variable.js HTTP/1.1\" 304 -\n",
      "127.0.0.1 - - [07/Oct/2024 00:28:04] \"GET /static/scripts.js HTTP/1.1\" 304 -\n",
      "127.0.0.1 - - [07/Oct/2024 00:28:04] \"GET /sliders HTTP/1.1\" 200 -\n",
      "127.0.0.1 - - [07/Oct/2024 00:28:04] \"GET /recom HTTP/1.1\" 200 -\n",
      "127.0.0.1 - - [07/Oct/2024 00:28:04] \"GET /graph_tree_data HTTP/1.1\" 200 -\n",
      "127.0.0.1 - - [07/Oct/2024 00:28:04] \"GET /tree_data HTTP/1.1\" 200 -\n",
      "127.0.0.1 - - [07/Oct/2024 00:28:06] \"POST /graph_tree_circle_click HTTP/1.1\" 200 -\n"
     ]
    },
    {
     "name": "stdout",
     "output_type": "stream",
     "text": [
      "101\n",
      "reflection_node: 33 at lv up: 2\n",
      "generate cos sim, ecul dist, and nodes sorted by cos sim\n"
     ]
    },
    {
     "name": "stderr",
     "output_type": "stream",
     "text": [
      "127.0.0.1 - - [07/Oct/2024 00:28:21] \"GET / HTTP/1.1\" 200 -\n",
      "127.0.0.1 - - [07/Oct/2024 00:28:21] \"GET /static/styles.css HTTP/1.1\" 304 -\n",
      "127.0.0.1 - - [07/Oct/2024 00:28:21] \"GET /static/graph_tree_shared_variable.js HTTP/1.1\" 304 -\n",
      "127.0.0.1 - - [07/Oct/2024 00:28:21] \"GET /static/curve_axis.js HTTP/1.1\" 304 -\n",
      "127.0.0.1 - - [07/Oct/2024 00:28:21] \"GET /static/scripts.js HTTP/1.1\" 304 -\n",
      "127.0.0.1 - - [07/Oct/2024 00:28:21] \"GET /static/graph_tree.js HTTP/1.1\" 200 -\n",
      "127.0.0.1 - - [07/Oct/2024 00:28:21] \"GET /sliders HTTP/1.1\" 200 -\n",
      "127.0.0.1 - - [07/Oct/2024 00:28:21] \"GET /recom HTTP/1.1\" 200 -\n",
      "127.0.0.1 - - [07/Oct/2024 00:28:21] \"GET /graph_tree_data HTTP/1.1\" 200 -\n",
      "127.0.0.1 - - [07/Oct/2024 00:28:21] \"GET /tree_data HTTP/1.1\" 200 -\n",
      "127.0.0.1 - - [07/Oct/2024 00:28:23] \"POST /graph_tree_circle_click HTTP/1.1\" 200 -\n"
     ]
    },
    {
     "name": "stdout",
     "output_type": "stream",
     "text": [
      "101\n",
      "reflection_node: 33 at lv up: 2\n",
      "generate cos sim, ecul dist, and nodes sorted by cos sim\n"
     ]
    },
    {
     "name": "stderr",
     "output_type": "stream",
     "text": [
      "127.0.0.1 - - [07/Oct/2024 00:28:41] \"GET / HTTP/1.1\" 200 -\n",
      "127.0.0.1 - - [07/Oct/2024 00:28:41] \"GET /static/styles.css HTTP/1.1\" 304 -\n",
      "127.0.0.1 - - [07/Oct/2024 00:28:41] \"GET /static/graph_tree_shared_variable.js HTTP/1.1\" 304 -\n",
      "127.0.0.1 - - [07/Oct/2024 00:28:41] \"GET /static/curve_axis.js HTTP/1.1\" 304 -\n",
      "127.0.0.1 - - [07/Oct/2024 00:28:41] \"GET /static/graph_tree.js HTTP/1.1\" 200 -\n",
      "127.0.0.1 - - [07/Oct/2024 00:28:41] \"GET /static/scripts.js HTTP/1.1\" 304 -\n",
      "127.0.0.1 - - [07/Oct/2024 00:28:41] \"GET /sliders HTTP/1.1\" 200 -\n",
      "127.0.0.1 - - [07/Oct/2024 00:28:41] \"GET /recom HTTP/1.1\" 200 -\n",
      "127.0.0.1 - - [07/Oct/2024 00:28:41] \"GET /graph_tree_data HTTP/1.1\" 200 -\n",
      "127.0.0.1 - - [07/Oct/2024 00:28:41] \"GET /tree_data HTTP/1.1\" 200 -\n",
      "127.0.0.1 - - [07/Oct/2024 00:28:43] \"POST /graph_tree_circle_click HTTP/1.1\" 200 -\n"
     ]
    },
    {
     "name": "stdout",
     "output_type": "stream",
     "text": [
      "103\n",
      "reflection_node: 33 at lv up: 2\n",
      "generate cos sim, ecul dist, and nodes sorted by cos sim\n"
     ]
    },
    {
     "name": "stderr",
     "output_type": "stream",
     "text": [
      "127.0.0.1 - - [07/Oct/2024 00:28:51] \"POST /handle_recom HTTP/1.1\" 200 -\n"
     ]
    },
    {
     "name": "stdout",
     "output_type": "stream",
     "text": [
      "reflection_node: 11 at lv up: 2\n",
      "generate cos sim, ecul dist, and nodes sorted by cos sim\n"
     ]
    },
    {
     "name": "stderr",
     "output_type": "stream",
     "text": [
      "127.0.0.1 - - [07/Oct/2024 00:29:31] \"GET / HTTP/1.1\" 200 -\n",
      "127.0.0.1 - - [07/Oct/2024 00:29:31] \"GET /static/styles.css HTTP/1.1\" 304 -\n",
      "127.0.0.1 - - [07/Oct/2024 00:29:31] \"GET /static/graph_tree_shared_variable.js HTTP/1.1\" 304 -\n",
      "127.0.0.1 - - [07/Oct/2024 00:29:31] \"GET /static/curve_axis.js HTTP/1.1\" 304 -\n",
      "127.0.0.1 - - [07/Oct/2024 00:29:31] \"GET /static/scripts.js HTTP/1.1\" 304 -\n",
      "127.0.0.1 - - [07/Oct/2024 00:29:31] \"GET /static/graph_tree.js HTTP/1.1\" 200 -\n",
      "127.0.0.1 - - [07/Oct/2024 00:29:31] \"GET /sliders HTTP/1.1\" 200 -\n",
      "127.0.0.1 - - [07/Oct/2024 00:29:31] \"GET /recom HTTP/1.1\" 200 -\n",
      "127.0.0.1 - - [07/Oct/2024 00:29:31] \"GET /graph_tree_data HTTP/1.1\" 200 -\n",
      "127.0.0.1 - - [07/Oct/2024 00:29:31] \"GET /tree_data HTTP/1.1\" 200 -\n",
      "127.0.0.1 - - [07/Oct/2024 00:29:48] \"GET / HTTP/1.1\" 200 -\n",
      "127.0.0.1 - - [07/Oct/2024 00:29:48] \"GET /static/styles.css HTTP/1.1\" 304 -\n",
      "127.0.0.1 - - [07/Oct/2024 00:29:48] \"GET /static/graph_tree_shared_variable.js HTTP/1.1\" 304 -\n",
      "127.0.0.1 - - [07/Oct/2024 00:29:48] \"GET /static/curve_axis.js HTTP/1.1\" 304 -\n",
      "127.0.0.1 - - [07/Oct/2024 00:29:48] \"GET /static/scripts.js HTTP/1.1\" 304 -\n",
      "127.0.0.1 - - [07/Oct/2024 00:29:48] \"GET /static/graph_tree.js HTTP/1.1\" 200 -\n",
      "127.0.0.1 - - [07/Oct/2024 00:29:48] \"GET /sliders HTTP/1.1\" 200 -\n",
      "127.0.0.1 - - [07/Oct/2024 00:29:48] \"GET /recom HTTP/1.1\" 200 -\n",
      "127.0.0.1 - - [07/Oct/2024 00:29:48] \"GET /graph_tree_data HTTP/1.1\" 200 -\n",
      "127.0.0.1 - - [07/Oct/2024 00:29:48] \"GET /tree_data HTTP/1.1\" 200 -\n",
      "127.0.0.1 - - [07/Oct/2024 00:29:53] \"POST /handle_recom HTTP/1.1\" 200 -\n"
     ]
    },
    {
     "name": "stdout",
     "output_type": "stream",
     "text": [
      "reflection_node: 11 at lv up: 2\n",
      "generate cos sim, ecul dist, and nodes sorted by cos sim\n"
     ]
    },
    {
     "name": "stderr",
     "output_type": "stream",
     "text": [
      "127.0.0.1 - - [07/Oct/2024 00:30:43] \"GET / HTTP/1.1\" 200 -\n",
      "127.0.0.1 - - [07/Oct/2024 00:30:43] \"GET /static/styles.css HTTP/1.1\" 304 -\n",
      "127.0.0.1 - - [07/Oct/2024 00:30:43] \"GET /static/graph_tree_shared_variable.js HTTP/1.1\" 304 -\n",
      "127.0.0.1 - - [07/Oct/2024 00:30:43] \"GET /static/curve_axis.js HTTP/1.1\" 304 -\n",
      "127.0.0.1 - - [07/Oct/2024 00:30:43] \"GET /static/graph_tree.js HTTP/1.1\" 200 -\n",
      "127.0.0.1 - - [07/Oct/2024 00:30:43] \"GET /static/scripts.js HTTP/1.1\" 304 -\n",
      "127.0.0.1 - - [07/Oct/2024 00:30:43] \"GET /sliders HTTP/1.1\" 200 -\n",
      "127.0.0.1 - - [07/Oct/2024 00:30:43] \"GET /recom HTTP/1.1\" 200 -\n",
      "127.0.0.1 - - [07/Oct/2024 00:30:43] \"GET /graph_tree_data HTTP/1.1\" 200 -\n",
      "127.0.0.1 - - [07/Oct/2024 00:30:43] \"GET /tree_data HTTP/1.1\" 200 -\n",
      "127.0.0.1 - - [07/Oct/2024 00:30:45] \"POST /handle_recom HTTP/1.1\" 200 -\n"
     ]
    },
    {
     "name": "stdout",
     "output_type": "stream",
     "text": [
      "reflection_node: 11 at lv up: 2\n",
      "generate cos sim, ecul dist, and nodes sorted by cos sim\n"
     ]
    }
   ],
   "source": [
    "from flask import Flask, render_template, request, jsonify\n",
    "\n",
    "app = Flask(__name__)\n",
    "\n",
    "@app.route('/')\n",
    "def index():\n",
    "    return render_template('index.html')\n",
    "\n",
    "# slider ####################################################################\n",
    "@app.route('/sliders')\n",
    "def sliders():\n",
    "    return jsonify(sliders_data)\n",
    "\n",
    "@app.route('/handle_slider', methods=['POST'])\n",
    "def submit_slider_values():\n",
    "    data = request.json\n",
    "    print('Received slider values:', data)\n",
    "    query = np.array([float(val) for val in data.values()])\n",
    "    cur = gt.search(query)\n",
    "    graph_tree_data = gt.get_neighbour_cluster_data(cur.id)\n",
    "    # Process the data as needed\n",
    "    return jsonify({'status': 'slider respon success', 'graph_tree_data': graph_tree_data})\n",
    "# slider end ################################################################\n",
    "\n",
    "# recom ####################################################################\n",
    "@app.route('/recom')\n",
    "def recom():\n",
    "    return jsonify(recom_data)\n",
    "\n",
    "@app.route('/handle_recom', methods=['POST'])\n",
    "def handle_recom():\n",
    "    data = request.json\n",
    "    button_id = int(data.get('buttonId'))\n",
    "    val = int(data.get('val'))\n",
    "    # print(button_id, val)\n",
    "    moved_node = gt.recom[button_id][val]\n",
    "    graph_tree_data = gt.get_neighbour_cluster_data(moved_node.id)\n",
    "    # print(graph_tree_data)\n",
    "    return jsonify({'status': 'recom respon success', 'buttonId': button_id, 'val': val, \"graph_tree_data\": graph_tree_data})\n",
    "# recom end ####################################################################\n",
    "\n",
    "@app.route('/graph_tree_data')\n",
    "def graph():\n",
    "    return jsonify(graph_tree_data)\n",
    "\n",
    "@app.route('/graph_tree_circle_click', methods=['POST'])\n",
    "def graph_tree_circle_click():\n",
    "    data = request.json\n",
    "    id = int(data.get('id'))\n",
    "    print(id)\n",
    "    graph_tree_data = gt.get_neighbour_cluster_data(id)\n",
    "    return jsonify({'status': 'graph_tree_circle_click respon success', 'id': id, \"graph_tree_data\": graph_tree_data})\n",
    "\n",
    "\n",
    "@app.route('/tree_data')\n",
    "def tree():\n",
    "    return jsonify(tree_data)\n",
    "\n",
    "if __name__ == '__main__':\n",
    "    app.run(port=8123)\n"
   ]
  }
 ],
 "metadata": {
  "kernelspec": {
   "display_name": "Python 3",
   "language": "python",
   "name": "python3"
  },
  "language_info": {
   "codemirror_mode": {
    "name": "ipython",
    "version": 3
   },
   "file_extension": ".py",
   "mimetype": "text/x-python",
   "name": "python",
   "nbconvert_exporter": "python",
   "pygments_lexer": "ipython3",
   "version": "3.12.5"
  }
 },
 "nbformat": 4,
 "nbformat_minor": 2
}
