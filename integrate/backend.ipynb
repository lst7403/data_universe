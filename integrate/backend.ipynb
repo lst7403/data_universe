{
 "cells": [
  {
   "cell_type": "code",
   "execution_count": 1,
   "metadata": {},
   "outputs": [],
   "source": [
    "# load module and pre generate data\n",
    "from graph_tree_list_module import *\n",
    "\n",
    "import numpy as np\n",
    "\n",
    "import pickle\n",
    "\n",
    "# Open the file in binary read mode and load the object\n",
    "with open(\"graph_tree.pkl\", \"rb\") as file:\n",
    "    gt = pickle.load(file)\n"
   ]
  },
  {
   "cell_type": "code",
   "execution_count": 2,
   "metadata": {},
   "outputs": [
    {
     "name": "stdout",
     "output_type": "stream",
     "text": [
      "reflection_node: 33 at lv up: 2\n",
      "generate cos sim, ecul dist, and nodes sorted by cos sim\n",
      "[{'id': 68, 'r_ratio': 1.8666666666666667, 'cluster_type': 'parent'}, {'id': 100, 'cos_sim': np.float64(-0.6919149883285474), 'euclide_dist': np.float64(0.43876535496407915), 'r_ratio': 1.0222222222222221, 'cluster_type': 'neighbour'}, {'id': 99, 'cos_sim': np.float64(-0.4796494631127928), 'euclide_dist': np.float64(0.3753587143526724), 'r_ratio': 1.8888888888888888, 'cluster_type': 'neighbour'}, {'id': 103, 'cos_sim': np.float64(0.0886108123662816), 'euclide_dist': np.float64(0.5489406469067046), 'r_ratio': 0.28888888888888886, 'cluster_type': 'neighbour'}, {'id': 101, 'cos_sim': np.float64(0.4056903929821704), 'euclide_dist': np.float64(0.352040462795407), 'r_ratio': 0.5777777777777777, 'cluster_type': 'neighbour'}, {'id': 102, 'cos_sim': np.float64(1.0), 'euclide_dist': np.float64(0.0), 'r_ratio': 1.0, 'cluster_type': 'center'}]\n"
     ]
    }
   ],
   "source": [
    "sliders_data = [{\"id\": gt.attr_name[i], \"min\": gt.X_maxmin[1][i], \"max\": gt.X_maxmin[0][i], \"value\": gt.nodes[0].center[i], \"type\": \"f\"} for i in range(len(gt.attr_name))]\n",
    "# print(sliders_data)\n",
    "\n",
    "recom_data = [{\"i\": i, \"id\": gt.attr_name[i], \"max_val\": gt.recom[i][0].center[i], \"min_val\": gt.recom[i][1].center[i]} for i in range(len(gt.attr_name))]\n",
    "# print(recom_data)\n",
    "\n",
    "graph_tree_data = gt.get_graph_tree_svg_data(node_id = 102)\n",
    "\n",
    "tree_data = {\n",
    "        \"name\": \"Root\",\n",
    "        \"children\": [\n",
    "            {\n",
    "                \"name\": \"Child 1\",\n",
    "                \"children\": [\n",
    "                    {\"name\": \"Grandchild 1\"},\n",
    "                    {\"name\": \"Grandchild 2\"}\n",
    "                ]\n",
    "            },\n",
    "            {\n",
    "                \"name\": \"Child 2\",\n",
    "                \"children\": [\n",
    "                    {\"name\": \"Grandchild 3\"},\n",
    "                    {\"name\": \"Grandchild 4\"}\n",
    "                ]\n",
    "            }\n",
    "        ]\n",
    "    }"
   ]
  },
  {
   "cell_type": "code",
   "execution_count": 3,
   "metadata": {},
   "outputs": [
    {
     "name": "stdout",
     "output_type": "stream",
     "text": [
      " * Serving Flask app '__main__'\n",
      " * Debug mode: off\n"
     ]
    },
    {
     "name": "stderr",
     "output_type": "stream",
     "text": [
      "WARNING: This is a development server. Do not use it in a production deployment. Use a production WSGI server instead.\n",
      " * Running on http://127.0.0.1:8123\n",
      "Press CTRL+C to quit\n",
      "127.0.0.1 - - [08/Oct/2024 23:23:10] \"GET / HTTP/1.1\" 200 -\n",
      "127.0.0.1 - - [08/Oct/2024 23:23:10] \"GET /static/graph_tree.js HTTP/1.1\" 200 -\n",
      "127.0.0.1 - - [08/Oct/2024 23:23:10] \"GET /static/scripts.js HTTP/1.1\" 304 -\n",
      "127.0.0.1 - - [08/Oct/2024 23:23:10] \"GET /static/styles.css HTTP/1.1\" 304 -\n",
      "127.0.0.1 - - [08/Oct/2024 23:23:10] \"GET /static/graph_tree_shared_variable.js HTTP/1.1\" 200 -\n",
      "127.0.0.1 - - [08/Oct/2024 23:23:10] \"GET /static/curve_axis.js HTTP/1.1\" 200 -\n",
      "127.0.0.1 - - [08/Oct/2024 23:23:11] \"GET /tree_data HTTP/1.1\" 200 -\n",
      "127.0.0.1 - - [08/Oct/2024 23:23:11] \"GET /recom HTTP/1.1\" 200 -\n",
      "127.0.0.1 - - [08/Oct/2024 23:23:11] \"GET /sliders HTTP/1.1\" 200 -\n",
      "127.0.0.1 - - [08/Oct/2024 23:23:11] \"GET /graph_tree_data HTTP/1.1\" 200 -\n",
      "127.0.0.1 - - [08/Oct/2024 23:23:18] \"POST /handle_recom HTTP/1.1\" 200 -\n"
     ]
    },
    {
     "name": "stdout",
     "output_type": "stream",
     "text": [
      "reflection_node: 18 at lv up: 2\n",
      "generate cos sim, ecul dist, and nodes sorted by cos sim\n",
      "[{'id': 63, 'r_ratio': 1.9310344827586208, 'cluster_type': 'parent'}, {'id': 64, 'cos_sim': np.float64(-0.7491767364374148), 'euclide_dist': np.float64(0.42885340882396106), 'r_ratio': 1.6206896551724137, 'cluster_type': 'neighbour'}, {'id': 95, 'cos_sim': np.float64(-0.10809326544748014), 'euclide_dist': np.float64(0.3649020006930974), 'r_ratio': 0.9310344827586207, 'cluster_type': 'neighbour'}, {'id': 96, 'cos_sim': np.float64(1.0000000000000002), 'euclide_dist': np.float64(0.0), 'r_ratio': 1.0, 'cluster_type': 'center'}]\n"
     ]
    }
   ],
   "source": [
    "from flask import Flask, render_template, request, jsonify\n",
    "\n",
    "app = Flask(__name__)\n",
    "\n",
    "@app.route('/')\n",
    "def index():\n",
    "    return render_template('index.html')\n",
    "\n",
    "# slider ####################################################################\n",
    "@app.route('/sliders')\n",
    "def sliders():\n",
    "    return jsonify(sliders_data)\n",
    "\n",
    "@app.route('/handle_slider', methods=['POST'])\n",
    "def submit_slider_values():\n",
    "    data = request.json\n",
    "    print('Received slider values:', data)\n",
    "    query = np.array([float(val) for val in data.values()])\n",
    "    cur = gt.search(query)\n",
    "    graph_tree_data = gt.get_graph_tree_svg_data(cur.id)\n",
    "    # Process the data as needed\n",
    "    return jsonify({'status': 'slider respon success', 'graph_tree_data': graph_tree_data})\n",
    "# slider end ################################################################\n",
    "\n",
    "# recom ####################################################################\n",
    "@app.route('/recom')\n",
    "def recom():\n",
    "    return jsonify(recom_data)\n",
    "\n",
    "@app.route('/handle_recom', methods=['POST'])\n",
    "def handle_recom():\n",
    "    data = request.json\n",
    "    button_id = int(data.get('buttonId'))\n",
    "    val = int(data.get('val'))\n",
    "    # print(button_id, val)\n",
    "    moved_node = gt.recom[button_id][val]\n",
    "    graph_tree_data = gt.get_graph_tree_svg_data(moved_node.id)\n",
    "    # print(graph_tree_data)\n",
    "    return jsonify({'status': 'recom respon success', 'buttonId': button_id, 'val': val, \"graph_tree_data\": graph_tree_data})\n",
    "# recom end ####################################################################\n",
    "\n",
    "@app.route('/graph_tree_data')\n",
    "def graph():\n",
    "    return jsonify(graph_tree_data)\n",
    "\n",
    "@app.route('/graph_tree_circle_click', methods=['POST'])\n",
    "def graph_tree_circle_click():\n",
    "    data = request.json\n",
    "    id = int(data.get('id'))\n",
    "    print(id)\n",
    "    graph_tree_data = gt.get_graph_tree_svg_data(id)\n",
    "    return jsonify({'status': 'graph_tree_circle_click respon success', 'id': id, \"graph_tree_data\": graph_tree_data})\n",
    "\n",
    "\n",
    "@app.route('/tree_data')\n",
    "def tree():\n",
    "    return jsonify(tree_data)\n",
    "\n",
    "if __name__ == '__main__':\n",
    "    app.run(port=8123)\n"
   ]
  }
 ],
 "metadata": {
  "kernelspec": {
   "display_name": "Python 3",
   "language": "python",
   "name": "python3"
  },
  "language_info": {
   "codemirror_mode": {
    "name": "ipython",
    "version": 3
   },
   "file_extension": ".py",
   "mimetype": "text/x-python",
   "name": "python",
   "nbconvert_exporter": "python",
   "pygments_lexer": "ipython3",
   "version": "3.12.5"
  }
 },
 "nbformat": 4,
 "nbformat_minor": 2
}
