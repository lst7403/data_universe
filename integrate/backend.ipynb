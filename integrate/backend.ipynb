{
 "cells": [
  {
   "cell_type": "code",
   "execution_count": 1,
   "metadata": {},
   "outputs": [],
   "source": [
    "# load module and pre generate data\n",
    "from graph_tree_list_module import *\n",
    "\n",
    "import numpy as np\n",
    "\n",
    "import pickle\n",
    "\n",
    "# Open the file in binary read mode and load the object\n",
    "with open(\"graph_tree.pkl\", \"rb\") as file:\n",
    "    gt = pickle.load(file)\n"
   ]
  },
  {
   "cell_type": "code",
   "execution_count": 2,
   "metadata": {},
   "outputs": [
    {
     "name": "stdout",
     "output_type": "stream",
     "text": [
      "reflection_node: 11 at lv up: 2\n",
      "generate cos sim, ecul dist, and nodes sorted by cos sim\n"
     ]
    }
   ],
   "source": [
    "sliders_data = [{\"id\": gt.attr_name[i], \"min\": gt.X_maxmin[1][i], \"max\": gt.X_maxmin[0][i], \"value\": gt.nodes[0].center[i], \"type\": \"f\"} for i in range(len(gt.attr_name))]\n",
    "# print(sliders_data)\n",
    "\n",
    "recom_data = [{\"i\": i, \"id\": gt.attr_name[i], \"max_val\": gt.recom[i][0].center[i], \"min_val\": gt.recom[i][1].center[i]} for i in range(len(gt.attr_name))]\n",
    "# print(recom_data)\n",
    "\n",
    "graph_tree_data = gt.get_neighbour_cluster_data(node_id = 85)\n",
    "\n",
    "tree_data = {\n",
    "        \"name\": \"Root\",\n",
    "        \"children\": [\n",
    "            {\n",
    "                \"name\": \"Child 1\",\n",
    "                \"children\": [\n",
    "                    {\"name\": \"Grandchild 1\"},\n",
    "                    {\"name\": \"Grandchild 2\"}\n",
    "                ]\n",
    "            },\n",
    "            {\n",
    "                \"name\": \"Child 2\",\n",
    "                \"children\": [\n",
    "                    {\"name\": \"Grandchild 3\"},\n",
    "                    {\"name\": \"Grandchild 4\"}\n",
    "                ]\n",
    "            }\n",
    "        ]\n",
    "    }"
   ]
  },
  {
   "cell_type": "code",
   "execution_count": 3,
   "metadata": {},
   "outputs": [
    {
     "name": "stdout",
     "output_type": "stream",
     "text": [
      " * Serving Flask app '__main__'\n",
      " * Debug mode: off\n"
     ]
    },
    {
     "name": "stderr",
     "output_type": "stream",
     "text": [
      "WARNING: This is a development server. Do not use it in a production deployment. Use a production WSGI server instead.\n",
      " * Running on http://127.0.0.1:8123\n",
      "Press CTRL+C to quit\n",
      "127.0.0.1 - - [04/Oct/2024 17:06:43] \"GET / HTTP/1.1\" 200 -\n",
      "127.0.0.1 - - [04/Oct/2024 17:06:44] \"GET /static/styles.css HTTP/1.1\" 304 -\n",
      "127.0.0.1 - - [04/Oct/2024 17:06:44] \"GET /static/scripts.js HTTP/1.1\" 304 -\n",
      "127.0.0.1 - - [04/Oct/2024 17:06:44] \"GET /static/curve_axis.js HTTP/1.1\" 200 -\n",
      "127.0.0.1 - - [04/Oct/2024 17:06:44] \"GET /static/graph_tree.js HTTP/1.1\" 200 -\n",
      "127.0.0.1 - - [04/Oct/2024 17:06:44] \"GET /sliders HTTP/1.1\" 200 -\n",
      "127.0.0.1 - - [04/Oct/2024 17:06:44] \"GET /recom HTTP/1.1\" 200 -\n",
      "127.0.0.1 - - [04/Oct/2024 17:06:44] \"GET /graph_tree_data HTTP/1.1\" 200 -\n",
      "127.0.0.1 - - [04/Oct/2024 17:06:44] \"GET /tree_data HTTP/1.1\" 200 -\n",
      "127.0.0.1 - - [04/Oct/2024 17:09:13] \"GET / HTTP/1.1\" 200 -\n",
      "127.0.0.1 - - [04/Oct/2024 17:09:14] \"GET /static/styles.css HTTP/1.1\" 304 -\n",
      "127.0.0.1 - - [04/Oct/2024 17:09:14] \"GET /static/scripts.js HTTP/1.1\" 304 -\n",
      "127.0.0.1 - - [04/Oct/2024 17:09:14] \"GET /static/curve_axis.js HTTP/1.1\" 304 -\n",
      "127.0.0.1 - - [04/Oct/2024 17:09:14] \"GET /static/graph_tree.js HTTP/1.1\" 304 -\n",
      "127.0.0.1 - - [04/Oct/2024 17:09:14] \"GET /sliders HTTP/1.1\" 200 -\n",
      "127.0.0.1 - - [04/Oct/2024 17:09:14] \"GET /recom HTTP/1.1\" 200 -\n",
      "127.0.0.1 - - [04/Oct/2024 17:09:14] \"GET /graph_tree_data HTTP/1.1\" 200 -\n",
      "127.0.0.1 - - [04/Oct/2024 17:09:14] \"GET /tree_data HTTP/1.1\" 200 -\n",
      "127.0.0.1 - - [04/Oct/2024 17:11:49] \"GET / HTTP/1.1\" 200 -\n",
      "127.0.0.1 - - [04/Oct/2024 17:11:50] \"GET /static/styles.css HTTP/1.1\" 304 -\n",
      "127.0.0.1 - - [04/Oct/2024 17:11:50] \"GET /static/scripts.js HTTP/1.1\" 304 -\n",
      "127.0.0.1 - - [04/Oct/2024 17:11:50] \"GET /static/graph_tree.js HTTP/1.1\" 200 -\n",
      "127.0.0.1 - - [04/Oct/2024 17:11:50] \"GET /static/curve_axis.js HTTP/1.1\" 200 -\n",
      "127.0.0.1 - - [04/Oct/2024 17:11:50] \"GET /sliders HTTP/1.1\" 200 -\n",
      "127.0.0.1 - - [04/Oct/2024 17:11:50] \"GET /recom HTTP/1.1\" 200 -\n",
      "127.0.0.1 - - [04/Oct/2024 17:11:50] \"GET /graph_tree_data HTTP/1.1\" 200 -\n",
      "127.0.0.1 - - [04/Oct/2024 17:11:50] \"GET /tree_data HTTP/1.1\" 200 -\n",
      "127.0.0.1 - - [04/Oct/2024 17:12:39] \"GET / HTTP/1.1\" 200 -\n",
      "127.0.0.1 - - [04/Oct/2024 17:12:39] \"GET /static/styles.css HTTP/1.1\" 304 -\n",
      "127.0.0.1 - - [04/Oct/2024 17:12:39] \"GET /static/scripts.js HTTP/1.1\" 304 -\n",
      "127.0.0.1 - - [04/Oct/2024 17:12:39] \"GET /static/graph_tree.js HTTP/1.1\" 304 -\n",
      "127.0.0.1 - - [04/Oct/2024 17:12:39] \"GET /static/curve_axis.js HTTP/1.1\" 200 -\n",
      "127.0.0.1 - - [04/Oct/2024 17:12:39] \"GET /sliders HTTP/1.1\" 200 -\n",
      "127.0.0.1 - - [04/Oct/2024 17:12:39] \"GET /recom HTTP/1.1\" 200 -\n",
      "127.0.0.1 - - [04/Oct/2024 17:12:39] \"GET /graph_tree_data HTTP/1.1\" 200 -\n",
      "127.0.0.1 - - [04/Oct/2024 17:12:39] \"GET /tree_data HTTP/1.1\" 200 -\n",
      "127.0.0.1 - - [04/Oct/2024 17:12:50] \"GET / HTTP/1.1\" 200 -\n",
      "127.0.0.1 - - [04/Oct/2024 17:12:50] \"GET /static/styles.css HTTP/1.1\" 304 -\n",
      "127.0.0.1 - - [04/Oct/2024 17:12:50] \"GET /static/scripts.js HTTP/1.1\" 304 -\n",
      "127.0.0.1 - - [04/Oct/2024 17:12:50] \"GET /static/curve_axis.js HTTP/1.1\" 304 -\n",
      "127.0.0.1 - - [04/Oct/2024 17:12:50] \"GET /static/graph_tree.js HTTP/1.1\" 304 -\n",
      "127.0.0.1 - - [04/Oct/2024 17:12:50] \"GET /sliders HTTP/1.1\" 200 -\n",
      "127.0.0.1 - - [04/Oct/2024 17:12:50] \"GET /recom HTTP/1.1\" 200 -\n",
      "127.0.0.1 - - [04/Oct/2024 17:12:50] \"GET /graph_tree_data HTTP/1.1\" 200 -\n",
      "127.0.0.1 - - [04/Oct/2024 17:12:50] \"GET /tree_data HTTP/1.1\" 200 -\n",
      "127.0.0.1 - - [04/Oct/2024 17:12:51] \"GET / HTTP/1.1\" 200 -\n",
      "127.0.0.1 - - [04/Oct/2024 17:12:51] \"GET /static/styles.css HTTP/1.1\" 304 -\n",
      "127.0.0.1 - - [04/Oct/2024 17:12:51] \"GET /static/scripts.js HTTP/1.1\" 304 -\n",
      "127.0.0.1 - - [04/Oct/2024 17:12:51] \"GET /static/curve_axis.js HTTP/1.1\" 304 -\n",
      "127.0.0.1 - - [04/Oct/2024 17:12:51] \"GET /static/graph_tree.js HTTP/1.1\" 304 -\n",
      "127.0.0.1 - - [04/Oct/2024 17:12:51] \"GET /sliders HTTP/1.1\" 200 -\n",
      "127.0.0.1 - - [04/Oct/2024 17:12:51] \"GET /recom HTTP/1.1\" 200 -\n",
      "127.0.0.1 - - [04/Oct/2024 17:12:51] \"GET /graph_tree_data HTTP/1.1\" 200 -\n",
      "127.0.0.1 - - [04/Oct/2024 17:12:51] \"GET /tree_data HTTP/1.1\" 200 -\n",
      "127.0.0.1 - - [04/Oct/2024 17:12:52] \"GET / HTTP/1.1\" 200 -\n",
      "127.0.0.1 - - [04/Oct/2024 17:12:52] \"GET /static/styles.css HTTP/1.1\" 304 -\n",
      "127.0.0.1 - - [04/Oct/2024 17:12:52] \"GET /static/scripts.js HTTP/1.1\" 304 -\n",
      "127.0.0.1 - - [04/Oct/2024 17:12:52] \"GET /static/curve_axis.js HTTP/1.1\" 304 -\n",
      "127.0.0.1 - - [04/Oct/2024 17:12:52] \"GET /static/graph_tree.js HTTP/1.1\" 304 -\n",
      "127.0.0.1 - - [04/Oct/2024 17:12:52] \"GET /sliders HTTP/1.1\" 200 -\n",
      "127.0.0.1 - - [04/Oct/2024 17:12:52] \"GET /recom HTTP/1.1\" 200 -\n",
      "127.0.0.1 - - [04/Oct/2024 17:12:52] \"GET /graph_tree_data HTTP/1.1\" 200 -\n",
      "127.0.0.1 - - [04/Oct/2024 17:12:52] \"GET /tree_data HTTP/1.1\" 200 -\n",
      "127.0.0.1 - - [04/Oct/2024 17:12:52] \"GET / HTTP/1.1\" 200 -\n",
      "127.0.0.1 - - [04/Oct/2024 17:12:52] \"GET /static/styles.css HTTP/1.1\" 304 -\n",
      "127.0.0.1 - - [04/Oct/2024 17:12:52] \"GET /static/scripts.js HTTP/1.1\" 304 -\n",
      "127.0.0.1 - - [04/Oct/2024 17:12:52] \"GET /static/graph_tree.js HTTP/1.1\" 304 -\n",
      "127.0.0.1 - - [04/Oct/2024 17:12:52] \"GET /static/curve_axis.js HTTP/1.1\" 304 -\n",
      "127.0.0.1 - - [04/Oct/2024 17:12:52] \"GET /sliders HTTP/1.1\" 200 -\n",
      "127.0.0.1 - - [04/Oct/2024 17:12:52] \"GET /recom HTTP/1.1\" 200 -\n",
      "127.0.0.1 - - [04/Oct/2024 17:12:52] \"GET /graph_tree_data HTTP/1.1\" 200 -\n",
      "127.0.0.1 - - [04/Oct/2024 17:12:52] \"GET /tree_data HTTP/1.1\" 200 -\n",
      "127.0.0.1 - - [04/Oct/2024 17:13:14] \"GET / HTTP/1.1\" 200 -\n",
      "127.0.0.1 - - [04/Oct/2024 17:13:14] \"GET /static/styles.css HTTP/1.1\" 304 -\n",
      "127.0.0.1 - - [04/Oct/2024 17:13:14] \"GET /static/scripts.js HTTP/1.1\" 304 -\n",
      "127.0.0.1 - - [04/Oct/2024 17:13:14] \"GET /static/curve_axis.js HTTP/1.1\" 200 -\n",
      "127.0.0.1 - - [04/Oct/2024 17:13:14] \"GET /static/graph_tree.js HTTP/1.1\" 200 -\n",
      "127.0.0.1 - - [04/Oct/2024 17:13:14] \"GET /sliders HTTP/1.1\" 200 -\n",
      "127.0.0.1 - - [04/Oct/2024 17:13:14] \"GET /recom HTTP/1.1\" 200 -\n",
      "127.0.0.1 - - [04/Oct/2024 17:13:14] \"GET /graph_tree_data HTTP/1.1\" 200 -\n",
      "127.0.0.1 - - [04/Oct/2024 17:13:14] \"GET /tree_data HTTP/1.1\" 200 -\n",
      "127.0.0.1 - - [04/Oct/2024 17:13:18] \"GET /static/styles.css HTTP/1.1\" 304 -\n",
      "127.0.0.1 - - [04/Oct/2024 17:14:34] \"GET / HTTP/1.1\" 200 -\n",
      "127.0.0.1 - - [04/Oct/2024 17:14:34] \"GET /static/styles.css HTTP/1.1\" 304 -\n",
      "127.0.0.1 - - [04/Oct/2024 17:14:34] \"GET /static/scripts.js HTTP/1.1\" 304 -\n",
      "127.0.0.1 - - [04/Oct/2024 17:14:34] \"GET /static/curve_axis.js HTTP/1.1\" 200 -\n",
      "127.0.0.1 - - [04/Oct/2024 17:14:34] \"GET /static/graph_tree.js HTTP/1.1\" 200 -\n",
      "127.0.0.1 - - [04/Oct/2024 17:14:34] \"GET /sliders HTTP/1.1\" 200 -\n",
      "127.0.0.1 - - [04/Oct/2024 17:14:34] \"GET /recom HTTP/1.1\" 200 -\n",
      "127.0.0.1 - - [04/Oct/2024 17:14:34] \"GET /graph_tree_data HTTP/1.1\" 200 -\n",
      "127.0.0.1 - - [04/Oct/2024 17:14:34] \"GET /tree_data HTTP/1.1\" 200 -\n",
      "127.0.0.1 - - [04/Oct/2024 17:15:59] \"GET / HTTP/1.1\" 200 -\n",
      "127.0.0.1 - - [04/Oct/2024 17:15:59] \"GET /static/styles.css HTTP/1.1\" 304 -\n",
      "127.0.0.1 - - [04/Oct/2024 17:15:59] \"GET /static/scripts.js HTTP/1.1\" 304 -\n",
      "127.0.0.1 - - [04/Oct/2024 17:15:59] \"GET /static/graph_tree.js HTTP/1.1\" 304 -\n",
      "127.0.0.1 - - [04/Oct/2024 17:15:59] \"GET /static/curve_axis.js HTTP/1.1\" 200 -\n",
      "127.0.0.1 - - [04/Oct/2024 17:15:59] \"GET /sliders HTTP/1.1\" 200 -\n",
      "127.0.0.1 - - [04/Oct/2024 17:15:59] \"GET /recom HTTP/1.1\" 200 -\n",
      "127.0.0.1 - - [04/Oct/2024 17:15:59] \"GET /graph_tree_data HTTP/1.1\" 200 -\n",
      "127.0.0.1 - - [04/Oct/2024 17:15:59] \"GET /tree_data HTTP/1.1\" 200 -\n",
      "127.0.0.1 - - [04/Oct/2024 17:16:00] \"GET / HTTP/1.1\" 200 -\n",
      "127.0.0.1 - - [04/Oct/2024 17:16:00] \"GET /static/styles.css HTTP/1.1\" 304 -\n",
      "127.0.0.1 - - [04/Oct/2024 17:16:00] \"GET /static/scripts.js HTTP/1.1\" 304 -\n",
      "127.0.0.1 - - [04/Oct/2024 17:16:00] \"GET /static/curve_axis.js HTTP/1.1\" 304 -\n",
      "127.0.0.1 - - [04/Oct/2024 17:16:00] \"GET /static/graph_tree.js HTTP/1.1\" 304 -\n",
      "127.0.0.1 - - [04/Oct/2024 17:16:00] \"GET /sliders HTTP/1.1\" 200 -\n",
      "127.0.0.1 - - [04/Oct/2024 17:16:00] \"GET /recom HTTP/1.1\" 200 -\n",
      "127.0.0.1 - - [04/Oct/2024 17:16:00] \"GET /graph_tree_data HTTP/1.1\" 200 -\n",
      "127.0.0.1 - - [04/Oct/2024 17:16:00] \"GET /tree_data HTTP/1.1\" 200 -\n",
      "127.0.0.1 - - [04/Oct/2024 17:16:32] \"GET / HTTP/1.1\" 200 -\n",
      "127.0.0.1 - - [04/Oct/2024 17:16:32] \"GET /static/styles.css HTTP/1.1\" 304 -\n",
      "127.0.0.1 - - [04/Oct/2024 17:16:32] \"GET /static/scripts.js HTTP/1.1\" 304 -\n",
      "127.0.0.1 - - [04/Oct/2024 17:16:32] \"GET /static/graph_tree.js HTTP/1.1\" 304 -\n",
      "127.0.0.1 - - [04/Oct/2024 17:16:32] \"GET /static/curve_axis.js HTTP/1.1\" 200 -\n",
      "127.0.0.1 - - [04/Oct/2024 17:16:32] \"GET /sliders HTTP/1.1\" 200 -\n",
      "127.0.0.1 - - [04/Oct/2024 17:16:32] \"GET /recom HTTP/1.1\" 200 -\n",
      "127.0.0.1 - - [04/Oct/2024 17:16:32] \"GET /graph_tree_data HTTP/1.1\" 200 -\n",
      "127.0.0.1 - - [04/Oct/2024 17:16:32] \"GET /tree_data HTTP/1.1\" 200 -\n",
      "127.0.0.1 - - [04/Oct/2024 17:17:53] \"GET / HTTP/1.1\" 200 -\n",
      "127.0.0.1 - - [04/Oct/2024 17:17:53] \"GET /static/styles.css HTTP/1.1\" 304 -\n",
      "127.0.0.1 - - [04/Oct/2024 17:17:53] \"GET /static/scripts.js HTTP/1.1\" 304 -\n",
      "127.0.0.1 - - [04/Oct/2024 17:17:53] \"GET /static/curve_axis.js HTTP/1.1\" 200 -\n",
      "127.0.0.1 - - [04/Oct/2024 17:17:53] \"GET /static/graph_tree.js HTTP/1.1\" 304 -\n",
      "127.0.0.1 - - [04/Oct/2024 17:17:53] \"GET /sliders HTTP/1.1\" 200 -\n",
      "127.0.0.1 - - [04/Oct/2024 17:17:53] \"GET /recom HTTP/1.1\" 200 -\n",
      "127.0.0.1 - - [04/Oct/2024 17:17:53] \"GET /graph_tree_data HTTP/1.1\" 200 -\n",
      "127.0.0.1 - - [04/Oct/2024 17:17:53] \"GET /tree_data HTTP/1.1\" 200 -\n",
      "127.0.0.1 - - [04/Oct/2024 17:17:58] \"GET /static/styles.css HTTP/1.1\" 304 -\n",
      "127.0.0.1 - - [04/Oct/2024 17:18:18] \"GET / HTTP/1.1\" 200 -\n",
      "127.0.0.1 - - [04/Oct/2024 17:18:18] \"GET /static/styles.css HTTP/1.1\" 304 -\n",
      "127.0.0.1 - - [04/Oct/2024 17:18:18] \"GET /static/scripts.js HTTP/1.1\" 304 -\n",
      "127.0.0.1 - - [04/Oct/2024 17:18:18] \"GET /static/graph_tree.js HTTP/1.1\" 304 -\n",
      "127.0.0.1 - - [04/Oct/2024 17:18:18] \"GET /static/curve_axis.js HTTP/1.1\" 200 -\n",
      "127.0.0.1 - - [04/Oct/2024 17:18:18] \"GET /sliders HTTP/1.1\" 200 -\n",
      "127.0.0.1 - - [04/Oct/2024 17:18:18] \"GET /recom HTTP/1.1\" 200 -\n",
      "127.0.0.1 - - [04/Oct/2024 17:18:18] \"GET /graph_tree_data HTTP/1.1\" 200 -\n",
      "127.0.0.1 - - [04/Oct/2024 17:18:18] \"GET /tree_data HTTP/1.1\" 200 -\n",
      "127.0.0.1 - - [04/Oct/2024 17:18:40] \"GET / HTTP/1.1\" 200 -\n",
      "127.0.0.1 - - [04/Oct/2024 17:18:40] \"GET /static/styles.css HTTP/1.1\" 304 -\n",
      "127.0.0.1 - - [04/Oct/2024 17:18:40] \"GET /static/scripts.js HTTP/1.1\" 304 -\n",
      "127.0.0.1 - - [04/Oct/2024 17:18:40] \"GET /static/curve_axis.js HTTP/1.1\" 200 -\n",
      "127.0.0.1 - - [04/Oct/2024 17:18:40] \"GET /static/graph_tree.js HTTP/1.1\" 200 -\n",
      "127.0.0.1 - - [04/Oct/2024 17:18:40] \"GET /sliders HTTP/1.1\" 200 -\n",
      "127.0.0.1 - - [04/Oct/2024 17:18:40] \"GET /recom HTTP/1.1\" 200 -\n",
      "127.0.0.1 - - [04/Oct/2024 17:18:40] \"GET /graph_tree_data HTTP/1.1\" 200 -\n",
      "127.0.0.1 - - [04/Oct/2024 17:18:40] \"GET /tree_data HTTP/1.1\" 200 -\n",
      "127.0.0.1 - - [04/Oct/2024 17:18:49] \"GET / HTTP/1.1\" 200 -\n",
      "127.0.0.1 - - [04/Oct/2024 17:18:49] \"GET /static/styles.css HTTP/1.1\" 304 -\n",
      "127.0.0.1 - - [04/Oct/2024 17:18:49] \"GET /static/scripts.js HTTP/1.1\" 304 -\n",
      "127.0.0.1 - - [04/Oct/2024 17:18:49] \"GET /static/curve_axis.js HTTP/1.1\" 200 -\n",
      "127.0.0.1 - - [04/Oct/2024 17:18:49] \"GET /static/graph_tree.js HTTP/1.1\" 304 -\n",
      "127.0.0.1 - - [04/Oct/2024 17:18:49] \"GET /sliders HTTP/1.1\" 200 -\n",
      "127.0.0.1 - - [04/Oct/2024 17:18:49] \"GET /recom HTTP/1.1\" 200 -\n",
      "127.0.0.1 - - [04/Oct/2024 17:18:49] \"GET /graph_tree_data HTTP/1.1\" 200 -\n",
      "127.0.0.1 - - [04/Oct/2024 17:18:49] \"GET /tree_data HTTP/1.1\" 200 -\n",
      "127.0.0.1 - - [04/Oct/2024 17:18:57] \"POST /graph_tree_circle_click HTTP/1.1\" 200 -\n"
     ]
    },
    {
     "name": "stdout",
     "output_type": "stream",
     "text": [
      "80\n",
      "reflection_node: 11 at lv up: 2\n",
      "generate cos sim, ecul dist, and nodes sorted by cos sim\n"
     ]
    },
    {
     "name": "stderr",
     "output_type": "stream",
     "text": [
      "127.0.0.1 - - [04/Oct/2024 17:19:59] \"GET / HTTP/1.1\" 200 -\n",
      "127.0.0.1 - - [04/Oct/2024 17:19:59] \"GET /static/styles.css HTTP/1.1\" 304 -\n",
      "127.0.0.1 - - [04/Oct/2024 17:19:59] \"GET /static/scripts.js HTTP/1.1\" 304 -\n",
      "127.0.0.1 - - [04/Oct/2024 17:19:59] \"GET /static/curve_axis.js HTTP/1.1\" 304 -\n",
      "127.0.0.1 - - [04/Oct/2024 17:19:59] \"GET /static/graph_tree.js HTTP/1.1\" 304 -\n",
      "127.0.0.1 - - [04/Oct/2024 17:19:59] \"GET /sliders HTTP/1.1\" 200 -\n",
      "127.0.0.1 - - [04/Oct/2024 17:19:59] \"GET /recom HTTP/1.1\" 200 -\n",
      "127.0.0.1 - - [04/Oct/2024 17:19:59] \"GET /graph_tree_data HTTP/1.1\" 200 -\n",
      "127.0.0.1 - - [04/Oct/2024 17:19:59] \"GET /tree_data HTTP/1.1\" 200 -\n",
      "127.0.0.1 - - [04/Oct/2024 17:20:11] \"GET / HTTP/1.1\" 200 -\n",
      "127.0.0.1 - - [04/Oct/2024 17:20:11] \"GET /static/styles.css HTTP/1.1\" 304 -\n",
      "127.0.0.1 - - [04/Oct/2024 17:20:11] \"GET /static/scripts.js HTTP/1.1\" 304 -\n",
      "127.0.0.1 - - [04/Oct/2024 17:20:11] \"GET /static/graph_tree.js HTTP/1.1\" 200 -\n",
      "127.0.0.1 - - [04/Oct/2024 17:20:11] \"GET /static/curve_axis.js HTTP/1.1\" 200 -\n",
      "127.0.0.1 - - [04/Oct/2024 17:20:11] \"GET /sliders HTTP/1.1\" 200 -\n",
      "127.0.0.1 - - [04/Oct/2024 17:20:11] \"GET /recom HTTP/1.1\" 200 -\n",
      "127.0.0.1 - - [04/Oct/2024 17:20:11] \"GET /graph_tree_data HTTP/1.1\" 200 -\n",
      "127.0.0.1 - - [04/Oct/2024 17:20:11] \"GET /tree_data HTTP/1.1\" 200 -\n",
      "127.0.0.1 - - [04/Oct/2024 17:20:48] \"GET / HTTP/1.1\" 200 -\n",
      "127.0.0.1 - - [04/Oct/2024 17:20:48] \"GET /static/styles.css HTTP/1.1\" 304 -\n",
      "127.0.0.1 - - [04/Oct/2024 17:20:48] \"GET /static/scripts.js HTTP/1.1\" 304 -\n",
      "127.0.0.1 - - [04/Oct/2024 17:20:48] \"GET /static/curve_axis.js HTTP/1.1\" 304 -\n",
      "127.0.0.1 - - [04/Oct/2024 17:20:48] \"GET /static/graph_tree.js HTTP/1.1\" 304 -\n",
      "127.0.0.1 - - [04/Oct/2024 17:20:48] \"GET /sliders HTTP/1.1\" 200 -\n",
      "127.0.0.1 - - [04/Oct/2024 17:20:48] \"GET /recom HTTP/1.1\" 200 -\n",
      "127.0.0.1 - - [04/Oct/2024 17:20:49] \"GET /graph_tree_data HTTP/1.1\" 200 -\n",
      "127.0.0.1 - - [04/Oct/2024 17:20:49] \"GET /tree_data HTTP/1.1\" 200 -\n",
      "127.0.0.1 - - [04/Oct/2024 17:22:47] \"GET / HTTP/1.1\" 200 -\n",
      "127.0.0.1 - - [04/Oct/2024 17:22:47] \"GET /static/styles.css HTTP/1.1\" 304 -\n",
      "127.0.0.1 - - [04/Oct/2024 17:22:47] \"GET /static/scripts.js HTTP/1.1\" 304 -\n",
      "127.0.0.1 - - [04/Oct/2024 17:22:47] \"GET /static/curve_axis.js HTTP/1.1\" 304 -\n",
      "127.0.0.1 - - [04/Oct/2024 17:22:47] \"GET /static/graph_tree.js HTTP/1.1\" 304 -\n",
      "127.0.0.1 - - [04/Oct/2024 17:22:47] \"GET /sliders HTTP/1.1\" 200 -\n",
      "127.0.0.1 - - [04/Oct/2024 17:22:47] \"GET /recom HTTP/1.1\" 200 -\n",
      "127.0.0.1 - - [04/Oct/2024 17:22:47] \"GET /graph_tree_data HTTP/1.1\" 200 -\n",
      "127.0.0.1 - - [04/Oct/2024 17:22:47] \"GET /tree_data HTTP/1.1\" 200 -\n",
      "127.0.0.1 - - [04/Oct/2024 17:22:59] \"GET / HTTP/1.1\" 200 -\n",
      "127.0.0.1 - - [04/Oct/2024 17:22:59] \"GET /static/styles.css HTTP/1.1\" 304 -\n",
      "127.0.0.1 - - [04/Oct/2024 17:22:59] \"GET /static/scripts.js HTTP/1.1\" 304 -\n",
      "127.0.0.1 - - [04/Oct/2024 17:22:59] \"GET /static/curve_axis.js HTTP/1.1\" 200 -\n",
      "127.0.0.1 - - [04/Oct/2024 17:22:59] \"GET /static/graph_tree.js HTTP/1.1\" 200 -\n",
      "127.0.0.1 - - [04/Oct/2024 17:22:59] \"GET /sliders HTTP/1.1\" 200 -\n",
      "127.0.0.1 - - [04/Oct/2024 17:22:59] \"GET /recom HTTP/1.1\" 200 -\n",
      "127.0.0.1 - - [04/Oct/2024 17:22:59] \"GET /graph_tree_data HTTP/1.1\" 200 -\n",
      "127.0.0.1 - - [04/Oct/2024 17:22:59] \"GET /tree_data HTTP/1.1\" 200 -\n",
      "127.0.0.1 - - [04/Oct/2024 17:23:28] \"POST /graph_tree_circle_click HTTP/1.1\" 200 -\n"
     ]
    },
    {
     "name": "stdout",
     "output_type": "stream",
     "text": [
      "80\n",
      "reflection_node: 11 at lv up: 2\n",
      "generate cos sim, ecul dist, and nodes sorted by cos sim\n"
     ]
    },
    {
     "name": "stderr",
     "output_type": "stream",
     "text": [
      "127.0.0.1 - - [04/Oct/2024 17:23:43] \"POST /graph_tree_circle_click HTTP/1.1\" 200 -\n"
     ]
    },
    {
     "name": "stdout",
     "output_type": "stream",
     "text": [
      "84\n",
      "reflection_node: 11 at lv up: 2\n",
      "generate cos sim, ecul dist, and nodes sorted by cos sim\n"
     ]
    },
    {
     "name": "stderr",
     "output_type": "stream",
     "text": [
      "127.0.0.1 - - [04/Oct/2024 17:23:45] \"POST /graph_tree_circle_click HTTP/1.1\" 200 -\n"
     ]
    },
    {
     "name": "stdout",
     "output_type": "stream",
     "text": [
      "77\n",
      "reflection_node: 11 at lv up: 2\n",
      "generate cos sim, ecul dist, and nodes sorted by cos sim\n"
     ]
    },
    {
     "name": "stderr",
     "output_type": "stream",
     "text": [
      "127.0.0.1 - - [04/Oct/2024 17:23:48] \"POST /graph_tree_circle_click HTTP/1.1\" 200 -\n"
     ]
    },
    {
     "name": "stdout",
     "output_type": "stream",
     "text": [
      "81\n",
      "reflection_node: 11 at lv up: 2\n",
      "generate cos sim, ecul dist, and nodes sorted by cos sim\n"
     ]
    },
    {
     "name": "stderr",
     "output_type": "stream",
     "text": [
      "127.0.0.1 - - [04/Oct/2024 17:23:49] \"POST /graph_tree_circle_click HTTP/1.1\" 200 -\n"
     ]
    },
    {
     "name": "stdout",
     "output_type": "stream",
     "text": [
      "75\n",
      "reflection_node: 11 at lv up: 2\n",
      "generate cos sim, ecul dist, and nodes sorted by cos sim\n"
     ]
    },
    {
     "name": "stderr",
     "output_type": "stream",
     "text": [
      "127.0.0.1 - - [04/Oct/2024 17:23:51] \"POST /graph_tree_circle_click HTTP/1.1\" 200 -\n"
     ]
    },
    {
     "name": "stdout",
     "output_type": "stream",
     "text": [
      "75\n",
      "reflection_node: 11 at lv up: 2\n",
      "generate cos sim, ecul dist, and nodes sorted by cos sim\n"
     ]
    },
    {
     "name": "stderr",
     "output_type": "stream",
     "text": [
      "127.0.0.1 - - [04/Oct/2024 17:23:52] \"POST /graph_tree_circle_click HTTP/1.1\" 200 -\n"
     ]
    },
    {
     "name": "stdout",
     "output_type": "stream",
     "text": [
      "81\n",
      "reflection_node: 11 at lv up: 2\n",
      "generate cos sim, ecul dist, and nodes sorted by cos sim\n"
     ]
    },
    {
     "name": "stderr",
     "output_type": "stream",
     "text": [
      "127.0.0.1 - - [04/Oct/2024 17:23:54] \"POST /graph_tree_circle_click HTTP/1.1\" 200 -\n"
     ]
    },
    {
     "name": "stdout",
     "output_type": "stream",
     "text": [
      "81\n",
      "reflection_node: 11 at lv up: 2\n",
      "generate cos sim, ecul dist, and nodes sorted by cos sim\n"
     ]
    },
    {
     "name": "stderr",
     "output_type": "stream",
     "text": [
      "127.0.0.1 - - [04/Oct/2024 17:23:56] \"POST /graph_tree_circle_click HTTP/1.1\" 200 -\n"
     ]
    },
    {
     "name": "stdout",
     "output_type": "stream",
     "text": [
      "80\n",
      "reflection_node: 11 at lv up: 2\n",
      "generate cos sim, ecul dist, and nodes sorted by cos sim\n"
     ]
    },
    {
     "name": "stderr",
     "output_type": "stream",
     "text": [
      "127.0.0.1 - - [04/Oct/2024 17:23:58] \"POST /graph_tree_circle_click HTTP/1.1\" 200 -\n"
     ]
    },
    {
     "name": "stdout",
     "output_type": "stream",
     "text": [
      "79\n",
      "reflection_node: 11 at lv up: 2\n",
      "generate cos sim, ecul dist, and nodes sorted by cos sim\n"
     ]
    },
    {
     "name": "stderr",
     "output_type": "stream",
     "text": [
      "127.0.0.1 - - [04/Oct/2024 17:24:27] \"POST /graph_tree_circle_click HTTP/1.1\" 200 -\n"
     ]
    },
    {
     "name": "stdout",
     "output_type": "stream",
     "text": [
      "80\n",
      "reflection_node: 11 at lv up: 2\n",
      "generate cos sim, ecul dist, and nodes sorted by cos sim\n"
     ]
    },
    {
     "name": "stderr",
     "output_type": "stream",
     "text": [
      "127.0.0.1 - - [04/Oct/2024 17:24:30] \"POST /graph_tree_circle_click HTTP/1.1\" 200 -\n"
     ]
    },
    {
     "name": "stdout",
     "output_type": "stream",
     "text": [
      "86\n",
      "reflection_node: 11 at lv up: 2\n",
      "generate cos sim, ecul dist, and nodes sorted by cos sim\n"
     ]
    },
    {
     "name": "stderr",
     "output_type": "stream",
     "text": [
      "127.0.0.1 - - [04/Oct/2024 17:24:33] \"POST /graph_tree_circle_click HTTP/1.1\" 200 -\n"
     ]
    },
    {
     "name": "stdout",
     "output_type": "stream",
     "text": [
      "81\n",
      "reflection_node: 11 at lv up: 2\n",
      "generate cos sim, ecul dist, and nodes sorted by cos sim\n"
     ]
    },
    {
     "name": "stderr",
     "output_type": "stream",
     "text": [
      "127.0.0.1 - - [04/Oct/2024 17:24:35] \"POST /graph_tree_circle_click HTTP/1.1\" 200 -\n"
     ]
    },
    {
     "name": "stdout",
     "output_type": "stream",
     "text": [
      "75\n",
      "reflection_node: 11 at lv up: 2\n",
      "generate cos sim, ecul dist, and nodes sorted by cos sim\n"
     ]
    },
    {
     "name": "stderr",
     "output_type": "stream",
     "text": [
      "127.0.0.1 - - [04/Oct/2024 17:24:38] \"POST /graph_tree_circle_click HTTP/1.1\" 200 -\n"
     ]
    },
    {
     "name": "stdout",
     "output_type": "stream",
     "text": [
      "81\n",
      "reflection_node: 11 at lv up: 2\n",
      "generate cos sim, ecul dist, and nodes sorted by cos sim\n"
     ]
    },
    {
     "name": "stderr",
     "output_type": "stream",
     "text": [
      "127.0.0.1 - - [04/Oct/2024 17:24:41] \"POST /graph_tree_circle_click HTTP/1.1\" 200 -\n"
     ]
    },
    {
     "name": "stdout",
     "output_type": "stream",
     "text": [
      "86\n",
      "reflection_node: 11 at lv up: 2\n",
      "generate cos sim, ecul dist, and nodes sorted by cos sim\n"
     ]
    },
    {
     "name": "stderr",
     "output_type": "stream",
     "text": [
      "127.0.0.1 - - [04/Oct/2024 17:24:42] \"POST /graph_tree_circle_click HTTP/1.1\" 200 -\n"
     ]
    },
    {
     "name": "stdout",
     "output_type": "stream",
     "text": [
      "83\n",
      "reflection_node: 11 at lv up: 2\n",
      "generate cos sim, ecul dist, and nodes sorted by cos sim\n"
     ]
    },
    {
     "name": "stderr",
     "output_type": "stream",
     "text": [
      "127.0.0.1 - - [04/Oct/2024 17:24:43] \"POST /graph_tree_circle_click HTTP/1.1\" 200 -\n"
     ]
    },
    {
     "name": "stdout",
     "output_type": "stream",
     "text": [
      "80\n",
      "reflection_node: 11 at lv up: 2\n",
      "generate cos sim, ecul dist, and nodes sorted by cos sim\n"
     ]
    },
    {
     "name": "stderr",
     "output_type": "stream",
     "text": [
      "127.0.0.1 - - [04/Oct/2024 17:24:44] \"POST /graph_tree_circle_click HTTP/1.1\" 200 -\n"
     ]
    },
    {
     "name": "stdout",
     "output_type": "stream",
     "text": [
      "79\n",
      "reflection_node: 11 at lv up: 2\n",
      "generate cos sim, ecul dist, and nodes sorted by cos sim\n"
     ]
    },
    {
     "name": "stderr",
     "output_type": "stream",
     "text": [
      "127.0.0.1 - - [04/Oct/2024 17:24:45] \"GET / HTTP/1.1\" 200 -\n",
      "127.0.0.1 - - [04/Oct/2024 17:24:45] \"GET /static/styles.css HTTP/1.1\" 304 -\n",
      "127.0.0.1 - - [04/Oct/2024 17:24:45] \"GET /static/scripts.js HTTP/1.1\" 304 -\n",
      "127.0.0.1 - - [04/Oct/2024 17:24:45] \"GET /static/curve_axis.js HTTP/1.1\" 304 -\n",
      "127.0.0.1 - - [04/Oct/2024 17:24:45] \"GET /static/graph_tree.js HTTP/1.1\" 304 -\n",
      "127.0.0.1 - - [04/Oct/2024 17:24:45] \"GET /sliders HTTP/1.1\" 200 -\n",
      "127.0.0.1 - - [04/Oct/2024 17:24:45] \"GET /recom HTTP/1.1\" 200 -\n",
      "127.0.0.1 - - [04/Oct/2024 17:24:45] \"GET /graph_tree_data HTTP/1.1\" 200 -\n",
      "127.0.0.1 - - [04/Oct/2024 17:24:45] \"GET /tree_data HTTP/1.1\" 200 -\n",
      "127.0.0.1 - - [04/Oct/2024 17:24:47] \"POST /graph_tree_circle_click HTTP/1.1\" 200 -\n"
     ]
    },
    {
     "name": "stdout",
     "output_type": "stream",
     "text": [
      "80\n",
      "reflection_node: 11 at lv up: 2\n",
      "generate cos sim, ecul dist, and nodes sorted by cos sim\n"
     ]
    },
    {
     "name": "stderr",
     "output_type": "stream",
     "text": [
      "127.0.0.1 - - [04/Oct/2024 17:24:48] \"POST /graph_tree_circle_click HTTP/1.1\" 200 -\n"
     ]
    },
    {
     "name": "stdout",
     "output_type": "stream",
     "text": [
      "80\n",
      "reflection_node: 11 at lv up: 2\n",
      "generate cos sim, ecul dist, and nodes sorted by cos sim\n"
     ]
    },
    {
     "name": "stderr",
     "output_type": "stream",
     "text": [
      "127.0.0.1 - - [04/Oct/2024 17:24:48] \"POST /graph_tree_circle_click HTTP/1.1\" 200 -\n"
     ]
    },
    {
     "name": "stdout",
     "output_type": "stream",
     "text": [
      "86\n",
      "reflection_node: 11 at lv up: 2\n",
      "generate cos sim, ecul dist, and nodes sorted by cos sim\n"
     ]
    },
    {
     "name": "stderr",
     "output_type": "stream",
     "text": [
      "127.0.0.1 - - [04/Oct/2024 17:24:49] \"POST /graph_tree_circle_click HTTP/1.1\" 200 -\n"
     ]
    },
    {
     "name": "stdout",
     "output_type": "stream",
     "text": [
      "81\n",
      "reflection_node: 11 at lv up: 2\n",
      "generate cos sim, ecul dist, and nodes sorted by cos sim\n"
     ]
    },
    {
     "name": "stderr",
     "output_type": "stream",
     "text": [
      "127.0.0.1 - - [04/Oct/2024 17:24:50] \"POST /graph_tree_circle_click HTTP/1.1\" 200 -\n"
     ]
    },
    {
     "name": "stdout",
     "output_type": "stream",
     "text": [
      "82\n",
      "reflection_node: 11 at lv up: 2\n",
      "generate cos sim, ecul dist, and nodes sorted by cos sim\n"
     ]
    },
    {
     "name": "stderr",
     "output_type": "stream",
     "text": [
      "127.0.0.1 - - [04/Oct/2024 17:24:51] \"POST /graph_tree_circle_click HTTP/1.1\" 200 -\n"
     ]
    },
    {
     "name": "stdout",
     "output_type": "stream",
     "text": [
      "81\n",
      "reflection_node: 11 at lv up: 2\n",
      "generate cos sim, ecul dist, and nodes sorted by cos sim\n"
     ]
    },
    {
     "name": "stderr",
     "output_type": "stream",
     "text": [
      "127.0.0.1 - - [04/Oct/2024 17:24:52] \"POST /graph_tree_circle_click HTTP/1.1\" 200 -\n"
     ]
    },
    {
     "name": "stdout",
     "output_type": "stream",
     "text": [
      "75\n",
      "reflection_node: 11 at lv up: 2\n",
      "generate cos sim, ecul dist, and nodes sorted by cos sim\n"
     ]
    },
    {
     "name": "stderr",
     "output_type": "stream",
     "text": [
      "127.0.0.1 - - [04/Oct/2024 17:24:54] \"POST /graph_tree_circle_click HTTP/1.1\" 200 -\n"
     ]
    },
    {
     "name": "stdout",
     "output_type": "stream",
     "text": [
      "81\n",
      "reflection_node: 11 at lv up: 2\n",
      "generate cos sim, ecul dist, and nodes sorted by cos sim\n"
     ]
    },
    {
     "name": "stderr",
     "output_type": "stream",
     "text": [
      "127.0.0.1 - - [04/Oct/2024 17:24:55] \"POST /graph_tree_circle_click HTTP/1.1\" 200 -\n"
     ]
    },
    {
     "name": "stdout",
     "output_type": "stream",
     "text": [
      "75\n",
      "reflection_node: 11 at lv up: 2\n",
      "generate cos sim, ecul dist, and nodes sorted by cos sim\n"
     ]
    },
    {
     "name": "stderr",
     "output_type": "stream",
     "text": [
      "127.0.0.1 - - [04/Oct/2024 17:24:56] \"POST /graph_tree_circle_click HTTP/1.1\" 200 -\n"
     ]
    },
    {
     "name": "stdout",
     "output_type": "stream",
     "text": [
      "81\n",
      "reflection_node: 11 at lv up: 2\n",
      "generate cos sim, ecul dist, and nodes sorted by cos sim\n"
     ]
    },
    {
     "name": "stderr",
     "output_type": "stream",
     "text": [
      "127.0.0.1 - - [04/Oct/2024 17:24:59] \"POST /graph_tree_circle_click HTTP/1.1\" 200 -\n"
     ]
    },
    {
     "name": "stdout",
     "output_type": "stream",
     "text": [
      "80\n",
      "reflection_node: 11 at lv up: 2\n",
      "generate cos sim, ecul dist, and nodes sorted by cos sim\n"
     ]
    },
    {
     "name": "stderr",
     "output_type": "stream",
     "text": [
      "127.0.0.1 - - [04/Oct/2024 17:25:02] \"POST /graph_tree_circle_click HTTP/1.1\" 200 -\n"
     ]
    },
    {
     "name": "stdout",
     "output_type": "stream",
     "text": [
      "78\n",
      "reflection_node: 11 at lv up: 2\n",
      "generate cos sim, ecul dist, and nodes sorted by cos sim\n"
     ]
    },
    {
     "name": "stderr",
     "output_type": "stream",
     "text": [
      "127.0.0.1 - - [04/Oct/2024 17:26:13] \"GET / HTTP/1.1\" 200 -\n",
      "127.0.0.1 - - [04/Oct/2024 17:26:13] \"GET /static/styles.css HTTP/1.1\" 304 -\n",
      "127.0.0.1 - - [04/Oct/2024 17:26:13] \"GET /static/scripts.js HTTP/1.1\" 304 -\n",
      "127.0.0.1 - - [04/Oct/2024 17:26:13] \"GET /static/curve_axis.js HTTP/1.1\" 304 -\n",
      "127.0.0.1 - - [04/Oct/2024 17:26:13] \"GET /static/graph_tree.js HTTP/1.1\" 304 -\n",
      "127.0.0.1 - - [04/Oct/2024 17:26:13] \"GET /sliders HTTP/1.1\" 200 -\n",
      "127.0.0.1 - - [04/Oct/2024 17:26:13] \"GET /recom HTTP/1.1\" 200 -\n",
      "127.0.0.1 - - [04/Oct/2024 17:26:13] \"GET /tree_data HTTP/1.1\" 200 -\n",
      "127.0.0.1 - - [04/Oct/2024 17:26:13] \"GET /graph_tree_data HTTP/1.1\" 200 -\n",
      "127.0.0.1 - - [04/Oct/2024 17:26:24] \"POST /graph_tree_circle_click HTTP/1.1\" 200 -\n"
     ]
    },
    {
     "name": "stdout",
     "output_type": "stream",
     "text": [
      "76\n",
      "reflection_node: 11 at lv up: 2\n",
      "generate cos sim, ecul dist, and nodes sorted by cos sim\n"
     ]
    },
    {
     "name": "stderr",
     "output_type": "stream",
     "text": [
      "127.0.0.1 - - [04/Oct/2024 17:26:29] \"POST /graph_tree_circle_click HTTP/1.1\" 200 -\n"
     ]
    },
    {
     "name": "stdout",
     "output_type": "stream",
     "text": [
      "77\n",
      "reflection_node: 11 at lv up: 2\n",
      "generate cos sim, ecul dist, and nodes sorted by cos sim\n"
     ]
    },
    {
     "name": "stderr",
     "output_type": "stream",
     "text": [
      "127.0.0.1 - - [04/Oct/2024 17:26:31] \"POST /graph_tree_circle_click HTTP/1.1\" 200 -\n"
     ]
    },
    {
     "name": "stdout",
     "output_type": "stream",
     "text": [
      "81\n",
      "reflection_node: 11 at lv up: 2\n",
      "generate cos sim, ecul dist, and nodes sorted by cos sim\n"
     ]
    },
    {
     "name": "stderr",
     "output_type": "stream",
     "text": [
      "127.0.0.1 - - [04/Oct/2024 17:26:32] \"POST /graph_tree_circle_click HTTP/1.1\" 200 -\n"
     ]
    },
    {
     "name": "stdout",
     "output_type": "stream",
     "text": [
      "80\n",
      "reflection_node: 11 at lv up: 2\n",
      "generate cos sim, ecul dist, and nodes sorted by cos sim\n"
     ]
    },
    {
     "name": "stderr",
     "output_type": "stream",
     "text": [
      "127.0.0.1 - - [04/Oct/2024 17:26:34] \"POST /graph_tree_circle_click HTTP/1.1\" 200 -\n"
     ]
    },
    {
     "name": "stdout",
     "output_type": "stream",
     "text": [
      "77\n",
      "reflection_node: 11 at lv up: 2\n",
      "generate cos sim, ecul dist, and nodes sorted by cos sim\n"
     ]
    },
    {
     "name": "stderr",
     "output_type": "stream",
     "text": [
      "127.0.0.1 - - [04/Oct/2024 17:26:36] \"POST /graph_tree_circle_click HTTP/1.1\" 200 -\n"
     ]
    },
    {
     "name": "stdout",
     "output_type": "stream",
     "text": [
      "80\n",
      "reflection_node: 11 at lv up: 2\n",
      "generate cos sim, ecul dist, and nodes sorted by cos sim\n"
     ]
    },
    {
     "name": "stderr",
     "output_type": "stream",
     "text": [
      "127.0.0.1 - - [04/Oct/2024 17:26:38] \"POST /graph_tree_circle_click HTTP/1.1\" 200 -\n"
     ]
    },
    {
     "name": "stdout",
     "output_type": "stream",
     "text": [
      "86\n",
      "reflection_node: 11 at lv up: 2\n",
      "generate cos sim, ecul dist, and nodes sorted by cos sim\n"
     ]
    },
    {
     "name": "stderr",
     "output_type": "stream",
     "text": [
      "127.0.0.1 - - [04/Oct/2024 17:26:41] \"POST /graph_tree_circle_click HTTP/1.1\" 200 -\n"
     ]
    },
    {
     "name": "stdout",
     "output_type": "stream",
     "text": [
      "76\n",
      "reflection_node: 11 at lv up: 2\n",
      "generate cos sim, ecul dist, and nodes sorted by cos sim\n"
     ]
    },
    {
     "name": "stderr",
     "output_type": "stream",
     "text": [
      "127.0.0.1 - - [04/Oct/2024 17:26:45] \"POST /graph_tree_circle_click HTTP/1.1\" 200 -\n"
     ]
    },
    {
     "name": "stdout",
     "output_type": "stream",
     "text": [
      "75\n",
      "reflection_node: 11 at lv up: 2\n",
      "generate cos sim, ecul dist, and nodes sorted by cos sim\n"
     ]
    },
    {
     "name": "stderr",
     "output_type": "stream",
     "text": [
      "127.0.0.1 - - [04/Oct/2024 17:26:56] \"POST /graph_tree_circle_click HTTP/1.1\" 200 -\n"
     ]
    },
    {
     "name": "stdout",
     "output_type": "stream",
     "text": [
      "86\n",
      "reflection_node: 11 at lv up: 2\n",
      "generate cos sim, ecul dist, and nodes sorted by cos sim\n"
     ]
    },
    {
     "name": "stderr",
     "output_type": "stream",
     "text": [
      "127.0.0.1 - - [04/Oct/2024 17:27:05] \"POST /graph_tree_circle_click HTTP/1.1\" 200 -\n"
     ]
    },
    {
     "name": "stdout",
     "output_type": "stream",
     "text": [
      "80\n",
      "reflection_node: 11 at lv up: 2\n",
      "generate cos sim, ecul dist, and nodes sorted by cos sim\n"
     ]
    },
    {
     "name": "stderr",
     "output_type": "stream",
     "text": [
      "127.0.0.1 - - [04/Oct/2024 17:27:07] \"POST /graph_tree_circle_click HTTP/1.1\" 200 -\n"
     ]
    },
    {
     "name": "stdout",
     "output_type": "stream",
     "text": [
      "78\n",
      "reflection_node: 11 at lv up: 2\n",
      "generate cos sim, ecul dist, and nodes sorted by cos sim\n"
     ]
    },
    {
     "name": "stderr",
     "output_type": "stream",
     "text": [
      "127.0.0.1 - - [04/Oct/2024 17:27:08] \"POST /graph_tree_circle_click HTTP/1.1\" 200 -\n"
     ]
    },
    {
     "name": "stdout",
     "output_type": "stream",
     "text": [
      "77\n",
      "reflection_node: 11 at lv up: 2\n",
      "generate cos sim, ecul dist, and nodes sorted by cos sim\n"
     ]
    },
    {
     "name": "stderr",
     "output_type": "stream",
     "text": [
      "127.0.0.1 - - [04/Oct/2024 17:27:10] \"POST /graph_tree_circle_click HTTP/1.1\" 200 -\n"
     ]
    },
    {
     "name": "stdout",
     "output_type": "stream",
     "text": [
      "83\n",
      "reflection_node: 11 at lv up: 2\n",
      "generate cos sim, ecul dist, and nodes sorted by cos sim\n"
     ]
    },
    {
     "name": "stderr",
     "output_type": "stream",
     "text": [
      "127.0.0.1 - - [04/Oct/2024 17:27:12] \"POST /graph_tree_circle_click HTTP/1.1\" 200 -\n"
     ]
    },
    {
     "name": "stdout",
     "output_type": "stream",
     "text": [
      "80\n",
      "reflection_node: 11 at lv up: 2\n",
      "generate cos sim, ecul dist, and nodes sorted by cos sim\n"
     ]
    },
    {
     "name": "stderr",
     "output_type": "stream",
     "text": [
      "127.0.0.1 - - [04/Oct/2024 17:27:15] \"POST /graph_tree_circle_click HTTP/1.1\" 200 -\n"
     ]
    },
    {
     "name": "stdout",
     "output_type": "stream",
     "text": [
      "82\n",
      "reflection_node: 11 at lv up: 2\n",
      "generate cos sim, ecul dist, and nodes sorted by cos sim\n"
     ]
    },
    {
     "name": "stderr",
     "output_type": "stream",
     "text": [
      "127.0.0.1 - - [04/Oct/2024 17:27:22] \"POST /graph_tree_circle_click HTTP/1.1\" 200 -\n"
     ]
    },
    {
     "name": "stdout",
     "output_type": "stream",
     "text": [
      "83\n",
      "reflection_node: 11 at lv up: 2\n",
      "generate cos sim, ecul dist, and nodes sorted by cos sim\n"
     ]
    },
    {
     "name": "stderr",
     "output_type": "stream",
     "text": [
      "127.0.0.1 - - [04/Oct/2024 17:27:25] \"POST /graph_tree_circle_click HTTP/1.1\" 200 -\n"
     ]
    },
    {
     "name": "stdout",
     "output_type": "stream",
     "text": [
      "80\n",
      "reflection_node: 11 at lv up: 2\n",
      "generate cos sim, ecul dist, and nodes sorted by cos sim\n"
     ]
    },
    {
     "name": "stderr",
     "output_type": "stream",
     "text": [
      "127.0.0.1 - - [04/Oct/2024 17:27:27] \"POST /graph_tree_circle_click HTTP/1.1\" 200 -\n"
     ]
    },
    {
     "name": "stdout",
     "output_type": "stream",
     "text": [
      "77\n",
      "reflection_node: 11 at lv up: 2\n",
      "generate cos sim, ecul dist, and nodes sorted by cos sim\n"
     ]
    },
    {
     "name": "stderr",
     "output_type": "stream",
     "text": [
      "127.0.0.1 - - [04/Oct/2024 17:27:29] \"POST /graph_tree_circle_click HTTP/1.1\" 200 -\n"
     ]
    },
    {
     "name": "stdout",
     "output_type": "stream",
     "text": [
      "86\n",
      "reflection_node: 11 at lv up: 2\n",
      "generate cos sim, ecul dist, and nodes sorted by cos sim\n"
     ]
    },
    {
     "name": "stderr",
     "output_type": "stream",
     "text": [
      "127.0.0.1 - - [04/Oct/2024 17:27:31] \"POST /graph_tree_circle_click HTTP/1.1\" 200 -\n"
     ]
    },
    {
     "name": "stdout",
     "output_type": "stream",
     "text": [
      "75\n",
      "reflection_node: 11 at lv up: 2\n",
      "generate cos sim, ecul dist, and nodes sorted by cos sim\n"
     ]
    },
    {
     "name": "stderr",
     "output_type": "stream",
     "text": [
      "127.0.0.1 - - [04/Oct/2024 17:27:34] \"POST /graph_tree_circle_click HTTP/1.1\" 200 -\n"
     ]
    },
    {
     "name": "stdout",
     "output_type": "stream",
     "text": [
      "83\n",
      "reflection_node: 11 at lv up: 2\n",
      "generate cos sim, ecul dist, and nodes sorted by cos sim\n"
     ]
    },
    {
     "name": "stderr",
     "output_type": "stream",
     "text": [
      "127.0.0.1 - - [04/Oct/2024 17:27:37] \"POST /graph_tree_circle_click HTTP/1.1\" 200 -\n"
     ]
    },
    {
     "name": "stdout",
     "output_type": "stream",
     "text": [
      "80\n",
      "reflection_node: 11 at lv up: 2\n",
      "generate cos sim, ecul dist, and nodes sorted by cos sim\n"
     ]
    },
    {
     "name": "stderr",
     "output_type": "stream",
     "text": [
      "127.0.0.1 - - [04/Oct/2024 17:27:39] \"POST /graph_tree_circle_click HTTP/1.1\" 200 -\n"
     ]
    },
    {
     "name": "stdout",
     "output_type": "stream",
     "text": [
      "84\n",
      "reflection_node: 11 at lv up: 2\n",
      "generate cos sim, ecul dist, and nodes sorted by cos sim\n"
     ]
    },
    {
     "name": "stderr",
     "output_type": "stream",
     "text": [
      "127.0.0.1 - - [04/Oct/2024 17:27:41] \"POST /graph_tree_circle_click HTTP/1.1\" 200 -\n"
     ]
    },
    {
     "name": "stdout",
     "output_type": "stream",
     "text": [
      "80\n",
      "reflection_node: 11 at lv up: 2\n",
      "generate cos sim, ecul dist, and nodes sorted by cos sim\n"
     ]
    },
    {
     "name": "stderr",
     "output_type": "stream",
     "text": [
      "127.0.0.1 - - [04/Oct/2024 17:27:45] \"POST /graph_tree_circle_click HTTP/1.1\" 200 -\n"
     ]
    },
    {
     "name": "stdout",
     "output_type": "stream",
     "text": [
      "83\n",
      "reflection_node: 11 at lv up: 2\n",
      "generate cos sim, ecul dist, and nodes sorted by cos sim\n"
     ]
    },
    {
     "name": "stderr",
     "output_type": "stream",
     "text": [
      "127.0.0.1 - - [04/Oct/2024 17:27:48] \"POST /graph_tree_circle_click HTTP/1.1\" 200 -\n"
     ]
    },
    {
     "name": "stdout",
     "output_type": "stream",
     "text": [
      "77\n",
      "reflection_node: 11 at lv up: 2\n",
      "generate cos sim, ecul dist, and nodes sorted by cos sim\n"
     ]
    },
    {
     "name": "stderr",
     "output_type": "stream",
     "text": [
      "127.0.0.1 - - [04/Oct/2024 17:27:52] \"POST /graph_tree_circle_click HTTP/1.1\" 200 -\n"
     ]
    },
    {
     "name": "stdout",
     "output_type": "stream",
     "text": [
      "81\n",
      "reflection_node: 11 at lv up: 2\n",
      "generate cos sim, ecul dist, and nodes sorted by cos sim\n"
     ]
    },
    {
     "name": "stderr",
     "output_type": "stream",
     "text": [
      "127.0.0.1 - - [04/Oct/2024 17:27:53] \"POST /graph_tree_circle_click HTTP/1.1\" 200 -\n"
     ]
    },
    {
     "name": "stdout",
     "output_type": "stream",
     "text": [
      "75\n",
      "reflection_node: 11 at lv up: 2\n",
      "generate cos sim, ecul dist, and nodes sorted by cos sim\n"
     ]
    },
    {
     "name": "stderr",
     "output_type": "stream",
     "text": [
      "127.0.0.1 - - [04/Oct/2024 17:27:56] \"POST /graph_tree_circle_click HTTP/1.1\" 200 -\n"
     ]
    },
    {
     "name": "stdout",
     "output_type": "stream",
     "text": [
      "82\n",
      "reflection_node: 11 at lv up: 2\n",
      "generate cos sim, ecul dist, and nodes sorted by cos sim\n"
     ]
    },
    {
     "name": "stderr",
     "output_type": "stream",
     "text": [
      "127.0.0.1 - - [04/Oct/2024 17:27:59] \"POST /graph_tree_circle_click HTTP/1.1\" 200 -\n"
     ]
    },
    {
     "name": "stdout",
     "output_type": "stream",
     "text": [
      "80\n",
      "reflection_node: 11 at lv up: 2\n",
      "generate cos sim, ecul dist, and nodes sorted by cos sim\n"
     ]
    },
    {
     "name": "stderr",
     "output_type": "stream",
     "text": [
      "127.0.0.1 - - [04/Oct/2024 17:28:02] \"POST /graph_tree_circle_click HTTP/1.1\" 200 -\n"
     ]
    },
    {
     "name": "stdout",
     "output_type": "stream",
     "text": [
      "85\n",
      "reflection_node: 11 at lv up: 2\n",
      "generate cos sim, ecul dist, and nodes sorted by cos sim\n"
     ]
    },
    {
     "name": "stderr",
     "output_type": "stream",
     "text": [
      "127.0.0.1 - - [04/Oct/2024 17:28:04] \"POST /graph_tree_circle_click HTTP/1.1\" 200 -\n"
     ]
    },
    {
     "name": "stdout",
     "output_type": "stream",
     "text": [
      "86\n",
      "reflection_node: 11 at lv up: 2\n",
      "generate cos sim, ecul dist, and nodes sorted by cos sim\n"
     ]
    },
    {
     "name": "stderr",
     "output_type": "stream",
     "text": [
      "127.0.0.1 - - [04/Oct/2024 17:28:06] \"POST /graph_tree_circle_click HTTP/1.1\" 200 -\n"
     ]
    },
    {
     "name": "stdout",
     "output_type": "stream",
     "text": [
      "76\n",
      "reflection_node: 11 at lv up: 2\n",
      "generate cos sim, ecul dist, and nodes sorted by cos sim\n"
     ]
    },
    {
     "name": "stderr",
     "output_type": "stream",
     "text": [
      "127.0.0.1 - - [04/Oct/2024 17:29:16] \"GET / HTTP/1.1\" 200 -\n",
      "127.0.0.1 - - [04/Oct/2024 17:29:16] \"GET /static/styles.css HTTP/1.1\" 304 -\n",
      "127.0.0.1 - - [04/Oct/2024 17:29:16] \"GET /static/scripts.js HTTP/1.1\" 304 -\n",
      "127.0.0.1 - - [04/Oct/2024 17:29:16] \"GET /static/curve_axis.js HTTP/1.1\" 304 -\n",
      "127.0.0.1 - - [04/Oct/2024 17:29:16] \"GET /static/graph_tree.js HTTP/1.1\" 304 -\n",
      "127.0.0.1 - - [04/Oct/2024 17:29:16] \"GET /sliders HTTP/1.1\" 200 -\n",
      "127.0.0.1 - - [04/Oct/2024 17:29:17] \"GET /recom HTTP/1.1\" 200 -\n",
      "127.0.0.1 - - [04/Oct/2024 17:29:17] \"GET /graph_tree_data HTTP/1.1\" 200 -\n",
      "127.0.0.1 - - [04/Oct/2024 17:29:17] \"GET /tree_data HTTP/1.1\" 200 -\n"
     ]
    }
   ],
   "source": [
    "from flask import Flask, render_template, request, jsonify\n",
    "\n",
    "app = Flask(__name__)\n",
    "\n",
    "@app.route('/')\n",
    "def index():\n",
    "    return render_template('index.html')\n",
    "\n",
    "# slider ####################################################################\n",
    "@app.route('/sliders')\n",
    "def sliders():\n",
    "    return jsonify(sliders_data)\n",
    "\n",
    "@app.route('/handle_slider', methods=['POST'])\n",
    "def submit_slider_values():\n",
    "    data = request.json\n",
    "    print('Received slider values:', data)\n",
    "    query = np.array([float(val) for val in data.values()])\n",
    "    cur = gt.search(query)\n",
    "    graph_tree_data = gt.get_neighbour_cluster_data(cur.id)\n",
    "    # Process the data as needed\n",
    "    return jsonify({'status': 'slider respon success', 'graph_tree_data': graph_tree_data})\n",
    "# slider end ################################################################\n",
    "\n",
    "# recom ####################################################################\n",
    "@app.route('/recom')\n",
    "def recom():\n",
    "    return jsonify(recom_data)\n",
    "\n",
    "@app.route('/handle_recom', methods=['POST'])\n",
    "def handle_recom():\n",
    "    data = request.json\n",
    "    button_id = int(data.get('buttonId'))\n",
    "    val = int(data.get('val'))\n",
    "    # print(button_id, val)\n",
    "    moved_node = gt.recom[button_id][val]\n",
    "    graph_tree_data = gt.get_neighbour_cluster_data(moved_node.id)\n",
    "    # print(graph_tree_data)\n",
    "    return jsonify({'status': 'recom respon success', 'buttonId': button_id, 'val': val, \"graph_tree_data\": graph_tree_data})\n",
    "# recom end ####################################################################\n",
    "\n",
    "@app.route('/graph_tree_data')\n",
    "def graph():\n",
    "    return jsonify(graph_tree_data)\n",
    "\n",
    "@app.route('/graph_tree_circle_click', methods=['POST'])\n",
    "def graph_tree_circle_click():\n",
    "    data = request.json\n",
    "    id = int(data.get('id'))\n",
    "    print(id)\n",
    "    graph_tree_data = gt.get_neighbour_cluster_data(id)\n",
    "    return jsonify({'status': 'graph_tree_circle_click respon success', 'id': id, \"graph_tree_data\": graph_tree_data})\n",
    "\n",
    "\n",
    "@app.route('/tree_data')\n",
    "def tree():\n",
    "    return jsonify(tree_data)\n",
    "\n",
    "if __name__ == '__main__':\n",
    "    app.run(port=8123)\n"
   ]
  }
 ],
 "metadata": {
  "kernelspec": {
   "display_name": "Python 3",
   "language": "python",
   "name": "python3"
  },
  "language_info": {
   "codemirror_mode": {
    "name": "ipython",
    "version": 3
   },
   "file_extension": ".py",
   "mimetype": "text/x-python",
   "name": "python",
   "nbconvert_exporter": "python",
   "pygments_lexer": "ipython3",
   "version": "3.11.9"
  }
 },
 "nbformat": 4,
 "nbformat_minor": 2
}
