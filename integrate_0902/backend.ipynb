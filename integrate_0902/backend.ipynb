{
 "cells": [
  {
   "cell_type": "code",
   "execution_count": 19,
   "metadata": {},
   "outputs": [],
   "source": [
    "# load module and pre generate data\n",
    "from graph_tree_module import node, sim, graph_tree\n",
    "\n",
    "import pickle\n",
    "\n",
    "# Open the file in binary read mode and load the object\n",
    "with open(\"graph_tree.pkl\", \"rb\") as file:\n",
    "    gt = pickle.load(file)\n"
   ]
  },
  {
   "cell_type": "code",
   "execution_count": 20,
   "metadata": {},
   "outputs": [
    {
     "name": "stdout",
     "output_type": "stream",
     "text": [
      "[{'id': 1, 'position': 'center', 'x': 300, 'y': 200, 'color': 'red'}, {'id': -1, 'position': 'left', 'x': 100, 'y': 200, 'color': 'green'}, {'id': 0, 'position': 'top', 'x': 300, 'y': 100, 'color': 'dark red'}, {'id': 2, 'position': 'right', 'x': 500, 'y': 300, 'color': 'blue'}, {'id': 3, 'position': 'bottom', 'x': 200, 'y': 350, 'color': 'pink'}, {'id': 4, 'position': 'bottom', 'x': 300, 'y': 350, 'color': 'pink'}]\n"
     ]
    }
   ],
   "source": [
    "sliders_data = [{\"id\": gt.attr_name[i], \"min\": gt.X_maxmin[1][i], \"max\": gt.X_maxmin[0][i], \"value\": gt.root.center[i], \"type\": \"f\"} for i in range(len(gt.attr_name))]\n",
    "# print(sliders_data)\n",
    "\n",
    "recom_data = [{\"i\": i, \"id\": gt.attr_name[i], \"max_val\": gt.recom[i][0].center[i], \"min_val\": gt.recom[i][1].center[i]} for i in range(len(gt.attr_name))]\n",
    "# print(recom_data)\n",
    "\n",
    "cur = gt.root.down_lv[0]\n",
    "\n",
    "def get_suround_node_data(node):\n",
    "    cur_cluster = [{\"id\": node.id, \"position\": \"center\", \"x\": 300, \"y\": 200, \"color\": \"red\"}]\n",
    "\n",
    "    contra_cluster = [{\"id\": -1, \"position\": \"left\", \"x\": 100, \"y\": 200, \"color\": \"green\"}]\n",
    "\n",
    "    super_cluster = [{\"id\": node.up_lv.id, \"position\": \"top\", \"x\": 300, \"y\": 100, \"color\": \"dark red\"}] if node.up_lv else []\n",
    "\n",
    "    foo_sim_node = node.up_lv.down_lv if node.up_lv else []\n",
    "    sim_cluster = [{\"id\": foo_sim_node[i].id, \"position\": \"right\", \"x\": 500, \"y\": 200+i*100, \"color\": \"blue\"} for i in range(len(foo_sim_node)) if foo_sim_node[i].id != cur.id] if foo_sim_node else []\n",
    "\n",
    "    foo_sub_node = node.down_lv if node.down_lv else []\n",
    "    sub_cluster = [{\"id\": foo_sub_node[i].id, \"position\": \"bottom\", \"x\": 200+i*100, \"y\": 350, \"color\": \"pink\"} for i in range(len(foo_sub_node))] if foo_sub_node else []\n",
    "\n",
    "    return cur_cluster + contra_cluster + super_cluster + sim_cluster + sub_cluster\n",
    "\n",
    "graph_data = get_suround_node_data(cur)\n",
    "print(graph_data)"
   ]
  },
  {
   "cell_type": "code",
   "execution_count": 21,
   "metadata": {},
   "outputs": [
    {
     "name": "stdout",
     "output_type": "stream",
     "text": [
      " * Serving Flask app '__main__'\n",
      " * Debug mode: off\n"
     ]
    },
    {
     "name": "stderr",
     "output_type": "stream",
     "text": [
      "WARNING: This is a development server. Do not use it in a production deployment. Use a production WSGI server instead.\n",
      " * Running on http://127.0.0.1:8123\n",
      "Press CTRL+C to quit\n",
      "127.0.0.1 - - [02/Sep/2024 17:55:27] \"GET / HTTP/1.1\" 200 -\n",
      "127.0.0.1 - - [02/Sep/2024 17:55:27] \"GET /static/styles.css HTTP/1.1\" 304 -\n",
      "127.0.0.1 - - [02/Sep/2024 17:55:27] \"GET /static/scripts.js HTTP/1.1\" 200 -\n",
      "127.0.0.1 - - [02/Sep/2024 17:55:27] \"GET /sliders HTTP/1.1\" 200 -\n",
      "127.0.0.1 - - [02/Sep/2024 17:55:27] \"GET /recom HTTP/1.1\" 200 -\n",
      "127.0.0.1 - - [02/Sep/2024 17:55:27] \"GET /tree-data HTTP/1.1\" 200 -\n",
      "127.0.0.1 - - [02/Sep/2024 17:55:37] \"POST /handle_recom HTTP/1.1\" 200 -\n"
     ]
    },
    {
     "name": "stdout",
     "output_type": "stream",
     "text": [
      "4 0\n",
      "[{'id': 52, 'position': 'center', 'x': 300, 'y': 200, 'color': 'red'}, {'id': -1, 'position': 'left', 'x': 100, 'y': 200, 'color': 'green'}, {'id': 25, 'position': 'top', 'x': 300, 'y': 100, 'color': 'dark red'}, {'id': 51, 'position': 'right', 'x': 500, 'y': 200, 'color': 'blue'}, {'id': 52, 'position': 'right', 'x': 500, 'y': 300, 'color': 'blue'}, {'id': 53, 'position': 'right', 'x': 500, 'y': 400, 'color': 'blue'}, {'id': 54, 'position': 'right', 'x': 500, 'y': 500, 'color': 'blue'}]\n"
     ]
    },
    {
     "name": "stderr",
     "output_type": "stream",
     "text": [
      "127.0.0.1 - - [02/Sep/2024 17:56:51] \"GET / HTTP/1.1\" 200 -\n",
      "127.0.0.1 - - [02/Sep/2024 17:56:51] \"GET /static/styles.css HTTP/1.1\" 304 -\n",
      "127.0.0.1 - - [02/Sep/2024 17:56:51] \"GET /static/scripts.js HTTP/1.1\" 200 -\n",
      "127.0.0.1 - - [02/Sep/2024 17:56:51] \"GET /sliders HTTP/1.1\" 200 -\n",
      "127.0.0.1 - - [02/Sep/2024 17:56:51] \"GET /recom HTTP/1.1\" 200 -\n",
      "127.0.0.1 - - [02/Sep/2024 17:56:51] \"GET /tree-data HTTP/1.1\" 200 -\n",
      "127.0.0.1 - - [02/Sep/2024 17:56:54] \"POST /handle_recom HTTP/1.1\" 200 -\n"
     ]
    },
    {
     "name": "stdout",
     "output_type": "stream",
     "text": [
      "3 1\n",
      "[{'id': 49, 'position': 'center', 'x': 300, 'y': 200, 'color': 'red'}, {'id': -1, 'position': 'left', 'x': 100, 'y': 200, 'color': 'green'}, {'id': 26, 'position': 'top', 'x': 300, 'y': 100, 'color': 'dark red'}, {'id': 49, 'position': 'right', 'x': 500, 'y': 200, 'color': 'blue'}, {'id': 50, 'position': 'right', 'x': 500, 'y': 300, 'color': 'blue'}, {'id': 48, 'position': 'right', 'x': 500, 'y': 400, 'color': 'blue'}]\n"
     ]
    },
    {
     "name": "stderr",
     "output_type": "stream",
     "text": [
      "127.0.0.1 - - [02/Sep/2024 17:58:30] \"GET / HTTP/1.1\" 200 -\n",
      "127.0.0.1 - - [02/Sep/2024 17:58:30] \"GET /static/styles.css HTTP/1.1\" 304 -\n",
      "127.0.0.1 - - [02/Sep/2024 17:58:30] \"GET /static/scripts.js HTTP/1.1\" 200 -\n",
      "127.0.0.1 - - [02/Sep/2024 17:58:30] \"GET /sliders HTTP/1.1\" 200 -\n",
      "127.0.0.1 - - [02/Sep/2024 17:58:30] \"GET /recom HTTP/1.1\" 200 -\n",
      "127.0.0.1 - - [02/Sep/2024 17:58:30] \"GET /tree-data HTTP/1.1\" 200 -\n"
     ]
    }
   ],
   "source": [
    "from flask import Flask, render_template, request, jsonify\n",
    "\n",
    "app = Flask(__name__)\n",
    "\n",
    "@app.route('/')\n",
    "def index():\n",
    "    return render_template('index.html')\n",
    "\n",
    "# slider ####################################################################\n",
    "@app.route('/sliders')\n",
    "def sliders():\n",
    "    return jsonify(sliders_data)\n",
    "\n",
    "@app.route('/handle_slider', methods=['POST'])\n",
    "def submit_slider_values():\n",
    "    data = request.json\n",
    "    print('Received slider values:', data)\n",
    "    # Process the data as needed\n",
    "    return jsonify({'status': 'slider respon success', 'received': data})\n",
    "# slider end ################################################################\n",
    "\n",
    "# recom ####################################################################\n",
    "@app.route('/recom')\n",
    "def recom():\n",
    "    return jsonify(recom_data)\n",
    "\n",
    "@app.route('/handle_recom', methods=['POST'])\n",
    "def handle_recom():\n",
    "    data = request.json\n",
    "    button_id = int(data.get('buttonId'))\n",
    "    val = int(data.get('val'))\n",
    "    print(button_id, val)\n",
    "    moved_node = gt.recom[button_id][val]\n",
    "    graph_data = get_suround_node_data(moved_node)\n",
    "    print(graph_data)\n",
    "    # Handle the button click based on the button_id\n",
    "    return jsonify({'status': 'recom respon success', 'buttonId': button_id, 'val': val})\n",
    "# recom end ####################################################################\n",
    "\n",
    "@app.route('/graph-data')\n",
    "def graph():\n",
    "    return jsonify(graph_data)\n",
    "\n",
    "@app.route('/tree-data')\n",
    "def tree_data():\n",
    "    tree = {\n",
    "        \"name\": \"Root\",\n",
    "        \"children\": [\n",
    "            {\n",
    "                \"name\": \"Child 1\",\n",
    "                \"children\": [\n",
    "                    {\"name\": \"Grandchild 1\"},\n",
    "                    {\"name\": \"Grandchild 2\"}\n",
    "                ]\n",
    "            },\n",
    "            {\n",
    "                \"name\": \"Child 2\",\n",
    "                \"children\": [\n",
    "                    {\"name\": \"Grandchild 3\"},\n",
    "                    {\"name\": \"Grandchild 4\"}\n",
    "                ]\n",
    "            }\n",
    "        ]\n",
    "    }\n",
    "    return jsonify(tree)\n",
    "\n",
    "if __name__ == '__main__':\n",
    "    app.run(port=8123)\n"
   ]
  }
 ],
 "metadata": {
  "kernelspec": {
   "display_name": "Python 3",
   "language": "python",
   "name": "python3"
  },
  "language_info": {
   "codemirror_mode": {
    "name": "ipython",
    "version": 3
   },
   "file_extension": ".py",
   "mimetype": "text/x-python",
   "name": "python",
   "nbconvert_exporter": "python",
   "pygments_lexer": "ipython3",
   "version": "3.11.9"
  }
 },
 "nbformat": 4,
 "nbformat_minor": 2
}
