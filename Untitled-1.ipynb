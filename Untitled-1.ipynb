{
 "cells": [
  {
   "cell_type": "code",
   "execution_count": 41,
   "metadata": {},
   "outputs": [
    {
     "name": "stdout",
     "output_type": "stream",
     "text": [
      "Cosine similarity: -1.00001, Angle in radians: 3.9269908169872414\n",
      "deg: 225.0\n"
     ]
    }
   ],
   "source": [
    "import numpy as np\n",
    "\n",
    "def cos_sim_to_special_radians(cos_similarity):\n",
    "    # Validate the input\n",
    "    if cos_similarity >= 0:\n",
    "        if cos_similarity > 1:\n",
    "            return np.pi*3/4\n",
    "        return np.pi*3/4 - np.arccos(cos_similarity)\n",
    "    else:\n",
    "        if cos_similarity < -1:\n",
    "            return np.pi*5/4\n",
    "        return np.pi*9/4 - np.arccos(cos_similarity)\n",
    "\n",
    "# Example usage\n",
    "cos_sim = -1.00001  # Example cosine similarity\n",
    "radians = cos_similarity_to_special_radians(cos_sim)\n",
    "print(f\"Cosine similarity: {cos_sim}, Angle in radians: {radians}\")\n",
    "print(f\"deg: {np.degrees(radians)}\")\n",
    "\n",
    "\n"
   ]
  }
 ],
 "metadata": {
  "kernelspec": {
   "display_name": "Python 3",
   "language": "python",
   "name": "python3"
  },
  "language_info": {
   "codemirror_mode": {
    "name": "ipython",
    "version": 3
   },
   "file_extension": ".py",
   "mimetype": "text/x-python",
   "name": "python",
   "nbconvert_exporter": "python",
   "pygments_lexer": "ipython3",
   "version": "3.11.9"
  }
 },
 "nbformat": 4,
 "nbformat_minor": 2
}
