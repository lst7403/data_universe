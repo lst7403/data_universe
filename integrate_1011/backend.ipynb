{
 "cells": [
  {
   "cell_type": "code",
   "execution_count": 4,
   "metadata": {},
   "outputs": [],
   "source": [
    "# load module and pre generate data\n",
    "from graph_tree_list_module import *\n",
    "\n",
    "import numpy as np\n",
    "\n",
    "import pickle\n",
    "\n",
    "# Open the file in binary read mode and load the object\n",
    "with open(\"graph_tree.pkl\", \"rb\") as file:\n",
    "    gt = pickle.load(file)\n"
   ]
  },
  {
   "cell_type": "code",
   "execution_count": 5,
   "metadata": {},
   "outputs": [
    {
     "name": "stdout",
     "output_type": "stream",
     "text": [
      "reflection_node: 1 at lv up: 2\n",
      "generate cos sim, ecul dist, and nodes sorted by cos sim\n",
      "[{'id': 18, 'cos_sim': np.float64(-0.5755523168344743), 'euclide_dist': np.float64(0.8035952397386502), 'r_ratio': 1.4714285714285715, 'cluster_type': 'neighbour'}, {'id': 21, 'cos_sim': np.float64(-0.4791538267295451), 'euclide_dist': np.float64(1.0154997843986724), 'r_ratio': 0.3, 'cluster_type': 'neighbour'}, {'id': 23, 'cos_sim': np.float64(-0.47174492195640827), 'euclide_dist': np.float64(0.831771797565834), 'r_ratio': 1.1714285714285715, 'cluster_type': 'neighbour'}, {'id': 6, 'cos_sim': np.float64(-0.26896811660847436), 'euclide_dist': np.float64(1.238594290957152), 'r_ratio': 0.5, 'cluster_type': 'neighbour'}, {'id': 27, 'cos_sim': np.float64(-0.2114062464791594), 'euclide_dist': np.float64(0.7128433332564057), 'r_ratio': 0.17142857142857143, 'cluster_type': 'neighbour'}, {'id': 24, 'cos_sim': np.float64(-0.19238211026425456), 'euclide_dist': np.float64(0.6633759032487465), 'r_ratio': 0.37142857142857144, 'cluster_type': 'neighbour'}, {'id': 17, 'cos_sim': np.float64(-0.12264947807782754), 'euclide_dist': np.float64(0.6396058723789214), 'r_ratio': 1.2428571428571429, 'cluster_type': 'neighbour'}, {'id': 20, 'cos_sim': np.float64(-0.0404014525747863), 'euclide_dist': np.float64(0.8797495052704711), 'r_ratio': 0.3142857142857143, 'cluster_type': 'neighbour'}, {'id': 29, 'cos_sim': np.float64(-0.012377440806048454), 'euclide_dist': np.float64(0.9464172983008188), 'r_ratio': 0.07142857142857142, 'cluster_type': 'neighbour'}, {'id': 32, 'cos_sim': np.float64(0.0711024790953264), 'euclide_dist': np.float64(0.5632962511382218), 'r_ratio': 0.24285714285714285, 'cluster_type': 'neighbour'}, {'id': 31, 'cos_sim': np.float64(0.0999930348688301), 'euclide_dist': np.float64(0.6872151914450806), 'r_ratio': 0.2, 'cluster_type': 'neighbour'}, {'id': 19, 'cos_sim': np.float64(0.15265239892871163), 'euclide_dist': np.float64(0.7805917471560612), 'r_ratio': 0.32857142857142857, 'cluster_type': 'neighbour'}, {'id': 22, 'cos_sim': np.float64(0.223631870803192), 'euclide_dist': np.float64(0.6600156586005946), 'r_ratio': 0.5857142857142857, 'cluster_type': 'neighbour'}, {'id': 28, 'cos_sim': np.float64(0.321219111441764), 'euclide_dist': np.float64(0.5913297549055095), 'r_ratio': 0.37142857142857144, 'cluster_type': 'neighbour'}, {'id': 30, 'cos_sim': np.float64(0.39869877880909554), 'euclide_dist': np.float64(0.6034862650974535), 'r_ratio': 0.08571428571428572, 'cluster_type': 'neighbour'}, {'id': 25, 'cos_sim': np.float64(0.4622108178264992), 'euclide_dist': np.float64(0.4391885620683006), 'r_ratio': 0.3, 'cluster_type': 'neighbour'}, {'id': 26, 'cos_sim': np.float64(0.4861045997807609), 'euclide_dist': np.float64(0.5637585403654504), 'r_ratio': 0.22857142857142856, 'cluster_type': 'neighbour'}, {'id': 15, 'cos_sim': np.float64(0.5410417150541238), 'euclide_dist': np.float64(0.4095607249763128), 'r_ratio': 1.3142857142857143, 'cluster_type': 'neighbour'}, {'id': 16, 'cos_sim': np.float64(1.0), 'euclide_dist': np.float64(0.0), 'r_ratio': 1.0, 'cluster_type': 'center'}]\n",
      "[{'id': 3, 'r_ratio': 2.3142857142857145, 'dy': 0, 'dx': 0, 'cluster_type': 'parent'}, {'id': 51, 'r_ratio': 0.07142857142857142, 'dy': 0, 'dx': -0.0, 'cluster_type': 'child'}, {'id': 52, 'r_ratio': 0.11428571428571428, 'dy': 1, 'dx': 0.5, 'cluster_type': 'child'}, {'id': 53, 'r_ratio': 0.2, 'dy': 1, 'dx': -0.5, 'cluster_type': 'child'}, {'id': 54, 'r_ratio': 0.07142857142857142, 'dy': 2, 'dx': -0.0, 'cluster_type': 'child'}, {'id': 55, 'r_ratio': 0.11428571428571428, 'dy': 2, 'dx': 1.0, 'cluster_type': 'child'}, {'id': 56, 'r_ratio': 0.04285714285714286, 'dy': 2, 'dx': -1.0, 'cluster_type': 'child'}, {'id': 57, 'r_ratio': 0.1, 'dy': 3, 'dx': 0.5, 'cluster_type': 'child'}, {'id': 58, 'r_ratio': 0.11428571428571428, 'dy': 3, 'dx': -0.5, 'cluster_type': 'child'}, {'id': 59, 'r_ratio': 0.11428571428571428, 'dy': 3, 'dx': 1.5, 'cluster_type': 'child'}, {'id': 60, 'r_ratio': 0.05714285714285714, 'dy': 3, 'dx': -1.5, 'cluster_type': 'child'}]\n"
     ]
    }
   ],
   "source": [
    "sliders_data = [{\"id\": gt.attr_name[i], \"min\": gt.X_maxmin[1][i], \"max\": gt.X_maxmin[0][i], \"value\": gt.nodes[0].center[i], \"type\": \"f\"} for i in range(len(gt.attr_name))]\n",
    "# print(sliders_data)\n",
    "\n",
    "recom_data = [{\"i\": i, \"id\": gt.attr_name[i], \"max_val\": gt.recom[i][0].center[i], \"min_val\": gt.recom[i][1].center[i]} for i in range(len(gt.attr_name))]\n",
    "# print(recom_data)\n",
    "\n",
    "graph_tree_horizontal_data, graph_tree_vertical_data = gt.get_graph_tree_svg_data(node_id = 16)\n",
    "\n",
    "tree_data = {\n",
    "        \"name\": \"Root\",\n",
    "        \"children\": [\n",
    "            {\n",
    "                \"name\": \"Child 1\",\n",
    "                \"children\": [\n",
    "                    {\"name\": \"Grandchild 1\"},\n",
    "                    {\"name\": \"Grandchild 2\"}\n",
    "                ]\n",
    "            },\n",
    "            {\n",
    "                \"name\": \"Child 2\",\n",
    "                \"children\": [\n",
    "                    {\"name\": \"Grandchild 3\"},\n",
    "                    {\"name\": \"Grandchild 4\"}\n",
    "                ]\n",
    "            }\n",
    "        ]\n",
    "    }"
   ]
  },
  {
   "cell_type": "code",
   "execution_count": 3,
   "metadata": {},
   "outputs": [
    {
     "name": "stdout",
     "output_type": "stream",
     "text": [
      " * Serving Flask app '__main__'\n",
      " * Debug mode: off\n"
     ]
    },
    {
     "name": "stderr",
     "output_type": "stream",
     "text": [
      "WARNING: This is a development server. Do not use it in a production deployment. Use a production WSGI server instead.\n",
      " * Running on http://127.0.0.1:8123\n",
      "Press CTRL+C to quit\n",
      "127.0.0.1 - - [11/Oct/2024 02:34:18] \"GET / HTTP/1.1\" 200 -\n",
      "127.0.0.1 - - [11/Oct/2024 02:34:18] \"GET /static/styles.css HTTP/1.1\" 304 -\n",
      "127.0.0.1 - - [11/Oct/2024 02:34:18] \"GET /static/graph_tree_shared_variable.js HTTP/1.1\" 304 -\n",
      "127.0.0.1 - - [11/Oct/2024 02:34:18] \"GET /static/curve_axis.js HTTP/1.1\" 304 -\n",
      "127.0.0.1 - - [11/Oct/2024 02:34:18] \"GET /static/graph_tree.js HTTP/1.1\" 304 -\n",
      "127.0.0.1 - - [11/Oct/2024 02:34:18] \"GET /static/scripts.js HTTP/1.1\" 304 -\n",
      "127.0.0.1 - - [11/Oct/2024 02:34:18] \"GET /sliders HTTP/1.1\" 200 -\n",
      "127.0.0.1 - - [11/Oct/2024 02:34:18] \"GET /recom HTTP/1.1\" 200 -\n",
      "127.0.0.1 - - [11/Oct/2024 02:34:18] \"GET /graph_tree_data HTTP/1.1\" 200 -\n",
      "127.0.0.1 - - [11/Oct/2024 02:34:18] \"GET /tree_data HTTP/1.1\" 200 -\n",
      "127.0.0.1 - - [11/Oct/2024 02:34:26] \"GET / HTTP/1.1\" 200 -\n",
      "127.0.0.1 - - [11/Oct/2024 02:34:26] \"GET /static/styles.css HTTP/1.1\" 304 -\n",
      "127.0.0.1 - - [11/Oct/2024 02:34:26] \"GET /static/graph_tree_shared_variable.js HTTP/1.1\" 304 -\n",
      "127.0.0.1 - - [11/Oct/2024 02:34:26] \"GET /static/curve_axis.js HTTP/1.1\" 304 -\n",
      "127.0.0.1 - - [11/Oct/2024 02:34:26] \"GET /static/graph_tree.js HTTP/1.1\" 304 -\n",
      "127.0.0.1 - - [11/Oct/2024 02:34:26] \"GET /static/scripts.js HTTP/1.1\" 304 -\n",
      "127.0.0.1 - - [11/Oct/2024 02:34:26] \"GET /sliders HTTP/1.1\" 200 -\n",
      "127.0.0.1 - - [11/Oct/2024 02:34:26] \"GET /recom HTTP/1.1\" 200 -\n",
      "127.0.0.1 - - [11/Oct/2024 02:34:26] \"GET /graph_tree_data HTTP/1.1\" 200 -\n",
      "127.0.0.1 - - [11/Oct/2024 02:34:26] \"GET /tree_data HTTP/1.1\" 200 -\n",
      "127.0.0.1 - - [11/Oct/2024 02:34:53] \"GET / HTTP/1.1\" 200 -\n",
      "127.0.0.1 - - [11/Oct/2024 02:34:54] \"GET /static/styles.css HTTP/1.1\" 304 -\n",
      "127.0.0.1 - - [11/Oct/2024 02:34:54] \"GET /static/graph_tree_shared_variable.js HTTP/1.1\" 304 -\n",
      "127.0.0.1 - - [11/Oct/2024 02:34:54] \"GET /static/curve_axis.js HTTP/1.1\" 304 -\n",
      "127.0.0.1 - - [11/Oct/2024 02:34:54] \"GET /static/graph_tree.js HTTP/1.1\" 304 -\n",
      "127.0.0.1 - - [11/Oct/2024 02:34:54] \"GET /static/scripts.js HTTP/1.1\" 304 -\n",
      "127.0.0.1 - - [11/Oct/2024 02:34:54] \"GET /sliders HTTP/1.1\" 200 -\n",
      "127.0.0.1 - - [11/Oct/2024 02:34:54] \"GET /recom HTTP/1.1\" 200 -\n",
      "127.0.0.1 - - [11/Oct/2024 02:34:54] \"GET /graph_tree_data HTTP/1.1\" 200 -\n",
      "127.0.0.1 - - [11/Oct/2024 02:34:54] \"GET /tree_data HTTP/1.1\" 200 -\n",
      "127.0.0.1 - - [11/Oct/2024 02:34:57] \"POST /graph_tree_circle_click HTTP/1.1\" 200 -\n"
     ]
    },
    {
     "name": "stdout",
     "output_type": "stream",
     "text": [
      "25\n",
      "reflection_node: 1 at lv up: 2\n",
      "generate cos sim, ecul dist, and nodes sorted by cos sim\n",
      "[{'id': 20, 'cos_sim': np.float64(-0.5633555968480095), 'euclide_dist': np.float64(1.0541845777139194), 'r_ratio': 1.0476190476190477, 'cluster_type': 'neighbour'}, {'id': 17, 'cos_sim': np.float64(-0.5499337677339663), 'euclide_dist': np.float64(0.7535317896563434), 'r_ratio': 4.142857142857143, 'cluster_type': 'neighbour'}, {'id': 21, 'cos_sim': np.float64(-0.4423427930710003), 'euclide_dist': np.float64(1.0057830726904347), 'r_ratio': 1.0, 'cluster_type': 'neighbour'}, {'id': 23, 'cos_sim': np.float64(-0.20850758144575834), 'euclide_dist': np.float64(0.7571292503473986), 'r_ratio': 3.9047619047619047, 'cluster_type': 'neighbour'}, {'id': 6, 'cos_sim': np.float64(-0.16679834029279364), 'euclide_dist': np.float64(1.2023813210252583), 'r_ratio': 1.6666666666666667, 'cluster_type': 'neighbour'}, {'id': 15, 'cos_sim': np.float64(-0.14372367947149775), 'euclide_dist': np.float64(0.6481445291703153), 'r_ratio': 4.380952380952381, 'cluster_type': 'neighbour'}, {'id': 19, 'cos_sim': np.float64(-0.06823587208173786), 'euclide_dist': np.float64(0.8640596331894541), 'r_ratio': 1.0952380952380953, 'cluster_type': 'neighbour'}, {'id': 18, 'cos_sim': np.float64(-0.0540085072834463), 'euclide_dist': np.float64(0.6597515670315874), 'r_ratio': 4.904761904761905, 'cluster_type': 'neighbour'}, {'id': 27, 'cos_sim': np.float64(0.1393350542242449), 'euclide_dist': np.float64(0.6033710880379141), 'r_ratio': 0.5714285714285714, 'cluster_type': 'neighbour'}, {'id': 32, 'cos_sim': np.float64(0.28991324042518235), 'euclide_dist': np.float64(0.4940129061087535), 'r_ratio': 0.8095238095238095, 'cluster_type': 'neighbour'}, {'id': 22, 'cos_sim': np.float64(0.2967772232709625), 'euclide_dist': np.float64(0.6316853917231164), 'r_ratio': 1.9523809523809523, 'cluster_type': 'neighbour'}, {'id': 29, 'cos_sim': np.float64(0.3082268985262763), 'euclide_dist': np.float64(0.8176289034255619), 'r_ratio': 0.23809523809523808, 'cluster_type': 'neighbour'}, {'id': 31, 'cos_sim': np.float64(0.44992971975986995), 'euclide_dist': np.float64(0.5475344751483243), 'r_ratio': 0.6666666666666666, 'cluster_type': 'neighbour'}, {'id': 30, 'cos_sim': np.float64(0.4616547971387586), 'euclide_dist': np.float64(0.5755347281642398), 'r_ratio': 0.2857142857142857, 'cluster_type': 'neighbour'}, {'id': 16, 'cos_sim': np.float64(0.4622108178264992), 'euclide_dist': np.float64(0.4391885620683006), 'r_ratio': 3.3333333333333335, 'cluster_type': 'neighbour'}, {'id': 24, 'cos_sim': np.float64(0.47550477338375724), 'euclide_dist': np.float64(0.44122950096798413), 'r_ratio': 1.2380952380952381, 'cluster_type': 'neighbour'}, {'id': 28, 'cos_sim': np.float64(0.6623873128298302), 'euclide_dist': np.float64(0.43043162587958056), 'r_ratio': 1.2380952380952381, 'cluster_type': 'neighbour'}, {'id': 26, 'cos_sim': np.float64(0.7042616668870947), 'euclide_dist': np.float64(0.44874400948491994), 'r_ratio': 0.7619047619047619, 'cluster_type': 'neighbour'}, {'id': 25, 'cos_sim': np.float64(0.9999999999999999), 'euclide_dist': np.float64(0.0), 'r_ratio': 1.0, 'cluster_type': 'center'}]\n",
      "[{'id': 8, 'r_ratio': 6.809523809523809, 'dy': 0, 'dx': 0, 'cluster_type': 'parent'}]\n"
     ]
    },
    {
     "name": "stderr",
     "output_type": "stream",
     "text": [
      "127.0.0.1 - - [11/Oct/2024 02:35:01] \"POST /graph_tree_circle_click HTTP/1.1\" 200 -\n"
     ]
    },
    {
     "name": "stdout",
     "output_type": "stream",
     "text": [
      "15\n",
      "reflection_node: 1 at lv up: 2\n",
      "generate cos sim, ecul dist, and nodes sorted by cos sim\n",
      "[{'id': 23, 'cos_sim': np.float64(-0.6476532703234698), 'euclide_dist': np.float64(0.8879948522221652), 'r_ratio': 0.8913043478260869, 'cluster_type': 'neighbour'}, {'id': 6, 'cos_sim': np.float64(-0.5803859599202654), 'euclide_dist': np.float64(1.3538895134902649), 'r_ratio': 0.3804347826086957, 'cluster_type': 'neighbour'}, {'id': 18, 'cos_sim': np.float64(-0.3705989146260198), 'euclide_dist': np.float64(0.7579575855032028), 'r_ratio': 1.1195652173913044, 'cluster_type': 'neighbour'}, {'id': 22, 'cos_sim': np.float64(-0.296414149113913), 'euclide_dist': np.float64(0.8461908932675033), 'r_ratio': 0.44565217391304346, 'cluster_type': 'neighbour'}, {'id': 31, 'cos_sim': np.float64(-0.1524072528309201), 'euclide_dist': np.float64(0.779518553287808), 'r_ratio': 0.15217391304347827, 'cluster_type': 'neighbour'}, {'id': 25, 'cos_sim': np.float64(-0.14372367947149775), 'euclide_dist': np.float64(0.6481445291703153), 'r_ratio': 0.22826086956521738, 'cluster_type': 'neighbour'}, {'id': 21, 'cos_sim': np.float64(-0.12856934139224366), 'euclide_dist': np.float64(0.906522849473695), 'r_ratio': 0.22826086956521738, 'cluster_type': 'neighbour'}, {'id': 24, 'cos_sim': np.float64(-0.056824457416119356), 'euclide_dist': np.float64(0.6318318873080015), 'r_ratio': 0.2826086956521739, 'cluster_type': 'neighbour'}, {'id': 29, 'cos_sim': np.float64(0.02289284235923583), 'euclide_dist': np.float64(0.9374897757581903), 'r_ratio': 0.05434782608695652, 'cluster_type': 'neighbour'}, {'id': 26, 'cos_sim': np.float64(0.06295958841759898), 'euclide_dist': np.float64(0.7425313071230224), 'r_ratio': 0.17391304347826086, 'cluster_type': 'neighbour'}, {'id': 27, 'cos_sim': np.float64(0.06442512818422812), 'euclide_dist': np.float64(0.6336812444271965), 'r_ratio': 0.13043478260869565, 'cluster_type': 'neighbour'}, {'id': 19, 'cos_sim': np.float64(0.1708482389397638), 'euclide_dist': np.float64(0.7773925909214805), 'r_ratio': 0.25, 'cluster_type': 'neighbour'}, {'id': 20, 'cos_sim': np.float64(0.21897489402069886), 'euclide_dist': np.float64(0.7835067396683972), 'r_ratio': 0.2391304347826087, 'cluster_type': 'neighbour'}, {'id': 17, 'cos_sim': np.float64(0.2526919673945555), 'euclide_dist': np.float64(0.528005737369058), 'r_ratio': 0.9456521739130435, 'cluster_type': 'neighbour'}, {'id': 28, 'cos_sim': np.float64(0.28184641054260323), 'euclide_dist': np.float64(0.6116024757859497), 'r_ratio': 0.2826086956521739, 'cluster_type': 'neighbour'}, {'id': 32, 'cos_sim': np.float64(0.4066044958470099), 'euclide_dist': np.float64(0.45622768766091587), 'r_ratio': 0.18478260869565216, 'cluster_type': 'neighbour'}, {'id': 30, 'cos_sim': np.float64(0.41236159316892157), 'euclide_dist': np.float64(0.6002440213926317), 'r_ratio': 0.06521739130434782, 'cluster_type': 'neighbour'}, {'id': 16, 'cos_sim': np.float64(0.5410417150541238), 'euclide_dist': np.float64(0.4095607249763128), 'r_ratio': 0.7608695652173914, 'cluster_type': 'neighbour'}, {'id': 15, 'cos_sim': np.float64(1.0), 'euclide_dist': np.float64(0.0), 'r_ratio': 1.0, 'cluster_type': 'center'}]\n",
      "[{'id': 3, 'r_ratio': 1.7608695652173914, 'dy': 0, 'dx': 0, 'cluster_type': 'parent'}, {'id': 47, 'r_ratio': 0.25, 'dy': 0, 'dx': -0.0, 'cluster_type': 'child'}, {'id': 48, 'r_ratio': 0.32608695652173914, 'dy': 1, 'dx': 0.5, 'cluster_type': 'child'}, {'id': 49, 'r_ratio': 0.2717391304347826, 'dy': 1, 'dx': -0.5, 'cluster_type': 'child'}, {'id': 50, 'r_ratio': 0.15217391304347827, 'dy': 2, 'dx': -0.0, 'cluster_type': 'child'}]\n"
     ]
    },
    {
     "name": "stderr",
     "output_type": "stream",
     "text": [
      "127.0.0.1 - - [11/Oct/2024 02:35:21] \"POST /graph_tree_circle_click HTTP/1.1\" 200 -\n"
     ]
    },
    {
     "name": "stdout",
     "output_type": "stream",
     "text": [
      "16\n",
      "reflection_node: 1 at lv up: 2\n",
      "generate cos sim, ecul dist, and nodes sorted by cos sim\n",
      "[{'id': 18, 'cos_sim': np.float64(-0.5755523168344743), 'euclide_dist': np.float64(0.8035952397386502), 'r_ratio': 1.4714285714285715, 'cluster_type': 'neighbour'}, {'id': 21, 'cos_sim': np.float64(-0.4791538267295451), 'euclide_dist': np.float64(1.0154997843986724), 'r_ratio': 0.3, 'cluster_type': 'neighbour'}, {'id': 23, 'cos_sim': np.float64(-0.47174492195640827), 'euclide_dist': np.float64(0.831771797565834), 'r_ratio': 1.1714285714285715, 'cluster_type': 'neighbour'}, {'id': 6, 'cos_sim': np.float64(-0.26896811660847436), 'euclide_dist': np.float64(1.238594290957152), 'r_ratio': 0.5, 'cluster_type': 'neighbour'}, {'id': 27, 'cos_sim': np.float64(-0.2114062464791594), 'euclide_dist': np.float64(0.7128433332564057), 'r_ratio': 0.17142857142857143, 'cluster_type': 'neighbour'}, {'id': 24, 'cos_sim': np.float64(-0.19238211026425456), 'euclide_dist': np.float64(0.6633759032487465), 'r_ratio': 0.37142857142857144, 'cluster_type': 'neighbour'}, {'id': 17, 'cos_sim': np.float64(-0.12264947807782754), 'euclide_dist': np.float64(0.6396058723789214), 'r_ratio': 1.2428571428571429, 'cluster_type': 'neighbour'}, {'id': 20, 'cos_sim': np.float64(-0.0404014525747863), 'euclide_dist': np.float64(0.8797495052704711), 'r_ratio': 0.3142857142857143, 'cluster_type': 'neighbour'}, {'id': 29, 'cos_sim': np.float64(-0.012377440806048454), 'euclide_dist': np.float64(0.9464172983008188), 'r_ratio': 0.07142857142857142, 'cluster_type': 'neighbour'}, {'id': 32, 'cos_sim': np.float64(0.0711024790953264), 'euclide_dist': np.float64(0.5632962511382218), 'r_ratio': 0.24285714285714285, 'cluster_type': 'neighbour'}, {'id': 31, 'cos_sim': np.float64(0.0999930348688301), 'euclide_dist': np.float64(0.6872151914450806), 'r_ratio': 0.2, 'cluster_type': 'neighbour'}, {'id': 19, 'cos_sim': np.float64(0.15265239892871163), 'euclide_dist': np.float64(0.7805917471560612), 'r_ratio': 0.32857142857142857, 'cluster_type': 'neighbour'}, {'id': 22, 'cos_sim': np.float64(0.223631870803192), 'euclide_dist': np.float64(0.6600156586005946), 'r_ratio': 0.5857142857142857, 'cluster_type': 'neighbour'}, {'id': 28, 'cos_sim': np.float64(0.321219111441764), 'euclide_dist': np.float64(0.5913297549055095), 'r_ratio': 0.37142857142857144, 'cluster_type': 'neighbour'}, {'id': 30, 'cos_sim': np.float64(0.39869877880909554), 'euclide_dist': np.float64(0.6034862650974535), 'r_ratio': 0.08571428571428572, 'cluster_type': 'neighbour'}, {'id': 25, 'cos_sim': np.float64(0.4622108178264992), 'euclide_dist': np.float64(0.4391885620683006), 'r_ratio': 0.3, 'cluster_type': 'neighbour'}, {'id': 26, 'cos_sim': np.float64(0.4861045997807609), 'euclide_dist': np.float64(0.5637585403654504), 'r_ratio': 0.22857142857142856, 'cluster_type': 'neighbour'}, {'id': 15, 'cos_sim': np.float64(0.5410417150541238), 'euclide_dist': np.float64(0.4095607249763128), 'r_ratio': 1.3142857142857143, 'cluster_type': 'neighbour'}, {'id': 16, 'cos_sim': np.float64(1.0), 'euclide_dist': np.float64(0.0), 'r_ratio': 1.0, 'cluster_type': 'center'}]\n",
      "[{'id': 3, 'r_ratio': 2.3142857142857145, 'dy': 0, 'dx': 0, 'cluster_type': 'parent'}, {'id': 51, 'r_ratio': 0.07142857142857142, 'dy': 0, 'dx': -0.0, 'cluster_type': 'child'}, {'id': 52, 'r_ratio': 0.11428571428571428, 'dy': 1, 'dx': 0.5, 'cluster_type': 'child'}, {'id': 53, 'r_ratio': 0.2, 'dy': 1, 'dx': -0.5, 'cluster_type': 'child'}, {'id': 54, 'r_ratio': 0.07142857142857142, 'dy': 2, 'dx': -0.0, 'cluster_type': 'child'}, {'id': 55, 'r_ratio': 0.11428571428571428, 'dy': 2, 'dx': 1.0, 'cluster_type': 'child'}, {'id': 56, 'r_ratio': 0.04285714285714286, 'dy': 2, 'dx': -1.0, 'cluster_type': 'child'}, {'id': 57, 'r_ratio': 0.1, 'dy': 3, 'dx': 0.5, 'cluster_type': 'child'}, {'id': 58, 'r_ratio': 0.11428571428571428, 'dy': 3, 'dx': -0.5, 'cluster_type': 'child'}, {'id': 59, 'r_ratio': 0.11428571428571428, 'dy': 3, 'dx': 1.5, 'cluster_type': 'child'}, {'id': 60, 'r_ratio': 0.05714285714285714, 'dy': 3, 'dx': -1.5, 'cluster_type': 'child'}]\n"
     ]
    }
   ],
   "source": [
    "from flask import Flask, render_template, request, jsonify\n",
    "\n",
    "app = Flask(__name__)\n",
    "\n",
    "@app.route('/')\n",
    "def index():\n",
    "    return render_template('index.html')\n",
    "\n",
    "# slider ####################################################################\n",
    "@app.route('/sliders')\n",
    "def sliders():\n",
    "    return jsonify(sliders_data)\n",
    "\n",
    "@app.route('/handle_slider', methods=['POST'])\n",
    "def submit_slider_values():\n",
    "    sucess_msg = \"slider respon success\"\n",
    "    data = request.json\n",
    "    print('Received slider values:', data)\n",
    "    query = np.array([float(val) for val in data.values()])\n",
    "    cur = gt.search(query)\n",
    "    graph_tree_horizontal_data, graph_tree_vertical_data = gt.get_graph_tree_svg_data(cur.id)\n",
    "    # Process the data as needed\n",
    "    return jsonify({'status': sucess_msg,\n",
    "                    \"graph_tree_data\": {\"graph_tree_horizontal_data\": graph_tree_horizontal_data, \"graph_tree_vertical_data\": graph_tree_vertical_data}})\n",
    "# slider end ################################################################\n",
    "\n",
    "# recom ####################################################################\n",
    "@app.route('/recom')\n",
    "def recom():\n",
    "    return jsonify(recom_data)\n",
    "\n",
    "@app.route('/handle_recom', methods=['POST'])\n",
    "def handle_recom():\n",
    "    sucess_msg = \"recom respon success\"\n",
    "    data = request.json\n",
    "    button_id = int(data.get('buttonId'))\n",
    "    val = int(data.get('val'))\n",
    "    # print(button_id, val)\n",
    "    moved_node = gt.recom[button_id][val]\n",
    "    graph_tree_horizontal_data, graph_tree_vertical_data = gt.get_graph_tree_svg_data(moved_node.id)\n",
    "    # print(graph_tree_data)\n",
    "    return jsonify({'status': sucess_msg,\n",
    "                    'buttonId': button_id,\n",
    "                    'val': val,\n",
    "                    \"graph_tree_data\": {\"graph_tree_horizontal_data\": graph_tree_horizontal_data, \"graph_tree_vertical_data\": graph_tree_vertical_data}})\n",
    "# recom end ####################################################################\n",
    "\n",
    "@app.route('/graph_tree_data')\n",
    "def graph():\n",
    "    return jsonify({\"graph_tree_data\": {\"graph_tree_horizontal_data\": graph_tree_horizontal_data, \"graph_tree_vertical_data\": graph_tree_vertical_data}})\n",
    "\n",
    "@app.route('/graph_tree_circle_click', methods=['POST'])\n",
    "def graph_tree_circle_click():\n",
    "    sucess_msg = \"graph_tree_circle_click respon success\"\n",
    "    data = request.json\n",
    "    id = int(data.get('id'))\n",
    "    print(id)\n",
    "    graph_tree_horizontal_data, graph_tree_vertical_data = gt.get_graph_tree_svg_data(id)\n",
    "    return jsonify({'status': sucess_msg,\n",
    "                    'id': id,\n",
    "                    \"graph_tree_data\": {\"graph_tree_horizontal_data\": graph_tree_horizontal_data, \"graph_tree_vertical_data\": graph_tree_vertical_data}})\n",
    "\n",
    "\n",
    "@app.route('/tree_data')\n",
    "def tree():\n",
    "    return jsonify(tree_data)\n",
    "\n",
    "if __name__ == '__main__':\n",
    "    app.run(port=8123)\n"
   ]
  }
 ],
 "metadata": {
  "kernelspec": {
   "display_name": "Python 3",
   "language": "python",
   "name": "python3"
  },
  "language_info": {
   "codemirror_mode": {
    "name": "ipython",
    "version": 3
   },
   "file_extension": ".py",
   "mimetype": "text/x-python",
   "name": "python",
   "nbconvert_exporter": "python",
   "pygments_lexer": "ipython3",
   "version": "3.12.5"
  }
 },
 "nbformat": 4,
 "nbformat_minor": 2
}
