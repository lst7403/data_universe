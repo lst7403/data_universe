{
 "cells": [
  {
   "cell_type": "code",
   "execution_count": 9,
   "metadata": {},
   "outputs": [
    {
     "name": "stdout",
     "output_type": "stream",
     "text": [
      " * Serving Flask app '__main__'\n",
      " * Debug mode: off\n"
     ]
    },
    {
     "name": "stderr",
     "output_type": "stream",
     "text": [
      "WARNING: This is a development server. Do not use it in a production deployment. Use a production WSGI server instead.\n",
      " * Running on http://127.0.0.1:8765\n",
      "Press CTRL+C to quit\n",
      "127.0.0.1 - - [18/Aug/2024 22:56:03] \"GET / HTTP/1.1\" 200 -\n",
      "127.0.0.1 - - [18/Aug/2024 22:56:08] \"POST /increment HTTP/1.1\" 200 -\n",
      "127.0.0.1 - - [18/Aug/2024 22:56:08] \"POST /increment HTTP/1.1\" 200 -\n",
      "127.0.0.1 - - [18/Aug/2024 22:56:09] \"POST /increment HTTP/1.1\" 200 -\n",
      "127.0.0.1 - - [18/Aug/2024 22:56:09] \"POST /increment HTTP/1.1\" 200 -\n",
      "127.0.0.1 - - [18/Aug/2024 22:56:09] \"POST /increment HTTP/1.1\" 200 -\n",
      "127.0.0.1 - - [18/Aug/2024 22:56:09] \"POST /increment HTTP/1.1\" 200 -\n",
      "127.0.0.1 - - [18/Aug/2024 22:56:13] \"POST /increment HTTP/1.1\" 200 -\n",
      "127.0.0.1 - - [18/Aug/2024 22:56:16] \"POST /increment HTTP/1.1\" 200 -\n",
      "127.0.0.1 - - [18/Aug/2024 22:56:19] \"POST /increment HTTP/1.1\" 200 -\n",
      "127.0.0.1 - - [18/Aug/2024 22:56:20] \"POST /increment HTTP/1.1\" 200 -\n"
     ]
    }
   ],
   "source": [
    "from flask import Flask, render_template, request\n",
    "\n",
    "app = Flask(__name__)\n",
    "\n",
    "@app.route('/')\n",
    "def index():\n",
    "    return render_template('index.html')\n",
    "\n",
    "@app.route('/increment', methods=['POST'])\n",
    "def increment():\n",
    "    value = int(request.form.get('value'))\n",
    "    new_value = value + 10\n",
    "    \n",
    "    return str(new_value)\n",
    "\n",
    "if __name__ == '__main__':\n",
    "    app.run(port=8765)\n"
   ]
  }
 ],
 "metadata": {
  "kernelspec": {
   "display_name": "Python 3",
   "language": "python",
   "name": "python3"
  },
  "language_info": {
   "codemirror_mode": {
    "name": "ipython",
    "version": 3
   },
   "file_extension": ".py",
   "mimetype": "text/x-python",
   "name": "python",
   "nbconvert_exporter": "python",
   "pygments_lexer": "ipython3",
   "version": "3.11.9"
  }
 },
 "nbformat": 4,
 "nbformat_minor": 2
}
