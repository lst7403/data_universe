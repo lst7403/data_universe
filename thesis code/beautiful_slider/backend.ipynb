{
 "cells": [
  {
   "cell_type": "code",
   "execution_count": 11,
   "metadata": {},
   "outputs": [
    {
     "name": "stdout",
     "output_type": "stream",
     "text": [
      " * Serving Flask app '__main__'\n",
      " * Debug mode: off\n"
     ]
    },
    {
     "name": "stderr",
     "output_type": "stream",
     "text": [
      "WARNING: This is a development server. Do not use it in a production deployment. Use a production WSGI server instead.\n",
      " * Running on http://127.0.0.1:8113\n",
      "Press CTRL+C to quit\n",
      "127.0.0.1 - - [06/Aug/2024 19:06:40] \"GET / HTTP/1.1\" 200 -\n",
      "127.0.0.1 - - [06/Aug/2024 19:06:41] \"POST /submit HTTP/1.1\" 200 -\n"
     ]
    },
    {
     "name": "stdout",
     "output_type": "stream",
     "text": [
      "Received slider values: [50, 60, 70, 80, 90]\n"
     ]
    },
    {
     "name": "stderr",
     "output_type": "stream",
     "text": [
      "127.0.0.1 - - [06/Aug/2024 19:06:52] \"POST /submit HTTP/1.1\" 200 -\n"
     ]
    },
    {
     "name": "stdout",
     "output_type": "stream",
     "text": [
      "Received slider values: [66, 137, 154, 146, 374]\n"
     ]
    }
   ],
   "source": [
    "from flask import Flask, render_template, request, jsonify\n",
    "\n",
    "app = Flask(__name__)\n",
    "\n",
    "@app.route('/')\n",
    "def index():\n",
    "    sliders = [\n",
    "        {\"id\": 1, \"min\": 0, \"max\": 100, \"value\": 50},\n",
    "        {\"id\": 2, \"min\": 10, \"max\": 200, \"value\": 60},\n",
    "        {\"id\": 3, \"min\": 20, \"max\": 300, \"value\": 70},\n",
    "        {\"id\": 4, \"min\": 30, \"max\": 400, \"value\": 80},\n",
    "        {\"id\": 5, \"min\": 40, \"max\": 500, \"value\": 90}\n",
    "    ]\n",
    "    return render_template('index.html', sliders=sliders)\n",
    "\n",
    "@app.route('/submit', methods=['POST'])\n",
    "def submit():\n",
    "    slider_values = request.json\n",
    "    print(\"Received slider values:\", [int(i[\"value\"]) for i in slider_values])\n",
    "    return jsonify(slider_values)\n",
    "\n",
    "if __name__ == '__main__':\n",
    "    app.run(port=8113)\n"
   ]
  }
 ],
 "metadata": {
  "kernelspec": {
   "display_name": "Python 3",
   "language": "python",
   "name": "python3"
  },
  "language_info": {
   "codemirror_mode": {
    "name": "ipython",
    "version": 3
   },
   "file_extension": ".py",
   "mimetype": "text/x-python",
   "name": "python",
   "nbconvert_exporter": "python",
   "pygments_lexer": "ipython3",
   "version": "3.11.9"
  }
 },
 "nbformat": 4,
 "nbformat_minor": 2
}
