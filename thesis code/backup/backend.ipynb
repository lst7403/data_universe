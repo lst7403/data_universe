{
 "cells": [
  {
   "cell_type": "code",
   "execution_count": null,
   "metadata": {},
   "outputs": [],
   "source": [
    "from "
   ]
  },
  {
   "cell_type": "code",
   "execution_count": 1,
   "metadata": {},
   "outputs": [
    {
     "name": "stdout",
     "output_type": "stream",
     "text": [
      " * Serving Flask app '__main__'\n",
      " * Debug mode: off\n"
     ]
    },
    {
     "name": "stderr",
     "output_type": "stream",
     "text": [
      "WARNING: This is a development server. Do not use it in a production deployment. Use a production WSGI server instead.\n",
      " * Running on http://127.0.0.1:8123\n",
      "Press CTRL+C to quit\n",
      "127.0.0.1 - - [29/Aug/2024 23:34:42] \"GET / HTTP/1.1\" 200 -\n",
      "127.0.0.1 - - [29/Aug/2024 23:34:42] \"GET /static/scripts.js HTTP/1.1\" 304 -\n",
      "127.0.0.1 - - [29/Aug/2024 23:34:42] \"GET /static/styles.css HTTP/1.1\" 304 -\n",
      "127.0.0.1 - - [29/Aug/2024 23:34:42] \"GET /sliders HTTP/1.1\" 200 -\n",
      "127.0.0.1 - - [29/Aug/2024 23:34:42] \"GET /graph-data HTTP/1.1\" 200 -\n",
      "127.0.0.1 - - [29/Aug/2024 23:34:42] \"GET /tree-data HTTP/1.1\" 200 -\n"
     ]
    }
   ],
   "source": [
    "from flask import Flask, render_template, request, jsonify\n",
    "\n",
    "app = Flask(__name__)\n",
    "\n",
    "@app.route('/')\n",
    "def index():\n",
    "    return render_template('index.html')\n",
    "\n",
    "# slider ####################################################################\n",
    "@app.route('/sliders')\n",
    "def sliders():\n",
    "    sliders = [\n",
    "        {\"id\": 1, \"min\": 0, \"max\": 100, \"value\": 50, \"type\": \"i\"},\n",
    "        {\"id\": 2, \"min\": 10, \"max\": 200, \"value\": 60, \"type\": \"f\"},\n",
    "        {\"id\": 3, \"min\": 20, \"max\": 300, \"value\": 70, \"type\": \"i\"},\n",
    "        {\"id\": 4, \"min\": 30, \"max\": 400, \"value\": 80, \"type\": \"f\"},\n",
    "        {\"id\": 5, \"min\": 40, \"max\": 500, \"value\": 90, \"type\": \"f\"}\n",
    "    ]\n",
    "    return jsonify(sliders)\n",
    "\n",
    "@app.route('/submit', methods=['POST'])\n",
    "def submit_slider_values():\n",
    "    data = request.json\n",
    "    print('Received slider values:', data)\n",
    "    # Process the data as needed\n",
    "    return jsonify({'status': 'success', 'received': data})\n",
    "# slider end ####################################################################\n",
    "\n",
    "@app.route('/graph-data')\n",
    "def data():\n",
    "    nodes = [\n",
    "        {\"id\": \"center\", \"x\": 300, \"y\": 200, \"info\": \"Center Node\", \"color\": \"red\"},\n",
    "        {\"id\": \"left\", \"x\": 150, \"y\": 200, \"info\": \"Left Node\", \"color\": \"green\"},\n",
    "        {\"id\": \"top\", \"x\": 300, \"y\": 100, \"info\": \"Top Node\", \"color\": \"pink\"},\n",
    "        {\"id\": \"right1\", \"x\": 450, \"y\": 250, \"info\": \"Right Node 1\", \"color\": \"blue\"},\n",
    "        {\"id\": \"right2\", \"x\": 550, \"y\": 200, \"info\": \"Right Node 2\", \"color\": \"blue\"},\n",
    "        {\"id\": \"bottom1\", \"x\": 300, \"y\": 300, \"info\": \"Bottom Node 1\", \"color\": \"pink\"},\n",
    "        {\"id\": \"bottom2\", \"x\": 250, \"y\": 350, \"info\": \"Bottom Node 2\", \"color\": \"pink\"},\n",
    "        {\"id\": \"bottom3\", \"x\": 350, \"y\": 350, \"info\": \"Bottom Node 3\", \"color\": \"pink\"}\n",
    "    ]\n",
    "    return jsonify(nodes)\n",
    "\n",
    "@app.route('/tree-data')\n",
    "def tree_data():\n",
    "    tree = {\n",
    "        \"name\": \"Root\",\n",
    "        \"children\": [\n",
    "            {\n",
    "                \"name\": \"Child 1\",\n",
    "                \"children\": [\n",
    "                    {\"name\": \"Grandchild 1\"},\n",
    "                    {\"name\": \"Grandchild 2\"}\n",
    "                ]\n",
    "            },\n",
    "            {\n",
    "                \"name\": \"Child 2\",\n",
    "                \"children\": [\n",
    "                    {\"name\": \"Grandchild 3\"},\n",
    "                    {\"name\": \"Grandchild 4\"}\n",
    "                ]\n",
    "            }\n",
    "        ]\n",
    "    }\n",
    "    return jsonify(tree)\n",
    "\n",
    "if __name__ == '__main__':\n",
    "    app.run(port=8123)\n"
   ]
  }
 ],
 "metadata": {
  "kernelspec": {
   "display_name": "Python 3",
   "language": "python",
   "name": "python3"
  },
  "language_info": {
   "codemirror_mode": {
    "name": "ipython",
    "version": 3
   },
   "file_extension": ".py",
   "mimetype": "text/x-python",
   "name": "python",
   "nbconvert_exporter": "python",
   "pygments_lexer": "ipython3",
   "version": "3.12.5"
  }
 },
 "nbformat": 4,
 "nbformat_minor": 2
}
