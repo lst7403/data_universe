{
 "cells": [
  {
   "cell_type": "code",
   "execution_count": 2,
   "metadata": {},
   "outputs": [
    {
     "name": "stderr",
     "output_type": "stream",
     "text": [
      "Werkzeug appears to be used in a production deployment. Consider switching to a production web server instead.\n"
     ]
    },
    {
     "name": "stdout",
     "output_type": "stream",
     "text": [
      " * Serving Flask app '__main__'\n",
      " * Debug mode: off\n"
     ]
    },
    {
     "name": "stderr",
     "output_type": "stream",
     "text": [
      "WARNING: This is a development server. Do not use it in a production deployment. Use a production WSGI server instead.\n",
      " * Running on http://127.0.0.1:5000\n",
      "Press CTRL+C to quit\n",
      "127.0.0.1 - - [29/Aug/2024 23:33:51] \"GET / HTTP/1.1\" 200 -\n",
      "127.0.0.1 - - [29/Aug/2024 23:33:51] \"GET /socket.io/?EIO=4&transport=polling&t=P6UnOYS HTTP/1.1\" 200 -\n",
      "127.0.0.1 - - [29/Aug/2024 23:33:51] \"POST /socket.io/?EIO=4&transport=polling&t=P6UnOZZ&sid=7r-OoBjXdqMy826ZAAAA HTTP/1.1\" 200 -\n",
      "127.0.0.1 - - [29/Aug/2024 23:33:51] \"GET /socket.io/?EIO=4&transport=polling&t=P6UnOZa&sid=7r-OoBjXdqMy826ZAAAA HTTP/1.1\" 200 -\n",
      "127.0.0.1 - - [29/Aug/2024 23:33:51] \"GET /socket.io/?EIO=4&transport=polling&t=P6UnOaO&sid=7r-OoBjXdqMy826ZAAAA HTTP/1.1\" 200 -\n",
      "127.0.0.1 - - [29/Aug/2024 23:33:51] \"GET /favicon.ico HTTP/1.1\" 404 -\n"
     ]
    },
    {
     "name": "stdout",
     "output_type": "stream",
     "text": [
      "Received message: Hello, Server!\n"
     ]
    },
    {
     "name": "stderr",
     "output_type": "stream",
     "text": [
      "127.0.0.1 - - [29/Aug/2024 23:33:55] \"GET /socket.io/?EIO=4&transport=websocket&sid=7r-OoBjXdqMy826ZAAAA HTTP/1.1\" 200 -\n"
     ]
    }
   ],
   "source": [
    "from flask import Flask, render_template\n",
    "from flask_socketio import SocketIO, emit\n",
    "\n",
    "app = Flask(__name__)\n",
    "app.config['SECRET_KEY'] = 'secret!'\n",
    "socketio = SocketIO(app, async_mode='threading')\n",
    "\n",
    "@app.route('/')\n",
    "def index():\n",
    "    return render_template('index.html')\n",
    "\n",
    "@socketio.on('send_message')\n",
    "def handle_send_message(data):\n",
    "    print('Received message:', data)\n",
    "    # Sending a message back to the frontend\n",
    "    emit('response', {'hi': 'Message received and processed!'})\n",
    "\n",
    "if __name__ == '__main__':\n",
    "    socketio.run(app, allow_unsafe_werkzeug=True)\n"
   ]
  }
 ],
 "metadata": {
  "kernelspec": {
   "display_name": "Python 3",
   "language": "python",
   "name": "python3"
  },
  "language_info": {
   "codemirror_mode": {
    "name": "ipython",
    "version": 3
   },
   "file_extension": ".py",
   "mimetype": "text/x-python",
   "name": "python",
   "nbconvert_exporter": "python",
   "pygments_lexer": "ipython3",
   "version": "3.12.5"
  }
 },
 "nbformat": 4,
 "nbformat_minor": 2
}
