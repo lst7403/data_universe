{
 "cells": [
  {
   "cell_type": "code",
   "execution_count": 1,
   "metadata": {},
   "outputs": [
    {
     "name": "stdout",
     "output_type": "stream",
     "text": [
      " * Serving Flask app '__main__'\n",
      " * Debug mode: off\n"
     ]
    },
    {
     "name": "stderr",
     "output_type": "stream",
     "text": [
      "WARNING: This is a development server. Do not use it in a production deployment. Use a production WSGI server instead.\n",
      " * Running on http://127.0.0.1:8888\n",
      "Press CTRL+C to quit\n",
      "127.0.0.1 - - [14/Aug/2024 21:38:14] \"GET / HTTP/1.1\" 200 -\n",
      "127.0.0.1 - - [14/Aug/2024 21:38:15] \"GET /sliders HTTP/1.1\" 200 -\n",
      "127.0.0.1 - - [14/Aug/2024 21:38:15] \"GET /favicon.ico HTTP/1.1\" 404 -\n"
     ]
    }
   ],
   "source": [
    "from flask import Flask, jsonify, send_from_directory\n",
    "\n",
    "app = Flask(__name__, static_folder='static', template_folder='templates')\n",
    "\n",
    "@app.route('/sliders')\n",
    "def sliders():\n",
    "    # Return an array of slider configurations\n",
    "    return jsonify([\n",
    "        {'id': 'slider1', 'min': 0, 'max': 50, 'value': 25},\n",
    "        {'id': 'slider2', 'min': 10, 'max': 100, 'value': 55},\n",
    "        {'id': 'slider3', 'min': -20, 'max': 20, 'value': 0}\n",
    "    ])\n",
    "\n",
    "@app.route('/')\n",
    "def index():\n",
    "    return send_from_directory('templates', 'index.html')\n",
    "\n",
    "if __name__ == '__main__':\n",
    "    app.run(port=8888)\n"
   ]
  }
 ],
 "metadata": {
  "kernelspec": {
   "display_name": "Python 3",
   "language": "python",
   "name": "python3"
  },
  "language_info": {
   "codemirror_mode": {
    "name": "ipython",
    "version": 3
   },
   "file_extension": ".py",
   "mimetype": "text/x-python",
   "name": "python",
   "nbconvert_exporter": "python",
   "pygments_lexer": "ipython3",
   "version": "3.11.9"
  }
 },
 "nbformat": 4,
 "nbformat_minor": 2
}
