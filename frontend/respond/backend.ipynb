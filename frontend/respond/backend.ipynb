{
 "cells": [
  {
   "cell_type": "code",
   "execution_count": 10,
   "metadata": {},
   "outputs": [
    {
     "name": "stdout",
     "output_type": "stream",
     "text": [
      " * Serving Flask app '__main__'\n",
      " * Debug mode: off\n"
     ]
    },
    {
     "name": "stderr",
     "output_type": "stream",
     "text": [
      "WARNING: This is a development server. Do not use it in a production deployment. Use a production WSGI server instead.\n",
      " * Running on http://127.0.0.1:8521\n",
      "Press CTRL+C to quit\n",
      "127.0.0.1 - - [05/Sep/2024 14:16:27] \"GET / HTTP/1.1\" 200 -\n",
      "127.0.0.1 - - [05/Sep/2024 14:16:27] \"GET /data HTTP/1.1\" 200 -\n"
     ]
    }
   ],
   "source": [
    "from flask import Flask, jsonify, render_template\n",
    "\n",
    "app = Flask(__name__)\n",
    "\n",
    "# Sample tree data\n",
    "tree_data = {\n",
    "    'name': 'Root',\n",
    "    'children': [\n",
    "        {'name': 'Child 1', 'children': [\n",
    "            {'name': 'Grandchild 1'},\n",
    "            {'name': 'Grandchild 2'}\n",
    "        ]},\n",
    "        {'name': 'Child 2', 'children': [\n",
    "            {'name': 'Grandchild 3'},\n",
    "            {'name': 'Grandchild 4'}\n",
    "        ]}\n",
    "    ]\n",
    "}\n",
    "\n",
    "@app.route('/')\n",
    "def index():\n",
    "    return render_template('index.html')\n",
    "\n",
    "@app.route('/data')\n",
    "def get_data():\n",
    "    return jsonify(tree_data)\n",
    "\n",
    "if __name__ == '__main__':\n",
    "    app.run(port=8521)\n"
   ]
  }
 ],
 "metadata": {
  "kernelspec": {
   "display_name": "Python 3",
   "language": "python",
   "name": "python3"
  },
  "language_info": {
   "codemirror_mode": {
    "name": "ipython",
    "version": 3
   },
   "file_extension": ".py",
   "mimetype": "text/x-python",
   "name": "python",
   "nbconvert_exporter": "python",
   "pygments_lexer": "ipython3",
   "version": "3.11.9"
  }
 },
 "nbformat": 4,
 "nbformat_minor": 2
}
