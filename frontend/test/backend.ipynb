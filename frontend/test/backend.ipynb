{
 "cells": [
  {
   "cell_type": "code",
   "execution_count": 1,
   "metadata": {},
   "outputs": [
    {
     "ename": "ModuleNotFoundError",
     "evalue": "No module named 'flask_socketio'",
     "output_type": "error",
     "traceback": [
      "\u001b[1;31m---------------------------------------------------------------------------\u001b[0m",
      "\u001b[1;31mModuleNotFoundError\u001b[0m                       Traceback (most recent call last)",
      "Cell \u001b[1;32mIn[1], line 3\u001b[0m\n\u001b[0;32m      1\u001b[0m \u001b[38;5;66;03m# app.py\u001b[39;00m\n\u001b[0;32m      2\u001b[0m \u001b[38;5;28;01mfrom\u001b[39;00m \u001b[38;5;21;01mflask\u001b[39;00m \u001b[38;5;28;01mimport\u001b[39;00m Flask, render_template\n\u001b[1;32m----> 3\u001b[0m \u001b[38;5;28;01mfrom\u001b[39;00m \u001b[38;5;21;01mflask_socketio\u001b[39;00m \u001b[38;5;28;01mimport\u001b[39;00m SocketIO, emit\n\u001b[0;32m      5\u001b[0m app \u001b[38;5;241m=\u001b[39m Flask(\u001b[38;5;18m__name__\u001b[39m)\n\u001b[0;32m      6\u001b[0m socketio \u001b[38;5;241m=\u001b[39m SocketIO(app)\n",
      "\u001b[1;31mModuleNotFoundError\u001b[0m: No module named 'flask_socketio'"
     ]
    }
   ],
   "source": [
    "# app.py\n",
    "from flask import Flask, render_template\n",
    "from flask_socketio import SocketIO, emit\n",
    "\n",
    "app = Flask(__name__)\n",
    "socketio = SocketIO(app)\n",
    "\n",
    "@app.route('/')\n",
    "def index():\n",
    "    return render_template('index.html')\n",
    "\n",
    "# Endpoint to simulate data change\n",
    "@app.route('/update-data')\n",
    "def update_data():\n",
    "    new_data = {\n",
    "        # Your updated data here\n",
    "        'nodes': [{'id': 1, 'label': 'Node 1'}, {'id': 2, 'label': 'Node 2'}],\n",
    "        'links': [{'source': 1, 'target': 2}]\n",
    "    }\n",
    "    socketio.emit('update_graph', new_data)\n",
    "    return \"Data updated!\"\n",
    "\n",
    "if __name__ == '__main__':\n",
    "    socketio.run(app)\n"
   ]
  }
 ],
 "metadata": {
  "kernelspec": {
   "display_name": "Python 3",
   "language": "python",
   "name": "python3"
  },
  "language_info": {
   "codemirror_mode": {
    "name": "ipython",
    "version": 3
   },
   "file_extension": ".py",
   "mimetype": "text/x-python",
   "name": "python",
   "nbconvert_exporter": "python",
   "pygments_lexer": "ipython3",
   "version": "3.11.9"
  }
 },
 "nbformat": 4,
 "nbformat_minor": 2
}
